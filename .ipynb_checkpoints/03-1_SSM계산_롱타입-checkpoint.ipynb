{
 "cells": [
  {
   "cell_type": "markdown",
   "id": "7bbb1b30-bf75-4ceb-bbaa-180407492126",
   "metadata": {},
   "source": [
    "# SSM 계산 : 차량 페어, 롱타입\n",
    "* Heatmap으로 나타내기\n",
    "* 시공도로 나타내기"
   ]
  },
  {
   "cell_type": "markdown",
   "id": "0ef842f1-952a-4871-a5b4-7f6f6f6f7ea8",
   "metadata": {},
   "source": [
    "# Import"
   ]
  },
  {
   "cell_type": "code",
   "execution_count": 2,
   "id": "f338fe77-1cf1-4a41-83b7-a5e506c649e9",
   "metadata": {
    "execution": {
     "iopub.execute_input": "2023-12-02T07:43:23.590407Z",
     "iopub.status.busy": "2023-12-02T07:43:23.590407Z",
     "iopub.status.idle": "2023-12-02T07:43:24.650300Z",
     "shell.execute_reply": "2023-12-02T07:43:24.650300Z",
     "shell.execute_reply.started": "2023-12-02T07:43:23.590407Z"
    },
    "tags": []
   },
   "outputs": [],
   "source": [
    "import pandas as pd\n",
    "import numpy as np\n",
    "\n",
    "from tqdm import tqdm\n",
    "import warnings\n",
    "import os\n",
    "\n",
    "import math # arctangent; math.atan 사용 목적\n",
    "import statistics\n",
    "\n",
    "from SSM_base import *\n",
    "from SSM_time_based import *\n",
    "from SSM_deceleration_based import *\n",
    "from SSM_energy_based import *\n",
    "\n",
    "import pyarrow.parquet as pq\n",
    "#df = pq.read_pandas('data.parquet').to_pandas()"
   ]
  },
  {
   "cell_type": "code",
   "execution_count": 3,
   "id": "34eb98d6-058d-425b-a404-a956020e0d4d",
   "metadata": {
    "execution": {
     "iopub.execute_input": "2023-12-02T07:43:24.652296Z",
     "iopub.status.busy": "2023-12-02T07:43:24.652296Z",
     "iopub.status.idle": "2023-12-02T07:43:24.666259Z",
     "shell.execute_reply": "2023-12-02T07:43:24.666259Z",
     "shell.execute_reply.started": "2023-12-02T07:43:24.652296Z"
    }
   },
   "outputs": [],
   "source": [
    "#warnings.filterwarnings('ignore')"
   ]
  },
  {
   "cell_type": "markdown",
   "id": "e2f498ef-0185-4e3c-bdd0-94e30067b58f",
   "metadata": {
    "tags": []
   },
   "source": [
    "# Load Dataset"
   ]
  },
  {
   "cell_type": "code",
   "execution_count": 4,
   "id": "feb03977-a4ef-4579-9b19-98fba5e090bc",
   "metadata": {
    "execution": {
     "iopub.execute_input": "2023-12-02T07:43:24.667256Z",
     "iopub.status.busy": "2023-12-02T07:43:24.667256Z",
     "iopub.status.idle": "2023-12-02T07:43:24.683362Z",
     "shell.execute_reply": "2023-12-02T07:43:24.682216Z",
     "shell.execute_reply.started": "2023-12-02T07:43:24.667256Z"
    },
    "tags": []
   },
   "outputs": [],
   "source": [
    "working_dir = 'D:/OneDrive/Projects/2023_SSM_Feasibility/Dataset'"
   ]
  },
  {
   "cell_type": "code",
   "execution_count": 5,
   "id": "e21584b4-6173-41ad-b43d-7fb484da49f2",
   "metadata": {
    "execution": {
     "iopub.execute_input": "2023-12-02T07:43:24.685362Z",
     "iopub.status.busy": "2023-12-02T07:43:24.684365Z",
     "iopub.status.idle": "2023-12-02T07:43:24.699214Z",
     "shell.execute_reply": "2023-12-02T07:43:24.698217Z",
     "shell.execute_reply.started": "2023-12-02T07:43:24.685362Z"
    },
    "tags": []
   },
   "outputs": [],
   "source": [
    "folder_name = '02_processed_long'\n",
    "file_name = 'merging_type1_03frm_0.10sec.parquet'\n",
    "file_path = os.path.join(working_dir, folder_name, file_name)"
   ]
  },
  {
   "cell_type": "code",
   "execution_count": 6,
   "id": "0392504e-5eb6-44b3-b784-842e9eaf13d6",
   "metadata": {
    "execution": {
     "iopub.execute_input": "2023-12-02T07:43:24.702212Z",
     "iopub.status.busy": "2023-12-02T07:43:24.702212Z",
     "iopub.status.idle": "2023-12-02T07:43:24.838549Z",
     "shell.execute_reply": "2023-12-02T07:43:24.838549Z",
     "shell.execute_reply.started": "2023-12-02T07:43:24.702212Z"
    },
    "tags": []
   },
   "outputs": [],
   "source": [
    "df = pq.read_pandas(file_path).to_pandas()\n",
    "\n",
    "df.rename({'LV_V_len' : 'LV_len',\n",
    "           'LV_V_wid' : 'LV_wid'}, axis = 1, inplace = True)"
   ]
  },
  {
   "cell_type": "code",
   "execution_count": 7,
   "id": "78c5566a-6413-4aaf-a1a7-a3cc9f690c1b",
   "metadata": {
    "execution": {
     "iopub.execute_input": "2023-12-02T07:43:24.840545Z",
     "iopub.status.busy": "2023-12-02T07:43:24.839553Z",
     "iopub.status.idle": "2023-12-02T07:43:24.871465Z",
     "shell.execute_reply": "2023-12-02T07:43:24.870466Z",
     "shell.execute_reply.started": "2023-12-02T07:43:24.840545Z"
    },
    "tags": []
   },
   "outputs": [
    {
     "data": {
      "text/html": [
       "<div>\n",
       "<style scoped>\n",
       "    .dataframe tbody tr th:only-of-type {\n",
       "        vertical-align: middle;\n",
       "    }\n",
       "\n",
       "    .dataframe tbody tr th {\n",
       "        vertical-align: top;\n",
       "    }\n",
       "\n",
       "    .dataframe thead th {\n",
       "        text-align: right;\n",
       "    }\n",
       "</style>\n",
       "<table border=\"1\" class=\"dataframe\">\n",
       "  <thead>\n",
       "    <tr style=\"text-align: right;\">\n",
       "      <th></th>\n",
       "      <th>pair</th>\n",
       "      <th>veh_id</th>\n",
       "      <th>LV_ID</th>\n",
       "      <th>frm</th>\n",
       "      <th>LV_type</th>\n",
       "      <th>local_x</th>\n",
       "      <th>local_y</th>\n",
       "      <th>V_len</th>\n",
       "      <th>V_wid</th>\n",
       "      <th>velocity</th>\n",
       "      <th>...</th>\n",
       "      <th>LV_Lane_00</th>\n",
       "      <th>LV_Lane_99</th>\n",
       "      <th>LV_Lane_change</th>\n",
       "      <th>LV_Lane_leave</th>\n",
       "      <th>LV_Lane_change_direction</th>\n",
       "      <th>LV_LC_CF</th>\n",
       "      <th>D_x</th>\n",
       "      <th>D_y</th>\n",
       "      <th>D</th>\n",
       "      <th>D_gap</th>\n",
       "    </tr>\n",
       "  </thead>\n",
       "  <tbody>\n",
       "    <tr>\n",
       "      <th>0</th>\n",
       "      <td>1000_994</td>\n",
       "      <td>1000</td>\n",
       "      <td>994</td>\n",
       "      <td>17469</td>\n",
       "      <td>LVL</td>\n",
       "      <td>181.875</td>\n",
       "      <td>21.56250</td>\n",
       "      <td>7.09375</td>\n",
       "      <td>2.064453</td>\n",
       "      <td>104.375</td>\n",
       "      <td>...</td>\n",
       "      <td>U3</td>\n",
       "      <td>U3</td>\n",
       "      <td>None</td>\n",
       "      <td>None</td>\n",
       "      <td>Straight</td>\n",
       "      <td>CF</td>\n",
       "      <td>21.125</td>\n",
       "      <td>-7.820312</td>\n",
       "      <td>22.526051</td>\n",
       "      <td>-0.461596</td>\n",
       "    </tr>\n",
       "    <tr>\n",
       "      <th>1</th>\n",
       "      <td>1000_994</td>\n",
       "      <td>1000</td>\n",
       "      <td>994</td>\n",
       "      <td>17463</td>\n",
       "      <td>LVL</td>\n",
       "      <td>176.125</td>\n",
       "      <td>21.46875</td>\n",
       "      <td>7.09375</td>\n",
       "      <td>2.064453</td>\n",
       "      <td>104.000</td>\n",
       "      <td>...</td>\n",
       "      <td>U3</td>\n",
       "      <td>U3</td>\n",
       "      <td>None</td>\n",
       "      <td>None</td>\n",
       "      <td>Straight</td>\n",
       "      <td>CF</td>\n",
       "      <td>22.250</td>\n",
       "      <td>-7.773438</td>\n",
       "      <td>23.568811</td>\n",
       "      <td>-0.701797</td>\n",
       "    </tr>\n",
       "    <tr>\n",
       "      <th>2</th>\n",
       "      <td>1000_994</td>\n",
       "      <td>1000</td>\n",
       "      <td>994</td>\n",
       "      <td>17460</td>\n",
       "      <td>LVL</td>\n",
       "      <td>173.125</td>\n",
       "      <td>21.40625</td>\n",
       "      <td>7.09375</td>\n",
       "      <td>2.064453</td>\n",
       "      <td>104.125</td>\n",
       "      <td>...</td>\n",
       "      <td>U3</td>\n",
       "      <td>U3</td>\n",
       "      <td>None</td>\n",
       "      <td>None</td>\n",
       "      <td>Straight</td>\n",
       "      <td>CF</td>\n",
       "      <td>23.000</td>\n",
       "      <td>-7.750000</td>\n",
       "      <td>24.270609</td>\n",
       "      <td>-0.593082</td>\n",
       "    </tr>\n",
       "  </tbody>\n",
       "</table>\n",
       "<p>3 rows × 67 columns</p>\n",
       "</div>"
      ],
      "text/plain": [
       "       pair  veh_id  LV_ID    frm LV_type  local_x   local_y    V_len  \\\n",
       "0  1000_994    1000    994  17469     LVL  181.875  21.56250  7.09375   \n",
       "1  1000_994    1000    994  17463     LVL  176.125  21.46875  7.09375   \n",
       "2  1000_994    1000    994  17460     LVL  173.125  21.40625  7.09375   \n",
       "\n",
       "      V_wid  velocity  ...  LV_Lane_00 LV_Lane_99  LV_Lane_change  \\\n",
       "0  2.064453   104.375  ...          U3         U3            None   \n",
       "1  2.064453   104.000  ...          U3         U3            None   \n",
       "2  2.064453   104.125  ...          U3         U3            None   \n",
       "\n",
       "   LV_Lane_leave  LV_Lane_change_direction  LV_LC_CF     D_x       D_y  \\\n",
       "0           None                  Straight        CF  21.125 -7.820312   \n",
       "1           None                  Straight        CF  22.250 -7.773438   \n",
       "2           None                  Straight        CF  23.000 -7.750000   \n",
       "\n",
       "           D     D_gap  \n",
       "0  22.526051 -0.461596  \n",
       "1  23.568811 -0.701797  \n",
       "2  24.270609 -0.593082  \n",
       "\n",
       "[3 rows x 67 columns]"
      ]
     },
     "execution_count": 7,
     "metadata": {},
     "output_type": "execute_result"
    }
   ],
   "source": [
    "df.head(3)"
   ]
  },
  {
   "cell_type": "code",
   "execution_count": 8,
   "id": "8ea3d7c5-5033-4278-be4e-792daa44fafc",
   "metadata": {
    "execution": {
     "iopub.execute_input": "2023-12-02T07:43:24.872462Z",
     "iopub.status.busy": "2023-12-02T07:43:24.872462Z",
     "iopub.status.idle": "2023-12-02T07:43:24.887425Z",
     "shell.execute_reply": "2023-12-02T07:43:24.886427Z",
     "shell.execute_reply.started": "2023-12-02T07:43:24.872462Z"
    },
    "tags": []
   },
   "outputs": [
    {
     "data": {
      "text/plain": [
       "['pair',\n",
       " 'veh_id',\n",
       " 'LV_ID',\n",
       " 'frm',\n",
       " 'LV_type',\n",
       " 'local_x',\n",
       " 'local_y',\n",
       " 'V_len',\n",
       " 'V_wid',\n",
       " 'velocity',\n",
       " 'acc',\n",
       " 'lane',\n",
       " 'Time',\n",
       " 'local_x_before',\n",
       " 'local_y_before',\n",
       " 'delta_local_x',\n",
       " 'delta_local_y',\n",
       " 'velocity_x',\n",
       " 'velocity_y',\n",
       " 'velocity_x_before',\n",
       " 'velocity_y_before',\n",
       " 'delta_velocity_x',\n",
       " 'delta_velocity_y',\n",
       " 'acc_x',\n",
       " 'acc_y',\n",
       " 'lane_past',\n",
       " 'Lane_record',\n",
       " 'Lane_record_split',\n",
       " 'Lane_00',\n",
       " 'Lane_99',\n",
       " 'Lane_change',\n",
       " 'Lane_leave',\n",
       " 'Lane_change_direction',\n",
       " 'LC_CF',\n",
       " 'LV_local_x',\n",
       " 'LV_local_y',\n",
       " 'LV_len',\n",
       " 'LV_wid',\n",
       " 'LV_velocity',\n",
       " 'LV_acc',\n",
       " 'LV_lane',\n",
       " 'LV_Time',\n",
       " 'LV_local_x_before',\n",
       " 'LV_local_y_before',\n",
       " 'LV_delta_local_x',\n",
       " 'LV_delta_local_y',\n",
       " 'LV_velocity_x',\n",
       " 'LV_velocity_y',\n",
       " 'LV_velocity_x_before',\n",
       " 'LV_velocity_y_before',\n",
       " 'LV_delta_velocity_x',\n",
       " 'LV_delta_velocity_y',\n",
       " 'LV_acc_x',\n",
       " 'LV_acc_y',\n",
       " 'LV_lane_past',\n",
       " 'LV_Lane_record',\n",
       " 'LV_Lane_record_split',\n",
       " 'LV_Lane_00',\n",
       " 'LV_Lane_99',\n",
       " 'LV_Lane_change',\n",
       " 'LV_Lane_leave',\n",
       " 'LV_Lane_change_direction',\n",
       " 'LV_LC_CF',\n",
       " 'D_x',\n",
       " 'D_y',\n",
       " 'D',\n",
       " 'D_gap']"
      ]
     },
     "execution_count": 8,
     "metadata": {},
     "output_type": "execute_result"
    }
   ],
   "source": [
    "list(df.columns)"
   ]
  },
  {
   "cell_type": "markdown",
   "id": "2e2de69a-7ebf-4d3e-83f4-2190783e3618",
   "metadata": {},
   "source": [
    "# Calculation"
   ]
  },
  {
   "cell_type": "markdown",
   "id": "6e18e1d3-f476-4ba9-8b2a-edf90aebf675",
   "metadata": {},
   "source": [
    "## Settings\n",
    "* 공통 상수 설정"
   ]
  },
  {
   "cell_type": "code",
   "execution_count": 28,
   "id": "505e1aa7-be7c-4162-921b-05ae358335fb",
   "metadata": {
    "execution": {
     "iopub.execute_input": "2023-12-02T07:51:33.810364Z",
     "iopub.status.busy": "2023-12-02T07:51:33.808370Z",
     "iopub.status.idle": "2023-12-02T07:51:33.824337Z",
     "shell.execute_reply": "2023-12-02T07:51:33.823352Z",
     "shell.execute_reply.started": "2023-12-02T07:51:33.809366Z"
    },
    "tags": []
   },
   "outputs": [],
   "source": [
    "threshold_TTC = 3 # time-based SSM 임계값\n",
    "threshold_DRAC = 3.4\n",
    "threshold_PET = 1\n",
    "\n",
    "tmsec = 0.1 # 각 row별 시간단위(초)\n",
    "g = 9.81 # 중력가속도\n",
    "f = 0.35 # 마찰계수. friction coeefficient\n",
    "delta_t = 1 # Reaction Delay time. 운전자 반응시간\n",
    "MADR = 8.45 # 차량의 최대 감속 능력. 날씨에 따라, 차종에 따라 다르다. Saccomanno et al.(2008) 참조\n",
    "deceleration_rate = 0.3 * g # 차량 감속도. 3.3도 됨"
   ]
  },
  {
   "cell_type": "markdown",
   "id": "e502955e-7452-4d69-b363-3bd91e73c0b5",
   "metadata": {
    "tags": []
   },
   "source": [
    "## Time-based SSM\n",
    "* Temporal Proximal Indicator"
   ]
  },
  {
   "cell_type": "code",
   "execution_count": 10,
   "id": "05a95f59-5213-4455-bc63-b4eb0e806295",
   "metadata": {
    "execution": {
     "iopub.execute_input": "2023-12-02T07:43:24.904378Z",
     "iopub.status.busy": "2023-12-02T07:43:24.904378Z",
     "iopub.status.idle": "2023-12-02T07:43:24.918370Z",
     "shell.execute_reply": "2023-12-02T07:43:24.918370Z",
     "shell.execute_reply.started": "2023-12-02T07:43:24.904378Z"
    },
    "tags": []
   },
   "outputs": [],
   "source": [
    "tqdm.pandas()"
   ]
  },
  {
   "cell_type": "code",
   "execution_count": 11,
   "id": "9744ff3a-83b0-4a5a-92aa-d5cb3fae1c3e",
   "metadata": {
    "execution": {
     "iopub.execute_input": "2023-12-02T07:43:24.920337Z",
     "iopub.status.busy": "2023-12-02T07:43:24.919368Z",
     "iopub.status.idle": "2023-12-02T07:43:43.193746Z",
     "shell.execute_reply": "2023-12-02T07:43:43.193746Z",
     "shell.execute_reply.started": "2023-12-02T07:43:24.920337Z"
    },
    "tags": []
   },
   "outputs": [
    {
     "name": "stderr",
     "output_type": "stream",
     "text": [
      "100%|███████████████████████████████████████████████████████████████████████| 156096/156096 [00:09<00:00, 17040.36it/s]\n",
      "100%|███████████████████████████████████████████████████████████████████████| 156096/156096 [00:08<00:00, 18359.83it/s]\n"
     ]
    }
   ],
   "source": [
    "# 꼭지점 4개 만들기\n",
    "# 각 차량의 1,2,3,4번 꼭지점 좌표를 구한다.\n",
    "df['V_point_1'], df['V_point_2'], df['V_point_3'], df['V_point_4'] = zip(*df.progress_apply(lambda x: points(x.local_x, x.local_y, x.velocity_x, x.velocity_y, x.V_wid, x.V_len), axis = 1))\n",
    "df['LV_point_1'], df['LV_point_2'], df['LV_point_3'], df['LV_point_4'] = zip(*df.progress_apply(lambda x: points(x.LV_local_x, x.LV_local_y, x.LV_velocity_x, x.LV_velocity_y, x.LV_wid, x.LV_len), axis = 1))"
   ]
  },
  {
   "cell_type": "code",
   "execution_count": 12,
   "id": "a4f7ea9e-89c4-4e2c-b985-8a5b5626240f",
   "metadata": {
    "execution": {
     "iopub.execute_input": "2023-12-02T07:43:43.195742Z",
     "iopub.status.busy": "2023-12-02T07:43:43.194746Z",
     "iopub.status.idle": "2023-12-02T07:43:58.956444Z",
     "shell.execute_reply": "2023-12-02T07:43:58.956444Z",
     "shell.execute_reply.started": "2023-12-02T07:43:43.195742Z"
    },
    "tags": []
   },
   "outputs": [
    {
     "name": "stderr",
     "output_type": "stream",
     "text": [
      "100%|███████████████████████████████████████████████████████████████████████| 156096/156096 [00:15<00:00, 10120.17it/s]\n"
     ]
    }
   ],
   "source": [
    "## Nearest_point 추출\n",
    "df['V_LV_point_num'], df['V_LV_point_n'], df['LV_point_n'], df['V_LV_point_num2'], df['V_LV_point_n2'], df['LV_point_n2'] = zip(*df.progress_apply(lambda x: nearest_point(x.V_point_1, x.V_point_2, x.V_point_3, x.V_point_4, x.LV_point_1, x.LV_point_2, x.LV_point_3, x.LV_point_4), axis = 1))"
   ]
  },
  {
   "cell_type": "code",
   "execution_count": 13,
   "id": "3cc949e6-fd51-4a5b-b055-7a5f54a9bd7d",
   "metadata": {
    "execution": {
     "iopub.execute_input": "2023-12-02T07:43:58.957472Z",
     "iopub.status.busy": "2023-12-02T07:43:58.957472Z",
     "iopub.status.idle": "2023-12-02T07:44:13.666849Z",
     "shell.execute_reply": "2023-12-02T07:44:13.666849Z",
     "shell.execute_reply.started": "2023-12-02T07:43:58.957472Z"
    },
    "tags": []
   },
   "outputs": [
    {
     "name": "stderr",
     "output_type": "stream",
     "text": [
      "100%|███████████████████████████████████████████████████████████████████████| 156096/156096 [00:14<00:00, 10776.20it/s]\n"
     ]
    }
   ],
   "source": [
    "## Shortest Distance 구하기 : ACT 용\n",
    "df['V_LV_point_delta'], df['V_LV_shortest_vector'], df['V_LV_shortest_distance'] = zip(*df.progress_apply(lambda x: shortest_distance(\n",
    "    x.V_LV_point_num, x.V_LV_point_n, x.LV_point_n, \n",
    "    x.V_point_1, x.V_point_2, x.V_point_3, x.V_point_4, \n",
    "    x.LV_point_1, x.LV_point_2, x.LV_point_3, x.LV_point_4), axis = 1))"
   ]
  },
  {
   "cell_type": "code",
   "execution_count": 14,
   "id": "5febfb27-5658-4099-84cf-4c3543f7ac27",
   "metadata": {
    "execution": {
     "iopub.execute_input": "2023-12-02T07:44:13.667878Z",
     "iopub.status.busy": "2023-12-02T07:44:13.667878Z",
     "iopub.status.idle": "2023-12-02T07:44:44.597109Z",
     "shell.execute_reply": "2023-12-02T07:44:44.596139Z",
     "shell.execute_reply.started": "2023-12-02T07:44:13.667878Z"
    }
   },
   "outputs": [
    {
     "name": "stderr",
     "output_type": "stream",
     "text": [
      "100%|███████████████████████████████████████████████████████████████████████| 156096/156096 [00:13<00:00, 11233.11it/s]\n",
      "100%|████████████████████████████████████████████████████████████████████████| 156096/156096 [00:16<00:00, 9223.16it/s]\n"
     ]
    }
   ],
   "source": [
    "df['overlap'] = df.progress_apply(lambda x: overlap(x.LV_type, x.V_LV_point_num, x.V_LV_point_num2, x.velocity_x, x.velocity_y, x.LV_velocity_x, x.LV_velocity_y, x.local_x, x.local_y, x.LV_local_x, x.LV_local_y, x.V_len, x.LV_len), axis = 1)\n",
    "\n",
    "df['potential_conflict_type'], df['degX'] = zip(*df.progress_apply(lambda x: potential_conflict_type(x.LV_type, x.overlap, x.V_LV_point_num, x.V_LV_point_num2, x.velocity_x, x.velocity_y, x.LV_velocity_x, x.LV_velocity_y, x.local_x, x.local_y, x.LV_local_x, x.LV_local_y, x.V_len, x.V_wid, x.LV_len, x.LV_wid), axis = 1))"
   ]
  },
  {
   "cell_type": "code",
   "execution_count": 15,
   "id": "d3488d14-6dfc-4098-bb79-ffc9c7037971",
   "metadata": {
    "execution": {
     "iopub.execute_input": "2023-12-02T07:44:44.600110Z",
     "iopub.status.busy": "2023-12-02T07:44:44.600110Z",
     "iopub.status.idle": "2023-12-02T07:45:23.707660Z",
     "shell.execute_reply": "2023-12-02T07:45:23.707660Z",
     "shell.execute_reply.started": "2023-12-02T07:44:44.600110Z"
    },
    "tags": []
   },
   "outputs": [
    {
     "name": "stderr",
     "output_type": "stream",
     "text": [
      "100%|████████████████████████████████████████████████████████████████████████| 156096/156096 [00:39<00:00, 3993.31it/s]\n"
     ]
    }
   ],
   "source": [
    "# 2차원 SSM\n",
    "df['T2'] = df.progress_apply(lambda x: T2(\n",
    "    x.V_LV_point_num, x.V_LV_point_n, x.LV_point_n, \n",
    "    x.V_point_1, x.V_point_2, x.V_point_3, x.V_point_4, \n",
    "    x.LV_point_1, x.LV_point_2, x.LV_point_3, x.LV_point_4,\n",
    "    x.velocity_x, x.velocity_y, x.LV_velocity_x, x.LV_velocity_y), axis = 1)"
   ]
  },
  {
   "cell_type": "code",
   "execution_count": 16,
   "id": "bbfa0ff3-128d-4107-911f-2980d60e5b00",
   "metadata": {
    "execution": {
     "iopub.execute_input": "2023-12-02T07:45:23.709656Z",
     "iopub.status.busy": "2023-12-02T07:45:23.708657Z",
     "iopub.status.idle": "2023-12-02T07:45:23.724616Z",
     "shell.execute_reply": "2023-12-02T07:45:23.723618Z",
     "shell.execute_reply.started": "2023-12-02T07:45:23.708657Z"
    }
   },
   "outputs": [],
   "source": [
    "#df[['ip1', 'ip2', 'cos_theta', 'theta', 'degX', 'potential_conflict_type']]"
   ]
  },
  {
   "cell_type": "code",
   "execution_count": 17,
   "id": "562a464c-946a-4928-b6e3-2b7e54161461",
   "metadata": {
    "execution": {
     "iopub.execute_input": "2023-12-02T07:45:23.725614Z",
     "iopub.status.busy": "2023-12-02T07:45:23.725614Z",
     "iopub.status.idle": "2023-12-02T07:46:02.611123Z",
     "shell.execute_reply": "2023-12-02T07:46:02.610085Z",
     "shell.execute_reply.started": "2023-12-02T07:45:23.725614Z"
    },
    "tags": []
   },
   "outputs": [
    {
     "name": "stderr",
     "output_type": "stream",
     "text": [
      "100%|███████████████████████████████████████████████████████████████████████| 156096/156096 [00:14<00:00, 10974.05it/s]\n",
      "100%|████████████████████████████████████████████████████████████████████████| 156096/156096 [00:16<00:00, 9508.11it/s]\n",
      "100%|███████████████████████████████████████████████████████████████████████| 156096/156096 [00:08<00:00, 18986.70it/s]\n"
     ]
    }
   ],
   "source": [
    "df['TTC'] = df.progress_apply(lambda x: TTC(x.potential_conflict_type, x.LV_type, x.local_x, x.LV_local_x, x.velocity_x, x.LV_velocity_x, x.V_len, x.LV_len, x.V_wid, x.LV_wid, x.local_y, x.LV_local_y, x.velocity_y, x.LV_velocity_y), axis = 1)\n",
    "\n",
    "df['MTTC'] = df.progress_apply(lambda x: MTTC(x.potential_conflict_type, x.LV_type, x.local_x, x.LV_local_x, x.velocity_x, x.LV_velocity_x, x.acc_x, x.LV_acc_x, x.V_len, x.LV_len, x.V_wid, x.LV_wid, x.local_y, x.LV_local_y, x.velocity_y, x.LV_velocity_y), axis = 1)\n",
    "\n",
    "df['CI_MTTC'] = df.progress_apply(lambda x: CI_MTTC(x.local_x, x.LV_local_x, x.velocity, x.LV_velocity, x.acc_x, x.LV_acc_x, x.MTTC), axis = 1)"
   ]
  },
  {
   "cell_type": "code",
   "execution_count": 18,
   "id": "5e71dbb7-73fb-4a76-965b-02bd94bce894",
   "metadata": {
    "execution": {
     "iopub.execute_input": "2023-12-02T07:46:02.612077Z",
     "iopub.status.busy": "2023-12-02T07:46:02.611123Z",
     "iopub.status.idle": "2023-12-02T07:46:02.627040Z",
     "shell.execute_reply": "2023-12-02T07:46:02.626041Z",
     "shell.execute_reply.started": "2023-12-02T07:46:02.612077Z"
    }
   },
   "outputs": [
    {
     "data": {
      "text/plain": [
       "Index(['pair', 'veh_id', 'LV_ID', 'frm', 'LV_type', 'local_x', 'local_y',\n",
       "       'V_len', 'V_wid', 'velocity', 'acc', 'lane', 'Time', 'local_x_before',\n",
       "       'local_y_before', 'delta_local_x', 'delta_local_y', 'velocity_x',\n",
       "       'velocity_y', 'velocity_x_before', 'velocity_y_before',\n",
       "       'delta_velocity_x', 'delta_velocity_y', 'acc_x', 'acc_y', 'lane_past',\n",
       "       'Lane_record', 'Lane_record_split', 'Lane_00', 'Lane_99', 'Lane_change',\n",
       "       'Lane_leave', 'Lane_change_direction', 'LC_CF', 'LV_local_x',\n",
       "       'LV_local_y', 'LV_len', 'LV_wid', 'LV_velocity', 'LV_acc', 'LV_lane',\n",
       "       'LV_Time', 'LV_local_x_before', 'LV_local_y_before', 'LV_delta_local_x',\n",
       "       'LV_delta_local_y', 'LV_velocity_x', 'LV_velocity_y',\n",
       "       'LV_velocity_x_before', 'LV_velocity_y_before', 'LV_delta_velocity_x',\n",
       "       'LV_delta_velocity_y', 'LV_acc_x', 'LV_acc_y', 'LV_lane_past',\n",
       "       'LV_Lane_record', 'LV_Lane_record_split', 'LV_Lane_00', 'LV_Lane_99',\n",
       "       'LV_Lane_change', 'LV_Lane_leave', 'LV_Lane_change_direction',\n",
       "       'LV_LC_CF', 'D_x', 'D_y', 'D', 'D_gap', 'V_point_1', 'V_point_2',\n",
       "       'V_point_3', 'V_point_4', 'LV_point_1', 'LV_point_2', 'LV_point_3',\n",
       "       'LV_point_4', 'V_LV_point_num', 'V_LV_point_n', 'LV_point_n',\n",
       "       'V_LV_point_num2', 'V_LV_point_n2', 'LV_point_n2', 'V_LV_point_delta',\n",
       "       'V_LV_shortest_vector', 'V_LV_shortest_distance', 'overlap',\n",
       "       'potential_conflict_type', 'degX', 'T2', 'TTC', 'MTTC', 'CI_MTTC'],\n",
       "      dtype='object')"
      ]
     },
     "execution_count": 18,
     "metadata": {},
     "output_type": "execute_result"
    }
   ],
   "source": [
    "df.columns"
   ]
  },
  {
   "cell_type": "code",
   "execution_count": 19,
   "id": "87d96e9d-8eb9-4c71-9bc4-c68da9964634",
   "metadata": {
    "execution": {
     "iopub.execute_input": "2023-12-02T07:46:02.628035Z",
     "iopub.status.busy": "2023-12-02T07:46:02.628035Z",
     "iopub.status.idle": "2023-12-02T07:46:21.806738Z",
     "shell.execute_reply": "2023-12-02T07:46:21.805740Z",
     "shell.execute_reply.started": "2023-12-02T07:46:02.628035Z"
    },
    "tags": []
   },
   "outputs": [
    {
     "name": "stderr",
     "output_type": "stream",
     "text": [
      "100%|████████████████████████████████████████████████████████████████████████| 156096/156096 [00:18<00:00, 8236.39it/s]\n"
     ]
    }
   ],
   "source": [
    "df['ACT'], df['total_rel'], df['d_delta'] = zip(*df.progress_apply(lambda x: ACT(\n",
    "    x.velocity_x, x.velocity_y, x.velocity_x_before, x.velocity_y_before,\n",
    "    x.LV_velocity_x, x.LV_velocity_y, x.LV_velocity_x_before, x.LV_velocity_y_before,\n",
    "    x.acc_x, x.acc_y, x.LV_acc_x, x.LV_acc_y, \n",
    "    x.V_LV_shortest_vector, x.V_LV_shortest_distance), axis = 1))"
   ]
  },
  {
   "cell_type": "code",
   "execution_count": 20,
   "id": "b0edef03-c40e-4dd4-b850-8a5e4b762311",
   "metadata": {
    "execution": {
     "iopub.execute_input": "2023-12-02T07:46:21.807734Z",
     "iopub.status.busy": "2023-12-02T07:46:21.807734Z",
     "iopub.status.idle": "2023-12-02T07:48:46.384486Z",
     "shell.execute_reply": "2023-12-02T07:48:46.384486Z",
     "shell.execute_reply.started": "2023-12-02T07:46:21.807734Z"
    },
    "tags": []
   },
   "outputs": [
    {
     "name": "stderr",
     "output_type": "stream",
     "text": [
      "100%|████████████████████████████████████████████████████████████████████████| 156096/156096 [02:24<00:00, 1080.95it/s]\n"
     ]
    }
   ],
   "source": [
    "df['pPET'], df['time_gap'] = zip(*df.progress_apply(lambda x: pPET(\n",
    "    x.potential_conflict_type, x.V_LV_point_num, x.V_LV_point_n, x.LV_point_n, \n",
    "    x.V_point_1, x.V_point_2, x.V_point_3, x.V_point_4, \n",
    "    x.LV_point_1, x.LV_point_2, x.LV_point_3, x.LV_point_4,\n",
    "    x.velocity_x, x.velocity_y, x.LV_velocity_x, x.LV_velocity_y), axis = 1))"
   ]
  },
  {
   "cell_type": "code",
   "execution_count": 21,
   "id": "283a3c90-a6a1-48c6-ba89-cd369576eba9",
   "metadata": {
    "execution": {
     "iopub.execute_input": "2023-12-02T07:48:46.385483Z",
     "iopub.status.busy": "2023-12-02T07:48:46.385483Z",
     "iopub.status.idle": "2023-12-02T07:48:46.399754Z",
     "shell.execute_reply": "2023-12-02T07:48:46.399754Z",
     "shell.execute_reply.started": "2023-12-02T07:48:46.385483Z"
    },
    "tags": []
   },
   "outputs": [],
   "source": [
    "#df['TIT2'] = df.progress_apply(lambda x: TIT(x.T2, threshold_TTC, tmsec), axis = 1)\n",
    "#df['TIACT'] = df.progress_apply(lambda x: TIT(x.ACT, threshold_TTC, tmsec), axis = 1)"
   ]
  },
  {
   "cell_type": "code",
   "execution_count": 22,
   "id": "d6f8a88f-d43e-4753-aaec-910a4b834e21",
   "metadata": {
    "execution": {
     "iopub.execute_input": "2023-12-02T07:48:46.400780Z",
     "iopub.status.busy": "2023-12-02T07:48:46.400780Z",
     "iopub.status.idle": "2023-12-02T07:48:46.414598Z",
     "shell.execute_reply": "2023-12-02T07:48:46.414598Z",
     "shell.execute_reply.started": "2023-12-02T07:48:46.400780Z"
    },
    "tags": []
   },
   "outputs": [],
   "source": [
    "# df['SSCR_TTC_prime'] = df.progress_apply(lambda x: SSCR_TTC_prime(\n",
    "#     x.potential_conflict_type, x.V_LV_point_num, x.V_LV_point_n, x.LV_point_n, \n",
    "#     x.V_point_1, x.V_point_2, x.V_point_3, x.V_point_4, \n",
    "#     x.LV_point_1, x.LV_point_2, x.LV_point_3, x.LV_point_4,\n",
    "#     x.velocity_x, x.velocity_y, x.LV_velocity_x, x.LV_velocity_y), axis = 1)"
   ]
  },
  {
   "cell_type": "code",
   "execution_count": 23,
   "id": "647e4f7e-84c7-495d-8161-881ccff85dae",
   "metadata": {
    "execution": {
     "iopub.execute_input": "2023-12-02T07:48:46.415628Z",
     "iopub.status.busy": "2023-12-02T07:48:46.415628Z",
     "iopub.status.idle": "2023-12-02T07:48:46.430116Z",
     "shell.execute_reply": "2023-12-02T07:48:46.430116Z",
     "shell.execute_reply.started": "2023-12-02T07:48:46.415628Z"
    },
    "tags": []
   },
   "outputs": [],
   "source": [
    "# df['SSCR_R'] = df.progress_apply(lambda x: SSCR_R(x.TTC), axis = 1)\n",
    "# df['SSCR_Y'] = df.progress_apply(lambda x: SSCR_Y(x.TTC, x.pPET, x.SSCR_TTC_prime), axis = 1)\n",
    "# df['SSCR'] = df['SSCR_R'] + df['SSCR_Y']\n",
    "\n",
    "# # df = TA(df) # Time to Accident 계산\n",
    "# # df['critical_speed'] = df.apply(lambda x: critical_speed(g, f, x.pPET), axis = 1)\n",
    "# # df['TA_CS'] = df.apply(lambda x: TA_CS(x.TA, x.critical_speed), axis = 1) # TA/CS 계산"
   ]
  },
  {
   "cell_type": "markdown",
   "id": "67bf9bbb-1713-4b0c-a991-81f554076a34",
   "metadata": {},
   "source": [
    "## Deceleration-based SSM"
   ]
  },
  {
   "cell_type": "code",
   "execution_count": 24,
   "id": "0150c10b-6e1e-43bb-96de-ec65301a0f04",
   "metadata": {
    "execution": {
     "iopub.execute_input": "2023-12-02T07:48:46.431147Z",
     "iopub.status.busy": "2023-12-02T07:48:46.431147Z",
     "iopub.status.idle": "2023-12-02T07:49:57.584095Z",
     "shell.execute_reply": "2023-12-02T07:49:57.583097Z",
     "shell.execute_reply.started": "2023-12-02T07:48:46.431147Z"
    },
    "tags": []
   },
   "outputs": [
    {
     "name": "stderr",
     "output_type": "stream",
     "text": [
      "100%|███████████████████████████████████████████████████████████████████████| 156096/156096 [00:14<00:00, 10657.98it/s]\n",
      "100%|███████████████████████████████████████████████████████████████████████| 156096/156096 [00:14<00:00, 10758.30it/s]\n",
      "100%|███████████████████████████████████████████████████████████████████████| 156096/156096 [00:14<00:00, 11141.74it/s]\n",
      "100%|████████████████████████████████████████████████████████████████████████| 156096/156096 [00:15<00:00, 9991.07it/s]\n",
      "100%|███████████████████████████████████████████████████████████████████████| 156096/156096 [00:12<00:00, 12657.45it/s]\n"
     ]
    }
   ],
   "source": [
    "df['PSD'] = df.progress_apply(lambda x: PSD(x.potential_conflict_type, x.LV_type, x.local_x, x.LV_local_x, x.velocity_x, x.LV_velocity_x, x.V_len, x.LV_len, f, g, x.V_wid, x.LV_wid, x.local_y, x.LV_local_y, x.velocity_y, x.LV_velocity_y), axis = 1)\n",
    "\n",
    "df['DSS'] = df.progress_apply(lambda x: DSS(x.potential_conflict_type, x.LV_type, x.local_x, x.LV_local_x, x.velocity_x, x.LV_velocity_x, x.V_len, x.LV_len, g, f, delta_t, x.V_wid, x.LV_wid, x.local_y, x.LV_local_y, x.velocity_y, x.LV_velocity_y), axis = 1)\n",
    "#df['TIDSS'] = df.progress_apply(lambda x: TIDSS(x.DSS, tmsec), axis = 1)\n",
    "\n",
    "df['PICUD'] = df.progress_apply(lambda x: PICUD(x.potential_conflict_type, x.LV_type, x.local_x, x.LV_local_x, x.velocity_x, x.LV_velocity_x, x.D_x, delta_t, deceleration_rate, x.V_wid, x.LV_wid, x.local_y, x.LV_local_y, x.velocity_y, x.LV_velocity_y), axis = 1)\n",
    "\n",
    "df['MTC'] = df.progress_apply(lambda x: MTC(x.potential_conflict_type, x.LV_type, x.local_x, x.LV_local_x, x.D_x, x.V_len, x.LV_len, x.velocity_x, x.LV_velocity, delta_t, deceleration_rate, x.V_wid, x.LV_wid, x.local_y, x.LV_local_y, x.velocity_y, x.LV_velocity_y), axis = 1)\n",
    "df['MMTC'] = df.progress_apply(lambda x: MMTC(x.potential_conflict_type, x.LV_type, x.local_x, x.LV_local_x, x.velocity_x, x.LV_velocity_x, g, x.V_wid, x.LV_wid, x.local_y, x.LV_local_y, x.velocity_y, x.LV_velocity_y), axis = 1)\n",
    "\n",
    "#df['RCRI'] = df.progress_apply(lambda x: RCRI(x.local_x, x.LV_local_x, x.velocity_x, x.LV_velocity_x, x.acc_x, x.LV_acc_x, x.D_x, delta_t, x.V_wid, x.LV_wid, x.local_y, x.LV_local_y, x.velocity_y, x.LV_velocity_y), axis = 1)\n",
    "#df['TERCRI'] = df.progress_apply(lambda x: TERCRI(x.RCRI, tmsec), axis = 1)"
   ]
  },
  {
   "cell_type": "code",
   "execution_count": 25,
   "id": "ee87cbb3-864a-47df-a2a2-7e73c089751e",
   "metadata": {
    "execution": {
     "iopub.execute_input": "2023-12-02T07:49:57.586090Z",
     "iopub.status.busy": "2023-12-02T07:49:57.586090Z",
     "iopub.status.idle": "2023-12-02T07:50:55.409164Z",
     "shell.execute_reply": "2023-12-02T07:50:55.408288Z",
     "shell.execute_reply.started": "2023-12-02T07:49:57.586090Z"
    }
   },
   "outputs": [
    {
     "name": "stderr",
     "output_type": "stream",
     "text": [
      "100%|███████████████████████████████████████████████████████████████████████| 156096/156096 [00:15<00:00, 10135.43it/s]\n",
      "100%|███████████████████████████████████████████████████████████████████████| 156096/156096 [00:13<00:00, 11702.09it/s]\n",
      "100%|███████████████████████████████████████████████████████████████████████| 156096/156096 [00:14<00:00, 10421.98it/s]\n",
      "100%|███████████████████████████████████████████████████████████████████████| 156096/156096 [00:14<00:00, 11091.24it/s]\n"
     ]
    }
   ],
   "source": [
    "df['DRAC'] = df.progress_apply(lambda x: DRAC(x.potential_conflict_type, x.LV_type, x.local_x, x.LV_local_x, x.D_x, x.velocity_x, x.LV_velocity_x, x.LV_len, x.V_len, x.V_wid, x.LV_wid, x.local_y, x.LV_local_y, x.velocity_y, x.LV_velocity_y), axis = 1)\n",
    "#df['TIDRAC'] = df.apply(lambda x: TIDRAC(x.DRAC, threshold_DRAC), axis = 1)\n",
    "\n",
    "df['MDRAC'] = df.progress_apply(lambda x: MDRAC(x.potential_conflict_type, x.LV_type, x.local_x, x.LV_local_x, x.velocity_x, x.LV_velocity_x, x.TTC, delta_t, x.V_wid, x.LV_wid, x.local_y, x.LV_local_y, x.velocity_y, x.LV_velocity_y), axis = 1)\n",
    "\n",
    "df['DCIA'] = df.progress_apply(lambda x: DCIA(x.potential_conflict_type, x.LV_type, x.local_x, x.LV_local_x, x.velocity_x, x.LV_velocity_x, x.acc_x, x.LV_acc_x, delta_t, x.D_x, x.V_wid, x.LV_wid, x.local_y, x.LV_local_y, x.velocity_y, x.LV_velocity_y), axis = 1)\n",
    "\n",
    "df['unsafety'] = df.progress_apply(lambda x: unsafety(x.potential_conflict_type, x.LV_type, x.local_x, x.LV_local_x, x.velocity_x, x.LV_velocity_x, x.acc_x, x.LV_acc_x, deceleration_rate, x.V_wid, x.LV_wid, x.local_y, x.LV_local_y, x.velocity_y, x.LV_velocity_y), axis = 1)"
   ]
  },
  {
   "cell_type": "code",
   "execution_count": 29,
   "id": "5756a850-d6b6-4fea-877d-e56e27fb4852",
   "metadata": {
    "execution": {
     "iopub.execute_input": "2023-12-02T07:51:37.824968Z",
     "iopub.status.busy": "2023-12-02T07:51:37.824968Z",
     "iopub.status.idle": "2023-12-02T07:52:03.566003Z",
     "shell.execute_reply": "2023-12-02T07:52:03.566003Z",
     "shell.execute_reply.started": "2023-12-02T07:51:37.824968Z"
    }
   },
   "outputs": [
    {
     "name": "stderr",
     "output_type": "stream",
     "text": [
      "100%|███████████████████████████████████████████████████████████████████████| 156096/156096 [00:02<00:00, 57113.25it/s]\n",
      "100%|███████████████████████████████████████████████████████████████████████| 156096/156096 [00:02<00:00, 59233.84it/s]\n",
      "100%|███████████████████████████████████████████████████████████████████████| 156096/156096 [00:02<00:00, 59392.09it/s]\n",
      "100%|███████████████████████████████████████████████████████████████████████| 156096/156096 [00:02<00:00, 61223.78it/s]\n",
      "100%|███████████████████████████████████████████████████████████████████████| 156096/156096 [00:02<00:00, 61243.77it/s]\n",
      "100%|███████████████████████████████████████████████████████████████████████| 156096/156096 [00:02<00:00, 63413.45it/s]\n",
      "100%|███████████████████████████████████████████████████████████████████████| 156096/156096 [00:02<00:00, 62273.75it/s]\n",
      "100%|███████████████████████████████████████████████████████████████████████| 156096/156096 [00:02<00:00, 62723.74it/s]\n",
      "100%|███████████████████████████████████████████████████████████████████████| 156096/156096 [00:02<00:00, 62984.96it/s]\n",
      "100%|███████████████████████████████████████████████████████████████████████| 156096/156096 [00:02<00:00, 61075.44it/s]\n"
     ]
    }
   ],
   "source": [
    "df['TIT'] = df.progress_apply(lambda x: TIT(x.TTC, threshold_TTC, tmsec), axis = 1)\n",
    "df['TIT2'] = df.progress_apply(lambda x: TIT(x.T2, threshold_TTC, tmsec), axis = 1)\n",
    "df['TIACT'] = df.progress_apply(lambda x: TIT(x.ACT, threshold_TTC, tmsec), axis = 1)\n",
    "df['TITAdv'] = df.progress_apply(lambda x: TIT(x.pPET, threshold_PET, tmsec), axis = 1)\n",
    "df['TITimeGap'] = df.progress_apply(lambda x: TIT(x.time_gap, threshold_PET, tmsec), axis = 1)\n",
    "\n",
    "df['TIPICUD'] = df.progress_apply(lambda x: TIDSS(x.PICUD, tmsec), axis = 1)\n",
    "df['TIDSS'] = df.progress_apply(lambda x: TIDSS(x.DSS, tmsec), axis = 1)\n",
    "\n",
    "df['TIDRAC'] = df.progress_apply(lambda x: TIDRAC(x.DRAC, threshold_DRAC), axis = 1)\n",
    "df['TIMDRAC'] = df.progress_apply(lambda x: TIDRAC(x.MDRAC, threshold_DRAC), axis = 1)\n",
    "df['TIDCIA'] = df.progress_apply(lambda x: TIDRAC(x.DCIA, threshold_DRAC), axis = 1)"
   ]
  },
  {
   "cell_type": "markdown",
   "id": "25745d75-e246-4df1-801a-9aec250e3a78",
   "metadata": {},
   "source": [
    "## Energy-based SSM"
   ]
  },
  {
   "cell_type": "code",
   "execution_count": null,
   "id": "704976ff-38ba-407f-b6da-fe9ed7f44afa",
   "metadata": {
    "execution": {
     "iopub.status.busy": "2023-12-02T07:51:17.374545Z",
     "iopub.status.idle": "2023-12-02T07:51:17.375543Z",
     "shell.execute_reply": "2023-12-02T07:51:17.374545Z",
     "shell.execute_reply.started": "2023-12-02T07:51:17.374545Z"
    },
    "tags": []
   },
   "outputs": [],
   "source": [
    "# df['CIF'] = df.progress_apply(lambda x: CIF(x.velocity_x, x.TTC), axis = 1)\n",
    "# df['CIF2'] = df.progress_apply(lambda x: CIF(x.velocity, x.T2), axis = 1)\n",
    "# df['ACIF'] = df.progress_apply(lambda x: CIF(x.velocity, x.ACT), axis = 1)"
   ]
  },
  {
   "cell_type": "markdown",
   "id": "16d59a1a-e0fb-45dc-9477-c409da1e50f9",
   "metadata": {},
   "source": [
    "# Save"
   ]
  },
  {
   "cell_type": "code",
   "execution_count": 30,
   "id": "de360a89-7967-454e-92c0-f5f9980ba7ed",
   "metadata": {
    "execution": {
     "iopub.execute_input": "2023-12-02T07:52:14.994633Z",
     "iopub.status.busy": "2023-12-02T07:52:14.994633Z",
     "iopub.status.idle": "2023-12-02T07:52:15.236055Z",
     "shell.execute_reply": "2023-12-02T07:52:15.236055Z",
     "shell.execute_reply.started": "2023-12-02T07:52:14.994633Z"
    },
    "tags": []
   },
   "outputs": [],
   "source": [
    "delete_cols = ['V_point_1', 'V_point_2', 'V_point_3', 'V_point_4', \n",
    "              'LV_point_1', 'LV_point_2', 'LV_point_3', 'LV_point_4',\n",
    "              'V_LV_point_num', 'V_LV_point_n', 'LV_point_n', 'V_LV_point_num2',\n",
    "              'V_LV_point_n2',\t'LV_point_n2',\t'V_LV_point_delta',\t'V_LV_shortest_vector',\n",
    "              'V_LV_shortest_distance', 'total_rel', 'd_delta']\n",
    "\n",
    "df2 = df.copy()\n",
    "df2.drop(delete_cols, inplace = True, axis = 1)\n",
    "\n",
    "df2 = df2.dropna(subset = ['veh_id', 'frm'])"
   ]
  },
  {
   "cell_type": "code",
   "execution_count": 31,
   "id": "42c4219e-4919-449b-907b-512ce86f30cb",
   "metadata": {
    "execution": {
     "iopub.execute_input": "2023-12-02T07:52:16.338224Z",
     "iopub.status.busy": "2023-12-02T07:52:16.338224Z",
     "iopub.status.idle": "2023-12-02T07:52:18.846106Z",
     "shell.execute_reply": "2023-12-02T07:52:18.845108Z",
     "shell.execute_reply.started": "2023-12-02T07:52:16.338224Z"
    },
    "tags": []
   },
   "outputs": [],
   "source": [
    "folder_name = '03_SSM'\n",
    "save_name = file_name\n",
    "save_path = os.path.join(working_dir, folder_name, save_name)\n",
    "\n",
    "df2.to_parquet(save_path, engine = 'fastparquet', compression = 'gzip') "
   ]
  },
  {
   "cell_type": "code",
   "execution_count": 32,
   "id": "e2100bd1-6369-4b91-8ff0-12046084afad",
   "metadata": {
    "execution": {
     "iopub.execute_input": "2023-12-02T07:52:18.847103Z",
     "iopub.status.busy": "2023-12-02T07:52:18.847103Z",
     "iopub.status.idle": "2023-12-02T07:52:18.860628Z",
     "shell.execute_reply": "2023-12-02T07:52:18.860628Z",
     "shell.execute_reply.started": "2023-12-02T07:52:18.847103Z"
    },
    "tags": []
   },
   "outputs": [
    {
     "data": {
      "text/html": [
       "<div>\n",
       "<style scoped>\n",
       "    .dataframe tbody tr th:only-of-type {\n",
       "        vertical-align: middle;\n",
       "    }\n",
       "\n",
       "    .dataframe tbody tr th {\n",
       "        vertical-align: top;\n",
       "    }\n",
       "\n",
       "    .dataframe thead th {\n",
       "        text-align: right;\n",
       "    }\n",
       "</style>\n",
       "<table border=\"1\" class=\"dataframe\">\n",
       "  <thead>\n",
       "    <tr style=\"text-align: right;\">\n",
       "      <th></th>\n",
       "      <th>pPET</th>\n",
       "      <th>T2</th>\n",
       "      <th>ACT</th>\n",
       "    </tr>\n",
       "  </thead>\n",
       "  <tbody>\n",
       "    <tr>\n",
       "      <th>0</th>\n",
       "      <td>NaN</td>\n",
       "      <td>NaN</td>\n",
       "      <td>NaN</td>\n",
       "    </tr>\n",
       "    <tr>\n",
       "      <th>1</th>\n",
       "      <td>NaN</td>\n",
       "      <td>NaN</td>\n",
       "      <td>25.495695</td>\n",
       "    </tr>\n",
       "    <tr>\n",
       "      <th>2</th>\n",
       "      <td>166.272222</td>\n",
       "      <td>NaN</td>\n",
       "      <td>11.052962</td>\n",
       "    </tr>\n",
       "    <tr>\n",
       "      <th>3</th>\n",
       "      <td>16.158800</td>\n",
       "      <td>NaN</td>\n",
       "      <td>NaN</td>\n",
       "    </tr>\n",
       "    <tr>\n",
       "      <th>4</th>\n",
       "      <td>57.783751</td>\n",
       "      <td>NaN</td>\n",
       "      <td>5.480418</td>\n",
       "    </tr>\n",
       "    <tr>\n",
       "      <th>...</th>\n",
       "      <td>...</td>\n",
       "      <td>...</td>\n",
       "      <td>...</td>\n",
       "    </tr>\n",
       "    <tr>\n",
       "      <th>156091</th>\n",
       "      <td>NaN</td>\n",
       "      <td>NaN</td>\n",
       "      <td>17.434579</td>\n",
       "    </tr>\n",
       "    <tr>\n",
       "      <th>156092</th>\n",
       "      <td>NaN</td>\n",
       "      <td>NaN</td>\n",
       "      <td>2.892386</td>\n",
       "    </tr>\n",
       "    <tr>\n",
       "      <th>156093</th>\n",
       "      <td>0.730234</td>\n",
       "      <td>NaN</td>\n",
       "      <td>NaN</td>\n",
       "    </tr>\n",
       "    <tr>\n",
       "      <th>156094</th>\n",
       "      <td>10.915368</td>\n",
       "      <td>NaN</td>\n",
       "      <td>NaN</td>\n",
       "    </tr>\n",
       "    <tr>\n",
       "      <th>156095</th>\n",
       "      <td>NaN</td>\n",
       "      <td>NaN</td>\n",
       "      <td>10.009219</td>\n",
       "    </tr>\n",
       "  </tbody>\n",
       "</table>\n",
       "<p>156096 rows × 3 columns</p>\n",
       "</div>"
      ],
      "text/plain": [
       "              pPET  T2        ACT\n",
       "0              NaN NaN        NaN\n",
       "1              NaN NaN  25.495695\n",
       "2       166.272222 NaN  11.052962\n",
       "3        16.158800 NaN        NaN\n",
       "4        57.783751 NaN   5.480418\n",
       "...            ...  ..        ...\n",
       "156091         NaN NaN  17.434579\n",
       "156092         NaN NaN   2.892386\n",
       "156093    0.730234 NaN        NaN\n",
       "156094   10.915368 NaN        NaN\n",
       "156095         NaN NaN  10.009219\n",
       "\n",
       "[156096 rows x 3 columns]"
      ]
     },
     "execution_count": 32,
     "metadata": {},
     "output_type": "execute_result"
    }
   ],
   "source": [
    "df2[['pPET', 'T2', 'ACT']]"
   ]
  },
  {
   "cell_type": "code",
   "execution_count": 33,
   "id": "304ee27d-9d8b-4cbf-8e75-00a706fc2b80",
   "metadata": {
    "execution": {
     "iopub.execute_input": "2023-12-02T07:52:18.862878Z",
     "iopub.status.busy": "2023-12-02T07:52:18.861875Z",
     "iopub.status.idle": "2023-12-02T07:52:18.924619Z",
     "shell.execute_reply": "2023-12-02T07:52:18.924619Z",
     "shell.execute_reply.started": "2023-12-02T07:52:18.862878Z"
    }
   },
   "outputs": [
    {
     "data": {
      "text/html": [
       "<div>\n",
       "<style scoped>\n",
       "    .dataframe tbody tr th:only-of-type {\n",
       "        vertical-align: middle;\n",
       "    }\n",
       "\n",
       "    .dataframe tbody tr th {\n",
       "        vertical-align: top;\n",
       "    }\n",
       "\n",
       "    .dataframe thead th {\n",
       "        text-align: right;\n",
       "    }\n",
       "</style>\n",
       "<table border=\"1\" class=\"dataframe\">\n",
       "  <thead>\n",
       "    <tr style=\"text-align: right;\">\n",
       "      <th></th>\n",
       "      <th>V_LV_shortest_distance</th>\n",
       "      <th>total_rel</th>\n",
       "      <th>d_delta</th>\n",
       "      <th>T2</th>\n",
       "      <th>TTC</th>\n",
       "      <th>MTTC</th>\n",
       "      <th>ACT</th>\n",
       "    </tr>\n",
       "  </thead>\n",
       "  <tbody>\n",
       "    <tr>\n",
       "      <th>0</th>\n",
       "      <td>18.483160</td>\n",
       "      <td>[-0.5787549145584039, -1.0627430805633216]</td>\n",
       "      <td>NaN</td>\n",
       "      <td>NaN</td>\n",
       "      <td>NaN</td>\n",
       "      <td>NaN</td>\n",
       "      <td>NaN</td>\n",
       "    </tr>\n",
       "    <tr>\n",
       "      <th>1</th>\n",
       "      <td>19.602317</td>\n",
       "      <td>[0.7292974385078896, 0.24341870553161338]</td>\n",
       "      <td>0.768848</td>\n",
       "      <td>NaN</td>\n",
       "      <td>NaN</td>\n",
       "      <td>NaN</td>\n",
       "      <td>25.495695</td>\n",
       "    </tr>\n",
       "    <tr>\n",
       "      <th>2</th>\n",
       "      <td>20.340411</td>\n",
       "      <td>[1.5242324659257946, 1.031165159223799]</td>\n",
       "      <td>1.840268</td>\n",
       "      <td>NaN</td>\n",
       "      <td>NaN</td>\n",
       "      <td>NaN</td>\n",
       "      <td>11.052962</td>\n",
       "    </tr>\n",
       "    <tr>\n",
       "      <th>3</th>\n",
       "      <td>20.985508</td>\n",
       "      <td>[-0.35786780127052353, -0.8226833895673269]</td>\n",
       "      <td>NaN</td>\n",
       "      <td>NaN</td>\n",
       "      <td>NaN</td>\n",
       "      <td>NaN</td>\n",
       "      <td>NaN</td>\n",
       "    </tr>\n",
       "    <tr>\n",
       "      <th>4</th>\n",
       "      <td>21.504437</td>\n",
       "      <td>[3.0196445763256996, 2.505690343207647]</td>\n",
       "      <td>3.923868</td>\n",
       "      <td>NaN</td>\n",
       "      <td>NaN</td>\n",
       "      <td>NaN</td>\n",
       "      <td>5.480418</td>\n",
       "    </tr>\n",
       "    <tr>\n",
       "      <th>...</th>\n",
       "      <td>...</td>\n",
       "      <td>...</td>\n",
       "      <td>...</td>\n",
       "      <td>...</td>\n",
       "      <td>...</td>\n",
       "      <td>...</td>\n",
       "      <td>...</td>\n",
       "    </tr>\n",
       "    <tr>\n",
       "      <th>156091</th>\n",
       "      <td>11.436682</td>\n",
       "      <td>[0.45153428759704584, 0.4758388187929003]</td>\n",
       "      <td>0.655977</td>\n",
       "      <td>NaN</td>\n",
       "      <td>NaN</td>\n",
       "      <td>NaN</td>\n",
       "      <td>17.434579</td>\n",
       "    </tr>\n",
       "    <tr>\n",
       "      <th>156092</th>\n",
       "      <td>11.425393</td>\n",
       "      <td>[2.771110280880264, 2.8150890968323985]</td>\n",
       "      <td>3.950162</td>\n",
       "      <td>NaN</td>\n",
       "      <td>NaN</td>\n",
       "      <td>NaN</td>\n",
       "      <td>2.892386</td>\n",
       "    </tr>\n",
       "    <tr>\n",
       "      <th>156093</th>\n",
       "      <td>11.511839</td>\n",
       "      <td>[-3.874688174564069, -3.864521892821776]</td>\n",
       "      <td>NaN</td>\n",
       "      <td>NaN</td>\n",
       "      <td>NaN</td>\n",
       "      <td>NaN</td>\n",
       "      <td>NaN</td>\n",
       "    </tr>\n",
       "    <tr>\n",
       "      <th>156094</th>\n",
       "      <td>10.778310</td>\n",
       "      <td>[-2.1862591593485767, -2.2374461405723562]</td>\n",
       "      <td>NaN</td>\n",
       "      <td>NaN</td>\n",
       "      <td>NaN</td>\n",
       "      <td>NaN</td>\n",
       "      <td>NaN</td>\n",
       "    </tr>\n",
       "    <tr>\n",
       "      <th>156095</th>\n",
       "      <td>10.705771</td>\n",
       "      <td>[0.7524948954195184, 0.7601160326107477]</td>\n",
       "      <td>1.069591</td>\n",
       "      <td>NaN</td>\n",
       "      <td>NaN</td>\n",
       "      <td>NaN</td>\n",
       "      <td>10.009219</td>\n",
       "    </tr>\n",
       "  </tbody>\n",
       "</table>\n",
       "<p>156096 rows × 7 columns</p>\n",
       "</div>"
      ],
      "text/plain": [
       "        V_LV_shortest_distance                                    total_rel  \\\n",
       "0                    18.483160   [-0.5787549145584039, -1.0627430805633216]   \n",
       "1                    19.602317    [0.7292974385078896, 0.24341870553161338]   \n",
       "2                    20.340411      [1.5242324659257946, 1.031165159223799]   \n",
       "3                    20.985508  [-0.35786780127052353, -0.8226833895673269]   \n",
       "4                    21.504437      [3.0196445763256996, 2.505690343207647]   \n",
       "...                        ...                                          ...   \n",
       "156091               11.436682    [0.45153428759704584, 0.4758388187929003]   \n",
       "156092               11.425393      [2.771110280880264, 2.8150890968323985]   \n",
       "156093               11.511839     [-3.874688174564069, -3.864521892821776]   \n",
       "156094               10.778310   [-2.1862591593485767, -2.2374461405723562]   \n",
       "156095               10.705771     [0.7524948954195184, 0.7601160326107477]   \n",
       "\n",
       "         d_delta  T2  TTC  MTTC        ACT  \n",
       "0            NaN NaN  NaN   NaN        NaN  \n",
       "1       0.768848 NaN  NaN   NaN  25.495695  \n",
       "2       1.840268 NaN  NaN   NaN  11.052962  \n",
       "3            NaN NaN  NaN   NaN        NaN  \n",
       "4       3.923868 NaN  NaN   NaN   5.480418  \n",
       "...          ...  ..  ...   ...        ...  \n",
       "156091  0.655977 NaN  NaN   NaN  17.434579  \n",
       "156092  3.950162 NaN  NaN   NaN   2.892386  \n",
       "156093       NaN NaN  NaN   NaN        NaN  \n",
       "156094       NaN NaN  NaN   NaN        NaN  \n",
       "156095  1.069591 NaN  NaN   NaN  10.009219  \n",
       "\n",
       "[156096 rows x 7 columns]"
      ]
     },
     "execution_count": 33,
     "metadata": {},
     "output_type": "execute_result"
    }
   ],
   "source": [
    "df[['V_LV_shortest_distance', 'total_rel', 'd_delta', 'T2', 'TTC', 'MTTC', 'ACT']]"
   ]
  },
  {
   "cell_type": "code",
   "execution_count": 34,
   "id": "fbe2ac18-63ff-4f22-b330-dda61be36c63",
   "metadata": {
    "execution": {
     "iopub.execute_input": "2023-12-02T07:52:18.926586Z",
     "iopub.status.busy": "2023-12-02T07:52:18.926586Z",
     "iopub.status.idle": "2023-12-02T07:52:18.987118Z",
     "shell.execute_reply": "2023-12-02T07:52:18.986119Z",
     "shell.execute_reply.started": "2023-12-02T07:52:18.926586Z"
    }
   },
   "outputs": [
    {
     "data": {
      "text/html": [
       "<div>\n",
       "<style scoped>\n",
       "    .dataframe tbody tr th:only-of-type {\n",
       "        vertical-align: middle;\n",
       "    }\n",
       "\n",
       "    .dataframe tbody tr th {\n",
       "        vertical-align: top;\n",
       "    }\n",
       "\n",
       "    .dataframe thead th {\n",
       "        text-align: right;\n",
       "    }\n",
       "</style>\n",
       "<table border=\"1\" class=\"dataframe\">\n",
       "  <thead>\n",
       "    <tr style=\"text-align: right;\">\n",
       "      <th>potential_conflict_type</th>\n",
       "      <th>angled</th>\n",
       "      <th>rear_end</th>\n",
       "      <th>side_swipe</th>\n",
       "    </tr>\n",
       "    <tr>\n",
       "      <th>overlap</th>\n",
       "      <th></th>\n",
       "      <th></th>\n",
       "      <th></th>\n",
       "    </tr>\n",
       "  </thead>\n",
       "  <tbody>\n",
       "    <tr>\n",
       "      <th>overlap</th>\n",
       "      <td>1</td>\n",
       "      <td>32160</td>\n",
       "      <td>41081</td>\n",
       "    </tr>\n",
       "  </tbody>\n",
       "</table>\n",
       "</div>"
      ],
      "text/plain": [
       "potential_conflict_type  angled  rear_end  side_swipe\n",
       "overlap                                              \n",
       "overlap                       1     32160       41081"
      ]
     },
     "execution_count": 34,
     "metadata": {},
     "output_type": "execute_result"
    }
   ],
   "source": [
    "pd.pivot_table(df, index = ['overlap'], columns = ['potential_conflict_type'], values = 'pair', aggfunc = 'count')"
   ]
  },
  {
   "cell_type": "code",
   "execution_count": 35,
   "id": "12be538d-52ee-41e1-a07e-8ccd93c3dd5a",
   "metadata": {
    "execution": {
     "iopub.execute_input": "2023-12-02T07:52:19.771430Z",
     "iopub.status.busy": "2023-12-02T07:52:19.770438Z",
     "iopub.status.idle": "2023-12-02T07:52:19.894137Z",
     "shell.execute_reply": "2023-12-02T07:52:19.893139Z",
     "shell.execute_reply.started": "2023-12-02T07:52:19.771430Z"
    }
   },
   "outputs": [
    {
     "data": {
      "text/html": [
       "<div>\n",
       "<style scoped>\n",
       "    .dataframe tbody tr th:only-of-type {\n",
       "        vertical-align: middle;\n",
       "    }\n",
       "\n",
       "    .dataframe tbody tr th {\n",
       "        vertical-align: top;\n",
       "    }\n",
       "\n",
       "    .dataframe thead th {\n",
       "        text-align: right;\n",
       "    }\n",
       "</style>\n",
       "<table border=\"1\" class=\"dataframe\">\n",
       "  <thead>\n",
       "    <tr style=\"text-align: right;\">\n",
       "      <th></th>\n",
       "      <th>pair</th>\n",
       "      <th>veh_id</th>\n",
       "      <th>LV_ID</th>\n",
       "      <th>frm</th>\n",
       "      <th>LV_type</th>\n",
       "      <th>local_x</th>\n",
       "      <th>local_y</th>\n",
       "      <th>V_len</th>\n",
       "      <th>V_wid</th>\n",
       "      <th>velocity</th>\n",
       "      <th>...</th>\n",
       "      <th>TIT</th>\n",
       "      <th>TIT2</th>\n",
       "      <th>TIACT</th>\n",
       "      <th>TIPICUD</th>\n",
       "      <th>TIDSS</th>\n",
       "      <th>TIDRAC</th>\n",
       "      <th>TIMDRAC</th>\n",
       "      <th>TITAdv</th>\n",
       "      <th>TITimeGap</th>\n",
       "      <th>TIDCIA</th>\n",
       "    </tr>\n",
       "  </thead>\n",
       "  <tbody>\n",
       "    <tr>\n",
       "      <th>2</th>\n",
       "      <td>1000_994</td>\n",
       "      <td>1000</td>\n",
       "      <td>994</td>\n",
       "      <td>17460</td>\n",
       "      <td>LVL</td>\n",
       "      <td>173.125</td>\n",
       "      <td>21.406250</td>\n",
       "      <td>7.09375</td>\n",
       "      <td>2.064453</td>\n",
       "      <td>104.1250</td>\n",
       "      <td>...</td>\n",
       "      <td>NaN</td>\n",
       "      <td>NaN</td>\n",
       "      <td>0.0</td>\n",
       "      <td>NaN</td>\n",
       "      <td>NaN</td>\n",
       "      <td>NaN</td>\n",
       "      <td>NaN</td>\n",
       "      <td>0.000000</td>\n",
       "      <td>0.0</td>\n",
       "      <td>NaN</td>\n",
       "    </tr>\n",
       "    <tr>\n",
       "      <th>3</th>\n",
       "      <td>1000_994</td>\n",
       "      <td>1000</td>\n",
       "      <td>994</td>\n",
       "      <td>17457</td>\n",
       "      <td>LVL</td>\n",
       "      <td>170.250</td>\n",
       "      <td>21.359375</td>\n",
       "      <td>7.09375</td>\n",
       "      <td>2.064453</td>\n",
       "      <td>103.8750</td>\n",
       "      <td>...</td>\n",
       "      <td>NaN</td>\n",
       "      <td>NaN</td>\n",
       "      <td>NaN</td>\n",
       "      <td>NaN</td>\n",
       "      <td>NaN</td>\n",
       "      <td>NaN</td>\n",
       "      <td>NaN</td>\n",
       "      <td>0.000000</td>\n",
       "      <td>0.0</td>\n",
       "      <td>NaN</td>\n",
       "    </tr>\n",
       "    <tr>\n",
       "      <th>4</th>\n",
       "      <td>1000_994</td>\n",
       "      <td>1000</td>\n",
       "      <td>994</td>\n",
       "      <td>17454</td>\n",
       "      <td>LVL</td>\n",
       "      <td>167.375</td>\n",
       "      <td>21.328125</td>\n",
       "      <td>7.09375</td>\n",
       "      <td>2.064453</td>\n",
       "      <td>104.3750</td>\n",
       "      <td>...</td>\n",
       "      <td>NaN</td>\n",
       "      <td>NaN</td>\n",
       "      <td>0.0</td>\n",
       "      <td>NaN</td>\n",
       "      <td>NaN</td>\n",
       "      <td>NaN</td>\n",
       "      <td>NaN</td>\n",
       "      <td>0.000000</td>\n",
       "      <td>0.0</td>\n",
       "      <td>NaN</td>\n",
       "    </tr>\n",
       "    <tr>\n",
       "      <th>5</th>\n",
       "      <td>1000_994</td>\n",
       "      <td>1000</td>\n",
       "      <td>994</td>\n",
       "      <td>17451</td>\n",
       "      <td>LVL</td>\n",
       "      <td>164.500</td>\n",
       "      <td>21.296875</td>\n",
       "      <td>7.09375</td>\n",
       "      <td>2.064453</td>\n",
       "      <td>103.1875</td>\n",
       "      <td>...</td>\n",
       "      <td>NaN</td>\n",
       "      <td>0.0</td>\n",
       "      <td>NaN</td>\n",
       "      <td>NaN</td>\n",
       "      <td>NaN</td>\n",
       "      <td>NaN</td>\n",
       "      <td>NaN</td>\n",
       "      <td>0.069636</td>\n",
       "      <td>0.0</td>\n",
       "      <td>NaN</td>\n",
       "    </tr>\n",
       "    <tr>\n",
       "      <th>8</th>\n",
       "      <td>1000_994</td>\n",
       "      <td>1000</td>\n",
       "      <td>994</td>\n",
       "      <td>17445</td>\n",
       "      <td>LVL</td>\n",
       "      <td>158.750</td>\n",
       "      <td>21.218750</td>\n",
       "      <td>7.09375</td>\n",
       "      <td>2.064453</td>\n",
       "      <td>103.3750</td>\n",
       "      <td>...</td>\n",
       "      <td>NaN</td>\n",
       "      <td>0.0</td>\n",
       "      <td>NaN</td>\n",
       "      <td>NaN</td>\n",
       "      <td>NaN</td>\n",
       "      <td>NaN</td>\n",
       "      <td>NaN</td>\n",
       "      <td>0.000000</td>\n",
       "      <td>0.0</td>\n",
       "      <td>NaN</td>\n",
       "    </tr>\n",
       "    <tr>\n",
       "      <th>...</th>\n",
       "      <td>...</td>\n",
       "      <td>...</td>\n",
       "      <td>...</td>\n",
       "      <td>...</td>\n",
       "      <td>...</td>\n",
       "      <td>...</td>\n",
       "      <td>...</td>\n",
       "      <td>...</td>\n",
       "      <td>...</td>\n",
       "      <td>...</td>\n",
       "      <td>...</td>\n",
       "      <td>...</td>\n",
       "      <td>...</td>\n",
       "      <td>...</td>\n",
       "      <td>...</td>\n",
       "      <td>...</td>\n",
       "      <td>...</td>\n",
       "      <td>...</td>\n",
       "      <td>...</td>\n",
       "      <td>...</td>\n",
       "      <td>...</td>\n",
       "    </tr>\n",
       "    <tr>\n",
       "      <th>156087</th>\n",
       "      <td>9_6</td>\n",
       "      <td>9</td>\n",
       "      <td>6</td>\n",
       "      <td>747</td>\n",
       "      <td>LVR</td>\n",
       "      <td>168.750</td>\n",
       "      <td>4.464844</td>\n",
       "      <td>1.93457</td>\n",
       "      <td>2.064453</td>\n",
       "      <td>111.8750</td>\n",
       "      <td>...</td>\n",
       "      <td>NaN</td>\n",
       "      <td>NaN</td>\n",
       "      <td>NaN</td>\n",
       "      <td>NaN</td>\n",
       "      <td>NaN</td>\n",
       "      <td>NaN</td>\n",
       "      <td>NaN</td>\n",
       "      <td>0.000000</td>\n",
       "      <td>0.0</td>\n",
       "      <td>NaN</td>\n",
       "    </tr>\n",
       "    <tr>\n",
       "      <th>156088</th>\n",
       "      <td>9_6</td>\n",
       "      <td>9</td>\n",
       "      <td>6</td>\n",
       "      <td>741</td>\n",
       "      <td>LVR</td>\n",
       "      <td>162.625</td>\n",
       "      <td>4.265625</td>\n",
       "      <td>1.93457</td>\n",
       "      <td>2.064453</td>\n",
       "      <td>111.2500</td>\n",
       "      <td>...</td>\n",
       "      <td>NaN</td>\n",
       "      <td>NaN</td>\n",
       "      <td>NaN</td>\n",
       "      <td>NaN</td>\n",
       "      <td>NaN</td>\n",
       "      <td>NaN</td>\n",
       "      <td>NaN</td>\n",
       "      <td>0.000000</td>\n",
       "      <td>0.0</td>\n",
       "      <td>NaN</td>\n",
       "    </tr>\n",
       "    <tr>\n",
       "      <th>156090</th>\n",
       "      <td>9_6</td>\n",
       "      <td>9</td>\n",
       "      <td>6</td>\n",
       "      <td>735</td>\n",
       "      <td>LVR</td>\n",
       "      <td>156.500</td>\n",
       "      <td>4.101562</td>\n",
       "      <td>1.93457</td>\n",
       "      <td>2.064453</td>\n",
       "      <td>110.6250</td>\n",
       "      <td>...</td>\n",
       "      <td>NaN</td>\n",
       "      <td>NaN</td>\n",
       "      <td>NaN</td>\n",
       "      <td>NaN</td>\n",
       "      <td>NaN</td>\n",
       "      <td>NaN</td>\n",
       "      <td>NaN</td>\n",
       "      <td>0.000000</td>\n",
       "      <td>0.0</td>\n",
       "      <td>NaN</td>\n",
       "    </tr>\n",
       "    <tr>\n",
       "      <th>156093</th>\n",
       "      <td>9_6</td>\n",
       "      <td>9</td>\n",
       "      <td>6</td>\n",
       "      <td>726</td>\n",
       "      <td>LVR</td>\n",
       "      <td>147.250</td>\n",
       "      <td>3.832031</td>\n",
       "      <td>1.93457</td>\n",
       "      <td>2.064453</td>\n",
       "      <td>109.1250</td>\n",
       "      <td>...</td>\n",
       "      <td>NaN</td>\n",
       "      <td>NaN</td>\n",
       "      <td>NaN</td>\n",
       "      <td>NaN</td>\n",
       "      <td>NaN</td>\n",
       "      <td>NaN</td>\n",
       "      <td>NaN</td>\n",
       "      <td>0.026977</td>\n",
       "      <td>0.0</td>\n",
       "      <td>NaN</td>\n",
       "    </tr>\n",
       "    <tr>\n",
       "      <th>156094</th>\n",
       "      <td>9_6</td>\n",
       "      <td>9</td>\n",
       "      <td>6</td>\n",
       "      <td>768</td>\n",
       "      <td>LVR</td>\n",
       "      <td>190.625</td>\n",
       "      <td>5.085938</td>\n",
       "      <td>1.93457</td>\n",
       "      <td>2.064453</td>\n",
       "      <td>113.2500</td>\n",
       "      <td>...</td>\n",
       "      <td>NaN</td>\n",
       "      <td>NaN</td>\n",
       "      <td>NaN</td>\n",
       "      <td>NaN</td>\n",
       "      <td>NaN</td>\n",
       "      <td>NaN</td>\n",
       "      <td>NaN</td>\n",
       "      <td>0.000000</td>\n",
       "      <td>0.0</td>\n",
       "      <td>NaN</td>\n",
       "    </tr>\n",
       "  </tbody>\n",
       "</table>\n",
       "<p>73242 rows × 115 columns</p>\n",
       "</div>"
      ],
      "text/plain": [
       "            pair  veh_id  LV_ID    frm LV_type  local_x    local_y    V_len  \\\n",
       "2       1000_994    1000    994  17460     LVL  173.125  21.406250  7.09375   \n",
       "3       1000_994    1000    994  17457     LVL  170.250  21.359375  7.09375   \n",
       "4       1000_994    1000    994  17454     LVL  167.375  21.328125  7.09375   \n",
       "5       1000_994    1000    994  17451     LVL  164.500  21.296875  7.09375   \n",
       "8       1000_994    1000    994  17445     LVL  158.750  21.218750  7.09375   \n",
       "...          ...     ...    ...    ...     ...      ...        ...      ...   \n",
       "156087       9_6       9      6    747     LVR  168.750   4.464844  1.93457   \n",
       "156088       9_6       9      6    741     LVR  162.625   4.265625  1.93457   \n",
       "156090       9_6       9      6    735     LVR  156.500   4.101562  1.93457   \n",
       "156093       9_6       9      6    726     LVR  147.250   3.832031  1.93457   \n",
       "156094       9_6       9      6    768     LVR  190.625   5.085938  1.93457   \n",
       "\n",
       "           V_wid  velocity  ...  TIT TIT2  TIACT  TIPICUD  TIDSS  TIDRAC  \\\n",
       "2       2.064453  104.1250  ...  NaN  NaN    0.0      NaN    NaN     NaN   \n",
       "3       2.064453  103.8750  ...  NaN  NaN    NaN      NaN    NaN     NaN   \n",
       "4       2.064453  104.3750  ...  NaN  NaN    0.0      NaN    NaN     NaN   \n",
       "5       2.064453  103.1875  ...  NaN  0.0    NaN      NaN    NaN     NaN   \n",
       "8       2.064453  103.3750  ...  NaN  0.0    NaN      NaN    NaN     NaN   \n",
       "...          ...       ...  ...  ...  ...    ...      ...    ...     ...   \n",
       "156087  2.064453  111.8750  ...  NaN  NaN    NaN      NaN    NaN     NaN   \n",
       "156088  2.064453  111.2500  ...  NaN  NaN    NaN      NaN    NaN     NaN   \n",
       "156090  2.064453  110.6250  ...  NaN  NaN    NaN      NaN    NaN     NaN   \n",
       "156093  2.064453  109.1250  ...  NaN  NaN    NaN      NaN    NaN     NaN   \n",
       "156094  2.064453  113.2500  ...  NaN  NaN    NaN      NaN    NaN     NaN   \n",
       "\n",
       "        TIMDRAC    TITAdv  TITimeGap  TIDCIA  \n",
       "2           NaN  0.000000        0.0     NaN  \n",
       "3           NaN  0.000000        0.0     NaN  \n",
       "4           NaN  0.000000        0.0     NaN  \n",
       "5           NaN  0.069636        0.0     NaN  \n",
       "8           NaN  0.000000        0.0     NaN  \n",
       "...         ...       ...        ...     ...  \n",
       "156087      NaN  0.000000        0.0     NaN  \n",
       "156088      NaN  0.000000        0.0     NaN  \n",
       "156090      NaN  0.000000        0.0     NaN  \n",
       "156093      NaN  0.026977        0.0     NaN  \n",
       "156094      NaN  0.000000        0.0     NaN  \n",
       "\n",
       "[73242 rows x 115 columns]"
      ]
     },
     "execution_count": 35,
     "metadata": {},
     "output_type": "execute_result"
    }
   ],
   "source": [
    "df[pd.isna(df['overlap']) == False]"
   ]
  }
 ],
 "metadata": {
  "kernelspec": {
   "display_name": "Python 3 (ipykernel)",
   "language": "python",
   "name": "python3"
  },
  "language_info": {
   "codemirror_mode": {
    "name": "ipython",
    "version": 3
   },
   "file_extension": ".py",
   "mimetype": "text/x-python",
   "name": "python",
   "nbconvert_exporter": "python",
   "pygments_lexer": "ipython3",
   "version": "3.8.18"
  },
  "toc-autonumbering": false,
  "toc-showmarkdowntxt": false
 },
 "nbformat": 4,
 "nbformat_minor": 5
}
