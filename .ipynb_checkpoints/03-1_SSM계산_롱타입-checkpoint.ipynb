{
 "cells": [
  {
   "cell_type": "markdown",
   "id": "7bbb1b30-bf75-4ceb-bbaa-180407492126",
   "metadata": {},
   "source": [
    "# SSM 계산 : 차량 페어, 롱타입\n",
    "* Heatmap으로 나타내기\n",
    "* 시공도로 나타내기"
   ]
  },
  {
   "cell_type": "markdown",
   "id": "0ef842f1-952a-4871-a5b4-7f6f6f6f7ea8",
   "metadata": {},
   "source": [
    "# Import"
   ]
  },
  {
   "cell_type": "code",
   "execution_count": 1,
   "id": "f338fe77-1cf1-4a41-83b7-a5e506c649e9",
   "metadata": {
    "execution": {
     "iopub.execute_input": "2023-11-30T04:01:31.368466Z",
     "iopub.status.busy": "2023-11-30T04:01:31.368466Z",
     "iopub.status.idle": "2023-11-30T04:01:32.401316Z",
     "shell.execute_reply": "2023-11-30T04:01:32.401316Z",
     "shell.execute_reply.started": "2023-11-30T04:01:31.368466Z"
    },
    "tags": []
   },
   "outputs": [],
   "source": [
    "import pandas as pd\n",
    "import numpy as np\n",
    "\n",
    "from tqdm import tqdm\n",
    "import warnings\n",
    "import os\n",
    "\n",
    "import math # arctangent; math.atan 사용 목적\n",
    "import statistics\n",
    "\n",
    "from SSM_base import *\n",
    "from SSM_time_based import *\n",
    "from SSM_deceleration_based import *\n",
    "from SSM_energy_based import *\n",
    "\n",
    "import pyarrow.parquet as pq\n",
    "#df = pq.read_pandas('data.parquet').to_pandas()"
   ]
  },
  {
   "cell_type": "code",
   "execution_count": 2,
   "id": "34eb98d6-058d-425b-a404-a956020e0d4d",
   "metadata": {
    "execution": {
     "iopub.execute_input": "2023-11-30T04:01:32.402317Z",
     "iopub.status.busy": "2023-11-30T04:01:32.402317Z",
     "iopub.status.idle": "2023-11-30T04:01:32.417379Z",
     "shell.execute_reply": "2023-11-30T04:01:32.417379Z",
     "shell.execute_reply.started": "2023-11-30T04:01:32.402317Z"
    }
   },
   "outputs": [],
   "source": [
    "#warnings.filterwarnings('ignore')"
   ]
  },
  {
   "cell_type": "markdown",
   "id": "e2f498ef-0185-4e3c-bdd0-94e30067b58f",
   "metadata": {
    "tags": []
   },
   "source": [
    "# Load Dataset"
   ]
  },
  {
   "cell_type": "code",
   "execution_count": 3,
   "id": "feb03977-a4ef-4579-9b19-98fba5e090bc",
   "metadata": {
    "execution": {
     "iopub.execute_input": "2023-11-30T04:01:32.421399Z",
     "iopub.status.busy": "2023-11-30T04:01:32.420400Z",
     "iopub.status.idle": "2023-11-30T04:01:32.433365Z",
     "shell.execute_reply": "2023-11-30T04:01:32.432368Z",
     "shell.execute_reply.started": "2023-11-30T04:01:32.421399Z"
    },
    "tags": []
   },
   "outputs": [],
   "source": [
    "working_dir = 'D:/OneDrive/Projects/2023_SSM_Feasibility/Dataset'"
   ]
  },
  {
   "cell_type": "code",
   "execution_count": 4,
   "id": "e21584b4-6173-41ad-b43d-7fb484da49f2",
   "metadata": {
    "execution": {
     "iopub.execute_input": "2023-11-30T04:01:32.433365Z",
     "iopub.status.busy": "2023-11-30T04:01:32.433365Z",
     "iopub.status.idle": "2023-11-30T04:01:32.449331Z",
     "shell.execute_reply": "2023-11-30T04:01:32.448328Z",
     "shell.execute_reply.started": "2023-11-30T04:01:32.433365Z"
    },
    "tags": []
   },
   "outputs": [],
   "source": [
    "folder_name = '02_processed_long'\n",
    "file_name = 'merging_type1_03frm_0.10sec.parquet'\n",
    "file_path = os.path.join(working_dir, folder_name, file_name)"
   ]
  },
  {
   "cell_type": "code",
   "execution_count": 5,
   "id": "0392504e-5eb6-44b3-b784-842e9eaf13d6",
   "metadata": {
    "execution": {
     "iopub.execute_input": "2023-11-30T04:01:32.449331Z",
     "iopub.status.busy": "2023-11-30T04:01:32.449331Z",
     "iopub.status.idle": "2023-11-30T04:01:32.589783Z",
     "shell.execute_reply": "2023-11-30T04:01:32.588983Z",
     "shell.execute_reply.started": "2023-11-30T04:01:32.449331Z"
    },
    "tags": []
   },
   "outputs": [],
   "source": [
    "df = pq.read_pandas(file_path).to_pandas()\n",
    "\n",
    "df.rename({'LV_V_len' : 'LV_len',\n",
    "           'LV_V_wid' : 'LV_wid'}, axis = 1, inplace = True)"
   ]
  },
  {
   "cell_type": "code",
   "execution_count": 6,
   "id": "78c5566a-6413-4aaf-a1a7-a3cc9f690c1b",
   "metadata": {
    "execution": {
     "iopub.execute_input": "2023-11-30T04:01:32.589783Z",
     "iopub.status.busy": "2023-11-30T04:01:32.589783Z",
     "iopub.status.idle": "2023-11-30T04:01:32.619959Z",
     "shell.execute_reply": "2023-11-30T04:01:32.619959Z",
     "shell.execute_reply.started": "2023-11-30T04:01:32.589783Z"
    },
    "tags": []
   },
   "outputs": [
    {
     "data": {
      "text/html": [
       "<div>\n",
       "<style scoped>\n",
       "    .dataframe tbody tr th:only-of-type {\n",
       "        vertical-align: middle;\n",
       "    }\n",
       "\n",
       "    .dataframe tbody tr th {\n",
       "        vertical-align: top;\n",
       "    }\n",
       "\n",
       "    .dataframe thead th {\n",
       "        text-align: right;\n",
       "    }\n",
       "</style>\n",
       "<table border=\"1\" class=\"dataframe\">\n",
       "  <thead>\n",
       "    <tr style=\"text-align: right;\">\n",
       "      <th></th>\n",
       "      <th>pair</th>\n",
       "      <th>veh_id</th>\n",
       "      <th>LV_ID</th>\n",
       "      <th>frm</th>\n",
       "      <th>LV_type</th>\n",
       "      <th>local_x</th>\n",
       "      <th>local_y</th>\n",
       "      <th>V_len</th>\n",
       "      <th>V_wid</th>\n",
       "      <th>velocity</th>\n",
       "      <th>...</th>\n",
       "      <th>LV_Lane_00</th>\n",
       "      <th>LV_Lane_99</th>\n",
       "      <th>LV_Lane_change</th>\n",
       "      <th>LV_Lane_leave</th>\n",
       "      <th>LV_Lane_change_direction</th>\n",
       "      <th>LV_LC_CF</th>\n",
       "      <th>D_x</th>\n",
       "      <th>D_y</th>\n",
       "      <th>D</th>\n",
       "      <th>D_gap</th>\n",
       "    </tr>\n",
       "  </thead>\n",
       "  <tbody>\n",
       "    <tr>\n",
       "      <th>0</th>\n",
       "      <td>1000_994</td>\n",
       "      <td>1000</td>\n",
       "      <td>994</td>\n",
       "      <td>17307</td>\n",
       "      <td>LVR</td>\n",
       "      <td>33.96875</td>\n",
       "      <td>21.921875</td>\n",
       "      <td>7.09375</td>\n",
       "      <td>2.064453</td>\n",
       "      <td>91.875</td>\n",
       "      <td>...</td>\n",
       "      <td>U3</td>\n",
       "      <td>U3</td>\n",
       "      <td>None</td>\n",
       "      <td>None</td>\n",
       "      <td>Straight</td>\n",
       "      <td>CF</td>\n",
       "      <td>46.21875</td>\n",
       "      <td>-10.945312</td>\n",
       "      <td>47.497082</td>\n",
       "      <td>NaN</td>\n",
       "    </tr>\n",
       "    <tr>\n",
       "      <th>1</th>\n",
       "      <td>1000_994</td>\n",
       "      <td>1000</td>\n",
       "      <td>994</td>\n",
       "      <td>17460</td>\n",
       "      <td>LVR</td>\n",
       "      <td>173.12500</td>\n",
       "      <td>21.406250</td>\n",
       "      <td>7.09375</td>\n",
       "      <td>2.064453</td>\n",
       "      <td>104.125</td>\n",
       "      <td>...</td>\n",
       "      <td>U3</td>\n",
       "      <td>U3</td>\n",
       "      <td>None</td>\n",
       "      <td>None</td>\n",
       "      <td>Straight</td>\n",
       "      <td>CF</td>\n",
       "      <td>23.00000</td>\n",
       "      <td>-7.750000</td>\n",
       "      <td>24.270609</td>\n",
       "      <td>-0.593082</td>\n",
       "    </tr>\n",
       "    <tr>\n",
       "      <th>2</th>\n",
       "      <td>1000_994</td>\n",
       "      <td>1000</td>\n",
       "      <td>994</td>\n",
       "      <td>17457</td>\n",
       "      <td>LVR</td>\n",
       "      <td>170.25000</td>\n",
       "      <td>21.359375</td>\n",
       "      <td>7.09375</td>\n",
       "      <td>2.064453</td>\n",
       "      <td>103.875</td>\n",
       "      <td>...</td>\n",
       "      <td>U3</td>\n",
       "      <td>U3</td>\n",
       "      <td>None</td>\n",
       "      <td>None</td>\n",
       "      <td>Straight</td>\n",
       "      <td>CF</td>\n",
       "      <td>23.62500</td>\n",
       "      <td>-7.750000</td>\n",
       "      <td>24.863691</td>\n",
       "      <td>-0.477961</td>\n",
       "    </tr>\n",
       "  </tbody>\n",
       "</table>\n",
       "<p>3 rows × 67 columns</p>\n",
       "</div>"
      ],
      "text/plain": [
       "       pair  veh_id  LV_ID    frm LV_type    local_x    local_y    V_len  \\\n",
       "0  1000_994    1000    994  17307     LVR   33.96875  21.921875  7.09375   \n",
       "1  1000_994    1000    994  17460     LVR  173.12500  21.406250  7.09375   \n",
       "2  1000_994    1000    994  17457     LVR  170.25000  21.359375  7.09375   \n",
       "\n",
       "      V_wid  velocity  ...  LV_Lane_00 LV_Lane_99  LV_Lane_change  \\\n",
       "0  2.064453    91.875  ...          U3         U3            None   \n",
       "1  2.064453   104.125  ...          U3         U3            None   \n",
       "2  2.064453   103.875  ...          U3         U3            None   \n",
       "\n",
       "   LV_Lane_leave  LV_Lane_change_direction  LV_LC_CF       D_x        D_y  \\\n",
       "0           None                  Straight        CF  46.21875 -10.945312   \n",
       "1           None                  Straight        CF  23.00000  -7.750000   \n",
       "2           None                  Straight        CF  23.62500  -7.750000   \n",
       "\n",
       "           D     D_gap  \n",
       "0  47.497082       NaN  \n",
       "1  24.270609 -0.593082  \n",
       "2  24.863691 -0.477961  \n",
       "\n",
       "[3 rows x 67 columns]"
      ]
     },
     "execution_count": 6,
     "metadata": {},
     "output_type": "execute_result"
    }
   ],
   "source": [
    "df.head(3)"
   ]
  },
  {
   "cell_type": "code",
   "execution_count": 7,
   "id": "8ea3d7c5-5033-4278-be4e-792daa44fafc",
   "metadata": {
    "execution": {
     "iopub.execute_input": "2023-11-30T04:01:32.620958Z",
     "iopub.status.busy": "2023-11-30T04:01:32.620958Z",
     "iopub.status.idle": "2023-11-30T04:01:32.635066Z",
     "shell.execute_reply": "2023-11-30T04:01:32.635066Z",
     "shell.execute_reply.started": "2023-11-30T04:01:32.620958Z"
    },
    "tags": []
   },
   "outputs": [
    {
     "data": {
      "text/plain": [
       "['pair',\n",
       " 'veh_id',\n",
       " 'LV_ID',\n",
       " 'frm',\n",
       " 'LV_type',\n",
       " 'local_x',\n",
       " 'local_y',\n",
       " 'V_len',\n",
       " 'V_wid',\n",
       " 'velocity',\n",
       " 'acc',\n",
       " 'lane',\n",
       " 'Time',\n",
       " 'local_x_before',\n",
       " 'local_y_before',\n",
       " 'delta_local_x',\n",
       " 'delta_local_y',\n",
       " 'velocity_x',\n",
       " 'velocity_y',\n",
       " 'velocity_x_before',\n",
       " 'velocity_y_before',\n",
       " 'delta_velocity_x',\n",
       " 'delta_velocity_y',\n",
       " 'acc_x',\n",
       " 'acc_y',\n",
       " 'lane_past',\n",
       " 'Lane_record',\n",
       " 'Lane_record_split',\n",
       " 'Lane_00',\n",
       " 'Lane_99',\n",
       " 'Lane_change',\n",
       " 'Lane_leave',\n",
       " 'Lane_change_direction',\n",
       " 'LC_CF',\n",
       " 'LV_local_x',\n",
       " 'LV_local_y',\n",
       " 'LV_len',\n",
       " 'LV_wid',\n",
       " 'LV_velocity',\n",
       " 'LV_acc',\n",
       " 'LV_lane',\n",
       " 'LV_Time',\n",
       " 'LV_local_x_before',\n",
       " 'LV_local_y_before',\n",
       " 'LV_delta_local_x',\n",
       " 'LV_delta_local_y',\n",
       " 'LV_velocity_x',\n",
       " 'LV_velocity_y',\n",
       " 'LV_velocity_x_before',\n",
       " 'LV_velocity_y_before',\n",
       " 'LV_delta_velocity_x',\n",
       " 'LV_delta_velocity_y',\n",
       " 'LV_acc_x',\n",
       " 'LV_acc_y',\n",
       " 'LV_lane_past',\n",
       " 'LV_Lane_record',\n",
       " 'LV_Lane_record_split',\n",
       " 'LV_Lane_00',\n",
       " 'LV_Lane_99',\n",
       " 'LV_Lane_change',\n",
       " 'LV_Lane_leave',\n",
       " 'LV_Lane_change_direction',\n",
       " 'LV_LC_CF',\n",
       " 'D_x',\n",
       " 'D_y',\n",
       " 'D',\n",
       " 'D_gap']"
      ]
     },
     "execution_count": 7,
     "metadata": {},
     "output_type": "execute_result"
    }
   ],
   "source": [
    "list(df.columns)"
   ]
  },
  {
   "cell_type": "markdown",
   "id": "2e2de69a-7ebf-4d3e-83f4-2190783e3618",
   "metadata": {},
   "source": [
    "# Calculation"
   ]
  },
  {
   "cell_type": "markdown",
   "id": "6e18e1d3-f476-4ba9-8b2a-edf90aebf675",
   "metadata": {},
   "source": [
    "## Settings\n",
    "* 공통 상수 설정"
   ]
  },
  {
   "cell_type": "code",
   "execution_count": 8,
   "id": "505e1aa7-be7c-4162-921b-05ae358335fb",
   "metadata": {
    "execution": {
     "iopub.execute_input": "2023-11-30T04:01:32.636065Z",
     "iopub.status.busy": "2023-11-30T04:01:32.636065Z",
     "iopub.status.idle": "2023-11-30T04:01:32.652051Z",
     "shell.execute_reply": "2023-11-30T04:01:32.651053Z",
     "shell.execute_reply.started": "2023-11-30T04:01:32.636065Z"
    },
    "tags": []
   },
   "outputs": [],
   "source": [
    "threshold_TTC = 1.5 # time-based SSM 임계값\n",
    "threshold_DRAC = 3.4\n",
    "\n",
    "tmsec = 0.1 # 각 row별 시간단위(초)\n",
    "g = 9.81 # 중력가속도\n",
    "f = 0.35 # 마찰계수. friction coeefficient\n",
    "delta_t = 1 # Reaction Delay time. 운전자 반응시간\n",
    "MADR = 8.45 # 차량의 최대 감속 능력. 날씨에 따라, 차종에 따라 다르다. Saccomanno et al.(2008) 참조\n",
    "deceleration_rate = 0.3 * g # 차량 감속도. 3.3도 됨"
   ]
  },
  {
   "cell_type": "markdown",
   "id": "e502955e-7452-4d69-b363-3bd91e73c0b5",
   "metadata": {
    "tags": []
   },
   "source": [
    "## Time-based SSM\n",
    "* Temporal Proximal Indicator"
   ]
  },
  {
   "cell_type": "code",
   "execution_count": 9,
   "id": "05a95f59-5213-4455-bc63-b4eb0e806295",
   "metadata": {
    "execution": {
     "iopub.execute_input": "2023-11-30T04:01:32.653045Z",
     "iopub.status.busy": "2023-11-30T04:01:32.653045Z",
     "iopub.status.idle": "2023-11-30T04:01:32.667947Z",
     "shell.execute_reply": "2023-11-30T04:01:32.666977Z",
     "shell.execute_reply.started": "2023-11-30T04:01:32.653045Z"
    },
    "tags": []
   },
   "outputs": [],
   "source": [
    "tqdm.pandas()"
   ]
  },
  {
   "cell_type": "code",
   "execution_count": 10,
   "id": "9744ff3a-83b0-4a5a-92aa-d5cb3fae1c3e",
   "metadata": {
    "execution": {
     "iopub.execute_input": "2023-11-30T04:01:32.668944Z",
     "iopub.status.busy": "2023-11-30T04:01:32.667947Z",
     "iopub.status.idle": "2023-11-30T04:01:52.671990Z",
     "shell.execute_reply": "2023-11-30T04:01:52.670989Z",
     "shell.execute_reply.started": "2023-11-30T04:01:32.668944Z"
    },
    "tags": []
   },
   "outputs": [
    {
     "name": "stderr",
     "output_type": "stream",
     "text": [
      "100%|███████████████████████████████████████████████████████████████████████| 172320/172320 [00:10<00:00, 17098.93it/s]\n",
      "100%|███████████████████████████████████████████████████████████████████████| 172320/172320 [00:09<00:00, 18441.31it/s]\n"
     ]
    }
   ],
   "source": [
    "# 꼭지점 4개 만들기\n",
    "# 각 차량의 1,2,3,4번 꼭지점 좌표를 구한다.\n",
    "df['V_point_1'], df['V_point_2'], df['V_point_3'], df['V_point_4'] = zip(*df.progress_apply(lambda x: points(x.local_x, x.local_y, x.velocity_x, x.velocity_y, x.V_wid, x.V_len), axis = 1))\n",
    "df['LV_point_1'], df['LV_point_2'], df['LV_point_3'], df['LV_point_4'] = zip(*df.progress_apply(lambda x: points(x.LV_local_x, x.LV_local_y, x.LV_velocity_x, x.LV_velocity_y, x.LV_wid, x.LV_len), axis = 1))"
   ]
  },
  {
   "cell_type": "code",
   "execution_count": 11,
   "id": "a4f7ea9e-89c4-4e2c-b985-8a5b5626240f",
   "metadata": {
    "execution": {
     "iopub.execute_input": "2023-11-30T04:01:52.673011Z",
     "iopub.status.busy": "2023-11-30T04:01:52.673011Z",
     "iopub.status.idle": "2023-11-30T04:02:10.451925Z",
     "shell.execute_reply": "2023-11-30T04:02:10.450894Z",
     "shell.execute_reply.started": "2023-11-30T04:01:52.673011Z"
    },
    "tags": []
   },
   "outputs": [
    {
     "name": "stderr",
     "output_type": "stream",
     "text": [
      "100%|████████████████████████████████████████████████████████████████████████| 172320/172320 [00:17<00:00, 9855.14it/s]\n"
     ]
    }
   ],
   "source": [
    "## Nearest_point 추출\n",
    "df['V_LV_point_num'], df['V_LV_point_n'], df['LV_point_n'], df['V_LV_point_num2'], df['V_LV_point_n2'], df['LV_point_n2'] = zip(*df.progress_apply(lambda x: nearest_point(x.V_point_1, x.V_point_2, x.V_point_3, x.V_point_4, x.LV_point_1, x.LV_point_2, x.LV_point_3, x.LV_point_4), axis = 1))"
   ]
  },
  {
   "cell_type": "code",
   "execution_count": 12,
   "id": "3cc949e6-fd51-4a5b-b055-7a5f54a9bd7d",
   "metadata": {
    "execution": {
     "iopub.execute_input": "2023-11-30T04:02:10.452880Z",
     "iopub.status.busy": "2023-11-30T04:02:10.452880Z",
     "iopub.status.idle": "2023-11-30T04:02:26.374598Z",
     "shell.execute_reply": "2023-11-30T04:02:26.374598Z",
     "shell.execute_reply.started": "2023-11-30T04:02:10.452880Z"
    },
    "tags": []
   },
   "outputs": [
    {
     "name": "stderr",
     "output_type": "stream",
     "text": [
      "100%|███████████████████████████████████████████████████████████████████████| 172320/172320 [00:15<00:00, 10957.47it/s]\n"
     ]
    }
   ],
   "source": [
    "## Shortest Distance 구하기 : ACT 용\n",
    "df['V_LV_point_delta'], df['V_LV_shortest_vector'], df['V_LV_shortest_distance'] = zip(*df.progress_apply(lambda x: shortest_distance(\n",
    "    x.V_LV_point_num, x.V_LV_point_n, x.LV_point_n, \n",
    "    x.V_point_1, x.V_point_2, x.V_point_3, x.V_point_4, \n",
    "    x.LV_point_1, x.LV_point_2, x.LV_point_3, x.LV_point_4), axis = 1))"
   ]
  },
  {
   "cell_type": "code",
   "execution_count": null,
   "id": "625a7a24-d7a5-40c9-91bc-1b4028d036d6",
   "metadata": {
    "tags": []
   },
   "outputs": [],
   "source": [
    "df['overlap'] = df.progress_apply(lambda x: overlap(x.LV_type, x.V_LV_point_num, x.V_LV_point_num2, x.velocity_x, x.velocity_y, x.LV_velocity_x, x.LV_velocity_y, x.local_x, x.local_y, x.LV_local_x, x.LV_local_y, x.V_len, x.LV_len), axis = 1)"
   ]
  },
  {
   "cell_type": "code",
   "execution_count": 14,
   "id": "5febfb27-5658-4099-84cf-4c3543f7ac27",
   "metadata": {
    "execution": {
     "iopub.execute_input": "2023-11-30T04:04:34.757076Z",
     "iopub.status.busy": "2023-11-30T04:04:34.757076Z",
     "iopub.status.idle": "2023-11-30T04:04:53.232243Z",
     "shell.execute_reply": "2023-11-30T04:04:53.231245Z",
     "shell.execute_reply.started": "2023-11-30T04:04:34.757076Z"
    }
   },
   "outputs": [
    {
     "name": "stderr",
     "output_type": "stream",
     "text": [
      "100%|████████████████████████████████████████████████████████████████████████| 172320/172320 [00:18<00:00, 9434.74it/s]\n"
     ]
    }
   ],
   "source": [
    "df['potential_conflict_type'], df['degX'] = zip(*df.progress_apply(lambda x: potential_conflict_type(x.LV_type, x.overlap, x.V_LV_point_num, x.V_LV_point_num2, x.velocity_x, x.velocity_y, x.LV_velocity_x, x.LV_velocity_y, x.local_x, x.local_y, x.LV_local_x, x.LV_local_y, x.V_len, x.V_wid, x.LV_len, x.LV_wid), axis = 1))"
   ]
  },
  {
   "cell_type": "code",
   "execution_count": 15,
   "id": "d3488d14-6dfc-4098-bb79-ffc9c7037971",
   "metadata": {
    "execution": {
     "iopub.execute_input": "2023-11-30T04:04:53.233240Z",
     "iopub.status.busy": "2023-11-30T04:04:53.233240Z",
     "iopub.status.idle": "2023-11-30T04:05:38.106504Z",
     "shell.execute_reply": "2023-11-30T04:05:38.104533Z",
     "shell.execute_reply.started": "2023-11-30T04:04:53.233240Z"
    },
    "tags": []
   },
   "outputs": [
    {
     "name": "stderr",
     "output_type": "stream",
     "text": [
      "100%|████████████████████████████████████████████████████████████████████████| 172320/172320 [00:44<00:00, 3841.51it/s]\n"
     ]
    }
   ],
   "source": [
    "# 2차원 SSM\n",
    "df['T2'] = df.progress_apply(lambda x: T2(\n",
    "    x.V_LV_point_num, x.V_LV_point_n, x.LV_point_n, \n",
    "    x.V_point_1, x.V_point_2, x.V_point_3, x.V_point_4, \n",
    "    x.LV_point_1, x.LV_point_2, x.LV_point_3, x.LV_point_4,\n",
    "    x.velocity_x, x.velocity_y, x.LV_velocity_x, x.LV_velocity_y), axis = 1)"
   ]
  },
  {
   "cell_type": "code",
   "execution_count": 16,
   "id": "bbfa0ff3-128d-4107-911f-2980d60e5b00",
   "metadata": {
    "execution": {
     "iopub.execute_input": "2023-11-30T04:05:38.109495Z",
     "iopub.status.busy": "2023-11-30T04:05:38.109495Z",
     "iopub.status.idle": "2023-11-30T04:05:38.120462Z",
     "shell.execute_reply": "2023-11-30T04:05:38.120462Z",
     "shell.execute_reply.started": "2023-11-30T04:05:38.109495Z"
    }
   },
   "outputs": [],
   "source": [
    "#df[['ip1', 'ip2', 'cos_theta', 'theta', 'degX', 'potential_conflict_type']]"
   ]
  },
  {
   "cell_type": "code",
   "execution_count": 17,
   "id": "562a464c-946a-4928-b6e3-2b7e54161461",
   "metadata": {
    "execution": {
     "iopub.execute_input": "2023-11-30T04:05:38.122492Z",
     "iopub.status.busy": "2023-11-30T04:05:38.122492Z",
     "iopub.status.idle": "2023-11-30T04:06:11.909135Z",
     "shell.execute_reply": "2023-11-30T04:06:11.908122Z",
     "shell.execute_reply.started": "2023-11-30T04:05:38.122492Z"
    },
    "tags": []
   },
   "outputs": [
    {
     "name": "stderr",
     "output_type": "stream",
     "text": [
      "100%|███████████████████████████████████████████████████████████████████████| 172320/172320 [00:15<00:00, 10861.08it/s]\n",
      "100%|████████████████████████████████████████████████████████████████████████| 172320/172320 [00:17<00:00, 9626.87it/s]\n"
     ]
    }
   ],
   "source": [
    "df['TTC'] = df.progress_apply(lambda x: TTC(x.potential_conflict_type, x.LV_type, x.local_x, x.LV_local_x, x.velocity_x, x.LV_velocity_x, x.V_len, x.LV_len, x.V_wid, x.LV_wid, x.local_y, x.LV_local_y, x.velocity_y, x.LV_velocity_y), axis = 1)\n",
    "\n",
    "df['MTTC'] = df.progress_apply(lambda x: MTTC(x.potential_conflict_type, x.LV_type, x.local_x, x.LV_local_x, x.velocity_x, x.LV_velocity_x, x.acc_x, x.LV_acc_x, x.V_len, x.LV_len, x.V_wid, x.LV_wid, x.local_y, x.LV_local_y, x.velocity_y, x.LV_velocity_y), axis = 1)"
   ]
  },
  {
   "cell_type": "code",
   "execution_count": 18,
   "id": "87d96e9d-8eb9-4c71-9bc4-c68da9964634",
   "metadata": {
    "execution": {
     "iopub.execute_input": "2023-11-30T04:06:11.910118Z",
     "iopub.status.busy": "2023-11-30T04:06:11.910118Z",
     "iopub.status.idle": "2023-11-30T04:06:32.838771Z",
     "shell.execute_reply": "2023-11-30T04:06:32.838771Z",
     "shell.execute_reply.started": "2023-11-30T04:06:11.910118Z"
    },
    "tags": []
   },
   "outputs": [
    {
     "name": "stderr",
     "output_type": "stream",
     "text": [
      "100%|████████████████████████████████████████████████████████████████████████| 172320/172320 [00:20<00:00, 8316.73it/s]\n"
     ]
    }
   ],
   "source": [
    "df['ACT'], df['total_rel'], df['d_delta'] = zip(*df.progress_apply(lambda x: ACT(\n",
    "    x.velocity_x, x.velocity_y, x.velocity_x_before, x.velocity_y_before,\n",
    "    x.LV_velocity_x, x.LV_velocity_y, x.LV_velocity_x_before, x.LV_velocity_y_before,\n",
    "    x.acc_x, x.acc_y, x.LV_acc_x, x.LV_acc_y, \n",
    "    x.V_LV_shortest_vector, x.V_LV_shortest_distance), axis = 1))"
   ]
  },
  {
   "cell_type": "code",
   "execution_count": 19,
   "id": "b0edef03-c40e-4dd4-b850-8a5e4b762311",
   "metadata": {
    "execution": {
     "iopub.execute_input": "2023-11-30T04:06:32.840735Z",
     "iopub.status.busy": "2023-11-30T04:06:32.839738Z",
     "iopub.status.idle": "2023-11-30T04:09:15.748658Z",
     "shell.execute_reply": "2023-11-30T04:09:15.747664Z",
     "shell.execute_reply.started": "2023-11-30T04:06:32.840735Z"
    },
    "tags": []
   },
   "outputs": [
    {
     "name": "stderr",
     "output_type": "stream",
     "text": [
      "100%|████████████████████████████████████████████████████████████████████████| 172320/172320 [02:42<00:00, 1059.24it/s]\n"
     ]
    }
   ],
   "source": [
    "df['pPET'], df['time_gap'] = zip(*df.progress_apply(lambda x: pPET(\n",
    "    x.potential_conflict_type, x.V_LV_point_num, x.V_LV_point_n, x.LV_point_n, \n",
    "    x.V_point_1, x.V_point_2, x.V_point_3, x.V_point_4, \n",
    "    x.LV_point_1, x.LV_point_2, x.LV_point_3, x.LV_point_4,\n",
    "    x.velocity_x, x.velocity_y, x.LV_velocity_x, x.LV_velocity_y), axis = 1))"
   ]
  },
  {
   "cell_type": "code",
   "execution_count": 20,
   "id": "283a3c90-a6a1-48c6-ba89-cd369576eba9",
   "metadata": {
    "execution": {
     "iopub.execute_input": "2023-11-30T04:09:15.749627Z",
     "iopub.status.busy": "2023-11-30T04:09:15.749627Z",
     "iopub.status.idle": "2023-11-30T04:09:15.764587Z",
     "shell.execute_reply": "2023-11-30T04:09:15.763589Z",
     "shell.execute_reply.started": "2023-11-30T04:09:15.749627Z"
    },
    "tags": []
   },
   "outputs": [],
   "source": [
    "#df['TIT2'] = df.progress_apply(lambda x: TIT(x.T2, threshold_TTC, tmsec), axis = 1)\n",
    "#df['TIACT'] = df.progress_apply(lambda x: TIT(x.ACT, threshold_TTC, tmsec), axis = 1)"
   ]
  },
  {
   "cell_type": "code",
   "execution_count": 21,
   "id": "d6f8a88f-d43e-4753-aaec-910a4b834e21",
   "metadata": {
    "execution": {
     "iopub.execute_input": "2023-11-30T04:09:15.765584Z",
     "iopub.status.busy": "2023-11-30T04:09:15.765584Z",
     "iopub.status.idle": "2023-11-30T04:09:15.780545Z",
     "shell.execute_reply": "2023-11-30T04:09:15.778581Z",
     "shell.execute_reply.started": "2023-11-30T04:09:15.765584Z"
    },
    "tags": []
   },
   "outputs": [],
   "source": [
    "# df['SSCR_TTC_prime'] = df.progress_apply(lambda x: SSCR_TTC_prime(\n",
    "#     x.potential_conflict_type, x.V_LV_point_num, x.V_LV_point_n, x.LV_point_n, \n",
    "#     x.V_point_1, x.V_point_2, x.V_point_3, x.V_point_4, \n",
    "#     x.LV_point_1, x.LV_point_2, x.LV_point_3, x.LV_point_4,\n",
    "#     x.velocity_x, x.velocity_y, x.LV_velocity_x, x.LV_velocity_y), axis = 1)"
   ]
  },
  {
   "cell_type": "code",
   "execution_count": 22,
   "id": "647e4f7e-84c7-495d-8161-881ccff85dae",
   "metadata": {
    "execution": {
     "iopub.execute_input": "2023-11-30T04:09:15.781543Z",
     "iopub.status.busy": "2023-11-30T04:09:15.780545Z",
     "iopub.status.idle": "2023-11-30T04:09:15.795511Z",
     "shell.execute_reply": "2023-11-30T04:09:15.794508Z",
     "shell.execute_reply.started": "2023-11-30T04:09:15.781543Z"
    },
    "tags": []
   },
   "outputs": [],
   "source": [
    "# df['SSCR_R'] = df.progress_apply(lambda x: SSCR_R(x.TTC), axis = 1)\n",
    "# df['SSCR_Y'] = df.progress_apply(lambda x: SSCR_Y(x.TTC, x.pPET, x.SSCR_TTC_prime), axis = 1)\n",
    "# df['SSCR'] = df['SSCR_R'] + df['SSCR_Y']\n",
    "\n",
    "# # df = TA(df) # Time to Accident 계산\n",
    "# # df['critical_speed'] = df.apply(lambda x: critical_speed(g, f, x.pPET), axis = 1)\n",
    "# # df['TA_CS'] = df.apply(lambda x: TA_CS(x.TA, x.critical_speed), axis = 1) # TA/CS 계산"
   ]
  },
  {
   "cell_type": "markdown",
   "id": "67bf9bbb-1713-4b0c-a991-81f554076a34",
   "metadata": {},
   "source": [
    "## Deceleration-based SSM"
   ]
  },
  {
   "cell_type": "code",
   "execution_count": 23,
   "id": "0150c10b-6e1e-43bb-96de-ec65301a0f04",
   "metadata": {
    "execution": {
     "iopub.execute_input": "2023-11-30T04:09:15.798525Z",
     "iopub.status.busy": "2023-11-30T04:09:15.797530Z",
     "iopub.status.idle": "2023-11-30T04:10:32.105856Z",
     "shell.execute_reply": "2023-11-30T04:10:32.104858Z",
     "shell.execute_reply.started": "2023-11-30T04:09:15.798525Z"
    },
    "tags": []
   },
   "outputs": [
    {
     "name": "stderr",
     "output_type": "stream",
     "text": [
      "100%|███████████████████████████████████████████████████████████████████████| 172320/172320 [00:15<00:00, 11063.49it/s]\n",
      "100%|███████████████████████████████████████████████████████████████████████| 172320/172320 [00:15<00:00, 11021.99it/s]\n",
      "100%|███████████████████████████████████████████████████████████████████████| 172320/172320 [00:14<00:00, 11786.32it/s]\n",
      "100%|███████████████████████████████████████████████████████████████████████| 172320/172320 [00:16<00:00, 10225.79it/s]\n",
      "100%|███████████████████████████████████████████████████████████████████████| 172320/172320 [00:13<00:00, 12670.50it/s]\n"
     ]
    }
   ],
   "source": [
    "df['PSD'] = df.progress_apply(lambda x: PSD(x.potential_conflict_type, x.LV_type, x.local_x, x.LV_local_x, x.velocity_x, x.LV_velocity_x, x.V_len, x.LV_len, f, g, x.V_wid, x.LV_wid, x.local_y, x.LV_local_y, x.velocity_y, x.LV_velocity_y), axis = 1)\n",
    "\n",
    "df['DSS'] = df.progress_apply(lambda x: DSS(x.potential_conflict_type, x.LV_type, x.local_x, x.LV_local_x, x.velocity_x, x.LV_velocity_x, x.V_len, x.LV_len, g, f, delta_t, x.V_wid, x.LV_wid, x.local_y, x.LV_local_y, x.velocity_y, x.LV_velocity_y), axis = 1)\n",
    "#df['TIDSS'] = df.progress_apply(lambda x: TIDSS(x.DSS, tmsec), axis = 1)\n",
    "\n",
    "df['PICUD'] = df.progress_apply(lambda x: PICUD(x.potential_conflict_type, x.LV_type, x.local_x, x.LV_local_x, x.velocity_x, x.LV_velocity_x, x.D_x, delta_t, deceleration_rate, x.V_wid, x.LV_wid, x.local_y, x.LV_local_y, x.velocity_y, x.LV_velocity_y), axis = 1)\n",
    "\n",
    "df['MTC'] = df.progress_apply(lambda x: MTC(x.potential_conflict_type, x.LV_type, x.local_x, x.LV_local_x, x.D_x, x.V_len, x.LV_len, x.velocity_x, x.LV_velocity, delta_t, deceleration_rate, x.V_wid, x.LV_wid, x.local_y, x.LV_local_y, x.velocity_y, x.LV_velocity_y), axis = 1)\n",
    "df['MMTC'] = df.progress_apply(lambda x: MMTC(x.potential_conflict_type, x.LV_type, x.local_x, x.LV_local_x, x.velocity_x, x.LV_velocity_x, g, x.V_wid, x.LV_wid, x.local_y, x.LV_local_y, x.velocity_y, x.LV_velocity_y), axis = 1)\n",
    "\n",
    "#df['RCRI'] = df.progress_apply(lambda x: RCRI(x.local_x, x.LV_local_x, x.velocity_x, x.LV_velocity_x, x.acc_x, x.LV_acc_x, x.D_x, delta_t, x.V_wid, x.LV_wid, x.local_y, x.LV_local_y, x.velocity_y, x.LV_velocity_y), axis = 1)\n",
    "#df['TERCRI'] = df.progress_apply(lambda x: TERCRI(x.RCRI, tmsec), axis = 1)"
   ]
  },
  {
   "cell_type": "code",
   "execution_count": 24,
   "id": "ee87cbb3-864a-47df-a2a2-7e73c089751e",
   "metadata": {
    "execution": {
     "iopub.execute_input": "2023-11-30T04:10:32.106855Z",
     "iopub.status.busy": "2023-11-30T04:10:32.106855Z",
     "iopub.status.idle": "2023-11-30T04:11:36.301093Z",
     "shell.execute_reply": "2023-11-30T04:11:36.300096Z",
     "shell.execute_reply.started": "2023-11-30T04:10:32.106855Z"
    }
   },
   "outputs": [
    {
     "name": "stderr",
     "output_type": "stream",
     "text": [
      "100%|███████████████████████████████████████████████████████████████████████| 172320/172320 [00:16<00:00, 10182.84it/s]\n",
      "100%|███████████████████████████████████████████████████████████████████████| 172320/172320 [00:14<00:00, 11531.33it/s]\n",
      "100%|███████████████████████████████████████████████████████████████████████| 172320/172320 [00:16<00:00, 10366.10it/s]\n",
      "100%|███████████████████████████████████████████████████████████████████████| 172320/172320 [00:15<00:00, 10993.72it/s]\n"
     ]
    }
   ],
   "source": [
    "df['DRAC'] = df.progress_apply(lambda x: DRAC(x.potential_conflict_type, x.LV_type, x.local_x, x.LV_local_x, x.D_x, x.velocity_x, x.LV_velocity_x, x.LV_len, x.V_len, x.V_wid, x.LV_wid, x.local_y, x.LV_local_y, x.velocity_y, x.LV_velocity_y), axis = 1)\n",
    "#df['TIDRAC'] = df.apply(lambda x: TIDRAC(x.DRAC, threshold_DRAC), axis = 1)\n",
    "\n",
    "df['MDRAC'] = df.progress_apply(lambda x: MDRAC(x.potential_conflict_type, x.LV_type, x.local_x, x.LV_local_x, x.velocity_x, x.LV_velocity_x, x.TTC, delta_t, x.V_wid, x.LV_wid, x.local_y, x.LV_local_y, x.velocity_y, x.LV_velocity_y), axis = 1)\n",
    "\n",
    "df['DCIA'] = df.progress_apply(lambda x: DCIA(x.potential_conflict_type, x.LV_type, x.local_x, x.LV_local_x, x.velocity_x, x.LV_velocity_x, x.acc_x, x.LV_acc_x, delta_t, x.D_x, x.V_wid, x.LV_wid, x.local_y, x.LV_local_y, x.velocity_y, x.LV_velocity_y), axis = 1)\n",
    "\n",
    "df['unsafety'] = df.progress_apply(lambda x: unsafety(x.potential_conflict_type, x.LV_type, x.local_x, x.LV_local_x, x.velocity_x, x.LV_velocity_x, x.acc_x, x.LV_acc_x, deceleration_rate, x.V_wid, x.LV_wid, x.local_y, x.LV_local_y, x.velocity_y, x.LV_velocity_y), axis = 1)"
   ]
  },
  {
   "cell_type": "code",
   "execution_count": 25,
   "id": "5756a850-d6b6-4fea-877d-e56e27fb4852",
   "metadata": {
    "execution": {
     "iopub.execute_input": "2023-11-30T04:11:36.303091Z",
     "iopub.status.busy": "2023-11-30T04:11:36.302093Z",
     "iopub.status.idle": "2023-11-30T04:11:52.683610Z",
     "shell.execute_reply": "2023-11-30T04:11:52.683610Z",
     "shell.execute_reply.started": "2023-11-30T04:11:36.302093Z"
    }
   },
   "outputs": [
    {
     "name": "stderr",
     "output_type": "stream",
     "text": [
      "100%|███████████████████████████████████████████████████████████████████████| 172320/172320 [00:02<00:00, 63930.42it/s]\n",
      "100%|███████████████████████████████████████████████████████████████████████| 172320/172320 [00:02<00:00, 63761.36it/s]\n",
      "100%|███████████████████████████████████████████████████████████████████████| 172320/172320 [00:02<00:00, 62877.94it/s]\n",
      "100%|███████████████████████████████████████████████████████████████████████| 172320/172320 [00:02<00:00, 61871.45it/s]\n",
      "100%|███████████████████████████████████████████████████████████████████████| 172320/172320 [00:02<00:00, 62425.81it/s]\n",
      "100%|███████████████████████████████████████████████████████████████████████| 172320/172320 [00:02<00:00, 64729.27it/s]\n"
     ]
    }
   ],
   "source": [
    "df['TIT'] = df.progress_apply(lambda x: TIT(x.TTC, threshold_TTC, tmsec), axis = 1)\n",
    "df['TIT2'] = df.progress_apply(lambda x: TIT(x.T2, threshold_TTC, tmsec), axis = 1)\n",
    "df['TIACT'] = df.progress_apply(lambda x: TIACT(x.ACT, threshold_TTC, tmsec), axis = 1)\n",
    "\n",
    "df['TIDSS'] = df.progress_apply(lambda x: TIDSS(x.DSS, tmsec), axis = 1)\n",
    "df['TIDRAC'] = df.progress_apply(lambda x: TIDRAC(x.DRAC, threshold_DRAC), axis = 1)\n",
    "df['TIMDRAC'] = df.progress_apply(lambda x: TIDRAC(x.MDRAC, threshold_DRAC), axis = 1)"
   ]
  },
  {
   "cell_type": "markdown",
   "id": "25745d75-e246-4df1-801a-9aec250e3a78",
   "metadata": {},
   "source": [
    "## Energy-based SSM"
   ]
  },
  {
   "cell_type": "code",
   "execution_count": 26,
   "id": "704976ff-38ba-407f-b6da-fe9ed7f44afa",
   "metadata": {
    "execution": {
     "iopub.execute_input": "2023-11-30T04:11:52.686596Z",
     "iopub.status.busy": "2023-11-30T04:11:52.685636Z",
     "iopub.status.idle": "2023-11-30T04:11:52.702554Z",
     "shell.execute_reply": "2023-11-30T04:11:52.699566Z",
     "shell.execute_reply.started": "2023-11-30T04:11:52.686596Z"
    },
    "tags": []
   },
   "outputs": [],
   "source": [
    "# df['CIF'] = df.progress_apply(lambda x: CIF(x.velocity_x, x.TTC), axis = 1)\n",
    "# df['CIF2'] = df.progress_apply(lambda x: CIF(x.velocity, x.T2), axis = 1)\n",
    "# df['ACIF'] = df.progress_apply(lambda x: CIF(x.velocity, x.ACT), axis = 1)"
   ]
  },
  {
   "cell_type": "markdown",
   "id": "16d59a1a-e0fb-45dc-9477-c409da1e50f9",
   "metadata": {},
   "source": [
    "# Save"
   ]
  },
  {
   "cell_type": "code",
   "execution_count": 27,
   "id": "de360a89-7967-454e-92c0-f5f9980ba7ed",
   "metadata": {
    "execution": {
     "iopub.execute_input": "2023-11-30T04:11:52.703555Z",
     "iopub.status.busy": "2023-11-30T04:11:52.702554Z",
     "iopub.status.idle": "2023-11-30T04:11:52.938084Z",
     "shell.execute_reply": "2023-11-30T04:11:52.938084Z",
     "shell.execute_reply.started": "2023-11-30T04:11:52.703555Z"
    },
    "tags": []
   },
   "outputs": [],
   "source": [
    "delete_cols = ['V_point_1', 'V_point_2', 'V_point_3', 'V_point_4', \n",
    "              'LV_point_1', 'LV_point_2', 'LV_point_3', 'LV_point_4',\n",
    "              'V_LV_point_num', 'V_LV_point_n', 'LV_point_n', 'V_LV_point_num2',\n",
    "              'V_LV_point_n2',\t'LV_point_n2',\t'V_LV_point_delta',\t'V_LV_shortest_vector',\n",
    "              'V_LV_shortest_distance', 'total_rel', 'd_delta']\n",
    "\n",
    "df2 = df.copy()\n",
    "df2.drop(delete_cols, inplace = True, axis = 1)\n",
    "\n",
    "df2 = df2.dropna(subset = ['veh_id', 'frm'])"
   ]
  },
  {
   "cell_type": "code",
   "execution_count": 28,
   "id": "42c4219e-4919-449b-907b-512ce86f30cb",
   "metadata": {
    "execution": {
     "iopub.execute_input": "2023-11-30T04:11:52.939096Z",
     "iopub.status.busy": "2023-11-30T04:11:52.939096Z",
     "iopub.status.idle": "2023-11-30T04:11:55.593762Z",
     "shell.execute_reply": "2023-11-30T04:11:55.593762Z",
     "shell.execute_reply.started": "2023-11-30T04:11:52.939096Z"
    },
    "tags": []
   },
   "outputs": [],
   "source": [
    "folder_name = '03_SSM'\n",
    "save_name = file_name\n",
    "save_path = os.path.join(working_dir, folder_name, save_name)\n",
    "\n",
    "df2.to_parquet(save_path, engine = 'fastparquet', compression = 'gzip') "
   ]
  },
  {
   "cell_type": "code",
   "execution_count": 29,
   "id": "e2100bd1-6369-4b91-8ff0-12046084afad",
   "metadata": {
    "execution": {
     "iopub.execute_input": "2023-11-30T04:11:55.594795Z",
     "iopub.status.busy": "2023-11-30T04:11:55.594795Z",
     "iopub.status.idle": "2023-11-30T04:11:55.610753Z",
     "shell.execute_reply": "2023-11-30T04:11:55.609781Z",
     "shell.execute_reply.started": "2023-11-30T04:11:55.594795Z"
    },
    "tags": []
   },
   "outputs": [
    {
     "data": {
      "text/html": [
       "<div>\n",
       "<style scoped>\n",
       "    .dataframe tbody tr th:only-of-type {\n",
       "        vertical-align: middle;\n",
       "    }\n",
       "\n",
       "    .dataframe tbody tr th {\n",
       "        vertical-align: top;\n",
       "    }\n",
       "\n",
       "    .dataframe thead th {\n",
       "        text-align: right;\n",
       "    }\n",
       "</style>\n",
       "<table border=\"1\" class=\"dataframe\">\n",
       "  <thead>\n",
       "    <tr style=\"text-align: right;\">\n",
       "      <th></th>\n",
       "      <th>pPET</th>\n",
       "      <th>T2</th>\n",
       "      <th>ACT</th>\n",
       "    </tr>\n",
       "  </thead>\n",
       "  <tbody>\n",
       "    <tr>\n",
       "      <th>0</th>\n",
       "      <td>NaN</td>\n",
       "      <td>NaN</td>\n",
       "      <td>NaN</td>\n",
       "    </tr>\n",
       "    <tr>\n",
       "      <th>1</th>\n",
       "      <td>166.272222</td>\n",
       "      <td>NaN</td>\n",
       "      <td>11.052962</td>\n",
       "    </tr>\n",
       "    <tr>\n",
       "      <th>2</th>\n",
       "      <td>16.158800</td>\n",
       "      <td>NaN</td>\n",
       "      <td>NaN</td>\n",
       "    </tr>\n",
       "    <tr>\n",
       "      <th>3</th>\n",
       "      <td>57.783751</td>\n",
       "      <td>NaN</td>\n",
       "      <td>5.480418</td>\n",
       "    </tr>\n",
       "    <tr>\n",
       "      <th>4</th>\n",
       "      <td>0.303643</td>\n",
       "      <td>59.630586</td>\n",
       "      <td>NaN</td>\n",
       "    </tr>\n",
       "    <tr>\n",
       "      <th>...</th>\n",
       "      <td>...</td>\n",
       "      <td>...</td>\n",
       "      <td>...</td>\n",
       "    </tr>\n",
       "    <tr>\n",
       "      <th>172315</th>\n",
       "      <td>NaN</td>\n",
       "      <td>NaN</td>\n",
       "      <td>1.401911</td>\n",
       "    </tr>\n",
       "    <tr>\n",
       "      <th>172316</th>\n",
       "      <td>10.922020</td>\n",
       "      <td>NaN</td>\n",
       "      <td>NaN</td>\n",
       "    </tr>\n",
       "    <tr>\n",
       "      <th>172317</th>\n",
       "      <td>32.371230</td>\n",
       "      <td>NaN</td>\n",
       "      <td>NaN</td>\n",
       "    </tr>\n",
       "    <tr>\n",
       "      <th>172318</th>\n",
       "      <td>19.254003</td>\n",
       "      <td>NaN</td>\n",
       "      <td>NaN</td>\n",
       "    </tr>\n",
       "    <tr>\n",
       "      <th>172319</th>\n",
       "      <td>29.785849</td>\n",
       "      <td>NaN</td>\n",
       "      <td>6.511199</td>\n",
       "    </tr>\n",
       "  </tbody>\n",
       "</table>\n",
       "<p>172320 rows × 3 columns</p>\n",
       "</div>"
      ],
      "text/plain": [
       "              pPET         T2        ACT\n",
       "0              NaN        NaN        NaN\n",
       "1       166.272222        NaN  11.052962\n",
       "2        16.158800        NaN        NaN\n",
       "3        57.783751        NaN   5.480418\n",
       "4         0.303643  59.630586        NaN\n",
       "...            ...        ...        ...\n",
       "172315         NaN        NaN   1.401911\n",
       "172316   10.922020        NaN        NaN\n",
       "172317   32.371230        NaN        NaN\n",
       "172318   19.254003        NaN        NaN\n",
       "172319   29.785849        NaN   6.511199\n",
       "\n",
       "[172320 rows x 3 columns]"
      ]
     },
     "execution_count": 29,
     "metadata": {},
     "output_type": "execute_result"
    }
   ],
   "source": [
    "df2[['pPET', 'T2', 'ACT']]"
   ]
  },
  {
   "cell_type": "code",
   "execution_count": 30,
   "id": "304ee27d-9d8b-4cbf-8e75-00a706fc2b80",
   "metadata": {
    "execution": {
     "iopub.execute_input": "2023-11-30T04:11:55.611751Z",
     "iopub.status.busy": "2023-11-30T04:11:55.610753Z",
     "iopub.status.idle": "2023-11-30T04:11:55.656140Z",
     "shell.execute_reply": "2023-11-30T04:11:55.656140Z",
     "shell.execute_reply.started": "2023-11-30T04:11:55.611751Z"
    }
   },
   "outputs": [
    {
     "data": {
      "text/html": [
       "<div>\n",
       "<style scoped>\n",
       "    .dataframe tbody tr th:only-of-type {\n",
       "        vertical-align: middle;\n",
       "    }\n",
       "\n",
       "    .dataframe tbody tr th {\n",
       "        vertical-align: top;\n",
       "    }\n",
       "\n",
       "    .dataframe thead th {\n",
       "        text-align: right;\n",
       "    }\n",
       "</style>\n",
       "<table border=\"1\" class=\"dataframe\">\n",
       "  <thead>\n",
       "    <tr style=\"text-align: right;\">\n",
       "      <th></th>\n",
       "      <th>V_LV_shortest_distance</th>\n",
       "      <th>total_rel</th>\n",
       "      <th>d_delta</th>\n",
       "      <th>T2</th>\n",
       "      <th>TTC</th>\n",
       "      <th>MTTC</th>\n",
       "      <th>ACT</th>\n",
       "    </tr>\n",
       "  </thead>\n",
       "  <tbody>\n",
       "    <tr>\n",
       "      <th>0</th>\n",
       "      <td>NaN</td>\n",
       "      <td>None</td>\n",
       "      <td>NaN</td>\n",
       "      <td>NaN</td>\n",
       "      <td>NaN</td>\n",
       "      <td>NaN</td>\n",
       "      <td>NaN</td>\n",
       "    </tr>\n",
       "    <tr>\n",
       "      <th>1</th>\n",
       "      <td>20.340411</td>\n",
       "      <td>[1.5242324659257946, 1.031165159223799]</td>\n",
       "      <td>1.840268</td>\n",
       "      <td>NaN</td>\n",
       "      <td>NaN</td>\n",
       "      <td>NaN</td>\n",
       "      <td>11.052962</td>\n",
       "    </tr>\n",
       "    <tr>\n",
       "      <th>2</th>\n",
       "      <td>20.985508</td>\n",
       "      <td>[-0.35786780127052353, -0.8226833895673269]</td>\n",
       "      <td>NaN</td>\n",
       "      <td>NaN</td>\n",
       "      <td>NaN</td>\n",
       "      <td>NaN</td>\n",
       "      <td>NaN</td>\n",
       "    </tr>\n",
       "    <tr>\n",
       "      <th>3</th>\n",
       "      <td>21.504437</td>\n",
       "      <td>[3.0196445763256996, 2.505690343207647]</td>\n",
       "      <td>3.923868</td>\n",
       "      <td>NaN</td>\n",
       "      <td>NaN</td>\n",
       "      <td>NaN</td>\n",
       "      <td>5.480418</td>\n",
       "    </tr>\n",
       "    <tr>\n",
       "      <th>4</th>\n",
       "      <td>22.088706</td>\n",
       "      <td>[-3.0326293087800282, -3.5209112384763768]</td>\n",
       "      <td>NaN</td>\n",
       "      <td>59.630586</td>\n",
       "      <td>NaN</td>\n",
       "      <td>NaN</td>\n",
       "      <td>NaN</td>\n",
       "    </tr>\n",
       "    <tr>\n",
       "      <th>...</th>\n",
       "      <td>...</td>\n",
       "      <td>...</td>\n",
       "      <td>...</td>\n",
       "      <td>...</td>\n",
       "      <td>...</td>\n",
       "      <td>...</td>\n",
       "      <td>...</td>\n",
       "    </tr>\n",
       "    <tr>\n",
       "      <th>172315</th>\n",
       "      <td>10.890211</td>\n",
       "      <td>[5.476429912000714, 5.5093032612486486]</td>\n",
       "      <td>7.768121</td>\n",
       "      <td>NaN</td>\n",
       "      <td>NaN</td>\n",
       "      <td>NaN</td>\n",
       "      <td>1.401911</td>\n",
       "    </tr>\n",
       "    <tr>\n",
       "      <th>172316</th>\n",
       "      <td>10.860066</td>\n",
       "      <td>[-1.6611827231201524, -1.6185145808107362]</td>\n",
       "      <td>NaN</td>\n",
       "      <td>NaN</td>\n",
       "      <td>NaN</td>\n",
       "      <td>NaN</td>\n",
       "      <td>NaN</td>\n",
       "    </tr>\n",
       "    <tr>\n",
       "      <th>172317</th>\n",
       "      <td>10.974843</td>\n",
       "      <td>[-1.6558843585838943, -1.5949348132784038]</td>\n",
       "      <td>NaN</td>\n",
       "      <td>NaN</td>\n",
       "      <td>NaN</td>\n",
       "      <td>NaN</td>\n",
       "      <td>NaN</td>\n",
       "    </tr>\n",
       "    <tr>\n",
       "      <th>172318</th>\n",
       "      <td>10.581165</td>\n",
       "      <td>[-1.0567576228950544, -1.0177874870354757]</td>\n",
       "      <td>NaN</td>\n",
       "      <td>NaN</td>\n",
       "      <td>NaN</td>\n",
       "      <td>NaN</td>\n",
       "      <td>NaN</td>\n",
       "    </tr>\n",
       "    <tr>\n",
       "      <th>172319</th>\n",
       "      <td>13.340446</td>\n",
       "      <td>[1.4175891700567889, 1.4792606226263034]</td>\n",
       "      <td>2.048846</td>\n",
       "      <td>NaN</td>\n",
       "      <td>NaN</td>\n",
       "      <td>NaN</td>\n",
       "      <td>6.511199</td>\n",
       "    </tr>\n",
       "  </tbody>\n",
       "</table>\n",
       "<p>172320 rows × 7 columns</p>\n",
       "</div>"
      ],
      "text/plain": [
       "        V_LV_shortest_distance                                    total_rel  \\\n",
       "0                          NaN                                         None   \n",
       "1                    20.340411      [1.5242324659257946, 1.031165159223799]   \n",
       "2                    20.985508  [-0.35786780127052353, -0.8226833895673269]   \n",
       "3                    21.504437      [3.0196445763256996, 2.505690343207647]   \n",
       "4                    22.088706   [-3.0326293087800282, -3.5209112384763768]   \n",
       "...                        ...                                          ...   \n",
       "172315               10.890211      [5.476429912000714, 5.5093032612486486]   \n",
       "172316               10.860066   [-1.6611827231201524, -1.6185145808107362]   \n",
       "172317               10.974843   [-1.6558843585838943, -1.5949348132784038]   \n",
       "172318               10.581165   [-1.0567576228950544, -1.0177874870354757]   \n",
       "172319               13.340446     [1.4175891700567889, 1.4792606226263034]   \n",
       "\n",
       "         d_delta         T2  TTC  MTTC        ACT  \n",
       "0            NaN        NaN  NaN   NaN        NaN  \n",
       "1       1.840268        NaN  NaN   NaN  11.052962  \n",
       "2            NaN        NaN  NaN   NaN        NaN  \n",
       "3       3.923868        NaN  NaN   NaN   5.480418  \n",
       "4            NaN  59.630586  NaN   NaN        NaN  \n",
       "...          ...        ...  ...   ...        ...  \n",
       "172315  7.768121        NaN  NaN   NaN   1.401911  \n",
       "172316       NaN        NaN  NaN   NaN        NaN  \n",
       "172317       NaN        NaN  NaN   NaN        NaN  \n",
       "172318       NaN        NaN  NaN   NaN        NaN  \n",
       "172319  2.048846        NaN  NaN   NaN   6.511199  \n",
       "\n",
       "[172320 rows x 7 columns]"
      ]
     },
     "execution_count": 30,
     "metadata": {},
     "output_type": "execute_result"
    }
   ],
   "source": [
    "df[['V_LV_shortest_distance', 'total_rel', 'd_delta', 'T2', 'TTC', 'MTTC', 'ACT']]"
   ]
  },
  {
   "cell_type": "code",
   "execution_count": 36,
   "id": "fbe2ac18-63ff-4f22-b330-dda61be36c63",
   "metadata": {
    "execution": {
     "iopub.execute_input": "2023-11-30T04:15:12.346983Z",
     "iopub.status.busy": "2023-11-30T04:15:12.346983Z",
     "iopub.status.idle": "2023-11-30T04:15:12.413746Z",
     "shell.execute_reply": "2023-11-30T04:15:12.413746Z",
     "shell.execute_reply.started": "2023-11-30T04:15:12.346983Z"
    }
   },
   "outputs": [
    {
     "data": {
      "text/html": [
       "<div>\n",
       "<style scoped>\n",
       "    .dataframe tbody tr th:only-of-type {\n",
       "        vertical-align: middle;\n",
       "    }\n",
       "\n",
       "    .dataframe tbody tr th {\n",
       "        vertical-align: top;\n",
       "    }\n",
       "\n",
       "    .dataframe thead th {\n",
       "        text-align: right;\n",
       "    }\n",
       "</style>\n",
       "<table border=\"1\" class=\"dataframe\">\n",
       "  <thead>\n",
       "    <tr style=\"text-align: right;\">\n",
       "      <th>potential_conflict_type</th>\n",
       "      <th>angled</th>\n",
       "      <th>rear_end</th>\n",
       "      <th>side_swipe</th>\n",
       "    </tr>\n",
       "    <tr>\n",
       "      <th>overlap</th>\n",
       "      <th></th>\n",
       "      <th></th>\n",
       "      <th></th>\n",
       "    </tr>\n",
       "  </thead>\n",
       "  <tbody>\n",
       "    <tr>\n",
       "      <th>overlap</th>\n",
       "      <td>1</td>\n",
       "      <td>29920</td>\n",
       "      <td>51317</td>\n",
       "    </tr>\n",
       "  </tbody>\n",
       "</table>\n",
       "</div>"
      ],
      "text/plain": [
       "potential_conflict_type  angled  rear_end  side_swipe\n",
       "overlap                                              \n",
       "overlap                       1     29920       51317"
      ]
     },
     "execution_count": 36,
     "metadata": {},
     "output_type": "execute_result"
    }
   ],
   "source": [
    "pd.pivot_table(df, index = ['overlap'], columns = ['potential_conflict_type'], values = 'pair', aggfunc = 'count')"
   ]
  },
  {
   "cell_type": "code",
   "execution_count": 40,
   "id": "12be538d-52ee-41e1-a07e-8ccd93c3dd5a",
   "metadata": {
    "execution": {
     "iopub.execute_input": "2023-11-30T04:16:00.357911Z",
     "iopub.status.busy": "2023-11-30T04:16:00.357911Z",
     "iopub.status.idle": "2023-11-30T04:16:00.490923Z",
     "shell.execute_reply": "2023-11-30T04:16:00.490098Z",
     "shell.execute_reply.started": "2023-11-30T04:16:00.357911Z"
    }
   },
   "outputs": [
    {
     "data": {
      "text/html": [
       "<div>\n",
       "<style scoped>\n",
       "    .dataframe tbody tr th:only-of-type {\n",
       "        vertical-align: middle;\n",
       "    }\n",
       "\n",
       "    .dataframe tbody tr th {\n",
       "        vertical-align: top;\n",
       "    }\n",
       "\n",
       "    .dataframe thead th {\n",
       "        text-align: right;\n",
       "    }\n",
       "</style>\n",
       "<table border=\"1\" class=\"dataframe\">\n",
       "  <thead>\n",
       "    <tr style=\"text-align: right;\">\n",
       "      <th></th>\n",
       "      <th>pair</th>\n",
       "      <th>veh_id</th>\n",
       "      <th>LV_ID</th>\n",
       "      <th>frm</th>\n",
       "      <th>LV_type</th>\n",
       "      <th>local_x</th>\n",
       "      <th>local_y</th>\n",
       "      <th>V_len</th>\n",
       "      <th>V_wid</th>\n",
       "      <th>velocity</th>\n",
       "      <th>...</th>\n",
       "      <th>DRAC</th>\n",
       "      <th>MDRAC</th>\n",
       "      <th>DCIA</th>\n",
       "      <th>unsafety</th>\n",
       "      <th>TIT</th>\n",
       "      <th>TIT2</th>\n",
       "      <th>TIACT</th>\n",
       "      <th>TIDSS</th>\n",
       "      <th>TIDRAC</th>\n",
       "      <th>TIMDRAC</th>\n",
       "    </tr>\n",
       "  </thead>\n",
       "  <tbody>\n",
       "    <tr>\n",
       "      <th>1</th>\n",
       "      <td>1000_994</td>\n",
       "      <td>1000</td>\n",
       "      <td>994</td>\n",
       "      <td>17460</td>\n",
       "      <td>LVR</td>\n",
       "      <td>173.1250</td>\n",
       "      <td>21.406250</td>\n",
       "      <td>7.09375</td>\n",
       "      <td>2.064453</td>\n",
       "      <td>104.1250</td>\n",
       "      <td>...</td>\n",
       "      <td>NaN</td>\n",
       "      <td>NaN</td>\n",
       "      <td>NaN</td>\n",
       "      <td>NaN</td>\n",
       "      <td>NaN</td>\n",
       "      <td>NaN</td>\n",
       "      <td>None</td>\n",
       "      <td>NaN</td>\n",
       "      <td>NaN</td>\n",
       "      <td>NaN</td>\n",
       "    </tr>\n",
       "    <tr>\n",
       "      <th>2</th>\n",
       "      <td>1000_994</td>\n",
       "      <td>1000</td>\n",
       "      <td>994</td>\n",
       "      <td>17457</td>\n",
       "      <td>LVR</td>\n",
       "      <td>170.2500</td>\n",
       "      <td>21.359375</td>\n",
       "      <td>7.09375</td>\n",
       "      <td>2.064453</td>\n",
       "      <td>103.8750</td>\n",
       "      <td>...</td>\n",
       "      <td>NaN</td>\n",
       "      <td>NaN</td>\n",
       "      <td>NaN</td>\n",
       "      <td>NaN</td>\n",
       "      <td>NaN</td>\n",
       "      <td>NaN</td>\n",
       "      <td>None</td>\n",
       "      <td>NaN</td>\n",
       "      <td>NaN</td>\n",
       "      <td>NaN</td>\n",
       "    </tr>\n",
       "    <tr>\n",
       "      <th>3</th>\n",
       "      <td>1000_994</td>\n",
       "      <td>1000</td>\n",
       "      <td>994</td>\n",
       "      <td>17454</td>\n",
       "      <td>LVR</td>\n",
       "      <td>167.3750</td>\n",
       "      <td>21.328125</td>\n",
       "      <td>7.09375</td>\n",
       "      <td>2.064453</td>\n",
       "      <td>104.3750</td>\n",
       "      <td>...</td>\n",
       "      <td>NaN</td>\n",
       "      <td>NaN</td>\n",
       "      <td>NaN</td>\n",
       "      <td>NaN</td>\n",
       "      <td>NaN</td>\n",
       "      <td>NaN</td>\n",
       "      <td>None</td>\n",
       "      <td>NaN</td>\n",
       "      <td>NaN</td>\n",
       "      <td>NaN</td>\n",
       "    </tr>\n",
       "    <tr>\n",
       "      <th>4</th>\n",
       "      <td>1000_994</td>\n",
       "      <td>1000</td>\n",
       "      <td>994</td>\n",
       "      <td>17451</td>\n",
       "      <td>LVR</td>\n",
       "      <td>164.5000</td>\n",
       "      <td>21.296875</td>\n",
       "      <td>7.09375</td>\n",
       "      <td>2.064453</td>\n",
       "      <td>103.1875</td>\n",
       "      <td>...</td>\n",
       "      <td>NaN</td>\n",
       "      <td>NaN</td>\n",
       "      <td>NaN</td>\n",
       "      <td>NaN</td>\n",
       "      <td>NaN</td>\n",
       "      <td>0.0</td>\n",
       "      <td>None</td>\n",
       "      <td>NaN</td>\n",
       "      <td>NaN</td>\n",
       "      <td>NaN</td>\n",
       "    </tr>\n",
       "    <tr>\n",
       "      <th>6</th>\n",
       "      <td>1000_994</td>\n",
       "      <td>1000</td>\n",
       "      <td>994</td>\n",
       "      <td>17445</td>\n",
       "      <td>LVR</td>\n",
       "      <td>158.7500</td>\n",
       "      <td>21.218750</td>\n",
       "      <td>7.09375</td>\n",
       "      <td>2.064453</td>\n",
       "      <td>103.3750</td>\n",
       "      <td>...</td>\n",
       "      <td>NaN</td>\n",
       "      <td>NaN</td>\n",
       "      <td>NaN</td>\n",
       "      <td>NaN</td>\n",
       "      <td>NaN</td>\n",
       "      <td>0.0</td>\n",
       "      <td>None</td>\n",
       "      <td>NaN</td>\n",
       "      <td>NaN</td>\n",
       "      <td>NaN</td>\n",
       "    </tr>\n",
       "    <tr>\n",
       "      <th>...</th>\n",
       "      <td>...</td>\n",
       "      <td>...</td>\n",
       "      <td>...</td>\n",
       "      <td>...</td>\n",
       "      <td>...</td>\n",
       "      <td>...</td>\n",
       "      <td>...</td>\n",
       "      <td>...</td>\n",
       "      <td>...</td>\n",
       "      <td>...</td>\n",
       "      <td>...</td>\n",
       "      <td>...</td>\n",
       "      <td>...</td>\n",
       "      <td>...</td>\n",
       "      <td>...</td>\n",
       "      <td>...</td>\n",
       "      <td>...</td>\n",
       "      <td>...</td>\n",
       "      <td>...</td>\n",
       "      <td>...</td>\n",
       "      <td>...</td>\n",
       "    </tr>\n",
       "    <tr>\n",
       "      <th>172314</th>\n",
       "      <td>9_6</td>\n",
       "      <td>9</td>\n",
       "      <td>6</td>\n",
       "      <td>762</td>\n",
       "      <td>LVL</td>\n",
       "      <td>184.3750</td>\n",
       "      <td>4.945312</td>\n",
       "      <td>1.93457</td>\n",
       "      <td>2.064453</td>\n",
       "      <td>113.8125</td>\n",
       "      <td>...</td>\n",
       "      <td>NaN</td>\n",
       "      <td>NaN</td>\n",
       "      <td>NaN</td>\n",
       "      <td>NaN</td>\n",
       "      <td>NaN</td>\n",
       "      <td>NaN</td>\n",
       "      <td>None</td>\n",
       "      <td>NaN</td>\n",
       "      <td>NaN</td>\n",
       "      <td>NaN</td>\n",
       "    </tr>\n",
       "    <tr>\n",
       "      <th>172316</th>\n",
       "      <td>9_6</td>\n",
       "      <td>9</td>\n",
       "      <td>6</td>\n",
       "      <td>756</td>\n",
       "      <td>LVL</td>\n",
       "      <td>178.1250</td>\n",
       "      <td>4.777344</td>\n",
       "      <td>1.93457</td>\n",
       "      <td>2.064453</td>\n",
       "      <td>112.0625</td>\n",
       "      <td>...</td>\n",
       "      <td>NaN</td>\n",
       "      <td>NaN</td>\n",
       "      <td>NaN</td>\n",
       "      <td>NaN</td>\n",
       "      <td>NaN</td>\n",
       "      <td>NaN</td>\n",
       "      <td>None</td>\n",
       "      <td>NaN</td>\n",
       "      <td>NaN</td>\n",
       "      <td>NaN</td>\n",
       "    </tr>\n",
       "    <tr>\n",
       "      <th>172317</th>\n",
       "      <td>9_6</td>\n",
       "      <td>9</td>\n",
       "      <td>6</td>\n",
       "      <td>753</td>\n",
       "      <td>LVL</td>\n",
       "      <td>175.0000</td>\n",
       "      <td>4.664062</td>\n",
       "      <td>1.93457</td>\n",
       "      <td>2.064453</td>\n",
       "      <td>112.0625</td>\n",
       "      <td>...</td>\n",
       "      <td>NaN</td>\n",
       "      <td>NaN</td>\n",
       "      <td>NaN</td>\n",
       "      <td>NaN</td>\n",
       "      <td>NaN</td>\n",
       "      <td>NaN</td>\n",
       "      <td>None</td>\n",
       "      <td>NaN</td>\n",
       "      <td>NaN</td>\n",
       "      <td>NaN</td>\n",
       "    </tr>\n",
       "    <tr>\n",
       "      <th>172318</th>\n",
       "      <td>9_6</td>\n",
       "      <td>9</td>\n",
       "      <td>6</td>\n",
       "      <td>792</td>\n",
       "      <td>LVL</td>\n",
       "      <td>215.2500</td>\n",
       "      <td>5.566406</td>\n",
       "      <td>1.93457</td>\n",
       "      <td>2.064453</td>\n",
       "      <td>109.6875</td>\n",
       "      <td>...</td>\n",
       "      <td>NaN</td>\n",
       "      <td>NaN</td>\n",
       "      <td>NaN</td>\n",
       "      <td>NaN</td>\n",
       "      <td>NaN</td>\n",
       "      <td>NaN</td>\n",
       "      <td>None</td>\n",
       "      <td>NaN</td>\n",
       "      <td>NaN</td>\n",
       "      <td>NaN</td>\n",
       "    </tr>\n",
       "    <tr>\n",
       "      <th>172319</th>\n",
       "      <td>9_6</td>\n",
       "      <td>9</td>\n",
       "      <td>6</td>\n",
       "      <td>654</td>\n",
       "      <td>LVL</td>\n",
       "      <td>74.4375</td>\n",
       "      <td>3.031250</td>\n",
       "      <td>1.93457</td>\n",
       "      <td>2.064453</td>\n",
       "      <td>112.3125</td>\n",
       "      <td>...</td>\n",
       "      <td>NaN</td>\n",
       "      <td>NaN</td>\n",
       "      <td>NaN</td>\n",
       "      <td>NaN</td>\n",
       "      <td>NaN</td>\n",
       "      <td>NaN</td>\n",
       "      <td>None</td>\n",
       "      <td>NaN</td>\n",
       "      <td>NaN</td>\n",
       "      <td>NaN</td>\n",
       "    </tr>\n",
       "  </tbody>\n",
       "</table>\n",
       "<p>81238 rows × 110 columns</p>\n",
       "</div>"
      ],
      "text/plain": [
       "            pair  veh_id  LV_ID    frm LV_type   local_x    local_y    V_len  \\\n",
       "1       1000_994    1000    994  17460     LVR  173.1250  21.406250  7.09375   \n",
       "2       1000_994    1000    994  17457     LVR  170.2500  21.359375  7.09375   \n",
       "3       1000_994    1000    994  17454     LVR  167.3750  21.328125  7.09375   \n",
       "4       1000_994    1000    994  17451     LVR  164.5000  21.296875  7.09375   \n",
       "6       1000_994    1000    994  17445     LVR  158.7500  21.218750  7.09375   \n",
       "...          ...     ...    ...    ...     ...       ...        ...      ...   \n",
       "172314       9_6       9      6    762     LVL  184.3750   4.945312  1.93457   \n",
       "172316       9_6       9      6    756     LVL  178.1250   4.777344  1.93457   \n",
       "172317       9_6       9      6    753     LVL  175.0000   4.664062  1.93457   \n",
       "172318       9_6       9      6    792     LVL  215.2500   5.566406  1.93457   \n",
       "172319       9_6       9      6    654     LVL   74.4375   3.031250  1.93457   \n",
       "\n",
       "           V_wid  velocity  ...  DRAC MDRAC  DCIA  unsafety  TIT  TIT2  TIACT  \\\n",
       "1       2.064453  104.1250  ...   NaN   NaN   NaN       NaN  NaN   NaN   None   \n",
       "2       2.064453  103.8750  ...   NaN   NaN   NaN       NaN  NaN   NaN   None   \n",
       "3       2.064453  104.3750  ...   NaN   NaN   NaN       NaN  NaN   NaN   None   \n",
       "4       2.064453  103.1875  ...   NaN   NaN   NaN       NaN  NaN   0.0   None   \n",
       "6       2.064453  103.3750  ...   NaN   NaN   NaN       NaN  NaN   0.0   None   \n",
       "...          ...       ...  ...   ...   ...   ...       ...  ...   ...    ...   \n",
       "172314  2.064453  113.8125  ...   NaN   NaN   NaN       NaN  NaN   NaN   None   \n",
       "172316  2.064453  112.0625  ...   NaN   NaN   NaN       NaN  NaN   NaN   None   \n",
       "172317  2.064453  112.0625  ...   NaN   NaN   NaN       NaN  NaN   NaN   None   \n",
       "172318  2.064453  109.6875  ...   NaN   NaN   NaN       NaN  NaN   NaN   None   \n",
       "172319  2.064453  112.3125  ...   NaN   NaN   NaN       NaN  NaN   NaN   None   \n",
       "\n",
       "        TIDSS  TIDRAC  TIMDRAC  \n",
       "1         NaN     NaN      NaN  \n",
       "2         NaN     NaN      NaN  \n",
       "3         NaN     NaN      NaN  \n",
       "4         NaN     NaN      NaN  \n",
       "6         NaN     NaN      NaN  \n",
       "...       ...     ...      ...  \n",
       "172314    NaN     NaN      NaN  \n",
       "172316    NaN     NaN      NaN  \n",
       "172317    NaN     NaN      NaN  \n",
       "172318    NaN     NaN      NaN  \n",
       "172319    NaN     NaN      NaN  \n",
       "\n",
       "[81238 rows x 110 columns]"
      ]
     },
     "execution_count": 40,
     "metadata": {},
     "output_type": "execute_result"
    }
   ],
   "source": [
    "df[pd.isna(df['overlap']) == False]"
   ]
  }
 ],
 "metadata": {
  "kernelspec": {
   "display_name": "Python 3 (ipykernel)",
   "language": "python",
   "name": "python3"
  },
  "language_info": {
   "codemirror_mode": {
    "name": "ipython",
    "version": 3
   },
   "file_extension": ".py",
   "mimetype": "text/x-python",
   "name": "python",
   "nbconvert_exporter": "python",
   "pygments_lexer": "ipython3",
   "version": "3.8.18"
  },
  "toc-autonumbering": false,
  "toc-showmarkdowntxt": false
 },
 "nbformat": 4,
 "nbformat_minor": 5
}
