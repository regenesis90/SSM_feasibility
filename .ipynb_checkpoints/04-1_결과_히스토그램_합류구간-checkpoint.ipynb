{
 "cells": [
  {
   "cell_type": "markdown",
   "id": "dc6195b8-d5ee-4f49-8b81-1c852a8c8419",
   "metadata": {},
   "source": [
    "# Visualization\n",
    "* 대상지 주요 정보 정리(교통량, 속도, 차로변경 등)\n",
    "* 시각화\n",
    "    * 히스토그램 & 바이올린 플롯(집계적)"
   ]
  },
  {
   "cell_type": "markdown",
   "id": "99fcbe99-99a3-4aac-9121-b5f98253c717",
   "metadata": {},
   "source": [
    "# Import"
   ]
  },
  {
   "cell_type": "code",
   "execution_count": null,
   "id": "be8261ae-30fc-4f98-ab4f-8d7eaab22b23",
   "metadata": {
    "tags": []
   },
   "outputs": [],
   "source": [
    "import pandas as pd\n",
    "import numpy as np\n",
    "\n",
    "from tqdm import tqdm\n",
    "import warnings\n",
    "import csv\n",
    "import os\n",
    "\n",
    "import math # arctangent; math.atan 사용 목적\n",
    "import statistics\n",
    "\n",
    "from plotly.subplots import make_subplots\n",
    "import plotly.figure_factory as ff\n",
    "import plotly.express as px\n",
    "import plotly.graph_objects as go\n",
    "import plotly.io as po\n",
    "\n",
    "import matplotlib.pyplot  as plt\n",
    "import seaborn as sns\n",
    "\n",
    "import pyarrow.parquet as pq\n",
    "\n",
    "import seaborn as sns\n",
    "from matplotlib.collections import LineCollection\n",
    "from matplotlib.cm import ScalarMappable\n",
    "from matplotlib.colors import ListedColormap, BoundaryNorm\n",
    "import matplotlib.ticker as ticker\n",
    "import matplotlib.colors as colors\n",
    "import matplotlib.patches as patches\n",
    "import matplotlib as mpl\n",
    "\n",
    "from mpl_toolkits.mplot3d import axes3d\n",
    "from mpl_toolkits.mplot3d.axes3d import Axes3D\n",
    "from matplotlib.text import Annotation\n",
    "\n",
    "from SSM_base import points"
   ]
  },
  {
   "cell_type": "code",
   "execution_count": null,
   "id": "57444925-9e19-421b-bf7b-4b044dd938ff",
   "metadata": {
    "tags": []
   },
   "outputs": [],
   "source": [
    "plt.rcParams['font.family'] = 'Times New Roman'"
   ]
  },
  {
   "cell_type": "markdown",
   "id": "873ea0a8-ba56-4d84-a46f-01e078a75b17",
   "metadata": {
    "tags": []
   },
   "source": [
    "# Load Dataset"
   ]
  },
  {
   "cell_type": "code",
   "execution_count": null,
   "id": "f714b3ad-eed2-4896-9c76-c40066438706",
   "metadata": {
    "tags": []
   },
   "outputs": [],
   "source": [
    "working_dir = 'D:/OneDrive/Projects/2023_SSM_Feasibility'"
   ]
  },
  {
   "cell_type": "markdown",
   "id": "63fa0db3-f888-4182-ac14-7003957626d9",
   "metadata": {},
   "source": [
    "## SSM 계산된 .csv 자료 불러오기\n",
    "* 합류구간 : `merging_type1_03frm_0.10sec.csv`"
   ]
  },
  {
   "cell_type": "code",
   "execution_count": null,
   "id": "8f6b1d3e-2166-4355-9aac-50ed050d7f50",
   "metadata": {
    "tags": []
   },
   "outputs": [],
   "source": [
    "folder_name = 'Dataset/03_SSM'\n",
    "\n",
    "file_list = ['merging_type1_03frm_0.10sec.parquet']\n",
    "\n",
    "file_path = os.path.join(working_dir, folder_name, file_list[0])\n",
    "df_0 = pq.read_pandas(file_path).to_pandas()"
   ]
  },
  {
   "cell_type": "code",
   "execution_count": null,
   "id": "971020ca-7fce-4f7a-a419-f78cd4df278e",
   "metadata": {
    "tags": []
   },
   "outputs": [],
   "source": [
    "df_0.head(3)"
   ]
  },
  {
   "cell_type": "code",
   "execution_count": 6,
   "id": "ed721461-1007-41e5-a43b-eeab5025e8ed",
   "metadata": {
    "execution": {
     "iopub.execute_input": "2023-12-02T07:53:53.105627Z",
     "iopub.status.busy": "2023-12-02T07:53:53.104627Z",
     "iopub.status.idle": "2023-12-02T07:53:53.119616Z",
     "shell.execute_reply": "2023-12-02T07:53:53.119616Z",
     "shell.execute_reply.started": "2023-12-02T07:53:53.105627Z"
    },
    "tags": []
   },
   "outputs": [],
   "source": [
    "folder_name = 'Documents'\n",
    "file_name = 'SSM_threshold.csv'\n",
    "sheet_name = 'threshold'\n",
    "\n",
    "threshold_path = os.path.join(working_dir, folder_name, file_name)\n",
    "\n",
    "threshold_list = np.array(pd.read_csv(threshold_path))"
   ]
  },
  {
   "cell_type": "code",
   "execution_count": 7,
   "id": "e15c9444-62e6-448b-b9da-9b50f0f8e38b",
   "metadata": {
    "execution": {
     "iopub.execute_input": "2023-12-02T07:53:53.122609Z",
     "iopub.status.busy": "2023-12-02T07:53:53.122609Z",
     "iopub.status.idle": "2023-12-02T07:53:53.136545Z",
     "shell.execute_reply": "2023-12-02T07:53:53.135546Z",
     "shell.execute_reply.started": "2023-12-02T07:53:53.122609Z"
    }
   },
   "outputs": [
    {
     "data": {
      "text/plain": [
       "array([['TTC', 3.0],\n",
       "       ['ITTC', 0.33],\n",
       "       ['T2', 3.0]], dtype=object)"
      ]
     },
     "execution_count": 7,
     "metadata": {},
     "output_type": "execute_result"
    }
   ],
   "source": [
    "threshold_list[:3]"
   ]
  },
  {
   "cell_type": "markdown",
   "id": "36a89ce3-1476-4079-ad31-34b7bf6d63a4",
   "metadata": {},
   "source": [
    "# 주요포인트"
   ]
  },
  {
   "cell_type": "code",
   "execution_count": 8,
   "id": "c0b6f558-16c5-4153-9f82-50aaf730b1fe",
   "metadata": {
    "execution": {
     "iopub.execute_input": "2023-12-02T07:53:53.138538Z",
     "iopub.status.busy": "2023-12-02T07:53:53.137546Z",
     "iopub.status.idle": "2023-12-02T07:53:53.152502Z",
     "shell.execute_reply": "2023-12-02T07:53:53.151504Z",
     "shell.execute_reply.started": "2023-12-02T07:53:53.138538Z"
    },
    "tags": []
   },
   "outputs": [],
   "source": [
    "def make_cell(local_x):\n",
    "    \"\"\"\n",
    "    Local X (m) 변수값에 따른 셀 번호 지정\n",
    "        \n",
    "    \"\"\"\n",
    "    \n",
    "    if pd.isna(local_x) == False:\n",
    "        cellnum = int(local_x//20 + 1) # 나머지는 버린다.\n",
    "        cellnum = cellnum * 20\n",
    "    \n",
    "        if cellnum < 100:\n",
    "            cell = '0' + str(cellnum)\n",
    "\n",
    "        else: # cellnum >= 10인 경우\n",
    "            cell = str(cellnum)    \n",
    "            \n",
    "    else:\n",
    "        cell = None\n",
    "        \n",
    "    return cell"
   ]
  },
  {
   "cell_type": "code",
   "execution_count": 9,
   "id": "af7e0376-7779-4db3-ae75-998f149c0aec",
   "metadata": {
    "execution": {
     "iopub.execute_input": "2023-12-02T07:53:53.153501Z",
     "iopub.status.busy": "2023-12-02T07:53:53.152502Z",
     "iopub.status.idle": "2023-12-02T07:53:53.168459Z",
     "shell.execute_reply": "2023-12-02T07:53:53.167494Z",
     "shell.execute_reply.started": "2023-12-02T07:53:53.153501Z"
    },
    "tags": []
   },
   "outputs": [],
   "source": [
    "def df_to_plotly(pv):\n",
    "    return {'z': pv.values.tolist(),\n",
    "            'y': pv['lane'].tolist(),\n",
    "            'x': pv.columns.tolist()}"
   ]
  },
  {
   "cell_type": "code",
   "execution_count": 10,
   "id": "f64c688d-097e-47d2-b09d-8db9b802376e",
   "metadata": {
    "execution": {
     "iopub.execute_input": "2023-12-02T07:53:53.169462Z",
     "iopub.status.busy": "2023-12-02T07:53:53.169462Z",
     "iopub.status.idle": "2023-12-02T07:53:53.184422Z",
     "shell.execute_reply": "2023-12-02T07:53:53.183422Z",
     "shell.execute_reply.started": "2023-12-02T07:53:53.169462Z"
    },
    "tags": []
   },
   "outputs": [],
   "source": [
    "palette_ryb = ['#00b0f0', '#ffff00', '#ff5050'] # 엇갈림구간 프로젝트의 그 삼색팔레트 : 파랑-노랑-빨강\n",
    "palette_TIT = ['#ffffff', '#ff0000'] # 환색~빨강\n",
    "#palette_bluewhite = ['#ffffff', '#0054ff'] # \n",
    "palette_TTC = ['#ff0000', '#ffffff'] # 빨강~흰색\n",
    "#palette_whiteblue = ['#0054ff', '#ffffff']"
   ]
  },
  {
   "cell_type": "code",
   "execution_count": 11,
   "id": "08d13593-500d-4c15-b8a0-79fd7c3cd860",
   "metadata": {
    "execution": {
     "iopub.execute_input": "2023-12-02T07:53:53.185416Z",
     "iopub.status.busy": "2023-12-02T07:53:53.185416Z",
     "iopub.status.idle": "2023-12-02T07:53:53.356276Z",
     "shell.execute_reply": "2023-12-02T07:53:53.356276Z",
     "shell.execute_reply.started": "2023-12-02T07:53:53.185416Z"
    }
   },
   "outputs": [],
   "source": [
    "df_0['cell'] = df_0['local_x'].apply(make_cell)"
   ]
  },
  {
   "cell_type": "code",
   "execution_count": 12,
   "id": "0edc27bb-c145-4f89-977e-139e4cb82309",
   "metadata": {
    "execution": {
     "iopub.execute_input": "2023-12-02T07:53:53.357303Z",
     "iopub.status.busy": "2023-12-02T07:53:53.357303Z",
     "iopub.status.idle": "2023-12-02T07:53:53.419098Z",
     "shell.execute_reply": "2023-12-02T07:53:53.418107Z",
     "shell.execute_reply.started": "2023-12-02T07:53:53.357303Z"
    }
   },
   "outputs": [],
   "source": [
    "cell_list = list(df_0['cell'].unique())"
   ]
  },
  {
   "cell_type": "code",
   "execution_count": 13,
   "id": "90a1cf88-b30f-4aee-a861-0d0b43f403b5",
   "metadata": {
    "execution": {
     "iopub.execute_input": "2023-12-02T07:53:53.421092Z",
     "iopub.status.busy": "2023-12-02T07:53:53.420095Z",
     "iopub.status.idle": "2023-12-02T07:53:53.433802Z",
     "shell.execute_reply": "2023-12-02T07:53:53.433802Z",
     "shell.execute_reply.started": "2023-12-02T07:53:53.421092Z"
    }
   },
   "outputs": [],
   "source": [
    "cell_list.sort()"
   ]
  },
  {
   "cell_type": "code",
   "execution_count": 14,
   "id": "04d5121b-27fc-4c4d-8eec-0428054b5b24",
   "metadata": {
    "execution": {
     "iopub.execute_input": "2023-12-02T07:53:53.436066Z",
     "iopub.status.busy": "2023-12-02T07:53:53.435063Z",
     "iopub.status.idle": "2023-12-02T07:53:53.451207Z",
     "shell.execute_reply": "2023-12-02T07:53:53.449886Z",
     "shell.execute_reply.started": "2023-12-02T07:53:53.436066Z"
    }
   },
   "outputs": [
    {
     "data": {
      "text/plain": [
       "['040', '060', '080', '100', '120', '140', '160', '180', '200', '220', '240']"
      ]
     },
     "execution_count": 14,
     "metadata": {},
     "output_type": "execute_result"
    }
   ],
   "source": [
    "cell_list"
   ]
  },
  {
   "cell_type": "code",
   "execution_count": 15,
   "id": "b3e17e28-58f5-48d1-8a5a-d588aa354b33",
   "metadata": {
    "execution": {
     "iopub.execute_input": "2023-12-02T07:53:53.452209Z",
     "iopub.status.busy": "2023-12-02T07:53:53.452209Z",
     "iopub.status.idle": "2023-12-02T07:53:53.514425Z",
     "shell.execute_reply": "2023-12-02T07:53:53.513428Z",
     "shell.execute_reply.started": "2023-12-02T07:53:53.452209Z"
    }
   },
   "outputs": [
    {
     "data": {
      "text/html": [
       "<div>\n",
       "<style scoped>\n",
       "    .dataframe tbody tr th:only-of-type {\n",
       "        vertical-align: middle;\n",
       "    }\n",
       "\n",
       "    .dataframe tbody tr th {\n",
       "        vertical-align: top;\n",
       "    }\n",
       "\n",
       "    .dataframe thead th {\n",
       "        text-align: right;\n",
       "    }\n",
       "</style>\n",
       "<table border=\"1\" class=\"dataframe\">\n",
       "  <thead>\n",
       "    <tr style=\"text-align: right;\">\n",
       "      <th></th>\n",
       "      <th>delta_local_x</th>\n",
       "      <th>delta_local_y</th>\n",
       "      <th>velocity</th>\n",
       "      <th>velocity_x_before</th>\n",
       "      <th>velocity_y_before</th>\n",
       "      <th>velocity_x</th>\n",
       "      <th>velocity_y</th>\n",
       "    </tr>\n",
       "  </thead>\n",
       "  <tbody>\n",
       "    <tr>\n",
       "      <th>134227</th>\n",
       "      <td>7.683594</td>\n",
       "      <td>0.241455</td>\n",
       "      <td>106.875</td>\n",
       "      <td>7.597656</td>\n",
       "      <td>0.441895</td>\n",
       "      <td>21.34375</td>\n",
       "      <td>0.670898</td>\n",
       "    </tr>\n",
       "    <tr>\n",
       "      <th>134288</th>\n",
       "      <td>7.683594</td>\n",
       "      <td>0.241455</td>\n",
       "      <td>106.875</td>\n",
       "      <td>7.597656</td>\n",
       "      <td>0.441895</td>\n",
       "      <td>21.34375</td>\n",
       "      <td>0.670898</td>\n",
       "    </tr>\n",
       "    <tr>\n",
       "      <th>134350</th>\n",
       "      <td>7.683594</td>\n",
       "      <td>0.241455</td>\n",
       "      <td>106.875</td>\n",
       "      <td>7.597656</td>\n",
       "      <td>0.441895</td>\n",
       "      <td>21.34375</td>\n",
       "      <td>0.670898</td>\n",
       "    </tr>\n",
       "  </tbody>\n",
       "</table>\n",
       "</div>"
      ],
      "text/plain": [
       "        delta_local_x  delta_local_y  velocity  velocity_x_before  \\\n",
       "134227       7.683594       0.241455   106.875           7.597656   \n",
       "134288       7.683594       0.241455   106.875           7.597656   \n",
       "134350       7.683594       0.241455   106.875           7.597656   \n",
       "\n",
       "        velocity_y_before  velocity_x  velocity_y  \n",
       "134227           0.441895    21.34375    0.670898  \n",
       "134288           0.441895    21.34375    0.670898  \n",
       "134350           0.441895    21.34375    0.670898  "
      ]
     },
     "execution_count": 15,
     "metadata": {},
     "output_type": "execute_result"
    }
   ],
   "source": [
    "df_0[df_0['velocity_x'] == df_0['velocity_x'].max()][['delta_local_x', 'delta_local_y', 'velocity', 'velocity_x_before', 'velocity_y_before', 'velocity_x', 'velocity_y']]"
   ]
  },
  {
   "cell_type": "code",
   "execution_count": 16,
   "id": "fe0e3ea6-1ace-45e8-a9dd-af9e213c16ff",
   "metadata": {
    "execution": {
     "iopub.execute_input": "2023-12-02T07:53:53.515394Z",
     "iopub.status.busy": "2023-12-02T07:53:53.515394Z",
     "iopub.status.idle": "2023-12-02T07:53:53.530356Z",
     "shell.execute_reply": "2023-12-02T07:53:53.529373Z",
     "shell.execute_reply.started": "2023-12-02T07:53:53.515394Z"
    }
   },
   "outputs": [
    {
     "data": {
      "text/html": [
       "<div>\n",
       "<style scoped>\n",
       "    .dataframe tbody tr th:only-of-type {\n",
       "        vertical-align: middle;\n",
       "    }\n",
       "\n",
       "    .dataframe tbody tr th {\n",
       "        vertical-align: top;\n",
       "    }\n",
       "\n",
       "    .dataframe thead th {\n",
       "        text-align: right;\n",
       "    }\n",
       "</style>\n",
       "<table border=\"1\" class=\"dataframe\">\n",
       "  <thead>\n",
       "    <tr style=\"text-align: right;\">\n",
       "      <th></th>\n",
       "      <th>velocity</th>\n",
       "      <th>velocity_x</th>\n",
       "    </tr>\n",
       "  </thead>\n",
       "  <tbody>\n",
       "    <tr>\n",
       "      <th>0</th>\n",
       "      <td>104.3750</td>\n",
       "      <td>8.054688</td>\n",
       "    </tr>\n",
       "    <tr>\n",
       "      <th>1</th>\n",
       "      <td>104.0000</td>\n",
       "      <td>8.023438</td>\n",
       "    </tr>\n",
       "    <tr>\n",
       "      <th>2</th>\n",
       "      <td>104.1250</td>\n",
       "      <td>8.031250</td>\n",
       "    </tr>\n",
       "    <tr>\n",
       "      <th>3</th>\n",
       "      <td>103.8750</td>\n",
       "      <td>8.015625</td>\n",
       "    </tr>\n",
       "    <tr>\n",
       "      <th>4</th>\n",
       "      <td>104.3750</td>\n",
       "      <td>8.054688</td>\n",
       "    </tr>\n",
       "    <tr>\n",
       "      <th>...</th>\n",
       "      <td>...</td>\n",
       "      <td>...</td>\n",
       "    </tr>\n",
       "    <tr>\n",
       "      <th>156091</th>\n",
       "      <td>109.3125</td>\n",
       "      <td>8.429688</td>\n",
       "    </tr>\n",
       "    <tr>\n",
       "      <th>156092</th>\n",
       "      <td>110.0000</td>\n",
       "      <td>8.484375</td>\n",
       "    </tr>\n",
       "    <tr>\n",
       "      <th>156093</th>\n",
       "      <td>109.1250</td>\n",
       "      <td>8.421875</td>\n",
       "    </tr>\n",
       "    <tr>\n",
       "      <th>156094</th>\n",
       "      <td>113.2500</td>\n",
       "      <td>8.734375</td>\n",
       "    </tr>\n",
       "    <tr>\n",
       "      <th>156095</th>\n",
       "      <td>111.3750</td>\n",
       "      <td>8.593750</td>\n",
       "    </tr>\n",
       "  </tbody>\n",
       "</table>\n",
       "<p>156096 rows × 2 columns</p>\n",
       "</div>"
      ],
      "text/plain": [
       "        velocity  velocity_x\n",
       "0       104.3750    8.054688\n",
       "1       104.0000    8.023438\n",
       "2       104.1250    8.031250\n",
       "3       103.8750    8.015625\n",
       "4       104.3750    8.054688\n",
       "...          ...         ...\n",
       "156091  109.3125    8.429688\n",
       "156092  110.0000    8.484375\n",
       "156093  109.1250    8.421875\n",
       "156094  113.2500    8.734375\n",
       "156095  111.3750    8.593750\n",
       "\n",
       "[156096 rows x 2 columns]"
      ]
     },
     "execution_count": 16,
     "metadata": {},
     "output_type": "execute_result"
    }
   ],
   "source": [
    "df_0[['velocity', 'velocity_x']]"
   ]
  },
  {
   "cell_type": "markdown",
   "id": "b01a3f5f-e3e7-4c0c-adfd-9ccc0439586f",
   "metadata": {
    "tags": []
   },
   "source": [
    "# 기초통계량"
   ]
  },
  {
   "cell_type": "code",
   "execution_count": 17,
   "id": "0b4b3ad8-ce33-46f1-a0fc-0e97efbcca90",
   "metadata": {
    "execution": {
     "iopub.execute_input": "2023-12-02T07:53:53.531353Z",
     "iopub.status.busy": "2023-12-02T07:53:53.530356Z",
     "iopub.status.idle": "2023-12-02T07:53:53.546313Z",
     "shell.execute_reply": "2023-12-02T07:53:53.545316Z",
     "shell.execute_reply.started": "2023-12-02T07:53:53.531353Z"
    },
    "tags": []
   },
   "outputs": [],
   "source": [
    "df_0.rename({'time_gap' : 'TimeGap', 'pPET':'TAdv'}, axis = 1, inplace = True)"
   ]
  },
  {
   "cell_type": "code",
   "execution_count": 18,
   "id": "68742183-ed5e-4f3b-97e9-15d172d537a3",
   "metadata": {
    "execution": {
     "iopub.execute_input": "2023-12-02T07:53:53.547311Z",
     "iopub.status.busy": "2023-12-02T07:53:53.547311Z",
     "iopub.status.idle": "2023-12-02T07:53:53.578255Z",
     "shell.execute_reply": "2023-12-02T07:53:53.577258Z",
     "shell.execute_reply.started": "2023-12-02T07:53:53.547311Z"
    }
   },
   "outputs": [
    {
     "data": {
      "text/html": [
       "<div>\n",
       "<style scoped>\n",
       "    .dataframe tbody tr th:only-of-type {\n",
       "        vertical-align: middle;\n",
       "    }\n",
       "\n",
       "    .dataframe tbody tr th {\n",
       "        vertical-align: top;\n",
       "    }\n",
       "\n",
       "    .dataframe thead th {\n",
       "        text-align: right;\n",
       "    }\n",
       "</style>\n",
       "<table border=\"1\" class=\"dataframe\">\n",
       "  <thead>\n",
       "    <tr style=\"text-align: right;\">\n",
       "      <th></th>\n",
       "      <th>pair</th>\n",
       "      <th>veh_id</th>\n",
       "      <th>LV_ID</th>\n",
       "      <th>frm</th>\n",
       "      <th>LV_type</th>\n",
       "      <th>local_x</th>\n",
       "      <th>local_y</th>\n",
       "      <th>V_len</th>\n",
       "      <th>V_wid</th>\n",
       "      <th>velocity</th>\n",
       "      <th>...</th>\n",
       "      <th>TIT2</th>\n",
       "      <th>TIACT</th>\n",
       "      <th>TIPICUD</th>\n",
       "      <th>TIDSS</th>\n",
       "      <th>TIDRAC</th>\n",
       "      <th>TIMDRAC</th>\n",
       "      <th>TITAdv</th>\n",
       "      <th>TITimeGap</th>\n",
       "      <th>TIDCIA</th>\n",
       "      <th>cell</th>\n",
       "    </tr>\n",
       "  </thead>\n",
       "  <tbody>\n",
       "    <tr>\n",
       "      <th>0</th>\n",
       "      <td>1000_994</td>\n",
       "      <td>1000</td>\n",
       "      <td>994</td>\n",
       "      <td>17469</td>\n",
       "      <td>LVL</td>\n",
       "      <td>181.875</td>\n",
       "      <td>21.56250</td>\n",
       "      <td>7.09375</td>\n",
       "      <td>2.064453</td>\n",
       "      <td>104.375</td>\n",
       "      <td>...</td>\n",
       "      <td>NaN</td>\n",
       "      <td>NaN</td>\n",
       "      <td>NaN</td>\n",
       "      <td>NaN</td>\n",
       "      <td>NaN</td>\n",
       "      <td>NaN</td>\n",
       "      <td>NaN</td>\n",
       "      <td>NaN</td>\n",
       "      <td>NaN</td>\n",
       "      <td>200</td>\n",
       "    </tr>\n",
       "    <tr>\n",
       "      <th>1</th>\n",
       "      <td>1000_994</td>\n",
       "      <td>1000</td>\n",
       "      <td>994</td>\n",
       "      <td>17463</td>\n",
       "      <td>LVL</td>\n",
       "      <td>176.125</td>\n",
       "      <td>21.46875</td>\n",
       "      <td>7.09375</td>\n",
       "      <td>2.064453</td>\n",
       "      <td>104.000</td>\n",
       "      <td>...</td>\n",
       "      <td>NaN</td>\n",
       "      <td>0.0</td>\n",
       "      <td>NaN</td>\n",
       "      <td>NaN</td>\n",
       "      <td>NaN</td>\n",
       "      <td>NaN</td>\n",
       "      <td>NaN</td>\n",
       "      <td>NaN</td>\n",
       "      <td>NaN</td>\n",
       "      <td>180</td>\n",
       "    </tr>\n",
       "    <tr>\n",
       "      <th>2</th>\n",
       "      <td>1000_994</td>\n",
       "      <td>1000</td>\n",
       "      <td>994</td>\n",
       "      <td>17460</td>\n",
       "      <td>LVL</td>\n",
       "      <td>173.125</td>\n",
       "      <td>21.40625</td>\n",
       "      <td>7.09375</td>\n",
       "      <td>2.064453</td>\n",
       "      <td>104.125</td>\n",
       "      <td>...</td>\n",
       "      <td>NaN</td>\n",
       "      <td>0.0</td>\n",
       "      <td>NaN</td>\n",
       "      <td>NaN</td>\n",
       "      <td>NaN</td>\n",
       "      <td>NaN</td>\n",
       "      <td>0.0</td>\n",
       "      <td>0.0</td>\n",
       "      <td>NaN</td>\n",
       "      <td>180</td>\n",
       "    </tr>\n",
       "  </tbody>\n",
       "</table>\n",
       "<p>3 rows × 97 columns</p>\n",
       "</div>"
      ],
      "text/plain": [
       "       pair  veh_id  LV_ID    frm LV_type  local_x   local_y    V_len  \\\n",
       "0  1000_994    1000    994  17469     LVL  181.875  21.56250  7.09375   \n",
       "1  1000_994    1000    994  17463     LVL  176.125  21.46875  7.09375   \n",
       "2  1000_994    1000    994  17460     LVL  173.125  21.40625  7.09375   \n",
       "\n",
       "      V_wid  velocity  ...  TIT2 TIACT  TIPICUD  TIDSS  TIDRAC  TIMDRAC  \\\n",
       "0  2.064453   104.375  ...   NaN   NaN      NaN    NaN     NaN      NaN   \n",
       "1  2.064453   104.000  ...   NaN   0.0      NaN    NaN     NaN      NaN   \n",
       "2  2.064453   104.125  ...   NaN   0.0      NaN    NaN     NaN      NaN   \n",
       "\n",
       "   TITAdv  TITimeGap  TIDCIA  cell  \n",
       "0     NaN        NaN     NaN   200  \n",
       "1     NaN        NaN     NaN   180  \n",
       "2     0.0        0.0     NaN   180  \n",
       "\n",
       "[3 rows x 97 columns]"
      ]
     },
     "execution_count": 18,
     "metadata": {},
     "output_type": "execute_result"
    }
   ],
   "source": [
    "df_0.head(3)"
   ]
  },
  {
   "cell_type": "code",
   "execution_count": 19,
   "id": "567aa6e3-6986-459c-b1ae-2f79da3e17b6",
   "metadata": {
    "execution": {
     "iopub.execute_input": "2023-12-02T07:53:53.579227Z",
     "iopub.status.busy": "2023-12-02T07:53:53.579227Z",
     "iopub.status.idle": "2023-12-02T07:53:53.594189Z",
     "shell.execute_reply": "2023-12-02T07:53:53.593215Z",
     "shell.execute_reply.started": "2023-12-02T07:53:53.579227Z"
    },
    "tags": []
   },
   "outputs": [
    {
     "name": "stdout",
     "output_type": "stream",
     "text": [
      "15\n"
     ]
    }
   ],
   "source": [
    "var_list = ['velocity', 'acc']\n",
    "SSM_list_1 = [ 'TTC', 'MTTC', 'T2', 'TAdv', 'TimeGap', 'ACT']\n",
    "SSM_list_2 = ['PSD', 'DSS', 'MMTC', 'PICUD', 'MTC']\n",
    "SSM_list_3 = ['DRAC', 'MDRAC', 'DCIA', 'unsafety']\n",
    "\n",
    "SSM_list = SSM_list_1 + SSM_list_2 + SSM_list_3\n",
    "\n",
    "print(len(SSM_list))"
   ]
  },
  {
   "cell_type": "code",
   "execution_count": 20,
   "id": "de401dfa-2bcc-4d7e-b195-7ddc6af1fd68",
   "metadata": {
    "execution": {
     "iopub.execute_input": "2023-12-02T07:53:53.597181Z",
     "iopub.status.busy": "2023-12-02T07:53:53.596186Z",
     "iopub.status.idle": "2023-12-02T07:53:53.764770Z",
     "shell.execute_reply": "2023-12-02T07:53:53.764770Z",
     "shell.execute_reply.started": "2023-12-02T07:53:53.597181Z"
    },
    "tags": []
   },
   "outputs": [
    {
     "name": "stderr",
     "output_type": "stream",
     "text": [
      "1it [00:00,  6.68it/s]\n"
     ]
    }
   ],
   "source": [
    "for df, i in tqdm(zip([df_0][:1], [0][:1])):\n",
    "    \n",
    "    total_mean = pd.DataFrame(df[SSM_list].mean()).rename({0 : '전체'}, axis = 1)\n",
    "    sub_mean = pd.pivot_table(df, columns = ['potential_conflict_type'], values = SSM_list, aggfunc = 'mean') # 소계\n",
    "    each_mean = pd.pivot_table(df, columns = ['potential_conflict_type', 'LC_CF'], values = SSM_list, aggfunc = 'mean')\n",
    "\n",
    "    #each_mean.loc[:, ('angled', '전체')] = sub_mean['angled'].astype('float16')\n",
    "    each_mean.loc[:, ('rear_end', '전체')] = sub_mean['rear_end'].astype('float16')\n",
    "    each_mean.loc[:, ('side_swipe', '전체')] = sub_mean['side_swipe'].astype('float16')\n",
    "    each_mean.loc[:, ('전체', '전체')] = total_mean\n",
    "\n",
    "    total_mean = each_mean.stack().unstack().round(2)\n",
    "    total_mean = total_mean[['rear_end', 'side_swipe', '전체']]\n",
    "    \n",
    "    total_mean.drop([('전체', 'CF'), ('전체', 'LC')], axis = 1, inplace = True)\n",
    "    \n",
    "    # 카운트\n",
    "    \n",
    "    total_test = pd.DataFrame(df[['veh_id']].count()).rename({0 : '전체'}, axis = 1)\n",
    "    sub_test = pd.pivot_table(df, columns = ['potential_conflict_type'], values = ['veh_id', 'velocity', 'acc'], aggfunc = {'veh_id' : 'count', 'velocity' : 'mean', 'acc' : 'mean'})\n",
    "    each_test = pd.pivot_table(df, columns = ['potential_conflict_type', 'LC_CF'], values = ['veh_id', 'velocity', 'acc'], aggfunc = {'veh_id' : 'count', 'velocity' : 'mean', 'acc' : 'mean'})\n",
    "\n",
    "    #each_test.loc[:, ('angled', '전체')] = sub_test['angled'].astype('float16')\n",
    "    each_test.loc[:, ('rear_end', '전체')] = sub_test['rear_end'].astype('float16')\n",
    "    each_test.loc[:, ('side_swipe', '전체')] = sub_test['side_swipe'].astype('float16')\n",
    "    each_test.loc[:, ('전체', '전체')] = total_test\n",
    "\n",
    "    total_test = each_test.stack().unstack().round(2)\n",
    "    #total_test = total_test[['rear_end', 'side_swipe', 'angled', '전체']]\n",
    "\n",
    "    total_test.drop([('전체', 'CF'), ('전체', 'LC')], axis = 1, inplace = True)\n",
    "    \n",
    "    total_mean = pd.concat([total_test, total_mean])\n",
    "    total_mean = total_mean.round(2)\n",
    "    total_mean = total_mean.astype('float').round(2).fillna('-')\n",
    "    \n",
    "    total_mean = total_mean.reindex(['veh_id', 'velocity', 'acc'] + SSM_list_1 + SSM_list_2 + SSM_list_3)\n",
    "    \n",
    "    globals()[f'total_mean_{i}'] = total_mean"
   ]
  },
  {
   "cell_type": "code",
   "execution_count": 21,
   "id": "e29af211-db3f-406b-a8e1-a02426b3d4f7",
   "metadata": {
    "execution": {
     "iopub.execute_input": "2023-12-02T07:53:53.765739Z",
     "iopub.status.busy": "2023-12-02T07:53:53.765739Z",
     "iopub.status.idle": "2023-12-02T07:53:53.820370Z",
     "shell.execute_reply": "2023-12-02T07:53:53.797441Z",
     "shell.execute_reply.started": "2023-12-02T07:53:53.765739Z"
    },
    "tags": []
   },
   "outputs": [
    {
     "data": {
      "text/html": [
       "<div>\n",
       "<style scoped>\n",
       "    .dataframe tbody tr th:only-of-type {\n",
       "        vertical-align: middle;\n",
       "    }\n",
       "\n",
       "    .dataframe tbody tr th {\n",
       "        vertical-align: top;\n",
       "    }\n",
       "\n",
       "    .dataframe thead tr th {\n",
       "        text-align: left;\n",
       "    }\n",
       "</style>\n",
       "<table border=\"1\" class=\"dataframe\">\n",
       "  <thead>\n",
       "    <tr>\n",
       "      <th>potential_conflict_type</th>\n",
       "      <th colspan=\"3\" halign=\"left\">angled</th>\n",
       "      <th colspan=\"3\" halign=\"left\">rear_end</th>\n",
       "      <th colspan=\"3\" halign=\"left\">side_swipe</th>\n",
       "      <th>전체</th>\n",
       "    </tr>\n",
       "    <tr>\n",
       "      <th>LC_CF</th>\n",
       "      <th>CF</th>\n",
       "      <th>LC</th>\n",
       "      <th>전체</th>\n",
       "      <th>CF</th>\n",
       "      <th>LC</th>\n",
       "      <th>전체</th>\n",
       "      <th>CF</th>\n",
       "      <th>LC</th>\n",
       "      <th>전체</th>\n",
       "      <th>전체</th>\n",
       "    </tr>\n",
       "  </thead>\n",
       "  <tbody>\n",
       "    <tr>\n",
       "      <th>veh_id</th>\n",
       "      <td>-</td>\n",
       "      <td>1.0</td>\n",
       "      <td>-</td>\n",
       "      <td>24421.00</td>\n",
       "      <td>7739.00</td>\n",
       "      <td>32160.00</td>\n",
       "      <td>29699.0</td>\n",
       "      <td>11382.0</td>\n",
       "      <td>41088.0</td>\n",
       "      <td>156096.0</td>\n",
       "    </tr>\n",
       "    <tr>\n",
       "      <th>velocity</th>\n",
       "      <td>-</td>\n",
       "      <td>73.94</td>\n",
       "      <td>-</td>\n",
       "      <td>95.56</td>\n",
       "      <td>85.40</td>\n",
       "      <td>93.12</td>\n",
       "      <td>95.4</td>\n",
       "      <td>84.68</td>\n",
       "      <td>92.44</td>\n",
       "      <td>-</td>\n",
       "    </tr>\n",
       "    <tr>\n",
       "      <th>acc</th>\n",
       "      <td>-</td>\n",
       "      <td>-16.38</td>\n",
       "      <td>-</td>\n",
       "      <td>-0.04</td>\n",
       "      <td>0.34</td>\n",
       "      <td>0.05</td>\n",
       "      <td>0.01</td>\n",
       "      <td>0.34</td>\n",
       "      <td>0.1</td>\n",
       "      <td>-</td>\n",
       "    </tr>\n",
       "    <tr>\n",
       "      <th>TTC</th>\n",
       "      <td>-</td>\n",
       "      <td>-</td>\n",
       "      <td>-</td>\n",
       "      <td>1455.78</td>\n",
       "      <td>862.00</td>\n",
       "      <td>1343.00</td>\n",
       "      <td>-</td>\n",
       "      <td>-</td>\n",
       "      <td>-</td>\n",
       "      <td>1342.8</td>\n",
       "    </tr>\n",
       "    <tr>\n",
       "      <th>MTTC</th>\n",
       "      <td>-</td>\n",
       "      <td>-</td>\n",
       "      <td>-</td>\n",
       "      <td>34.05</td>\n",
       "      <td>33.34</td>\n",
       "      <td>33.88</td>\n",
       "      <td>-</td>\n",
       "      <td>-</td>\n",
       "      <td>-</td>\n",
       "      <td>33.87</td>\n",
       "    </tr>\n",
       "    <tr>\n",
       "      <th>T2</th>\n",
       "      <td>-</td>\n",
       "      <td>-</td>\n",
       "      <td>-</td>\n",
       "      <td>215.76</td>\n",
       "      <td>142.29</td>\n",
       "      <td>200.12</td>\n",
       "      <td>142.69</td>\n",
       "      <td>171.97</td>\n",
       "      <td>146.25</td>\n",
       "      <td>135.2</td>\n",
       "    </tr>\n",
       "    <tr>\n",
       "      <th>TAdv</th>\n",
       "      <td>-</td>\n",
       "      <td>-</td>\n",
       "      <td>-</td>\n",
       "      <td>71.51</td>\n",
       "      <td>46.43</td>\n",
       "      <td>65.50</td>\n",
       "      <td>98.0</td>\n",
       "      <td>38.18</td>\n",
       "      <td>81.44</td>\n",
       "      <td>74.43</td>\n",
       "    </tr>\n",
       "    <tr>\n",
       "      <th>TimeGap</th>\n",
       "      <td>-</td>\n",
       "      <td>-</td>\n",
       "      <td>-</td>\n",
       "      <td>436.11</td>\n",
       "      <td>211.04</td>\n",
       "      <td>382.00</td>\n",
       "      <td>502.0</td>\n",
       "      <td>183.49</td>\n",
       "      <td>413.75</td>\n",
       "      <td>399.82</td>\n",
       "    </tr>\n",
       "    <tr>\n",
       "      <th>ACT</th>\n",
       "      <td>-</td>\n",
       "      <td>-</td>\n",
       "      <td>-</td>\n",
       "      <td>18.71</td>\n",
       "      <td>16.96</td>\n",
       "      <td>18.27</td>\n",
       "      <td>15.92</td>\n",
       "      <td>18.15</td>\n",
       "      <td>16.56</td>\n",
       "      <td>15.98</td>\n",
       "    </tr>\n",
       "    <tr>\n",
       "      <th>PSD</th>\n",
       "      <td>-</td>\n",
       "      <td>-</td>\n",
       "      <td>-</td>\n",
       "      <td>113.89</td>\n",
       "      <td>122.79</td>\n",
       "      <td>116.06</td>\n",
       "      <td>-</td>\n",
       "      <td>-</td>\n",
       "      <td>-</td>\n",
       "      <td>116.04</td>\n",
       "    </tr>\n",
       "    <tr>\n",
       "      <th>DSS</th>\n",
       "      <td>-</td>\n",
       "      <td>-</td>\n",
       "      <td>-</td>\n",
       "      <td>55.82</td>\n",
       "      <td>51.76</td>\n",
       "      <td>55.06</td>\n",
       "      <td>-</td>\n",
       "      <td>-</td>\n",
       "      <td>-</td>\n",
       "      <td>55.07</td>\n",
       "    </tr>\n",
       "    <tr>\n",
       "      <th>MMTC</th>\n",
       "      <td>-</td>\n",
       "      <td>-</td>\n",
       "      <td>-</td>\n",
       "      <td>34.88</td>\n",
       "      <td>36.06</td>\n",
       "      <td>35.16</td>\n",
       "      <td>-</td>\n",
       "      <td>-</td>\n",
       "      <td>-</td>\n",
       "      <td>35.16</td>\n",
       "    </tr>\n",
       "    <tr>\n",
       "      <th>PICUD</th>\n",
       "      <td>-</td>\n",
       "      <td>-</td>\n",
       "      <td>-</td>\n",
       "      <td>66.24</td>\n",
       "      <td>64.79</td>\n",
       "      <td>65.88</td>\n",
       "      <td>-</td>\n",
       "      <td>-</td>\n",
       "      <td>-</td>\n",
       "      <td>65.89</td>\n",
       "    </tr>\n",
       "    <tr>\n",
       "      <th>MTC</th>\n",
       "      <td>-</td>\n",
       "      <td>-</td>\n",
       "      <td>-</td>\n",
       "      <td>107.94</td>\n",
       "      <td>104.20</td>\n",
       "      <td>107.06</td>\n",
       "      <td>-</td>\n",
       "      <td>-</td>\n",
       "      <td>-</td>\n",
       "      <td>107.03</td>\n",
       "    </tr>\n",
       "    <tr>\n",
       "      <th>DRAC</th>\n",
       "      <td>-</td>\n",
       "      <td>-</td>\n",
       "      <td>-</td>\n",
       "      <td>0.00</td>\n",
       "      <td>0.00</td>\n",
       "      <td>0.00</td>\n",
       "      <td>-</td>\n",
       "      <td>-</td>\n",
       "      <td>-</td>\n",
       "      <td>0.0</td>\n",
       "    </tr>\n",
       "    <tr>\n",
       "      <th>MDRAC</th>\n",
       "      <td>-</td>\n",
       "      <td>-</td>\n",
       "      <td>-</td>\n",
       "      <td>0.00</td>\n",
       "      <td>0.00</td>\n",
       "      <td>0.00</td>\n",
       "      <td>-</td>\n",
       "      <td>-</td>\n",
       "      <td>-</td>\n",
       "      <td>0.0</td>\n",
       "    </tr>\n",
       "    <tr>\n",
       "      <th>DCIA</th>\n",
       "      <td>-</td>\n",
       "      <td>-</td>\n",
       "      <td>-</td>\n",
       "      <td>-0.00</td>\n",
       "      <td>0.01</td>\n",
       "      <td>0.00</td>\n",
       "      <td>-</td>\n",
       "      <td>-</td>\n",
       "      <td>-</td>\n",
       "      <td>0.0</td>\n",
       "    </tr>\n",
       "    <tr>\n",
       "      <th>unsafety</th>\n",
       "      <td>-</td>\n",
       "      <td>-</td>\n",
       "      <td>-</td>\n",
       "      <td>-0.01</td>\n",
       "      <td>-0.00</td>\n",
       "      <td>-0.01</td>\n",
       "      <td>-</td>\n",
       "      <td>-</td>\n",
       "      <td>-</td>\n",
       "      <td>-0.01</td>\n",
       "    </tr>\n",
       "  </tbody>\n",
       "</table>\n",
       "</div>"
      ],
      "text/plain": [
       "potential_conflict_type angled            rear_end                     \\\n",
       "LC_CF                       CF     LC 전체        CF       LC        전체   \n",
       "veh_id                       -    1.0  -  24421.00  7739.00  32160.00   \n",
       "velocity                     -  73.94  -     95.56    85.40     93.12   \n",
       "acc                          - -16.38  -     -0.04     0.34      0.05   \n",
       "TTC                          -      -  -   1455.78   862.00   1343.00   \n",
       "MTTC                         -      -  -     34.05    33.34     33.88   \n",
       "T2                           -      -  -    215.76   142.29    200.12   \n",
       "TAdv                         -      -  -     71.51    46.43     65.50   \n",
       "TimeGap                      -      -  -    436.11   211.04    382.00   \n",
       "ACT                          -      -  -     18.71    16.96     18.27   \n",
       "PSD                          -      -  -    113.89   122.79    116.06   \n",
       "DSS                          -      -  -     55.82    51.76     55.06   \n",
       "MMTC                         -      -  -     34.88    36.06     35.16   \n",
       "PICUD                        -      -  -     66.24    64.79     65.88   \n",
       "MTC                          -      -  -    107.94   104.20    107.06   \n",
       "DRAC                         -      -  -      0.00     0.00      0.00   \n",
       "MDRAC                        -      -  -      0.00     0.00      0.00   \n",
       "DCIA                         -      -  -     -0.00     0.01      0.00   \n",
       "unsafety                     -      -  -     -0.01    -0.00     -0.01   \n",
       "\n",
       "potential_conflict_type side_swipe                          전체  \n",
       "LC_CF                           CF       LC       전체        전체  \n",
       "veh_id                     29699.0  11382.0  41088.0  156096.0  \n",
       "velocity                      95.4    84.68    92.44         -  \n",
       "acc                           0.01     0.34      0.1         -  \n",
       "TTC                              -        -        -    1342.8  \n",
       "MTTC                             -        -        -     33.87  \n",
       "T2                          142.69   171.97   146.25     135.2  \n",
       "TAdv                          98.0    38.18    81.44     74.43  \n",
       "TimeGap                      502.0   183.49   413.75    399.82  \n",
       "ACT                          15.92    18.15    16.56     15.98  \n",
       "PSD                              -        -        -    116.04  \n",
       "DSS                              -        -        -     55.07  \n",
       "MMTC                             -        -        -     35.16  \n",
       "PICUD                            -        -        -     65.89  \n",
       "MTC                              -        -        -    107.03  \n",
       "DRAC                             -        -        -       0.0  \n",
       "MDRAC                            -        -        -       0.0  \n",
       "DCIA                             -        -        -       0.0  \n",
       "unsafety                         -        -        -     -0.01  "
      ]
     },
     "execution_count": 21,
     "metadata": {},
     "output_type": "execute_result"
    }
   ],
   "source": [
    "total_mean_0"
   ]
  },
  {
   "cell_type": "code",
   "execution_count": 22,
   "id": "56402fab-bece-40da-a195-6fc3b2688b1d",
   "metadata": {
    "execution": {
     "iopub.execute_input": "2023-12-02T07:53:53.824359Z",
     "iopub.status.busy": "2023-12-02T07:53:53.824359Z",
     "iopub.status.idle": "2023-12-02T07:53:54.002769Z",
     "shell.execute_reply": "2023-12-02T07:53:54.000775Z",
     "shell.execute_reply.started": "2023-12-02T07:53:53.824359Z"
    },
    "tags": []
   },
   "outputs": [
    {
     "name": "stderr",
     "output_type": "stream",
     "text": [
      "1it [00:00,  6.85it/s]\n"
     ]
    }
   ],
   "source": [
    "for df, i in tqdm(zip([df_0][:1], [0][:1])):\n",
    "    \n",
    "    total_mean = pd.DataFrame(df[SSM_list].std()).rename({0 : '전체'}, axis = 1)\n",
    "    sub_mean = pd.pivot_table(df, columns = ['potential_conflict_type'], values = SSM_list, aggfunc = np.std) # 소계\n",
    "    each_mean = pd.pivot_table(df, columns = ['potential_conflict_type', 'LC_CF'], values = SSM_list, aggfunc = np.std)\n",
    "\n",
    "    #each_mean.loc[:, ('angled', '전체')] = sub_mean['angled'].astype('float16')\n",
    "    each_mean.loc[:, ('rear_end', '전체')] = sub_mean['rear_end'].astype('float16')\n",
    "    each_mean.loc[:, ('side_swipe', '전체')] = sub_mean['side_swipe'].astype('float16')\n",
    "    each_mean.loc[:, ('전체', '전체')] = total_mean\n",
    "\n",
    "    total_mean = each_mean.stack().unstack().round(2)\n",
    "    total_mean = total_mean[['rear_end', 'side_swipe', '전체']]\n",
    "    \n",
    "    total_mean.drop([('전체', 'CF'), ('전체', 'LC')], axis = 1, inplace = True)\n",
    "    \n",
    "    # 카운트\n",
    "    \n",
    "    total_test = pd.DataFrame(df[['veh_id']].count()).rename({0 : '전체'}, axis = 1)\n",
    "    sub_test = pd.pivot_table(df, columns = ['potential_conflict_type'], values = ['veh_id', 'velocity', 'acc'], aggfunc = {'veh_id' : 'count', 'velocity' : np.std, 'acc' : np.std})\n",
    "    each_test = pd.pivot_table(df, columns = ['potential_conflict_type', 'LC_CF'], values = ['veh_id', 'velocity', 'acc'], aggfunc = {'veh_id' : 'count', 'velocity' : np.std, 'acc' : np.std})\n",
    "\n",
    "    #each_test.loc[:, ('angled', '전체')] = sub_test['angled'].astype('float16')\n",
    "    each_test.loc[:, ('rear_end', '전체')] = sub_test['rear_end'].astype('float16')\n",
    "    each_test.loc[:, ('side_swipe', '전체')] = sub_test['side_swipe'].astype('float16')\n",
    "    each_test.loc[:, ('전체', '전체')] = total_test\n",
    "\n",
    "    total_test = each_test.stack().unstack().round(2)\n",
    "    #total_test = total_test[['rear_end', 'side_swipe', 'angled', '전체']]\n",
    "\n",
    "    total_test.drop([('전체', 'CF'), ('전체', 'LC')], axis = 1, inplace = True)\n",
    "    \n",
    "    total_mean = pd.concat([total_test, total_mean])\n",
    "    total_mean = total_mean.round(2)\n",
    "    total_mean = total_mean.astype('float').round(2).fillna('-')\n",
    "    \n",
    "    total_mean = total_mean.reindex(['veh_id', 'velocity', 'acc'] + SSM_list_1 + SSM_list_2 + SSM_list_3)\n",
    "    \n",
    "    globals()[f'total_mean_{i}'] = total_mean"
   ]
  },
  {
   "cell_type": "code",
   "execution_count": 23,
   "id": "0a1c1eb2-a6b9-4772-92e9-d01d4626f919",
   "metadata": {
    "execution": {
     "iopub.execute_input": "2023-12-02T07:53:54.003770Z",
     "iopub.status.busy": "2023-12-02T07:53:54.002769Z",
     "iopub.status.idle": "2023-12-02T07:53:54.032604Z",
     "shell.execute_reply": "2023-12-02T07:53:54.031637Z",
     "shell.execute_reply.started": "2023-12-02T07:53:54.003770Z"
    },
    "tags": []
   },
   "outputs": [
    {
     "data": {
      "text/html": [
       "<div>\n",
       "<style scoped>\n",
       "    .dataframe tbody tr th:only-of-type {\n",
       "        vertical-align: middle;\n",
       "    }\n",
       "\n",
       "    .dataframe tbody tr th {\n",
       "        vertical-align: top;\n",
       "    }\n",
       "\n",
       "    .dataframe thead tr th {\n",
       "        text-align: left;\n",
       "    }\n",
       "</style>\n",
       "<table border=\"1\" class=\"dataframe\">\n",
       "  <thead>\n",
       "    <tr>\n",
       "      <th>potential_conflict_type</th>\n",
       "      <th colspan=\"3\" halign=\"left\">angled</th>\n",
       "      <th colspan=\"3\" halign=\"left\">rear_end</th>\n",
       "      <th colspan=\"3\" halign=\"left\">side_swipe</th>\n",
       "      <th>전체</th>\n",
       "    </tr>\n",
       "    <tr>\n",
       "      <th>LC_CF</th>\n",
       "      <th>CF</th>\n",
       "      <th>LC</th>\n",
       "      <th>전체</th>\n",
       "      <th>CF</th>\n",
       "      <th>LC</th>\n",
       "      <th>전체</th>\n",
       "      <th>CF</th>\n",
       "      <th>LC</th>\n",
       "      <th>전체</th>\n",
       "      <th>전체</th>\n",
       "    </tr>\n",
       "  </thead>\n",
       "  <tbody>\n",
       "    <tr>\n",
       "      <th>veh_id</th>\n",
       "      <td>-</td>\n",
       "      <td>1.0</td>\n",
       "      <td>-</td>\n",
       "      <td>24421.00</td>\n",
       "      <td>7739.00</td>\n",
       "      <td>32160.00</td>\n",
       "      <td>29699.0</td>\n",
       "      <td>11382.0</td>\n",
       "      <td>41088.0</td>\n",
       "      <td>156096.0</td>\n",
       "    </tr>\n",
       "    <tr>\n",
       "      <th>velocity</th>\n",
       "      <td>-</td>\n",
       "      <td>-</td>\n",
       "      <td>-</td>\n",
       "      <td>15.40</td>\n",
       "      <td>11.38</td>\n",
       "      <td>15.17</td>\n",
       "      <td>15.46</td>\n",
       "      <td>10.92</td>\n",
       "      <td>15.13</td>\n",
       "      <td>-</td>\n",
       "    </tr>\n",
       "    <tr>\n",
       "      <th>acc</th>\n",
       "      <td>-</td>\n",
       "      <td>-</td>\n",
       "      <td>-</td>\n",
       "      <td>3.26</td>\n",
       "      <td>3.28</td>\n",
       "      <td>3.27</td>\n",
       "      <td>3.24</td>\n",
       "      <td>3.37</td>\n",
       "      <td>3.28</td>\n",
       "      <td>-</td>\n",
       "    </tr>\n",
       "    <tr>\n",
       "      <th>TTC</th>\n",
       "      <td>-</td>\n",
       "      <td>-</td>\n",
       "      <td>-</td>\n",
       "      <td>4694.95</td>\n",
       "      <td>3174.47</td>\n",
       "      <td>4452.00</td>\n",
       "      <td>-</td>\n",
       "      <td>-</td>\n",
       "      <td>-</td>\n",
       "      <td>4451.8</td>\n",
       "    </tr>\n",
       "    <tr>\n",
       "      <th>MTTC</th>\n",
       "      <td>-</td>\n",
       "      <td>-</td>\n",
       "      <td>-</td>\n",
       "      <td>61.44</td>\n",
       "      <td>118.45</td>\n",
       "      <td>79.56</td>\n",
       "      <td>-</td>\n",
       "      <td>-</td>\n",
       "      <td>-</td>\n",
       "      <td>79.58</td>\n",
       "    </tr>\n",
       "    <tr>\n",
       "      <th>T2</th>\n",
       "      <td>-</td>\n",
       "      <td>-</td>\n",
       "      <td>-</td>\n",
       "      <td>442.26</td>\n",
       "      <td>312.93</td>\n",
       "      <td>419.25</td>\n",
       "      <td>1205.84</td>\n",
       "      <td>455.28</td>\n",
       "      <td>1140.0</td>\n",
       "      <td>820.51</td>\n",
       "    </tr>\n",
       "    <tr>\n",
       "      <th>TAdv</th>\n",
       "      <td>-</td>\n",
       "      <td>-</td>\n",
       "      <td>-</td>\n",
       "      <td>712.26</td>\n",
       "      <td>276.48</td>\n",
       "      <td>635.50</td>\n",
       "      <td>1534.97</td>\n",
       "      <td>208.27</td>\n",
       "      <td>1310.0</td>\n",
       "      <td>1067.78</td>\n",
       "    </tr>\n",
       "    <tr>\n",
       "      <th>TimeGap</th>\n",
       "      <td>-</td>\n",
       "      <td>-</td>\n",
       "      <td>-</td>\n",
       "      <td>9239.35</td>\n",
       "      <td>1661.19</td>\n",
       "      <td>8096.00</td>\n",
       "      <td>8047.97</td>\n",
       "      <td>5582.12</td>\n",
       "      <td>7448.0</td>\n",
       "      <td>7738.35</td>\n",
       "    </tr>\n",
       "    <tr>\n",
       "      <th>ACT</th>\n",
       "      <td>-</td>\n",
       "      <td>-</td>\n",
       "      <td>-</td>\n",
       "      <td>48.11</td>\n",
       "      <td>52.16</td>\n",
       "      <td>49.16</td>\n",
       "      <td>27.29</td>\n",
       "      <td>47.24</td>\n",
       "      <td>34.22</td>\n",
       "      <td>38.23</td>\n",
       "    </tr>\n",
       "    <tr>\n",
       "      <th>PSD</th>\n",
       "      <td>-</td>\n",
       "      <td>-</td>\n",
       "      <td>-</td>\n",
       "      <td>77.67</td>\n",
       "      <td>87.08</td>\n",
       "      <td>80.12</td>\n",
       "      <td>-</td>\n",
       "      <td>-</td>\n",
       "      <td>-</td>\n",
       "      <td>80.14</td>\n",
       "    </tr>\n",
       "    <tr>\n",
       "      <th>DSS</th>\n",
       "      <td>-</td>\n",
       "      <td>-</td>\n",
       "      <td>-</td>\n",
       "      <td>33.25</td>\n",
       "      <td>36.62</td>\n",
       "      <td>33.94</td>\n",
       "      <td>-</td>\n",
       "      <td>-</td>\n",
       "      <td>-</td>\n",
       "      <td>33.93</td>\n",
       "    </tr>\n",
       "    <tr>\n",
       "      <th>MMTC</th>\n",
       "      <td>-</td>\n",
       "      <td>-</td>\n",
       "      <td>-</td>\n",
       "      <td>19.22</td>\n",
       "      <td>22.04</td>\n",
       "      <td>19.94</td>\n",
       "      <td>-</td>\n",
       "      <td>-</td>\n",
       "      <td>-</td>\n",
       "      <td>19.94</td>\n",
       "    </tr>\n",
       "    <tr>\n",
       "      <th>PICUD</th>\n",
       "      <td>-</td>\n",
       "      <td>-</td>\n",
       "      <td>-</td>\n",
       "      <td>35.62</td>\n",
       "      <td>40.36</td>\n",
       "      <td>36.81</td>\n",
       "      <td>-</td>\n",
       "      <td>-</td>\n",
       "      <td>-</td>\n",
       "      <td>36.82</td>\n",
       "    </tr>\n",
       "    <tr>\n",
       "      <th>MTC</th>\n",
       "      <td>-</td>\n",
       "      <td>-</td>\n",
       "      <td>-</td>\n",
       "      <td>29.89</td>\n",
       "      <td>35.71</td>\n",
       "      <td>31.44</td>\n",
       "      <td>-</td>\n",
       "      <td>-</td>\n",
       "      <td>-</td>\n",
       "      <td>31.43</td>\n",
       "    </tr>\n",
       "    <tr>\n",
       "      <th>DRAC</th>\n",
       "      <td>-</td>\n",
       "      <td>-</td>\n",
       "      <td>-</td>\n",
       "      <td>0.01</td>\n",
       "      <td>0.01</td>\n",
       "      <td>0.01</td>\n",
       "      <td>-</td>\n",
       "      <td>-</td>\n",
       "      <td>-</td>\n",
       "      <td>0.01</td>\n",
       "    </tr>\n",
       "    <tr>\n",
       "      <th>MDRAC</th>\n",
       "      <td>-</td>\n",
       "      <td>-</td>\n",
       "      <td>-</td>\n",
       "      <td>0.01</td>\n",
       "      <td>0.01</td>\n",
       "      <td>0.01</td>\n",
       "      <td>-</td>\n",
       "      <td>-</td>\n",
       "      <td>-</td>\n",
       "      <td>0.01</td>\n",
       "    </tr>\n",
       "    <tr>\n",
       "      <th>DCIA</th>\n",
       "      <td>-</td>\n",
       "      <td>-</td>\n",
       "      <td>-</td>\n",
       "      <td>1.25</td>\n",
       "      <td>0.47</td>\n",
       "      <td>1.11</td>\n",
       "      <td>-</td>\n",
       "      <td>-</td>\n",
       "      <td>-</td>\n",
       "      <td>1.11</td>\n",
       "    </tr>\n",
       "    <tr>\n",
       "      <th>unsafety</th>\n",
       "      <td>-</td>\n",
       "      <td>-</td>\n",
       "      <td>-</td>\n",
       "      <td>0.63</td>\n",
       "      <td>0.03</td>\n",
       "      <td>0.55</td>\n",
       "      <td>-</td>\n",
       "      <td>-</td>\n",
       "      <td>-</td>\n",
       "      <td>0.55</td>\n",
       "    </tr>\n",
       "  </tbody>\n",
       "</table>\n",
       "</div>"
      ],
      "text/plain": [
       "potential_conflict_type angled          rear_end                     \\\n",
       "LC_CF                       CF   LC 전체        CF       LC        전체   \n",
       "veh_id                       -  1.0  -  24421.00  7739.00  32160.00   \n",
       "velocity                     -    -  -     15.40    11.38     15.17   \n",
       "acc                          -    -  -      3.26     3.28      3.27   \n",
       "TTC                          -    -  -   4694.95  3174.47   4452.00   \n",
       "MTTC                         -    -  -     61.44   118.45     79.56   \n",
       "T2                           -    -  -    442.26   312.93    419.25   \n",
       "TAdv                         -    -  -    712.26   276.48    635.50   \n",
       "TimeGap                      -    -  -   9239.35  1661.19   8096.00   \n",
       "ACT                          -    -  -     48.11    52.16     49.16   \n",
       "PSD                          -    -  -     77.67    87.08     80.12   \n",
       "DSS                          -    -  -     33.25    36.62     33.94   \n",
       "MMTC                         -    -  -     19.22    22.04     19.94   \n",
       "PICUD                        -    -  -     35.62    40.36     36.81   \n",
       "MTC                          -    -  -     29.89    35.71     31.44   \n",
       "DRAC                         -    -  -      0.01     0.01      0.01   \n",
       "MDRAC                        -    -  -      0.01     0.01      0.01   \n",
       "DCIA                         -    -  -      1.25     0.47      1.11   \n",
       "unsafety                     -    -  -      0.63     0.03      0.55   \n",
       "\n",
       "potential_conflict_type side_swipe                          전체  \n",
       "LC_CF                           CF       LC       전체        전체  \n",
       "veh_id                     29699.0  11382.0  41088.0  156096.0  \n",
       "velocity                     15.46    10.92    15.13         -  \n",
       "acc                           3.24     3.37     3.28         -  \n",
       "TTC                              -        -        -    4451.8  \n",
       "MTTC                             -        -        -     79.58  \n",
       "T2                         1205.84   455.28   1140.0    820.51  \n",
       "TAdv                       1534.97   208.27   1310.0   1067.78  \n",
       "TimeGap                    8047.97  5582.12   7448.0   7738.35  \n",
       "ACT                          27.29    47.24    34.22     38.23  \n",
       "PSD                              -        -        -     80.14  \n",
       "DSS                              -        -        -     33.93  \n",
       "MMTC                             -        -        -     19.94  \n",
       "PICUD                            -        -        -     36.82  \n",
       "MTC                              -        -        -     31.43  \n",
       "DRAC                             -        -        -      0.01  \n",
       "MDRAC                            -        -        -      0.01  \n",
       "DCIA                             -        -        -      1.11  \n",
       "unsafety                         -        -        -      0.55  "
      ]
     },
     "execution_count": 23,
     "metadata": {},
     "output_type": "execute_result"
    }
   ],
   "source": [
    "total_mean_0"
   ]
  },
  {
   "cell_type": "markdown",
   "id": "dfb09e9b-2a4a-42ea-8799-4c7ca291d4c5",
   "metadata": {},
   "source": [
    "# 히트맵 또는 산점도"
   ]
  },
  {
   "cell_type": "code",
   "execution_count": 35,
   "id": "ad5b8ba9-03f4-4610-aacf-6aaaacf1dbe8",
   "metadata": {
    "execution": {
     "iopub.execute_input": "2023-12-02T07:58:36.009791Z",
     "iopub.status.busy": "2023-12-02T07:58:36.008793Z",
     "iopub.status.idle": "2023-12-02T07:58:36.373950Z",
     "shell.execute_reply": "2023-12-02T07:58:36.372971Z",
     "shell.execute_reply.started": "2023-12-02T07:58:36.009791Z"
    },
    "tags": []
   },
   "outputs": [
    {
     "data": {
      "application/vnd.plotly.v1+json": {
       "config": {
        "plotlyServerURL": "https://plot.ly"
       },
       "data": [
        {
         "colorscale": [
          [
           0,
           "#ffffff"
          ],
          [
           1,
           "#ff0000"
          ]
         ],
         "showlegend": false,
         "textfont": {
          "size": 10
         },
         "texttemplate": "%{z}",
         "type": "heatmap",
         "x": [
          "040",
          "060",
          "080",
          "100",
          "120",
          "140",
          "160",
          "180",
          "200",
          "220",
          "240",
          "lane"
         ],
         "xaxis": "x",
         "y": [
          "U1",
          "U2",
          "U3",
          "U4",
          "U5",
          "U6"
         ],
         "yaxis": "y",
         "z": [
          [
           0,
           0,
           0,
           0,
           0,
           0,
           0,
           0,
           0,
           0,
           null,
           "U1"
          ],
          [
           0,
           0,
           0,
           0,
           0,
           0,
           0,
           0,
           0,
           0,
           null,
           "U2"
          ],
          [
           0,
           0,
           0,
           0,
           0,
           0,
           0,
           0,
           0,
           0.01,
           null,
           "U3"
          ],
          [
           0,
           0,
           0,
           0,
           0,
           0,
           0,
           0,
           0,
           0,
           0,
           "U4"
          ],
          [
           0,
           0,
           0,
           0,
           0,
           0,
           0,
           0,
           0,
           null,
           null,
           "U5"
          ],
          [
           0,
           null,
           0,
           null,
           null,
           null,
           null,
           null,
           null,
           null,
           null,
           "U6"
          ]
         ],
         "zmin": 0
        },
        {
         "colorscale": [
          [
           0,
           "#ffffff"
          ],
          [
           1,
           "#ff0000"
          ]
         ],
         "showlegend": false,
         "textfont": {
          "size": 10
         },
         "texttemplate": "%{z}",
         "type": "heatmap",
         "x": [
          "040",
          "060",
          "080",
          "100",
          "120",
          "140",
          "160",
          "180",
          "200",
          "220",
          "240",
          "lane"
         ],
         "xaxis": "x2",
         "y": [
          "U1",
          "U2",
          "U3",
          "U4",
          "U5",
          "U6"
         ],
         "yaxis": "y2",
         "z": [
          [
           null,
           10.87,
           10.61,
           7.97,
           7.73,
           7.56,
           5.79,
           10.08,
           10.67,
           6.9,
           null,
           "U1"
          ],
          [
           2.94,
           6.97,
           6.22,
           5.73,
           5.12,
           6.64,
           15.2,
           11.19,
           22.27,
           8.5,
           null,
           "U2"
          ],
          [
           4.01,
           7.34,
           7.59,
           5.57,
           4.95,
           5.41,
           11.79,
           11.04,
           19.4,
           19.99,
           26.16,
           "U3"
          ],
          [
           5.04,
           7.15,
           7,
           5.61,
           8.82,
           6.08,
           7.58,
           7.74,
           14.07,
           41.92,
           null,
           "U4"
          ],
          [
           3.94,
           5.13,
           5.42,
           3.58,
           3.41,
           5.99,
           7.23,
           8.36,
           9.67,
           null,
           null,
           "U5"
          ],
          [
           4.68,
           2.41,
           5.28,
           null,
           null,
           null,
           null,
           null,
           null,
           null,
           null,
           "U6"
          ]
         ],
         "zmin": 0
        },
        {
         "colorscale": [
          [
           0,
           "#ffffff"
          ],
          [
           1,
           "#ff0000"
          ]
         ],
         "showlegend": false,
         "textfont": {
          "size": 10
         },
         "texttemplate": "%{z}",
         "type": "heatmap",
         "x": [
          "040",
          "060",
          "080",
          "100",
          "120",
          "140",
          "160",
          "180",
          "200",
          "220",
          "240",
          "lane"
         ],
         "xaxis": "x3",
         "y": [
          "U1",
          "U2",
          "U3",
          "U4",
          "U5",
          "U6"
         ],
         "yaxis": "y3",
         "z": [
          [
           0,
           0,
           0.01,
           0.02,
           0.01,
           0.01,
           0.01,
           0.01,
           0.01,
           0.03,
           0.06,
           "U1"
          ],
          [
           0,
           0.01,
           0.01,
           0.01,
           0.01,
           0.01,
           0.01,
           0.01,
           0.01,
           0.03,
           0.07,
           "U2"
          ],
          [
           0,
           0.01,
           0.01,
           0.01,
           0.01,
           0.01,
           0.02,
           0.01,
           0.01,
           0.03,
           0.05,
           "U3"
          ],
          [
           0.01,
           0,
           0.01,
           0.02,
           0.01,
           0.01,
           0.02,
           0.03,
           0.02,
           0.05,
           0.06,
           "U4"
          ],
          [
           0,
           0.01,
           0.01,
           0.01,
           0.01,
           0.02,
           0.03,
           0.02,
           0.02,
           0.02,
           0.04,
           "U5"
          ],
          [
           0.03,
           0.01,
           0.01,
           0,
           0,
           0.04,
           0.03,
           0,
           0,
           null,
           null,
           "U6"
          ]
         ],
         "zmin": 0
        },
        {
         "colorscale": [
          [
           0,
           "#ffffff"
          ],
          [
           1,
           "#ff0000"
          ]
         ],
         "showlegend": false,
         "textfont": {
          "size": 10
         },
         "texttemplate": "%{z}",
         "type": "heatmap",
         "x": [
          "040",
          "060",
          "080",
          "100",
          "120",
          "140",
          "160",
          "180",
          "200",
          "220",
          "240",
          "lane"
         ],
         "xaxis": "x4",
         "y": [
          "U1",
          "U2",
          "U3",
          "U4",
          "U5",
          "U6"
         ],
         "yaxis": "y4",
         "z": [
          [
           null,
           0.01,
           0.01,
           0.01,
           0,
           0.01,
           0.01,
           0.01,
           0.02,
           0.02,
           0.01,
           "U1"
          ],
          [
           0,
           0,
           0,
           0,
           0.01,
           0.01,
           0.01,
           0.01,
           0.01,
           0.01,
           0.02,
           "U2"
          ],
          [
           0.01,
           0.01,
           0.01,
           0.01,
           0.01,
           0.01,
           0.01,
           0.02,
           0.02,
           0.02,
           0.02,
           "U3"
          ],
          [
           0.01,
           0.01,
           0.01,
           0.01,
           0.01,
           0.01,
           0.02,
           0.01,
           0.01,
           0.01,
           0.01,
           "U4"
          ],
          [
           0.01,
           0.01,
           0.01,
           0.01,
           0.01,
           0.01,
           0.02,
           0.02,
           0.01,
           0.02,
           0.02,
           "U5"
          ],
          [
           0,
           0,
           0,
           0.01,
           0.01,
           0.01,
           0,
           0.01,
           0.01,
           0,
           null,
           "U6"
          ]
         ],
         "zmin": 0
        },
        {
         "colorscale": [
          [
           0,
           "#ffffff"
          ],
          [
           1,
           "#ff0000"
          ]
         ],
         "showlegend": false,
         "textfont": {
          "size": 10
         },
         "texttemplate": "%{z}",
         "type": "heatmap",
         "x": [
          "040",
          "060",
          "080",
          "100",
          "120",
          "140",
          "160",
          "180",
          "200",
          "220",
          "240",
          "lane"
         ],
         "xaxis": "x5",
         "y": [
          "U1",
          "U2",
          "U3",
          "U4",
          "U5",
          "U6"
         ],
         "yaxis": "y5",
         "z": [
          [
           0,
           0,
           0,
           0,
           0,
           0,
           0,
           0,
           0,
           0,
           0,
           "U1"
          ],
          [
           0,
           0,
           0,
           0,
           0,
           0,
           0,
           0,
           0,
           0,
           0,
           "U2"
          ],
          [
           0,
           0,
           0,
           0,
           0,
           0,
           0,
           0,
           0,
           0,
           0,
           "U3"
          ],
          [
           0,
           0,
           0,
           0,
           0,
           0,
           0,
           0,
           0,
           0,
           0,
           "U4"
          ],
          [
           0,
           0,
           0,
           0,
           0,
           0,
           0,
           0,
           0,
           0,
           0,
           "U5"
          ],
          [
           0,
           0,
           0,
           0,
           0,
           0,
           0,
           0,
           0,
           0,
           null,
           "U6"
          ]
         ],
         "zmin": 0
        },
        {
         "colorscale": [
          [
           0,
           "#ffffff"
          ],
          [
           1,
           "#ff0000"
          ]
         ],
         "showlegend": false,
         "textfont": {
          "size": 10
         },
         "texttemplate": "%{z}",
         "type": "heatmap",
         "x": [
          "040",
          "060",
          "080",
          "100",
          "120",
          "140",
          "160",
          "180",
          "200",
          "220",
          "240",
          "lane"
         ],
         "xaxis": "x6",
         "y": [
          "U1",
          "U2",
          "U3",
          "U4",
          "U5",
          "U6"
         ],
         "yaxis": "y6",
         "z": [
          [
           0,
           0.01,
           0.01,
           0.01,
           0,
           0,
           0,
           0.01,
           0.01,
           0,
           0,
           "U1"
          ],
          [
           0,
           0.01,
           0.01,
           0,
           0,
           0,
           0.01,
           0.01,
           0.01,
           0.01,
           0,
           "U2"
          ],
          [
           0.01,
           0.01,
           0,
           0,
           0,
           0,
           0,
           0.01,
           0.01,
           0.01,
           0,
           "U3"
          ],
          [
           0,
           0,
           0,
           0,
           0,
           0,
           0,
           0,
           0,
           0,
           0,
           "U4"
          ],
          [
           0,
           0,
           0,
           0.01,
           0,
           0,
           0,
           0,
           0,
           0,
           0.01,
           "U5"
          ],
          [
           0,
           0,
           0,
           0.01,
           0.01,
           0.01,
           0,
           0,
           0,
           0,
           null,
           "U6"
          ]
         ],
         "zmin": 0
        }
       ],
       "layout": {
        "height": 1200,
        "showlegend": false,
        "template": {
         "data": {
          "bar": [
           {
            "error_x": {
             "color": "rgb(36,36,36)"
            },
            "error_y": {
             "color": "rgb(36,36,36)"
            },
            "marker": {
             "line": {
              "color": "white",
              "width": 0.5
             },
             "pattern": {
              "fillmode": "overlay",
              "size": 10,
              "solidity": 0.2
             }
            },
            "type": "bar"
           }
          ],
          "barpolar": [
           {
            "marker": {
             "line": {
              "color": "white",
              "width": 0.5
             },
             "pattern": {
              "fillmode": "overlay",
              "size": 10,
              "solidity": 0.2
             }
            },
            "type": "barpolar"
           }
          ],
          "carpet": [
           {
            "aaxis": {
             "endlinecolor": "rgb(36,36,36)",
             "gridcolor": "white",
             "linecolor": "white",
             "minorgridcolor": "white",
             "startlinecolor": "rgb(36,36,36)"
            },
            "baxis": {
             "endlinecolor": "rgb(36,36,36)",
             "gridcolor": "white",
             "linecolor": "white",
             "minorgridcolor": "white",
             "startlinecolor": "rgb(36,36,36)"
            },
            "type": "carpet"
           }
          ],
          "choropleth": [
           {
            "colorbar": {
             "outlinewidth": 1,
             "tickcolor": "rgb(36,36,36)",
             "ticks": "outside"
            },
            "type": "choropleth"
           }
          ],
          "contour": [
           {
            "colorbar": {
             "outlinewidth": 1,
             "tickcolor": "rgb(36,36,36)",
             "ticks": "outside"
            },
            "colorscale": [
             [
              0,
              "#440154"
             ],
             [
              0.1111111111111111,
              "#482878"
             ],
             [
              0.2222222222222222,
              "#3e4989"
             ],
             [
              0.3333333333333333,
              "#31688e"
             ],
             [
              0.4444444444444444,
              "#26828e"
             ],
             [
              0.5555555555555556,
              "#1f9e89"
             ],
             [
              0.6666666666666666,
              "#35b779"
             ],
             [
              0.7777777777777778,
              "#6ece58"
             ],
             [
              0.8888888888888888,
              "#b5de2b"
             ],
             [
              1,
              "#fde725"
             ]
            ],
            "type": "contour"
           }
          ],
          "contourcarpet": [
           {
            "colorbar": {
             "outlinewidth": 1,
             "tickcolor": "rgb(36,36,36)",
             "ticks": "outside"
            },
            "type": "contourcarpet"
           }
          ],
          "heatmap": [
           {
            "colorbar": {
             "outlinewidth": 1,
             "tickcolor": "rgb(36,36,36)",
             "ticks": "outside"
            },
            "colorscale": [
             [
              0,
              "#440154"
             ],
             [
              0.1111111111111111,
              "#482878"
             ],
             [
              0.2222222222222222,
              "#3e4989"
             ],
             [
              0.3333333333333333,
              "#31688e"
             ],
             [
              0.4444444444444444,
              "#26828e"
             ],
             [
              0.5555555555555556,
              "#1f9e89"
             ],
             [
              0.6666666666666666,
              "#35b779"
             ],
             [
              0.7777777777777778,
              "#6ece58"
             ],
             [
              0.8888888888888888,
              "#b5de2b"
             ],
             [
              1,
              "#fde725"
             ]
            ],
            "type": "heatmap"
           }
          ],
          "heatmapgl": [
           {
            "colorbar": {
             "outlinewidth": 1,
             "tickcolor": "rgb(36,36,36)",
             "ticks": "outside"
            },
            "colorscale": [
             [
              0,
              "#440154"
             ],
             [
              0.1111111111111111,
              "#482878"
             ],
             [
              0.2222222222222222,
              "#3e4989"
             ],
             [
              0.3333333333333333,
              "#31688e"
             ],
             [
              0.4444444444444444,
              "#26828e"
             ],
             [
              0.5555555555555556,
              "#1f9e89"
             ],
             [
              0.6666666666666666,
              "#35b779"
             ],
             [
              0.7777777777777778,
              "#6ece58"
             ],
             [
              0.8888888888888888,
              "#b5de2b"
             ],
             [
              1,
              "#fde725"
             ]
            ],
            "type": "heatmapgl"
           }
          ],
          "histogram": [
           {
            "marker": {
             "line": {
              "color": "white",
              "width": 0.6
             }
            },
            "type": "histogram"
           }
          ],
          "histogram2d": [
           {
            "colorbar": {
             "outlinewidth": 1,
             "tickcolor": "rgb(36,36,36)",
             "ticks": "outside"
            },
            "colorscale": [
             [
              0,
              "#440154"
             ],
             [
              0.1111111111111111,
              "#482878"
             ],
             [
              0.2222222222222222,
              "#3e4989"
             ],
             [
              0.3333333333333333,
              "#31688e"
             ],
             [
              0.4444444444444444,
              "#26828e"
             ],
             [
              0.5555555555555556,
              "#1f9e89"
             ],
             [
              0.6666666666666666,
              "#35b779"
             ],
             [
              0.7777777777777778,
              "#6ece58"
             ],
             [
              0.8888888888888888,
              "#b5de2b"
             ],
             [
              1,
              "#fde725"
             ]
            ],
            "type": "histogram2d"
           }
          ],
          "histogram2dcontour": [
           {
            "colorbar": {
             "outlinewidth": 1,
             "tickcolor": "rgb(36,36,36)",
             "ticks": "outside"
            },
            "colorscale": [
             [
              0,
              "#440154"
             ],
             [
              0.1111111111111111,
              "#482878"
             ],
             [
              0.2222222222222222,
              "#3e4989"
             ],
             [
              0.3333333333333333,
              "#31688e"
             ],
             [
              0.4444444444444444,
              "#26828e"
             ],
             [
              0.5555555555555556,
              "#1f9e89"
             ],
             [
              0.6666666666666666,
              "#35b779"
             ],
             [
              0.7777777777777778,
              "#6ece58"
             ],
             [
              0.8888888888888888,
              "#b5de2b"
             ],
             [
              1,
              "#fde725"
             ]
            ],
            "type": "histogram2dcontour"
           }
          ],
          "mesh3d": [
           {
            "colorbar": {
             "outlinewidth": 1,
             "tickcolor": "rgb(36,36,36)",
             "ticks": "outside"
            },
            "type": "mesh3d"
           }
          ],
          "parcoords": [
           {
            "line": {
             "colorbar": {
              "outlinewidth": 1,
              "tickcolor": "rgb(36,36,36)",
              "ticks": "outside"
             }
            },
            "type": "parcoords"
           }
          ],
          "pie": [
           {
            "automargin": true,
            "type": "pie"
           }
          ],
          "scatter": [
           {
            "fillpattern": {
             "fillmode": "overlay",
             "size": 10,
             "solidity": 0.2
            },
            "type": "scatter"
           }
          ],
          "scatter3d": [
           {
            "line": {
             "colorbar": {
              "outlinewidth": 1,
              "tickcolor": "rgb(36,36,36)",
              "ticks": "outside"
             }
            },
            "marker": {
             "colorbar": {
              "outlinewidth": 1,
              "tickcolor": "rgb(36,36,36)",
              "ticks": "outside"
             }
            },
            "type": "scatter3d"
           }
          ],
          "scattercarpet": [
           {
            "marker": {
             "colorbar": {
              "outlinewidth": 1,
              "tickcolor": "rgb(36,36,36)",
              "ticks": "outside"
             }
            },
            "type": "scattercarpet"
           }
          ],
          "scattergeo": [
           {
            "marker": {
             "colorbar": {
              "outlinewidth": 1,
              "tickcolor": "rgb(36,36,36)",
              "ticks": "outside"
             }
            },
            "type": "scattergeo"
           }
          ],
          "scattergl": [
           {
            "marker": {
             "colorbar": {
              "outlinewidth": 1,
              "tickcolor": "rgb(36,36,36)",
              "ticks": "outside"
             }
            },
            "type": "scattergl"
           }
          ],
          "scattermapbox": [
           {
            "marker": {
             "colorbar": {
              "outlinewidth": 1,
              "tickcolor": "rgb(36,36,36)",
              "ticks": "outside"
             }
            },
            "type": "scattermapbox"
           }
          ],
          "scatterpolar": [
           {
            "marker": {
             "colorbar": {
              "outlinewidth": 1,
              "tickcolor": "rgb(36,36,36)",
              "ticks": "outside"
             }
            },
            "type": "scatterpolar"
           }
          ],
          "scatterpolargl": [
           {
            "marker": {
             "colorbar": {
              "outlinewidth": 1,
              "tickcolor": "rgb(36,36,36)",
              "ticks": "outside"
             }
            },
            "type": "scatterpolargl"
           }
          ],
          "scatterternary": [
           {
            "marker": {
             "colorbar": {
              "outlinewidth": 1,
              "tickcolor": "rgb(36,36,36)",
              "ticks": "outside"
             }
            },
            "type": "scatterternary"
           }
          ],
          "surface": [
           {
            "colorbar": {
             "outlinewidth": 1,
             "tickcolor": "rgb(36,36,36)",
             "ticks": "outside"
            },
            "colorscale": [
             [
              0,
              "#440154"
             ],
             [
              0.1111111111111111,
              "#482878"
             ],
             [
              0.2222222222222222,
              "#3e4989"
             ],
             [
              0.3333333333333333,
              "#31688e"
             ],
             [
              0.4444444444444444,
              "#26828e"
             ],
             [
              0.5555555555555556,
              "#1f9e89"
             ],
             [
              0.6666666666666666,
              "#35b779"
             ],
             [
              0.7777777777777778,
              "#6ece58"
             ],
             [
              0.8888888888888888,
              "#b5de2b"
             ],
             [
              1,
              "#fde725"
             ]
            ],
            "type": "surface"
           }
          ],
          "table": [
           {
            "cells": {
             "fill": {
              "color": "rgb(237,237,237)"
             },
             "line": {
              "color": "white"
             }
            },
            "header": {
             "fill": {
              "color": "rgb(217,217,217)"
             },
             "line": {
              "color": "white"
             }
            },
            "type": "table"
           }
          ]
         },
         "layout": {
          "annotationdefaults": {
           "arrowhead": 0,
           "arrowwidth": 1
          },
          "autotypenumbers": "strict",
          "coloraxis": {
           "colorbar": {
            "outlinewidth": 1,
            "tickcolor": "rgb(36,36,36)",
            "ticks": "outside"
           }
          },
          "colorscale": {
           "diverging": [
            [
             0,
             "rgb(103,0,31)"
            ],
            [
             0.1,
             "rgb(178,24,43)"
            ],
            [
             0.2,
             "rgb(214,96,77)"
            ],
            [
             0.3,
             "rgb(244,165,130)"
            ],
            [
             0.4,
             "rgb(253,219,199)"
            ],
            [
             0.5,
             "rgb(247,247,247)"
            ],
            [
             0.6,
             "rgb(209,229,240)"
            ],
            [
             0.7,
             "rgb(146,197,222)"
            ],
            [
             0.8,
             "rgb(67,147,195)"
            ],
            [
             0.9,
             "rgb(33,102,172)"
            ],
            [
             1,
             "rgb(5,48,97)"
            ]
           ],
           "sequential": [
            [
             0,
             "#440154"
            ],
            [
             0.1111111111111111,
             "#482878"
            ],
            [
             0.2222222222222222,
             "#3e4989"
            ],
            [
             0.3333333333333333,
             "#31688e"
            ],
            [
             0.4444444444444444,
             "#26828e"
            ],
            [
             0.5555555555555556,
             "#1f9e89"
            ],
            [
             0.6666666666666666,
             "#35b779"
            ],
            [
             0.7777777777777778,
             "#6ece58"
            ],
            [
             0.8888888888888888,
             "#b5de2b"
            ],
            [
             1,
             "#fde725"
            ]
           ],
           "sequentialminus": [
            [
             0,
             "#440154"
            ],
            [
             0.1111111111111111,
             "#482878"
            ],
            [
             0.2222222222222222,
             "#3e4989"
            ],
            [
             0.3333333333333333,
             "#31688e"
            ],
            [
             0.4444444444444444,
             "#26828e"
            ],
            [
             0.5555555555555556,
             "#1f9e89"
            ],
            [
             0.6666666666666666,
             "#35b779"
            ],
            [
             0.7777777777777778,
             "#6ece58"
            ],
            [
             0.8888888888888888,
             "#b5de2b"
            ],
            [
             1,
             "#fde725"
            ]
           ]
          },
          "colorway": [
           "#1F77B4",
           "#FF7F0E",
           "#2CA02C",
           "#D62728",
           "#9467BD",
           "#8C564B",
           "#E377C2",
           "#7F7F7F",
           "#BCBD22",
           "#17BECF"
          ],
          "font": {
           "color": "rgb(36,36,36)"
          },
          "geo": {
           "bgcolor": "white",
           "lakecolor": "white",
           "landcolor": "white",
           "showlakes": true,
           "showland": true,
           "subunitcolor": "white"
          },
          "hoverlabel": {
           "align": "left"
          },
          "hovermode": "closest",
          "mapbox": {
           "style": "light"
          },
          "paper_bgcolor": "white",
          "plot_bgcolor": "white",
          "polar": {
           "angularaxis": {
            "gridcolor": "rgb(232,232,232)",
            "linecolor": "rgb(36,36,36)",
            "showgrid": false,
            "showline": true,
            "ticks": "outside"
           },
           "bgcolor": "white",
           "radialaxis": {
            "gridcolor": "rgb(232,232,232)",
            "linecolor": "rgb(36,36,36)",
            "showgrid": false,
            "showline": true,
            "ticks": "outside"
           }
          },
          "scene": {
           "xaxis": {
            "backgroundcolor": "white",
            "gridcolor": "rgb(232,232,232)",
            "gridwidth": 2,
            "linecolor": "rgb(36,36,36)",
            "showbackground": true,
            "showgrid": false,
            "showline": true,
            "ticks": "outside",
            "zeroline": false,
            "zerolinecolor": "rgb(36,36,36)"
           },
           "yaxis": {
            "backgroundcolor": "white",
            "gridcolor": "rgb(232,232,232)",
            "gridwidth": 2,
            "linecolor": "rgb(36,36,36)",
            "showbackground": true,
            "showgrid": false,
            "showline": true,
            "ticks": "outside",
            "zeroline": false,
            "zerolinecolor": "rgb(36,36,36)"
           },
           "zaxis": {
            "backgroundcolor": "white",
            "gridcolor": "rgb(232,232,232)",
            "gridwidth": 2,
            "linecolor": "rgb(36,36,36)",
            "showbackground": true,
            "showgrid": false,
            "showline": true,
            "ticks": "outside",
            "zeroline": false,
            "zerolinecolor": "rgb(36,36,36)"
           }
          },
          "shapedefaults": {
           "fillcolor": "black",
           "line": {
            "width": 0
           },
           "opacity": 0.3
          },
          "ternary": {
           "aaxis": {
            "gridcolor": "rgb(232,232,232)",
            "linecolor": "rgb(36,36,36)",
            "showgrid": false,
            "showline": true,
            "ticks": "outside"
           },
           "baxis": {
            "gridcolor": "rgb(232,232,232)",
            "linecolor": "rgb(36,36,36)",
            "showgrid": false,
            "showline": true,
            "ticks": "outside"
           },
           "bgcolor": "white",
           "caxis": {
            "gridcolor": "rgb(232,232,232)",
            "linecolor": "rgb(36,36,36)",
            "showgrid": false,
            "showline": true,
            "ticks": "outside"
           }
          },
          "title": {
           "x": 0.05
          },
          "xaxis": {
           "automargin": true,
           "gridcolor": "rgb(232,232,232)",
           "linecolor": "rgb(36,36,36)",
           "showgrid": false,
           "showline": true,
           "ticks": "outside",
           "title": {
            "standoff": 15
           },
           "zeroline": false,
           "zerolinecolor": "rgb(36,36,36)"
          },
          "yaxis": {
           "automargin": true,
           "gridcolor": "rgb(232,232,232)",
           "linecolor": "rgb(36,36,36)",
           "showgrid": false,
           "showline": true,
           "ticks": "outside",
           "title": {
            "standoff": 15
           },
           "zeroline": false,
           "zerolinecolor": "rgb(36,36,36)"
          }
         }
        },
        "title": {
         "text": "Time-based SSM"
        },
        "width": 600,
        "xaxis": {
         "anchor": "y",
         "autorange": true,
         "domain": [
          0,
          1
         ],
         "matches": "x",
         "range": [
          -0.5,
          11.5
         ],
         "type": "category"
        },
        "xaxis2": {
         "anchor": "y2",
         "autorange": true,
         "domain": [
          0,
          1
         ],
         "matches": "x",
         "range": [
          -0.5,
          11.5
         ],
         "type": "category"
        },
        "xaxis3": {
         "anchor": "y3",
         "autorange": true,
         "domain": [
          0,
          1
         ],
         "matches": "x",
         "range": [
          -0.5,
          11.5
         ],
         "type": "category"
        },
        "xaxis4": {
         "anchor": "y4",
         "autorange": true,
         "domain": [
          0,
          1
         ],
         "matches": "x",
         "range": [
          -0.5,
          11.5
         ],
         "type": "category"
        },
        "xaxis5": {
         "anchor": "y5",
         "autorange": true,
         "domain": [
          0,
          1
         ],
         "matches": "x",
         "range": [
          -0.5,
          11.5
         ],
         "type": "category"
        },
        "xaxis6": {
         "anchor": "y6",
         "autorange": true,
         "domain": [
          0,
          1
         ],
         "matches": "x",
         "range": [
          -0.5,
          11.5
         ],
         "type": "category"
        },
        "yaxis": {
         "anchor": "x",
         "autorange": true,
         "domain": [
          0.9027777777777777,
          0.9999999999999999
         ],
         "matches": "y",
         "range": [
          5.5,
          -0.5
         ],
         "type": "category"
        },
        "yaxis2": {
         "anchor": "x2",
         "autorange": true,
         "domain": [
          0.7222222222222222,
          0.8194444444444444
         ],
         "matches": "y",
         "range": [
          5.5,
          -0.5
         ],
         "type": "category"
        },
        "yaxis3": {
         "anchor": "x3",
         "autorange": true,
         "domain": [
          0.5416666666666667,
          0.638888888888889
         ],
         "matches": "y",
         "range": [
          5.5,
          -0.5
         ],
         "type": "category"
        },
        "yaxis4": {
         "anchor": "x4",
         "autorange": true,
         "domain": [
          0.3611111111111111,
          0.4583333333333333
         ],
         "matches": "y",
         "range": [
          5.5,
          -0.5
         ],
         "type": "category"
        },
        "yaxis5": {
         "anchor": "x5",
         "autorange": true,
         "domain": [
          0.18055555555555555,
          0.2777777777777778
         ],
         "matches": "y",
         "range": [
          5.5,
          -0.5
         ],
         "type": "category"
        },
        "yaxis6": {
         "anchor": "x6",
         "autorange": true,
         "domain": [
          0,
          0.09722222222222222
         ],
         "matches": "y",
         "range": [
          5.5,
          -0.5
         ],
         "type": "category"
        }
       }
      },
      "image/png": "[encoded data removed]",
      "text/html": [
       "<div>                            <div id=\"e597a4e1-1f54-4c73-8d59-cb04381bfdd1\" class=\"plotly-graph-div\" style=\"height:1200px; width:600px;\"></div>            <script type=\"text/javascript\">                require([\"plotly\"], function(Plotly) {                    window.PLOTLYENV=window.PLOTLYENV || {};                                    if (document.getElementById(\"e597a4e1-1f54-4c73-8d59-cb04381bfdd1\")) {                    Plotly.newPlot(                        \"e597a4e1-1f54-4c73-8d59-cb04381bfdd1\",                        [{\"colorscale\":[[0.0,\"#ffffff\"],[1.0,\"#ff0000\"]],\"showlegend\":false,\"textfont\":{\"size\":10},\"texttemplate\":\"%{z}\",\"x\":[\"040\",\"060\",\"080\",\"100\",\"120\",\"140\",\"160\",\"180\",\"200\",\"220\",\"240\",\"lane\"],\"y\":[\"U1\",\"U2\",\"U3\",\"U4\",\"U5\",\"U6\"],\"z\":[[0.0,0.0,0.0,0.0,0.0,0.0,0.0,0.0,0.0,0.0,null,\"U1\"],[0.0,0.0,0.0,0.0,0.0,0.0,0.0,0.0,0.0,0.0,null,\"U2\"],[0.0,0.0,0.0,0.0,0.0,0.0,0.0,0.0,0.0,0.01,null,\"U3\"],[0.0,0.0,0.0,0.0,0.0,0.0,0.0,0.0,0.0,0.0,0.0,\"U4\"],[0.0,0.0,0.0,0.0,0.0,0.0,0.0,0.0,0.0,null,null,\"U5\"],[0.0,null,0.0,null,null,null,null,null,null,null,null,\"U6\"]],\"zmin\":0,\"type\":\"heatmap\",\"xaxis\":\"x\",\"yaxis\":\"y\"},{\"colorscale\":[[0.0,\"#ffffff\"],[1.0,\"#ff0000\"]],\"showlegend\":false,\"textfont\":{\"size\":10},\"texttemplate\":\"%{z}\",\"x\":[\"040\",\"060\",\"080\",\"100\",\"120\",\"140\",\"160\",\"180\",\"200\",\"220\",\"240\",\"lane\"],\"y\":[\"U1\",\"U2\",\"U3\",\"U4\",\"U5\",\"U6\"],\"z\":[[null,10.87,10.61,7.97,7.73,7.56,5.79,10.08,10.67,6.9,null,\"U1\"],[2.94,6.97,6.22,5.73,5.12,6.64,15.2,11.19,22.27,8.5,null,\"U2\"],[4.01,7.34,7.59,5.57,4.95,5.41,11.79,11.04,19.4,19.99,26.16,\"U3\"],[5.04,7.15,7.0,5.61,8.82,6.08,7.58,7.74,14.07,41.92,null,\"U4\"],[3.94,5.13,5.42,3.58,3.41,5.99,7.23,8.36,9.67,null,null,\"U5\"],[4.68,2.41,5.28,null,null,null,null,null,null,null,null,\"U6\"]],\"zmin\":0,\"type\":\"heatmap\",\"xaxis\":\"x2\",\"yaxis\":\"y2\"},{\"colorscale\":[[0.0,\"#ffffff\"],[1.0,\"#ff0000\"]],\"showlegend\":false,\"textfont\":{\"size\":10},\"texttemplate\":\"%{z}\",\"x\":[\"040\",\"060\",\"080\",\"100\",\"120\",\"140\",\"160\",\"180\",\"200\",\"220\",\"240\",\"lane\"],\"y\":[\"U1\",\"U2\",\"U3\",\"U4\",\"U5\",\"U6\"],\"z\":[[0.0,0.0,0.01,0.02,0.01,0.01,0.01,0.01,0.01,0.03,0.06,\"U1\"],[0.0,0.01,0.01,0.01,0.01,0.01,0.01,0.01,0.01,0.03,0.07,\"U2\"],[0.0,0.01,0.01,0.01,0.01,0.01,0.02,0.01,0.01,0.03,0.05,\"U3\"],[0.01,0.0,0.01,0.02,0.01,0.01,0.02,0.03,0.02,0.05,0.06,\"U4\"],[0.0,0.01,0.01,0.01,0.01,0.02,0.03,0.02,0.02,0.02,0.04,\"U5\"],[0.03,0.01,0.01,0.0,0.0,0.04,0.03,0.0,0.0,null,null,\"U6\"]],\"zmin\":0,\"type\":\"heatmap\",\"xaxis\":\"x3\",\"yaxis\":\"y3\"},{\"colorscale\":[[0.0,\"#ffffff\"],[1.0,\"#ff0000\"]],\"showlegend\":false,\"textfont\":{\"size\":10},\"texttemplate\":\"%{z}\",\"x\":[\"040\",\"060\",\"080\",\"100\",\"120\",\"140\",\"160\",\"180\",\"200\",\"220\",\"240\",\"lane\"],\"y\":[\"U1\",\"U2\",\"U3\",\"U4\",\"U5\",\"U6\"],\"z\":[[null,0.01,0.01,0.01,0.0,0.01,0.01,0.01,0.02,0.02,0.01,\"U1\"],[0.0,0.0,0.0,0.0,0.01,0.01,0.01,0.01,0.01,0.01,0.02,\"U2\"],[0.01,0.01,0.01,0.01,0.01,0.01,0.01,0.02,0.02,0.02,0.02,\"U3\"],[0.01,0.01,0.01,0.01,0.01,0.01,0.02,0.01,0.01,0.01,0.01,\"U4\"],[0.01,0.01,0.01,0.01,0.01,0.01,0.02,0.02,0.01,0.02,0.02,\"U5\"],[0.0,0.0,0.0,0.01,0.01,0.01,0.0,0.01,0.01,0.0,null,\"U6\"]],\"zmin\":0,\"type\":\"heatmap\",\"xaxis\":\"x4\",\"yaxis\":\"y4\"},{\"colorscale\":[[0.0,\"#ffffff\"],[1.0,\"#ff0000\"]],\"showlegend\":false,\"textfont\":{\"size\":10},\"texttemplate\":\"%{z}\",\"x\":[\"040\",\"060\",\"080\",\"100\",\"120\",\"140\",\"160\",\"180\",\"200\",\"220\",\"240\",\"lane\"],\"y\":[\"U1\",\"U2\",\"U3\",\"U4\",\"U5\",\"U6\"],\"z\":[[0.0,0.0,0.0,0.0,0.0,0.0,0.0,0.0,0.0,0.0,0.0,\"U1\"],[0.0,0.0,0.0,0.0,0.0,0.0,0.0,0.0,0.0,0.0,0.0,\"U2\"],[0.0,0.0,0.0,0.0,0.0,0.0,0.0,0.0,0.0,0.0,0.0,\"U3\"],[0.0,0.0,0.0,0.0,0.0,0.0,0.0,0.0,0.0,0.0,0.0,\"U4\"],[0.0,0.0,0.0,0.0,0.0,0.0,0.0,0.0,0.0,0.0,0.0,\"U5\"],[0.0,0.0,0.0,0.0,0.0,0.0,0.0,0.0,0.0,0.0,null,\"U6\"]],\"zmin\":0,\"type\":\"heatmap\",\"xaxis\":\"x5\",\"yaxis\":\"y5\"},{\"colorscale\":[[0.0,\"#ffffff\"],[1.0,\"#ff0000\"]],\"showlegend\":false,\"textfont\":{\"size\":10},\"texttemplate\":\"%{z}\",\"x\":[\"040\",\"060\",\"080\",\"100\",\"120\",\"140\",\"160\",\"180\",\"200\",\"220\",\"240\",\"lane\"],\"y\":[\"U1\",\"U2\",\"U3\",\"U4\",\"U5\",\"U6\"],\"z\":[[0.0,0.01,0.01,0.01,0.0,0.0,0.0,0.01,0.01,0.0,0.0,\"U1\"],[0.0,0.01,0.01,0.0,0.0,0.0,0.01,0.01,0.01,0.01,0.0,\"U2\"],[0.01,0.01,0.0,0.0,0.0,0.0,0.0,0.01,0.01,0.01,0.0,\"U3\"],[0.0,0.0,0.0,0.0,0.0,0.0,0.0,0.0,0.0,0.0,0.0,\"U4\"],[0.0,0.0,0.0,0.01,0.0,0.0,0.0,0.0,0.0,0.0,0.01,\"U5\"],[0.0,0.0,0.0,0.01,0.01,0.01,0.0,0.0,0.0,0.0,null,\"U6\"]],\"zmin\":0,\"type\":\"heatmap\",\"xaxis\":\"x6\",\"yaxis\":\"y6\"}],                        {\"template\":{\"data\":{\"barpolar\":[{\"marker\":{\"line\":{\"color\":\"white\",\"width\":0.5},\"pattern\":{\"fillmode\":\"overlay\",\"size\":10,\"solidity\":0.2}},\"type\":\"barpolar\"}],\"bar\":[{\"error_x\":{\"color\":\"rgb(36,36,36)\"},\"error_y\":{\"color\":\"rgb(36,36,36)\"},\"marker\":{\"line\":{\"color\":\"white\",\"width\":0.5},\"pattern\":{\"fillmode\":\"overlay\",\"size\":10,\"solidity\":0.2}},\"type\":\"bar\"}],\"carpet\":[{\"aaxis\":{\"endlinecolor\":\"rgb(36,36,36)\",\"gridcolor\":\"white\",\"linecolor\":\"white\",\"minorgridcolor\":\"white\",\"startlinecolor\":\"rgb(36,36,36)\"},\"baxis\":{\"endlinecolor\":\"rgb(36,36,36)\",\"gridcolor\":\"white\",\"linecolor\":\"white\",\"minorgridcolor\":\"white\",\"startlinecolor\":\"rgb(36,36,36)\"},\"type\":\"carpet\"}],\"choropleth\":[{\"colorbar\":{\"outlinewidth\":1,\"tickcolor\":\"rgb(36,36,36)\",\"ticks\":\"outside\"},\"type\":\"choropleth\"}],\"contourcarpet\":[{\"colorbar\":{\"outlinewidth\":1,\"tickcolor\":\"rgb(36,36,36)\",\"ticks\":\"outside\"},\"type\":\"contourcarpet\"}],\"contour\":[{\"colorbar\":{\"outlinewidth\":1,\"tickcolor\":\"rgb(36,36,36)\",\"ticks\":\"outside\"},\"colorscale\":[[0.0,\"#440154\"],[0.1111111111111111,\"#482878\"],[0.2222222222222222,\"#3e4989\"],[0.3333333333333333,\"#31688e\"],[0.4444444444444444,\"#26828e\"],[0.5555555555555556,\"#1f9e89\"],[0.6666666666666666,\"#35b779\"],[0.7777777777777778,\"#6ece58\"],[0.8888888888888888,\"#b5de2b\"],[1.0,\"#fde725\"]],\"type\":\"contour\"}],\"heatmapgl\":[{\"colorbar\":{\"outlinewidth\":1,\"tickcolor\":\"rgb(36,36,36)\",\"ticks\":\"outside\"},\"colorscale\":[[0.0,\"#440154\"],[0.1111111111111111,\"#482878\"],[0.2222222222222222,\"#3e4989\"],[0.3333333333333333,\"#31688e\"],[0.4444444444444444,\"#26828e\"],[0.5555555555555556,\"#1f9e89\"],[0.6666666666666666,\"#35b779\"],[0.7777777777777778,\"#6ece58\"],[0.8888888888888888,\"#b5de2b\"],[1.0,\"#fde725\"]],\"type\":\"heatmapgl\"}],\"heatmap\":[{\"colorbar\":{\"outlinewidth\":1,\"tickcolor\":\"rgb(36,36,36)\",\"ticks\":\"outside\"},\"colorscale\":[[0.0,\"#440154\"],[0.1111111111111111,\"#482878\"],[0.2222222222222222,\"#3e4989\"],[0.3333333333333333,\"#31688e\"],[0.4444444444444444,\"#26828e\"],[0.5555555555555556,\"#1f9e89\"],[0.6666666666666666,\"#35b779\"],[0.7777777777777778,\"#6ece58\"],[0.8888888888888888,\"#b5de2b\"],[1.0,\"#fde725\"]],\"type\":\"heatmap\"}],\"histogram2dcontour\":[{\"colorbar\":{\"outlinewidth\":1,\"tickcolor\":\"rgb(36,36,36)\",\"ticks\":\"outside\"},\"colorscale\":[[0.0,\"#440154\"],[0.1111111111111111,\"#482878\"],[0.2222222222222222,\"#3e4989\"],[0.3333333333333333,\"#31688e\"],[0.4444444444444444,\"#26828e\"],[0.5555555555555556,\"#1f9e89\"],[0.6666666666666666,\"#35b779\"],[0.7777777777777778,\"#6ece58\"],[0.8888888888888888,\"#b5de2b\"],[1.0,\"#fde725\"]],\"type\":\"histogram2dcontour\"}],\"histogram2d\":[{\"colorbar\":{\"outlinewidth\":1,\"tickcolor\":\"rgb(36,36,36)\",\"ticks\":\"outside\"},\"colorscale\":[[0.0,\"#440154\"],[0.1111111111111111,\"#482878\"],[0.2222222222222222,\"#3e4989\"],[0.3333333333333333,\"#31688e\"],[0.4444444444444444,\"#26828e\"],[0.5555555555555556,\"#1f9e89\"],[0.6666666666666666,\"#35b779\"],[0.7777777777777778,\"#6ece58\"],[0.8888888888888888,\"#b5de2b\"],[1.0,\"#fde725\"]],\"type\":\"histogram2d\"}],\"histogram\":[{\"marker\":{\"line\":{\"color\":\"white\",\"width\":0.6}},\"type\":\"histogram\"}],\"mesh3d\":[{\"colorbar\":{\"outlinewidth\":1,\"tickcolor\":\"rgb(36,36,36)\",\"ticks\":\"outside\"},\"type\":\"mesh3d\"}],\"parcoords\":[{\"line\":{\"colorbar\":{\"outlinewidth\":1,\"tickcolor\":\"rgb(36,36,36)\",\"ticks\":\"outside\"}},\"type\":\"parcoords\"}],\"pie\":[{\"automargin\":true,\"type\":\"pie\"}],\"scatter3d\":[{\"line\":{\"colorbar\":{\"outlinewidth\":1,\"tickcolor\":\"rgb(36,36,36)\",\"ticks\":\"outside\"}},\"marker\":{\"colorbar\":{\"outlinewidth\":1,\"tickcolor\":\"rgb(36,36,36)\",\"ticks\":\"outside\"}},\"type\":\"scatter3d\"}],\"scattercarpet\":[{\"marker\":{\"colorbar\":{\"outlinewidth\":1,\"tickcolor\":\"rgb(36,36,36)\",\"ticks\":\"outside\"}},\"type\":\"scattercarpet\"}],\"scattergeo\":[{\"marker\":{\"colorbar\":{\"outlinewidth\":1,\"tickcolor\":\"rgb(36,36,36)\",\"ticks\":\"outside\"}},\"type\":\"scattergeo\"}],\"scattergl\":[{\"marker\":{\"colorbar\":{\"outlinewidth\":1,\"tickcolor\":\"rgb(36,36,36)\",\"ticks\":\"outside\"}},\"type\":\"scattergl\"}],\"scattermapbox\":[{\"marker\":{\"colorbar\":{\"outlinewidth\":1,\"tickcolor\":\"rgb(36,36,36)\",\"ticks\":\"outside\"}},\"type\":\"scattermapbox\"}],\"scatterpolargl\":[{\"marker\":{\"colorbar\":{\"outlinewidth\":1,\"tickcolor\":\"rgb(36,36,36)\",\"ticks\":\"outside\"}},\"type\":\"scatterpolargl\"}],\"scatterpolar\":[{\"marker\":{\"colorbar\":{\"outlinewidth\":1,\"tickcolor\":\"rgb(36,36,36)\",\"ticks\":\"outside\"}},\"type\":\"scatterpolar\"}],\"scatter\":[{\"fillpattern\":{\"fillmode\":\"overlay\",\"size\":10,\"solidity\":0.2},\"type\":\"scatter\"}],\"scatterternary\":[{\"marker\":{\"colorbar\":{\"outlinewidth\":1,\"tickcolor\":\"rgb(36,36,36)\",\"ticks\":\"outside\"}},\"type\":\"scatterternary\"}],\"surface\":[{\"colorbar\":{\"outlinewidth\":1,\"tickcolor\":\"rgb(36,36,36)\",\"ticks\":\"outside\"},\"colorscale\":[[0.0,\"#440154\"],[0.1111111111111111,\"#482878\"],[0.2222222222222222,\"#3e4989\"],[0.3333333333333333,\"#31688e\"],[0.4444444444444444,\"#26828e\"],[0.5555555555555556,\"#1f9e89\"],[0.6666666666666666,\"#35b779\"],[0.7777777777777778,\"#6ece58\"],[0.8888888888888888,\"#b5de2b\"],[1.0,\"#fde725\"]],\"type\":\"surface\"}],\"table\":[{\"cells\":{\"fill\":{\"color\":\"rgb(237,237,237)\"},\"line\":{\"color\":\"white\"}},\"header\":{\"fill\":{\"color\":\"rgb(217,217,217)\"},\"line\":{\"color\":\"white\"}},\"type\":\"table\"}]},\"layout\":{\"annotationdefaults\":{\"arrowhead\":0,\"arrowwidth\":1},\"autotypenumbers\":\"strict\",\"coloraxis\":{\"colorbar\":{\"outlinewidth\":1,\"tickcolor\":\"rgb(36,36,36)\",\"ticks\":\"outside\"}},\"colorscale\":{\"diverging\":[[0.0,\"rgb(103,0,31)\"],[0.1,\"rgb(178,24,43)\"],[0.2,\"rgb(214,96,77)\"],[0.3,\"rgb(244,165,130)\"],[0.4,\"rgb(253,219,199)\"],[0.5,\"rgb(247,247,247)\"],[0.6,\"rgb(209,229,240)\"],[0.7,\"rgb(146,197,222)\"],[0.8,\"rgb(67,147,195)\"],[0.9,\"rgb(33,102,172)\"],[1.0,\"rgb(5,48,97)\"]],\"sequential\":[[0.0,\"#440154\"],[0.1111111111111111,\"#482878\"],[0.2222222222222222,\"#3e4989\"],[0.3333333333333333,\"#31688e\"],[0.4444444444444444,\"#26828e\"],[0.5555555555555556,\"#1f9e89\"],[0.6666666666666666,\"#35b779\"],[0.7777777777777778,\"#6ece58\"],[0.8888888888888888,\"#b5de2b\"],[1.0,\"#fde725\"]],\"sequentialminus\":[[0.0,\"#440154\"],[0.1111111111111111,\"#482878\"],[0.2222222222222222,\"#3e4989\"],[0.3333333333333333,\"#31688e\"],[0.4444444444444444,\"#26828e\"],[0.5555555555555556,\"#1f9e89\"],[0.6666666666666666,\"#35b779\"],[0.7777777777777778,\"#6ece58\"],[0.8888888888888888,\"#b5de2b\"],[1.0,\"#fde725\"]]},\"colorway\":[\"#1F77B4\",\"#FF7F0E\",\"#2CA02C\",\"#D62728\",\"#9467BD\",\"#8C564B\",\"#E377C2\",\"#7F7F7F\",\"#BCBD22\",\"#17BECF\"],\"font\":{\"color\":\"rgb(36,36,36)\"},\"geo\":{\"bgcolor\":\"white\",\"lakecolor\":\"white\",\"landcolor\":\"white\",\"showlakes\":true,\"showland\":true,\"subunitcolor\":\"white\"},\"hoverlabel\":{\"align\":\"left\"},\"hovermode\":\"closest\",\"mapbox\":{\"style\":\"light\"},\"paper_bgcolor\":\"white\",\"plot_bgcolor\":\"white\",\"polar\":{\"angularaxis\":{\"gridcolor\":\"rgb(232,232,232)\",\"linecolor\":\"rgb(36,36,36)\",\"showgrid\":false,\"showline\":true,\"ticks\":\"outside\"},\"bgcolor\":\"white\",\"radialaxis\":{\"gridcolor\":\"rgb(232,232,232)\",\"linecolor\":\"rgb(36,36,36)\",\"showgrid\":false,\"showline\":true,\"ticks\":\"outside\"}},\"scene\":{\"xaxis\":{\"backgroundcolor\":\"white\",\"gridcolor\":\"rgb(232,232,232)\",\"gridwidth\":2,\"linecolor\":\"rgb(36,36,36)\",\"showbackground\":true,\"showgrid\":false,\"showline\":true,\"ticks\":\"outside\",\"zeroline\":false,\"zerolinecolor\":\"rgb(36,36,36)\"},\"yaxis\":{\"backgroundcolor\":\"white\",\"gridcolor\":\"rgb(232,232,232)\",\"gridwidth\":2,\"linecolor\":\"rgb(36,36,36)\",\"showbackground\":true,\"showgrid\":false,\"showline\":true,\"ticks\":\"outside\",\"zeroline\":false,\"zerolinecolor\":\"rgb(36,36,36)\"},\"zaxis\":{\"backgroundcolor\":\"white\",\"gridcolor\":\"rgb(232,232,232)\",\"gridwidth\":2,\"linecolor\":\"rgb(36,36,36)\",\"showbackground\":true,\"showgrid\":false,\"showline\":true,\"ticks\":\"outside\",\"zeroline\":false,\"zerolinecolor\":\"rgb(36,36,36)\"}},\"shapedefaults\":{\"fillcolor\":\"black\",\"line\":{\"width\":0},\"opacity\":0.3},\"ternary\":{\"aaxis\":{\"gridcolor\":\"rgb(232,232,232)\",\"linecolor\":\"rgb(36,36,36)\",\"showgrid\":false,\"showline\":true,\"ticks\":\"outside\"},\"baxis\":{\"gridcolor\":\"rgb(232,232,232)\",\"linecolor\":\"rgb(36,36,36)\",\"showgrid\":false,\"showline\":true,\"ticks\":\"outside\"},\"bgcolor\":\"white\",\"caxis\":{\"gridcolor\":\"rgb(232,232,232)\",\"linecolor\":\"rgb(36,36,36)\",\"showgrid\":false,\"showline\":true,\"ticks\":\"outside\"}},\"title\":{\"x\":0.05},\"xaxis\":{\"automargin\":true,\"gridcolor\":\"rgb(232,232,232)\",\"linecolor\":\"rgb(36,36,36)\",\"showgrid\":false,\"showline\":true,\"ticks\":\"outside\",\"title\":{\"standoff\":15},\"zeroline\":false,\"zerolinecolor\":\"rgb(36,36,36)\"},\"yaxis\":{\"automargin\":true,\"gridcolor\":\"rgb(232,232,232)\",\"linecolor\":\"rgb(36,36,36)\",\"showgrid\":false,\"showline\":true,\"ticks\":\"outside\",\"title\":{\"standoff\":15},\"zeroline\":false,\"zerolinecolor\":\"rgb(36,36,36)\"}}},\"xaxis\":{\"anchor\":\"y\",\"domain\":[0.0,1.0],\"matches\":\"x\"},\"yaxis\":{\"anchor\":\"x\",\"domain\":[0.9027777777777777,0.9999999999999999],\"matches\":\"y\",\"autorange\":\"reversed\"},\"xaxis2\":{\"anchor\":\"y2\",\"domain\":[0.0,1.0],\"matches\":\"x\"},\"yaxis2\":{\"anchor\":\"x2\",\"domain\":[0.7222222222222222,0.8194444444444444],\"matches\":\"y\"},\"xaxis3\":{\"anchor\":\"y3\",\"domain\":[0.0,1.0],\"matches\":\"x\"},\"yaxis3\":{\"anchor\":\"x3\",\"domain\":[0.5416666666666667,0.638888888888889],\"matches\":\"y\"},\"xaxis4\":{\"anchor\":\"y4\",\"domain\":[0.0,1.0],\"matches\":\"x\"},\"yaxis4\":{\"anchor\":\"x4\",\"domain\":[0.3611111111111111,0.4583333333333333],\"matches\":\"y\"},\"xaxis5\":{\"anchor\":\"y5\",\"domain\":[0.0,1.0],\"matches\":\"x\"},\"yaxis5\":{\"anchor\":\"x5\",\"domain\":[0.18055555555555555,0.2777777777777778],\"matches\":\"y\"},\"xaxis6\":{\"anchor\":\"y6\",\"domain\":[0.0,1.0],\"matches\":\"x\"},\"yaxis6\":{\"anchor\":\"x6\",\"domain\":[0.0,0.09722222222222222],\"matches\":\"y\"},\"title\":{\"text\":\"Time-based SSM\"},\"height\":1200,\"width\":600,\"showlegend\":false},                        {\"responsive\": true}                    ).then(function(){\n",
       "                            \n",
       "var gd = document.getElementById('e597a4e1-1f54-4c73-8d59-cb04381bfdd1');\n",
       "var x = new MutationObserver(function (mutations, observer) {{\n",
       "        var display = window.getComputedStyle(gd).display;\n",
       "        if (!display || display === 'none') {{\n",
       "            console.log([gd, 'removed!']);\n",
       "            Plotly.purge(gd);\n",
       "            observer.disconnect();\n",
       "        }}\n",
       "}});\n",
       "\n",
       "// Listen for the removal of the full notebook cells\n",
       "var notebookContainer = gd.closest('#notebook-container');\n",
       "if (notebookContainer) {{\n",
       "    x.observe(notebookContainer, {childList: true});\n",
       "}}\n",
       "\n",
       "// Listen for the clearing of the current output cell\n",
       "var outputEl = gd.closest('.output');\n",
       "if (outputEl) {{\n",
       "    x.observe(outputEl, {childList: true});\n",
       "}}\n",
       "\n",
       "                        })                };                });            </script>        </div>"
      ]
     },
     "metadata": {},
     "output_type": "display_data"
    }
   ],
   "source": [
    "sub_titles = []\n",
    "\n",
    "target_SSM_list = ['TIT', 'CI_MTTC', 'TIT2', 'TIACT', 'TITimeGap', 'TITAdv']#SSM_list_1\n",
    "\n",
    "fig = make_subplots(rows = len(target_SSM_list), cols = 1, \n",
    "                    subplot_titles = sub_titles)\n",
    "\n",
    "for SSM, i in zip(target_SSM_list, range(len(target_SSM_list))):\n",
    "\n",
    "    sec = df.dropna(subset = SSM)\n",
    "    \n",
    "    if len(sec) > 0:\n",
    "\n",
    "        pv_veh = pd.pivot_table(sec,\n",
    "                   index = 'lane',\n",
    "                    columns = 'cell',\n",
    "                    values = [SSM],\n",
    "                    aggfunc = {SSM : 'mean'})\n",
    "\n",
    "        pv_veh = pv_veh[SSM]\n",
    "\n",
    "        for cell in cell_list:\n",
    "            if cell not in pv_veh.columns:\n",
    "                pv_veh[cell] = np.NaN # 만약 셀이 없으면 추가해야 한다.\n",
    "\n",
    "            else:\n",
    "                pass\n",
    "\n",
    "        pv_veh.reset_index(inplace = True)\n",
    "        # 컬럼을 셀 번호 이름대로 정렬해준다. 이때 절때 Heatmap의 Categoryascending을 해 주면 안된다는 것이다.\n",
    "        pv_veh2 = pv_veh[cell_list + ['lane']]\n",
    "\n",
    "        ax = go.Heatmap(df_to_plotly(pv_veh2.round(2)),\n",
    "                        colorscale = palette_TIT,\n",
    "                        texttemplate = '%{z}',\n",
    "                        textfont = {'size' : 10},\n",
    "                        showlegend = False,\n",
    "                        zmin = 0, #zmax = 5\n",
    "                        )\n",
    "\n",
    "        fig.add_trace(ax, i+1, 1) # i행 j열에 추가\n",
    "\n",
    "    else:\n",
    "        pass\n",
    "        \n",
    "fig.update_xaxes(matches = 'x')\n",
    "fig.update_yaxes(matches = 'y')\n",
    "\n",
    "fig.update_layout(yaxis = dict(autorange = 'reversed'), \n",
    "          height = 1200, width = 600,\n",
    "          template = 'simple_white',\n",
    "                 title_text = 'Time-based SSM')\n",
    "\n",
    "fig.update(layout_showlegend = False)\n",
    "\n",
    "fig.show()"
   ]
  },
  {
   "cell_type": "code",
   "execution_count": 38,
   "id": "fbe31ed3-1d0d-4711-894a-4a7fbe27ef40",
   "metadata": {
    "execution": {
     "iopub.execute_input": "2023-12-02T08:00:58.267581Z",
     "iopub.status.busy": "2023-12-02T08:00:58.267581Z",
     "iopub.status.idle": "2023-12-02T08:00:58.466027Z",
     "shell.execute_reply": "2023-12-02T08:00:58.465054Z",
     "shell.execute_reply.started": "2023-12-02T08:00:58.267581Z"
    }
   },
   "outputs": [
    {
     "data": {
      "application/vnd.plotly.v1+json": {
       "config": {
        "plotlyServerURL": "https://plot.ly"
       },
       "data": [
        {
         "colorscale": [
          [
           0,
           "#ff0000"
          ],
          [
           1,
           "#ffffff"
          ]
         ],
         "showlegend": false,
         "textfont": {
          "size": 10
         },
         "texttemplate": "%{z}",
         "type": "heatmap",
         "x": [
          "040",
          "060",
          "080",
          "100",
          "120",
          "140",
          "160",
          "180",
          "200",
          "220",
          "240",
          "lane"
         ],
         "xaxis": "x",
         "y": [
          "U1",
          "U2",
          "U3",
          "U4",
          "U5",
          "U6"
         ],
         "yaxis": "y",
         "z": [
          [
           25.62,
           80.84,
           75.59,
           76.06,
           73.34,
           66.92,
           56.21,
           44.07,
           33.93,
           20.42,
           null,
           "U1"
          ],
          [
           167.27,
           120.81,
           110.74,
           104.72,
           97.29,
           87.61,
           73.65,
           56.19,
           39.82,
           30.69,
           null,
           "U2"
          ],
          [
           199.3,
           171.92,
           154.3,
           147.27,
           130.45,
           117.08,
           88.62,
           68.73,
           49.61,
           29.66,
           -0.41,
           "U3"
          ],
          [
           186.3,
           168.13,
           152.39,
           142.24,
           133.23,
           112.88,
           95.74,
           76.88,
           56.77,
           31.55,
           24.39,
           "U4"
          ],
          [
           215.56,
           181.83,
           175.39,
           176.61,
           155.75,
           100.21,
           66.84,
           58.99,
           56.4,
           null,
           null,
           "U5"
          ],
          [
           91.21,
           88.65,
           86.56,
           null,
           null,
           null,
           null,
           null,
           null,
           null,
           null,
           "U6"
          ]
         ],
         "zmin": 0
        },
        {
         "colorscale": [
          [
           0,
           "#ff0000"
          ],
          [
           1,
           "#ffffff"
          ]
         ],
         "showlegend": false,
         "textfont": {
          "size": 10
         },
         "texttemplate": "%{z}",
         "type": "heatmap",
         "x": [
          "040",
          "060",
          "080",
          "100",
          "120",
          "140",
          "160",
          "180",
          "200",
          "220",
          "240",
          "lane"
         ],
         "xaxis": "x2",
         "y": [
          "U1",
          "U2",
          "U3",
          "U4",
          "U5",
          "U6"
         ],
         "yaxis": "y2",
         "z": [
          [
           20.22,
           58.82,
           56.79,
           49.22,
           46.05,
           46.75,
           40.86,
           33.31,
           24.7,
           13.6,
           null,
           "U1"
          ],
          [
           85.49,
           71.65,
           63.3,
           59.39,
           55.07,
           53.8,
           47.26,
           37.2,
           25.94,
           16.43,
           null,
           "U2"
          ],
          [
           91.43,
           86.16,
           76.57,
           67.8,
           60.32,
           54.46,
           42.36,
           34.55,
           25.02,
           15.19,
           -4.89,
           "U3"
          ],
          [
           72.4,
           70.17,
           59.75,
           57.42,
           52.72,
           47.61,
           41.71,
           34.34,
           25.1,
           14.07,
           9.22,
           "U4"
          ],
          [
           69.18,
           61.38,
           66.08,
           60.48,
           63.15,
           47.53,
           37.71,
           29.88,
           27.06,
           null,
           null,
           "U5"
          ],
          [
           20.15,
           20.45,
           20.72,
           null,
           null,
           null,
           null,
           null,
           null,
           null,
           null,
           "U6"
          ]
         ],
         "zmin": 0
        },
        {
         "colorscale": [
          [
           0,
           "#ff0000"
          ],
          [
           1,
           "#ffffff"
          ]
         ],
         "showlegend": false,
         "textfont": {
          "size": 10
         },
         "texttemplate": "%{z}",
         "type": "heatmap",
         "x": [
          "040",
          "060",
          "080",
          "100",
          "120",
          "140",
          "160",
          "180",
          "200",
          "220",
          "240",
          "lane"
         ],
         "xaxis": "x3",
         "y": [
          "U1",
          "U2",
          "U3",
          "U4",
          "U5",
          "U6"
         ],
         "yaxis": "y3",
         "z": [
          [
           24.42,
           71.47,
           70.5,
           69.11,
           63.58,
           57.21,
           48.14,
           39.39,
           30.79,
           18.93,
           null,
           "U1"
          ],
          [
           93.72,
           85.51,
           81.44,
           75.7,
           67.75,
           60.64,
           52.06,
           42.36,
           31.21,
           22.43,
           null,
           "U2"
          ],
          [
           99.93,
           93.86,
           85.53,
           79.14,
           69.55,
           61.44,
           48.7,
           40.5,
           29.64,
           19.28,
           2.06,
           "U3"
          ],
          [
           81.36,
           81.06,
           74.8,
           70.54,
           63.06,
           55.31,
           48.1,
           40.37,
           30.62,
           19.46,
           13.34,
           "U4"
          ],
          [
           84.74,
           86.16,
           86.11,
           82.14,
           75.05,
           50.72,
           42.32,
           36.78,
           35.43,
           null,
           null,
           "U5"
          ],
          [
           26.14,
           26.42,
           26.68,
           null,
           null,
           null,
           null,
           null,
           null,
           null,
           null,
           "U6"
          ]
         ],
         "zmin": 0
        },
        {
         "colorscale": [
          [
           0,
           "#ff0000"
          ],
          [
           1,
           "#ffffff"
          ]
         ],
         "showlegend": false,
         "textfont": {
          "size": 10
         },
         "texttemplate": "%{z}",
         "type": "heatmap",
         "x": [
          "040",
          "060",
          "080",
          "100",
          "120",
          "140",
          "160",
          "180",
          "200",
          "220",
          "240",
          "lane"
         ],
         "xaxis": "x4",
         "y": [
          "U1",
          "U2",
          "U3",
          "U4",
          "U5",
          "U6"
         ],
         "yaxis": "y4",
         "z": [
          [
           81.9,
           106,
           102.06,
           103.42,
           104.18,
           101.62,
           96.57,
           89.13,
           83.85,
           78.73,
           null,
           "U1"
          ],
          [
           131.96,
           114.32,
           109.52,
           107.93,
           107.06,
           104.64,
           95.34,
           86.84,
           79.39,
           71.87,
           null,
           "U2"
          ],
          [
           136.54,
           125.65,
           119.61,
           118.71,
           114.09,
           109.2,
           98.26,
           90.05,
           81.71,
           71.04,
           53.79,
           "U3"
          ],
          [
           127.15,
           119.65,
           113.3,
           109.63,
           107.24,
           101.09,
           94.42,
           86.68,
           78.72,
           67.08,
           65.82,
           "U4"
          ],
          [
           141.45,
           126.97,
           128,
           130.56,
           123.86,
           99.05,
           84.21,
           80.97,
           81.83,
           null,
           null,
           "U5"
          ],
          [
           76.72,
           76.46,
           76.35,
           null,
           null,
           null,
           null,
           null,
           null,
           null,
           null,
           "U6"
          ]
         ],
         "zmin": 0
        },
        {
         "colorscale": [
          [
           0,
           "#ff0000"
          ],
          [
           1,
           "#ffffff"
          ]
         ],
         "showlegend": false,
         "textfont": {
          "size": 10
         },
         "texttemplate": "%{z}",
         "type": "heatmap",
         "x": [
          "040",
          "060",
          "080",
          "100",
          "120",
          "140",
          "160",
          "180",
          "200",
          "220",
          "240",
          "lane"
         ],
         "xaxis": "x5",
         "y": [
          "U1",
          "U2",
          "U3",
          "U4",
          "U5",
          "U6"
         ],
         "yaxis": "y5",
         "z": [
          [
           10.97,
           30.65,
           29.55,
           29.36,
           27.78,
           25.35,
           21.6,
           17.63,
           14.1,
           9.18,
           null,
           "U1"
          ],
          [
           49.47,
           40.51,
           37.93,
           35.68,
           32.75,
           29.62,
           25.45,
           20.43,
           15.25,
           11.96,
           null,
           "U2"
          ],
          [
           55.95,
           50.45,
           45.82,
           43.18,
           38.4,
           34.43,
           27.1,
           22.2,
           16.78,
           11.43,
           2.27,
           "U3"
          ],
          [
           49.25,
           46.74,
           42.88,
           40.33,
           37.1,
           32.38,
           28.12,
           23.5,
           18.07,
           11.57,
           8.66,
           "U4"
          ],
          [
           53.51,
           49.61,
           48.78,
           47.78,
           43.17,
           29.14,
           22.38,
           19.98,
           19.24,
           null,
           null,
           "U5"
          ],
          [
           21.55,
           21.33,
           21.16,
           null,
           null,
           null,
           null,
           null,
           null,
           null,
           null,
           "U6"
          ]
         ],
         "zmin": 0
        }
       ],
       "layout": {
        "height": 1200,
        "showlegend": false,
        "template": {
         "data": {
          "bar": [
           {
            "error_x": {
             "color": "rgb(36,36,36)"
            },
            "error_y": {
             "color": "rgb(36,36,36)"
            },
            "marker": {
             "line": {
              "color": "white",
              "width": 0.5
             },
             "pattern": {
              "fillmode": "overlay",
              "size": 10,
              "solidity": 0.2
             }
            },
            "type": "bar"
           }
          ],
          "barpolar": [
           {
            "marker": {
             "line": {
              "color": "white",
              "width": 0.5
             },
             "pattern": {
              "fillmode": "overlay",
              "size": 10,
              "solidity": 0.2
             }
            },
            "type": "barpolar"
           }
          ],
          "carpet": [
           {
            "aaxis": {
             "endlinecolor": "rgb(36,36,36)",
             "gridcolor": "white",
             "linecolor": "white",
             "minorgridcolor": "white",
             "startlinecolor": "rgb(36,36,36)"
            },
            "baxis": {
             "endlinecolor": "rgb(36,36,36)",
             "gridcolor": "white",
             "linecolor": "white",
             "minorgridcolor": "white",
             "startlinecolor": "rgb(36,36,36)"
            },
            "type": "carpet"
           }
          ],
          "choropleth": [
           {
            "colorbar": {
             "outlinewidth": 1,
             "tickcolor": "rgb(36,36,36)",
             "ticks": "outside"
            },
            "type": "choropleth"
           }
          ],
          "contour": [
           {
            "colorbar": {
             "outlinewidth": 1,
             "tickcolor": "rgb(36,36,36)",
             "ticks": "outside"
            },
            "colorscale": [
             [
              0,
              "#440154"
             ],
             [
              0.1111111111111111,
              "#482878"
             ],
             [
              0.2222222222222222,
              "#3e4989"
             ],
             [
              0.3333333333333333,
              "#31688e"
             ],
             [
              0.4444444444444444,
              "#26828e"
             ],
             [
              0.5555555555555556,
              "#1f9e89"
             ],
             [
              0.6666666666666666,
              "#35b779"
             ],
             [
              0.7777777777777778,
              "#6ece58"
             ],
             [
              0.8888888888888888,
              "#b5de2b"
             ],
             [
              1,
              "#fde725"
             ]
            ],
            "type": "contour"
           }
          ],
          "contourcarpet": [
           {
            "colorbar": {
             "outlinewidth": 1,
             "tickcolor": "rgb(36,36,36)",
             "ticks": "outside"
            },
            "type": "contourcarpet"
           }
          ],
          "heatmap": [
           {
            "colorbar": {
             "outlinewidth": 1,
             "tickcolor": "rgb(36,36,36)",
             "ticks": "outside"
            },
            "colorscale": [
             [
              0,
              "#440154"
             ],
             [
              0.1111111111111111,
              "#482878"
             ],
             [
              0.2222222222222222,
              "#3e4989"
             ],
             [
              0.3333333333333333,
              "#31688e"
             ],
             [
              0.4444444444444444,
              "#26828e"
             ],
             [
              0.5555555555555556,
              "#1f9e89"
             ],
             [
              0.6666666666666666,
              "#35b779"
             ],
             [
              0.7777777777777778,
              "#6ece58"
             ],
             [
              0.8888888888888888,
              "#b5de2b"
             ],
             [
              1,
              "#fde725"
             ]
            ],
            "type": "heatmap"
           }
          ],
          "heatmapgl": [
           {
            "colorbar": {
             "outlinewidth": 1,
             "tickcolor": "rgb(36,36,36)",
             "ticks": "outside"
            },
            "colorscale": [
             [
              0,
              "#440154"
             ],
             [
              0.1111111111111111,
              "#482878"
             ],
             [
              0.2222222222222222,
              "#3e4989"
             ],
             [
              0.3333333333333333,
              "#31688e"
             ],
             [
              0.4444444444444444,
              "#26828e"
             ],
             [
              0.5555555555555556,
              "#1f9e89"
             ],
             [
              0.6666666666666666,
              "#35b779"
             ],
             [
              0.7777777777777778,
              "#6ece58"
             ],
             [
              0.8888888888888888,
              "#b5de2b"
             ],
             [
              1,
              "#fde725"
             ]
            ],
            "type": "heatmapgl"
           }
          ],
          "histogram": [
           {
            "marker": {
             "line": {
              "color": "white",
              "width": 0.6
             }
            },
            "type": "histogram"
           }
          ],
          "histogram2d": [
           {
            "colorbar": {
             "outlinewidth": 1,
             "tickcolor": "rgb(36,36,36)",
             "ticks": "outside"
            },
            "colorscale": [
             [
              0,
              "#440154"
             ],
             [
              0.1111111111111111,
              "#482878"
             ],
             [
              0.2222222222222222,
              "#3e4989"
             ],
             [
              0.3333333333333333,
              "#31688e"
             ],
             [
              0.4444444444444444,
              "#26828e"
             ],
             [
              0.5555555555555556,
              "#1f9e89"
             ],
             [
              0.6666666666666666,
              "#35b779"
             ],
             [
              0.7777777777777778,
              "#6ece58"
             ],
             [
              0.8888888888888888,
              "#b5de2b"
             ],
             [
              1,
              "#fde725"
             ]
            ],
            "type": "histogram2d"
           }
          ],
          "histogram2dcontour": [
           {
            "colorbar": {
             "outlinewidth": 1,
             "tickcolor": "rgb(36,36,36)",
             "ticks": "outside"
            },
            "colorscale": [
             [
              0,
              "#440154"
             ],
             [
              0.1111111111111111,
              "#482878"
             ],
             [
              0.2222222222222222,
              "#3e4989"
             ],
             [
              0.3333333333333333,
              "#31688e"
             ],
             [
              0.4444444444444444,
              "#26828e"
             ],
             [
              0.5555555555555556,
              "#1f9e89"
             ],
             [
              0.6666666666666666,
              "#35b779"
             ],
             [
              0.7777777777777778,
              "#6ece58"
             ],
             [
              0.8888888888888888,
              "#b5de2b"
             ],
             [
              1,
              "#fde725"
             ]
            ],
            "type": "histogram2dcontour"
           }
          ],
          "mesh3d": [
           {
            "colorbar": {
             "outlinewidth": 1,
             "tickcolor": "rgb(36,36,36)",
             "ticks": "outside"
            },
            "type": "mesh3d"
           }
          ],
          "parcoords": [
           {
            "line": {
             "colorbar": {
              "outlinewidth": 1,
              "tickcolor": "rgb(36,36,36)",
              "ticks": "outside"
             }
            },
            "type": "parcoords"
           }
          ],
          "pie": [
           {
            "automargin": true,
            "type": "pie"
           }
          ],
          "scatter": [
           {
            "fillpattern": {
             "fillmode": "overlay",
             "size": 10,
             "solidity": 0.2
            },
            "type": "scatter"
           }
          ],
          "scatter3d": [
           {
            "line": {
             "colorbar": {
              "outlinewidth": 1,
              "tickcolor": "rgb(36,36,36)",
              "ticks": "outside"
             }
            },
            "marker": {
             "colorbar": {
              "outlinewidth": 1,
              "tickcolor": "rgb(36,36,36)",
              "ticks": "outside"
             }
            },
            "type": "scatter3d"
           }
          ],
          "scattercarpet": [
           {
            "marker": {
             "colorbar": {
              "outlinewidth": 1,
              "tickcolor": "rgb(36,36,36)",
              "ticks": "outside"
             }
            },
            "type": "scattercarpet"
           }
          ],
          "scattergeo": [
           {
            "marker": {
             "colorbar": {
              "outlinewidth": 1,
              "tickcolor": "rgb(36,36,36)",
              "ticks": "outside"
             }
            },
            "type": "scattergeo"
           }
          ],
          "scattergl": [
           {
            "marker": {
             "colorbar": {
              "outlinewidth": 1,
              "tickcolor": "rgb(36,36,36)",
              "ticks": "outside"
             }
            },
            "type": "scattergl"
           }
          ],
          "scattermapbox": [
           {
            "marker": {
             "colorbar": {
              "outlinewidth": 1,
              "tickcolor": "rgb(36,36,36)",
              "ticks": "outside"
             }
            },
            "type": "scattermapbox"
           }
          ],
          "scatterpolar": [
           {
            "marker": {
             "colorbar": {
              "outlinewidth": 1,
              "tickcolor": "rgb(36,36,36)",
              "ticks": "outside"
             }
            },
            "type": "scatterpolar"
           }
          ],
          "scatterpolargl": [
           {
            "marker": {
             "colorbar": {
              "outlinewidth": 1,
              "tickcolor": "rgb(36,36,36)",
              "ticks": "outside"
             }
            },
            "type": "scatterpolargl"
           }
          ],
          "scatterternary": [
           {
            "marker": {
             "colorbar": {
              "outlinewidth": 1,
              "tickcolor": "rgb(36,36,36)",
              "ticks": "outside"
             }
            },
            "type": "scatterternary"
           }
          ],
          "surface": [
           {
            "colorbar": {
             "outlinewidth": 1,
             "tickcolor": "rgb(36,36,36)",
             "ticks": "outside"
            },
            "colorscale": [
             [
              0,
              "#440154"
             ],
             [
              0.1111111111111111,
              "#482878"
             ],
             [
              0.2222222222222222,
              "#3e4989"
             ],
             [
              0.3333333333333333,
              "#31688e"
             ],
             [
              0.4444444444444444,
              "#26828e"
             ],
             [
              0.5555555555555556,
              "#1f9e89"
             ],
             [
              0.6666666666666666,
              "#35b779"
             ],
             [
              0.7777777777777778,
              "#6ece58"
             ],
             [
              0.8888888888888888,
              "#b5de2b"
             ],
             [
              1,
              "#fde725"
             ]
            ],
            "type": "surface"
           }
          ],
          "table": [
           {
            "cells": {
             "fill": {
              "color": "rgb(237,237,237)"
             },
             "line": {
              "color": "white"
             }
            },
            "header": {
             "fill": {
              "color": "rgb(217,217,217)"
             },
             "line": {
              "color": "white"
             }
            },
            "type": "table"
           }
          ]
         },
         "layout": {
          "annotationdefaults": {
           "arrowhead": 0,
           "arrowwidth": 1
          },
          "autotypenumbers": "strict",
          "coloraxis": {
           "colorbar": {
            "outlinewidth": 1,
            "tickcolor": "rgb(36,36,36)",
            "ticks": "outside"
           }
          },
          "colorscale": {
           "diverging": [
            [
             0,
             "rgb(103,0,31)"
            ],
            [
             0.1,
             "rgb(178,24,43)"
            ],
            [
             0.2,
             "rgb(214,96,77)"
            ],
            [
             0.3,
             "rgb(244,165,130)"
            ],
            [
             0.4,
             "rgb(253,219,199)"
            ],
            [
             0.5,
             "rgb(247,247,247)"
            ],
            [
             0.6,
             "rgb(209,229,240)"
            ],
            [
             0.7,
             "rgb(146,197,222)"
            ],
            [
             0.8,
             "rgb(67,147,195)"
            ],
            [
             0.9,
             "rgb(33,102,172)"
            ],
            [
             1,
             "rgb(5,48,97)"
            ]
           ],
           "sequential": [
            [
             0,
             "#440154"
            ],
            [
             0.1111111111111111,
             "#482878"
            ],
            [
             0.2222222222222222,
             "#3e4989"
            ],
            [
             0.3333333333333333,
             "#31688e"
            ],
            [
             0.4444444444444444,
             "#26828e"
            ],
            [
             0.5555555555555556,
             "#1f9e89"
            ],
            [
             0.6666666666666666,
             "#35b779"
            ],
            [
             0.7777777777777778,
             "#6ece58"
            ],
            [
             0.8888888888888888,
             "#b5de2b"
            ],
            [
             1,
             "#fde725"
            ]
           ],
           "sequentialminus": [
            [
             0,
             "#440154"
            ],
            [
             0.1111111111111111,
             "#482878"
            ],
            [
             0.2222222222222222,
             "#3e4989"
            ],
            [
             0.3333333333333333,
             "#31688e"
            ],
            [
             0.4444444444444444,
             "#26828e"
            ],
            [
             0.5555555555555556,
             "#1f9e89"
            ],
            [
             0.6666666666666666,
             "#35b779"
            ],
            [
             0.7777777777777778,
             "#6ece58"
            ],
            [
             0.8888888888888888,
             "#b5de2b"
            ],
            [
             1,
             "#fde725"
            ]
           ]
          },
          "colorway": [
           "#1F77B4",
           "#FF7F0E",
           "#2CA02C",
           "#D62728",
           "#9467BD",
           "#8C564B",
           "#E377C2",
           "#7F7F7F",
           "#BCBD22",
           "#17BECF"
          ],
          "font": {
           "color": "rgb(36,36,36)"
          },
          "geo": {
           "bgcolor": "white",
           "lakecolor": "white",
           "landcolor": "white",
           "showlakes": true,
           "showland": true,
           "subunitcolor": "white"
          },
          "hoverlabel": {
           "align": "left"
          },
          "hovermode": "closest",
          "mapbox": {
           "style": "light"
          },
          "paper_bgcolor": "white",
          "plot_bgcolor": "white",
          "polar": {
           "angularaxis": {
            "gridcolor": "rgb(232,232,232)",
            "linecolor": "rgb(36,36,36)",
            "showgrid": false,
            "showline": true,
            "ticks": "outside"
           },
           "bgcolor": "white",
           "radialaxis": {
            "gridcolor": "rgb(232,232,232)",
            "linecolor": "rgb(36,36,36)",
            "showgrid": false,
            "showline": true,
            "ticks": "outside"
           }
          },
          "scene": {
           "xaxis": {
            "backgroundcolor": "white",
            "gridcolor": "rgb(232,232,232)",
            "gridwidth": 2,
            "linecolor": "rgb(36,36,36)",
            "showbackground": true,
            "showgrid": false,
            "showline": true,
            "ticks": "outside",
            "zeroline": false,
            "zerolinecolor": "rgb(36,36,36)"
           },
           "yaxis": {
            "backgroundcolor": "white",
            "gridcolor": "rgb(232,232,232)",
            "gridwidth": 2,
            "linecolor": "rgb(36,36,36)",
            "showbackground": true,
            "showgrid": false,
            "showline": true,
            "ticks": "outside",
            "zeroline": false,
            "zerolinecolor": "rgb(36,36,36)"
           },
           "zaxis": {
            "backgroundcolor": "white",
            "gridcolor": "rgb(232,232,232)",
            "gridwidth": 2,
            "linecolor": "rgb(36,36,36)",
            "showbackground": true,
            "showgrid": false,
            "showline": true,
            "ticks": "outside",
            "zeroline": false,
            "zerolinecolor": "rgb(36,36,36)"
           }
          },
          "shapedefaults": {
           "fillcolor": "black",
           "line": {
            "width": 0
           },
           "opacity": 0.3
          },
          "ternary": {
           "aaxis": {
            "gridcolor": "rgb(232,232,232)",
            "linecolor": "rgb(36,36,36)",
            "showgrid": false,
            "showline": true,
            "ticks": "outside"
           },
           "baxis": {
            "gridcolor": "rgb(232,232,232)",
            "linecolor": "rgb(36,36,36)",
            "showgrid": false,
            "showline": true,
            "ticks": "outside"
           },
           "bgcolor": "white",
           "caxis": {
            "gridcolor": "rgb(232,232,232)",
            "linecolor": "rgb(36,36,36)",
            "showgrid": false,
            "showline": true,
            "ticks": "outside"
           }
          },
          "title": {
           "x": 0.05
          },
          "xaxis": {
           "automargin": true,
           "gridcolor": "rgb(232,232,232)",
           "linecolor": "rgb(36,36,36)",
           "showgrid": false,
           "showline": true,
           "ticks": "outside",
           "title": {
            "standoff": 15
           },
           "zeroline": false,
           "zerolinecolor": "rgb(36,36,36)"
          },
          "yaxis": {
           "automargin": true,
           "gridcolor": "rgb(232,232,232)",
           "linecolor": "rgb(36,36,36)",
           "showgrid": false,
           "showline": true,
           "ticks": "outside",
           "title": {
            "standoff": 15
           },
           "zeroline": false,
           "zerolinecolor": "rgb(36,36,36)"
          }
         }
        },
        "title": {
         "text": "Time-based SSM"
        },
        "width": 600,
        "xaxis": {
         "anchor": "y",
         "autorange": true,
         "domain": [
          0,
          1
         ],
         "matches": "x",
         "range": [
          -0.5,
          11.5
         ],
         "type": "category"
        },
        "xaxis2": {
         "anchor": "y2",
         "autorange": true,
         "domain": [
          0,
          1
         ],
         "matches": "x",
         "range": [
          -0.5,
          11.5
         ],
         "type": "category"
        },
        "xaxis3": {
         "anchor": "y3",
         "autorange": true,
         "domain": [
          0,
          1
         ],
         "matches": "x",
         "range": [
          -0.5,
          11.5
         ],
         "type": "category"
        },
        "xaxis4": {
         "anchor": "y4",
         "autorange": true,
         "domain": [
          0,
          1
         ],
         "matches": "x",
         "range": [
          -0.5,
          11.5
         ],
         "type": "category"
        },
        "xaxis5": {
         "anchor": "y5",
         "autorange": true,
         "domain": [
          0,
          1
         ],
         "matches": "x",
         "range": [
          -0.5,
          11.5
         ],
         "type": "category"
        },
        "yaxis": {
         "anchor": "x",
         "autorange": true,
         "domain": [
          0.88,
          1
         ],
         "matches": "y",
         "range": [
          5.5,
          -0.5
         ],
         "type": "category"
        },
        "yaxis2": {
         "anchor": "x2",
         "autorange": true,
         "domain": [
          0.66,
          0.78
         ],
         "matches": "y",
         "range": [
          5.5,
          -0.5
         ],
         "type": "category"
        },
        "yaxis3": {
         "anchor": "x3",
         "autorange": true,
         "domain": [
          0.44,
          0.56
         ],
         "matches": "y",
         "range": [
          5.5,
          -0.5
         ],
         "type": "category"
        },
        "yaxis4": {
         "anchor": "x4",
         "autorange": true,
         "domain": [
          0.22,
          0.33999999999999997
         ],
         "matches": "y",
         "range": [
          5.5,
          -0.5
         ],
         "type": "category"
        },
        "yaxis5": {
         "anchor": "x5",
         "autorange": true,
         "domain": [
          0,
          0.12
         ],
         "matches": "y",
         "range": [
          5.5,
          -0.5
         ],
         "type": "category"
        }
       }
      },
      "image/png": "[encoded data removed]",
      "text/html": [
       "<div>                            <div id=\"01ebbeb3-9229-4fdd-b210-b30ccca30d5e\" class=\"plotly-graph-div\" style=\"height:1200px; width:600px;\"></div>            <script type=\"text/javascript\">                require([\"plotly\"], function(Plotly) {                    window.PLOTLYENV=window.PLOTLYENV || {};                                    if (document.getElementById(\"01ebbeb3-9229-4fdd-b210-b30ccca30d5e\")) {                    Plotly.newPlot(                        \"01ebbeb3-9229-4fdd-b210-b30ccca30d5e\",                        [{\"colorscale\":[[0.0,\"#ff0000\"],[1.0,\"#ffffff\"]],\"showlegend\":false,\"textfont\":{\"size\":10},\"texttemplate\":\"%{z}\",\"x\":[\"040\",\"060\",\"080\",\"100\",\"120\",\"140\",\"160\",\"180\",\"200\",\"220\",\"240\",\"lane\"],\"y\":[\"U1\",\"U2\",\"U3\",\"U4\",\"U5\",\"U6\"],\"z\":[[25.62,80.84,75.59,76.06,73.34,66.92,56.21,44.07,33.93,20.42,null,\"U1\"],[167.27,120.81,110.74,104.72,97.29,87.61,73.65,56.19,39.82,30.69,null,\"U2\"],[199.3,171.92,154.3,147.27,130.45,117.08,88.62,68.73,49.61,29.66,-0.41,\"U3\"],[186.3,168.13,152.39,142.24,133.23,112.88,95.74,76.88,56.77,31.55,24.39,\"U4\"],[215.56,181.83,175.39,176.61,155.75,100.21,66.84,58.99,56.4,null,null,\"U5\"],[91.21,88.65,86.56,null,null,null,null,null,null,null,null,\"U6\"]],\"zmin\":0,\"type\":\"heatmap\",\"xaxis\":\"x\",\"yaxis\":\"y\"},{\"colorscale\":[[0.0,\"#ff0000\"],[1.0,\"#ffffff\"]],\"showlegend\":false,\"textfont\":{\"size\":10},\"texttemplate\":\"%{z}\",\"x\":[\"040\",\"060\",\"080\",\"100\",\"120\",\"140\",\"160\",\"180\",\"200\",\"220\",\"240\",\"lane\"],\"y\":[\"U1\",\"U2\",\"U3\",\"U4\",\"U5\",\"U6\"],\"z\":[[20.22,58.82,56.79,49.22,46.05,46.75,40.86,33.31,24.7,13.6,null,\"U1\"],[85.49,71.65,63.3,59.39,55.07,53.8,47.26,37.2,25.94,16.43,null,\"U2\"],[91.43,86.16,76.57,67.8,60.32,54.46,42.36,34.55,25.02,15.19,-4.89,\"U3\"],[72.4,70.17,59.75,57.42,52.72,47.61,41.71,34.34,25.1,14.07,9.22,\"U4\"],[69.18,61.38,66.08,60.48,63.15,47.53,37.71,29.88,27.06,null,null,\"U5\"],[20.15,20.45,20.72,null,null,null,null,null,null,null,null,\"U6\"]],\"zmin\":0,\"type\":\"heatmap\",\"xaxis\":\"x2\",\"yaxis\":\"y2\"},{\"colorscale\":[[0.0,\"#ff0000\"],[1.0,\"#ffffff\"]],\"showlegend\":false,\"textfont\":{\"size\":10},\"texttemplate\":\"%{z}\",\"x\":[\"040\",\"060\",\"080\",\"100\",\"120\",\"140\",\"160\",\"180\",\"200\",\"220\",\"240\",\"lane\"],\"y\":[\"U1\",\"U2\",\"U3\",\"U4\",\"U5\",\"U6\"],\"z\":[[24.42,71.47,70.5,69.11,63.58,57.21,48.14,39.39,30.79,18.93,null,\"U1\"],[93.72,85.51,81.44,75.7,67.75,60.64,52.06,42.36,31.21,22.43,null,\"U2\"],[99.93,93.86,85.53,79.14,69.55,61.44,48.7,40.5,29.64,19.28,2.06,\"U3\"],[81.36,81.06,74.8,70.54,63.06,55.31,48.1,40.37,30.62,19.46,13.34,\"U4\"],[84.74,86.16,86.11,82.14,75.05,50.72,42.32,36.78,35.43,null,null,\"U5\"],[26.14,26.42,26.68,null,null,null,null,null,null,null,null,\"U6\"]],\"zmin\":0,\"type\":\"heatmap\",\"xaxis\":\"x3\",\"yaxis\":\"y3\"},{\"colorscale\":[[0.0,\"#ff0000\"],[1.0,\"#ffffff\"]],\"showlegend\":false,\"textfont\":{\"size\":10},\"texttemplate\":\"%{z}\",\"x\":[\"040\",\"060\",\"080\",\"100\",\"120\",\"140\",\"160\",\"180\",\"200\",\"220\",\"240\",\"lane\"],\"y\":[\"U1\",\"U2\",\"U3\",\"U4\",\"U5\",\"U6\"],\"z\":[[81.9,106.0,102.06,103.42,104.18,101.62,96.57,89.13,83.85,78.73,null,\"U1\"],[131.96,114.32,109.52,107.93,107.06,104.64,95.34,86.84,79.39,71.87,null,\"U2\"],[136.54,125.65,119.61,118.71,114.09,109.2,98.26,90.05,81.71,71.04,53.79,\"U3\"],[127.15,119.65,113.3,109.63,107.24,101.09,94.42,86.68,78.72,67.08,65.82,\"U4\"],[141.45,126.97,128.0,130.56,123.86,99.05,84.21,80.97,81.83,null,null,\"U5\"],[76.72,76.46,76.35,null,null,null,null,null,null,null,null,\"U6\"]],\"zmin\":0,\"type\":\"heatmap\",\"xaxis\":\"x4\",\"yaxis\":\"y4\"},{\"colorscale\":[[0.0,\"#ff0000\"],[1.0,\"#ffffff\"]],\"showlegend\":false,\"textfont\":{\"size\":10},\"texttemplate\":\"%{z}\",\"x\":[\"040\",\"060\",\"080\",\"100\",\"120\",\"140\",\"160\",\"180\",\"200\",\"220\",\"240\",\"lane\"],\"y\":[\"U1\",\"U2\",\"U3\",\"U4\",\"U5\",\"U6\"],\"z\":[[10.97,30.65,29.55,29.36,27.78,25.35,21.6,17.63,14.1,9.18,null,\"U1\"],[49.47,40.51,37.93,35.68,32.75,29.62,25.45,20.43,15.25,11.96,null,\"U2\"],[55.95,50.45,45.82,43.18,38.4,34.43,27.1,22.2,16.78,11.43,2.27,\"U3\"],[49.25,46.74,42.88,40.33,37.1,32.38,28.12,23.5,18.07,11.57,8.66,\"U4\"],[53.51,49.61,48.78,47.78,43.17,29.14,22.38,19.98,19.24,null,null,\"U5\"],[21.55,21.33,21.16,null,null,null,null,null,null,null,null,\"U6\"]],\"zmin\":0,\"type\":\"heatmap\",\"xaxis\":\"x5\",\"yaxis\":\"y5\"}],                        {\"template\":{\"data\":{\"barpolar\":[{\"marker\":{\"line\":{\"color\":\"white\",\"width\":0.5},\"pattern\":{\"fillmode\":\"overlay\",\"size\":10,\"solidity\":0.2}},\"type\":\"barpolar\"}],\"bar\":[{\"error_x\":{\"color\":\"rgb(36,36,36)\"},\"error_y\":{\"color\":\"rgb(36,36,36)\"},\"marker\":{\"line\":{\"color\":\"white\",\"width\":0.5},\"pattern\":{\"fillmode\":\"overlay\",\"size\":10,\"solidity\":0.2}},\"type\":\"bar\"}],\"carpet\":[{\"aaxis\":{\"endlinecolor\":\"rgb(36,36,36)\",\"gridcolor\":\"white\",\"linecolor\":\"white\",\"minorgridcolor\":\"white\",\"startlinecolor\":\"rgb(36,36,36)\"},\"baxis\":{\"endlinecolor\":\"rgb(36,36,36)\",\"gridcolor\":\"white\",\"linecolor\":\"white\",\"minorgridcolor\":\"white\",\"startlinecolor\":\"rgb(36,36,36)\"},\"type\":\"carpet\"}],\"choropleth\":[{\"colorbar\":{\"outlinewidth\":1,\"tickcolor\":\"rgb(36,36,36)\",\"ticks\":\"outside\"},\"type\":\"choropleth\"}],\"contourcarpet\":[{\"colorbar\":{\"outlinewidth\":1,\"tickcolor\":\"rgb(36,36,36)\",\"ticks\":\"outside\"},\"type\":\"contourcarpet\"}],\"contour\":[{\"colorbar\":{\"outlinewidth\":1,\"tickcolor\":\"rgb(36,36,36)\",\"ticks\":\"outside\"},\"colorscale\":[[0.0,\"#440154\"],[0.1111111111111111,\"#482878\"],[0.2222222222222222,\"#3e4989\"],[0.3333333333333333,\"#31688e\"],[0.4444444444444444,\"#26828e\"],[0.5555555555555556,\"#1f9e89\"],[0.6666666666666666,\"#35b779\"],[0.7777777777777778,\"#6ece58\"],[0.8888888888888888,\"#b5de2b\"],[1.0,\"#fde725\"]],\"type\":\"contour\"}],\"heatmapgl\":[{\"colorbar\":{\"outlinewidth\":1,\"tickcolor\":\"rgb(36,36,36)\",\"ticks\":\"outside\"},\"colorscale\":[[0.0,\"#440154\"],[0.1111111111111111,\"#482878\"],[0.2222222222222222,\"#3e4989\"],[0.3333333333333333,\"#31688e\"],[0.4444444444444444,\"#26828e\"],[0.5555555555555556,\"#1f9e89\"],[0.6666666666666666,\"#35b779\"],[0.7777777777777778,\"#6ece58\"],[0.8888888888888888,\"#b5de2b\"],[1.0,\"#fde725\"]],\"type\":\"heatmapgl\"}],\"heatmap\":[{\"colorbar\":{\"outlinewidth\":1,\"tickcolor\":\"rgb(36,36,36)\",\"ticks\":\"outside\"},\"colorscale\":[[0.0,\"#440154\"],[0.1111111111111111,\"#482878\"],[0.2222222222222222,\"#3e4989\"],[0.3333333333333333,\"#31688e\"],[0.4444444444444444,\"#26828e\"],[0.5555555555555556,\"#1f9e89\"],[0.6666666666666666,\"#35b779\"],[0.7777777777777778,\"#6ece58\"],[0.8888888888888888,\"#b5de2b\"],[1.0,\"#fde725\"]],\"type\":\"heatmap\"}],\"histogram2dcontour\":[{\"colorbar\":{\"outlinewidth\":1,\"tickcolor\":\"rgb(36,36,36)\",\"ticks\":\"outside\"},\"colorscale\":[[0.0,\"#440154\"],[0.1111111111111111,\"#482878\"],[0.2222222222222222,\"#3e4989\"],[0.3333333333333333,\"#31688e\"],[0.4444444444444444,\"#26828e\"],[0.5555555555555556,\"#1f9e89\"],[0.6666666666666666,\"#35b779\"],[0.7777777777777778,\"#6ece58\"],[0.8888888888888888,\"#b5de2b\"],[1.0,\"#fde725\"]],\"type\":\"histogram2dcontour\"}],\"histogram2d\":[{\"colorbar\":{\"outlinewidth\":1,\"tickcolor\":\"rgb(36,36,36)\",\"ticks\":\"outside\"},\"colorscale\":[[0.0,\"#440154\"],[0.1111111111111111,\"#482878\"],[0.2222222222222222,\"#3e4989\"],[0.3333333333333333,\"#31688e\"],[0.4444444444444444,\"#26828e\"],[0.5555555555555556,\"#1f9e89\"],[0.6666666666666666,\"#35b779\"],[0.7777777777777778,\"#6ece58\"],[0.8888888888888888,\"#b5de2b\"],[1.0,\"#fde725\"]],\"type\":\"histogram2d\"}],\"histogram\":[{\"marker\":{\"line\":{\"color\":\"white\",\"width\":0.6}},\"type\":\"histogram\"}],\"mesh3d\":[{\"colorbar\":{\"outlinewidth\":1,\"tickcolor\":\"rgb(36,36,36)\",\"ticks\":\"outside\"},\"type\":\"mesh3d\"}],\"parcoords\":[{\"line\":{\"colorbar\":{\"outlinewidth\":1,\"tickcolor\":\"rgb(36,36,36)\",\"ticks\":\"outside\"}},\"type\":\"parcoords\"}],\"pie\":[{\"automargin\":true,\"type\":\"pie\"}],\"scatter3d\":[{\"line\":{\"colorbar\":{\"outlinewidth\":1,\"tickcolor\":\"rgb(36,36,36)\",\"ticks\":\"outside\"}},\"marker\":{\"colorbar\":{\"outlinewidth\":1,\"tickcolor\":\"rgb(36,36,36)\",\"ticks\":\"outside\"}},\"type\":\"scatter3d\"}],\"scattercarpet\":[{\"marker\":{\"colorbar\":{\"outlinewidth\":1,\"tickcolor\":\"rgb(36,36,36)\",\"ticks\":\"outside\"}},\"type\":\"scattercarpet\"}],\"scattergeo\":[{\"marker\":{\"colorbar\":{\"outlinewidth\":1,\"tickcolor\":\"rgb(36,36,36)\",\"ticks\":\"outside\"}},\"type\":\"scattergeo\"}],\"scattergl\":[{\"marker\":{\"colorbar\":{\"outlinewidth\":1,\"tickcolor\":\"rgb(36,36,36)\",\"ticks\":\"outside\"}},\"type\":\"scattergl\"}],\"scattermapbox\":[{\"marker\":{\"colorbar\":{\"outlinewidth\":1,\"tickcolor\":\"rgb(36,36,36)\",\"ticks\":\"outside\"}},\"type\":\"scattermapbox\"}],\"scatterpolargl\":[{\"marker\":{\"colorbar\":{\"outlinewidth\":1,\"tickcolor\":\"rgb(36,36,36)\",\"ticks\":\"outside\"}},\"type\":\"scatterpolargl\"}],\"scatterpolar\":[{\"marker\":{\"colorbar\":{\"outlinewidth\":1,\"tickcolor\":\"rgb(36,36,36)\",\"ticks\":\"outside\"}},\"type\":\"scatterpolar\"}],\"scatter\":[{\"fillpattern\":{\"fillmode\":\"overlay\",\"size\":10,\"solidity\":0.2},\"type\":\"scatter\"}],\"scatterternary\":[{\"marker\":{\"colorbar\":{\"outlinewidth\":1,\"tickcolor\":\"rgb(36,36,36)\",\"ticks\":\"outside\"}},\"type\":\"scatterternary\"}],\"surface\":[{\"colorbar\":{\"outlinewidth\":1,\"tickcolor\":\"rgb(36,36,36)\",\"ticks\":\"outside\"},\"colorscale\":[[0.0,\"#440154\"],[0.1111111111111111,\"#482878\"],[0.2222222222222222,\"#3e4989\"],[0.3333333333333333,\"#31688e\"],[0.4444444444444444,\"#26828e\"],[0.5555555555555556,\"#1f9e89\"],[0.6666666666666666,\"#35b779\"],[0.7777777777777778,\"#6ece58\"],[0.8888888888888888,\"#b5de2b\"],[1.0,\"#fde725\"]],\"type\":\"surface\"}],\"table\":[{\"cells\":{\"fill\":{\"color\":\"rgb(237,237,237)\"},\"line\":{\"color\":\"white\"}},\"header\":{\"fill\":{\"color\":\"rgb(217,217,217)\"},\"line\":{\"color\":\"white\"}},\"type\":\"table\"}]},\"layout\":{\"annotationdefaults\":{\"arrowhead\":0,\"arrowwidth\":1},\"autotypenumbers\":\"strict\",\"coloraxis\":{\"colorbar\":{\"outlinewidth\":1,\"tickcolor\":\"rgb(36,36,36)\",\"ticks\":\"outside\"}},\"colorscale\":{\"diverging\":[[0.0,\"rgb(103,0,31)\"],[0.1,\"rgb(178,24,43)\"],[0.2,\"rgb(214,96,77)\"],[0.3,\"rgb(244,165,130)\"],[0.4,\"rgb(253,219,199)\"],[0.5,\"rgb(247,247,247)\"],[0.6,\"rgb(209,229,240)\"],[0.7,\"rgb(146,197,222)\"],[0.8,\"rgb(67,147,195)\"],[0.9,\"rgb(33,102,172)\"],[1.0,\"rgb(5,48,97)\"]],\"sequential\":[[0.0,\"#440154\"],[0.1111111111111111,\"#482878\"],[0.2222222222222222,\"#3e4989\"],[0.3333333333333333,\"#31688e\"],[0.4444444444444444,\"#26828e\"],[0.5555555555555556,\"#1f9e89\"],[0.6666666666666666,\"#35b779\"],[0.7777777777777778,\"#6ece58\"],[0.8888888888888888,\"#b5de2b\"],[1.0,\"#fde725\"]],\"sequentialminus\":[[0.0,\"#440154\"],[0.1111111111111111,\"#482878\"],[0.2222222222222222,\"#3e4989\"],[0.3333333333333333,\"#31688e\"],[0.4444444444444444,\"#26828e\"],[0.5555555555555556,\"#1f9e89\"],[0.6666666666666666,\"#35b779\"],[0.7777777777777778,\"#6ece58\"],[0.8888888888888888,\"#b5de2b\"],[1.0,\"#fde725\"]]},\"colorway\":[\"#1F77B4\",\"#FF7F0E\",\"#2CA02C\",\"#D62728\",\"#9467BD\",\"#8C564B\",\"#E377C2\",\"#7F7F7F\",\"#BCBD22\",\"#17BECF\"],\"font\":{\"color\":\"rgb(36,36,36)\"},\"geo\":{\"bgcolor\":\"white\",\"lakecolor\":\"white\",\"landcolor\":\"white\",\"showlakes\":true,\"showland\":true,\"subunitcolor\":\"white\"},\"hoverlabel\":{\"align\":\"left\"},\"hovermode\":\"closest\",\"mapbox\":{\"style\":\"light\"},\"paper_bgcolor\":\"white\",\"plot_bgcolor\":\"white\",\"polar\":{\"angularaxis\":{\"gridcolor\":\"rgb(232,232,232)\",\"linecolor\":\"rgb(36,36,36)\",\"showgrid\":false,\"showline\":true,\"ticks\":\"outside\"},\"bgcolor\":\"white\",\"radialaxis\":{\"gridcolor\":\"rgb(232,232,232)\",\"linecolor\":\"rgb(36,36,36)\",\"showgrid\":false,\"showline\":true,\"ticks\":\"outside\"}},\"scene\":{\"xaxis\":{\"backgroundcolor\":\"white\",\"gridcolor\":\"rgb(232,232,232)\",\"gridwidth\":2,\"linecolor\":\"rgb(36,36,36)\",\"showbackground\":true,\"showgrid\":false,\"showline\":true,\"ticks\":\"outside\",\"zeroline\":false,\"zerolinecolor\":\"rgb(36,36,36)\"},\"yaxis\":{\"backgroundcolor\":\"white\",\"gridcolor\":\"rgb(232,232,232)\",\"gridwidth\":2,\"linecolor\":\"rgb(36,36,36)\",\"showbackground\":true,\"showgrid\":false,\"showline\":true,\"ticks\":\"outside\",\"zeroline\":false,\"zerolinecolor\":\"rgb(36,36,36)\"},\"zaxis\":{\"backgroundcolor\":\"white\",\"gridcolor\":\"rgb(232,232,232)\",\"gridwidth\":2,\"linecolor\":\"rgb(36,36,36)\",\"showbackground\":true,\"showgrid\":false,\"showline\":true,\"ticks\":\"outside\",\"zeroline\":false,\"zerolinecolor\":\"rgb(36,36,36)\"}},\"shapedefaults\":{\"fillcolor\":\"black\",\"line\":{\"width\":0},\"opacity\":0.3},\"ternary\":{\"aaxis\":{\"gridcolor\":\"rgb(232,232,232)\",\"linecolor\":\"rgb(36,36,36)\",\"showgrid\":false,\"showline\":true,\"ticks\":\"outside\"},\"baxis\":{\"gridcolor\":\"rgb(232,232,232)\",\"linecolor\":\"rgb(36,36,36)\",\"showgrid\":false,\"showline\":true,\"ticks\":\"outside\"},\"bgcolor\":\"white\",\"caxis\":{\"gridcolor\":\"rgb(232,232,232)\",\"linecolor\":\"rgb(36,36,36)\",\"showgrid\":false,\"showline\":true,\"ticks\":\"outside\"}},\"title\":{\"x\":0.05},\"xaxis\":{\"automargin\":true,\"gridcolor\":\"rgb(232,232,232)\",\"linecolor\":\"rgb(36,36,36)\",\"showgrid\":false,\"showline\":true,\"ticks\":\"outside\",\"title\":{\"standoff\":15},\"zeroline\":false,\"zerolinecolor\":\"rgb(36,36,36)\"},\"yaxis\":{\"automargin\":true,\"gridcolor\":\"rgb(232,232,232)\",\"linecolor\":\"rgb(36,36,36)\",\"showgrid\":false,\"showline\":true,\"ticks\":\"outside\",\"title\":{\"standoff\":15},\"zeroline\":false,\"zerolinecolor\":\"rgb(36,36,36)\"}}},\"xaxis\":{\"anchor\":\"y\",\"domain\":[0.0,1.0],\"matches\":\"x\"},\"yaxis\":{\"anchor\":\"x\",\"domain\":[0.88,1.0],\"matches\":\"y\",\"autorange\":\"reversed\"},\"xaxis2\":{\"anchor\":\"y2\",\"domain\":[0.0,1.0],\"matches\":\"x\"},\"yaxis2\":{\"anchor\":\"x2\",\"domain\":[0.66,0.78],\"matches\":\"y\"},\"xaxis3\":{\"anchor\":\"y3\",\"domain\":[0.0,1.0],\"matches\":\"x\"},\"yaxis3\":{\"anchor\":\"x3\",\"domain\":[0.44,0.56],\"matches\":\"y\"},\"xaxis4\":{\"anchor\":\"y4\",\"domain\":[0.0,1.0],\"matches\":\"x\"},\"yaxis4\":{\"anchor\":\"x4\",\"domain\":[0.22,0.33999999999999997],\"matches\":\"y\"},\"xaxis5\":{\"anchor\":\"y5\",\"domain\":[0.0,1.0],\"matches\":\"x\"},\"yaxis5\":{\"anchor\":\"x5\",\"domain\":[0.0,0.12],\"matches\":\"y\"},\"title\":{\"text\":\"Time-based SSM\"},\"height\":1200,\"width\":600,\"showlegend\":false},                        {\"responsive\": true}                    ).then(function(){\n",
       "                            \n",
       "var gd = document.getElementById('01ebbeb3-9229-4fdd-b210-b30ccca30d5e');\n",
       "var x = new MutationObserver(function (mutations, observer) {{\n",
       "        var display = window.getComputedStyle(gd).display;\n",
       "        if (!display || display === 'none') {{\n",
       "            console.log([gd, 'removed!']);\n",
       "            Plotly.purge(gd);\n",
       "            observer.disconnect();\n",
       "        }}\n",
       "}});\n",
       "\n",
       "// Listen for the removal of the full notebook cells\n",
       "var notebookContainer = gd.closest('#notebook-container');\n",
       "if (notebookContainer) {{\n",
       "    x.observe(notebookContainer, {childList: true});\n",
       "}}\n",
       "\n",
       "// Listen for the clearing of the current output cell\n",
       "var outputEl = gd.closest('.output');\n",
       "if (outputEl) {{\n",
       "    x.observe(outputEl, {childList: true});\n",
       "}}\n",
       "\n",
       "                        })                };                });            </script>        </div>"
      ]
     },
     "metadata": {},
     "output_type": "display_data"
    }
   ],
   "source": [
    "sub_titles = []\n",
    "\n",
    "target_SSM_list = ['PSD', 'DSS', 'PICUD', 'MTC', 'MMTC']#SSM_list_1\n",
    "\n",
    "fig = make_subplots(rows = len(target_SSM_list), cols = 1, \n",
    "                    subplot_titles = sub_titles)\n",
    "\n",
    "for SSM, i in zip(target_SSM_list, range(len(target_SSM_list))):\n",
    "\n",
    "    sec = df.dropna(subset = SSM)\n",
    "    \n",
    "    if len(sec) > 0:\n",
    "\n",
    "        pv_veh = pd.pivot_table(sec,\n",
    "                   index = 'lane',\n",
    "                    columns = 'cell',\n",
    "                    values = [SSM],\n",
    "                    aggfunc = {SSM : 'mean'})\n",
    "\n",
    "        pv_veh = pv_veh[SSM]\n",
    "\n",
    "        for cell in cell_list:\n",
    "            if cell not in pv_veh.columns:\n",
    "                pv_veh[cell] = np.NaN # 만약 셀이 없으면 추가해야 한다.\n",
    "\n",
    "            else:\n",
    "                pass\n",
    "\n",
    "        pv_veh.reset_index(inplace = True)\n",
    "        # 컬럼을 셀 번호 이름대로 정렬해준다. 이때 절때 Heatmap의 Categoryascending을 해 주면 안된다는 것이다.\n",
    "        pv_veh2 = pv_veh[cell_list + ['lane']]\n",
    "\n",
    "        ax = go.Heatmap(df_to_plotly(pv_veh2.round(2)),\n",
    "                        colorscale = palette_TTC,\n",
    "                        texttemplate = '%{z}',\n",
    "                        textfont = {'size' : 10},\n",
    "                        showlegend = False,\n",
    "                        zmin = 0, #zmax = 5\n",
    "                        )\n",
    "\n",
    "        fig.add_trace(ax, i+1, 1) # i행 j열에 추가\n",
    "\n",
    "    else:\n",
    "        pass\n",
    "        \n",
    "fig.update_xaxes(matches = 'x')\n",
    "fig.update_yaxes(matches = 'y')\n",
    "\n",
    "fig.update_layout(yaxis = dict(autorange = 'reversed'), \n",
    "          height = 1200, width = 600,\n",
    "          template = 'simple_white',\n",
    "                 title_text = 'Time-based SSM')\n",
    "\n",
    "fig.update(layout_showlegend = False)\n",
    "\n",
    "fig.show()"
   ]
  },
  {
   "cell_type": "code",
   "execution_count": 39,
   "id": "dbf598c9-da63-43b7-b163-474a7df07609",
   "metadata": {
    "execution": {
     "iopub.execute_input": "2023-12-02T08:01:28.274033Z",
     "iopub.status.busy": "2023-12-02T08:01:28.274033Z",
     "iopub.status.idle": "2023-12-02T08:01:28.531391Z",
     "shell.execute_reply": "2023-12-02T08:01:28.531391Z",
     "shell.execute_reply.started": "2023-12-02T08:01:28.274033Z"
    },
    "tags": []
   },
   "outputs": [
    {
     "data": {
      "application/vnd.plotly.v1+json": {
       "config": {
        "plotlyServerURL": "https://plot.ly"
       },
       "data": [
        {
         "colorscale": [
          [
           0,
           "#ffffff"
          ],
          [
           1,
           "#ff0000"
          ]
         ],
         "showlegend": false,
         "textfont": {
          "size": 10
         },
         "texttemplate": "%{z}",
         "type": "heatmap",
         "x": [
          "040",
          "060",
          "080",
          "100",
          "120",
          "140",
          "160",
          "180",
          "200",
          "220",
          "240",
          "lane"
         ],
         "xaxis": "x",
         "y": [
          "U1",
          "U2",
          "U3",
          "U4",
          "U5",
          "U6"
         ],
         "yaxis": "y",
         "z": [
          [
           0,
           0,
           0,
           0,
           0,
           0,
           0,
           0,
           0,
           0,
           null,
           "U1"
          ],
          [
           0,
           0,
           0,
           0,
           0,
           0,
           0,
           0,
           0.01,
           0,
           null,
           "U2"
          ],
          [
           0,
           0,
           0,
           0,
           0,
           0,
           0,
           0,
           0,
           0.01,
           -0.01,
           "U3"
          ],
          [
           0,
           0,
           0,
           0,
           0,
           0,
           0,
           0,
           0,
           0,
           0,
           "U4"
          ],
          [
           0,
           0,
           0,
           0,
           0,
           0,
           0,
           0,
           0,
           null,
           null,
           "U5"
          ],
          [
           0,
           0,
           0,
           null,
           null,
           null,
           null,
           null,
           null,
           null,
           null,
           "U6"
          ]
         ]
        },
        {
         "colorscale": [
          [
           0,
           "#ffffff"
          ],
          [
           1,
           "#ff0000"
          ]
         ],
         "showlegend": false,
         "textfont": {
          "size": 10
         },
         "texttemplate": "%{z}",
         "type": "heatmap",
         "x": [
          "040",
          "060",
          "080",
          "100",
          "120",
          "140",
          "160",
          "180",
          "200",
          "220",
          "240",
          "lane"
         ],
         "xaxis": "x2",
         "y": [
          "U1",
          "U2",
          "U3",
          "U4",
          "U5",
          "U6"
         ],
         "yaxis": "y2",
         "z": [
          [
           0,
           0,
           0,
           0,
           0,
           0,
           0,
           0,
           0,
           0,
           null,
           "U1"
          ],
          [
           0,
           0,
           0,
           0,
           0,
           0,
           0,
           0,
           0.01,
           0,
           null,
           "U2"
          ],
          [
           0,
           0,
           0,
           0,
           0,
           0,
           0,
           0,
           0,
           0,
           null,
           "U3"
          ],
          [
           0,
           0,
           0,
           0,
           0,
           0,
           0,
           0,
           0,
           0.01,
           0,
           "U4"
          ],
          [
           0,
           0,
           0,
           0,
           0,
           0,
           0,
           0,
           0,
           null,
           null,
           "U5"
          ],
          [
           0,
           null,
           0,
           null,
           null,
           null,
           null,
           null,
           null,
           null,
           null,
           "U6"
          ]
         ]
        },
        {
         "colorscale": [
          [
           0,
           "#ffffff"
          ],
          [
           1,
           "#ff0000"
          ]
         ],
         "showlegend": false,
         "textfont": {
          "size": 10
         },
         "texttemplate": "%{z}",
         "type": "heatmap",
         "x": [
          "040",
          "060",
          "080",
          "100",
          "120",
          "140",
          "160",
          "180",
          "200",
          "220",
          "240",
          "lane"
         ],
         "xaxis": "x3",
         "y": [
          "U1",
          "U2",
          "U3",
          "U4",
          "U5",
          "U6"
         ],
         "yaxis": "y3",
         "z": [
          [
           null,
           -0.02,
           0,
           0,
           -0.01,
           0.03,
           -0.13,
           -0.08,
           -0.06,
           -0.1,
           null,
           "U1"
          ],
          [
           0.03,
           0,
           0,
           -0.01,
           -0.05,
           -0.02,
           0.04,
           -0.06,
           -0.09,
           -0.09,
           null,
           "U2"
          ],
          [
           0.03,
           -0.01,
           0,
           0,
           0,
           -0.02,
           0,
           0.14,
           0.21,
           -0.06,
           -0.12,
           "U3"
          ],
          [
           -0.01,
           0.01,
           0,
           0,
           0,
           0.02,
           -0.02,
           -0.04,
           -0.01,
           0.46,
           0.45,
           "U4"
          ],
          [
           0.01,
           0.01,
           0.01,
           -0.01,
           -0.01,
           0.02,
           -0.01,
           -0.03,
           -0.12,
           null,
           null,
           "U5"
          ],
          [
           -0.01,
           0.05,
           0,
           null,
           null,
           null,
           null,
           null,
           null,
           null,
           null,
           "U6"
          ]
         ]
        },
        {
         "colorscale": [
          [
           0,
           "#ffffff"
          ],
          [
           1,
           "#ff0000"
          ]
         ],
         "showlegend": false,
         "textfont": {
          "size": 10
         },
         "texttemplate": "%{z}",
         "type": "heatmap",
         "x": [
          "040",
          "060",
          "080",
          "100",
          "120",
          "140",
          "160",
          "180",
          "200",
          "220",
          "240",
          "lane"
         ],
         "xaxis": "x4",
         "y": [
          "U1",
          "U2",
          "U3",
          "U4",
          "U5",
          "U6"
         ],
         "yaxis": "y4",
         "z": [
          [
           0,
           -0.01,
           -0.01,
           -0.01,
           0,
           0,
           -0.28,
           -0.01,
           -0.02,
           -0.01,
           null,
           "U1"
          ],
          [
           0,
           0,
           -0.01,
           -0.01,
           -0.01,
           0,
           -0.01,
           -0.01,
           -0.02,
           -0.02,
           null,
           "U2"
          ],
          [
           0,
           0,
           0,
           0,
           0,
           0,
           0,
           0,
           -0.01,
           -0.01,
           -0.04,
           "U3"
          ],
          [
           0,
           0,
           0,
           0,
           0,
           0,
           0,
           -0.01,
           -0.01,
           -0.04,
           0,
           "U4"
          ],
          [
           0.01,
           0,
           0,
           0.01,
           0,
           0,
           -0.01,
           -0.01,
           0,
           null,
           null,
           "U5"
          ],
          [
           0,
           0,
           0,
           null,
           null,
           null,
           null,
           null,
           null,
           null,
           null,
           "U6"
          ]
         ]
        }
       ],
       "layout": {
        "annotations": [
         {
          "font": {
           "size": 16
          },
          "showarrow": false,
          "text": "DRAC : Rear-end",
          "x": 0.5,
          "xanchor": "center",
          "xref": "paper",
          "y": 1,
          "yanchor": "bottom",
          "yref": "paper"
         },
         {
          "font": {
           "size": 16
          },
          "showarrow": false,
          "text": "MDRAC : Rear-end",
          "x": 0.5,
          "xanchor": "center",
          "xref": "paper",
          "y": 0.71875,
          "yanchor": "bottom",
          "yref": "paper"
         },
         {
          "font": {
           "size": 16
          },
          "showarrow": false,
          "text": "DCIA : Rear-end",
          "x": 0.5,
          "xanchor": "center",
          "xref": "paper",
          "y": 0.4375,
          "yanchor": "bottom",
          "yref": "paper"
         },
         {
          "font": {
           "size": 16
          },
          "showarrow": false,
          "text": "unsafety : Rear-end",
          "x": 0.5,
          "xanchor": "center",
          "xref": "paper",
          "y": 0.15625,
          "yanchor": "bottom",
          "yref": "paper"
         }
        ],
        "height": 1200,
        "showlegend": false,
        "template": {
         "data": {
          "bar": [
           {
            "error_x": {
             "color": "rgb(36,36,36)"
            },
            "error_y": {
             "color": "rgb(36,36,36)"
            },
            "marker": {
             "line": {
              "color": "white",
              "width": 0.5
             },
             "pattern": {
              "fillmode": "overlay",
              "size": 10,
              "solidity": 0.2
             }
            },
            "type": "bar"
           }
          ],
          "barpolar": [
           {
            "marker": {
             "line": {
              "color": "white",
              "width": 0.5
             },
             "pattern": {
              "fillmode": "overlay",
              "size": 10,
              "solidity": 0.2
             }
            },
            "type": "barpolar"
           }
          ],
          "carpet": [
           {
            "aaxis": {
             "endlinecolor": "rgb(36,36,36)",
             "gridcolor": "white",
             "linecolor": "white",
             "minorgridcolor": "white",
             "startlinecolor": "rgb(36,36,36)"
            },
            "baxis": {
             "endlinecolor": "rgb(36,36,36)",
             "gridcolor": "white",
             "linecolor": "white",
             "minorgridcolor": "white",
             "startlinecolor": "rgb(36,36,36)"
            },
            "type": "carpet"
           }
          ],
          "choropleth": [
           {
            "colorbar": {
             "outlinewidth": 1,
             "tickcolor": "rgb(36,36,36)",
             "ticks": "outside"
            },
            "type": "choropleth"
           }
          ],
          "contour": [
           {
            "colorbar": {
             "outlinewidth": 1,
             "tickcolor": "rgb(36,36,36)",
             "ticks": "outside"
            },
            "colorscale": [
             [
              0,
              "#440154"
             ],
             [
              0.1111111111111111,
              "#482878"
             ],
             [
              0.2222222222222222,
              "#3e4989"
             ],
             [
              0.3333333333333333,
              "#31688e"
             ],
             [
              0.4444444444444444,
              "#26828e"
             ],
             [
              0.5555555555555556,
              "#1f9e89"
             ],
             [
              0.6666666666666666,
              "#35b779"
             ],
             [
              0.7777777777777778,
              "#6ece58"
             ],
             [
              0.8888888888888888,
              "#b5de2b"
             ],
             [
              1,
              "#fde725"
             ]
            ],
            "type": "contour"
           }
          ],
          "contourcarpet": [
           {
            "colorbar": {
             "outlinewidth": 1,
             "tickcolor": "rgb(36,36,36)",
             "ticks": "outside"
            },
            "type": "contourcarpet"
           }
          ],
          "heatmap": [
           {
            "colorbar": {
             "outlinewidth": 1,
             "tickcolor": "rgb(36,36,36)",
             "ticks": "outside"
            },
            "colorscale": [
             [
              0,
              "#440154"
             ],
             [
              0.1111111111111111,
              "#482878"
             ],
             [
              0.2222222222222222,
              "#3e4989"
             ],
             [
              0.3333333333333333,
              "#31688e"
             ],
             [
              0.4444444444444444,
              "#26828e"
             ],
             [
              0.5555555555555556,
              "#1f9e89"
             ],
             [
              0.6666666666666666,
              "#35b779"
             ],
             [
              0.7777777777777778,
              "#6ece58"
             ],
             [
              0.8888888888888888,
              "#b5de2b"
             ],
             [
              1,
              "#fde725"
             ]
            ],
            "type": "heatmap"
           }
          ],
          "heatmapgl": [
           {
            "colorbar": {
             "outlinewidth": 1,
             "tickcolor": "rgb(36,36,36)",
             "ticks": "outside"
            },
            "colorscale": [
             [
              0,
              "#440154"
             ],
             [
              0.1111111111111111,
              "#482878"
             ],
             [
              0.2222222222222222,
              "#3e4989"
             ],
             [
              0.3333333333333333,
              "#31688e"
             ],
             [
              0.4444444444444444,
              "#26828e"
             ],
             [
              0.5555555555555556,
              "#1f9e89"
             ],
             [
              0.6666666666666666,
              "#35b779"
             ],
             [
              0.7777777777777778,
              "#6ece58"
             ],
             [
              0.8888888888888888,
              "#b5de2b"
             ],
             [
              1,
              "#fde725"
             ]
            ],
            "type": "heatmapgl"
           }
          ],
          "histogram": [
           {
            "marker": {
             "line": {
              "color": "white",
              "width": 0.6
             }
            },
            "type": "histogram"
           }
          ],
          "histogram2d": [
           {
            "colorbar": {
             "outlinewidth": 1,
             "tickcolor": "rgb(36,36,36)",
             "ticks": "outside"
            },
            "colorscale": [
             [
              0,
              "#440154"
             ],
             [
              0.1111111111111111,
              "#482878"
             ],
             [
              0.2222222222222222,
              "#3e4989"
             ],
             [
              0.3333333333333333,
              "#31688e"
             ],
             [
              0.4444444444444444,
              "#26828e"
             ],
             [
              0.5555555555555556,
              "#1f9e89"
             ],
             [
              0.6666666666666666,
              "#35b779"
             ],
             [
              0.7777777777777778,
              "#6ece58"
             ],
             [
              0.8888888888888888,
              "#b5de2b"
             ],
             [
              1,
              "#fde725"
             ]
            ],
            "type": "histogram2d"
           }
          ],
          "histogram2dcontour": [
           {
            "colorbar": {
             "outlinewidth": 1,
             "tickcolor": "rgb(36,36,36)",
             "ticks": "outside"
            },
            "colorscale": [
             [
              0,
              "#440154"
             ],
             [
              0.1111111111111111,
              "#482878"
             ],
             [
              0.2222222222222222,
              "#3e4989"
             ],
             [
              0.3333333333333333,
              "#31688e"
             ],
             [
              0.4444444444444444,
              "#26828e"
             ],
             [
              0.5555555555555556,
              "#1f9e89"
             ],
             [
              0.6666666666666666,
              "#35b779"
             ],
             [
              0.7777777777777778,
              "#6ece58"
             ],
             [
              0.8888888888888888,
              "#b5de2b"
             ],
             [
              1,
              "#fde725"
             ]
            ],
            "type": "histogram2dcontour"
           }
          ],
          "mesh3d": [
           {
            "colorbar": {
             "outlinewidth": 1,
             "tickcolor": "rgb(36,36,36)",
             "ticks": "outside"
            },
            "type": "mesh3d"
           }
          ],
          "parcoords": [
           {
            "line": {
             "colorbar": {
              "outlinewidth": 1,
              "tickcolor": "rgb(36,36,36)",
              "ticks": "outside"
             }
            },
            "type": "parcoords"
           }
          ],
          "pie": [
           {
            "automargin": true,
            "type": "pie"
           }
          ],
          "scatter": [
           {
            "fillpattern": {
             "fillmode": "overlay",
             "size": 10,
             "solidity": 0.2
            },
            "type": "scatter"
           }
          ],
          "scatter3d": [
           {
            "line": {
             "colorbar": {
              "outlinewidth": 1,
              "tickcolor": "rgb(36,36,36)",
              "ticks": "outside"
             }
            },
            "marker": {
             "colorbar": {
              "outlinewidth": 1,
              "tickcolor": "rgb(36,36,36)",
              "ticks": "outside"
             }
            },
            "type": "scatter3d"
           }
          ],
          "scattercarpet": [
           {
            "marker": {
             "colorbar": {
              "outlinewidth": 1,
              "tickcolor": "rgb(36,36,36)",
              "ticks": "outside"
             }
            },
            "type": "scattercarpet"
           }
          ],
          "scattergeo": [
           {
            "marker": {
             "colorbar": {
              "outlinewidth": 1,
              "tickcolor": "rgb(36,36,36)",
              "ticks": "outside"
             }
            },
            "type": "scattergeo"
           }
          ],
          "scattergl": [
           {
            "marker": {
             "colorbar": {
              "outlinewidth": 1,
              "tickcolor": "rgb(36,36,36)",
              "ticks": "outside"
             }
            },
            "type": "scattergl"
           }
          ],
          "scattermapbox": [
           {
            "marker": {
             "colorbar": {
              "outlinewidth": 1,
              "tickcolor": "rgb(36,36,36)",
              "ticks": "outside"
             }
            },
            "type": "scattermapbox"
           }
          ],
          "scatterpolar": [
           {
            "marker": {
             "colorbar": {
              "outlinewidth": 1,
              "tickcolor": "rgb(36,36,36)",
              "ticks": "outside"
             }
            },
            "type": "scatterpolar"
           }
          ],
          "scatterpolargl": [
           {
            "marker": {
             "colorbar": {
              "outlinewidth": 1,
              "tickcolor": "rgb(36,36,36)",
              "ticks": "outside"
             }
            },
            "type": "scatterpolargl"
           }
          ],
          "scatterternary": [
           {
            "marker": {
             "colorbar": {
              "outlinewidth": 1,
              "tickcolor": "rgb(36,36,36)",
              "ticks": "outside"
             }
            },
            "type": "scatterternary"
           }
          ],
          "surface": [
           {
            "colorbar": {
             "outlinewidth": 1,
             "tickcolor": "rgb(36,36,36)",
             "ticks": "outside"
            },
            "colorscale": [
             [
              0,
              "#440154"
             ],
             [
              0.1111111111111111,
              "#482878"
             ],
             [
              0.2222222222222222,
              "#3e4989"
             ],
             [
              0.3333333333333333,
              "#31688e"
             ],
             [
              0.4444444444444444,
              "#26828e"
             ],
             [
              0.5555555555555556,
              "#1f9e89"
             ],
             [
              0.6666666666666666,
              "#35b779"
             ],
             [
              0.7777777777777778,
              "#6ece58"
             ],
             [
              0.8888888888888888,
              "#b5de2b"
             ],
             [
              1,
              "#fde725"
             ]
            ],
            "type": "surface"
           }
          ],
          "table": [
           {
            "cells": {
             "fill": {
              "color": "rgb(237,237,237)"
             },
             "line": {
              "color": "white"
             }
            },
            "header": {
             "fill": {
              "color": "rgb(217,217,217)"
             },
             "line": {
              "color": "white"
             }
            },
            "type": "table"
           }
          ]
         },
         "layout": {
          "annotationdefaults": {
           "arrowhead": 0,
           "arrowwidth": 1
          },
          "autotypenumbers": "strict",
          "coloraxis": {
           "colorbar": {
            "outlinewidth": 1,
            "tickcolor": "rgb(36,36,36)",
            "ticks": "outside"
           }
          },
          "colorscale": {
           "diverging": [
            [
             0,
             "rgb(103,0,31)"
            ],
            [
             0.1,
             "rgb(178,24,43)"
            ],
            [
             0.2,
             "rgb(214,96,77)"
            ],
            [
             0.3,
             "rgb(244,165,130)"
            ],
            [
             0.4,
             "rgb(253,219,199)"
            ],
            [
             0.5,
             "rgb(247,247,247)"
            ],
            [
             0.6,
             "rgb(209,229,240)"
            ],
            [
             0.7,
             "rgb(146,197,222)"
            ],
            [
             0.8,
             "rgb(67,147,195)"
            ],
            [
             0.9,
             "rgb(33,102,172)"
            ],
            [
             1,
             "rgb(5,48,97)"
            ]
           ],
           "sequential": [
            [
             0,
             "#440154"
            ],
            [
             0.1111111111111111,
             "#482878"
            ],
            [
             0.2222222222222222,
             "#3e4989"
            ],
            [
             0.3333333333333333,
             "#31688e"
            ],
            [
             0.4444444444444444,
             "#26828e"
            ],
            [
             0.5555555555555556,
             "#1f9e89"
            ],
            [
             0.6666666666666666,
             "#35b779"
            ],
            [
             0.7777777777777778,
             "#6ece58"
            ],
            [
             0.8888888888888888,
             "#b5de2b"
            ],
            [
             1,
             "#fde725"
            ]
           ],
           "sequentialminus": [
            [
             0,
             "#440154"
            ],
            [
             0.1111111111111111,
             "#482878"
            ],
            [
             0.2222222222222222,
             "#3e4989"
            ],
            [
             0.3333333333333333,
             "#31688e"
            ],
            [
             0.4444444444444444,
             "#26828e"
            ],
            [
             0.5555555555555556,
             "#1f9e89"
            ],
            [
             0.6666666666666666,
             "#35b779"
            ],
            [
             0.7777777777777778,
             "#6ece58"
            ],
            [
             0.8888888888888888,
             "#b5de2b"
            ],
            [
             1,
             "#fde725"
            ]
           ]
          },
          "colorway": [
           "#1F77B4",
           "#FF7F0E",
           "#2CA02C",
           "#D62728",
           "#9467BD",
           "#8C564B",
           "#E377C2",
           "#7F7F7F",
           "#BCBD22",
           "#17BECF"
          ],
          "font": {
           "color": "rgb(36,36,36)"
          },
          "geo": {
           "bgcolor": "white",
           "lakecolor": "white",
           "landcolor": "white",
           "showlakes": true,
           "showland": true,
           "subunitcolor": "white"
          },
          "hoverlabel": {
           "align": "left"
          },
          "hovermode": "closest",
          "mapbox": {
           "style": "light"
          },
          "paper_bgcolor": "white",
          "plot_bgcolor": "white",
          "polar": {
           "angularaxis": {
            "gridcolor": "rgb(232,232,232)",
            "linecolor": "rgb(36,36,36)",
            "showgrid": false,
            "showline": true,
            "ticks": "outside"
           },
           "bgcolor": "white",
           "radialaxis": {
            "gridcolor": "rgb(232,232,232)",
            "linecolor": "rgb(36,36,36)",
            "showgrid": false,
            "showline": true,
            "ticks": "outside"
           }
          },
          "scene": {
           "xaxis": {
            "backgroundcolor": "white",
            "gridcolor": "rgb(232,232,232)",
            "gridwidth": 2,
            "linecolor": "rgb(36,36,36)",
            "showbackground": true,
            "showgrid": false,
            "showline": true,
            "ticks": "outside",
            "zeroline": false,
            "zerolinecolor": "rgb(36,36,36)"
           },
           "yaxis": {
            "backgroundcolor": "white",
            "gridcolor": "rgb(232,232,232)",
            "gridwidth": 2,
            "linecolor": "rgb(36,36,36)",
            "showbackground": true,
            "showgrid": false,
            "showline": true,
            "ticks": "outside",
            "zeroline": false,
            "zerolinecolor": "rgb(36,36,36)"
           },
           "zaxis": {
            "backgroundcolor": "white",
            "gridcolor": "rgb(232,232,232)",
            "gridwidth": 2,
            "linecolor": "rgb(36,36,36)",
            "showbackground": true,
            "showgrid": false,
            "showline": true,
            "ticks": "outside",
            "zeroline": false,
            "zerolinecolor": "rgb(36,36,36)"
           }
          },
          "shapedefaults": {
           "fillcolor": "black",
           "line": {
            "width": 0
           },
           "opacity": 0.3
          },
          "ternary": {
           "aaxis": {
            "gridcolor": "rgb(232,232,232)",
            "linecolor": "rgb(36,36,36)",
            "showgrid": false,
            "showline": true,
            "ticks": "outside"
           },
           "baxis": {
            "gridcolor": "rgb(232,232,232)",
            "linecolor": "rgb(36,36,36)",
            "showgrid": false,
            "showline": true,
            "ticks": "outside"
           },
           "bgcolor": "white",
           "caxis": {
            "gridcolor": "rgb(232,232,232)",
            "linecolor": "rgb(36,36,36)",
            "showgrid": false,
            "showline": true,
            "ticks": "outside"
           }
          },
          "title": {
           "x": 0.05
          },
          "xaxis": {
           "automargin": true,
           "gridcolor": "rgb(232,232,232)",
           "linecolor": "rgb(36,36,36)",
           "showgrid": false,
           "showline": true,
           "ticks": "outside",
           "title": {
            "standoff": 15
           },
           "zeroline": false,
           "zerolinecolor": "rgb(36,36,36)"
          },
          "yaxis": {
           "automargin": true,
           "gridcolor": "rgb(232,232,232)",
           "linecolor": "rgb(36,36,36)",
           "showgrid": false,
           "showline": true,
           "ticks": "outside",
           "title": {
            "standoff": 15
           },
           "zeroline": false,
           "zerolinecolor": "rgb(36,36,36)"
          }
         }
        },
        "title": {
         "text": "Distance-based SSM"
        },
        "width": 600,
        "xaxis": {
         "anchor": "y",
         "autorange": true,
         "domain": [
          0,
          1
         ],
         "matches": "x",
         "range": [
          -0.5,
          11.5
         ],
         "type": "category"
        },
        "xaxis2": {
         "anchor": "y2",
         "autorange": true,
         "domain": [
          0,
          1
         ],
         "matches": "x",
         "range": [
          -0.5,
          11.5
         ],
         "type": "category"
        },
        "xaxis3": {
         "anchor": "y3",
         "autorange": true,
         "domain": [
          0,
          1
         ],
         "matches": "x",
         "range": [
          -0.5,
          11.5
         ],
         "type": "category"
        },
        "xaxis4": {
         "anchor": "y4",
         "autorange": true,
         "domain": [
          0,
          1
         ],
         "matches": "x",
         "range": [
          -0.5,
          11.5
         ],
         "type": "category"
        },
        "yaxis": {
         "anchor": "x",
         "autorange": true,
         "domain": [
          0.84375,
          1
         ],
         "matches": "y",
         "range": [
          5.5,
          -0.5
         ],
         "type": "category"
        },
        "yaxis2": {
         "anchor": "x2",
         "autorange": true,
         "domain": [
          0.5625,
          0.71875
         ],
         "matches": "y",
         "range": [
          5.5,
          -0.5
         ],
         "type": "category"
        },
        "yaxis3": {
         "anchor": "x3",
         "autorange": true,
         "domain": [
          0.28125,
          0.4375
         ],
         "matches": "y",
         "range": [
          5.5,
          -0.5
         ],
         "type": "category"
        },
        "yaxis4": {
         "anchor": "x4",
         "autorange": true,
         "domain": [
          0,
          0.15625
         ],
         "matches": "y",
         "range": [
          5.5,
          -0.5
         ],
         "type": "category"
        }
       }
      },
      "image/png": "[encoded data removed]",
      "text/html": [
       "<div>                            <div id=\"4b949fba-3d83-4c5d-b49f-4b13e06b1b7d\" class=\"plotly-graph-div\" style=\"height:1200px; width:600px;\"></div>            <script type=\"text/javascript\">                require([\"plotly\"], function(Plotly) {                    window.PLOTLYENV=window.PLOTLYENV || {};                                    if (document.getElementById(\"4b949fba-3d83-4c5d-b49f-4b13e06b1b7d\")) {                    Plotly.newPlot(                        \"4b949fba-3d83-4c5d-b49f-4b13e06b1b7d\",                        [{\"colorscale\":[[0.0,\"#ffffff\"],[1.0,\"#ff0000\"]],\"showlegend\":false,\"textfont\":{\"size\":10},\"texttemplate\":\"%{z}\",\"x\":[\"040\",\"060\",\"080\",\"100\",\"120\",\"140\",\"160\",\"180\",\"200\",\"220\",\"240\",\"lane\"],\"y\":[\"U1\",\"U2\",\"U3\",\"U4\",\"U5\",\"U6\"],\"z\":[[0.0,0.0,0.0,0.0,0.0,0.0,0.0,0.0,0.0,0.0,null,\"U1\"],[0.0,0.0,0.0,0.0,0.0,0.0,0.0,0.0,0.01,0.0,null,\"U2\"],[0.0,0.0,0.0,0.0,0.0,0.0,0.0,0.0,0.0,0.01,-0.01,\"U3\"],[0.0,0.0,0.0,0.0,0.0,0.0,0.0,0.0,0.0,0.0,0.0,\"U4\"],[0.0,0.0,0.0,0.0,0.0,0.0,0.0,0.0,0.0,null,null,\"U5\"],[0.0,0.0,0.0,null,null,null,null,null,null,null,null,\"U6\"]],\"type\":\"heatmap\",\"xaxis\":\"x\",\"yaxis\":\"y\"},{\"colorscale\":[[0.0,\"#ffffff\"],[1.0,\"#ff0000\"]],\"showlegend\":false,\"textfont\":{\"size\":10},\"texttemplate\":\"%{z}\",\"x\":[\"040\",\"060\",\"080\",\"100\",\"120\",\"140\",\"160\",\"180\",\"200\",\"220\",\"240\",\"lane\"],\"y\":[\"U1\",\"U2\",\"U3\",\"U4\",\"U5\",\"U6\"],\"z\":[[0.0,0.0,0.0,0.0,0.0,0.0,0.0,0.0,0.0,0.0,null,\"U1\"],[0.0,0.0,0.0,0.0,0.0,0.0,0.0,0.0,0.01,0.0,null,\"U2\"],[0.0,0.0,0.0,0.0,0.0,0.0,0.0,0.0,0.0,0.0,null,\"U3\"],[0.0,0.0,0.0,0.0,0.0,0.0,0.0,0.0,0.0,0.01,0.0,\"U4\"],[0.0,0.0,0.0,0.0,0.0,0.0,0.0,0.0,0.0,null,null,\"U5\"],[0.0,null,0.0,null,null,null,null,null,null,null,null,\"U6\"]],\"type\":\"heatmap\",\"xaxis\":\"x2\",\"yaxis\":\"y2\"},{\"colorscale\":[[0.0,\"#ffffff\"],[1.0,\"#ff0000\"]],\"showlegend\":false,\"textfont\":{\"size\":10},\"texttemplate\":\"%{z}\",\"x\":[\"040\",\"060\",\"080\",\"100\",\"120\",\"140\",\"160\",\"180\",\"200\",\"220\",\"240\",\"lane\"],\"y\":[\"U1\",\"U2\",\"U3\",\"U4\",\"U5\",\"U6\"],\"z\":[[null,-0.02,-0.0,-0.0,-0.01,0.03,-0.13,-0.08,-0.06,-0.1,null,\"U1\"],[0.03,-0.0,0.0,-0.01,-0.05,-0.02,0.04,-0.06,-0.09,-0.09,null,\"U2\"],[0.03,-0.01,0.0,0.0,0.0,-0.02,0.0,0.14,0.21,-0.06,-0.12,\"U3\"],[-0.01,0.01,-0.0,0.0,0.0,0.02,-0.02,-0.04,-0.01,0.46,0.45,\"U4\"],[0.01,0.01,0.01,-0.01,-0.01,0.02,-0.01,-0.03,-0.12,null,null,\"U5\"],[-0.01,0.05,-0.0,null,null,null,null,null,null,null,null,\"U6\"]],\"type\":\"heatmap\",\"xaxis\":\"x3\",\"yaxis\":\"y3\"},{\"colorscale\":[[0.0,\"#ffffff\"],[1.0,\"#ff0000\"]],\"showlegend\":false,\"textfont\":{\"size\":10},\"texttemplate\":\"%{z}\",\"x\":[\"040\",\"060\",\"080\",\"100\",\"120\",\"140\",\"160\",\"180\",\"200\",\"220\",\"240\",\"lane\"],\"y\":[\"U1\",\"U2\",\"U3\",\"U4\",\"U5\",\"U6\"],\"z\":[[-0.0,-0.01,-0.01,-0.01,-0.0,-0.0,-0.28,-0.01,-0.02,-0.01,null,\"U1\"],[0.0,-0.0,-0.01,-0.01,-0.01,0.0,-0.01,-0.01,-0.02,-0.02,null,\"U2\"],[0.0,-0.0,-0.0,0.0,0.0,0.0,-0.0,-0.0,-0.01,-0.01,-0.04,\"U3\"],[0.0,-0.0,-0.0,0.0,-0.0,-0.0,-0.0,-0.01,-0.01,-0.04,0.0,\"U4\"],[0.01,0.0,0.0,0.01,0.0,0.0,-0.01,-0.01,-0.0,null,null,\"U5\"],[0.0,0.0,0.0,null,null,null,null,null,null,null,null,\"U6\"]],\"type\":\"heatmap\",\"xaxis\":\"x4\",\"yaxis\":\"y4\"}],                        {\"template\":{\"data\":{\"barpolar\":[{\"marker\":{\"line\":{\"color\":\"white\",\"width\":0.5},\"pattern\":{\"fillmode\":\"overlay\",\"size\":10,\"solidity\":0.2}},\"type\":\"barpolar\"}],\"bar\":[{\"error_x\":{\"color\":\"rgb(36,36,36)\"},\"error_y\":{\"color\":\"rgb(36,36,36)\"},\"marker\":{\"line\":{\"color\":\"white\",\"width\":0.5},\"pattern\":{\"fillmode\":\"overlay\",\"size\":10,\"solidity\":0.2}},\"type\":\"bar\"}],\"carpet\":[{\"aaxis\":{\"endlinecolor\":\"rgb(36,36,36)\",\"gridcolor\":\"white\",\"linecolor\":\"white\",\"minorgridcolor\":\"white\",\"startlinecolor\":\"rgb(36,36,36)\"},\"baxis\":{\"endlinecolor\":\"rgb(36,36,36)\",\"gridcolor\":\"white\",\"linecolor\":\"white\",\"minorgridcolor\":\"white\",\"startlinecolor\":\"rgb(36,36,36)\"},\"type\":\"carpet\"}],\"choropleth\":[{\"colorbar\":{\"outlinewidth\":1,\"tickcolor\":\"rgb(36,36,36)\",\"ticks\":\"outside\"},\"type\":\"choropleth\"}],\"contourcarpet\":[{\"colorbar\":{\"outlinewidth\":1,\"tickcolor\":\"rgb(36,36,36)\",\"ticks\":\"outside\"},\"type\":\"contourcarpet\"}],\"contour\":[{\"colorbar\":{\"outlinewidth\":1,\"tickcolor\":\"rgb(36,36,36)\",\"ticks\":\"outside\"},\"colorscale\":[[0.0,\"#440154\"],[0.1111111111111111,\"#482878\"],[0.2222222222222222,\"#3e4989\"],[0.3333333333333333,\"#31688e\"],[0.4444444444444444,\"#26828e\"],[0.5555555555555556,\"#1f9e89\"],[0.6666666666666666,\"#35b779\"],[0.7777777777777778,\"#6ece58\"],[0.8888888888888888,\"#b5de2b\"],[1.0,\"#fde725\"]],\"type\":\"contour\"}],\"heatmapgl\":[{\"colorbar\":{\"outlinewidth\":1,\"tickcolor\":\"rgb(36,36,36)\",\"ticks\":\"outside\"},\"colorscale\":[[0.0,\"#440154\"],[0.1111111111111111,\"#482878\"],[0.2222222222222222,\"#3e4989\"],[0.3333333333333333,\"#31688e\"],[0.4444444444444444,\"#26828e\"],[0.5555555555555556,\"#1f9e89\"],[0.6666666666666666,\"#35b779\"],[0.7777777777777778,\"#6ece58\"],[0.8888888888888888,\"#b5de2b\"],[1.0,\"#fde725\"]],\"type\":\"heatmapgl\"}],\"heatmap\":[{\"colorbar\":{\"outlinewidth\":1,\"tickcolor\":\"rgb(36,36,36)\",\"ticks\":\"outside\"},\"colorscale\":[[0.0,\"#440154\"],[0.1111111111111111,\"#482878\"],[0.2222222222222222,\"#3e4989\"],[0.3333333333333333,\"#31688e\"],[0.4444444444444444,\"#26828e\"],[0.5555555555555556,\"#1f9e89\"],[0.6666666666666666,\"#35b779\"],[0.7777777777777778,\"#6ece58\"],[0.8888888888888888,\"#b5de2b\"],[1.0,\"#fde725\"]],\"type\":\"heatmap\"}],\"histogram2dcontour\":[{\"colorbar\":{\"outlinewidth\":1,\"tickcolor\":\"rgb(36,36,36)\",\"ticks\":\"outside\"},\"colorscale\":[[0.0,\"#440154\"],[0.1111111111111111,\"#482878\"],[0.2222222222222222,\"#3e4989\"],[0.3333333333333333,\"#31688e\"],[0.4444444444444444,\"#26828e\"],[0.5555555555555556,\"#1f9e89\"],[0.6666666666666666,\"#35b779\"],[0.7777777777777778,\"#6ece58\"],[0.8888888888888888,\"#b5de2b\"],[1.0,\"#fde725\"]],\"type\":\"histogram2dcontour\"}],\"histogram2d\":[{\"colorbar\":{\"outlinewidth\":1,\"tickcolor\":\"rgb(36,36,36)\",\"ticks\":\"outside\"},\"colorscale\":[[0.0,\"#440154\"],[0.1111111111111111,\"#482878\"],[0.2222222222222222,\"#3e4989\"],[0.3333333333333333,\"#31688e\"],[0.4444444444444444,\"#26828e\"],[0.5555555555555556,\"#1f9e89\"],[0.6666666666666666,\"#35b779\"],[0.7777777777777778,\"#6ece58\"],[0.8888888888888888,\"#b5de2b\"],[1.0,\"#fde725\"]],\"type\":\"histogram2d\"}],\"histogram\":[{\"marker\":{\"line\":{\"color\":\"white\",\"width\":0.6}},\"type\":\"histogram\"}],\"mesh3d\":[{\"colorbar\":{\"outlinewidth\":1,\"tickcolor\":\"rgb(36,36,36)\",\"ticks\":\"outside\"},\"type\":\"mesh3d\"}],\"parcoords\":[{\"line\":{\"colorbar\":{\"outlinewidth\":1,\"tickcolor\":\"rgb(36,36,36)\",\"ticks\":\"outside\"}},\"type\":\"parcoords\"}],\"pie\":[{\"automargin\":true,\"type\":\"pie\"}],\"scatter3d\":[{\"line\":{\"colorbar\":{\"outlinewidth\":1,\"tickcolor\":\"rgb(36,36,36)\",\"ticks\":\"outside\"}},\"marker\":{\"colorbar\":{\"outlinewidth\":1,\"tickcolor\":\"rgb(36,36,36)\",\"ticks\":\"outside\"}},\"type\":\"scatter3d\"}],\"scattercarpet\":[{\"marker\":{\"colorbar\":{\"outlinewidth\":1,\"tickcolor\":\"rgb(36,36,36)\",\"ticks\":\"outside\"}},\"type\":\"scattercarpet\"}],\"scattergeo\":[{\"marker\":{\"colorbar\":{\"outlinewidth\":1,\"tickcolor\":\"rgb(36,36,36)\",\"ticks\":\"outside\"}},\"type\":\"scattergeo\"}],\"scattergl\":[{\"marker\":{\"colorbar\":{\"outlinewidth\":1,\"tickcolor\":\"rgb(36,36,36)\",\"ticks\":\"outside\"}},\"type\":\"scattergl\"}],\"scattermapbox\":[{\"marker\":{\"colorbar\":{\"outlinewidth\":1,\"tickcolor\":\"rgb(36,36,36)\",\"ticks\":\"outside\"}},\"type\":\"scattermapbox\"}],\"scatterpolargl\":[{\"marker\":{\"colorbar\":{\"outlinewidth\":1,\"tickcolor\":\"rgb(36,36,36)\",\"ticks\":\"outside\"}},\"type\":\"scatterpolargl\"}],\"scatterpolar\":[{\"marker\":{\"colorbar\":{\"outlinewidth\":1,\"tickcolor\":\"rgb(36,36,36)\",\"ticks\":\"outside\"}},\"type\":\"scatterpolar\"}],\"scatter\":[{\"fillpattern\":{\"fillmode\":\"overlay\",\"size\":10,\"solidity\":0.2},\"type\":\"scatter\"}],\"scatterternary\":[{\"marker\":{\"colorbar\":{\"outlinewidth\":1,\"tickcolor\":\"rgb(36,36,36)\",\"ticks\":\"outside\"}},\"type\":\"scatterternary\"}],\"surface\":[{\"colorbar\":{\"outlinewidth\":1,\"tickcolor\":\"rgb(36,36,36)\",\"ticks\":\"outside\"},\"colorscale\":[[0.0,\"#440154\"],[0.1111111111111111,\"#482878\"],[0.2222222222222222,\"#3e4989\"],[0.3333333333333333,\"#31688e\"],[0.4444444444444444,\"#26828e\"],[0.5555555555555556,\"#1f9e89\"],[0.6666666666666666,\"#35b779\"],[0.7777777777777778,\"#6ece58\"],[0.8888888888888888,\"#b5de2b\"],[1.0,\"#fde725\"]],\"type\":\"surface\"}],\"table\":[{\"cells\":{\"fill\":{\"color\":\"rgb(237,237,237)\"},\"line\":{\"color\":\"white\"}},\"header\":{\"fill\":{\"color\":\"rgb(217,217,217)\"},\"line\":{\"color\":\"white\"}},\"type\":\"table\"}]},\"layout\":{\"annotationdefaults\":{\"arrowhead\":0,\"arrowwidth\":1},\"autotypenumbers\":\"strict\",\"coloraxis\":{\"colorbar\":{\"outlinewidth\":1,\"tickcolor\":\"rgb(36,36,36)\",\"ticks\":\"outside\"}},\"colorscale\":{\"diverging\":[[0.0,\"rgb(103,0,31)\"],[0.1,\"rgb(178,24,43)\"],[0.2,\"rgb(214,96,77)\"],[0.3,\"rgb(244,165,130)\"],[0.4,\"rgb(253,219,199)\"],[0.5,\"rgb(247,247,247)\"],[0.6,\"rgb(209,229,240)\"],[0.7,\"rgb(146,197,222)\"],[0.8,\"rgb(67,147,195)\"],[0.9,\"rgb(33,102,172)\"],[1.0,\"rgb(5,48,97)\"]],\"sequential\":[[0.0,\"#440154\"],[0.1111111111111111,\"#482878\"],[0.2222222222222222,\"#3e4989\"],[0.3333333333333333,\"#31688e\"],[0.4444444444444444,\"#26828e\"],[0.5555555555555556,\"#1f9e89\"],[0.6666666666666666,\"#35b779\"],[0.7777777777777778,\"#6ece58\"],[0.8888888888888888,\"#b5de2b\"],[1.0,\"#fde725\"]],\"sequentialminus\":[[0.0,\"#440154\"],[0.1111111111111111,\"#482878\"],[0.2222222222222222,\"#3e4989\"],[0.3333333333333333,\"#31688e\"],[0.4444444444444444,\"#26828e\"],[0.5555555555555556,\"#1f9e89\"],[0.6666666666666666,\"#35b779\"],[0.7777777777777778,\"#6ece58\"],[0.8888888888888888,\"#b5de2b\"],[1.0,\"#fde725\"]]},\"colorway\":[\"#1F77B4\",\"#FF7F0E\",\"#2CA02C\",\"#D62728\",\"#9467BD\",\"#8C564B\",\"#E377C2\",\"#7F7F7F\",\"#BCBD22\",\"#17BECF\"],\"font\":{\"color\":\"rgb(36,36,36)\"},\"geo\":{\"bgcolor\":\"white\",\"lakecolor\":\"white\",\"landcolor\":\"white\",\"showlakes\":true,\"showland\":true,\"subunitcolor\":\"white\"},\"hoverlabel\":{\"align\":\"left\"},\"hovermode\":\"closest\",\"mapbox\":{\"style\":\"light\"},\"paper_bgcolor\":\"white\",\"plot_bgcolor\":\"white\",\"polar\":{\"angularaxis\":{\"gridcolor\":\"rgb(232,232,232)\",\"linecolor\":\"rgb(36,36,36)\",\"showgrid\":false,\"showline\":true,\"ticks\":\"outside\"},\"bgcolor\":\"white\",\"radialaxis\":{\"gridcolor\":\"rgb(232,232,232)\",\"linecolor\":\"rgb(36,36,36)\",\"showgrid\":false,\"showline\":true,\"ticks\":\"outside\"}},\"scene\":{\"xaxis\":{\"backgroundcolor\":\"white\",\"gridcolor\":\"rgb(232,232,232)\",\"gridwidth\":2,\"linecolor\":\"rgb(36,36,36)\",\"showbackground\":true,\"showgrid\":false,\"showline\":true,\"ticks\":\"outside\",\"zeroline\":false,\"zerolinecolor\":\"rgb(36,36,36)\"},\"yaxis\":{\"backgroundcolor\":\"white\",\"gridcolor\":\"rgb(232,232,232)\",\"gridwidth\":2,\"linecolor\":\"rgb(36,36,36)\",\"showbackground\":true,\"showgrid\":false,\"showline\":true,\"ticks\":\"outside\",\"zeroline\":false,\"zerolinecolor\":\"rgb(36,36,36)\"},\"zaxis\":{\"backgroundcolor\":\"white\",\"gridcolor\":\"rgb(232,232,232)\",\"gridwidth\":2,\"linecolor\":\"rgb(36,36,36)\",\"showbackground\":true,\"showgrid\":false,\"showline\":true,\"ticks\":\"outside\",\"zeroline\":false,\"zerolinecolor\":\"rgb(36,36,36)\"}},\"shapedefaults\":{\"fillcolor\":\"black\",\"line\":{\"width\":0},\"opacity\":0.3},\"ternary\":{\"aaxis\":{\"gridcolor\":\"rgb(232,232,232)\",\"linecolor\":\"rgb(36,36,36)\",\"showgrid\":false,\"showline\":true,\"ticks\":\"outside\"},\"baxis\":{\"gridcolor\":\"rgb(232,232,232)\",\"linecolor\":\"rgb(36,36,36)\",\"showgrid\":false,\"showline\":true,\"ticks\":\"outside\"},\"bgcolor\":\"white\",\"caxis\":{\"gridcolor\":\"rgb(232,232,232)\",\"linecolor\":\"rgb(36,36,36)\",\"showgrid\":false,\"showline\":true,\"ticks\":\"outside\"}},\"title\":{\"x\":0.05},\"xaxis\":{\"automargin\":true,\"gridcolor\":\"rgb(232,232,232)\",\"linecolor\":\"rgb(36,36,36)\",\"showgrid\":false,\"showline\":true,\"ticks\":\"outside\",\"title\":{\"standoff\":15},\"zeroline\":false,\"zerolinecolor\":\"rgb(36,36,36)\"},\"yaxis\":{\"automargin\":true,\"gridcolor\":\"rgb(232,232,232)\",\"linecolor\":\"rgb(36,36,36)\",\"showgrid\":false,\"showline\":true,\"ticks\":\"outside\",\"title\":{\"standoff\":15},\"zeroline\":false,\"zerolinecolor\":\"rgb(36,36,36)\"}}},\"xaxis\":{\"anchor\":\"y\",\"domain\":[0.0,1.0],\"matches\":\"x\"},\"yaxis\":{\"anchor\":\"x\",\"domain\":[0.84375,1.0],\"matches\":\"y\",\"autorange\":\"reversed\"},\"xaxis2\":{\"anchor\":\"y2\",\"domain\":[0.0,1.0],\"matches\":\"x\"},\"yaxis2\":{\"anchor\":\"x2\",\"domain\":[0.5625,0.71875],\"matches\":\"y\"},\"xaxis3\":{\"anchor\":\"y3\",\"domain\":[0.0,1.0],\"matches\":\"x\"},\"yaxis3\":{\"anchor\":\"x3\",\"domain\":[0.28125,0.4375],\"matches\":\"y\"},\"xaxis4\":{\"anchor\":\"y4\",\"domain\":[0.0,1.0],\"matches\":\"x\"},\"yaxis4\":{\"anchor\":\"x4\",\"domain\":[0.0,0.15625],\"matches\":\"y\"},\"annotations\":[{\"font\":{\"size\":16},\"showarrow\":false,\"text\":\"DRAC : Rear-end\",\"x\":0.5,\"xanchor\":\"center\",\"xref\":\"paper\",\"y\":1.0,\"yanchor\":\"bottom\",\"yref\":\"paper\"},{\"font\":{\"size\":16},\"showarrow\":false,\"text\":\"MDRAC : Rear-end\",\"x\":0.5,\"xanchor\":\"center\",\"xref\":\"paper\",\"y\":0.71875,\"yanchor\":\"bottom\",\"yref\":\"paper\"},{\"font\":{\"size\":16},\"showarrow\":false,\"text\":\"DCIA : Rear-end\",\"x\":0.5,\"xanchor\":\"center\",\"xref\":\"paper\",\"y\":0.4375,\"yanchor\":\"bottom\",\"yref\":\"paper\"},{\"font\":{\"size\":16},\"showarrow\":false,\"text\":\"unsafety : Rear-end\",\"x\":0.5,\"xanchor\":\"center\",\"xref\":\"paper\",\"y\":0.15625,\"yanchor\":\"bottom\",\"yref\":\"paper\"}],\"title\":{\"text\":\"Distance-based SSM\"},\"height\":1200,\"width\":600,\"showlegend\":false},                        {\"responsive\": true}                    ).then(function(){\n",
       "                            \n",
       "var gd = document.getElementById('4b949fba-3d83-4c5d-b49f-4b13e06b1b7d');\n",
       "var x = new MutationObserver(function (mutations, observer) {{\n",
       "        var display = window.getComputedStyle(gd).display;\n",
       "        if (!display || display === 'none') {{\n",
       "            console.log([gd, 'removed!']);\n",
       "            Plotly.purge(gd);\n",
       "            observer.disconnect();\n",
       "        }}\n",
       "}});\n",
       "\n",
       "// Listen for the removal of the full notebook cells\n",
       "var notebookContainer = gd.closest('#notebook-container');\n",
       "if (notebookContainer) {{\n",
       "    x.observe(notebookContainer, {childList: true});\n",
       "}}\n",
       "\n",
       "// Listen for the clearing of the current output cell\n",
       "var outputEl = gd.closest('.output');\n",
       "if (outputEl) {{\n",
       "    x.observe(outputEl, {childList: true});\n",
       "}}\n",
       "\n",
       "                        })                };                });            </script>        </div>"
      ]
     },
     "metadata": {},
     "output_type": "display_data"
    }
   ],
   "source": [
    "sub_titles = []\n",
    "\n",
    "for SSM in ['DRAC', 'MDRAC', 'DCIA', 'unsafety']:\n",
    "    for conflict_type in ['Rear-end']:\n",
    "        sub_titles.append(f'{SSM} : {conflict_type}')\n",
    "\n",
    "fig = make_subplots(rows = 4, cols = 1, \n",
    "                    subplot_titles = sub_titles)\n",
    "\n",
    "for conflict_type, j in zip(['rear_end'], [1]): # 각 행별로\n",
    "\n",
    "    for SSM, i in zip(['DRAC', 'MDRAC', 'DCIA', 'unsafety'], [1, 2, 3, 4]):\n",
    "        \n",
    "        sec = df[df['potential_conflict_type'] == conflict_type]\n",
    "        sec = df.dropna(subset = SSM)\n",
    "        \n",
    "        if len(sec) > 0:\n",
    "\n",
    "            pv_veh = pd.pivot_table(sec,\n",
    "                       index = 'lane',\n",
    "                        columns = 'cell',\n",
    "                        values = [SSM],\n",
    "                        aggfunc = {SSM : 'mean'})\n",
    "\n",
    "            pv_veh = pv_veh[SSM]\n",
    "\n",
    "            for cell in cell_list:\n",
    "                if cell not in pv_veh.columns:\n",
    "                    pv_veh[cell] = np.NaN # 만약 셀이 없으면 추가해야 한다.\n",
    "\n",
    "                else:\n",
    "                    pass\n",
    "\n",
    "            pv_veh.reset_index(inplace = True)\n",
    "            # 컬럼을 셀 번호 이름대로 정렬해준다. 이때 절때 Heatmap의 Categoryascending을 해 주면 안된다는 것이다.\n",
    "            pv_veh2 = pv_veh[cell_list + ['lane']]\n",
    "\n",
    "            ax = go.Heatmap(df_to_plotly(pv_veh2.round(2)),\n",
    "                            colorscale = palette_TIT,\n",
    "                            texttemplate = '%{z}',\n",
    "                            textfont = {'size' : 10},\n",
    "                            showlegend = False,\n",
    "                            #zmin = 0, zmax = 5\n",
    "                            )\n",
    "\n",
    "            fig.add_trace(ax, i, j) # i행 j열에 추가\n",
    "\n",
    "        else:\n",
    "            pass\n",
    "        \n",
    "fig.update_xaxes(matches = 'x')\n",
    "fig.update_yaxes(matches = 'y')\n",
    "\n",
    "fig.update_layout(yaxis = dict(autorange = 'reversed'), \n",
    "          height = 1200, width = 600,\n",
    "          template = 'simple_white',\n",
    "                 title_text = 'Distance-based SSM')\n",
    "\n",
    "fig.update(layout_showlegend = False)\n",
    "\n",
    "fig.show()"
   ]
  },
  {
   "cell_type": "markdown",
   "id": "275d3a43-a135-41ba-87bc-730a8dd36b86",
   "metadata": {
    "tags": []
   },
   "source": [
    "# 바이올린"
   ]
  },
  {
   "cell_type": "code",
   "execution_count": null,
   "id": "1e3d9fb6-d8fe-411a-a1c4-2c690f40df99",
   "metadata": {
    "execution": {
     "iopub.status.busy": "2023-12-02T07:53:55.012044Z",
     "iopub.status.idle": "2023-12-02T07:53:55.012044Z",
     "shell.execute_reply": "2023-12-02T07:53:55.012044Z",
     "shell.execute_reply.started": "2023-12-02T07:53:55.012044Z"
    },
    "tags": []
   },
   "outputs": [],
   "source": [
    "title_list = ['Time-based SSM', 'Distance-based SSM', 'Deceleration-based SSM']\n",
    "scale = 'count' # area, width\n",
    "\n",
    "for target_SSM_list, title in zip([SSM_list_1, SSM_list_2, SSM_list_3], title_list):\n",
    "    \n",
    "    target_len = 6#len(target_SSM_list)\n",
    "    \n",
    "    fig = plt.figure(figsize = (4 * target_len, 3))\n",
    "\n",
    "    for SSM, i in tqdm(zip(target_SSM_list, range(target_len))):\n",
    "\n",
    "        fig.add_subplot(1, target_len+1, i+1)\n",
    "        \n",
    "        # 임계값 불러오기\n",
    "        tdx = np.where(threshold_list == SSM)[0][0]\n",
    "        threshold = threshold_list[tdx][1]\n",
    "\n",
    "        if SSM == 'ACT':\n",
    "            upper_bound = 50\n",
    "            lower_bound = 0\n",
    "            \n",
    "            tdf = df_0[(df_0[SSM] >= lower_bound) & (df_0[SSM] <= upper_bound)].dropna(subset = SSM).copy()\n",
    "        \n",
    "        elif SSM in SSM_list_1:\n",
    "            #tdf = df_0[(df_0[SSM] <= 30) & (df_0[SSM] >= 0)].dropna(subset = SSM).copy()\n",
    "            upper_bound = 100\n",
    "            lower_bound = 0\n",
    "            \n",
    "            tdf = df_0[(df_0[SSM] >= lower_bound) & (df_0[SSM] <= upper_bound)].dropna(subset = SSM).copy()\n",
    "\n",
    "        else:\n",
    "            upper_bound = df_0[SSM].mean() + df_0[SSM].std() * 3\n",
    "            lower_bound = df_0[SSM].mean() - df_0[SSM].std() * 3\n",
    "            \n",
    "            tdf = df_0[(df_0[SSM] >= lower_bound) & (df_0[SSM] <= upper_bound)].dropna(subset = SSM).copy()\n",
    "\n",
    "\n",
    "        tdf['potential_conflict_type'] = tdf['potential_conflict_type'].map({'rear_end': 'Rear-end', 'side_swipe' : 'Side-swipe'})\n",
    "        tdf['Behavior'] = tdf['LC_CF'].map({'CF': 'Car-following', 'LC' : 'Lane change'})\n",
    "\n",
    "\n",
    "        if SSM in SSM_list_1:\n",
    "            \n",
    "            sec = pd.DataFrame({'potential_conflict_type' : ['Rear-end', 'Side-swipe']})\n",
    "            tdf = pd.concat([tdf, sec])\n",
    "            tdf = tdf.sort_values(by = 'LC_CF', ascending = False)\n",
    "\n",
    "            ax = sns.violinplot(\n",
    "                data = tdf,\n",
    "                x = 'potential_conflict_type', y = SSM,\n",
    "                hue = 'Behavior',\n",
    "                bw = 0.2,\n",
    "                linewidth = 0.9,\n",
    "                scale = scale,\n",
    "                split = True,\n",
    "                palette = \"Pastel1\",\n",
    "                cut = 0, inner = 'quart',\n",
    "                order = ['Rear-end', 'Side-swipe']\n",
    "            )\n",
    "            \n",
    "            # 플롯에 텍스트 달기\n",
    "            \n",
    "            for l in ax.lines:\n",
    "                ax.text(l.get_data()[0][l.get_data()[0].nonzero()][0], l.get_data()[1][0], f'{l.get_data()[1][0]:.2f}')\n",
    "\n",
    "\n",
    "        elif SSM in SSM_list_2:\n",
    "            # ax = sns.histplot(\n",
    "            #     data = tdf,\n",
    "            #     y = SSM,\n",
    "            #     hue = 'Behavior', \n",
    "            #     #stat = 'density',\n",
    "            #     kde = True, bins = 50,\n",
    "            #     linewidth = 0.5, edgecolor = 'white',\n",
    "            #     palette = \"Pastel1\",\n",
    "            #     line_kws = {'linewidth' : 1.5}\n",
    "            # )\n",
    "            \n",
    "            sec = pd.DataFrame({'potential_conflict_type' : ['Rear-end', 'Side-swipe']})\n",
    "            tdf = pd.concat([tdf, sec])\n",
    "            \n",
    "            tdf = tdf.sort_values(by = 'LC_CF', ascending = False)\n",
    "            \n",
    "            ax = sns.violinplot(\n",
    "                data = tdf,\n",
    "                x = 'potential_conflict_type', y = SSM,\n",
    "                hue = 'Behavior',\n",
    "                bw = 0.2,\n",
    "                linewidth = 0.9,\n",
    "                scale = scale,\n",
    "                split = True,\n",
    "                palette = \"Pastel1\",\n",
    "                inner = 'quart',\n",
    "                order = ['Rear-end', 'Side-swipe']\n",
    "            )\n",
    "            # 플롯에 텍스트 달기\n",
    "            \n",
    "            for l in ax.lines:\n",
    "                ax.text(l.get_data()[0][l.get_data()[0].nonzero()][0], l.get_data()[1][0], f'{l.get_data()[1][0]:.2f}')\n",
    "            \n",
    "            \n",
    "        else:\n",
    "            temp_dict = {'DRAC' : [0, 10], 'MDRAC' : [0, 5], 'DCIA' : [-10, 10], 'unsafety' : [-10, 10]}\n",
    "            \n",
    "            tdf = tdf[(tdf[SSM] >= temp_dict[SSM][0]) & (tdf[SSM] <= temp_dict[SSM][1])]\n",
    "            \n",
    "            sec = pd.DataFrame({'potential_conflict_type' : ['Rear-end', 'Side-swipe']})\n",
    "            tdf = pd.concat([tdf, sec])\n",
    "            tdf = tdf.sort_values(by = 'LC_CF', ascending = False)\n",
    "            \n",
    "            # ax = sns.histplot(\n",
    "            #     data = tdf,\n",
    "            #     y = SSM,\n",
    "            #     hue = 'Behavior', \n",
    "            #     #stat = 'density',\n",
    "            #     kde = True, bins = 50,\n",
    "            #     linewidth = 0.5, edgecolor = 'white',\n",
    "            #     palette = \"Pastel1\",\n",
    "            #     line_kws = {'linewidth' : 1.5})\n",
    "            ax = sns.violinplot(\n",
    "                data = tdf,\n",
    "                x = 'potential_conflict_type', y = SSM,\n",
    "                hue = 'Behavior',\n",
    "                bw = 0.2,\n",
    "                linewidth = 0.9,\n",
    "                scale = scale,\n",
    "                split = True,\n",
    "                palette = \"Pastel1\",\n",
    "                inner = 'quart',\n",
    "                order = ['Rear-end', 'Side-swipe']\n",
    "            )\n",
    "            \n",
    "            # 플롯에 텍스트 달기\n",
    "            \n",
    "            # for l in ax.lines:\n",
    "            #     ax.text(l.get_data()[0][l.get_data()[0].nonzero()][0], l.get_data()[1][0], f'{l.get_data()[1][0]:.2f}')\n",
    "                \n",
    "            #ax.set_ylim([temp_dict[SSM][0], temp_dict[SSM][1]])\n",
    "\n",
    "        # 임계값을 설정해 주기\n",
    "        if SSM in SSM_list_1 or SSM in SSM_list_2:\n",
    "            plt.axhline(y = threshold, color = 'black', linestyle = '--', linewidth = 0.5, label = f'Threshold {threshold}')\n",
    "\n",
    "        #ax.legend_.remove()\n",
    "\n",
    "        # Add title and labels\n",
    "        plt.title(f'{SSM}')\n",
    "\n",
    "        if SSM in SSM_list_1:\n",
    "            #plt.yticks(np.arange(0, 11))\n",
    "            plt.xlabel('Conflict type')\n",
    "            plt.ylabel(f'{SSM}')\n",
    "            plt.legend(fontsize = 9)\n",
    "            \n",
    "        else:\n",
    "            #ax.set_yscale('log')\n",
    "            #plt.yscale('symlog')\n",
    "            plt.xlabel('Conflict type')\n",
    "            plt.ylabel(f'{SSM}')\n",
    "            plt.legend(fontsize = 9, loc = 'upper right')\n",
    "\n",
    "\n",
    "    fig.tight_layout()\n",
    "\n",
    "    ## ----------------------------------------------------------------------\n",
    "    #이미지 저장하기\n",
    "\n",
    "    save_file = f'violin_merging_{title}.png'\n",
    "    save_folder = 'Dataset/04_graph'\n",
    "    save_path = os.path.join(working_dir, save_folder, save_file)\n",
    "\n",
    "    plt.savefig(save_path, dpi = 300)\n",
    "    \n",
    "    plt.show()"
   ]
  },
  {
   "cell_type": "code",
   "execution_count": null,
   "id": "a44d241b-8143-4424-b320-7ecdd36d0576",
   "metadata": {
    "execution": {
     "iopub.status.busy": "2023-12-02T07:53:55.013039Z",
     "iopub.status.idle": "2023-12-02T07:53:55.013039Z",
     "shell.execute_reply": "2023-12-02T07:53:55.013039Z",
     "shell.execute_reply.started": "2023-12-02T07:53:55.013039Z"
    }
   },
   "outputs": [],
   "source": [
    "df['DCIA'].max()"
   ]
  },
  {
   "cell_type": "code",
   "execution_count": null,
   "id": "20f1ef28-e19e-400b-89ef-246b9a99bd7d",
   "metadata": {
    "execution": {
     "iopub.status.busy": "2023-12-02T07:53:55.014036Z",
     "iopub.status.idle": "2023-12-02T07:53:55.014036Z",
     "shell.execute_reply": "2023-12-02T07:53:55.014036Z",
     "shell.execute_reply.started": "2023-12-02T07:53:55.014036Z"
    },
    "tags": []
   },
   "outputs": [],
   "source": [
    "kur = pd.DataFrame(df_0[SSM_list].kurt()).rename({0 : 'Kurtosis'}, axis = 1)\n",
    "kur['Skewness'] = pd.DataFrame(df_0[SSM_list].skew()).rename({0 : 'Skewness'}, axis = 1)['Skewness']\n",
    "kur = kur.round(2)\n",
    "kur"
   ]
  },
  {
   "cell_type": "markdown",
   "id": "12e60433-f657-4fe9-ac3c-426b3eff4f06",
   "metadata": {
    "tags": []
   },
   "source": [
    "# 문제차량 SSM 2-Dimensional Profile 조회"
   ]
  },
  {
   "cell_type": "code",
   "execution_count": null,
   "id": "a3a93c3e-1558-4970-9078-1886ca8425ea",
   "metadata": {
    "execution": {
     "iopub.status.busy": "2023-12-02T07:53:55.015036Z",
     "iopub.status.idle": "2023-12-02T07:53:55.017029Z",
     "shell.execute_reply": "2023-12-02T07:53:55.016031Z",
     "shell.execute_reply.started": "2023-12-02T07:53:55.016031Z"
    }
   },
   "outputs": [],
   "source": [
    "def make_int(x):\n",
    "    if pd.isna(x) == False:\n",
    "        return int(x)\n",
    "\n",
    "    else:\n",
    "        return None"
   ]
  },
  {
   "cell_type": "code",
   "execution_count": null,
   "id": "7d99bd86-81b5-498c-a52c-f8bb8701c318",
   "metadata": {
    "execution": {
     "iopub.status.busy": "2023-12-02T07:53:55.017029Z",
     "iopub.status.idle": "2023-12-02T07:53:55.018026Z",
     "shell.execute_reply": "2023-12-02T07:53:55.017029Z",
     "shell.execute_reply.started": "2023-12-02T07:53:55.017029Z"
    }
   },
   "outputs": [],
   "source": [
    "df[(df['veh_id'] == 1544) & (df['LV_ID'] == 1542)].head(3)"
   ]
  },
  {
   "cell_type": "code",
   "execution_count": null,
   "id": "2a7f8161-9292-4845-8cbc-6a2a759b4336",
   "metadata": {
    "execution": {
     "iopub.status.busy": "2023-12-02T07:53:55.019023Z",
     "iopub.status.idle": "2023-12-02T07:53:55.019023Z",
     "shell.execute_reply": "2023-12-02T07:53:55.019023Z",
     "shell.execute_reply.started": "2023-12-02T07:53:55.019023Z"
    }
   },
   "outputs": [],
   "source": [
    "df[(df['veh_id'] == 1542) & (df['LV_ID'] == 1544)][['veh_id', 'LV_ID', 'LV_type', 'frm', 'T2']]"
   ]
  },
  {
   "cell_type": "code",
   "execution_count": null,
   "id": "16c5b335-493e-4c81-ab0f-8423ad6fb2c3",
   "metadata": {
    "execution": {
     "iopub.status.busy": "2023-12-02T07:53:55.021019Z",
     "iopub.status.idle": "2023-12-02T07:53:55.022016Z",
     "shell.execute_reply": "2023-12-02T07:53:55.021019Z",
     "shell.execute_reply.started": "2023-12-02T07:53:55.021019Z"
    },
    "tags": []
   },
   "outputs": [],
   "source": [
    "df = df_0\n",
    "scatter_size = 12\n",
    "\n",
    "#veh_id, LV_ID = '1631', '1629'\n",
    "#veh_id, LV_ID = 126, 125\n",
    "#veh_id, LV_ID = 1544, 1542\n",
    "#veh_id, LV_ID = 654, 652\n",
    "veh_id, LV_ID = 16, 15\n",
    "\n",
    "for target_SSM_list, title in tqdm(zip([SSM_list_1, SSM_list_2, SSM_list_3], ['Time-based SSM', 'Distance-based SSM', 'Deceleration-based SSM'])):\n",
    "    \n",
    "    fig = plt.figure(figsize = (5, 10))\n",
    "    row_num = len(SSM_list_1)+3\n",
    "\n",
    "    if target_SSM_list != SSM_list_3:\n",
    "\n",
    "        gs = fig.add_gridspec(row_num, 1, height_ratios = (3, 1, 1, 1, 1, 1, 1, 1, 1), hspace = 1.2) # 5행 1열의 그리드 생성\n",
    "\n",
    "    else:\n",
    "        gs = fig.add_gridspec(row_num, 1, height_ratios = (3, 1, 1, 1, 1, 1, 1, 1, 1), hspace = 1.2) # 5행 1열의 그리드 생성\n",
    "\n",
    "    # 대상 차량 쌍을 필터링하여, 프레임별로 정렬하기\n",
    "    sec1 = df[df['pair'] == f'{veh_id}_{LV_ID}']\n",
    "    sec2 = df[df['pair'] == f'{LV_ID}_{veh_id}']\n",
    "\n",
    "    # TV, LV가 역전된 sec2 DF의 경우, 컬럼이름을 바꾸어주어야 한다.\n",
    "    col_list = ['local_x', 'local_y', 'velocity', 'acc', 'lane', 'Time', 'local_x_before',\n",
    "           'local_y_before', 'delta_local_x', 'delta_local_y', 'velocity_x',\n",
    "           'velocity_y', 'velocity_x_before', 'velocity_y_before',\n",
    "           'delta_velocity_x', 'delta_velocity_y', 'acc_x', 'acc_y', 'lane_past',\n",
    "           'Lane_record', 'Lane_record_split', 'Lane_00', 'Lane_99', 'Lane_change',\n",
    "           'Lane_leave', 'Lane_change_direction']\n",
    "\n",
    "    for col in col_list:\n",
    "        sec2.rename({col:f'LV2_{col}'}, axis = 1, inplace = True)\n",
    "        sec2.rename({f'LV_{col}' : col}, axis = 1, inplace = True)\n",
    "        sec2.rename({f'LV2_{col}':f'LV_{col}'}, axis = 1, inplace = True)\n",
    "\n",
    "    sec2.rename({'V_len' : 'LV_len', 'V_wid' : 'LV_wid', 'LV_wid' : 'V_wid', 'LV_len' : 'V_len'}, axis = 1, inplace = True)\n",
    "\n",
    "    sample = pd.concat([sec1, sec2])\n",
    "    sample = sample.sort_values(by = ['frm']).dropna(subset = 'local_x')\n",
    "    sample = sample.reset_index(drop = True)\n",
    "\n",
    "    ## 대상차량 궤적 표시\n",
    "    V_x = np.array(sample['local_x'])\n",
    "    V_y = np.array(sample['local_y'])\n",
    "    V_time = np.array(sample['Time'])\n",
    "\n",
    "    V_vx = np.array(sample['velocity_x'])\n",
    "    V_vy = np.array(sample['velocity_y'])\n",
    "    \n",
    "    test = px.colors.sequential.Turbo[::-1]\n",
    "    gradient_list = np.array(test)\n",
    "\n",
    "    ## 선행차량 궤적 표시\n",
    "    LV_x = np.array(sample['LV_local_x'])\n",
    "    LV_y = np.array(sample['LV_local_y'])\n",
    "\n",
    "    LV_vx = np.array(sample['LV_velocity_x'])\n",
    "    LV_vy = np.array(sample['LV_velocity_y'])\n",
    "\n",
    "\n",
    "    # 차량 사이즈\n",
    "    V_len = np.nanmax(sample[sample['veh_id'] == veh_id]['V_len'])\n",
    "    V_wid = np.nanmax(sample[sample['veh_id'] == veh_id]['V_wid'])\n",
    "    LV_len = np.nanmax(sample[sample['LV_ID'] == LV_ID]['LV_len'])\n",
    "    LV_wid = np.nanmax(sample[sample['LV_ID'] == LV_ID]['LV_wid'])\n",
    "\n",
    "    # 서브플롯 생성\n",
    "    for row in range(0, row_num):\n",
    "        globals()[f'ax_{row}_0'] = fig.add_subplot(gs[row, 0]) # row행 col열에 서브플롯 생성\n",
    "        globals()[f'ax_{row}_0'].set_xlim(25, 250) # 가로축 통일\n",
    "\n",
    "    # 첫 플롯에만 백그라운드 궤적 생성하기\n",
    "\n",
    "    globals()[f'ax_0_0'].plot(V_x, V_y, c = 'blue', linewidth = 1, alpha = 0.5)\n",
    "    globals()[f'ax_0_0'].plot(LV_x, LV_y, c = 'black', linewidth = 1, alpha = 0.5)\n",
    "\n",
    "    # globals()[f'ax_0_0'].scatter(V_x, V_y, c = 'lightgray', marker = 'o', s = scatter_size/4)\n",
    "    # globals()[f'ax_0_0'].scatter(LV_x, LV_y, c = 'lightgray', marker = '^', s = scatter_size/4)\n",
    "\n",
    "    globals()[f'ax_0_0'].axis('equal')\n",
    "    globals()[f'ax_0_0'].set_xlim(25, 250) # 가로축 통일\n",
    "    globals()[f'ax_0_0'].set_ylim(0, 30)\n",
    "    globals()[f'ax_0_0'].set_ylabel('Y (m)', size = 9)\n",
    "\n",
    "\n",
    "    # 가장 위 플롯에만 1초 간격으로 연결하기, 차량의 상대적 위치 표시하기\n",
    "\n",
    "    V_time = np.array(sample['Time'])\n",
    "    V_time_label = np.array((sample['Time'] - np.nanmin(V_time)).round(2))\n",
    "\n",
    "    time_min = math.ceil(np.nanmin(V_time_label))\n",
    "    time_max = math.floor(np.nanmax(V_time_label))\n",
    "    \n",
    "    time_list = [0.1] + list(range(1, time_max+1)) #  + [np.nanmax(V_time_label)]\n",
    "\n",
    "    for i, ikk in zip(time_list, range(len(time_list))):\n",
    "\n",
    "        # t == i일때의 인덱스 반환 \n",
    "        if len(np.where(V_time_label == i)[0]) > 0:\n",
    "            idx = np.where(V_time_label == i)[0][0]\n",
    "            #print(np.where(V_time_label == i)[0], i, idx)\n",
    "            #print(i, idx)\n",
    "            gradient = gradient_list[ikk]\n",
    "            #lobals()[f'ax_0_0'].plot([V_x[idx], LV_x[idx]], [V_y[idx], LV_y[idx]], c = gradient, linewidth = 0.5)\n",
    "\n",
    "            local_x = V_x[idx]\n",
    "            LV_local_x = LV_x[idx]\n",
    "\n",
    "            local_y = V_y[idx]\n",
    "            LV_local_y = LV_y[idx]\n",
    "\n",
    "            V_velocity_x = V_vx[idx]\n",
    "            V_velocity_y = V_vy[idx]\n",
    "\n",
    "            LV_velocity_x = LV_vx[idx]\n",
    "            LV_velocity_y = LV_vy[idx]\n",
    "            \n",
    "            \n",
    "            \n",
    "            #print(local_y, LV_local_y, local_x, LV_local_x)\n",
    "            # 차량의 상대적 위치관계를 직선으로 연결하고, t = x 를 화살표로 표시하기\n",
    "\n",
    "            if round(i)%2 == 0 : # i가 짝수이면 위에 notation\n",
    "                globals()[f'ax_0_0'].annotate(f't={round(i)}', \n",
    "                            xy = (V_x[idx], V_y[idx]), \n",
    "                            xytext = (V_x[idx]+5, V_y[idx]+15), color = gradient,\n",
    "                            arrowprops = dict(facecolor = gradient, arrowstyle = '-|>', linestyle = ':', edgecolor = gradient))\n",
    "\n",
    "                globals()[f'ax_0_0'].annotate(f'', \n",
    "                            xy = (LV_x[idx], LV_y[idx]), \n",
    "                            xytext = (V_x[idx]+7, V_y[idx]+12), color = gradient,\n",
    "                            arrowprops = dict(facecolor = gradient, arrowstyle = '-|>', linestyle = ':', edgecolor = gradient))\n",
    "\n",
    "            else: #i가 홀수이면\n",
    "                globals()[f'ax_0_0'].annotate(f't={round(i)}', \n",
    "                            xy = (V_x[idx], V_y[idx]), \n",
    "                            xytext = (V_x[idx]+13, V_y[idx]-15), color = gradient,\n",
    "                            arrowprops = dict(facecolor = gradient, arrowstyle = '-|>', linestyle = ':', edgecolor = gradient))\n",
    "\n",
    "                globals()[f'ax_0_0'].annotate(f'', \n",
    "                            xy = (LV_x[idx], LV_y[idx]), \n",
    "                            xytext = (V_x[idx]+20, V_y[idx]-12), color = gradient,\n",
    "                            arrowprops = dict(facecolor = gradient, arrowstyle = '-|>', linestyle = ':', edgecolor = gradient))\n",
    "\n",
    "\n",
    "            ## 각 t = x 점에서 차량의 위치를 선으로 그리기\n",
    "\n",
    "            #print(i, idx, V_velocity_x, LV_velocity_x)\n",
    "\n",
    "            if pd.isna(V_velocity_x) == False and pd.isna(LV_velocity_x) == False:\n",
    "                \n",
    "                r1 = patches.Rectangle((local_x-1/2*V_len, local_y-1/2*V_wid), V_len, V_wid, color = gradient, alpha = 1) # TV 위치\n",
    "                r2 = patches.Rectangle((LV_local_x-1/2*LV_len, LV_local_y-1/2*V_wid), LV_len, LV_wid, color = gradient,  alpha = 1)\n",
    "                \n",
    "                rotate_angle_1 = math.atan(V_velocity_y/V_velocity_x)\n",
    "                rotate_angle_2 = math.atan(LV_velocity_y/LV_velocity_x)\n",
    "                \n",
    "                if V_velocity_y >= 0:\n",
    "                    sign_1 = 1\n",
    "                else:\n",
    "                    sign_1 = -1\n",
    "                    \n",
    "                if LV_velocity_y >= 0:\n",
    "                    sign_2 = 1\n",
    "                else:\n",
    "                    sign_2 = -1\n",
    "                \n",
    "                t1 = mpl.transforms.Affine2D().rotate_deg(sign_1 * rotate_angle_1) + globals()[f'ax_0_0'].transData\n",
    "                r1.set_transform(t1)\n",
    "                \n",
    "                t2 = mpl.transforms.Affine2D().rotate_deg(sign_2 * rotate_angle_2) + globals()[f'ax_0_0'].transData\n",
    "                r2.set_transform(t2)\n",
    "                \n",
    "                globals()[f'ax_0_0'].add_patch(r1)\n",
    "                globals()[f'ax_0_0'].add_patch(r2)\n",
    "                \n",
    "                if local_y > LV_local_y: # 만약 TV가 LV보다 위에 있으면                \n",
    "                    globals()[f'ax_0_0'].text(local_x, local_y+3, 'V1', color = 'black', size = 8)\n",
    "                    globals()[f'ax_0_0'].text(LV_local_x, LV_local_y-7, 'V2', color = 'black', size = 8)\n",
    "                    \n",
    "                else:\n",
    "                    globals()[f'ax_0_0'].text(local_x, local_y-7, 'V1', color = 'black', size = 8)\n",
    "                    globals()[f'ax_0_0'].text(LV_local_x, LV_local_y+3, 'V2', color = 'black', size = 8)\n",
    "\n",
    "            else:\n",
    "                pass\n",
    "        \n",
    "        else:\n",
    "            pass\n",
    "\n",
    "    ## -----------------------------------------------------------------------------------------------\n",
    "\n",
    "    # 두 번째 플롯에 상대거리(D), 상충유형, LC-CF 추가하기\n",
    "    D = abs(sample['D'])\n",
    "    globals()[f'ax_1_0'].set_title(f'Distance between vehicle pair', size = 9)\n",
    "    globals()[f'ax_1_0'].scatter(V_x, D, marker = 'o', color = 'gray', s = scatter_size/4)\n",
    "    globals()[f'ax_1_0'].set_ylabel('Gap distance(m)', size = 9)\n",
    "    \n",
    "    for conftype, clr in zip(['rear_end', 'side_swipe', 'angled'], ['blue', 'red', 'orange']):\n",
    "        tick = sample[(sample['potential_conflict_type'] == conftype)]\n",
    "        tick_D = tick['D']\n",
    "        tick_x = tick['local_x']\n",
    "        globals()[f'ax_1_0'].scatter(tick_x, tick_D, marker = 'o', color = clr, s = scatter_size/4, label = conftype)\n",
    "        #globals()[f'ax_1_0'].legend(loc = 'upper right')\n",
    "    \n",
    "    #globals()[f'ax_1_0'].legend(loc = 'upper right', fontsize = 8)\n",
    "    globals()[f'ax_1_0'].set_ylim(0, np.nanmax(D)+10) # 세로축 통일\n",
    "    \n",
    "    \n",
    "    \n",
    "    ##-----------------------------------------------------------------------------------------------\n",
    "    # 세번째 플롯에 두 차량의 속도와 LC-CF를 표기하기\n",
    "    \n",
    "    globals()[f'ax_2_0'].set_title(f'Velocity of vehicle pair', size = 9)\n",
    "    \n",
    "    for LC_CF, clr in zip(['CF', 'LC'], ['blue', 'skyblue']): # LC_CF에 따라서 다른 마커모양을 적용하시오\n",
    "        tick = sample[sample['LC_CF'] == LC_CF]\n",
    "        tick_V_x = tick['local_x']\n",
    "        tick_V_v = tick['velocity_x']\n",
    "    \n",
    "        globals()[f'ax_2_0'].scatter(tick_V_x, tick_V_v, marker = 'x', color = clr, s = scatter_size/2, label = 'V1')\n",
    "        \n",
    "    for LC_CF, clr in zip(['CF', 'LC'], ['gray', 'lightgray']): # LC_CF에 따라서 다른 마커모양을 적용하시오\n",
    "        tick = sample[sample['LV_LC_CF'] == LC_CF]\n",
    "        tick_LV_x = tick['LV_local_x']\n",
    "        tick_LV_v = tick['LV_velocity_x']\n",
    "    \n",
    "        globals()[f'ax_2_0'].scatter(tick_LV_x, tick_LV_v, marker = 'o', color = clr, s = scatter_size/2, label = 'V2')\n",
    "    \n",
    "    globals()[f'ax_2_0'].set_ylim(50, 130) # 가로축 통일\n",
    "    globals()[f'ax_2_0'].set_ylabel('Speed(km/h)', size = 9)\n",
    "    \n",
    "    \n",
    "    ## ------------------------------------------------------------------------------------------------\n",
    "    # 각 SSM을 그리기 : 각 행별로\n",
    "\n",
    "    ## Time-based\n",
    "\n",
    "    for SSM, row in zip(target_SSM_list, range(0, row_num)): # Time-based 면 1행에 집어넣는다\n",
    "\n",
    "        tdx = np.where(threshold_list == SSM)[0][0]\n",
    "        threshold = threshold_list[tdx][1]\n",
    "\n",
    "        V_ssm = np.array(sample[SSM])\n",
    "        \n",
    "        if len(V_ssm[np.isnan(V_ssm) == False]) > 0: # SSM 값이 최소 1개 이상 존재하면\n",
    "\n",
    "\n",
    "            # SSM 값에 따른 색상스케일 설정\n",
    "            ## 임계값이 존재하고, 값이 0 이상이며, 임계값보다 작을수록 위험할 시\n",
    "            if SSM in ['TTC', 'T2', 'MTTC', 'ACT', 'TAdv', 'TimeGap']:\n",
    "                divnorm = colors.TwoSlopeNorm(vmin = 0, vcenter = threshold, vmax = 20)\n",
    "                globals()[f'ax_{row+3}_0'].set_title(f'[{SSM}] Threshold : {threshold}', size = 9) # , The lower the value, the higher the risk\n",
    "                #globals()[f'ax_{row+3}_0'].axhspan(0, threshold, alpha = 0.1, color = 'gray')\n",
    "\n",
    "                globals()[f'ax_{row+3}_0'].scatter(V_x, V_ssm, c = V_ssm, \n",
    "                marker = 'o', edgecolor = 'gray', linewidth = 0.5,  s = scatter_size,\n",
    "                       cmap = 'RdBu', norm = divnorm,\n",
    "                       label = 'Following Vehicle')\n",
    "                \n",
    "                globals()[f'ax_{row+3}_0'].set_ylim([0, 20])\n",
    "\n",
    "\n",
    "                # 임계값 아래인 지점에는 붉은색 X표시를 하기\n",
    "                danger_V_x = np.array(sample[sample[SSM] < threshold]['local_x'])\n",
    "                danger_V_ssm = np.array(sample[sample[SSM] < threshold][SSM])\n",
    "                \n",
    "                for dvx in danger_V_x:\n",
    "                    globals()[f'ax_{row+3}_0'].axvspan(dvx-0.5, dvx+0.5, color = 'red', alpha = 0.1)\n",
    "                    \n",
    "                globals()[f'ax_{row+3}_0'].scatter(danger_V_x, danger_V_ssm, marker = 'x', c = danger_V_ssm, cmap = 'RdBu', norm = divnorm, s = 20, label = 'Danger')\n",
    "                \n",
    "                \n",
    "            elif SSM in ['PSD']:\n",
    "                divnorm = colors.TwoSlopeNorm(vmin = 0, vcenter = threshold, vmax = 2)\n",
    "                globals()[f'ax_{row+3}_0'].set_title(f'[{SSM}] Threshold : {threshold}', size = 9) # , The lower the value, the higher the risk\n",
    "                #globals()[f'ax_{row+3}_0'].axhspan(0, threshold, alpha = 0.1, color = 'gray')\n",
    "\n",
    "                globals()[f'ax_{row+3}_0'].scatter(V_x, V_ssm, c = V_ssm, \n",
    "                marker = 'o', edgecolor = 'gray', linewidth = 0.5,  s = scatter_size,\n",
    "                       cmap = 'RdBu', norm = divnorm,\n",
    "                       label = 'Following Vehicle')\n",
    "                \n",
    "                globals()[f'ax_{row+3}_0'].set_ylim([0, 2])\n",
    "\n",
    "\n",
    "                # 임계값 아래인 지점에는 붉은색 X표시를 하기\n",
    "                danger_V_x = np.array(sample[sample[SSM] < threshold]['local_x'])\n",
    "                danger_V_ssm = np.array(sample[sample[SSM] < threshold][SSM])\n",
    "                \n",
    "                for dvx in danger_V_x:\n",
    "                    globals()[f'ax_{row+3}_0'].axvspan(dvx-0.5, dvx+0.5, color = 'red', alpha = 0.1)\n",
    "                    \n",
    "                globals()[f'ax_{row+3}_0'].scatter(danger_V_x, danger_V_ssm, marker = 'x', c = danger_V_ssm, cmap = 'RdBu', norm = divnorm, s = 20, label = 'Danger')\n",
    "                \n",
    "\n",
    "            ## 임계값이 있고, 바닥이 없으며, 임계값보다 작을수록 위험할 시\n",
    "            elif SSM in ['PICUD', 'DSS', 'MTC', 'MMTC', 'unsafety']:\n",
    "                divnorm = colors.TwoSlopeNorm(vmin = np.nanmin([-1, np.nanmin(V_ssm)]), vcenter = threshold, vmax = np.nanmax([2, np.nanmax(V_ssm)]))\n",
    "                globals()[f'ax_{row+3}_0'].set_title(f'[{SSM}] Threshold : {threshold}', size = 9) # , The lower the value, the higher the risk\n",
    "                #globals()[f'ax_{row+3}_0'].axhspan(threshold, np.min([-1, np.nanmin(V_ssm)]), alpha = 0.1, color = 'gray')\n",
    "\n",
    "                globals()[f'ax_{row+3}_0'].scatter(V_x, V_ssm, c = V_ssm, \n",
    "                marker = 'o', edgecolor = 'gray', linewidth = 0.5,  s = scatter_size,\n",
    "                       cmap = 'RdBu', norm = divnorm,\n",
    "                       label = 'Following Vehicle')\n",
    "\n",
    "                    \n",
    "                # 임계값 아래인 지점에는 붉은색 X표시를 하기\n",
    "                danger_V_x = np.array(sample[sample[SSM] < threshold]['local_x'])\n",
    "                danger_V_ssm = np.array(sample[sample[SSM] < threshold][SSM])\n",
    "                \n",
    "                for dvx in danger_V_x:\n",
    "                    globals()[f'ax_{row+3}_0'].axvspan(dvx-0.5, dvx+0.5, color = 'red', alpha = 0.1)                \n",
    "\n",
    "                globals()[f'ax_{row+3}_0'].scatter(danger_V_x, danger_V_ssm, marker = 'x', c = danger_V_ssm, cmap = 'RdBu', norm = divnorm, s = 20, label = 'Danger')\n",
    "                \n",
    "\n",
    "            ## 임계값이 있고, 이보다 클수록 위험할 경우\n",
    "            elif SSM in ['DRAC', 'MDRAC', 'DCIA']:\n",
    "                divnorm = colors.TwoSlopeNorm(vmin = np.nanmin([0, np.nanmin(V_ssm)]), vcenter = threshold, vmax = threshold + 5)\n",
    "                globals()[f'ax_{row+3}_0'].set_title(f'[{SSM}] Threshold : {threshold}', size = 9) #, The higher the value, the higher the risk'\n",
    "                #globals()[f'ax_{row+3}_0'].axhspan(threshold, np.nanmax([np.nanmax(V_ssm), 5]), alpha = 0.1, color = 'gray')\n",
    "\n",
    "                globals()[f'ax_{row+3}_0'].scatter(V_x, V_ssm, c = V_ssm, \n",
    "                marker = 'o', edgecolor = 'gray', linewidth = 0.5,  s = scatter_size,\n",
    "                       cmap = 'coolwarm', norm = divnorm,\n",
    "                       label = 'Following Vehicle')\n",
    "\n",
    "                    \n",
    "                # 임계값 위인 지점에는 붉은색 X표시를 하기\n",
    "                danger_V_x = np.array(sample[sample[SSM] > threshold]['local_x'])\n",
    "                danger_V_ssm = np.array(sample[sample[SSM] > threshold][SSM])\n",
    "                \n",
    "                for dvx in danger_V_x:\n",
    "                    globals()[f'ax_{row+3}_0'].axvspan(dvx-0.5, dvx+0.5, color = 'red', alpha = 0.1)    \n",
    "                    \n",
    "                globals()[f'ax_{row+3}_0'].scatter(danger_V_x, danger_V_ssm, marker = 'x', c = danger_V_ssm, cmap = 'coolwarm', norm = divnorm, s = 20, label = 'Danger')\n",
    "\n",
    "\n",
    "            ## 그 외\n",
    "            else:\n",
    "                divnorm = colors.TwoSlopeNorm(vmin = np.nanmin([0, np.nanmin(V_ssm)]), vcenter = threshold, vmax = threshold + 5)\n",
    "\n",
    "                globals()[f'ax_{row+3}_0'].scatter(V_x, V_ssm, c = V_ssm, \n",
    "                marker = 'o', edgecolor = 'gray', linewidth = 0.5,  s = scatter_size,\n",
    "                       cmap = 'turbo', norm = divnorm,\n",
    "                       label = 'Following Vehicle')\n",
    "\n",
    "\n",
    "            # 플롯에 축 설정\n",
    "            globals()[f'ax_{row+3}_0'].set_ylabel(SSM, size = 8)\n",
    "\n",
    "            # 플롯에 임계값을 가로선으로 그려준다\n",
    "            globals()[f'ax_{row+3}_0'].axhline(y = threshold, color = 'red', linestyle = '--', linewidth = 0.5, label = f'Threshold = {threshold}')\n",
    "            #globals()[f'ax_{row+1}_0'].text(30, np.nanmean([np.nanmin([0, np.nanmin(V_ssm)]), np.nanmax(V_ssm)]), f'Threshold : {threshold}', color = 'red', size = 8)\n",
    "            \n",
    "            #globals()[f'ax_{row+1}_0'].legend([], [f'Threshold : {threshold}'],loc = 'upper right', fontsize = 8)\n",
    "            \n",
    "        else: # SSM 값이 하나도 없으면\n",
    "            globals()[f'ax_{row+3}_0'].set_title(f'[{SSM}] Threshold : {threshold}', size = 9) #, The higher the value, the higher the risk'\n",
    "            globals()[f'ax_{row+3}_0'].set_ylabel(SSM, size = 8)\n",
    "            globals()[f'ax_{row+3}_0'].text(130, 0.4, 'None', color = 'black', size = 8)\n",
    "\n",
    "\n",
    "    # 가장 아래에 X(m) 라고 거리 표시\n",
    "    globals()[f'ax_{row_num-1}_0'].set_xlabel('X (m)', size = 9)\n",
    "    \n",
    "    \n",
    "    \n",
    "    ## ----------------------------------------------------------------------\n",
    "    #이미지 저장하기\n",
    "    \n",
    "    save_file = f'merging_{veh_id}_{LV_ID}_{title}.png'\n",
    "    save_folder = 'Dataset/04_graph'\n",
    "    save_path = os.path.join(working_dir, save_folder, save_file)\n",
    "    \n",
    "    plt.savefig(save_path, dpi = 300)"
   ]
  },
  {
   "cell_type": "code",
   "execution_count": null,
   "id": "443be10b-8339-45d6-82c0-5f76673a1b74",
   "metadata": {
    "execution": {
     "iopub.status.busy": "2023-12-02T07:53:55.023014Z",
     "iopub.status.idle": "2023-12-02T07:53:55.023014Z",
     "shell.execute_reply": "2023-12-02T07:53:55.023014Z",
     "shell.execute_reply.started": "2023-12-02T07:53:55.023014Z"
    }
   },
   "outputs": [],
   "source": [
    "sample.to_csv('test.csv')"
   ]
  },
  {
   "cell_type": "code",
   "execution_count": null,
   "id": "bc3e3e49-7431-4fa5-96e8-b3865e22285a",
   "metadata": {
    "execution": {
     "iopub.status.busy": "2023-12-02T07:53:55.024011Z",
     "iopub.status.idle": "2023-12-02T07:53:55.024011Z",
     "shell.execute_reply": "2023-12-02T07:53:55.024011Z",
     "shell.execute_reply.started": "2023-12-02T07:53:55.024011Z"
    }
   },
   "outputs": [],
   "source": [
    "len(df)"
   ]
  }
 ],
 "metadata": {
  "kernelspec": {
   "display_name": "Python 3 (ipykernel)",
   "language": "python",
   "name": "python3"
  },
  "language_info": {
   "codemirror_mode": {
    "name": "ipython",
    "version": 3
   },
   "file_extension": ".py",
   "mimetype": "text/x-python",
   "name": "python",
   "nbconvert_exporter": "python",
   "pygments_lexer": "ipython3",
   "version": "3.11.6"
  }
 },
 "nbformat": 4,
 "nbformat_minor": 5
}
