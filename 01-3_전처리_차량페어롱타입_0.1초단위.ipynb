{
 "cells": [
  {
   "cell_type": "markdown",
   "id": "86671937-3fc4-491a-8b3d-e230d658229a",
   "metadata": {},
   "source": [
    "# Longtype\n",
    "* 차량 쌍(TV, LV) 기준으로 정리하기\n",
    "* 왜냐하면, 각 쌍별로 SSM이 계산되기 때문임"
   ]
  },
  {
   "cell_type": "markdown",
   "id": "7296ec39-7aba-465c-b204-22e70c86aaf3",
   "metadata": {},
   "source": [
    "# Import"
   ]
  },
  {
   "cell_type": "code",
   "execution_count": 2,
   "id": "617b939a-52ee-4b0b-aca0-e4281b4478d0",
   "metadata": {
    "execution": {
     "iopub.execute_input": "2023-12-01T00:38:52.841206Z",
     "iopub.status.busy": "2023-12-01T00:38:52.841206Z",
     "iopub.status.idle": "2023-12-01T00:38:55.195702Z",
     "shell.execute_reply": "2023-12-01T00:38:55.195702Z",
     "shell.execute_reply.started": "2023-12-01T00:38:52.841206Z"
    },
    "tags": []
   },
   "outputs": [],
   "source": [
    "import pandas as pd\n",
    "import numpy as np\n",
    "\n",
    "from tqdm import tqdm\n",
    "import warnings\n",
    "import os\n",
    "\n",
    "from scipy import stats # Z-score를 이용한 이상값 제거\n",
    "\n",
    "import math # arctangent; math.atan 사용 목적\n",
    "import statistics\n",
    "\n",
    "import pyarrow.parquet as pq"
   ]
  },
  {
   "cell_type": "markdown",
   "id": "b3d84bf7-ac0f-456a-9650-c0b846280279",
   "metadata": {},
   "source": [
    "# Load Dataset"
   ]
  },
  {
   "cell_type": "code",
   "execution_count": 3,
   "id": "025f8acc-6100-48d1-89e7-5a7d87c9512a",
   "metadata": {
    "execution": {
     "iopub.execute_input": "2023-12-01T00:38:55.197697Z",
     "iopub.status.busy": "2023-12-01T00:38:55.197697Z",
     "iopub.status.idle": "2023-12-01T00:38:55.211992Z",
     "shell.execute_reply": "2023-12-01T00:38:55.210963Z",
     "shell.execute_reply.started": "2023-12-01T00:38:55.197697Z"
    },
    "tags": []
   },
   "outputs": [],
   "source": [
    "working_dir = 'D:/OneDrive/Projects/2023_SSM_Feasibility/Dataset'"
   ]
  },
  {
   "cell_type": "code",
   "execution_count": 4,
   "id": "62b2f8e8-ebe2-478b-b9d7-26ce8addf72b",
   "metadata": {
    "execution": {
     "iopub.execute_input": "2023-12-01T00:38:55.213955Z",
     "iopub.status.busy": "2023-12-01T00:38:55.212991Z",
     "iopub.status.idle": "2023-12-01T00:38:55.226922Z",
     "shell.execute_reply": "2023-12-01T00:38:55.225923Z",
     "shell.execute_reply.started": "2023-12-01T00:38:55.213955Z"
    },
    "tags": []
   },
   "outputs": [],
   "source": [
    "data_folder = '02_processed'\n",
    "data_name = 'LV_merging_type1_03frm_0.10sec.parquet'\n",
    "data_path = os.path.join(working_dir, data_folder, data_name)"
   ]
  },
  {
   "cell_type": "code",
   "execution_count": 5,
   "id": "b14ad73e-a5d5-4511-9953-071232f04b34",
   "metadata": {
    "execution": {
     "iopub.execute_input": "2023-12-01T00:38:55.227918Z",
     "iopub.status.busy": "2023-12-01T00:38:55.227918Z",
     "iopub.status.idle": "2023-12-01T00:38:55.572666Z",
     "shell.execute_reply": "2023-12-01T00:38:55.569671Z",
     "shell.execute_reply.started": "2023-12-01T00:38:55.227918Z"
    },
    "tags": []
   },
   "outputs": [],
   "source": [
    "df_1 = pq.read_pandas(data_path).to_pandas()\n",
    "df_1.rename({'Vehicle ID' : 'veh_id', 'frame' : 'frm',\n",
    "             'Local X (m)_before' : 'local_x_before',\n",
    "             'Local Y(m)_before' : 'local_y_before',\n",
    "             'Lane Identification' : 'lane',\n",
    "             'Lane Identification Past' : 'lane_past',\n",
    "             'LV0_lane_record' : 'LV0_lane_record', \n",
    "             'LV0_lane_record_split' : 'LV0_Lane_record_split',\n",
    "             'LV0_lane_change_direction' : 'LV0_Lane_change_direction',\n",
    "             'LVL_lane_record' : 'LVL_Lane_record',\n",
    "             'LVL_lane_record_split' : 'LVL_Lane_record_split',\n",
    "             'LVL_lane_change_direction' : 'LVL_Lane_change_direction',\n",
    "             'LVR_lane_record' : 'LVR_Lane_record',\n",
    "             'LVR_lane_record_split' : 'LVR_Lane_record_split',\n",
    "             'LVR_lane_change_direction' : 'LVR_Lane_change_direction',\n",
    "            }, axis = 1, inplace = True)"
   ]
  },
  {
   "cell_type": "code",
   "execution_count": 6,
   "id": "26f65374-eb88-4a17-b912-8cc17299a1ab",
   "metadata": {
    "execution": {
     "iopub.execute_input": "2023-12-01T00:38:55.578645Z",
     "iopub.status.busy": "2023-12-01T00:38:55.578645Z",
     "iopub.status.idle": "2023-12-01T00:38:55.617185Z",
     "shell.execute_reply": "2023-12-01T00:38:55.616185Z",
     "shell.execute_reply.started": "2023-12-01T00:38:55.578645Z"
    },
    "tags": []
   },
   "outputs": [
    {
     "data": {
      "text/html": [
       "<div>\n",
       "<style scoped>\n",
       "    .dataframe tbody tr th:only-of-type {\n",
       "        vertical-align: middle;\n",
       "    }\n",
       "\n",
       "    .dataframe tbody tr th {\n",
       "        vertical-align: top;\n",
       "    }\n",
       "\n",
       "    .dataframe thead th {\n",
       "        text-align: right;\n",
       "    }\n",
       "</style>\n",
       "<table border=\"1\" class=\"dataframe\">\n",
       "  <thead>\n",
       "    <tr style=\"text-align: right;\">\n",
       "      <th></th>\n",
       "      <th>veh_id</th>\n",
       "      <th>frm</th>\n",
       "      <th>Total Frames</th>\n",
       "      <th>Global Time (Epoch Time)</th>\n",
       "      <th>local_x</th>\n",
       "      <th>local_y</th>\n",
       "      <th>V_len</th>\n",
       "      <th>V_wid</th>\n",
       "      <th>Vehicle Class</th>\n",
       "      <th>velocity</th>\n",
       "      <th>...</th>\n",
       "      <th>LVR_delta_velocity_y</th>\n",
       "      <th>LVR_acc_x</th>\n",
       "      <th>LVR_acc_y</th>\n",
       "      <th>LVR_Lane_record</th>\n",
       "      <th>LVR_Lane_record_split</th>\n",
       "      <th>LVR_Lane_change_direction</th>\n",
       "      <th>LV0_D</th>\n",
       "      <th>LVL_D</th>\n",
       "      <th>LVR_D</th>\n",
       "      <th>LC_CF</th>\n",
       "    </tr>\n",
       "    <tr>\n",
       "      <th>index</th>\n",
       "      <th></th>\n",
       "      <th></th>\n",
       "      <th></th>\n",
       "      <th></th>\n",
       "      <th></th>\n",
       "      <th></th>\n",
       "      <th></th>\n",
       "      <th></th>\n",
       "      <th></th>\n",
       "      <th></th>\n",
       "      <th></th>\n",
       "      <th></th>\n",
       "      <th></th>\n",
       "      <th></th>\n",
       "      <th></th>\n",
       "      <th></th>\n",
       "      <th></th>\n",
       "      <th></th>\n",
       "      <th></th>\n",
       "      <th></th>\n",
       "      <th></th>\n",
       "    </tr>\n",
       "  </thead>\n",
       "  <tbody>\n",
       "    <tr>\n",
       "      <th>0</th>\n",
       "      <td>1</td>\n",
       "      <td>339</td>\n",
       "      <td>39</td>\n",
       "      <td>46811300</td>\n",
       "      <td>51.06250</td>\n",
       "      <td>10.617188</td>\n",
       "      <td>5.289062</td>\n",
       "      <td>2.193359</td>\n",
       "      <td>2</td>\n",
       "      <td>87.6250</td>\n",
       "      <td>...</td>\n",
       "      <td>NaN</td>\n",
       "      <td>NaN</td>\n",
       "      <td>NaN</td>\n",
       "      <td>None</td>\n",
       "      <td>None</td>\n",
       "      <td>None</td>\n",
       "      <td>NaN</td>\n",
       "      <td>NaN</td>\n",
       "      <td>NaN</td>\n",
       "      <td>CF</td>\n",
       "    </tr>\n",
       "    <tr>\n",
       "      <th>1</th>\n",
       "      <td>1</td>\n",
       "      <td>342</td>\n",
       "      <td>42</td>\n",
       "      <td>46811400</td>\n",
       "      <td>53.53125</td>\n",
       "      <td>10.640625</td>\n",
       "      <td>5.289062</td>\n",
       "      <td>2.193359</td>\n",
       "      <td>2</td>\n",
       "      <td>89.0625</td>\n",
       "      <td>...</td>\n",
       "      <td>NaN</td>\n",
       "      <td>NaN</td>\n",
       "      <td>NaN</td>\n",
       "      <td>None</td>\n",
       "      <td>None</td>\n",
       "      <td>None</td>\n",
       "      <td>NaN</td>\n",
       "      <td>NaN</td>\n",
       "      <td>NaN</td>\n",
       "      <td>CF</td>\n",
       "    </tr>\n",
       "    <tr>\n",
       "      <th>2</th>\n",
       "      <td>1</td>\n",
       "      <td>345</td>\n",
       "      <td>45</td>\n",
       "      <td>46811500</td>\n",
       "      <td>56.00000</td>\n",
       "      <td>10.648438</td>\n",
       "      <td>5.289062</td>\n",
       "      <td>2.193359</td>\n",
       "      <td>2</td>\n",
       "      <td>88.2500</td>\n",
       "      <td>...</td>\n",
       "      <td>NaN</td>\n",
       "      <td>NaN</td>\n",
       "      <td>NaN</td>\n",
       "      <td>None</td>\n",
       "      <td>None</td>\n",
       "      <td>None</td>\n",
       "      <td>NaN</td>\n",
       "      <td>NaN</td>\n",
       "      <td>NaN</td>\n",
       "      <td>CF</td>\n",
       "    </tr>\n",
       "  </tbody>\n",
       "</table>\n",
       "<p>3 rows × 144 columns</p>\n",
       "</div>"
      ],
      "text/plain": [
       "       veh_id  frm  Total Frames  Global Time (Epoch Time)   local_x  \\\n",
       "index                                                                  \n",
       "0           1  339            39                  46811300  51.06250   \n",
       "1           1  342            42                  46811400  53.53125   \n",
       "2           1  345            45                  46811500  56.00000   \n",
       "\n",
       "         local_y     V_len     V_wid  Vehicle Class  velocity  ...  \\\n",
       "index                                                          ...   \n",
       "0      10.617188  5.289062  2.193359              2   87.6250  ...   \n",
       "1      10.640625  5.289062  2.193359              2   89.0625  ...   \n",
       "2      10.648438  5.289062  2.193359              2   88.2500  ...   \n",
       "\n",
       "       LVR_delta_velocity_y LVR_acc_x  LVR_acc_y  LVR_Lane_record  \\\n",
       "index                                                               \n",
       "0                       NaN       NaN        NaN             None   \n",
       "1                       NaN       NaN        NaN             None   \n",
       "2                       NaN       NaN        NaN             None   \n",
       "\n",
       "       LVR_Lane_record_split  LVR_Lane_change_direction  LV0_D  LVL_D LVR_D  \\\n",
       "index                                                                         \n",
       "0                       None                       None    NaN    NaN   NaN   \n",
       "1                       None                       None    NaN    NaN   NaN   \n",
       "2                       None                       None    NaN    NaN   NaN   \n",
       "\n",
       "       LC_CF  \n",
       "index         \n",
       "0         CF  \n",
       "1         CF  \n",
       "2         CF  \n",
       "\n",
       "[3 rows x 144 columns]"
      ]
     },
     "execution_count": 6,
     "metadata": {},
     "output_type": "execute_result"
    }
   ],
   "source": [
    "df_1.head(3)"
   ]
  },
  {
   "cell_type": "markdown",
   "id": "62754c00-6a9a-4ecb-b418-ed12bb386465",
   "metadata": {},
   "source": [
    "# Longtype\n",
    "* pairs 리스트의 튜플(TV, LV)에 따라서 각 차량의 위치, 속도, 가속도 등을 df로부터 프레임별로 뽑아오기"
   ]
  },
  {
   "cell_type": "code",
   "execution_count": 7,
   "id": "8c7a7248-1f35-4085-97d8-3aeaab0f7b94",
   "metadata": {
    "execution": {
     "iopub.execute_input": "2023-12-01T00:38:55.618182Z",
     "iopub.status.busy": "2023-12-01T00:38:55.617185Z",
     "iopub.status.idle": "2023-12-01T00:38:55.663859Z",
     "shell.execute_reply": "2023-12-01T00:38:55.663859Z",
     "shell.execute_reply.started": "2023-12-01T00:38:55.618182Z"
    },
    "tags": []
   },
   "outputs": [
    {
     "name": "stderr",
     "output_type": "stream",
     "text": [
      "1it [00:00, 67.74it/s]\n"
     ]
    }
   ],
   "source": [
    "for df, i in tqdm(zip([df_1], [1])):\n",
    "\n",
    "    df_LV0 = df[['veh_id', 'LV0_ID', 'frm']].copy()\n",
    "    df_LV0 = df_LV0.rename({'LV0_ID' : 'LV_ID'}, axis = 1)\n",
    "    df_LV0['LV_type'] = 'LV0'\n",
    "    \n",
    "    df_LVL = df[['veh_id', 'LVL_ID', 'frm']].copy()\n",
    "    df_LVL = df_LVL.rename({'LVL_ID' : 'LV_ID'}, axis = 1)\n",
    "    df_LVL['LV_type'] = 'LVL'\n",
    "\n",
    "    df_LVR = df[['veh_id', 'LVR_ID', 'frm']].copy()\n",
    "    df_LVR = df_LVR.rename({'LVR_ID' : 'LV_ID'}, axis = 1)\n",
    "    df_LVR['LV_type'] = 'LVR'\n",
    "    \n",
    "    total_long = pd.concat([df_LV0, df_LVL, df_LVR])\n",
    "    \n",
    "    # LV_ID가 0인 것은 제거한다\n",
    "    total_long = total_long[(total_long['LV_ID'] != 0) & (pd.isna(total_long['LV_ID']) == False)]\n",
    "    total_long['LV_ID'] = total_long['LV_ID'].astype('int')\n",
    "    total_long.reset_index(inplace = True, drop = True)\n",
    "    \n",
    "    globals()[f'long_{i}'] = total_long"
   ]
  },
  {
   "cell_type": "code",
   "execution_count": 8,
   "id": "877d2b36-a4f8-486b-8b35-373cad7a8262",
   "metadata": {
    "execution": {
     "iopub.execute_input": "2023-12-01T00:38:55.664865Z",
     "iopub.status.busy": "2023-12-01T00:38:55.664865Z",
     "iopub.status.idle": "2023-12-01T00:38:55.695538Z",
     "shell.execute_reply": "2023-12-01T00:38:55.695538Z",
     "shell.execute_reply.started": "2023-12-01T00:38:55.664865Z"
    },
    "tags": []
   },
   "outputs": [],
   "source": [
    "veh_pair = long_1[['veh_id', 'LV_ID']].drop_duplicates()"
   ]
  },
  {
   "cell_type": "code",
   "execution_count": 9,
   "id": "2484eab5-7d2f-4654-9740-285737f82d21",
   "metadata": {
    "execution": {
     "iopub.execute_input": "2023-12-01T00:38:55.696535Z",
     "iopub.status.busy": "2023-12-01T00:38:55.696535Z",
     "iopub.status.idle": "2023-12-01T00:38:55.711355Z",
     "shell.execute_reply": "2023-12-01T00:38:55.711355Z",
     "shell.execute_reply.started": "2023-12-01T00:38:55.696535Z"
    }
   },
   "outputs": [
    {
     "data": {
      "text/html": [
       "<div>\n",
       "<style scoped>\n",
       "    .dataframe tbody tr th:only-of-type {\n",
       "        vertical-align: middle;\n",
       "    }\n",
       "\n",
       "    .dataframe tbody tr th {\n",
       "        vertical-align: top;\n",
       "    }\n",
       "\n",
       "    .dataframe thead th {\n",
       "        text-align: right;\n",
       "    }\n",
       "</style>\n",
       "<table border=\"1\" class=\"dataframe\">\n",
       "  <thead>\n",
       "    <tr style=\"text-align: right;\">\n",
       "      <th></th>\n",
       "      <th>veh_id</th>\n",
       "      <th>LV_ID</th>\n",
       "    </tr>\n",
       "  </thead>\n",
       "  <tbody>\n",
       "    <tr>\n",
       "      <th>0</th>\n",
       "      <td>2</td>\n",
       "      <td>1</td>\n",
       "    </tr>\n",
       "    <tr>\n",
       "      <th>13</th>\n",
       "      <td>4</td>\n",
       "      <td>2</td>\n",
       "    </tr>\n",
       "    <tr>\n",
       "      <th>25</th>\n",
       "      <td>5</td>\n",
       "      <td>4</td>\n",
       "    </tr>\n",
       "    <tr>\n",
       "      <th>84</th>\n",
       "      <td>8</td>\n",
       "      <td>2</td>\n",
       "    </tr>\n",
       "    <tr>\n",
       "      <th>102</th>\n",
       "      <td>10</td>\n",
       "      <td>6</td>\n",
       "    </tr>\n",
       "    <tr>\n",
       "      <th>...</th>\n",
       "      <td>...</td>\n",
       "      <td>...</td>\n",
       "    </tr>\n",
       "    <tr>\n",
       "      <th>65251</th>\n",
       "      <td>1616</td>\n",
       "      <td>1614</td>\n",
       "    </tr>\n",
       "    <tr>\n",
       "      <th>65299</th>\n",
       "      <td>1618</td>\n",
       "      <td>1617</td>\n",
       "    </tr>\n",
       "    <tr>\n",
       "      <th>65326</th>\n",
       "      <td>1618</td>\n",
       "      <td>1620</td>\n",
       "    </tr>\n",
       "    <tr>\n",
       "      <th>65373</th>\n",
       "      <td>1626</td>\n",
       "      <td>1629</td>\n",
       "    </tr>\n",
       "    <tr>\n",
       "      <th>65374</th>\n",
       "      <td>1631</td>\n",
       "      <td>1629</td>\n",
       "    </tr>\n",
       "  </tbody>\n",
       "</table>\n",
       "<p>2005 rows × 2 columns</p>\n",
       "</div>"
      ],
      "text/plain": [
       "       veh_id  LV_ID\n",
       "0           2      1\n",
       "13          4      2\n",
       "25          5      4\n",
       "84          8      2\n",
       "102        10      6\n",
       "...       ...    ...\n",
       "65251    1616   1614\n",
       "65299    1618   1617\n",
       "65326    1618   1620\n",
       "65373    1626   1629\n",
       "65374    1631   1629\n",
       "\n",
       "[2005 rows x 2 columns]"
      ]
     },
     "execution_count": 9,
     "metadata": {},
     "output_type": "execute_result"
    }
   ],
   "source": [
    "veh_pair"
   ]
  },
  {
   "cell_type": "code",
   "execution_count": 12,
   "id": "48f796f0-a70d-4074-99fc-0b537ecd8abd",
   "metadata": {
    "execution": {
     "iopub.execute_input": "2023-12-01T00:39:00.005874Z",
     "iopub.status.busy": "2023-12-01T00:39:00.005874Z",
     "iopub.status.idle": "2023-12-01T00:39:00.020885Z",
     "shell.execute_reply": "2023-12-01T00:39:00.020885Z",
     "shell.execute_reply.started": "2023-12-01T00:39:00.005874Z"
    }
   },
   "outputs": [],
   "source": [
    "def make_int(x):\n",
    "    if pd.isna(x) == False:\n",
    "        return int(x)\n",
    "\n",
    "    else:\n",
    "        return None"
   ]
  },
  {
   "cell_type": "code",
   "execution_count": 27,
   "id": "f65c5b35-c1c2-4152-903d-37cb1d7cc8a2",
   "metadata": {
    "execution": {
     "iopub.execute_input": "2023-12-01T00:48:02.929189Z",
     "iopub.status.busy": "2023-12-01T00:48:02.929189Z",
     "iopub.status.idle": "2023-12-01T00:48:02.947142Z",
     "shell.execute_reply": "2023-12-01T00:48:02.946144Z",
     "shell.execute_reply.started": "2023-12-01T00:48:02.929189Z"
    }
   },
   "outputs": [],
   "source": [
    "def RL0(lane, LV_lane):\n",
    "    if pd.isna(lane) == False and pd.isna(LV_lane) == False:\n",
    "        lane_num = int(lane[1:])\n",
    "        LV_lane_num = int(LV_lane[1:])\n",
    "\n",
    "        if lane_num == LV_lane_num:\n",
    "            type_LV = 'LV0'\n",
    "            \n",
    "        elif lane_num < LV_lane_num:\n",
    "            type_LV = 'LVR'\n",
    "            \n",
    "        elif lane_num > LV_lane_num:\n",
    "            type_LV = 'LVL'\n",
    "\n",
    "        else:\n",
    "            type_LV = None\n",
    "\n",
    "    else:\n",
    "        type_LV = None\n",
    "\n",
    "    return type_LV"
   ]
  },
  {
   "cell_type": "code",
   "execution_count": 28,
   "id": "e6cedf0d-d63e-4ede-88a8-e6de9ad8313d",
   "metadata": {
    "execution": {
     "iopub.execute_input": "2023-12-01T00:48:08.481595Z",
     "iopub.status.busy": "2023-12-01T00:48:08.481595Z",
     "iopub.status.idle": "2023-12-01T00:49:11.319475Z",
     "shell.execute_reply": "2023-12-01T00:49:11.318477Z",
     "shell.execute_reply.started": "2023-12-01T00:48:08.481595Z"
    },
    "tags": []
   },
   "outputs": [
    {
     "name": "stderr",
     "output_type": "stream",
     "text": [
      "100%|██████████████████████████████████████████████████████████████████████████████| 2005/2005 [00:59<00:00, 33.55it/s]\n"
     ]
    }
   ],
   "source": [
    "warnings.filterwarnings('ignore')\n",
    "\n",
    "target_df_cols = ['local_x', 'local_y', 'V_len', 'V_wid', 'velocity', 'acc', 'lane', 'Time',\n",
    "                  'local_x_before', 'local_y_before', 'delta_local_x', 'delta_local_y',\n",
    "                  'velocity_x', 'velocity_y', 'velocity_x_before', 'velocity_y_before', 'delta_velocity_x', 'delta_velocity_y',\n",
    "                  'acc_x', 'acc_y', 'lane_past', 'Lane_record', 'Lane_record_split', 'Lane_00', 'Lane_99',\n",
    "                  'Lane_change', 'Lane_leave', 'Lane_change_direction', 'LC_CF']\n",
    "\n",
    "column_order = ['pair', 'veh_id', 'LV_ID', 'frm', 'LV_type', 'local_x', 'local_y', 'V_len', 'V_wid', 'velocity',\n",
    "       'acc', 'lane', 'Time', 'local_x_before', 'local_y_before',\n",
    "       'delta_local_x', 'delta_local_y', 'velocity_x', 'velocity_y',\n",
    "       'velocity_x_before', 'velocity_y_before', 'delta_velocity_x',\n",
    "       'delta_velocity_y', 'acc_x', 'acc_y', 'lane_past', 'Lane_record',\n",
    "       'Lane_record_split', 'Lane_00', 'Lane_99', 'Lane_change', 'Lane_leave',\n",
    "       'Lane_change_direction', 'LC_CF', 'LV_local_x',\n",
    "       'LV_local_y', 'LV_len', 'LV_wid', 'LV_velocity', 'LV_acc', 'LV_lane',\n",
    "       'LV_Time', 'LV_local_x_before', 'LV_local_y_before', 'LV_delta_local_x',\n",
    "       'LV_delta_local_y', 'LV_velocity_x', 'LV_velocity_y',\n",
    "       'LV_velocity_x_before', 'LV_velocity_y_before', 'LV_delta_velocity_x',\n",
    "       'LV_delta_velocity_y', 'LV_acc_x', 'LV_acc_y', 'LV_lane_past',\n",
    "       'LV_Lane_record', 'LV_Lane_record_split', 'LV_Lane_00', 'LV_Lane_99',\n",
    "       'LV_Lane_change', 'LV_Lane_leave', 'LV_Lane_change_direction',\n",
    "       'LV_LC_CF', 'D_x', 'D_y', 'D', 'D_gap']\n",
    "\n",
    "save_folder = '02_processed_long'\n",
    "save_files = ['merging_type1_03frm_0.10sec.parquet']\n",
    "\n",
    "\n",
    "for long, i in zip([long_1], [1]):\n",
    "\n",
    "    # 레퍼런스 데이터프레임\n",
    "    reference_df = globals()[f'df_{i}'][['veh_id', 'frm'] + target_df_cols].copy() # Merge의 reference가 될 데이터프레임\n",
    "    veh_list = list(reference_df['veh_id'].unique())\n",
    "\n",
    "    long_tot = pd.DataFrame()\n",
    "    \n",
    "    for i in tqdm(range(len(veh_pair))): # 각 차량에 대하여\n",
    "        row = veh_pair.iloc[i] # 차량 쌍\n",
    "        veh_id = row['veh_id']\n",
    "        LV_ID = row['LV_ID']\n",
    "        #LV_type = row['LV_type'] #> 안됨! LV_type은 나중에 매겨주어야 한다.\n",
    "\n",
    "        veh_TV = reference_df[reference_df['veh_id'] == veh_id].copy()\n",
    "        veh_LV = reference_df[reference_df['veh_id'] == LV_ID].copy()\n",
    "\n",
    "        # LV 데이터프레임 컬럼이름을 적절하게 변경\n",
    "        for col in target_df_cols:\n",
    "            veh_LV = veh_LV.rename({col : 'LV_'+col}, axis = 1)\n",
    "\n",
    "        veh_TV['LV_ID'] = LV_ID\n",
    "        #veh_TV['LV_type'] #> 안됨! LV_type은 나중에 매겨주어야 한다.\n",
    "        veh_tot = pd.merge(veh_TV, veh_LV, how = 'left', left_on = ['LV_ID', 'frm'], right_on = ['veh_id', 'frm']).rename({'veh_id_x' : 'veh_id'}, axis = 1).drop(['veh_id_y'], axis = 1)\n",
    "        veh_tot['pair'] = str(veh_id) + '_' + str(LV_ID)\n",
    "\n",
    "        # LV_type 매기기\n",
    "        veh_tot['LV_type'] = veh_tot.apply(lambda row: RL0(row['lane'], row['LV_lane']), axis = 1)\n",
    "\n",
    "        long_tot = pd.concat([long_tot, veh_tot])\n",
    "\n",
    "    long_tot = long_tot.reset_index(drop = True).sort_values(by = ['veh_id', 'LV_ID', 'frm']).rename({'LV_V_len' : 'LV_len', 'LV_V_wid' : 'LV_wid'}, axis = 1)\n",
    "\n",
    "    #long_tot = pd.concat([long_TV, long_LV], axis = 1)\n",
    "\n",
    "    # 거리관련 변수\n",
    "    long_tot['D_x'] = long_tot['LV_local_x'] - long_tot['local_x']\n",
    "    long_tot['D_y'] = long_tot['LV_local_y'] - long_tot['local_y']\n",
    "    long_tot['D'] = (long_tot['D_x']**2 + long_tot['D_y']**2) ** (1/2)\n",
    "    long_tot.reset_index(inplace = True, drop = True)\n",
    "    \n",
    "    long_tot['D_lag'] = long_tot['D'].shift(1) # 직전 row의 값임\n",
    "    long_tot['veh_id'] = long_tot['veh_id'].astype('int')\n",
    "    long_tot['LV_ID'] = long_tot['LV_ID'].apply(make_int)\n",
    "    long_tot['frm'] = long_tot['frm'].astype('int')\n",
    "    \n",
    "    long_tot['veh_id_lag'] = long_tot['veh_id'].shift(1) # 직전 row 값\n",
    "    long_tot['LV_ID_lag'] = long_tot['LV_ID'].shift(1) # 직전 row 값\n",
    "    \n",
    "    long_tot['D_gap'] = long_tot['D'] - long_tot['D_lag'] # 거리 변화. (-)이면 줄어들고 있다는 뜻이다\n",
    "    \n",
    "    # 만약 veh_id, LV_id 의 lag값이 현재 row와 다르다면, 새로운 값이 시작된 것이므로 D_gap을 NaN으로 만들어줘야 한다.\n",
    "    long_tot.loc[(long_tot['veh_id'] != long_tot['veh_id_lag']) | (long_tot['LV_ID'] != long_tot['LV_ID_lag']), 'D_gap'] = None\n",
    "        \n",
    "    #print(f'{i} : {len(long_final)}')\n",
    "    long_tot.drop(['D_lag', 'veh_id_lag', 'LV_ID_lag'], axis = 1, inplace = True)\n",
    "    long_tot = long_tot[column_order]\n",
    "    long_tot = long_tot.sort_values(by = 'pair').reset_index(drop = True)\n",
    "    \n",
    "    # 저장하기\n",
    "    save_path = os.path.join(working_dir, save_folder, save_files[0])\n",
    "    long_tot.to_parquet(save_path, engine = 'fastparquet', compression = 'gzip') "
   ]
  }
 ],
 "metadata": {
  "kernelspec": {
   "display_name": "Python 3 (ipykernel)",
   "language": "python",
   "name": "python3"
  },
  "language_info": {
   "codemirror_mode": {
    "name": "ipython",
    "version": 3
   },
   "file_extension": ".py",
   "mimetype": "text/x-python",
   "name": "python",
   "nbconvert_exporter": "python",
   "pygments_lexer": "ipython3",
   "version": "3.8.18"
  }
 },
 "nbformat": 4,
 "nbformat_minor": 5
}
