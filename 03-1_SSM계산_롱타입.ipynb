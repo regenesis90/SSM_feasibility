{
 "cells": [
  {
   "cell_type": "markdown",
   "id": "7bbb1b30-bf75-4ceb-bbaa-180407492126",
   "metadata": {},
   "source": [
    "# SSM 계산 : 차량 페어, 롱타입\n",
    "* Heatmap으로 나타내기\n",
    "* 시공도로 나타내기"
   ]
  },
  {
   "cell_type": "markdown",
   "id": "0ef842f1-952a-4871-a5b4-7f6f6f6f7ea8",
   "metadata": {},
   "source": [
    "# Import"
   ]
  },
  {
   "cell_type": "code",
   "execution_count": 37,
   "id": "f338fe77-1cf1-4a41-83b7-a5e506c649e9",
   "metadata": {
    "execution": {
     "iopub.execute_input": "2023-11-29T05:59:59.180903Z",
     "iopub.status.busy": "2023-11-29T05:59:59.180903Z",
     "iopub.status.idle": "2023-11-29T05:59:59.195863Z",
     "shell.execute_reply": "2023-11-29T05:59:59.194864Z",
     "shell.execute_reply.started": "2023-11-29T05:59:59.180903Z"
    },
    "tags": []
   },
   "outputs": [],
   "source": [
    "import pandas as pd\n",
    "import numpy as np\n",
    "\n",
    "from tqdm import tqdm\n",
    "import warnings\n",
    "import os\n",
    "\n",
    "import math # arctangent; math.atan 사용 목적\n",
    "import statistics\n",
    "\n",
    "from SSM_base import *\n",
    "from SSM_time_based import *\n",
    "from SSM_deceleration_based import *\n",
    "from SSM_energy_based import *\n",
    "\n",
    "import pyarrow.parquet as pq\n",
    "#df = pq.read_pandas('data.parquet').to_pandas()"
   ]
  },
  {
   "cell_type": "code",
   "execution_count": 38,
   "id": "34eb98d6-058d-425b-a404-a956020e0d4d",
   "metadata": {
    "execution": {
     "iopub.execute_input": "2023-11-29T05:59:59.196860Z",
     "iopub.status.busy": "2023-11-29T05:59:59.196860Z",
     "iopub.status.idle": "2023-11-29T05:59:59.210854Z",
     "shell.execute_reply": "2023-11-29T05:59:59.209856Z",
     "shell.execute_reply.started": "2023-11-29T05:59:59.196860Z"
    }
   },
   "outputs": [],
   "source": [
    "#warnings.filterwarnings('ignore')"
   ]
  },
  {
   "cell_type": "markdown",
   "id": "e2f498ef-0185-4e3c-bdd0-94e30067b58f",
   "metadata": {
    "tags": []
   },
   "source": [
    "# Load Dataset"
   ]
  },
  {
   "cell_type": "code",
   "execution_count": 39,
   "id": "feb03977-a4ef-4579-9b19-98fba5e090bc",
   "metadata": {
    "execution": {
     "iopub.execute_input": "2023-11-29T05:59:59.211820Z",
     "iopub.status.busy": "2023-11-29T05:59:59.210854Z",
     "iopub.status.idle": "2023-11-29T05:59:59.225783Z",
     "shell.execute_reply": "2023-11-29T05:59:59.224786Z",
     "shell.execute_reply.started": "2023-11-29T05:59:59.211820Z"
    },
    "tags": []
   },
   "outputs": [],
   "source": [
    "working_dir = 'D:/OneDrive/Projects/2023_SSM_Feasibility/Dataset'"
   ]
  },
  {
   "cell_type": "code",
   "execution_count": 40,
   "id": "e21584b4-6173-41ad-b43d-7fb484da49f2",
   "metadata": {
    "execution": {
     "iopub.execute_input": "2023-11-29T05:59:59.226782Z",
     "iopub.status.busy": "2023-11-29T05:59:59.226782Z",
     "iopub.status.idle": "2023-11-29T05:59:59.241741Z",
     "shell.execute_reply": "2023-11-29T05:59:59.240743Z",
     "shell.execute_reply.started": "2023-11-29T05:59:59.226782Z"
    },
    "tags": []
   },
   "outputs": [],
   "source": [
    "folder_name = '02_processed_long'\n",
    "file_name = 'merging_type1_03frm_0.10sec.parquet'\n",
    "file_path = os.path.join(working_dir, folder_name, file_name)"
   ]
  },
  {
   "cell_type": "code",
   "execution_count": 41,
   "id": "0392504e-5eb6-44b3-b784-842e9eaf13d6",
   "metadata": {
    "execution": {
     "iopub.execute_input": "2023-11-29T05:59:59.243736Z",
     "iopub.status.busy": "2023-11-29T05:59:59.243736Z",
     "iopub.status.idle": "2023-11-29T05:59:59.491700Z",
     "shell.execute_reply": "2023-11-29T05:59:59.491700Z",
     "shell.execute_reply.started": "2023-11-29T05:59:59.243736Z"
    },
    "tags": []
   },
   "outputs": [],
   "source": [
    "df = pq.read_pandas(file_path).to_pandas()\n",
    "\n",
    "df.rename({'LV_V_len' : 'LV_len',\n",
    "           'LV_V_wid' : 'LV_wid'}, axis = 1, inplace = True)"
   ]
  },
  {
   "cell_type": "code",
   "execution_count": 42,
   "id": "78c5566a-6413-4aaf-a1a7-a3cc9f690c1b",
   "metadata": {
    "execution": {
     "iopub.execute_input": "2023-11-29T05:59:59.494049Z",
     "iopub.status.busy": "2023-11-29T05:59:59.494049Z",
     "iopub.status.idle": "2023-11-29T05:59:59.523452Z",
     "shell.execute_reply": "2023-11-29T05:59:59.523452Z",
     "shell.execute_reply.started": "2023-11-29T05:59:59.494049Z"
    },
    "tags": []
   },
   "outputs": [
    {
     "data": {
      "text/html": [
       "<div>\n",
       "<style scoped>\n",
       "    .dataframe tbody tr th:only-of-type {\n",
       "        vertical-align: middle;\n",
       "    }\n",
       "\n",
       "    .dataframe tbody tr th {\n",
       "        vertical-align: top;\n",
       "    }\n",
       "\n",
       "    .dataframe thead th {\n",
       "        text-align: right;\n",
       "    }\n",
       "</style>\n",
       "<table border=\"1\" class=\"dataframe\">\n",
       "  <thead>\n",
       "    <tr style=\"text-align: right;\">\n",
       "      <th></th>\n",
       "      <th>veh_id</th>\n",
       "      <th>frm</th>\n",
       "      <th>local_x</th>\n",
       "      <th>local_y</th>\n",
       "      <th>V_len</th>\n",
       "      <th>V_wid</th>\n",
       "      <th>velocity</th>\n",
       "      <th>acc</th>\n",
       "      <th>lane</th>\n",
       "      <th>Time</th>\n",
       "      <th>...</th>\n",
       "      <th>LV_Lane_00</th>\n",
       "      <th>LV_Lane_99</th>\n",
       "      <th>LV_Lane_change</th>\n",
       "      <th>LV_Lane_leave</th>\n",
       "      <th>LV_Lane_change_direction</th>\n",
       "      <th>LV_LC_CF</th>\n",
       "      <th>D_x</th>\n",
       "      <th>D_y</th>\n",
       "      <th>D</th>\n",
       "      <th>D_gap</th>\n",
       "    </tr>\n",
       "  </thead>\n",
       "  <tbody>\n",
       "    <tr>\n",
       "      <th>0</th>\n",
       "      <td>2</td>\n",
       "      <td>438</td>\n",
       "      <td>37.28125</td>\n",
       "      <td>7.726562</td>\n",
       "      <td>4.902344</td>\n",
       "      <td>2.064453</td>\n",
       "      <td>92.1875</td>\n",
       "      <td>2.812500</td>\n",
       "      <td>U2</td>\n",
       "      <td>14.6</td>\n",
       "      <td>...</td>\n",
       "      <td>U3</td>\n",
       "      <td>U3</td>\n",
       "      <td>None</td>\n",
       "      <td>None</td>\n",
       "      <td>Straight</td>\n",
       "      <td>CF</td>\n",
       "      <td>93.59375</td>\n",
       "      <td>3.273438</td>\n",
       "      <td>93.650978</td>\n",
       "      <td>NaN</td>\n",
       "    </tr>\n",
       "    <tr>\n",
       "      <th>1</th>\n",
       "      <td>2</td>\n",
       "      <td>441</td>\n",
       "      <td>39.81250</td>\n",
       "      <td>7.785156</td>\n",
       "      <td>4.902344</td>\n",
       "      <td>2.064453</td>\n",
       "      <td>91.7500</td>\n",
       "      <td>-1.228516</td>\n",
       "      <td>U2</td>\n",
       "      <td>14.7</td>\n",
       "      <td>...</td>\n",
       "      <td>U3</td>\n",
       "      <td>U3</td>\n",
       "      <td>None</td>\n",
       "      <td>None</td>\n",
       "      <td>Straight</td>\n",
       "      <td>CF</td>\n",
       "      <td>93.31250</td>\n",
       "      <td>3.246094</td>\n",
       "      <td>93.368942</td>\n",
       "      <td>-0.282036</td>\n",
       "    </tr>\n",
       "    <tr>\n",
       "      <th>2</th>\n",
       "      <td>2</td>\n",
       "      <td>444</td>\n",
       "      <td>42.40625</td>\n",
       "      <td>7.882812</td>\n",
       "      <td>4.902344</td>\n",
       "      <td>2.064453</td>\n",
       "      <td>92.4375</td>\n",
       "      <td>1.814453</td>\n",
       "      <td>U2</td>\n",
       "      <td>14.8</td>\n",
       "      <td>...</td>\n",
       "      <td>U3</td>\n",
       "      <td>U3</td>\n",
       "      <td>None</td>\n",
       "      <td>None</td>\n",
       "      <td>Straight</td>\n",
       "      <td>CF</td>\n",
       "      <td>93.09375</td>\n",
       "      <td>3.187500</td>\n",
       "      <td>93.148300</td>\n",
       "      <td>-0.220642</td>\n",
       "    </tr>\n",
       "  </tbody>\n",
       "</table>\n",
       "<p>3 rows × 66 columns</p>\n",
       "</div>"
      ],
      "text/plain": [
       "   veh_id  frm   local_x   local_y     V_len     V_wid  velocity       acc  \\\n",
       "0       2  438  37.28125  7.726562  4.902344  2.064453   92.1875  2.812500   \n",
       "1       2  441  39.81250  7.785156  4.902344  2.064453   91.7500 -1.228516   \n",
       "2       2  444  42.40625  7.882812  4.902344  2.064453   92.4375  1.814453   \n",
       "\n",
       "  lane  Time  ...  LV_Lane_00  LV_Lane_99  LV_Lane_change  LV_Lane_leave  \\\n",
       "0   U2  14.6  ...          U3          U3            None           None   \n",
       "1   U2  14.7  ...          U3          U3            None           None   \n",
       "2   U2  14.8  ...          U3          U3            None           None   \n",
       "\n",
       "   LV_Lane_change_direction  LV_LC_CF       D_x       D_y          D     D_gap  \n",
       "0                  Straight        CF  93.59375  3.273438  93.650978       NaN  \n",
       "1                  Straight        CF  93.31250  3.246094  93.368942 -0.282036  \n",
       "2                  Straight        CF  93.09375  3.187500  93.148300 -0.220642  \n",
       "\n",
       "[3 rows x 66 columns]"
      ]
     },
     "execution_count": 42,
     "metadata": {},
     "output_type": "execute_result"
    }
   ],
   "source": [
    "df.head(3)"
   ]
  },
  {
   "cell_type": "code",
   "execution_count": 43,
   "id": "8ea3d7c5-5033-4278-be4e-792daa44fafc",
   "metadata": {
    "execution": {
     "iopub.execute_input": "2023-11-29T05:59:59.525616Z",
     "iopub.status.busy": "2023-11-29T05:59:59.525616Z",
     "iopub.status.idle": "2023-11-29T05:59:59.539200Z",
     "shell.execute_reply": "2023-11-29T05:59:59.539200Z",
     "shell.execute_reply.started": "2023-11-29T05:59:59.525616Z"
    },
    "tags": []
   },
   "outputs": [
    {
     "data": {
      "text/plain": [
       "['veh_id',\n",
       " 'frm',\n",
       " 'local_x',\n",
       " 'local_y',\n",
       " 'V_len',\n",
       " 'V_wid',\n",
       " 'velocity',\n",
       " 'acc',\n",
       " 'lane',\n",
       " 'Time',\n",
       " 'local_x_before',\n",
       " 'local_y_before',\n",
       " 'delta_local_x',\n",
       " 'delta_local_y',\n",
       " 'velocity_x',\n",
       " 'velocity_y',\n",
       " 'velocity_x_before',\n",
       " 'velocity_y_before',\n",
       " 'delta_velocity_x',\n",
       " 'delta_velocity_y',\n",
       " 'acc_x',\n",
       " 'acc_y',\n",
       " 'lane_past',\n",
       " 'Lane_record',\n",
       " 'Lane_record_split',\n",
       " 'Lane_00',\n",
       " 'Lane_99',\n",
       " 'Lane_change',\n",
       " 'Lane_leave',\n",
       " 'Lane_change_direction',\n",
       " 'LC_CF',\n",
       " 'LV_ID',\n",
       " 'LV_type',\n",
       " 'LV_local_x',\n",
       " 'LV_local_y',\n",
       " 'LV_len',\n",
       " 'LV_wid',\n",
       " 'LV_velocity',\n",
       " 'LV_acc',\n",
       " 'LV_lane',\n",
       " 'LV_Time',\n",
       " 'LV_local_x_before',\n",
       " 'LV_local_y_before',\n",
       " 'LV_delta_local_x',\n",
       " 'LV_delta_local_y',\n",
       " 'LV_velocity_x',\n",
       " 'LV_velocity_y',\n",
       " 'LV_velocity_x_before',\n",
       " 'LV_velocity_y_before',\n",
       " 'LV_delta_velocity_x',\n",
       " 'LV_delta_velocity_y',\n",
       " 'LV_acc_x',\n",
       " 'LV_acc_y',\n",
       " 'LV_lane_past',\n",
       " 'LV_Lane_record',\n",
       " 'LV_Lane_record_split',\n",
       " 'LV_Lane_00',\n",
       " 'LV_Lane_99',\n",
       " 'LV_Lane_change',\n",
       " 'LV_Lane_leave',\n",
       " 'LV_Lane_change_direction',\n",
       " 'LV_LC_CF',\n",
       " 'D_x',\n",
       " 'D_y',\n",
       " 'D',\n",
       " 'D_gap']"
      ]
     },
     "execution_count": 43,
     "metadata": {},
     "output_type": "execute_result"
    }
   ],
   "source": [
    "list(df.columns)"
   ]
  },
  {
   "cell_type": "markdown",
   "id": "2e2de69a-7ebf-4d3e-83f4-2190783e3618",
   "metadata": {},
   "source": [
    "# Calculation"
   ]
  },
  {
   "cell_type": "markdown",
   "id": "6e18e1d3-f476-4ba9-8b2a-edf90aebf675",
   "metadata": {},
   "source": [
    "## Settings\n",
    "* 공통 상수 설정"
   ]
  },
  {
   "cell_type": "code",
   "execution_count": 44,
   "id": "505e1aa7-be7c-4162-921b-05ae358335fb",
   "metadata": {
    "execution": {
     "iopub.execute_input": "2023-11-29T05:59:59.541653Z",
     "iopub.status.busy": "2023-11-29T05:59:59.540467Z",
     "iopub.status.idle": "2023-11-29T05:59:59.555807Z",
     "shell.execute_reply": "2023-11-29T05:59:59.554481Z",
     "shell.execute_reply.started": "2023-11-29T05:59:59.541653Z"
    },
    "tags": []
   },
   "outputs": [],
   "source": [
    "threshold_TTC = 1.5 # time-based SSM 임계값\n",
    "threshold_DRAC = 3.4\n",
    "\n",
    "tmsec = 0.1 # 각 row별 시간단위(초)\n",
    "g = 9.81 # 중력가속도\n",
    "f = 0.35 # 마찰계수. friction coeefficient\n",
    "delta_t = 1 # Reaction Delay time. 운전자 반응시간\n",
    "MADR = 8.45 # 차량의 최대 감속 능력. 날씨에 따라, 차종에 따라 다르다. Saccomanno et al.(2008) 참조\n",
    "deceleration_rate = 0.3 * g # 차량 감속도. 3.3도 됨"
   ]
  },
  {
   "cell_type": "markdown",
   "id": "e502955e-7452-4d69-b363-3bd91e73c0b5",
   "metadata": {
    "tags": []
   },
   "source": [
    "## Time-based SSM\n",
    "* Temporal Proximal Indicator"
   ]
  },
  {
   "cell_type": "code",
   "execution_count": 45,
   "id": "05a95f59-5213-4455-bc63-b4eb0e806295",
   "metadata": {
    "execution": {
     "iopub.execute_input": "2023-11-29T05:59:59.556817Z",
     "iopub.status.busy": "2023-11-29T05:59:59.556817Z",
     "iopub.status.idle": "2023-11-29T05:59:59.571211Z",
     "shell.execute_reply": "2023-11-29T05:59:59.570239Z",
     "shell.execute_reply.started": "2023-11-29T05:59:59.556817Z"
    },
    "tags": []
   },
   "outputs": [],
   "source": [
    "tqdm.pandas()"
   ]
  },
  {
   "cell_type": "code",
   "execution_count": 46,
   "id": "9744ff3a-83b0-4a5a-92aa-d5cb3fae1c3e",
   "metadata": {
    "execution": {
     "iopub.execute_input": "2023-11-29T05:59:59.573205Z",
     "iopub.status.busy": "2023-11-29T05:59:59.572208Z",
     "iopub.status.idle": "2023-11-29T06:00:28.181955Z",
     "shell.execute_reply": "2023-11-29T06:00:28.181955Z",
     "shell.execute_reply.started": "2023-11-29T05:59:59.573205Z"
    },
    "tags": []
   },
   "outputs": [
    {
     "name": "stderr",
     "output_type": "stream",
     "text": [
      "100%|███████████████████████████████████████████████████████████████████████| 265505/265505 [00:15<00:00, 17152.06it/s]\n",
      "100%|███████████████████████████████████████████████████████████████████████| 265505/265505 [00:12<00:00, 21363.87it/s]\n"
     ]
    }
   ],
   "source": [
    "# 꼭지점 4개 만들기\n",
    "# 각 차량의 1,2,3,4번 꼭지점 좌표를 구한다.\n",
    "df['V_point_1'], df['V_point_2'], df['V_point_3'], df['V_point_4'] = zip(*df.progress_apply(lambda x: points(x.local_x, x.local_y, x.velocity_x, x.velocity_y, x.V_wid, x.V_len), axis = 1))\n",
    "df['LV_point_1'], df['LV_point_2'], df['LV_point_3'], df['LV_point_4'] = zip(*df.progress_apply(lambda x: points(x.LV_local_x, x.LV_local_y, x.LV_velocity_x, x.LV_velocity_y, x.LV_wid, x.LV_len), axis = 1))"
   ]
  },
  {
   "cell_type": "code",
   "execution_count": 47,
   "id": "a4f7ea9e-89c4-4e2c-b985-8a5b5626240f",
   "metadata": {
    "execution": {
     "iopub.execute_input": "2023-11-29T06:00:28.182988Z",
     "iopub.status.busy": "2023-11-29T06:00:28.182988Z",
     "iopub.status.idle": "2023-11-29T06:00:47.347623Z",
     "shell.execute_reply": "2023-11-29T06:00:47.347623Z",
     "shell.execute_reply.started": "2023-11-29T06:00:28.182988Z"
    },
    "tags": []
   },
   "outputs": [
    {
     "name": "stderr",
     "output_type": "stream",
     "text": [
      "100%|███████████████████████████████████████████████████████████████████████| 265505/265505 [00:18<00:00, 14164.56it/s]\n"
     ]
    }
   ],
   "source": [
    "## Nearest_point 추출\n",
    "df['V_LV_point_num'], df['V_LV_point_n'], df['LV_point_n'], df['V_LV_point_num2'], df['V_LV_point_n2'], df['LV_point_n2'] = zip(*df.progress_apply(lambda x: nearest_point(x.V_point_1, x.V_point_2, x.V_point_3, x.V_point_4, x.LV_point_1, x.LV_point_2, x.LV_point_3, x.LV_point_4), axis = 1))"
   ]
  },
  {
   "cell_type": "code",
   "execution_count": 48,
   "id": "3cc949e6-fd51-4a5b-b055-7a5f54a9bd7d",
   "metadata": {
    "execution": {
     "iopub.execute_input": "2023-11-29T06:00:47.348593Z",
     "iopub.status.busy": "2023-11-29T06:00:47.348593Z",
     "iopub.status.idle": "2023-11-29T06:01:08.437116Z",
     "shell.execute_reply": "2023-11-29T06:01:08.436118Z",
     "shell.execute_reply.started": "2023-11-29T06:00:47.348593Z"
    },
    "tags": []
   },
   "outputs": [
    {
     "name": "stderr",
     "output_type": "stream",
     "text": [
      "100%|███████████████████████████████████████████████████████████████████████| 265505/265505 [00:20<00:00, 12761.43it/s]\n"
     ]
    }
   ],
   "source": [
    "## Shortest Distance 구하기 : ACT 용\n",
    "df['V_LV_point_delta'], df['V_LV_shortest_vector'], df['V_LV_shortest_distance'] = zip(*df.progress_apply(lambda x: shortest_distance(\n",
    "    x.V_LV_point_num, x.V_LV_point_n, x.LV_point_n, \n",
    "    x.V_point_1, x.V_point_2, x.V_point_3, x.V_point_4, \n",
    "    x.LV_point_1, x.LV_point_2, x.LV_point_3, x.LV_point_4), axis = 1))"
   ]
  },
  {
   "cell_type": "code",
   "execution_count": 49,
   "id": "625a7a24-d7a5-40c9-91bc-1b4028d036d6",
   "metadata": {
    "execution": {
     "iopub.execute_input": "2023-11-29T06:01:08.438112Z",
     "iopub.status.busy": "2023-11-29T06:01:08.438112Z",
     "iopub.status.idle": "2023-11-29T06:01:32.648154Z",
     "shell.execute_reply": "2023-11-29T06:01:32.647186Z",
     "shell.execute_reply.started": "2023-11-29T06:01:08.438112Z"
    },
    "tags": []
   },
   "outputs": [
    {
     "name": "stderr",
     "output_type": "stream",
     "text": [
      "100%|███████████████████████████████████████████████████████████████████████| 265505/265505 [00:24<00:00, 11039.03it/s]\n"
     ]
    }
   ],
   "source": [
    "debug = []\n",
    "\n",
    "#df['ip1'], df['ip2'], df['cos_theta'], df['theta'], df['degX'],\n",
    "df['potential_conflict_type'], df['degX'] = zip(*df.progress_apply(lambda x: potential_conflict_type(x.LV_type, x.D_gap, x.V_LV_point_num, x.V_LV_point_num2, x.velocity_x, x.velocity_y, x.LV_velocity_x, x.LV_velocity_y, x.local_x, x.local_y, x.LV_local_x, x.LV_local_y, x.V_len, x.LV_len), axis = 1))"
   ]
  },
  {
   "cell_type": "code",
   "execution_count": 50,
   "id": "d3488d14-6dfc-4098-bb79-ffc9c7037971",
   "metadata": {
    "execution": {
     "iopub.execute_input": "2023-11-29T06:01:32.652145Z",
     "iopub.status.busy": "2023-11-29T06:01:32.652145Z",
     "iopub.status.idle": "2023-11-29T06:02:12.503109Z",
     "shell.execute_reply": "2023-11-29T06:02:12.503109Z",
     "shell.execute_reply.started": "2023-11-29T06:01:32.652145Z"
    },
    "tags": []
   },
   "outputs": [
    {
     "name": "stderr",
     "output_type": "stream",
     "text": [
      "100%|████████████████████████████████████████████████████████████████████████| 265505/265505 [00:39<00:00, 6663.96it/s]\n"
     ]
    }
   ],
   "source": [
    "# 2차원 SSM\n",
    "df['T2'] = df.progress_apply(lambda x: T2(\n",
    "    x.V_LV_point_num, x.V_LV_point_n, x.LV_point_n, \n",
    "    x.V_point_1, x.V_point_2, x.V_point_3, x.V_point_4, \n",
    "    x.LV_point_1, x.LV_point_2, x.LV_point_3, x.LV_point_4,\n",
    "    x.velocity_x, x.velocity_y, x.LV_velocity_x, x.LV_velocity_y), axis = 1)"
   ]
  },
  {
   "cell_type": "code",
   "execution_count": 51,
   "id": "bbfa0ff3-128d-4107-911f-2980d60e5b00",
   "metadata": {
    "execution": {
     "iopub.execute_input": "2023-11-29T06:02:12.504069Z",
     "iopub.status.busy": "2023-11-29T06:02:12.504069Z",
     "iopub.status.idle": "2023-11-29T06:02:12.519059Z",
     "shell.execute_reply": "2023-11-29T06:02:12.518348Z",
     "shell.execute_reply.started": "2023-11-29T06:02:12.504069Z"
    }
   },
   "outputs": [],
   "source": [
    "#df[['ip1', 'ip2', 'cos_theta', 'theta', 'degX', 'potential_conflict_type']]"
   ]
  },
  {
   "cell_type": "code",
   "execution_count": 52,
   "id": "562a464c-946a-4928-b6e3-2b7e54161461",
   "metadata": {
    "execution": {
     "iopub.execute_input": "2023-11-29T06:02:12.520058Z",
     "iopub.status.busy": "2023-11-29T06:02:12.519059Z",
     "iopub.status.idle": "2023-11-29T06:03:01.207751Z",
     "shell.execute_reply": "2023-11-29T06:03:01.207751Z",
     "shell.execute_reply.started": "2023-11-29T06:02:12.520058Z"
    },
    "tags": []
   },
   "outputs": [
    {
     "name": "stderr",
     "output_type": "stream",
     "text": [
      "100%|███████████████████████████████████████████████████████████████████████| 265505/265505 [00:22<00:00, 11648.82it/s]\n",
      "100%|███████████████████████████████████████████████████████████████████████| 265505/265505 [00:25<00:00, 10259.78it/s]\n"
     ]
    }
   ],
   "source": [
    "df['TTC'] = df.progress_apply(lambda x: TTC(x.potential_conflict_type, x.LV_type, x.local_x, x.LV_local_x, x.velocity_x, x.LV_velocity_x, x.V_len, x.LV_len, x.V_wid, x.LV_wid, x.local_y, x.LV_local_y, x.velocity_y, x.LV_velocity_y), axis = 1)\n",
    "#df['ITTC'] = df.progress_apply(lambda x: ITTC(x.potential_conflict_type, x.local_x, x.LV_local_x, x.velocity_x, x.LV_velocity_x, x.V_len, x.LV_len, x.V_wid, x.LV_wid, x.local_y, x.LV_local_y, x.velocity_y, x.LV_velocity_y), axis = 1)\n",
    "df['MTTC'] = df.progress_apply(lambda x: MTTC(x.potential_conflict_type, x.LV_type, x.local_x, x.LV_local_x, x.velocity_x, x.LV_velocity_x, x.acc_x, x.LV_acc_x, x.V_len, x.LV_len, x.V_wid, x.LV_wid, x.local_y, x.LV_local_y, x.velocity_y, x.LV_velocity_y), axis = 1)\n",
    "#df['MTTC_conflict_occurs'] = df.progress_apply(lambda x: conflict_occurs(x.potential_conflict_type, x.local_x, x.LV_local_x, x.velocity_x, x.LV_velocity_x, x.acc_x, x.LV_acc_x, x.V_wid, x.LV_wid, x.local_y, x.LV_local_y, x.velocity_y, x.LV_velocity_y), axis = 1)\n",
    "#df['CI_MTTC'] = df.progress_apply(lambda x: CI_MTTC(x.local_x, x.LV_local_x, x.velocity_x, x.LV_velocity_x, x.acc_x, x.LV_acc_x, x.MTTC), axis = 1)\n",
    "\n",
    "#df['TIT'] = df.progress_apply(lambda x: TIT(x.TTC, threshold_TTC, tmsec), axis = 1)\n",
    "#df['TET'] = df.progress_apply(lambda x: TET(x.TTC, threshold_TTC, tmsec), axis = 1)"
   ]
  },
  {
   "cell_type": "code",
   "execution_count": 53,
   "id": "87d96e9d-8eb9-4c71-9bc4-c68da9964634",
   "metadata": {
    "execution": {
     "iopub.execute_input": "2023-11-29T06:03:01.208750Z",
     "iopub.status.busy": "2023-11-29T06:03:01.208750Z",
     "iopub.status.idle": "2023-11-29T06:03:27.894850Z",
     "shell.execute_reply": "2023-11-29T06:03:27.894850Z",
     "shell.execute_reply.started": "2023-11-29T06:03:01.208750Z"
    },
    "tags": []
   },
   "outputs": [
    {
     "name": "stderr",
     "output_type": "stream",
     "text": [
      "100%|███████████████████████████████████████████████████████████████████████| 265505/265505 [00:26<00:00, 10081.15it/s]\n"
     ]
    }
   ],
   "source": [
    "df['ACT'], df['total_rel'], df['d_delta'] = zip(*df.progress_apply(lambda x: ACT(\n",
    "    x.velocity_x, x.velocity_y, x.velocity_x_before, x.velocity_y_before,\n",
    "    x.LV_velocity_x, x.LV_velocity_y, x.LV_velocity_x_before, x.LV_velocity_y_before,\n",
    "    x.acc_x, x.acc_y, x.LV_acc_x, x.LV_acc_y, \n",
    "    x.V_LV_shortest_vector, x.V_LV_shortest_distance), axis = 1))"
   ]
  },
  {
   "cell_type": "code",
   "execution_count": 54,
   "id": "b0edef03-c40e-4dd4-b850-8a5e4b762311",
   "metadata": {
    "execution": {
     "iopub.execute_input": "2023-11-29T06:03:27.896848Z",
     "iopub.status.busy": "2023-11-29T06:03:27.895849Z",
     "iopub.status.idle": "2023-11-29T06:04:23.650386Z",
     "shell.execute_reply": "2023-11-29T06:04:23.650386Z",
     "shell.execute_reply.started": "2023-11-29T06:03:27.896848Z"
    },
    "tags": []
   },
   "outputs": [
    {
     "name": "stderr",
     "output_type": "stream",
     "text": [
      "100%|████████████████████████████████████████████████████████████████████████| 265505/265505 [00:55<00:00, 4783.34it/s]\n"
     ]
    }
   ],
   "source": [
    "df['pPET'], df['time_gap'] = zip(*df.progress_apply(lambda x: pPET(\n",
    "    x.potential_conflict_type, x.V_LV_point_num, x.V_LV_point_n, x.LV_point_n, \n",
    "    x.V_point_1, x.V_point_2, x.V_point_3, x.V_point_4, \n",
    "    x.LV_point_1, x.LV_point_2, x.LV_point_3, x.LV_point_4,\n",
    "    x.velocity_x, x.velocity_y, x.LV_velocity_x, x.LV_velocity_y), axis = 1))"
   ]
  },
  {
   "cell_type": "code",
   "execution_count": 55,
   "id": "283a3c90-a6a1-48c6-ba89-cd369576eba9",
   "metadata": {
    "execution": {
     "iopub.execute_input": "2023-11-29T06:04:23.651373Z",
     "iopub.status.busy": "2023-11-29T06:04:23.651373Z",
     "iopub.status.idle": "2023-11-29T06:04:23.666316Z",
     "shell.execute_reply": "2023-11-29T06:04:23.666316Z",
     "shell.execute_reply.started": "2023-11-29T06:04:23.651373Z"
    },
    "tags": []
   },
   "outputs": [],
   "source": [
    "#df['TIT2'] = df.progress_apply(lambda x: TIT(x.T2, threshold_TTC, tmsec), axis = 1)\n",
    "#df['TIACT'] = df.progress_apply(lambda x: TIT(x.ACT, threshold_TTC, tmsec), axis = 1)"
   ]
  },
  {
   "cell_type": "code",
   "execution_count": 56,
   "id": "d6f8a88f-d43e-4753-aaec-910a4b834e21",
   "metadata": {
    "execution": {
     "iopub.execute_input": "2023-11-29T06:04:23.667331Z",
     "iopub.status.busy": "2023-11-29T06:04:23.667331Z",
     "iopub.status.idle": "2023-11-29T06:04:23.682302Z",
     "shell.execute_reply": "2023-11-29T06:04:23.682302Z",
     "shell.execute_reply.started": "2023-11-29T06:04:23.667331Z"
    },
    "tags": []
   },
   "outputs": [],
   "source": [
    "# df['SSCR_TTC_prime'] = df.progress_apply(lambda x: SSCR_TTC_prime(\n",
    "#     x.potential_conflict_type, x.V_LV_point_num, x.V_LV_point_n, x.LV_point_n, \n",
    "#     x.V_point_1, x.V_point_2, x.V_point_3, x.V_point_4, \n",
    "#     x.LV_point_1, x.LV_point_2, x.LV_point_3, x.LV_point_4,\n",
    "#     x.velocity_x, x.velocity_y, x.LV_velocity_x, x.LV_velocity_y), axis = 1)"
   ]
  },
  {
   "cell_type": "code",
   "execution_count": 57,
   "id": "647e4f7e-84c7-495d-8161-881ccff85dae",
   "metadata": {
    "execution": {
     "iopub.execute_input": "2023-11-29T06:04:23.683299Z",
     "iopub.status.busy": "2023-11-29T06:04:23.683299Z",
     "iopub.status.idle": "2023-11-29T06:04:23.699229Z",
     "shell.execute_reply": "2023-11-29T06:04:23.698260Z",
     "shell.execute_reply.started": "2023-11-29T06:04:23.683299Z"
    },
    "tags": []
   },
   "outputs": [],
   "source": [
    "# df['SSCR_R'] = df.progress_apply(lambda x: SSCR_R(x.TTC), axis = 1)\n",
    "# df['SSCR_Y'] = df.progress_apply(lambda x: SSCR_Y(x.TTC, x.pPET, x.SSCR_TTC_prime), axis = 1)\n",
    "# df['SSCR'] = df['SSCR_R'] + df['SSCR_Y']\n",
    "\n",
    "# # df = TA(df) # Time to Accident 계산\n",
    "# # df['critical_speed'] = df.apply(lambda x: critical_speed(g, f, x.pPET), axis = 1)\n",
    "# # df['TA_CS'] = df.apply(lambda x: TA_CS(x.TA, x.critical_speed), axis = 1) # TA/CS 계산"
   ]
  },
  {
   "cell_type": "markdown",
   "id": "67bf9bbb-1713-4b0c-a991-81f554076a34",
   "metadata": {},
   "source": [
    "## Deceleration-based SSM"
   ]
  },
  {
   "cell_type": "code",
   "execution_count": 58,
   "id": "0150c10b-6e1e-43bb-96de-ec65301a0f04",
   "metadata": {
    "execution": {
     "iopub.execute_input": "2023-11-29T06:04:23.699229Z",
     "iopub.status.busy": "2023-11-29T06:04:23.699229Z",
     "iopub.status.idle": "2023-11-29T06:08:20.692795Z",
     "shell.execute_reply": "2023-11-29T06:08:20.692795Z",
     "shell.execute_reply.started": "2023-11-29T06:04:23.699229Z"
    },
    "tags": []
   },
   "outputs": [
    {
     "name": "stderr",
     "output_type": "stream",
     "text": [
      "100%|███████████████████████████████████████████████████████████████████████| 265505/265505 [00:23<00:00, 11348.85it/s]\n",
      "100%|███████████████████████████████████████████████████████████████████████| 265505/265505 [00:23<00:00, 11271.72it/s]\n",
      "100%|███████████████████████████████████████████████████████████████████████| 265505/265505 [00:21<00:00, 12068.79it/s]\n",
      "100%|███████████████████████████████████████████████████████████████████████| 265505/265505 [00:24<00:00, 10785.21it/s]\n",
      "100%|███████████████████████████████████████████████████████████████████████| 265505/265505 [00:21<00:00, 12230.86it/s]\n",
      "100%|███████████████████████████████████████████████████████████████████████| 265505/265505 [00:24<00:00, 10641.15it/s]\n",
      "100%|███████████████████████████████████████████████████████████████████████| 265505/265505 [00:23<00:00, 11435.44it/s]\n",
      "100%|███████████████████████████████████████████████████████████████████████| 265505/265505 [00:24<00:00, 10828.16it/s]\n",
      "100%|███████████████████████████████████████████████████████████████████████| 265505/265505 [00:20<00:00, 12995.30it/s]\n",
      "100%|███████████████████████████████████████████████████████████████████████| 265505/265505 [00:04<00:00, 64981.74it/s]\n",
      "100%|███████████████████████████████████████████████████████████████████████| 265505/265505 [00:04<00:00, 62881.07it/s]\n",
      "100%|███████████████████████████████████████████████████████████████████████| 265505/265505 [00:04<00:00, 65944.47it/s]\n",
      "100%|███████████████████████████████████████████████████████████████████████| 265505/265505 [00:04<00:00, 66120.46it/s]\n",
      "100%|███████████████████████████████████████████████████████████████████████| 265505/265505 [00:04<00:00, 64910.65it/s]\n",
      "100%|███████████████████████████████████████████████████████████████████████| 265505/265505 [00:03<00:00, 66508.96it/s]\n",
      "100%|███████████████████████████████████████████████████████████████████████| 265505/265505 [00:04<00:00, 64827.89it/s]\n"
     ]
    }
   ],
   "source": [
    "df['PSD'] = df.progress_apply(lambda x: PSD(x.potential_conflict_type, x.LV_type, x.local_x, x.LV_local_x, x.velocity_x, x.LV_velocity_x, x.V_len, x.LV_len, f, g, x.V_wid, x.LV_wid, x.local_y, x.LV_local_y, x.velocity_y, x.LV_velocity_y), axis = 1)\n",
    "\n",
    "df['DSS'] = df.progress_apply(lambda x: DSS(x.potential_conflict_type, x.LV_type, x.local_x, x.LV_local_x, x.velocity_x, x.LV_velocity_x, x.V_len, x.LV_len, g, f, delta_t, x.V_wid, x.LV_wid, x.local_y, x.LV_local_y, x.velocity_y, x.LV_velocity_y), axis = 1)\n",
    "#df['TIDSS'] = df.progress_apply(lambda x: TIDSS(x.DSS, tmsec), axis = 1)\n",
    "\n",
    "df['PICUD'] = df.progress_apply(lambda x: PICUD(x.potential_conflict_type, x.LV_type, x.local_x, x.LV_local_x, x.velocity_x, x.LV_velocity_x, x.D_x, delta_t, deceleration_rate, x.V_wid, x.LV_wid, x.local_y, x.LV_local_y, x.velocity_y, x.LV_velocity_y), axis = 1)\n",
    "\n",
    "df['DRAC'] = df.progress_apply(lambda x: DRAC(x.potential_conflict_type, x.LV_type, x.local_x, x.LV_local_x, x.D_x, x.velocity_x, x.LV_velocity_x, x.LV_len, x.V_len, x.V_wid, x.LV_wid, x.local_y, x.LV_local_y, x.velocity_y, x.LV_velocity_y), axis = 1)\n",
    "#df['TIDRAC'] = df.apply(lambda x: TIDRAC(x.DRAC, threshold_DRAC), axis = 1)\n",
    "\n",
    "df['MDRAC'] = df.progress_apply(lambda x: MDRAC(x.potential_conflict_type, x.LV_type, x.local_x, x.LV_local_x, x.velocity_x, x.LV_velocity_x, x.TTC, delta_t, x.V_wid, x.LV_wid, x.local_y, x.LV_local_y, x.velocity_y, x.LV_velocity_y), axis = 1)\n",
    "\n",
    "df['DCIA'] = df.progress_apply(lambda x: DCIA(x.potential_conflict_type, x.LV_type, x.local_x, x.LV_local_x, x.velocity_x, x.LV_velocity_x, x.acc_x, x.LV_acc_x, delta_t, x.D_x, x.V_wid, x.LV_wid, x.local_y, x.LV_local_y, x.velocity_y, x.LV_velocity_y), axis = 1)\n",
    "\n",
    "df['unsafety'] = df.progress_apply(lambda x: unsafety(x.potential_conflict_type, x.LV_type, x.local_x, x.LV_local_x, x.velocity_x, x.LV_velocity_x, x.acc_x, x.LV_acc_x, deceleration_rate, x.V_wid, x.LV_wid, x.local_y, x.LV_local_y, x.velocity_y, x.LV_velocity_y), axis = 1)\n",
    "\n",
    "df['MTC'] = df.progress_apply(lambda x: MTC(x.potential_conflict_type, x.LV_type, x.local_x, x.LV_local_x, x.D_x, x.V_len, x.LV_len, x.velocity_x, x.LV_velocity, delta_t, deceleration_rate, x.V_wid, x.LV_wid, x.local_y, x.LV_local_y, x.velocity_y, x.LV_velocity_y), axis = 1)\n",
    "df['MMTC'] = df.progress_apply(lambda x: MMTC(x.potential_conflict_type, x.LV_type, x.local_x, x.LV_local_x, x.velocity_x, x.LV_velocity_x, g, x.V_wid, x.LV_wid, x.local_y, x.LV_local_y, x.velocity_y, x.LV_velocity_y), axis = 1)\n",
    "\n",
    "df['TIT'] = df.progress_apply(lambda x: TIT(x.TTC, threshold_TTC, tmsec), axis = 1)\n",
    "df['TIT2'] = df.progress_apply(lambda x: TIT(x.T2, threshold_TTC, tmsec), axis = 1)\n",
    "df['TGIT'] = df.progress_apply(lambda x: TIT(x.time_gap, threshold_TTC, tmsec), axis = 1)\n",
    "df['TIACT'] = df.progress_apply(lambda x: TIT(x.ACT, threshold_TTC, tmsec), axis = 1)\n",
    "\n",
    "df['TIDSS'] = df.progress_apply(lambda x: TIDSS(x.DSS, tmsec), axis = 1)\n",
    "df['TIDRAC'] = df.progress_apply(lambda x: TIDRAC(x.DRAC, threshold_DRAC), axis = 1)\n",
    "df['TIMDRAC'] = df.progress_apply(lambda x: TIDRAC(x.MDRAC, threshold_DRAC), axis = 1)\n",
    "\n",
    "\n",
    "#df['RCRI'] = df.progress_apply(lambda x: RCRI(x.local_x, x.LV_local_x, x.velocity_x, x.LV_velocity_x, x.acc_x, x.LV_acc_x, x.D_x, delta_t, x.V_wid, x.LV_wid, x.local_y, x.LV_local_y, x.velocity_y, x.LV_velocity_y), axis = 1)\n",
    "#df['TERCRI'] = df.progress_apply(lambda x: TERCRI(x.RCRI, tmsec), axis = 1)"
   ]
  },
  {
   "cell_type": "markdown",
   "id": "25745d75-e246-4df1-801a-9aec250e3a78",
   "metadata": {},
   "source": [
    "## Energy-based SSM"
   ]
  },
  {
   "cell_type": "code",
   "execution_count": 59,
   "id": "704976ff-38ba-407f-b6da-fe9ed7f44afa",
   "metadata": {
    "execution": {
     "iopub.execute_input": "2023-11-29T06:08:20.694761Z",
     "iopub.status.busy": "2023-11-29T06:08:20.693764Z",
     "iopub.status.idle": "2023-11-29T06:08:20.709844Z",
     "shell.execute_reply": "2023-11-29T06:08:20.708846Z",
     "shell.execute_reply.started": "2023-11-29T06:08:20.693764Z"
    },
    "tags": []
   },
   "outputs": [],
   "source": [
    "# df['CIF'] = df.progress_apply(lambda x: CIF(x.velocity_x, x.TTC), axis = 1)\n",
    "# df['CIF2'] = df.progress_apply(lambda x: CIF(x.velocity, x.T2), axis = 1)\n",
    "# df['ACIF'] = df.progress_apply(lambda x: CIF(x.velocity, x.ACT), axis = 1)"
   ]
  },
  {
   "cell_type": "markdown",
   "id": "16d59a1a-e0fb-45dc-9477-c409da1e50f9",
   "metadata": {},
   "source": [
    "# Save"
   ]
  },
  {
   "cell_type": "code",
   "execution_count": null,
   "id": "d9293ac6-d4d4-4712-8eaa-da7290dcc55e",
   "metadata": {},
   "outputs": [],
   "source": []
  },
  {
   "cell_type": "code",
   "execution_count": 60,
   "id": "de360a89-7967-454e-92c0-f5f9980ba7ed",
   "metadata": {
    "execution": {
     "iopub.execute_input": "2023-11-29T06:08:20.710842Z",
     "iopub.status.busy": "2023-11-29T06:08:20.710842Z",
     "iopub.status.idle": "2023-11-29T06:08:21.076438Z",
     "shell.execute_reply": "2023-11-29T06:08:21.075809Z",
     "shell.execute_reply.started": "2023-11-29T06:08:20.710842Z"
    },
    "tags": []
   },
   "outputs": [],
   "source": [
    "delete_cols = ['V_point_1', 'V_point_2', 'V_point_3', 'V_point_4', \n",
    "              'LV_point_1', 'LV_point_2', 'LV_point_3', 'LV_point_4',\n",
    "              'V_LV_point_num', 'V_LV_point_n', 'LV_point_n', 'V_LV_point_num2',\n",
    "              'V_LV_point_n2',\t'LV_point_n2',\t'V_LV_point_delta',\t'V_LV_shortest_vector',\n",
    "              'V_LV_shortest_distance', 'total_rel', 'd_delta']\n",
    "\n",
    "df2 = df.copy()\n",
    "df2.drop(delete_cols, inplace = True, axis = 1)\n",
    "\n",
    "df2 = df2.dropna(subset = ['veh_id', 'frm'])"
   ]
  },
  {
   "cell_type": "code",
   "execution_count": 61,
   "id": "42c4219e-4919-449b-907b-512ce86f30cb",
   "metadata": {
    "execution": {
     "iopub.execute_input": "2023-11-29T06:08:21.077438Z",
     "iopub.status.busy": "2023-11-29T06:08:21.077438Z",
     "iopub.status.idle": "2023-11-29T06:08:22.633910Z",
     "shell.execute_reply": "2023-11-29T06:08:22.633910Z",
     "shell.execute_reply.started": "2023-11-29T06:08:21.077438Z"
    },
    "tags": []
   },
   "outputs": [],
   "source": [
    "folder_name = '03_SSM'\n",
    "save_name = file_name\n",
    "save_path = os.path.join(working_dir, folder_name, save_name)\n",
    "\n",
    "df2.to_parquet(save_path, engine = 'fastparquet', compression = 'gzip') "
   ]
  },
  {
   "cell_type": "code",
   "execution_count": 62,
   "id": "e2100bd1-6369-4b91-8ff0-12046084afad",
   "metadata": {
    "execution": {
     "iopub.execute_input": "2023-11-29T06:08:22.634909Z",
     "iopub.status.busy": "2023-11-29T06:08:22.634909Z",
     "iopub.status.idle": "2023-11-29T06:08:22.650705Z",
     "shell.execute_reply": "2023-11-29T06:08:22.649652Z",
     "shell.execute_reply.started": "2023-11-29T06:08:22.634909Z"
    },
    "tags": []
   },
   "outputs": [
    {
     "data": {
      "text/html": [
       "<div>\n",
       "<style scoped>\n",
       "    .dataframe tbody tr th:only-of-type {\n",
       "        vertical-align: middle;\n",
       "    }\n",
       "\n",
       "    .dataframe tbody tr th {\n",
       "        vertical-align: top;\n",
       "    }\n",
       "\n",
       "    .dataframe thead th {\n",
       "        text-align: right;\n",
       "    }\n",
       "</style>\n",
       "<table border=\"1\" class=\"dataframe\">\n",
       "  <thead>\n",
       "    <tr style=\"text-align: right;\">\n",
       "      <th></th>\n",
       "      <th>pPET</th>\n",
       "      <th>T2</th>\n",
       "      <th>ACT</th>\n",
       "    </tr>\n",
       "  </thead>\n",
       "  <tbody>\n",
       "    <tr>\n",
       "      <th>0</th>\n",
       "      <td>NaN</td>\n",
       "      <td>NaN</td>\n",
       "      <td>NaN</td>\n",
       "    </tr>\n",
       "    <tr>\n",
       "      <th>1</th>\n",
       "      <td>20.362998</td>\n",
       "      <td>NaN</td>\n",
       "      <td>NaN</td>\n",
       "    </tr>\n",
       "    <tr>\n",
       "      <th>2</th>\n",
       "      <td>14.790288</td>\n",
       "      <td>NaN</td>\n",
       "      <td>15.554467</td>\n",
       "    </tr>\n",
       "    <tr>\n",
       "      <th>3</th>\n",
       "      <td>15.199430</td>\n",
       "      <td>NaN</td>\n",
       "      <td>NaN</td>\n",
       "    </tr>\n",
       "    <tr>\n",
       "      <th>4</th>\n",
       "      <td>23.551986</td>\n",
       "      <td>NaN</td>\n",
       "      <td>NaN</td>\n",
       "    </tr>\n",
       "    <tr>\n",
       "      <th>...</th>\n",
       "      <td>...</td>\n",
       "      <td>...</td>\n",
       "      <td>...</td>\n",
       "    </tr>\n",
       "    <tr>\n",
       "      <th>265500</th>\n",
       "      <td>NaN</td>\n",
       "      <td>NaN</td>\n",
       "      <td>NaN</td>\n",
       "    </tr>\n",
       "    <tr>\n",
       "      <th>265501</th>\n",
       "      <td>NaN</td>\n",
       "      <td>NaN</td>\n",
       "      <td>NaN</td>\n",
       "    </tr>\n",
       "    <tr>\n",
       "      <th>265502</th>\n",
       "      <td>NaN</td>\n",
       "      <td>NaN</td>\n",
       "      <td>NaN</td>\n",
       "    </tr>\n",
       "    <tr>\n",
       "      <th>265503</th>\n",
       "      <td>NaN</td>\n",
       "      <td>NaN</td>\n",
       "      <td>NaN</td>\n",
       "    </tr>\n",
       "    <tr>\n",
       "      <th>265504</th>\n",
       "      <td>NaN</td>\n",
       "      <td>NaN</td>\n",
       "      <td>NaN</td>\n",
       "    </tr>\n",
       "  </tbody>\n",
       "</table>\n",
       "<p>265505 rows × 3 columns</p>\n",
       "</div>"
      ],
      "text/plain": [
       "             pPET  T2        ACT\n",
       "0             NaN NaN        NaN\n",
       "1       20.362998 NaN        NaN\n",
       "2       14.790288 NaN  15.554467\n",
       "3       15.199430 NaN        NaN\n",
       "4       23.551986 NaN        NaN\n",
       "...           ...  ..        ...\n",
       "265500        NaN NaN        NaN\n",
       "265501        NaN NaN        NaN\n",
       "265502        NaN NaN        NaN\n",
       "265503        NaN NaN        NaN\n",
       "265504        NaN NaN        NaN\n",
       "\n",
       "[265505 rows x 3 columns]"
      ]
     },
     "execution_count": 62,
     "metadata": {},
     "output_type": "execute_result"
    }
   ],
   "source": [
    "df2[['pPET', 'T2', 'ACT']]"
   ]
  },
  {
   "cell_type": "code",
   "execution_count": 63,
   "id": "c49faf78-38f4-4817-afb9-7923cba28f54",
   "metadata": {
    "execution": {
     "iopub.execute_input": "2023-11-29T06:08:22.650705Z",
     "iopub.status.busy": "2023-11-29T06:08:22.650705Z",
     "iopub.status.idle": "2023-11-29T06:08:22.666224Z",
     "shell.execute_reply": "2023-11-29T06:08:22.665225Z",
     "shell.execute_reply.started": "2023-11-29T06:08:22.650705Z"
    },
    "tags": []
   },
   "outputs": [],
   "source": [
    "# tqdm.pandas()\n",
    "\n",
    "# folder_name = '03_SSM'\n",
    "# file_name = 'merging_type1_03frm_0.10sec.parquet'\n",
    "# file_path = os.path.join(working_dir, folder_name, file_name)\n",
    "\n",
    "# df = pq.read_pandas(file_path).to_pandas()\n",
    "\n",
    "# # df['MMTC'] = df.progress_apply(lambda x: MMTC(x.potential_conflict_type, x.LV_type, x.local_x, x.LV_local_x, x.velocity_x, x.LV_velocity_x, g, x.V_wid, x.LV_wid, x.local_y, x.LV_local_y, x.velocity_y, x.LV_velocity_y), axis = 1)\n",
    "\n",
    "# # 꼭지점 4개 만들기\n",
    "# # 각 차량의 1,2,3,4번 꼭지점 좌표를 구한다.\n",
    "# df['V_point_1'], df['V_point_2'], df['V_point_3'], df['V_point_4'] = zip(*df.progress_apply(lambda x: points(x.local_x, x.local_y, x.velocity_x, x.velocity_y, x.V_wid, x.V_len), axis = 1))\n",
    "# df['LV_point_1'], df['LV_point_2'], df['LV_point_3'], df['LV_point_4'] = zip(*df.progress_apply(lambda x: points(x.LV_local_x, x.LV_local_y, x.LV_velocity_x, x.LV_velocity_y, x.LV_wid, x.LV_len), axis = 1))\n",
    "\n",
    "# ## Nearest_point 추출\n",
    "# df['V_LV_point_num'], df['V_LV_point_n'], df['LV_point_n'], df['V_LV_point_num2'], df['V_LV_point_n2'], df['LV_point_n2'] = zip(*df.progress_apply(lambda x: nearest_point(x.V_point_1, x.V_point_2, x.V_point_3, x.V_point_4, x.LV_point_1, x.LV_point_2, x.LV_point_3, x.LV_point_4), axis = 1))\n",
    "\n",
    "# ## Shortest Distance 구하기 : ACT 용\n",
    "# df['V_LV_point_delta'], df['V_LV_shortest_vector'], df['V_LV_shortest_distance'] = zip(*df.progress_apply(lambda x: shortest_distance(\n",
    "#     x.V_LV_point_num, x.V_LV_point_n, x.LV_point_n, \n",
    "#     x.V_point_1, x.V_point_2, x.V_point_3, x.V_point_4, \n",
    "#     x.LV_point_1, x.LV_point_2, x.LV_point_3, x.LV_point_4), axis = 1))\n",
    "\n",
    "# ## Nearest_point 추출\n",
    "# df['V_LV_point_num'], df['V_LV_point_n'], df['LV_point_n'], df['V_LV_point_num2'], df['V_LV_point_n2'], df['LV_point_n2'] = zip(*df.progress_apply(lambda x: nearest_point(x.V_point_1, x.V_point_2, x.V_point_3, x.V_point_4, x.LV_point_1, x.LV_point_2, x.LV_point_3, x.LV_point_4), axis = 1))\n",
    "\n",
    "# debug = []\n",
    "\n",
    "# #df['ip1'], df['ip2'], df['cos_theta'], df['theta'], df['degX'],\n",
    "# df['potential_conflict_type'], df['degX'] = zip(*df.progress_apply(lambda x: potential_conflict_type(x.LV_type, x.D_gap, x.V_LV_point_num, x.V_LV_point_num2, x.velocity_x, x.velocity_y, x.LV_velocity_x, x.LV_velocity_y, x.local_x, x.local_y, x.LV_local_x, x.LV_local_y, x.V_len, x.LV_len), axis = 1))\n",
    "\n",
    "# df['ACT'], df['total_rel'], df['d_delta'] = zip(*df.progress_apply(lambda x: ACT(\n",
    "#     x.velocity_x, x.velocity_y, x.velocity_x_before, x.velocity_y_before,\n",
    "#     x.LV_velocity_x, x.LV_velocity_y, x.LV_velocity_x_before, x.LV_velocity_y_before,\n",
    "#     x.acc_x, x.acc_y, x.LV_acc_x, x.LV_acc_y, \n",
    "#     x.V_LV_shortest_vector, x.V_LV_shortest_distance), axis = 1))\n",
    "\n",
    "# delete_cols = ['V_point_1', 'V_point_2', 'V_point_3', 'V_point_4', \n",
    "#               'LV_point_1', 'LV_point_2', 'LV_point_3', 'LV_point_4',\n",
    "#               'V_LV_point_num', 'V_LV_point_n', 'LV_point_n', 'V_LV_point_num2',\n",
    "#               'V_LV_point_n2',\t'LV_point_n2',\t'V_LV_point_delta',\t'V_LV_shortest_vector',\n",
    "#               'V_LV_shortest_distance', 'total_rel', 'd_delta']\n",
    "#               #'V_rel', 'acc_rel', 'angle_rel']\n",
    "\n",
    "# df2 = df.copy()\n",
    "# df2.drop(delete_cols, inplace = True, axis = 1)\n",
    "\n",
    "\n",
    "# folder_name = '03_SSM'\n",
    "# save_name = file_name\n",
    "# save_path = os.path.join(working_dir, folder_name, save_name)\n",
    "\n",
    "# df2.to_parquet(save_path, engine = 'fastparquet', compression = 'gzip') "
   ]
  },
  {
   "cell_type": "code",
   "execution_count": 64,
   "id": "304ee27d-9d8b-4cbf-8e75-00a706fc2b80",
   "metadata": {
    "execution": {
     "iopub.execute_input": "2023-11-29T06:08:22.668219Z",
     "iopub.status.busy": "2023-11-29T06:08:22.668219Z",
     "iopub.status.idle": "2023-11-29T06:08:22.728504Z",
     "shell.execute_reply": "2023-11-29T06:08:22.728504Z",
     "shell.execute_reply.started": "2023-11-29T06:08:22.668219Z"
    }
   },
   "outputs": [
    {
     "data": {
      "text/html": [
       "<div>\n",
       "<style scoped>\n",
       "    .dataframe tbody tr th:only-of-type {\n",
       "        vertical-align: middle;\n",
       "    }\n",
       "\n",
       "    .dataframe tbody tr th {\n",
       "        vertical-align: top;\n",
       "    }\n",
       "\n",
       "    .dataframe thead th {\n",
       "        text-align: right;\n",
       "    }\n",
       "</style>\n",
       "<table border=\"1\" class=\"dataframe\">\n",
       "  <thead>\n",
       "    <tr style=\"text-align: right;\">\n",
       "      <th></th>\n",
       "      <th>V_LV_shortest_distance</th>\n",
       "      <th>total_rel</th>\n",
       "      <th>d_delta</th>\n",
       "      <th>T2</th>\n",
       "      <th>TTC</th>\n",
       "      <th>MTTC</th>\n",
       "      <th>ACT</th>\n",
       "    </tr>\n",
       "  </thead>\n",
       "  <tbody>\n",
       "    <tr>\n",
       "      <th>0</th>\n",
       "      <td>NaN</td>\n",
       "      <td>None</td>\n",
       "      <td>NaN</td>\n",
       "      <td>NaN</td>\n",
       "      <td>NaN</td>\n",
       "      <td>NaN</td>\n",
       "      <td>NaN</td>\n",
       "    </tr>\n",
       "    <tr>\n",
       "      <th>1</th>\n",
       "      <td>91.207920</td>\n",
       "      <td>None</td>\n",
       "      <td>NaN</td>\n",
       "      <td>NaN</td>\n",
       "      <td>NaN</td>\n",
       "      <td>NaN</td>\n",
       "      <td>NaN</td>\n",
       "    </tr>\n",
       "    <tr>\n",
       "      <th>2</th>\n",
       "      <td>90.971394</td>\n",
       "      <td>[4.23048962175395, 4.038407410127604]</td>\n",
       "      <td>5.84857</td>\n",
       "      <td>NaN</td>\n",
       "      <td>NaN</td>\n",
       "      <td>NaN</td>\n",
       "      <td>15.554467</td>\n",
       "    </tr>\n",
       "    <tr>\n",
       "      <th>3</th>\n",
       "      <td>90.711067</td>\n",
       "      <td>[-2.248533892037565, -2.414158409469214]</td>\n",
       "      <td>NaN</td>\n",
       "      <td>NaN</td>\n",
       "      <td>NaN</td>\n",
       "      <td>NaN</td>\n",
       "      <td>NaN</td>\n",
       "    </tr>\n",
       "    <tr>\n",
       "      <th>4</th>\n",
       "      <td>90.482678</td>\n",
       "      <td>[-2.86151369616484, -3.0681767122933317]</td>\n",
       "      <td>NaN</td>\n",
       "      <td>NaN</td>\n",
       "      <td>NaN</td>\n",
       "      <td>NaN</td>\n",
       "      <td>NaN</td>\n",
       "    </tr>\n",
       "    <tr>\n",
       "      <th>...</th>\n",
       "      <td>...</td>\n",
       "      <td>...</td>\n",
       "      <td>...</td>\n",
       "      <td>...</td>\n",
       "      <td>...</td>\n",
       "      <td>...</td>\n",
       "      <td>...</td>\n",
       "    </tr>\n",
       "    <tr>\n",
       "      <th>265500</th>\n",
       "      <td>NaN</td>\n",
       "      <td>None</td>\n",
       "      <td>NaN</td>\n",
       "      <td>NaN</td>\n",
       "      <td>NaN</td>\n",
       "      <td>NaN</td>\n",
       "      <td>NaN</td>\n",
       "    </tr>\n",
       "    <tr>\n",
       "      <th>265501</th>\n",
       "      <td>NaN</td>\n",
       "      <td>None</td>\n",
       "      <td>NaN</td>\n",
       "      <td>NaN</td>\n",
       "      <td>NaN</td>\n",
       "      <td>NaN</td>\n",
       "      <td>NaN</td>\n",
       "    </tr>\n",
       "    <tr>\n",
       "      <th>265502</th>\n",
       "      <td>NaN</td>\n",
       "      <td>None</td>\n",
       "      <td>NaN</td>\n",
       "      <td>NaN</td>\n",
       "      <td>NaN</td>\n",
       "      <td>NaN</td>\n",
       "      <td>NaN</td>\n",
       "    </tr>\n",
       "    <tr>\n",
       "      <th>265503</th>\n",
       "      <td>NaN</td>\n",
       "      <td>None</td>\n",
       "      <td>NaN</td>\n",
       "      <td>NaN</td>\n",
       "      <td>NaN</td>\n",
       "      <td>NaN</td>\n",
       "      <td>NaN</td>\n",
       "    </tr>\n",
       "    <tr>\n",
       "      <th>265504</th>\n",
       "      <td>NaN</td>\n",
       "      <td>None</td>\n",
       "      <td>NaN</td>\n",
       "      <td>NaN</td>\n",
       "      <td>NaN</td>\n",
       "      <td>NaN</td>\n",
       "      <td>NaN</td>\n",
       "    </tr>\n",
       "  </tbody>\n",
       "</table>\n",
       "<p>265505 rows × 7 columns</p>\n",
       "</div>"
      ],
      "text/plain": [
       "        V_LV_shortest_distance                                 total_rel  \\\n",
       "0                          NaN                                      None   \n",
       "1                    91.207920                                      None   \n",
       "2                    90.971394     [4.23048962175395, 4.038407410127604]   \n",
       "3                    90.711067  [-2.248533892037565, -2.414158409469214]   \n",
       "4                    90.482678  [-2.86151369616484, -3.0681767122933317]   \n",
       "...                        ...                                       ...   \n",
       "265500                     NaN                                      None   \n",
       "265501                     NaN                                      None   \n",
       "265502                     NaN                                      None   \n",
       "265503                     NaN                                      None   \n",
       "265504                     NaN                                      None   \n",
       "\n",
       "        d_delta  T2  TTC  MTTC        ACT  \n",
       "0           NaN NaN  NaN   NaN        NaN  \n",
       "1           NaN NaN  NaN   NaN        NaN  \n",
       "2       5.84857 NaN  NaN   NaN  15.554467  \n",
       "3           NaN NaN  NaN   NaN        NaN  \n",
       "4           NaN NaN  NaN   NaN        NaN  \n",
       "...         ...  ..  ...   ...        ...  \n",
       "265500      NaN NaN  NaN   NaN        NaN  \n",
       "265501      NaN NaN  NaN   NaN        NaN  \n",
       "265502      NaN NaN  NaN   NaN        NaN  \n",
       "265503      NaN NaN  NaN   NaN        NaN  \n",
       "265504      NaN NaN  NaN   NaN        NaN  \n",
       "\n",
       "[265505 rows x 7 columns]"
      ]
     },
     "execution_count": 64,
     "metadata": {},
     "output_type": "execute_result"
    }
   ],
   "source": [
    "df[['V_LV_shortest_distance', 'total_rel', 'd_delta', 'T2', 'TTC', 'MTTC', 'ACT']]"
   ]
  },
  {
   "cell_type": "code",
   "execution_count": 65,
   "id": "77bc7b60-6843-402e-b735-6f43491a9800",
   "metadata": {
    "execution": {
     "iopub.execute_input": "2023-11-29T06:08:22.729504Z",
     "iopub.status.busy": "2023-11-29T06:08:22.729504Z",
     "iopub.status.idle": "2023-11-29T06:08:22.744466Z",
     "shell.execute_reply": "2023-11-29T06:08:22.743466Z",
     "shell.execute_reply.started": "2023-11-29T06:08:22.729504Z"
    },
    "tags": []
   },
   "outputs": [],
   "source": [
    "# df['TIT'] = df.progress_apply(lambda x: TIT(x.TTC, threshold_TTC, tmsec), axis = 1)\n",
    "# df['TIT2'] = df.progress_apply(lambda x: TIT(x.T2, threshold_TTC, tmsec), axis = 1)\n",
    "# df['TGIT'] = df.progress_apply(lambda x: TIT(x.time_gap, threshold_TTC, tmsec), axis = 1)\n",
    "# df['TIACT'] = df.progress_apply(lambda x: TIT(x.ACT, threshold_TTC, tmsec), axis = 1)\n",
    "\n",
    "# df['TIDSS'] = df.progress_apply(lambda x: TIDSS(x.DSS, tmsec), axis = 1)\n",
    "# df['TIDRAC'] = df.progress_apply(lambda x: TIDRAC(x.DRAC, threshold_DRAC), axis = 1)\n",
    "# df['TIMDRAC'] = df.progress_apply(lambda x: TIDRAC(x.MDRAC, threshold_DRAC), axis = 1)"
   ]
  },
  {
   "cell_type": "code",
   "execution_count": null,
   "id": "793374ce-3e23-4768-9f93-a7265ad41749",
   "metadata": {},
   "outputs": [],
   "source": []
  }
 ],
 "metadata": {
  "kernelspec": {
   "display_name": "Python 3 (ipykernel)",
   "language": "python",
   "name": "python3"
  },
  "language_info": {
   "codemirror_mode": {
    "name": "ipython",
    "version": 3
   },
   "file_extension": ".py",
   "mimetype": "text/x-python",
   "name": "python",
   "nbconvert_exporter": "python",
   "pygments_lexer": "ipython3",
   "version": "3.8.18"
  },
  "toc-autonumbering": false,
  "toc-showmarkdowntxt": false
 },
 "nbformat": 4,
 "nbformat_minor": 5
}
