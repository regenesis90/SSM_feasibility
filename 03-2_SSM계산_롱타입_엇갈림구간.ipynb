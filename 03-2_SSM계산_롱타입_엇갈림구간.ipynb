{
 "cells": [
  {
   "cell_type": "markdown",
   "id": "7bbb1b30-bf75-4ceb-bbaa-180407492126",
   "metadata": {},
   "source": [
    "# SSM 계산 : 차량 페어, 롱타입\n",
    "* Heatmap으로 나타내기\n",
    "* 시공도로 나타내기"
   ]
  },
  {
   "cell_type": "markdown",
   "id": "0ef842f1-952a-4871-a5b4-7f6f6f6f7ea8",
   "metadata": {},
   "source": [
    "# Import"
   ]
  },
  {
   "cell_type": "code",
   "execution_count": 1,
   "id": "f338fe77-1cf1-4a41-83b7-a5e506c649e9",
   "metadata": {
    "execution": {
     "iopub.execute_input": "2023-12-04T03:28:49.942871Z",
     "iopub.status.busy": "2023-12-04T03:28:49.941873Z",
     "iopub.status.idle": "2023-12-04T03:28:50.523358Z",
     "shell.execute_reply": "2023-12-04T03:28:50.522359Z",
     "shell.execute_reply.started": "2023-12-04T03:28:49.942871Z"
    },
    "tags": []
   },
   "outputs": [],
   "source": [
    "import pandas as pd\n",
    "import numpy as np\n",
    "\n",
    "from tqdm import tqdm\n",
    "import warnings\n",
    "import os\n",
    "\n",
    "import math # arctangent; math.atan 사용 목적\n",
    "import statistics\n",
    "\n",
    "from SSM_base import *\n",
    "from SSM_time_based import *\n",
    "from SSM_deceleration_based import *\n",
    "from SSM_energy_based import *\n",
    "\n",
    "import pyarrow.parquet as pq\n",
    "#df = pq.read_pandas('data.parquet').to_pandas()"
   ]
  },
  {
   "cell_type": "code",
   "execution_count": 2,
   "id": "ee800449-8622-4326-b0ba-8588cd2fbc99",
   "metadata": {
    "execution": {
     "iopub.execute_input": "2023-12-04T03:28:50.524353Z",
     "iopub.status.busy": "2023-12-04T03:28:50.524353Z",
     "iopub.status.idle": "2023-12-04T03:28:50.539284Z",
     "shell.execute_reply": "2023-12-04T03:28:50.537289Z",
     "shell.execute_reply.started": "2023-12-04T03:28:50.524353Z"
    },
    "tags": []
   },
   "outputs": [
    {
     "name": "stdout",
     "output_type": "stream",
     "text": [
      "Help on function points in module SSM_base:\n",
      "\n",
      "points(local_x, local_y, velocity_x, velocity_y, v_len, v_wid)\n",
      "    리뉴얼 :: 차량의 4개 꼭지점 좌표를 반환하는 함수\n",
      "    각 차량 포인트 추출 : corner_1x, corner_1y, ... corner_4x, corner_4y\n",
      "\n"
     ]
    }
   ],
   "source": [
    "help(points)"
   ]
  },
  {
   "cell_type": "markdown",
   "id": "e2f498ef-0185-4e3c-bdd0-94e30067b58f",
   "metadata": {
    "tags": []
   },
   "source": [
    "# Load Dataset"
   ]
  },
  {
   "cell_type": "code",
   "execution_count": 3,
   "id": "feb03977-a4ef-4579-9b19-98fba5e090bc",
   "metadata": {
    "execution": {
     "iopub.execute_input": "2023-12-04T03:28:50.541279Z",
     "iopub.status.busy": "2023-12-04T03:28:50.540284Z",
     "iopub.status.idle": "2023-12-04T03:28:50.553246Z",
     "shell.execute_reply": "2023-12-04T03:28:50.552250Z",
     "shell.execute_reply.started": "2023-12-04T03:28:50.541279Z"
    },
    "tags": []
   },
   "outputs": [],
   "source": [
    "working_dir = 'D:/OneDrive/Projects/2023_SSM_Feasibility/Dataset'"
   ]
  },
  {
   "cell_type": "code",
   "execution_count": 4,
   "id": "57381eab-d3f9-443f-bc89-5f911c64c5a5",
   "metadata": {
    "execution": {
     "iopub.execute_input": "2023-12-04T03:28:50.555241Z",
     "iopub.status.busy": "2023-12-04T03:28:50.555241Z",
     "iopub.status.idle": "2023-12-04T03:28:50.569235Z",
     "shell.execute_reply": "2023-12-04T03:28:50.568232Z",
     "shell.execute_reply.started": "2023-12-04T03:28:50.555241Z"
    },
    "tags": []
   },
   "outputs": [],
   "source": [
    "file_list = ['LV_long_trajectories-0750am-0805am.parquet', 'LV_long_trajectories-0805am-0820am.parquet', 'LV_long_trajectories-0820am-0835am.parquet']"
   ]
  },
  {
   "cell_type": "code",
   "execution_count": 5,
   "id": "e21584b4-6173-41ad-b43d-7fb484da49f2",
   "metadata": {
    "execution": {
     "iopub.execute_input": "2023-12-04T03:28:50.570228Z",
     "iopub.status.busy": "2023-12-04T03:28:50.570228Z",
     "iopub.status.idle": "2023-12-04T03:28:50.617077Z",
     "shell.execute_reply": "2023-12-04T03:28:50.616108Z",
     "shell.execute_reply.started": "2023-12-04T03:28:50.570228Z"
    },
    "tags": []
   },
   "outputs": [],
   "source": [
    "folder_name = '02_processed_long'\n",
    "file_list = os.listdir(os.path.join(working_dir, '02_weave_temp'))"
   ]
  },
  {
   "cell_type": "code",
   "execution_count": 6,
   "id": "3ba03c88-3612-4ead-8d03-1502ace85fb2",
   "metadata": {
    "execution": {
     "iopub.execute_input": "2023-12-04T03:28:50.617077Z",
     "iopub.status.busy": "2023-12-04T03:28:50.617077Z",
     "iopub.status.idle": "2023-12-04T03:28:50.677419Z",
     "shell.execute_reply": "2023-12-04T03:28:50.677419Z",
     "shell.execute_reply.started": "2023-12-04T03:28:50.617077Z"
    }
   },
   "outputs": [
    {
     "data": {
      "text/plain": [
       "['1000_1001_weave.parquet',\n",
       " '1000_1005_weave.parquet',\n",
       " '1000_1006_weave.parquet']"
      ]
     },
     "execution_count": 6,
     "metadata": {},
     "output_type": "execute_result"
    }
   ],
   "source": [
    "file_list[:3]"
   ]
  },
  {
   "cell_type": "markdown",
   "id": "2e2de69a-7ebf-4d3e-83f4-2190783e3618",
   "metadata": {},
   "source": [
    "# Calculation"
   ]
  },
  {
   "cell_type": "markdown",
   "id": "6e18e1d3-f476-4ba9-8b2a-edf90aebf675",
   "metadata": {},
   "source": [
    "## Settings\n",
    "* 공통 상수 설정"
   ]
  },
  {
   "cell_type": "code",
   "execution_count": 7,
   "id": "505e1aa7-be7c-4162-921b-05ae358335fb",
   "metadata": {
    "execution": {
     "iopub.execute_input": "2023-12-04T03:28:50.680183Z",
     "iopub.status.busy": "2023-12-04T03:28:50.678823Z",
     "iopub.status.idle": "2023-12-04T03:28:50.694726Z",
     "shell.execute_reply": "2023-12-04T03:28:50.692731Z",
     "shell.execute_reply.started": "2023-12-04T03:28:50.680183Z"
    },
    "tags": []
   },
   "outputs": [],
   "source": [
    "threshold_TTC = 3 # time-based SSM 임계값\n",
    "threshold_DRAC = 3.4\n",
    "threshold_PET = 1\n",
    "\n",
    "tmsec = 0.1 # 각 row별 시간단위(초)\n",
    "g = 9.81 # 중력가속도\n",
    "f = 0.35 # 마찰계수. friction coeefficient\n",
    "delta_t = 1 # Reaction Delay time. 운전자 반응시간\n",
    "MADR = 8.45 # 차량의 최대 감속 능력. 날씨에 따라, 차종에 따라 다르다. Saccomanno et al.(2008) 참조\n",
    "deceleration_rate = 0.3 * g # 차량 감속도. 3.3도 됨"
   ]
  },
  {
   "cell_type": "markdown",
   "id": "e502955e-7452-4d69-b363-3bd91e73c0b5",
   "metadata": {
    "tags": []
   },
   "source": [
    "## Time-based SSM\n",
    "* Temporal Proximal Indicator"
   ]
  },
  {
   "cell_type": "code",
   "execution_count": 8,
   "id": "9744ff3a-83b0-4a5a-92aa-d5cb3fae1c3e",
   "metadata": {
    "execution": {
     "iopub.execute_input": "2023-12-04T03:28:50.696723Z",
     "iopub.status.busy": "2023-12-04T03:28:50.696723Z",
     "iopub.status.idle": "2023-12-04T09:32:16.999900Z",
     "shell.execute_reply": "2023-12-04T09:32:16.998933Z",
     "shell.execute_reply.started": "2023-12-04T03:28:50.696723Z"
    },
    "tags": []
   },
   "outputs": [
    {
     "name": "stderr",
     "output_type": "stream",
     "text": [
      "100%|██████████████████████████████████████████████████████████████████████████| 12871/12871 [6:03:26<00:00,  1.69s/it]"
     ]
    },
    {
     "name": "stdout",
     "output_type": "stream",
     "text": [
      " ###################### ALL FILE IS COMPLETE! ######################\n"
     ]
    },
    {
     "name": "stderr",
     "output_type": "stream",
     "text": [
      "\n"
     ]
    }
   ],
   "source": [
    "# 꼭지점 4개 만들기\n",
    "# 각 차량의 1,2,3,4번 꼭지점 좌표를 구한다.\n",
    "\n",
    "warnings.filterwarnings('ignore')\n",
    "\n",
    "for file in tqdm(file_list[:12871]):\n",
    "\n",
    "    file_path = os.path.join(working_dir, '02_weave_temp', file)\n",
    "    df = pq.read_pandas(file_path).to_pandas()\n",
    "    \n",
    "    df['new_local_x'], df['new_local_y'] = zip(*df.apply(lambda x: NGSIM_center(x.local_x, x.local_y, x.velocity_x, x.velocity_y, x.V_wid, x.V_len), axis = 1))\n",
    "    df['new_LV_local_x'], df['new_LV_local_y'] = zip(*df.apply(lambda x: NGSIM_center(x.LV_local_x, x.LV_local_y, x.LV_velocity_x, x.LV_velocity_y, x.LV_wid, x.LV_len), axis = 1))\n",
    "    \n",
    "    df['V_point_1'], df['V_point_2'], df['V_point_3'], df['V_point_4'] = zip(*df.apply(lambda x: points(x.new_local_x, x.new_local_y, x.velocity_x, x.velocity_y, x.V_wid, x.V_len), axis = 1))\n",
    "    df['LV_point_1'], df['LV_point_2'], df['LV_point_3'], df['LV_point_4'] = zip(*df.apply(lambda x: points(x.new_LV_local_x, x.new_LV_local_y, x.LV_velocity_x, x.LV_velocity_y, x.LV_wid, x.LV_len), axis = 1))\n",
    "    \n",
    "    ## Nearest_point 추출\n",
    "    df['V_LV_point_num'], df['V_LV_point_n'], df['LV_point_n'], df['V_LV_point_num2'], df['V_LV_point_n2'], df['LV_point_n2'] = zip(*df.apply(lambda x: nearest_point(x.V_point_1, x.V_point_2, x.V_point_3, x.V_point_4, x.LV_point_1, x.LV_point_2, x.LV_point_3, x.LV_point_4), axis = 1))\n",
    "    \n",
    "    ## Shortest Distance 구하기 : ACT 용\n",
    "    df['V_LV_point_delta'], df['V_LV_shortest_vector'], df['V_LV_shortest_distance'] = zip(*df.apply(lambda x: shortest_distance(\n",
    "        x.V_LV_point_num, x.V_LV_point_n, x.LV_point_n, \n",
    "        x.V_point_1, x.V_point_2, x.V_point_3, x.V_point_4, \n",
    "        x.LV_point_1, x.LV_point_2, x.LV_point_3, x.LV_point_4), axis = 1))\n",
    "    \n",
    "    df['overlap'] = df.apply(lambda x: overlap(x.LV_type, x.V_LV_point_num, x.V_LV_point_num2, x.velocity_x, x.velocity_y, x.LV_velocity_x, x.LV_velocity_y, x.new_local_x, x.new_local_y, x.new_LV_local_x, x.new_LV_local_y, x.V_len, x.LV_len), axis = 1)\n",
    "    \n",
    "    df['potential_conflict_type'], df['degX'] = zip(*df.apply(lambda x: potential_conflict_type(x.LV_type, x.overlap, x.V_LV_point_num, x.V_LV_point_num2, x.velocity_x, x.velocity_y, x.LV_velocity_x, x.LV_velocity_y, x.new_local_x, x.new_local_y, x.new_LV_local_x, x.new_LV_local_y, x.V_len, x.V_wid, x.LV_len, x.LV_wid), axis = 1))\n",
    "    \n",
    "    # 2차원 SSM\n",
    "    df['T2'] = df.apply(lambda x: T2(\n",
    "        x.V_LV_point_num, x.V_LV_point_n, x.LV_point_n, \n",
    "        x.V_point_1, x.V_point_2, x.V_point_3, x.V_point_4, \n",
    "        x.LV_point_1, x.LV_point_2, x.LV_point_3, x.LV_point_4,\n",
    "        x.velocity_x, x.velocity_y, x.LV_velocity_x, x.LV_velocity_y), axis = 1)\n",
    "    \n",
    "    df['TTC'] = df.apply(lambda x: TTC(x.potential_conflict_type, x.LV_type, x.new_local_x, x.new_LV_local_x, x.velocity_x, x.LV_velocity_x, x.V_len, x.LV_len, x.V_wid, x.LV_wid, x.new_local_y, x.new_LV_local_y, x.velocity_y, x.LV_velocity_y), axis = 1)\n",
    "    \n",
    "    df['MTTC'] = df.apply(lambda x: MTTC(x.potential_conflict_type, x.LV_type, x.new_local_x, x.new_LV_local_x, x.velocity_x, x.LV_velocity_x, x.acc_x, x.LV_acc_x, x.V_len, x.LV_len, x.V_wid, x.LV_wid, x.new_local_y, x.new_LV_local_y, x.velocity_y, x.LV_velocity_y), axis = 1)\n",
    "\n",
    "    df['CI_MTTC'] = df.apply(lambda x: CI_MTTC(x.new_local_x, x.new_LV_local_x, x.velocity, x.LV_velocity, x.acc_x, x.LV_acc_x, x.MTTC), axis = 1)\n",
    "\n",
    "    df['ACT'], df['total_rel'], df['d_delta'] = zip(*df.apply(lambda x: ACT(\n",
    "    x.velocity_x, x.velocity_y, x.velocity_x_before, x.velocity_y_before,\n",
    "    x.LV_velocity_x, x.LV_velocity_y, x.LV_velocity_x_before, x.LV_velocity_y_before,\n",
    "    x.acc_x, x.acc_y, x.LV_acc_x, x.LV_acc_y, \n",
    "    x.V_LV_shortest_vector, x.V_LV_shortest_distance), axis = 1))\n",
    "    \n",
    "    df['pPET'], df['time_gap'] = zip(*df.apply(lambda x: pPET(\n",
    "    x.potential_conflict_type, x.V_LV_point_num, x.V_LV_point_n, x.LV_point_n, \n",
    "    x.V_point_1, x.V_point_2, x.V_point_3, x.V_point_4, \n",
    "    x.LV_point_1, x.LV_point_2, x.LV_point_3, x.LV_point_4,\n",
    "    x.velocity_x, x.velocity_y, x.LV_velocity_x, x.LV_velocity_y), axis = 1))\n",
    "    \n",
    "    df['PSD'] = df.apply(lambda x: PSD(x.potential_conflict_type, x.LV_type, x.new_local_x, x.new_LV_local_x, x.velocity_x, x.LV_velocity_x, x.V_len, x.LV_len, f, g, x.V_wid, x.LV_wid, x.new_local_y, x.new_LV_local_y, x.velocity_y, x.LV_velocity_y), axis = 1)\n",
    "\n",
    "    df['DSS'] = df.apply(lambda x: DSS(x.potential_conflict_type, x.LV_type, x.new_local_x, x.new_LV_local_x, x.velocity_x, x.LV_velocity_x, x.V_len, x.LV_len, g, f, delta_t, x.V_wid, x.LV_wid, x.new_local_y, x.new_LV_local_y, x.velocity_y, x.LV_velocity_y), axis = 1)\n",
    "    #df['TIDSS'] = df.apply(lambda x: TIDSS(x.DSS, tmsec), axis = 1)\n",
    "\n",
    "    df['PICUD'] = df.apply(lambda x: PICUD(x.potential_conflict_type, x.LV_type, x.new_local_x, x.new_LV_local_x, x.velocity_x, x.LV_velocity_x, x.D_x, delta_t, deceleration_rate, x.V_wid, x.LV_wid, x.new_local_y, x.new_LV_local_y, x.velocity_y, x.LV_velocity_y), axis = 1)\n",
    "    \n",
    "    df['MTC'] = df.apply(lambda x: MTC(x.potential_conflict_type, x.LV_type, x.new_local_x, x.new_LV_local_x, x.D_x, x.V_len, x.LV_len, x.velocity_x, x.LV_velocity, delta_t, deceleration_rate, x.V_wid, x.LV_wid, x.new_local_y, x.new_LV_local_y, x.velocity_y, x.LV_velocity_y), axis = 1)\n",
    "    \n",
    "    df['MMTC'] = df.apply(lambda x: MMTC(x.potential_conflict_type, x.LV_type, x.new_local_x, x.new_LV_local_x, x.velocity_x, x.LV_velocity_x, g, x.V_wid, x.LV_wid, x.new_local_y, x.new_LV_local_y, x.velocity_y, x.LV_velocity_y), axis = 1)\n",
    "\n",
    "\n",
    "    df['DRAC'] = df.apply(lambda x: DRAC(x.potential_conflict_type, x.LV_type, x.new_local_x, x.new_LV_local_x, x.D_x, x.velocity_x, x.LV_velocity_x, x.LV_len, x.V_len, x.V_wid, x.LV_wid, x.new_local_y, x.new_LV_local_y, x.velocity_y, x.LV_velocity_y), axis = 1)\n",
    "    #df['TIDRAC'] = df.apply(lambda x: TIDRAC(x.DRAC, threshold_DRAC), axis = 1)\n",
    "\n",
    "    df['MDRAC'] = df.apply(lambda x: MDRAC(x.potential_conflict_type, x.LV_type, x.new_local_x, x.new_LV_local_x, x.velocity_x, x.LV_velocity_x, x.TTC, delta_t, x.V_wid, x.LV_wid, x.new_local_y, x.new_LV_local_y, x.velocity_y, x.LV_velocity_y), axis = 1)\n",
    "\n",
    "    df['DCIA'] = df.apply(lambda x: DCIA(x.potential_conflict_type, x.LV_type, x.new_local_x, x.new_LV_local_x, x.velocity_x, x.LV_velocity_x, x.acc_x, x.LV_acc_x, delta_t, x.D_x, x.V_wid, x.LV_wid, x.new_local_y, x.new_LV_local_y, x.velocity_y, x.LV_velocity_y), axis = 1)\n",
    "\n",
    "    df['unsafety'] = df.apply(lambda x: unsafety(x.potential_conflict_type, x.LV_type, x.new_local_x, x.new_LV_local_x, x.velocity_x, x.LV_velocity_x, x.acc_x, x.LV_acc_x, deceleration_rate, x.V_wid, x.LV_wid, x.new_local_y, x.new_LV_local_y, x.velocity_y, x.LV_velocity_y), axis = 1)\n",
    "\n",
    "    df['TIT'] = df.apply(lambda x: TIT(x.TTC, threshold_TTC, tmsec), axis = 1)\n",
    "    df['TIT2'] = df.apply(lambda x: TIT(x.T2, threshold_TTC, tmsec), axis = 1)\n",
    "    df['TIACT'] = df.apply(lambda x: TIT(x.ACT, threshold_TTC, tmsec), axis = 1)\n",
    "    df['TITAdv'] = df.apply(lambda x: TIT(x.pPET, threshold_PET, tmsec), axis = 1)\n",
    "    df['TITimeGap'] = df.apply(lambda x: TIT(x.time_gap, threshold_PET, tmsec), axis = 1)\n",
    "    \n",
    "    df['TIPICUD'] = df.apply(lambda x: TIDSS(x.PICUD, tmsec), axis = 1)\n",
    "    df['TIDSS'] = df.apply(lambda x: TIDSS(x.DSS, tmsec), axis = 1)\n",
    "    \n",
    "    df['TIDRAC'] = df.apply(lambda x: TIDRAC(x.DRAC, threshold_DRAC), axis = 1)\n",
    "    df['TIMDRAC'] = df.apply(lambda x: TIDRAC(x.MDRAC, threshold_DRAC), axis = 1)\n",
    "    df['TIDCIA'] = df.apply(lambda x: TIDRAC(x.DCIA, threshold_DRAC), axis = 1)\n",
    "    \n",
    "    #### SAVE ####\n",
    "    save_folder = '03_SSM_weave_temp'\n",
    "    save_name = file\n",
    "    save_path = os.path.join(working_dir, save_folder, save_name)\n",
    "    \n",
    "    delete_cols = ['V_point_1', 'V_point_2', 'V_point_3', 'V_point_4', \n",
    "              'LV_point_1', 'LV_point_2', 'LV_point_3', 'LV_point_4',\n",
    "              'V_LV_point_num', 'V_LV_point_n', 'LV_point_n', 'V_LV_point_num2',\n",
    "              'V_LV_point_n2',\t'LV_point_n2',\t'V_LV_point_delta',\t'V_LV_shortest_vector',\n",
    "              'V_LV_shortest_distance', 'total_rel', 'd_delta']\n",
    "    \n",
    "    df.drop(delete_cols, axis = 1, inplace = True)\n",
    "    df.to_parquet(save_path, engine = 'fastparquet', compression = 'gzip') \n",
    "    \n",
    "print(f' ###################### ALL FILE IS COMPLETE! ######################')"
   ]
  },
  {
   "cell_type": "code",
   "execution_count": 9,
   "id": "b8318a1f-e532-45e9-94f9-b7e53610f3a9",
   "metadata": {
    "execution": {
     "iopub.execute_input": "2023-12-04T09:32:17.000898Z",
     "iopub.status.busy": "2023-12-04T09:32:17.000898Z",
     "iopub.status.idle": "2023-12-04T09:56:06.693314Z",
     "shell.execute_reply": "2023-12-04T09:56:06.692188Z",
     "shell.execute_reply.started": "2023-12-04T09:32:17.000898Z"
    }
   },
   "outputs": [
    {
     "name": "stderr",
     "output_type": "stream",
     "text": [
      "100%|████████████████████████████████████████████████████████████████████████████| 44278/44278 [23:29<00:00, 31.42it/s]\n"
     ]
    }
   ],
   "source": [
    "# 통합파일을 저장할 것\n",
    "save_folder = '03_SSM'\n",
    "save_file = 'long_trajectories-0750am-0805am.parquet'\n",
    "save_path = os.path.join(working_dir, save_folder, save_file)\n",
    "\n",
    "# 통합할 파일 리스트\n",
    "file_list = os.listdir(os.path.join(working_dir, '03_SSM_weave_temp'))\n",
    "# 대표 스키마\n",
    "schema_path = os.path.join(working_dir, '03_SSM_weave_temp', '1001_990_weave.parquet')\n",
    "schema = pq.ParquetFile(schema_path).schema_arrow\n",
    "\n",
    "# 통합파일로 저장하기\n",
    "with pq.ParquetWriter(save_path, schema = schema) as writer:\n",
    "    for file in tqdm(file_list):\n",
    "        file_path = os.path.join(working_dir, '03_SSM_weave_temp', file)\n",
    "        \n",
    "        try:\n",
    "            writer.write_table(pq.read_table(file_path, schema = schema))\n",
    "        except:\n",
    "            print(file)"
   ]
  }
 ],
 "metadata": {
  "kernelspec": {
   "display_name": "Python 3 (ipykernel)",
   "language": "python",
   "name": "python3"
  },
  "language_info": {
   "codemirror_mode": {
    "name": "ipython",
    "version": 3
   },
   "file_extension": ".py",
   "mimetype": "text/x-python",
   "name": "python",
   "nbconvert_exporter": "python",
   "pygments_lexer": "ipython3",
   "version": "3.8.18"
  },
  "toc-autonumbering": false,
  "toc-showmarkdowntxt": false
 },
 "nbformat": 4,
 "nbformat_minor": 5
}
