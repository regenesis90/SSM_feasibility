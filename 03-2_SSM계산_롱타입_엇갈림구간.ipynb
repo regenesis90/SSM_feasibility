{
 "cells": [
  {
   "cell_type": "markdown",
   "id": "7bbb1b30-bf75-4ceb-bbaa-180407492126",
   "metadata": {},
   "source": [
    "# SSM 계산 : 차량 페어, 롱타입\n",
    "* Heatmap으로 나타내기\n",
    "* 시공도로 나타내기"
   ]
  },
  {
   "cell_type": "markdown",
   "id": "0ef842f1-952a-4871-a5b4-7f6f6f6f7ea8",
   "metadata": {},
   "source": [
    "# Import"
   ]
  },
  {
   "cell_type": "code",
   "execution_count": 1,
   "id": "f338fe77-1cf1-4a41-83b7-a5e506c649e9",
   "metadata": {
    "execution": {
     "iopub.execute_input": "2023-11-28T08:46:48.208022Z",
     "iopub.status.busy": "2023-11-28T08:46:48.208022Z",
     "iopub.status.idle": "2023-11-28T08:46:48.671501Z",
     "shell.execute_reply": "2023-11-28T08:46:48.671501Z",
     "shell.execute_reply.started": "2023-11-28T08:46:48.208022Z"
    },
    "tags": []
   },
   "outputs": [],
   "source": [
    "import pandas as pd\n",
    "import numpy as np\n",
    "\n",
    "from tqdm import tqdm\n",
    "import warnings\n",
    "import os\n",
    "\n",
    "import math # arctangent; math.atan 사용 목적\n",
    "import statistics\n",
    "\n",
    "from SSM_base import *\n",
    "from SSM_time_based import *\n",
    "from SSM_deceleration_based import *\n",
    "from SSM_energy_based import *\n",
    "\n",
    "import pyarrow.parquet as pq\n",
    "#df = pq.read_pandas('data.parquet').to_pandas()"
   ]
  },
  {
   "cell_type": "code",
   "execution_count": null,
   "id": "ee800449-8622-4326-b0ba-8588cd2fbc99",
   "metadata": {
    "tags": []
   },
   "outputs": [],
   "source": [
    "help(points)"
   ]
  },
  {
   "cell_type": "markdown",
   "id": "e2f498ef-0185-4e3c-bdd0-94e30067b58f",
   "metadata": {
    "tags": []
   },
   "source": [
    "# Load Dataset"
   ]
  },
  {
   "cell_type": "code",
   "execution_count": 2,
   "id": "feb03977-a4ef-4579-9b19-98fba5e090bc",
   "metadata": {
    "execution": {
     "iopub.execute_input": "2023-11-28T08:46:49.178764Z",
     "iopub.status.busy": "2023-11-28T08:46:49.178764Z",
     "iopub.status.idle": "2023-11-28T08:46:49.182758Z",
     "shell.execute_reply": "2023-11-28T08:46:49.181764Z",
     "shell.execute_reply.started": "2023-11-28T08:46:49.178764Z"
    },
    "tags": []
   },
   "outputs": [],
   "source": [
    "working_dir = 'D:/OneDrive/Projects/2023_SSM_Feasibility/Dataset'"
   ]
  },
  {
   "cell_type": "code",
   "execution_count": 3,
   "id": "57381eab-d3f9-443f-bc89-5f911c64c5a5",
   "metadata": {
    "execution": {
     "iopub.execute_input": "2023-11-28T08:46:49.714327Z",
     "iopub.status.busy": "2023-11-28T08:46:49.714327Z",
     "iopub.status.idle": "2023-11-28T08:46:49.728289Z",
     "shell.execute_reply": "2023-11-28T08:46:49.727291Z",
     "shell.execute_reply.started": "2023-11-28T08:46:49.714327Z"
    },
    "tags": []
   },
   "outputs": [],
   "source": [
    "file_list = ['LV_long_trajectories-0750am-0805am.parquet', 'LV_long_trajectories-0805am-0820am.parquet', 'LV_long_trajectories-0820am-0835am.parquet']"
   ]
  },
  {
   "cell_type": "code",
   "execution_count": null,
   "id": "e21584b4-6173-41ad-b43d-7fb484da49f2",
   "metadata": {
    "tags": []
   },
   "outputs": [],
   "source": [
    "folder_name = '02_processed_long'\n",
    "\n",
    "for file, i in zip(file_list[:1], [1, 2, 3][:1]):\n",
    "    file_path = os.path.join(working_dir, folder_name, file)\n",
    "    df = pq.read_pandas(file_path).to_pandas()\n",
    "    \n",
    "    df.rename({'LV_V_len' : 'LV_len', 'LV_V_wid' : 'LV_wid'}, axis = 1, inplace = True)\n",
    "    \n",
    "    globals()[f'df_{i}'] = df"
   ]
  },
  {
   "cell_type": "code",
   "execution_count": null,
   "id": "78c5566a-6413-4aaf-a1a7-a3cc9f690c1b",
   "metadata": {
    "tags": []
   },
   "outputs": [],
   "source": [
    "df_1.head(3)"
   ]
  },
  {
   "cell_type": "markdown",
   "id": "2e2de69a-7ebf-4d3e-83f4-2190783e3618",
   "metadata": {},
   "source": [
    "# Calculation"
   ]
  },
  {
   "cell_type": "markdown",
   "id": "6e18e1d3-f476-4ba9-8b2a-edf90aebf675",
   "metadata": {},
   "source": [
    "## Settings\n",
    "* 공통 상수 설정"
   ]
  },
  {
   "cell_type": "code",
   "execution_count": null,
   "id": "505e1aa7-be7c-4162-921b-05ae358335fb",
   "metadata": {
    "tags": []
   },
   "outputs": [],
   "source": [
    "threshold_TTC = 1.5 # time-based SSM 임계값\n",
    "threshold_DRAC = 3.4\n",
    "\n",
    "tmsec = 0.1 # 각 row별 시간단위(초)\n",
    "g = 9.81 # 중력가속도\n",
    "f = 0.35 # 마찰계수. friction coeefficient\n",
    "delta_t = 1 # Reaction Delay time. 운전자 반응시간\n",
    "MADR = 8.45 # 차량의 최대 감속 능력. 날씨에 따라, 차종에 따라 다르다. Saccomanno et al.(2008) 참조\n",
    "deceleration_rate = 0.3 * g # 차량 감속도. 3.3도 됨"
   ]
  },
  {
   "cell_type": "markdown",
   "id": "e502955e-7452-4d69-b363-3bd91e73c0b5",
   "metadata": {
    "tags": []
   },
   "source": [
    "## Time-based SSM\n",
    "* Temporal Proximal Indicator"
   ]
  },
  {
   "cell_type": "code",
   "execution_count": null,
   "id": "9744ff3a-83b0-4a5a-92aa-d5cb3fae1c3e",
   "metadata": {
    "tags": []
   },
   "outputs": [],
   "source": [
    "# 꼭지점 4개 만들기\n",
    "# 각 차량의 1,2,3,4번 꼭지점 좌표를 구한다.\n",
    "\n",
    "tqdm.pandas()\n",
    "\n",
    "warnings.filterwarnings('ignore')\n",
    "\n",
    "for df, i in zip([df_1][:1], [1][:1]):\n",
    "    \n",
    "        \n",
    "    print(f'FILE {i} :: Basics Started')\n",
    "    df['new_local_x'], df['new_local_y'] = zip(*df.progress_apply(lambda x: NGSIM_center(x.local_x, x.local_y, x.velocity_x, x.velocity_y, x.V_wid, x.V_len), axis = 1))\n",
    "    df['new_LV_local_x'], df['new_LV_local_y'] = zip(*df.progress_apply(lambda x: NGSIM_center(x.LV_local_x, x.LV_local_y, x.LV_velocity_x, x.LV_velocity_y, x.LV_wid, x.LV_len), axis = 1))\n",
    "    \n",
    "    df['V_point_1'], df['V_point_2'], df['V_point_3'], df['V_point_4'] = zip(*df.progress_apply(lambda x: points(x.new_local_x, x.new_local_y, x.velocity_x, x.velocity_y, x.V_wid, x.V_len), axis = 1))\n",
    "    df['LV_point_1'], df['LV_point_2'], df['LV_point_3'], df['LV_point_4'] = zip(*df.progress_apply(lambda x: points(x.new_LV_local_x, x.new_LV_local_y, x.LV_velocity_x, x.LV_velocity_y, x.LV_wid, x.LV_len), axis = 1))\n",
    "    \n",
    "    ## Nearest_point 추출\n",
    "    df['V_LV_point_num'], df['V_LV_point_n'], df['LV_point_n'], df['V_LV_point_num2'], df['V_LV_point_n2'], df['LV_point_n2'] = zip(*df.progress_apply(lambda x: nearest_point(x.V_point_1, x.V_point_2, x.V_point_3, x.V_point_4, x.LV_point_1, x.LV_point_2, x.LV_point_3, x.LV_point_4), axis = 1))\n",
    "    \n",
    "    ## Shortest Distance 구하기 : ACT 용\n",
    "    df['V_LV_point_delta'], df['V_LV_shortest_vector'], df['V_LV_shortest_distance'] = zip(*df.progress_apply(lambda x: shortest_distance(\n",
    "        x.V_LV_point_num, x.V_LV_point_n, x.LV_point_n, \n",
    "        x.V_point_1, x.V_point_2, x.V_point_3, x.V_point_4, \n",
    "        x.LV_point_1, x.LV_point_2, x.LV_point_3, x.LV_point_4), axis = 1))\n",
    "    \n",
    "    df['potential_conflict_type'], df['degX'] = zip(*df.progress_apply(lambda x: potential_conflict_type(x.LV_type, x.D_gap, x.V_LV_point_num, x.V_LV_point_num2, x.velocity_x, x.velocity_y, x.LV_velocity_x, x.LV_velocity_y, x.new_local_x, x.new_local_y, x.new_LV_local_x, x.new_LV_local_y, x.V_len, x.LV_len), axis = 1))\n",
    "    \n",
    "    print(f'FILE {i} :: Time based SSM')\n",
    "    # 2차원 SSM\n",
    "    df['T2'] = df.progress_apply(lambda x: T2(\n",
    "        x.V_LV_point_num, x.V_LV_point_n, x.LV_point_n, \n",
    "        x.V_point_1, x.V_point_2, x.V_point_3, x.V_point_4, \n",
    "        x.LV_point_1, x.LV_point_2, x.LV_point_3, x.LV_point_4,\n",
    "        x.velocity_x, x.velocity_y, x.LV_velocity_x, x.LV_velocity_y), axis = 1)\n",
    "    \n",
    "    df['TTC'] = df.progress_apply(lambda x: TTC(x.potential_conflict_type, x.LV_type, x.new_local_x, x.new_LV_local_x, x.velocity_x, x.LV_velocity_x, x.V_len, x.LV_len, x.V_wid, x.LV_wid, x.new_local_y, x.new_LV_local_y, x.velocity_y, x.LV_velocity_y), axis = 1)\n",
    "    \n",
    "    df['MTTC'] = df.progress_apply(lambda x: MTTC(x.potential_conflict_type, x.LV_type, x.new_local_x, x.new_LV_local_x, x.velocity_x, x.LV_velocity_x, x.acc_x, x.LV_acc_x, x.V_len, x.LV_len, x.V_wid, x.LV_wid, x.new_local_y, x.new_LV_local_y, x.velocity_y, x.LV_velocity_y), axis = 1)\n",
    "\n",
    "    df['ACT'] = df.progress_apply(lambda x: ACT(\n",
    "        x.velocity_x, x.velocity_y, x.velocity_x_before, x.velocity_y_before,\n",
    "        x.LV_velocity_x, x.LV_velocity_y, x.LV_velocity_x_before, x.LV_velocity_y_before,\n",
    "        x.acc_x, x.acc_y, x.LV_acc_x, x.LV_acc_y, \n",
    "        x.V_LV_shortest_vector, x.V_LV_shortest_distance), axis = 1)\n",
    "    \n",
    "    df['pPET'], df['time_gap'] = zip(*df.progress_apply(lambda x: pPET(\n",
    "    x.potential_conflict_type, x.V_LV_point_num, x.V_LV_point_n, x.LV_point_n, \n",
    "    x.V_point_1, x.V_point_2, x.V_point_3, x.V_point_4, \n",
    "    x.LV_point_1, x.LV_point_2, x.LV_point_3, x.LV_point_4,\n",
    "    x.velocity_x, x.velocity_y, x.LV_velocity_x, x.LV_velocity_y), axis = 1))\n",
    "    \n",
    "#     df['TIT2'] = df.progress_apply(lambda x: TIT(x.T2, threshold_TTC, tmsec), axis = 1)\n",
    "#     df['TIACT'] = df.progress_apply(lambda x: TIT(x.ACT, threshold_TTC, tmsec), axis = 1)\n",
    "    \n",
    "#     df['SSCR_TTC_prime'] = df.progress_apply(lambda x: SSCR_TTC_prime(\n",
    "#         x.potential_conflict_type, x.V_LV_point_num, x.V_LV_point_n, x.LV_point_n, \n",
    "#         x.V_point_1, x.V_point_2, x.V_point_3, x.V_point_4, \n",
    "#         x.LV_point_1, x.LV_point_2, x.LV_point_3, x.LV_point_4,\n",
    "#         x.velocity_x, x.velocity_y, x.LV_velocity_x, x.LV_velocity_y), axis = 1)\n",
    "    \n",
    "#     df['SSCR_R'] = df.progress_apply(lambda x: SSCR_R(x.TTC), axis = 1)\n",
    "#     df['SSCR_Y'] = df.progress_apply(lambda x: SSCR_Y(x.TTC, x.pPET, x.SSCR_TTC_prime), axis = 1)\n",
    "#     df['SSCR'] = df['SSCR_R'] + df['SSCR_Y']\n",
    "\n",
    "    # df = TA(df) # Time to Accident 계산\n",
    "    # df['critical_speed'] = df.progress_apply(lambda x: critical_speed(g, f, x.pPET), axis = 1)\n",
    "    # df['TA_CS'] = df.progress_apply(lambda x: TA_CS(x.TA, x.critical_speed), axis = 1) # TA/CS 계산\n",
    "    \n",
    "    print(f'FILE {i} :: Distance based SSM')\n",
    "    \n",
    "    df['PSD'] = df.progress_apply(lambda x: PSD(x.potential_conflict_type, x.LV_type, x.new_local_x, x.new_LV_local_x, x.velocity_x, x.LV_velocity_x, x.V_len, x.LV_len, f, g, x.V_wid, x.LV_wid, x.new_local_y, x.new_LV_local_y, x.velocity_y, x.LV_velocity_y), axis = 1)\n",
    "\n",
    "    df['DSS'] = df.progress_apply(lambda x: DSS(x.potential_conflict_type, x.LV_type, x.new_local_x, x.new_LV_local_x, x.velocity_x, x.LV_velocity_x, x.V_len, x.LV_len, g, f, delta_t, x.V_wid, x.LV_wid, x.new_local_y, x.new_LV_local_y, x.velocity_y, x.LV_velocity_y), axis = 1)\n",
    "    #df['TIDSS'] = df.progress_apply(lambda x: TIDSS(x.DSS, tmsec), axis = 1)\n",
    "\n",
    "    df['PICUD'] = df.progress_apply(lambda x: PICUD(x.potential_conflict_type, x.LV_type, x.new_local_x, x.new_LV_local_x, x.velocity_x, x.LV_velocity_x, x.D_x, delta_t, deceleration_rate, x.V_wid, x.LV_wid, x.new_local_y, x.new_LV_local_y, x.velocity_y, x.LV_velocity_y), axis = 1)\n",
    "    \n",
    "    df['MTC'] = df.progress_apply(lambda x: MTC(x.potential_conflict_type, x.LV_type, x.new_local_x, x.new_LV_local_x, x.D_x, x.V_len, x.LV_len, x.velocity_x, x.LV_velocity, delta_t, deceleration_rate, x.V_wid, x.LV_wid, x.new_local_y, x.new_LV_local_y, x.velocity_y, x.LV_velocity_y), axis = 1)\n",
    "    \n",
    "    df['MMTC'] = df.progress_apply(lambda x: MMTC(x.potential_conflict_type, x.LV_type, x.new_local_x, x.new_LV_local_x, x.velocity_x, x.LV_velocity_x, g, x.V_wid, x.LV_wid, x.new_local_y, x.new_LV_local_y, x.velocity_y, x.LV_velocity_y), axis = 1)\n",
    "\n",
    "\n",
    "    print(f'FILE {i} :: Deceleration based SSM')\n",
    "    \n",
    "    df['DRAC'] = df.progress_apply(lambda x: DRAC(x.potential_conflict_type, x.LV_type, x.new_local_x, x.new_LV_local_x, x.D_x, x.velocity_x, x.LV_velocity_x, x.LV_len, x.V_len, x.V_wid, x.LV_wid, x.new_local_y, x.new_LV_local_y, x.velocity_y, x.LV_velocity_y), axis = 1)\n",
    "    #df['TIDRAC'] = df.progress_apply(lambda x: TIDRAC(x.DRAC, threshold_DRAC), axis = 1)\n",
    "\n",
    "    df['MDRAC'] = df.progress_apply(lambda x: MDRAC(x.potential_conflict_type, x.LV_type, x.new_local_x, x.new_LV_local_x, x.velocity_x, x.LV_velocity_x, x.TTC, delta_t, x.V_wid, x.LV_wid, x.new_local_y, x.new_LV_local_y, x.velocity_y, x.LV_velocity_y), axis = 1)\n",
    "\n",
    "    df['DCIA'] = df.progress_apply(lambda x: DCIA(x.potential_conflict_type, x.LV_type, x.new_local_x, x.new_LV_local_x, x.velocity_x, x.LV_velocity_x, x.acc_x, x.LV_acc_x, delta_t, x.D_x, x.V_wid, x.LV_wid, x.new_local_y, x.new_LV_local_y, x.velocity_y, x.LV_velocity_y), axis = 1)\n",
    "\n",
    "    df['unsafety'] = df.progress_apply(lambda x: unsafety(x.potential_conflict_type, x.LV_type, x.new_local_x, x.new_LV_local_x, x.velocity_x, x.LV_velocity_x, x.acc_x, x.LV_acc_x, deceleration_rate, x.V_wid, x.LV_wid, x.new_local_y, x.new_LV_local_y, x.velocity_y, x.LV_velocity_y), axis = 1)\n",
    "\n",
    "    #df['RCRI'] = df.progress_apply(lambda x: RCRI(x.new_local_x, x.new_LV_local_x, x.velocity_x, x.LV_velocity_x, x.acc_x, x.LV_acc_x, x.D_x, delta_t, x.V_wid, x.LV_wid, x.new_local_y, x.new_LV_local_y, x.velocity_y, x.LV_velocity_y), axis = 1)\n",
    "    #df['TERCRI'] = df.progress_apply(lambda x: TERCRI(x.RCRI, tmsec), axis = 1)\n",
    "    \n",
    "    \n",
    "#     df['CIF'] = df.progress_apply(lambda x: CIF(x.velocity_x, x.TTC), axis = 1)\n",
    "#     df['CIF2'] = df.progress_apply(lambda x: CIF(x.velocity, x.T2), axis = 1)\n",
    "#     df['ACIF'] = df.progress_apply(lambda x: CIF(x.velocity, x.ACT), axis = 1)\n",
    "\n",
    "    print('INTEGRATED SSMs')\n",
    "    df['TIT'] = df.progress_apply(lambda x: TIT(x.TTC, threshold_TTC, tmsec), axis = 1)\n",
    "    df['TIT2'] = df.progress_apply(lambda x: TIT(x.T2, threshold_TTC, tmsec), axis = 1)\n",
    "    df['TGIT'] = df.progress_apply(lambda x: TIT(x.time_gap, threshold_TTC, tmsec), axis = 1)\n",
    "    df['TIACT'] = df.progress_apply(lambda x: TIT(x.ACT, threshold_TTC, tmsec), axis = 1)\n",
    "\n",
    "    df['TIDSS'] = df.progress_apply(lambda x: TIDSS(x.DSS, tmsec), axis = 1)\n",
    "    df['TIDRAC'] = df.progress_apply(lambda x: TIDRAC(x.DRAC, threshold_DRAC), axis = 1)\n",
    "    df['TIMDRAC'] = df.progress_apply(lambda x: TIDRAC(x.MDRAC, threshold_DRAC), axis = 1)\n",
    "    \n",
    "    \n",
    "    #### SAVE ####\n",
    "    folder_name = '03_SSM'\n",
    "    save_name = file_list[i-1]\n",
    "    save_path = os.path.join(working_dir, folder_name, save_name)\n",
    "    \n",
    "    del_cols = ['V_point_1', 'V_point_2', 'V_point_3', 'V_point_4',\n",
    "                'LV_point_1', 'LV_point_2', 'LV_point_3', 'LV_point_4',\n",
    "               'V_LV_point_num', 'V_LV_point_num2',\n",
    "                'V_LV_point_n', 'V_LV_point_n2',\n",
    "               'LV_point_n', 'LV_point_n2', \n",
    "                'V_LV_point_delta', 'V_LV_shortest_vector']\n",
    "    \n",
    "    df.drop(del_cols, axis = 1, inplace = True)\n",
    "    df.to_parquet(save_path, engine = 'fastparquet', compression = 'gzip') \n",
    "    \n",
    "    print(f' ###################### FILE {i} IS COMPLETE! ######################')"
   ]
  },
  {
   "cell_type": "code",
   "execution_count": null,
   "id": "1229dd91-0036-42d4-a416-1129954696be",
   "metadata": {
    "tags": []
   },
   "outputs": [],
   "source": [
    "# folder_name = '03_SSM'\n",
    "\n",
    "# for file in tqdm(file_list):\n",
    "#     file_path = os.path.join(working_dir, folder_name, file)\n",
    "#     df = pq.read_pandas(file_path).to_pandas()\n",
    "    \n",
    "#     df.loc[df['potential_conflict_type'] == 'side_swipe', : 'unsafety'] = None\n",
    "#     df.loc[df['potential_conflict_type'] == 'angled', : 'unsafety'] = None\n",
    "    \n",
    "#     save_path = os.path.join(working_dir, folder_name, file)\n",
    "#     df.to_parquet(save_path, engine = 'fastparquet', compression = 'gzip') "
   ]
  },
  {
   "cell_type": "code",
   "execution_count": null,
   "id": "dd294370-5bcc-4e56-9c1f-dda1334f5a85",
   "metadata": {
    "tags": []
   },
   "outputs": [],
   "source": [
    "df[df['Lane_record'] == 'U04_U05_U06_U08']['potential_conflict_type']"
   ]
  },
  {
   "cell_type": "code",
   "execution_count": null,
   "id": "5b6ca1ae-e1d4-42da-b9dd-ea6e4f164a02",
   "metadata": {
    "tags": []
   },
   "outputs": [],
   "source": [
    "# tqdm.pandas()\n",
    "\n",
    "# folder_name = '03_SSM'\n",
    "# file_list = ['LV_long_trajectories-0750am-0805am.parquet', 'LV_long_trajectories-0805am-0820am.parquet', 'LV_long_trajectories-0820am-0835am.parquet']\n",
    "\n",
    "# for file in file_list[1:]:\n",
    "#     file_path = os.path.join(working_dir, folder_name, file)\n",
    "\n",
    "#     df = pq.read_pandas(file_path).to_pandas()\n",
    "\n",
    "#     df['MMTC'] = df.progress_apply(lambda x: MMTC(x.potential_conflict_type, x.LV_type, x.new_local_x, x.new_LV_local_x, x.velocity_x, x.LV_velocity_x, g, x.V_wid, x.LV_wid, x.new_local_y, x.new_LV_local_y, x.velocity_y, x.LV_velocity_y), axis = 1)\n",
    "\n",
    "#     folder_name = '03_SSM'\n",
    "#     save_name = file\n",
    "#     save_path = os.path.join(working_dir, folder_name, save_name)\n",
    "\n",
    "#     df.to_parquet(save_path, engine = 'fastparquet', compression = 'gzip') "
   ]
  },
  {
   "cell_type": "code",
   "execution_count": null,
   "id": "371c5a11-8b4e-4ed4-99f8-abf01559be06",
   "metadata": {
    "tags": []
   },
   "outputs": [],
   "source": [
    "tqdm.pandas()\n",
    "\n",
    "folder_name = '03_SSM'\n",
    "file_name = 'LV_long_trajectories-0750am-0805am.parquet'\n",
    "file_path = os.path.join(working_dir, folder_name, file_name)\n",
    "\n",
    "df = pq.read_pandas(file_path).to_pandas()\n",
    "\n",
    "# 꼭지점 4개 만들기\n",
    "# 각 차량의 1,2,3,4번 꼭지점 좌표를 구한다.\n",
    "df['V_point_1'], df['V_point_2'], df['V_point_3'], df['V_point_4'] = zip(*df.progress_apply(lambda x: points(x.local_x, x.local_y, x.velocity_x, x.velocity_y, x.V_wid, x.V_len), axis = 1))\n",
    "df['LV_point_1'], df['LV_point_2'], df['LV_point_3'], df['LV_point_4'] = zip(*df.progress_apply(lambda x: points(x.LV_local_x, x.LV_local_y, x.LV_velocity_x, x.LV_velocity_y, x.LV_wid, x.LV_len), axis = 1))\n",
    "\n",
    "## Nearest_point 추출\n",
    "df['V_LV_point_num'], df['V_LV_point_n'], df['LV_point_n'], df['V_LV_point_num2'], df['V_LV_point_n2'], df['LV_point_n2'] = zip(*df.progress_apply(lambda x: nearest_point(x.V_point_1, x.V_point_2, x.V_point_3, x.V_point_4, x.LV_point_1, x.LV_point_2, x.LV_point_3, x.LV_point_4), axis = 1))\n",
    "\n",
    "## Shortest Distance 구하기 : ACT 용\n",
    "df['V_LV_point_delta'], df['V_LV_shortest_vector'], df['V_LV_shortest_distance'] = zip(*df.progress_apply(lambda x: shortest_distance(\n",
    "    x.V_LV_point_num, x.V_LV_point_n, x.LV_point_n, \n",
    "    x.V_point_1, x.V_point_2, x.V_point_3, x.V_point_4, \n",
    "    x.LV_point_1, x.LV_point_2, x.LV_point_3, x.LV_point_4), axis = 1))\n",
    "\n",
    "## Nearest_point 추출\n",
    "df['V_LV_point_num'], df['V_LV_point_n'], df['LV_point_n'], df['V_LV_point_num2'], df['V_LV_point_n2'], df['LV_point_n2'] = zip(*df.progress_apply(lambda x: nearest_point(x.V_point_1, x.V_point_2, x.V_point_3, x.V_point_4, x.LV_point_1, x.LV_point_2, x.LV_point_3, x.LV_point_4), axis = 1))\n",
    "\n",
    "debug = []\n",
    "\n",
    "#df['ip1'], df['ip2'], df['cos_theta'], df['theta'], df['degX'],\n",
    "df['potential_conflict_type'], df['degX'] = zip(*df.progress_apply(lambda x: potential_conflict_type(x.LV_type, x.D_gap, x.V_LV_point_num, x.V_LV_point_num2, x.velocity_x, x.velocity_y, x.LV_velocity_x, x.LV_velocity_y, x.local_x, x.local_y, x.LV_local_x, x.LV_local_y, x.V_len, x.LV_len), axis = 1))"
   ]
  },
  {
   "cell_type": "code",
   "execution_count": 8,
   "id": "eaa5be3d-0292-4ea6-acad-7493a22b6c80",
   "metadata": {
    "execution": {
     "iopub.execute_input": "2023-11-28T09:20:07.206644Z",
     "iopub.status.busy": "2023-11-28T09:20:07.206644Z",
     "iopub.status.idle": "2023-11-28T09:27:18.835810Z",
     "shell.execute_reply": "2023-11-28T09:27:18.835810Z",
     "shell.execute_reply.started": "2023-11-28T09:20:07.206644Z"
    }
   },
   "outputs": [
    {
     "name": "stderr",
     "output_type": "stream",
     "text": [
      "100%|██████████████████████████████████████████████████████████████████████| 2725522/2725522 [06:06<00:00, 7443.53it/s]\n"
     ]
    }
   ],
   "source": [
    "df['ACT'], df['total_rel'], df['d_delta'] = zip(*df.progress_apply(lambda x: ACT(\n",
    "    x.velocity_x, x.velocity_y, x.velocity_x_before, x.velocity_y_before,\n",
    "    x.LV_velocity_x, x.LV_velocity_y, x.LV_velocity_x_before, x.LV_velocity_y_before,\n",
    "    x.acc_x, x.acc_y, x.LV_acc_x, x.LV_acc_y, \n",
    "    x.V_LV_shortest_vector, x.V_LV_shortest_distance), axis = 1))\n",
    "\n",
    "delete_cols = ['V_point_1', 'V_point_2', 'V_point_3', 'V_point_4', \n",
    "              'LV_point_1', 'LV_point_2', 'LV_point_3', 'LV_point_4',\n",
    "              'V_LV_point_num', 'V_LV_point_n', 'LV_point_n', 'V_LV_point_num2',\n",
    "              'V_LV_point_n2',\t'LV_point_n2',\t'V_LV_point_delta',\t'V_LV_shortest_vector',\n",
    "              'V_LV_shortest_distance', 'total_rel', 'd_delta']\n",
    "              #'V_rel', 'acc_rel', 'angle_rel']\n",
    "\n",
    "df2 = df.copy()\n",
    "df2.drop(delete_cols, inplace = True, axis = 1)\n",
    "\n",
    "\n",
    "folder_name = '03_SSM'\n",
    "save_name = file_name\n",
    "save_path = os.path.join(working_dir, folder_name, save_name)\n",
    "\n",
    "df2.to_parquet(save_path, engine = 'fastparquet', compression = 'gzip') "
   ]
  },
  {
   "cell_type": "code",
   "execution_count": 9,
   "id": "6c5d7a25-52dd-4683-a10c-048d6fb2a5c3",
   "metadata": {
    "execution": {
     "iopub.execute_input": "2023-11-28T09:27:18.837850Z",
     "iopub.status.busy": "2023-11-28T09:27:18.837850Z",
     "iopub.status.idle": "2023-11-28T09:27:18.929964Z",
     "shell.execute_reply": "2023-11-28T09:27:18.928969Z",
     "shell.execute_reply.started": "2023-11-28T09:27:18.837850Z"
    }
   },
   "outputs": [
    {
     "data": {
      "text/html": [
       "<div>\n",
       "<style scoped>\n",
       "    .dataframe tbody tr th:only-of-type {\n",
       "        vertical-align: middle;\n",
       "    }\n",
       "\n",
       "    .dataframe tbody tr th {\n",
       "        vertical-align: top;\n",
       "    }\n",
       "\n",
       "    .dataframe thead th {\n",
       "        text-align: right;\n",
       "    }\n",
       "</style>\n",
       "<table border=\"1\" class=\"dataframe\">\n",
       "  <thead>\n",
       "    <tr style=\"text-align: right;\">\n",
       "      <th></th>\n",
       "      <th>TTC</th>\n",
       "      <th>T2</th>\n",
       "      <th>MTTC</th>\n",
       "      <th>ACT</th>\n",
       "    </tr>\n",
       "  </thead>\n",
       "  <tbody>\n",
       "    <tr>\n",
       "      <th>0</th>\n",
       "      <td>NaN</td>\n",
       "      <td>NaN</td>\n",
       "      <td>NaN</td>\n",
       "      <td>NaN</td>\n",
       "    </tr>\n",
       "    <tr>\n",
       "      <th>1</th>\n",
       "      <td>77.636705</td>\n",
       "      <td>96.501728</td>\n",
       "      <td>NaN</td>\n",
       "      <td>NaN</td>\n",
       "    </tr>\n",
       "    <tr>\n",
       "      <th>2</th>\n",
       "      <td>NaN</td>\n",
       "      <td>NaN</td>\n",
       "      <td>3.635916</td>\n",
       "      <td>2.569808</td>\n",
       "    </tr>\n",
       "    <tr>\n",
       "      <th>3</th>\n",
       "      <td>NaN</td>\n",
       "      <td>NaN</td>\n",
       "      <td>2.960940</td>\n",
       "      <td>12.621974</td>\n",
       "    </tr>\n",
       "    <tr>\n",
       "      <th>4</th>\n",
       "      <td>NaN</td>\n",
       "      <td>19.065730</td>\n",
       "      <td>2.822975</td>\n",
       "      <td>4.838296</td>\n",
       "    </tr>\n",
       "    <tr>\n",
       "      <th>...</th>\n",
       "      <td>...</td>\n",
       "      <td>...</td>\n",
       "      <td>...</td>\n",
       "      <td>...</td>\n",
       "    </tr>\n",
       "    <tr>\n",
       "      <th>2725517</th>\n",
       "      <td>NaN</td>\n",
       "      <td>NaN</td>\n",
       "      <td>NaN</td>\n",
       "      <td>13.164829</td>\n",
       "    </tr>\n",
       "    <tr>\n",
       "      <th>2725518</th>\n",
       "      <td>NaN</td>\n",
       "      <td>NaN</td>\n",
       "      <td>NaN</td>\n",
       "      <td>NaN</td>\n",
       "    </tr>\n",
       "    <tr>\n",
       "      <th>2725519</th>\n",
       "      <td>NaN</td>\n",
       "      <td>NaN</td>\n",
       "      <td>NaN</td>\n",
       "      <td>NaN</td>\n",
       "    </tr>\n",
       "    <tr>\n",
       "      <th>2725520</th>\n",
       "      <td>NaN</td>\n",
       "      <td>NaN</td>\n",
       "      <td>NaN</td>\n",
       "      <td>NaN</td>\n",
       "    </tr>\n",
       "    <tr>\n",
       "      <th>2725521</th>\n",
       "      <td>NaN</td>\n",
       "      <td>NaN</td>\n",
       "      <td>NaN</td>\n",
       "      <td>NaN</td>\n",
       "    </tr>\n",
       "  </tbody>\n",
       "</table>\n",
       "<p>2725522 rows × 4 columns</p>\n",
       "</div>"
      ],
      "text/plain": [
       "               TTC         T2      MTTC        ACT\n",
       "0              NaN        NaN       NaN        NaN\n",
       "1        77.636705  96.501728       NaN        NaN\n",
       "2              NaN        NaN  3.635916   2.569808\n",
       "3              NaN        NaN  2.960940  12.621974\n",
       "4              NaN  19.065730  2.822975   4.838296\n",
       "...            ...        ...       ...        ...\n",
       "2725517        NaN        NaN       NaN  13.164829\n",
       "2725518        NaN        NaN       NaN        NaN\n",
       "2725519        NaN        NaN       NaN        NaN\n",
       "2725520        NaN        NaN       NaN        NaN\n",
       "2725521        NaN        NaN       NaN        NaN\n",
       "\n",
       "[2725522 rows x 4 columns]"
      ]
     },
     "execution_count": 9,
     "metadata": {},
     "output_type": "execute_result"
    }
   ],
   "source": [
    "df2[['TTC', 'T2', 'MTTC', 'ACT']]"
   ]
  },
  {
   "cell_type": "code",
   "execution_count": null,
   "id": "1aff7a3c-7c46-4f34-99c5-e65ea45d006a",
   "metadata": {
    "tags": []
   },
   "outputs": [],
   "source": [
    "# df['pPET'], df['time_gap'] = zip(*df.progress_apply(lambda x: pPET(\n",
    "# x.potential_conflict_type, x.V_LV_point_num, x.V_LV_point_n, x.LV_point_n, \n",
    "# x.V_point_1, x.V_point_2, x.V_point_3, x.V_point_4, \n",
    "# x.LV_point_1, x.LV_point_2, x.LV_point_3, x.LV_point_4,\n",
    "# x.velocity_x, x.velocity_y, x.LV_velocity_x, x.LV_velocity_y), axis = 1))\n",
    "\n",
    "# df['TIT'] = df.progress_apply(lambda x: TIT(x.TTC, threshold_TTC, tmsec), axis = 1)\n",
    "# df['TIT2'] = df.progress_apply(lambda x: TIT(x.T2, threshold_TTC, tmsec), axis = 1)\n",
    "# df['TGIT'] = df.progress_apply(lambda x: TIT(x.time_gap, threshold_TTC, tmsec), axis = 1)\n",
    "# df['TIACT'] = df.progress_apply(lambda x: TIT(x.ACT, threshold_TTC, tmsec), axis = 1)\n",
    "\n",
    "# df['TIDSS'] = df.progress_apply(lambda x: TIDSS(x.DSS, tmsec), axis = 1)\n",
    "# df['TIDRAC'] = df.progress_apply(lambda x: TIDRAC(x.DRAC, threshold_DRAC), axis = 1)\n",
    "# df['TIMDRAC'] = df.progress_apply(lambda x: TIDRAC(x.MDRAC, threshold_DRAC), axis = 1)"
   ]
  },
  {
   "cell_type": "code",
   "execution_count": null,
   "id": "3359deb9-a6a5-4336-8d56-3b5b44ddfddb",
   "metadata": {
    "tags": []
   },
   "outputs": [],
   "source": [
    "# delete_cols = ['V_point_1', 'V_point_2', 'V_point_3', 'V_point_4', \n",
    "#               'LV_point_1', 'LV_point_2', 'LV_point_3', 'LV_point_4',\n",
    "#               'V_LV_point_num', 'V_LV_point_n', 'LV_point_n', 'V_LV_point_num2',\n",
    "#               'V_LV_point_n2',\t'LV_point_n2',\t'V_LV_point_delta',\t'V_LV_shortest_vector',\n",
    "#               'V_LV_shortest_distance']\n",
    "\n",
    "# df2 = df.copy()\n",
    "# df2.drop(delete_cols, inplace = True, axis = 1)"
   ]
  },
  {
   "cell_type": "code",
   "execution_count": null,
   "id": "5e32bc2b-7e62-492b-a58a-8df6b65b8204",
   "metadata": {
    "tags": []
   },
   "outputs": [],
   "source": [
    "# folder_name = '03_SSM'\n",
    "# save_name = file_name\n",
    "# save_path = os.path.join(working_dir, folder_name, save_name)\n",
    "\n",
    "# df2.to_parquet(save_path, engine = 'fastparquet', compression = 'gzip') "
   ]
  }
 ],
 "metadata": {
  "kernelspec": {
   "display_name": "Python 3 (ipykernel)",
   "language": "python",
   "name": "python3"
  },
  "language_info": {
   "codemirror_mode": {
    "name": "ipython",
    "version": 3
   },
   "file_extension": ".py",
   "mimetype": "text/x-python",
   "name": "python",
   "nbconvert_exporter": "python",
   "pygments_lexer": "ipython3",
   "version": "3.8.18"
  },
  "toc-autonumbering": false,
  "toc-showmarkdowntxt": false
 },
 "nbformat": 4,
 "nbformat_minor": 5
}
