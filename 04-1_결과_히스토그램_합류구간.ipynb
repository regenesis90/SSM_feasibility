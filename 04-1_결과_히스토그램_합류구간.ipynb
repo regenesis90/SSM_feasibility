{
 "cells": [
  {
   "cell_type": "markdown",
   "id": "dc6195b8-d5ee-4f49-8b81-1c852a8c8419",
   "metadata": {},
   "source": [
    "# Visualization\n",
    "* 대상지 주요 정보 정리(교통량, 속도, 차로변경 등)\n",
    "* 시각화\n",
    "    * 히스토그램 & 바이올린 플롯(집계적)"
   ]
  },
  {
   "cell_type": "markdown",
   "id": "99fcbe99-99a3-4aac-9121-b5f98253c717",
   "metadata": {},
   "source": [
    "# Import"
   ]
  },
  {
   "cell_type": "code",
   "execution_count": 46,
   "id": "be8261ae-30fc-4f98-ab4f-8d7eaab22b23",
   "metadata": {
    "execution": {
     "iopub.execute_input": "2023-11-29T06:08:51.658179Z",
     "iopub.status.busy": "2023-11-29T06:08:51.658179Z",
     "iopub.status.idle": "2023-11-29T06:08:51.668152Z",
     "shell.execute_reply": "2023-11-29T06:08:51.667155Z",
     "shell.execute_reply.started": "2023-11-29T06:08:51.658179Z"
    },
    "tags": []
   },
   "outputs": [],
   "source": [
    "import pandas as pd\n",
    "import numpy as np\n",
    "\n",
    "from tqdm import tqdm\n",
    "import warnings\n",
    "import csv\n",
    "import os\n",
    "\n",
    "import math # arctangent; math.atan 사용 목적\n",
    "import statistics\n",
    "\n",
    "from plotly.subplots import make_subplots\n",
    "import plotly.figure_factory as ff\n",
    "import plotly.express as px\n",
    "import plotly.graph_objects as go\n",
    "import plotly.io as po\n",
    "\n",
    "import matplotlib.pyplot  as plt\n",
    "import seaborn as sns\n",
    "\n",
    "import pyarrow.parquet as pq\n",
    "\n",
    "import seaborn as sns\n",
    "from matplotlib.collections import LineCollection\n",
    "from matplotlib.cm import ScalarMappable\n",
    "from matplotlib.colors import ListedColormap, BoundaryNorm\n",
    "import matplotlib.ticker as ticker\n",
    "import matplotlib.colors as colors\n",
    "import matplotlib.patches as patches\n",
    "import matplotlib as mpl\n",
    "\n",
    "from mpl_toolkits.mplot3d import axes3d\n",
    "from mpl_toolkits.mplot3d.axes3d import Axes3D\n",
    "from matplotlib.text import Annotation\n",
    "\n",
    "from SSM_base import points"
   ]
  },
  {
   "cell_type": "code",
   "execution_count": 47,
   "id": "57444925-9e19-421b-bf7b-4b044dd938ff",
   "metadata": {
    "execution": {
     "iopub.execute_input": "2023-11-29T06:08:51.669149Z",
     "iopub.status.busy": "2023-11-29T06:08:51.669149Z",
     "iopub.status.idle": "2023-11-29T06:08:51.682115Z",
     "shell.execute_reply": "2023-11-29T06:08:51.682115Z",
     "shell.execute_reply.started": "2023-11-29T06:08:51.669149Z"
    },
    "tags": []
   },
   "outputs": [],
   "source": [
    "plt.rcParams['font.family'] = 'Times New Roman'"
   ]
  },
  {
   "cell_type": "markdown",
   "id": "873ea0a8-ba56-4d84-a46f-01e078a75b17",
   "metadata": {
    "tags": []
   },
   "source": [
    "# Load Dataset"
   ]
  },
  {
   "cell_type": "code",
   "execution_count": 48,
   "id": "f714b3ad-eed2-4896-9c76-c40066438706",
   "metadata": {
    "execution": {
     "iopub.execute_input": "2023-11-29T06:08:51.683112Z",
     "iopub.status.busy": "2023-11-29T06:08:51.683112Z",
     "iopub.status.idle": "2023-11-29T06:08:51.699071Z",
     "shell.execute_reply": "2023-11-29T06:08:51.698073Z",
     "shell.execute_reply.started": "2023-11-29T06:08:51.683112Z"
    },
    "tags": []
   },
   "outputs": [],
   "source": [
    "working_dir = 'D:/OneDrive/Projects/2023_SSM_Feasibility'"
   ]
  },
  {
   "cell_type": "markdown",
   "id": "63fa0db3-f888-4182-ac14-7003957626d9",
   "metadata": {},
   "source": [
    "## SSM 계산된 .csv 자료 불러오기\n",
    "* 합류구간 : `merging_type1_03frm_0.10sec.csv`"
   ]
  },
  {
   "cell_type": "code",
   "execution_count": 49,
   "id": "8f6b1d3e-2166-4355-9aac-50ed050d7f50",
   "metadata": {
    "execution": {
     "iopub.execute_input": "2023-11-29T06:08:51.700069Z",
     "iopub.status.busy": "2023-11-29T06:08:51.699071Z",
     "iopub.status.idle": "2023-11-29T06:08:51.871367Z",
     "shell.execute_reply": "2023-11-29T06:08:51.871367Z",
     "shell.execute_reply.started": "2023-11-29T06:08:51.700069Z"
    },
    "tags": []
   },
   "outputs": [],
   "source": [
    "folder_name = 'Dataset/03_SSM'\n",
    "\n",
    "file_list = ['merging_type1_03frm_0.10sec.parquet']\n",
    "\n",
    "file_path = os.path.join(working_dir, folder_name, file_list[0])\n",
    "df_0 = pq.read_pandas(file_path).to_pandas()\n",
    "\n",
    "\n",
    "# df_1 = pd.DataFrame()\n",
    "    \n",
    "# for file in tqdm(file_list[1:]):\n",
    "#     file_path = os.path.join(working_dir, folder_name, file)\n",
    "#     df = pq.read_pandas(file_path).to_pandas()\n",
    "#     df_1 = pd.concat([df_1, df])\n",
    "    \n",
    "# df_1.reset_index(inplace = True, drop = True)"
   ]
  },
  {
   "cell_type": "code",
   "execution_count": 50,
   "id": "971020ca-7fce-4f7a-a419-f78cd4df278e",
   "metadata": {
    "execution": {
     "iopub.execute_input": "2023-11-29T06:08:51.874827Z",
     "iopub.status.busy": "2023-11-29T06:08:51.874827Z",
     "iopub.status.idle": "2023-11-29T06:08:51.903824Z",
     "shell.execute_reply": "2023-11-29T06:08:51.903824Z",
     "shell.execute_reply.started": "2023-11-29T06:08:51.874827Z"
    },
    "tags": []
   },
   "outputs": [
    {
     "data": {
      "text/html": [
       "<div>\n",
       "<style scoped>\n",
       "    .dataframe tbody tr th:only-of-type {\n",
       "        vertical-align: middle;\n",
       "    }\n",
       "\n",
       "    .dataframe tbody tr th {\n",
       "        vertical-align: top;\n",
       "    }\n",
       "\n",
       "    .dataframe thead th {\n",
       "        text-align: right;\n",
       "    }\n",
       "</style>\n",
       "<table border=\"1\" class=\"dataframe\">\n",
       "  <thead>\n",
       "    <tr style=\"text-align: right;\">\n",
       "      <th></th>\n",
       "      <th>veh_id</th>\n",
       "      <th>frm</th>\n",
       "      <th>local_x</th>\n",
       "      <th>local_y</th>\n",
       "      <th>V_len</th>\n",
       "      <th>V_wid</th>\n",
       "      <th>velocity</th>\n",
       "      <th>acc</th>\n",
       "      <th>lane</th>\n",
       "      <th>Time</th>\n",
       "      <th>...</th>\n",
       "      <th>unsafety</th>\n",
       "      <th>MTC</th>\n",
       "      <th>MMTC</th>\n",
       "      <th>TIT</th>\n",
       "      <th>TIT2</th>\n",
       "      <th>TGIT</th>\n",
       "      <th>TIACT</th>\n",
       "      <th>TIDSS</th>\n",
       "      <th>TIDRAC</th>\n",
       "      <th>TIMDRAC</th>\n",
       "    </tr>\n",
       "  </thead>\n",
       "  <tbody>\n",
       "    <tr>\n",
       "      <th>0</th>\n",
       "      <td>2</td>\n",
       "      <td>438</td>\n",
       "      <td>37.28125</td>\n",
       "      <td>7.726562</td>\n",
       "      <td>4.902344</td>\n",
       "      <td>2.064453</td>\n",
       "      <td>92.1875</td>\n",
       "      <td>2.812500</td>\n",
       "      <td>U2</td>\n",
       "      <td>14.6</td>\n",
       "      <td>...</td>\n",
       "      <td>NaN</td>\n",
       "      <td>NaN</td>\n",
       "      <td>NaN</td>\n",
       "      <td>NaN</td>\n",
       "      <td>NaN</td>\n",
       "      <td>NaN</td>\n",
       "      <td>NaN</td>\n",
       "      <td>NaN</td>\n",
       "      <td>NaN</td>\n",
       "      <td>NaN</td>\n",
       "    </tr>\n",
       "    <tr>\n",
       "      <th>1</th>\n",
       "      <td>2</td>\n",
       "      <td>441</td>\n",
       "      <td>39.81250</td>\n",
       "      <td>7.785156</td>\n",
       "      <td>4.902344</td>\n",
       "      <td>2.064453</td>\n",
       "      <td>91.7500</td>\n",
       "      <td>-1.228516</td>\n",
       "      <td>U2</td>\n",
       "      <td>14.7</td>\n",
       "      <td>...</td>\n",
       "      <td>NaN</td>\n",
       "      <td>NaN</td>\n",
       "      <td>NaN</td>\n",
       "      <td>NaN</td>\n",
       "      <td>NaN</td>\n",
       "      <td>0.0</td>\n",
       "      <td>NaN</td>\n",
       "      <td>NaN</td>\n",
       "      <td>NaN</td>\n",
       "      <td>NaN</td>\n",
       "    </tr>\n",
       "    <tr>\n",
       "      <th>2</th>\n",
       "      <td>2</td>\n",
       "      <td>444</td>\n",
       "      <td>42.40625</td>\n",
       "      <td>7.882812</td>\n",
       "      <td>4.902344</td>\n",
       "      <td>2.064453</td>\n",
       "      <td>92.4375</td>\n",
       "      <td>1.814453</td>\n",
       "      <td>U2</td>\n",
       "      <td>14.8</td>\n",
       "      <td>...</td>\n",
       "      <td>NaN</td>\n",
       "      <td>NaN</td>\n",
       "      <td>NaN</td>\n",
       "      <td>NaN</td>\n",
       "      <td>NaN</td>\n",
       "      <td>0.0</td>\n",
       "      <td>0.0</td>\n",
       "      <td>NaN</td>\n",
       "      <td>NaN</td>\n",
       "      <td>NaN</td>\n",
       "    </tr>\n",
       "  </tbody>\n",
       "</table>\n",
       "<p>3 rows × 90 columns</p>\n",
       "</div>"
      ],
      "text/plain": [
       "   veh_id  frm   local_x   local_y     V_len     V_wid  velocity       acc  \\\n",
       "0       2  438  37.28125  7.726562  4.902344  2.064453   92.1875  2.812500   \n",
       "1       2  441  39.81250  7.785156  4.902344  2.064453   91.7500 -1.228516   \n",
       "2       2  444  42.40625  7.882812  4.902344  2.064453   92.4375  1.814453   \n",
       "\n",
       "  lane  Time  ...  unsafety  MTC  MMTC  TIT  TIT2  TGIT  TIACT  TIDSS  TIDRAC  \\\n",
       "0   U2  14.6  ...       NaN  NaN   NaN  NaN   NaN   NaN    NaN    NaN     NaN   \n",
       "1   U2  14.7  ...       NaN  NaN   NaN  NaN   NaN   0.0    NaN    NaN     NaN   \n",
       "2   U2  14.8  ...       NaN  NaN   NaN  NaN   NaN   0.0    0.0    NaN     NaN   \n",
       "\n",
       "   TIMDRAC  \n",
       "0      NaN  \n",
       "1      NaN  \n",
       "2      NaN  \n",
       "\n",
       "[3 rows x 90 columns]"
      ]
     },
     "execution_count": 50,
     "metadata": {},
     "output_type": "execute_result"
    }
   ],
   "source": [
    "df_0.head(3)"
   ]
  },
  {
   "cell_type": "code",
   "execution_count": 51,
   "id": "ed721461-1007-41e5-a43b-eeab5025e8ed",
   "metadata": {
    "execution": {
     "iopub.execute_input": "2023-11-29T06:08:51.904933Z",
     "iopub.status.busy": "2023-11-29T06:08:51.904933Z",
     "iopub.status.idle": "2023-11-29T06:08:51.951115Z",
     "shell.execute_reply": "2023-11-29T06:08:51.951115Z",
     "shell.execute_reply.started": "2023-11-29T06:08:51.904933Z"
    },
    "tags": []
   },
   "outputs": [],
   "source": [
    "folder_name = 'Documents'\n",
    "file_name = 'SSM_variables.xlsx'\n",
    "sheet_name = 'threshold'\n",
    "\n",
    "threshold_path = os.path.join(working_dir, folder_name, file_name)\n",
    "\n",
    "threshold_list = np.array(pd.read_excel(threshold_path, sheet_name = sheet_name))"
   ]
  },
  {
   "cell_type": "markdown",
   "id": "36a89ce3-1476-4079-ad31-34b7bf6d63a4",
   "metadata": {},
   "source": [
    "# 주요포인트"
   ]
  },
  {
   "cell_type": "code",
   "execution_count": 52,
   "id": "c0b6f558-16c5-4153-9f82-50aaf730b1fe",
   "metadata": {
    "execution": {
     "iopub.execute_input": "2023-11-29T06:08:51.953073Z",
     "iopub.status.busy": "2023-11-29T06:08:51.952100Z",
     "iopub.status.idle": "2023-11-29T06:08:51.967744Z",
     "shell.execute_reply": "2023-11-29T06:08:51.967036Z",
     "shell.execute_reply.started": "2023-11-29T06:08:51.952100Z"
    },
    "tags": []
   },
   "outputs": [],
   "source": [
    "def make_cell(local_x):\n",
    "    \"\"\"\n",
    "    Local X (m) 변수값에 따른 셀 번호 지정\n",
    "        \n",
    "    \"\"\"\n",
    "    \n",
    "    if pd.isna(local_x) == False:\n",
    "        cellnum = int(local_x//20 + 1) # 나머지는 버린다.\n",
    "        cellnum = cellnum * 20\n",
    "    \n",
    "        if cellnum < 100:\n",
    "            cell = '0' + str(cellnum)\n",
    "\n",
    "        else: # cellnum >= 10인 경우\n",
    "            cell = str(cellnum)    \n",
    "            \n",
    "    else:\n",
    "        cell = None\n",
    "        \n",
    "    return cell"
   ]
  },
  {
   "cell_type": "code",
   "execution_count": 53,
   "id": "af7e0376-7779-4db3-ae75-998f149c0aec",
   "metadata": {
    "execution": {
     "iopub.execute_input": "2023-11-29T06:08:51.968744Z",
     "iopub.status.busy": "2023-11-29T06:08:51.967744Z",
     "iopub.status.idle": "2023-11-29T06:08:51.982258Z",
     "shell.execute_reply": "2023-11-29T06:08:51.982258Z",
     "shell.execute_reply.started": "2023-11-29T06:08:51.968744Z"
    },
    "tags": []
   },
   "outputs": [],
   "source": [
    "def df_to_plotly(pv):\n",
    "    return {'z': pv.values.tolist(),\n",
    "            'y': pv['lane'].tolist(),\n",
    "            'x': pv.columns.tolist()}"
   ]
  },
  {
   "cell_type": "code",
   "execution_count": 54,
   "id": "f64c688d-097e-47d2-b09d-8db9b802376e",
   "metadata": {
    "execution": {
     "iopub.execute_input": "2023-11-29T06:08:51.983285Z",
     "iopub.status.busy": "2023-11-29T06:08:51.983285Z",
     "iopub.status.idle": "2023-11-29T06:08:51.999285Z",
     "shell.execute_reply": "2023-11-29T06:08:51.998302Z",
     "shell.execute_reply.started": "2023-11-29T06:08:51.983285Z"
    },
    "tags": []
   },
   "outputs": [],
   "source": [
    "palette_ryb = ['#00b0f0', '#ffff00', '#ff5050'] # 엇갈림구간 프로젝트의 그 삼색팔레트 : 파랑-노랑-빨강\n",
    "palette_TIT = ['#ffffff', '#ff0000'] # 환색~빨강\n",
    "#palette_bluewhite = ['#ffffff', '#0054ff'] # \n",
    "palette_TTC = ['#ff0000', '#ffffff'] # 빨강~흰색\n",
    "#palette_whiteblue = ['#0054ff', '#ffffff']"
   ]
  },
  {
   "cell_type": "code",
   "execution_count": 55,
   "id": "08d13593-500d-4c15-b8a0-79fd7c3cd860",
   "metadata": {
    "execution": {
     "iopub.execute_input": "2023-11-29T06:08:52.000281Z",
     "iopub.status.busy": "2023-11-29T06:08:52.000281Z",
     "iopub.status.idle": "2023-11-29T06:08:52.268002Z",
     "shell.execute_reply": "2023-11-29T06:08:52.267004Z",
     "shell.execute_reply.started": "2023-11-29T06:08:52.000281Z"
    }
   },
   "outputs": [],
   "source": [
    "df_0['cell'] = df_0['local_x'].apply(make_cell)"
   ]
  },
  {
   "cell_type": "code",
   "execution_count": 56,
   "id": "0edc27bb-c145-4f89-977e-139e4cb82309",
   "metadata": {
    "execution": {
     "iopub.execute_input": "2023-11-29T06:08:52.269001Z",
     "iopub.status.busy": "2023-11-29T06:08:52.269001Z",
     "iopub.status.idle": "2023-11-29T06:08:52.299326Z",
     "shell.execute_reply": "2023-11-29T06:08:52.298353Z",
     "shell.execute_reply.started": "2023-11-29T06:08:52.269001Z"
    }
   },
   "outputs": [],
   "source": [
    "cell_list = list(df_0['cell'].unique())"
   ]
  },
  {
   "cell_type": "code",
   "execution_count": 57,
   "id": "90a1cf88-b30f-4aee-a861-0d0b43f403b5",
   "metadata": {
    "execution": {
     "iopub.execute_input": "2023-11-29T06:08:52.300356Z",
     "iopub.status.busy": "2023-11-29T06:08:52.300356Z",
     "iopub.status.idle": "2023-11-29T06:08:52.316059Z",
     "shell.execute_reply": "2023-11-29T06:08:52.314283Z",
     "shell.execute_reply.started": "2023-11-29T06:08:52.300356Z"
    }
   },
   "outputs": [
    {
     "data": {
      "text/plain": [
       "['040', '060', '080', '100', '120', '140', '160', '180', '200', '220', '240']"
      ]
     },
     "execution_count": 57,
     "metadata": {},
     "output_type": "execute_result"
    }
   ],
   "source": [
    "cell_list"
   ]
  },
  {
   "cell_type": "code",
   "execution_count": 58,
   "id": "b3e17e28-58f5-48d1-8a5a-d588aa354b33",
   "metadata": {
    "execution": {
     "iopub.execute_input": "2023-11-29T06:08:52.316059Z",
     "iopub.status.busy": "2023-11-29T06:08:52.316059Z",
     "iopub.status.idle": "2023-11-29T06:08:52.408882Z",
     "shell.execute_reply": "2023-11-29T06:08:52.407882Z",
     "shell.execute_reply.started": "2023-11-29T06:08:52.316059Z"
    }
   },
   "outputs": [
    {
     "data": {
      "text/html": [
       "<div>\n",
       "<style scoped>\n",
       "    .dataframe tbody tr th:only-of-type {\n",
       "        vertical-align: middle;\n",
       "    }\n",
       "\n",
       "    .dataframe tbody tr th {\n",
       "        vertical-align: top;\n",
       "    }\n",
       "\n",
       "    .dataframe thead th {\n",
       "        text-align: right;\n",
       "    }\n",
       "</style>\n",
       "<table border=\"1\" class=\"dataframe\">\n",
       "  <thead>\n",
       "    <tr style=\"text-align: right;\">\n",
       "      <th></th>\n",
       "      <th>delta_local_x</th>\n",
       "      <th>delta_local_y</th>\n",
       "      <th>velocity</th>\n",
       "      <th>velocity_x_before</th>\n",
       "      <th>velocity_y_before</th>\n",
       "      <th>velocity_x</th>\n",
       "      <th>velocity_y</th>\n",
       "    </tr>\n",
       "  </thead>\n",
       "  <tbody>\n",
       "    <tr>\n",
       "      <th>129282</th>\n",
       "      <td>7.683594</td>\n",
       "      <td>0.241455</td>\n",
       "      <td>106.875</td>\n",
       "      <td>7.597656</td>\n",
       "      <td>0.441895</td>\n",
       "      <td>21.34375</td>\n",
       "      <td>0.670898</td>\n",
       "    </tr>\n",
       "    <tr>\n",
       "      <th>129283</th>\n",
       "      <td>7.683594</td>\n",
       "      <td>0.241455</td>\n",
       "      <td>106.875</td>\n",
       "      <td>7.597656</td>\n",
       "      <td>0.441895</td>\n",
       "      <td>21.34375</td>\n",
       "      <td>0.670898</td>\n",
       "    </tr>\n",
       "    <tr>\n",
       "      <th>129284</th>\n",
       "      <td>7.683594</td>\n",
       "      <td>0.241455</td>\n",
       "      <td>106.875</td>\n",
       "      <td>7.597656</td>\n",
       "      <td>0.441895</td>\n",
       "      <td>21.34375</td>\n",
       "      <td>0.670898</td>\n",
       "    </tr>\n",
       "  </tbody>\n",
       "</table>\n",
       "</div>"
      ],
      "text/plain": [
       "        delta_local_x  delta_local_y  velocity  velocity_x_before  \\\n",
       "129282       7.683594       0.241455   106.875           7.597656   \n",
       "129283       7.683594       0.241455   106.875           7.597656   \n",
       "129284       7.683594       0.241455   106.875           7.597656   \n",
       "\n",
       "        velocity_y_before  velocity_x  velocity_y  \n",
       "129282           0.441895    21.34375    0.670898  \n",
       "129283           0.441895    21.34375    0.670898  \n",
       "129284           0.441895    21.34375    0.670898  "
      ]
     },
     "execution_count": 58,
     "metadata": {},
     "output_type": "execute_result"
    }
   ],
   "source": [
    "df_0[df_0['velocity_x'] == df_0['velocity_x'].max()][['delta_local_x', 'delta_local_y', 'velocity', 'velocity_x_before', 'velocity_y_before', 'velocity_x', 'velocity_y']]"
   ]
  },
  {
   "cell_type": "code",
   "execution_count": 59,
   "id": "fe0e3ea6-1ace-45e8-a9dd-af9e213c16ff",
   "metadata": {
    "execution": {
     "iopub.execute_input": "2023-11-29T06:08:52.412872Z",
     "iopub.status.busy": "2023-11-29T06:08:52.411875Z",
     "iopub.status.idle": "2023-11-29T06:08:52.423874Z",
     "shell.execute_reply": "2023-11-29T06:08:52.423874Z",
     "shell.execute_reply.started": "2023-11-29T06:08:52.412872Z"
    }
   },
   "outputs": [
    {
     "data": {
      "text/html": [
       "<div>\n",
       "<style scoped>\n",
       "    .dataframe tbody tr th:only-of-type {\n",
       "        vertical-align: middle;\n",
       "    }\n",
       "\n",
       "    .dataframe tbody tr th {\n",
       "        vertical-align: top;\n",
       "    }\n",
       "\n",
       "    .dataframe thead th {\n",
       "        text-align: right;\n",
       "    }\n",
       "</style>\n",
       "<table border=\"1\" class=\"dataframe\">\n",
       "  <thead>\n",
       "    <tr style=\"text-align: right;\">\n",
       "      <th></th>\n",
       "      <th>velocity</th>\n",
       "      <th>velocity_x</th>\n",
       "    </tr>\n",
       "  </thead>\n",
       "  <tbody>\n",
       "    <tr>\n",
       "      <th>0</th>\n",
       "      <td>92.1875</td>\n",
       "      <td>NaN</td>\n",
       "    </tr>\n",
       "    <tr>\n",
       "      <th>1</th>\n",
       "      <td>91.7500</td>\n",
       "      <td>7.078125</td>\n",
       "    </tr>\n",
       "    <tr>\n",
       "      <th>2</th>\n",
       "      <td>92.4375</td>\n",
       "      <td>7.125000</td>\n",
       "    </tr>\n",
       "    <tr>\n",
       "      <th>3</th>\n",
       "      <td>92.0625</td>\n",
       "      <td>7.101562</td>\n",
       "    </tr>\n",
       "    <tr>\n",
       "      <th>4</th>\n",
       "      <td>92.7500</td>\n",
       "      <td>7.152344</td>\n",
       "    </tr>\n",
       "    <tr>\n",
       "      <th>...</th>\n",
       "      <td>...</td>\n",
       "      <td>...</td>\n",
       "    </tr>\n",
       "    <tr>\n",
       "      <th>265500</th>\n",
       "      <td>122.8125</td>\n",
       "      <td>9.476562</td>\n",
       "    </tr>\n",
       "    <tr>\n",
       "      <th>265501</th>\n",
       "      <td>122.8125</td>\n",
       "      <td>9.476562</td>\n",
       "    </tr>\n",
       "    <tr>\n",
       "      <th>265502</th>\n",
       "      <td>119.3125</td>\n",
       "      <td>9.210938</td>\n",
       "    </tr>\n",
       "    <tr>\n",
       "      <th>265503</th>\n",
       "      <td>119.3125</td>\n",
       "      <td>9.210938</td>\n",
       "    </tr>\n",
       "    <tr>\n",
       "      <th>265504</th>\n",
       "      <td>119.3125</td>\n",
       "      <td>9.210938</td>\n",
       "    </tr>\n",
       "  </tbody>\n",
       "</table>\n",
       "<p>265505 rows × 2 columns</p>\n",
       "</div>"
      ],
      "text/plain": [
       "        velocity  velocity_x\n",
       "0        92.1875         NaN\n",
       "1        91.7500    7.078125\n",
       "2        92.4375    7.125000\n",
       "3        92.0625    7.101562\n",
       "4        92.7500    7.152344\n",
       "...          ...         ...\n",
       "265500  122.8125    9.476562\n",
       "265501  122.8125    9.476562\n",
       "265502  119.3125    9.210938\n",
       "265503  119.3125    9.210938\n",
       "265504  119.3125    9.210938\n",
       "\n",
       "[265505 rows x 2 columns]"
      ]
     },
     "execution_count": 59,
     "metadata": {},
     "output_type": "execute_result"
    }
   ],
   "source": [
    "df_0[['velocity', 'velocity_x']]"
   ]
  },
  {
   "cell_type": "markdown",
   "id": "b01a3f5f-e3e7-4c0c-adfd-9ccc0439586f",
   "metadata": {
    "tags": []
   },
   "source": [
    "# 기초통계량"
   ]
  },
  {
   "cell_type": "code",
   "execution_count": 60,
   "id": "0b4b3ad8-ce33-46f1-a0fc-0e97efbcca90",
   "metadata": {
    "execution": {
     "iopub.execute_input": "2023-11-29T06:08:52.425842Z",
     "iopub.status.busy": "2023-11-29T06:08:52.425842Z",
     "iopub.status.idle": "2023-11-29T06:08:52.440799Z",
     "shell.execute_reply": "2023-11-29T06:08:52.439802Z",
     "shell.execute_reply.started": "2023-11-29T06:08:52.425842Z"
    },
    "tags": []
   },
   "outputs": [],
   "source": [
    "df_0.rename({'time_gap' : 'TimeGap', 'pPET':'TAdv'}, axis = 1, inplace = True)"
   ]
  },
  {
   "cell_type": "code",
   "execution_count": 61,
   "id": "68742183-ed5e-4f3b-97e9-15d172d537a3",
   "metadata": {
    "execution": {
     "iopub.execute_input": "2023-11-29T06:08:52.441795Z",
     "iopub.status.busy": "2023-11-29T06:08:52.440799Z",
     "iopub.status.idle": "2023-11-29T06:08:52.472714Z",
     "shell.execute_reply": "2023-11-29T06:08:52.471745Z",
     "shell.execute_reply.started": "2023-11-29T06:08:52.441795Z"
    }
   },
   "outputs": [
    {
     "data": {
      "text/html": [
       "<div>\n",
       "<style scoped>\n",
       "    .dataframe tbody tr th:only-of-type {\n",
       "        vertical-align: middle;\n",
       "    }\n",
       "\n",
       "    .dataframe tbody tr th {\n",
       "        vertical-align: top;\n",
       "    }\n",
       "\n",
       "    .dataframe thead th {\n",
       "        text-align: right;\n",
       "    }\n",
       "</style>\n",
       "<table border=\"1\" class=\"dataframe\">\n",
       "  <thead>\n",
       "    <tr style=\"text-align: right;\">\n",
       "      <th></th>\n",
       "      <th>veh_id</th>\n",
       "      <th>frm</th>\n",
       "      <th>local_x</th>\n",
       "      <th>local_y</th>\n",
       "      <th>V_len</th>\n",
       "      <th>V_wid</th>\n",
       "      <th>velocity</th>\n",
       "      <th>acc</th>\n",
       "      <th>lane</th>\n",
       "      <th>Time</th>\n",
       "      <th>...</th>\n",
       "      <th>MTC</th>\n",
       "      <th>MMTC</th>\n",
       "      <th>TIT</th>\n",
       "      <th>TIT2</th>\n",
       "      <th>TGIT</th>\n",
       "      <th>TIACT</th>\n",
       "      <th>TIDSS</th>\n",
       "      <th>TIDRAC</th>\n",
       "      <th>TIMDRAC</th>\n",
       "      <th>cell</th>\n",
       "    </tr>\n",
       "  </thead>\n",
       "  <tbody>\n",
       "    <tr>\n",
       "      <th>0</th>\n",
       "      <td>2</td>\n",
       "      <td>438</td>\n",
       "      <td>37.28125</td>\n",
       "      <td>7.726562</td>\n",
       "      <td>4.902344</td>\n",
       "      <td>2.064453</td>\n",
       "      <td>92.1875</td>\n",
       "      <td>2.812500</td>\n",
       "      <td>U2</td>\n",
       "      <td>14.6</td>\n",
       "      <td>...</td>\n",
       "      <td>NaN</td>\n",
       "      <td>NaN</td>\n",
       "      <td>NaN</td>\n",
       "      <td>NaN</td>\n",
       "      <td>NaN</td>\n",
       "      <td>NaN</td>\n",
       "      <td>NaN</td>\n",
       "      <td>NaN</td>\n",
       "      <td>NaN</td>\n",
       "      <td>040</td>\n",
       "    </tr>\n",
       "    <tr>\n",
       "      <th>1</th>\n",
       "      <td>2</td>\n",
       "      <td>441</td>\n",
       "      <td>39.81250</td>\n",
       "      <td>7.785156</td>\n",
       "      <td>4.902344</td>\n",
       "      <td>2.064453</td>\n",
       "      <td>91.7500</td>\n",
       "      <td>-1.228516</td>\n",
       "      <td>U2</td>\n",
       "      <td>14.7</td>\n",
       "      <td>...</td>\n",
       "      <td>NaN</td>\n",
       "      <td>NaN</td>\n",
       "      <td>NaN</td>\n",
       "      <td>NaN</td>\n",
       "      <td>0.0</td>\n",
       "      <td>NaN</td>\n",
       "      <td>NaN</td>\n",
       "      <td>NaN</td>\n",
       "      <td>NaN</td>\n",
       "      <td>040</td>\n",
       "    </tr>\n",
       "    <tr>\n",
       "      <th>2</th>\n",
       "      <td>2</td>\n",
       "      <td>444</td>\n",
       "      <td>42.40625</td>\n",
       "      <td>7.882812</td>\n",
       "      <td>4.902344</td>\n",
       "      <td>2.064453</td>\n",
       "      <td>92.4375</td>\n",
       "      <td>1.814453</td>\n",
       "      <td>U2</td>\n",
       "      <td>14.8</td>\n",
       "      <td>...</td>\n",
       "      <td>NaN</td>\n",
       "      <td>NaN</td>\n",
       "      <td>NaN</td>\n",
       "      <td>NaN</td>\n",
       "      <td>0.0</td>\n",
       "      <td>0.0</td>\n",
       "      <td>NaN</td>\n",
       "      <td>NaN</td>\n",
       "      <td>NaN</td>\n",
       "      <td>060</td>\n",
       "    </tr>\n",
       "  </tbody>\n",
       "</table>\n",
       "<p>3 rows × 91 columns</p>\n",
       "</div>"
      ],
      "text/plain": [
       "   veh_id  frm   local_x   local_y     V_len     V_wid  velocity       acc  \\\n",
       "0       2  438  37.28125  7.726562  4.902344  2.064453   92.1875  2.812500   \n",
       "1       2  441  39.81250  7.785156  4.902344  2.064453   91.7500 -1.228516   \n",
       "2       2  444  42.40625  7.882812  4.902344  2.064453   92.4375  1.814453   \n",
       "\n",
       "  lane  Time  ...  MTC  MMTC  TIT  TIT2  TGIT  TIACT  TIDSS  TIDRAC  TIMDRAC  \\\n",
       "0   U2  14.6  ...  NaN   NaN  NaN   NaN   NaN    NaN    NaN     NaN      NaN   \n",
       "1   U2  14.7  ...  NaN   NaN  NaN   NaN   0.0    NaN    NaN     NaN      NaN   \n",
       "2   U2  14.8  ...  NaN   NaN  NaN   NaN   0.0    0.0    NaN     NaN      NaN   \n",
       "\n",
       "   cell  \n",
       "0   040  \n",
       "1   040  \n",
       "2   060  \n",
       "\n",
       "[3 rows x 91 columns]"
      ]
     },
     "execution_count": 61,
     "metadata": {},
     "output_type": "execute_result"
    }
   ],
   "source": [
    "df_0.head(3)"
   ]
  },
  {
   "cell_type": "code",
   "execution_count": 62,
   "id": "567aa6e3-6986-459c-b1ae-2f79da3e17b6",
   "metadata": {
    "execution": {
     "iopub.execute_input": "2023-11-29T06:08:52.473711Z",
     "iopub.status.busy": "2023-11-29T06:08:52.473711Z",
     "iopub.status.idle": "2023-11-29T06:08:52.504630Z",
     "shell.execute_reply": "2023-11-29T06:08:52.503632Z",
     "shell.execute_reply.started": "2023-11-29T06:08:52.473711Z"
    },
    "tags": []
   },
   "outputs": [
    {
     "name": "stdout",
     "output_type": "stream",
     "text": [
      "15\n"
     ]
    }
   ],
   "source": [
    "var_list = ['velocity', 'acc']\n",
    "SSM_list_1 = [ 'TTC', 'MTTC', 'T2', 'TAdv', 'TimeGap', 'ACT']\n",
    "SSM_list_2 = ['PSD', 'DSS', 'MMTC', 'PICUD', 'MTC']\n",
    "SSM_list_3 = ['DRAC', 'MDRAC', 'DCIA', 'unsafety']\n",
    "\n",
    "SSM_list = SSM_list_1 + SSM_list_2 + SSM_list_3\n",
    "\n",
    "print(len(SSM_list))"
   ]
  },
  {
   "cell_type": "code",
   "execution_count": 63,
   "id": "de401dfa-2bcc-4d7e-b195-7ddc6af1fd68",
   "metadata": {
    "execution": {
     "iopub.execute_input": "2023-11-29T06:08:52.507621Z",
     "iopub.status.busy": "2023-11-29T06:08:52.506625Z",
     "iopub.status.idle": "2023-11-29T06:08:52.773245Z",
     "shell.execute_reply": "2023-11-29T06:08:52.772248Z",
     "shell.execute_reply.started": "2023-11-29T06:08:52.507621Z"
    },
    "tags": []
   },
   "outputs": [
    {
     "name": "stderr",
     "output_type": "stream",
     "text": [
      "1it [00:00,  4.65it/s]\n"
     ]
    }
   ],
   "source": [
    "for df, i in tqdm(zip([df_0][:1], [0][:1])):\n",
    "    \n",
    "    total_mean = pd.DataFrame(df[SSM_list].mean()).rename({0 : '전체'}, axis = 1)\n",
    "    sub_mean = pd.pivot_table(df, columns = ['potential_conflict_type'], values = SSM_list, aggfunc = 'mean') # 소계\n",
    "    each_mean = pd.pivot_table(df, columns = ['potential_conflict_type', 'LC_CF'], values = SSM_list, aggfunc = 'mean')\n",
    "\n",
    "    #each_mean.loc[:, ('angled', '전체')] = sub_mean['angled'].astype('float16')\n",
    "    each_mean.loc[:, ('rear_end', '전체')] = sub_mean['rear_end'].astype('float16')\n",
    "    each_mean.loc[:, ('side_swipe', '전체')] = sub_mean['side_swipe'].astype('float16')\n",
    "    each_mean.loc[:, ('전체', '전체')] = total_mean\n",
    "\n",
    "    total_mean = each_mean.stack().unstack().round(2)\n",
    "    total_mean = total_mean[['rear_end', 'side_swipe', '전체']]\n",
    "    \n",
    "    total_mean.drop([('전체', 'CF'), ('전체', 'LC')], axis = 1, inplace = True)\n",
    "    \n",
    "    # 카운트\n",
    "    \n",
    "    total_test = pd.DataFrame(df[['veh_id']].count()).rename({0 : '전체'}, axis = 1)\n",
    "    sub_test = pd.pivot_table(df, columns = ['potential_conflict_type'], values = ['veh_id', 'velocity', 'acc'], aggfunc = {'veh_id' : 'count', 'velocity' : 'mean', 'acc' : 'mean'})\n",
    "    each_test = pd.pivot_table(df, columns = ['potential_conflict_type', 'LC_CF'], values = ['veh_id', 'velocity', 'acc'], aggfunc = {'veh_id' : 'count', 'velocity' : 'mean', 'acc' : 'mean'})\n",
    "\n",
    "    #each_test.loc[:, ('angled', '전체')] = sub_test['angled'].astype('float16')\n",
    "    each_test.loc[:, ('rear_end', '전체')] = sub_test['rear_end'].astype('float16')\n",
    "    each_test.loc[:, ('side_swipe', '전체')] = sub_test['side_swipe'].astype('float16')\n",
    "    each_test.loc[:, ('전체', '전체')] = total_test\n",
    "\n",
    "    total_test = each_test.stack().unstack().round(2)\n",
    "    #total_test = total_test[['rear_end', 'side_swipe', 'angled', '전체']]\n",
    "\n",
    "    total_test.drop([('전체', 'CF'), ('전체', 'LC')], axis = 1, inplace = True)\n",
    "    \n",
    "    total_mean = pd.concat([total_test, total_mean])\n",
    "    total_mean = total_mean.round(2)\n",
    "    total_mean = total_mean.astype('float').round(2).fillna('-')\n",
    "    \n",
    "    total_mean = total_mean.reindex(['veh_id', 'velocity', 'acc'] + SSM_list_1 + SSM_list_2 + SSM_list_3)\n",
    "    \n",
    "    globals()[f'total_mean_{i}'] = total_mean"
   ]
  },
  {
   "cell_type": "code",
   "execution_count": 64,
   "id": "e29af211-db3f-406b-a8e1-a02426b3d4f7",
   "metadata": {
    "execution": {
     "iopub.execute_input": "2023-11-29T06:08:52.774242Z",
     "iopub.status.busy": "2023-11-29T06:08:52.773245Z",
     "iopub.status.idle": "2023-11-29T06:08:52.802570Z",
     "shell.execute_reply": "2023-11-29T06:08:52.802570Z",
     "shell.execute_reply.started": "2023-11-29T06:08:52.774242Z"
    },
    "tags": []
   },
   "outputs": [
    {
     "data": {
      "text/html": [
       "<div>\n",
       "<style scoped>\n",
       "    .dataframe tbody tr th:only-of-type {\n",
       "        vertical-align: middle;\n",
       "    }\n",
       "\n",
       "    .dataframe tbody tr th {\n",
       "        vertical-align: top;\n",
       "    }\n",
       "\n",
       "    .dataframe thead tr th {\n",
       "        text-align: left;\n",
       "    }\n",
       "</style>\n",
       "<table border=\"1\" class=\"dataframe\">\n",
       "  <thead>\n",
       "    <tr>\n",
       "      <th>potential_conflict_type</th>\n",
       "      <th colspan=\"3\" halign=\"left\">rear_end</th>\n",
       "      <th colspan=\"3\" halign=\"left\">side_swipe</th>\n",
       "      <th>전체</th>\n",
       "    </tr>\n",
       "    <tr>\n",
       "      <th>LC_CF</th>\n",
       "      <th>CF</th>\n",
       "      <th>LC</th>\n",
       "      <th>전체</th>\n",
       "      <th>CF</th>\n",
       "      <th>LC</th>\n",
       "      <th>전체</th>\n",
       "      <th>전체</th>\n",
       "    </tr>\n",
       "  </thead>\n",
       "  <tbody>\n",
       "    <tr>\n",
       "      <th>veh_id</th>\n",
       "      <td>12475.00</td>\n",
       "      <td>3461.00</td>\n",
       "      <td>15936.00</td>\n",
       "      <td>1198.0</td>\n",
       "      <td>219.0</td>\n",
       "      <td>1417.0</td>\n",
       "      <td>265505.0</td>\n",
       "    </tr>\n",
       "    <tr>\n",
       "      <th>velocity</th>\n",
       "      <td>94.66</td>\n",
       "      <td>87.54</td>\n",
       "      <td>93.12</td>\n",
       "      <td>109.45</td>\n",
       "      <td>94.88</td>\n",
       "      <td>107.19</td>\n",
       "      <td>-</td>\n",
       "    </tr>\n",
       "    <tr>\n",
       "      <th>acc</th>\n",
       "      <td>-0.00</td>\n",
       "      <td>0.39</td>\n",
       "      <td>0.08</td>\n",
       "      <td>0.04</td>\n",
       "      <td>0.37</td>\n",
       "      <td>0.09</td>\n",
       "      <td>-</td>\n",
       "    </tr>\n",
       "    <tr>\n",
       "      <th>TTC</th>\n",
       "      <td>1502.06</td>\n",
       "      <td>838.64</td>\n",
       "      <td>1390.00</td>\n",
       "      <td>-</td>\n",
       "      <td>-</td>\n",
       "      <td>-</td>\n",
       "      <td>1389.68</td>\n",
       "    </tr>\n",
       "    <tr>\n",
       "      <th>MTTC</th>\n",
       "      <td>34.34</td>\n",
       "      <td>31.10</td>\n",
       "      <td>33.59</td>\n",
       "      <td>-</td>\n",
       "      <td>-</td>\n",
       "      <td>-</td>\n",
       "      <td>33.6</td>\n",
       "    </tr>\n",
       "    <tr>\n",
       "      <th>T2</th>\n",
       "      <td>380.63</td>\n",
       "      <td>230.44</td>\n",
       "      <td>350.00</td>\n",
       "      <td>137.32</td>\n",
       "      <td>411.45</td>\n",
       "      <td>159.0</td>\n",
       "      <td>167.52</td>\n",
       "    </tr>\n",
       "    <tr>\n",
       "      <th>TAdv</th>\n",
       "      <td>33.60</td>\n",
       "      <td>39.90</td>\n",
       "      <td>34.97</td>\n",
       "      <td>102.05</td>\n",
       "      <td>18.24</td>\n",
       "      <td>89.06</td>\n",
       "      <td>39.39</td>\n",
       "    </tr>\n",
       "    <tr>\n",
       "      <th>TimeGap</th>\n",
       "      <td>314.27</td>\n",
       "      <td>220.57</td>\n",
       "      <td>294.00</td>\n",
       "      <td>538.48</td>\n",
       "      <td>156.91</td>\n",
       "      <td>479.5</td>\n",
       "      <td>309.07</td>\n",
       "    </tr>\n",
       "    <tr>\n",
       "      <th>ACT</th>\n",
       "      <td>21.77</td>\n",
       "      <td>18.38</td>\n",
       "      <td>20.94</td>\n",
       "      <td>16.29</td>\n",
       "      <td>16.93</td>\n",
       "      <td>16.39</td>\n",
       "      <td>16.9</td>\n",
       "    </tr>\n",
       "    <tr>\n",
       "      <th>PSD</th>\n",
       "      <td>114.78</td>\n",
       "      <td>121.36</td>\n",
       "      <td>116.19</td>\n",
       "      <td>-</td>\n",
       "      <td>-</td>\n",
       "      <td>-</td>\n",
       "      <td>116.22</td>\n",
       "    </tr>\n",
       "    <tr>\n",
       "      <th>DSS</th>\n",
       "      <td>57.35</td>\n",
       "      <td>53.25</td>\n",
       "      <td>56.69</td>\n",
       "      <td>-</td>\n",
       "      <td>-</td>\n",
       "      <td>-</td>\n",
       "      <td>56.68</td>\n",
       "    </tr>\n",
       "    <tr>\n",
       "      <th>MMTC</th>\n",
       "      <td>35.41</td>\n",
       "      <td>35.74</td>\n",
       "      <td>35.47</td>\n",
       "      <td>-</td>\n",
       "      <td>-</td>\n",
       "      <td>-</td>\n",
       "      <td>35.48</td>\n",
       "    </tr>\n",
       "    <tr>\n",
       "      <th>PICUD</th>\n",
       "      <td>67.90</td>\n",
       "      <td>64.32</td>\n",
       "      <td>67.12</td>\n",
       "      <td>-</td>\n",
       "      <td>-</td>\n",
       "      <td>-</td>\n",
       "      <td>67.12</td>\n",
       "    </tr>\n",
       "    <tr>\n",
       "      <th>MTC</th>\n",
       "      <td>107.91</td>\n",
       "      <td>103.59</td>\n",
       "      <td>106.94</td>\n",
       "      <td>-</td>\n",
       "      <td>-</td>\n",
       "      <td>-</td>\n",
       "      <td>106.97</td>\n",
       "    </tr>\n",
       "    <tr>\n",
       "      <th>DRAC</th>\n",
       "      <td>0.00</td>\n",
       "      <td>0.00</td>\n",
       "      <td>0.00</td>\n",
       "      <td>-</td>\n",
       "      <td>-</td>\n",
       "      <td>-</td>\n",
       "      <td>0.0</td>\n",
       "    </tr>\n",
       "    <tr>\n",
       "      <th>MDRAC</th>\n",
       "      <td>0.00</td>\n",
       "      <td>0.00</td>\n",
       "      <td>0.00</td>\n",
       "      <td>-</td>\n",
       "      <td>-</td>\n",
       "      <td>-</td>\n",
       "      <td>0.0</td>\n",
       "    </tr>\n",
       "    <tr>\n",
       "      <th>DCIA</th>\n",
       "      <td>-0.01</td>\n",
       "      <td>0.00</td>\n",
       "      <td>-0.01</td>\n",
       "      <td>-</td>\n",
       "      <td>-</td>\n",
       "      <td>-</td>\n",
       "      <td>-0.01</td>\n",
       "    </tr>\n",
       "    <tr>\n",
       "      <th>unsafety</th>\n",
       "      <td>-0.01</td>\n",
       "      <td>-0.00</td>\n",
       "      <td>-0.01</td>\n",
       "      <td>-</td>\n",
       "      <td>-</td>\n",
       "      <td>-</td>\n",
       "      <td>-0.01</td>\n",
       "    </tr>\n",
       "  </tbody>\n",
       "</table>\n",
       "</div>"
      ],
      "text/plain": [
       "potential_conflict_type  rear_end                    side_swipe          \\\n",
       "LC_CF                          CF       LC        전체         CF      LC   \n",
       "veh_id                   12475.00  3461.00  15936.00     1198.0   219.0   \n",
       "velocity                    94.66    87.54     93.12     109.45   94.88   \n",
       "acc                         -0.00     0.39      0.08       0.04    0.37   \n",
       "TTC                       1502.06   838.64   1390.00          -       -   \n",
       "MTTC                        34.34    31.10     33.59          -       -   \n",
       "T2                         380.63   230.44    350.00     137.32  411.45   \n",
       "TAdv                        33.60    39.90     34.97     102.05   18.24   \n",
       "TimeGap                    314.27   220.57    294.00     538.48  156.91   \n",
       "ACT                         21.77    18.38     20.94      16.29   16.93   \n",
       "PSD                        114.78   121.36    116.19          -       -   \n",
       "DSS                         57.35    53.25     56.69          -       -   \n",
       "MMTC                        35.41    35.74     35.47          -       -   \n",
       "PICUD                       67.90    64.32     67.12          -       -   \n",
       "MTC                        107.91   103.59    106.94          -       -   \n",
       "DRAC                         0.00     0.00      0.00          -       -   \n",
       "MDRAC                        0.00     0.00      0.00          -       -   \n",
       "DCIA                        -0.01     0.00     -0.01          -       -   \n",
       "unsafety                    -0.01    -0.00     -0.01          -       -   \n",
       "\n",
       "potential_conflict_type                전체  \n",
       "LC_CF                        전체        전체  \n",
       "veh_id                   1417.0  265505.0  \n",
       "velocity                 107.19         -  \n",
       "acc                        0.09         -  \n",
       "TTC                           -   1389.68  \n",
       "MTTC                          -      33.6  \n",
       "T2                        159.0    167.52  \n",
       "TAdv                      89.06     39.39  \n",
       "TimeGap                   479.5    309.07  \n",
       "ACT                       16.39      16.9  \n",
       "PSD                           -    116.22  \n",
       "DSS                           -     56.68  \n",
       "MMTC                          -     35.48  \n",
       "PICUD                         -     67.12  \n",
       "MTC                           -    106.97  \n",
       "DRAC                          -       0.0  \n",
       "MDRAC                         -       0.0  \n",
       "DCIA                          -     -0.01  \n",
       "unsafety                      -     -0.01  "
      ]
     },
     "execution_count": 64,
     "metadata": {},
     "output_type": "execute_result"
    }
   ],
   "source": [
    "total_mean_0"
   ]
  },
  {
   "cell_type": "code",
   "execution_count": 65,
   "id": "56402fab-bece-40da-a195-6fc3b2688b1d",
   "metadata": {
    "execution": {
     "iopub.execute_input": "2023-11-29T06:08:52.803574Z",
     "iopub.status.busy": "2023-11-29T06:08:52.803574Z",
     "iopub.status.idle": "2023-11-29T06:08:52.978104Z",
     "shell.execute_reply": "2023-11-29T06:08:52.977107Z",
     "shell.execute_reply.started": "2023-11-29T06:08:52.803574Z"
    },
    "tags": []
   },
   "outputs": [
    {
     "name": "stderr",
     "output_type": "stream",
     "text": [
      "1it [00:00,  6.43it/s]\n"
     ]
    }
   ],
   "source": [
    "for df, i in tqdm(zip([df_0][:1], [0][:1])):\n",
    "    \n",
    "    total_mean = pd.DataFrame(df[SSM_list].std()).rename({0 : '전체'}, axis = 1)\n",
    "    sub_mean = pd.pivot_table(df, columns = ['potential_conflict_type'], values = SSM_list, aggfunc = np.std) # 소계\n",
    "    each_mean = pd.pivot_table(df, columns = ['potential_conflict_type', 'LC_CF'], values = SSM_list, aggfunc = np.std)\n",
    "\n",
    "    #each_mean.loc[:, ('angled', '전체')] = sub_mean['angled'].astype('float16')\n",
    "    each_mean.loc[:, ('rear_end', '전체')] = sub_mean['rear_end'].astype('float16')\n",
    "    each_mean.loc[:, ('side_swipe', '전체')] = sub_mean['side_swipe'].astype('float16')\n",
    "    each_mean.loc[:, ('전체', '전체')] = total_mean\n",
    "\n",
    "    total_mean = each_mean.stack().unstack().round(2)\n",
    "    total_mean = total_mean[['rear_end', 'side_swipe', '전체']]\n",
    "    \n",
    "    total_mean.drop([('전체', 'CF'), ('전체', 'LC')], axis = 1, inplace = True)\n",
    "    \n",
    "    # 카운트\n",
    "    \n",
    "    total_test = pd.DataFrame(df[['veh_id']].count()).rename({0 : '전체'}, axis = 1)\n",
    "    sub_test = pd.pivot_table(df, columns = ['potential_conflict_type'], values = ['veh_id', 'velocity', 'acc'], aggfunc = {'veh_id' : 'count', 'velocity' : np.std, 'acc' : np.std})\n",
    "    each_test = pd.pivot_table(df, columns = ['potential_conflict_type', 'LC_CF'], values = ['veh_id', 'velocity', 'acc'], aggfunc = {'veh_id' : 'count', 'velocity' : np.std, 'acc' : np.std})\n",
    "\n",
    "    #each_test.loc[:, ('angled', '전체')] = sub_test['angled'].astype('float16')\n",
    "    each_test.loc[:, ('rear_end', '전체')] = sub_test['rear_end'].astype('float16')\n",
    "    each_test.loc[:, ('side_swipe', '전체')] = sub_test['side_swipe'].astype('float16')\n",
    "    each_test.loc[:, ('전체', '전체')] = total_test\n",
    "\n",
    "    total_test = each_test.stack().unstack().round(2)\n",
    "    #total_test = total_test[['rear_end', 'side_swipe', 'angled', '전체']]\n",
    "\n",
    "    total_test.drop([('전체', 'CF'), ('전체', 'LC')], axis = 1, inplace = True)\n",
    "    \n",
    "    total_mean = pd.concat([total_test, total_mean])\n",
    "    total_mean = total_mean.round(2)\n",
    "    total_mean = total_mean.astype('float').round(2).fillna('-')\n",
    "    \n",
    "    total_mean = total_mean.reindex(['veh_id', 'velocity', 'acc'] + SSM_list_1 + SSM_list_2 + SSM_list_3)\n",
    "    \n",
    "    globals()[f'total_mean_{i}'] = total_mean"
   ]
  },
  {
   "cell_type": "code",
   "execution_count": 66,
   "id": "0a1c1eb2-a6b9-4772-92e9-d01d4626f919",
   "metadata": {
    "execution": {
     "iopub.execute_input": "2023-11-29T06:08:52.979074Z",
     "iopub.status.busy": "2023-11-29T06:08:52.978104Z",
     "iopub.status.idle": "2023-11-29T06:08:52.993037Z",
     "shell.execute_reply": "2023-11-29T06:08:52.993037Z",
     "shell.execute_reply.started": "2023-11-29T06:08:52.979074Z"
    },
    "tags": []
   },
   "outputs": [
    {
     "data": {
      "text/html": [
       "<div>\n",
       "<style scoped>\n",
       "    .dataframe tbody tr th:only-of-type {\n",
       "        vertical-align: middle;\n",
       "    }\n",
       "\n",
       "    .dataframe tbody tr th {\n",
       "        vertical-align: top;\n",
       "    }\n",
       "\n",
       "    .dataframe thead tr th {\n",
       "        text-align: left;\n",
       "    }\n",
       "</style>\n",
       "<table border=\"1\" class=\"dataframe\">\n",
       "  <thead>\n",
       "    <tr>\n",
       "      <th>potential_conflict_type</th>\n",
       "      <th colspan=\"3\" halign=\"left\">rear_end</th>\n",
       "      <th colspan=\"3\" halign=\"left\">side_swipe</th>\n",
       "      <th>전체</th>\n",
       "    </tr>\n",
       "    <tr>\n",
       "      <th>LC_CF</th>\n",
       "      <th>CF</th>\n",
       "      <th>LC</th>\n",
       "      <th>전체</th>\n",
       "      <th>CF</th>\n",
       "      <th>LC</th>\n",
       "      <th>전체</th>\n",
       "      <th>전체</th>\n",
       "    </tr>\n",
       "  </thead>\n",
       "  <tbody>\n",
       "    <tr>\n",
       "      <th>veh_id</th>\n",
       "      <td>12475.00</td>\n",
       "      <td>3461.00</td>\n",
       "      <td>15936.00</td>\n",
       "      <td>1198.0</td>\n",
       "      <td>219.0</td>\n",
       "      <td>1417.0</td>\n",
       "      <td>265505.0</td>\n",
       "    </tr>\n",
       "    <tr>\n",
       "      <th>velocity</th>\n",
       "      <td>14.29</td>\n",
       "      <td>11.48</td>\n",
       "      <td>14.04</td>\n",
       "      <td>11.38</td>\n",
       "      <td>6.19</td>\n",
       "      <td>11.97</td>\n",
       "      <td>-</td>\n",
       "    </tr>\n",
       "    <tr>\n",
       "      <th>acc</th>\n",
       "      <td>3.23</td>\n",
       "      <td>3.34</td>\n",
       "      <td>3.26</td>\n",
       "      <td>3.18</td>\n",
       "      <td>2.87</td>\n",
       "      <td>3.13</td>\n",
       "      <td>-</td>\n",
       "    </tr>\n",
       "    <tr>\n",
       "      <th>TTC</th>\n",
       "      <td>4819.45</td>\n",
       "      <td>3486.37</td>\n",
       "      <td>4628.00</td>\n",
       "      <td>-</td>\n",
       "      <td>-</td>\n",
       "      <td>-</td>\n",
       "      <td>4627.24</td>\n",
       "    </tr>\n",
       "    <tr>\n",
       "      <th>MTTC</th>\n",
       "      <td>62.76</td>\n",
       "      <td>37.62</td>\n",
       "      <td>58.03</td>\n",
       "      <td>-</td>\n",
       "      <td>-</td>\n",
       "      <td>-</td>\n",
       "      <td>58.02</td>\n",
       "    </tr>\n",
       "    <tr>\n",
       "      <th>T2</th>\n",
       "      <td>570.77</td>\n",
       "      <td>413.15</td>\n",
       "      <td>545.50</td>\n",
       "      <td>149.6</td>\n",
       "      <td>255.8</td>\n",
       "      <td>176.62</td>\n",
       "      <td>1019.78</td>\n",
       "    </tr>\n",
       "    <tr>\n",
       "      <th>TAdv</th>\n",
       "      <td>168.33</td>\n",
       "      <td>273.06</td>\n",
       "      <td>195.88</td>\n",
       "      <td>892.77</td>\n",
       "      <td>36.21</td>\n",
       "      <td>821.5</td>\n",
       "      <td>300.88</td>\n",
       "    </tr>\n",
       "    <tr>\n",
       "      <th>TimeGap</th>\n",
       "      <td>11399.61</td>\n",
       "      <td>2217.89</td>\n",
       "      <td>10136.00</td>\n",
       "      <td>4876.04</td>\n",
       "      <td>407.55</td>\n",
       "      <td>4488.0</td>\n",
       "      <td>9800.25</td>\n",
       "    </tr>\n",
       "    <tr>\n",
       "      <th>ACT</th>\n",
       "      <td>57.82</td>\n",
       "      <td>55.83</td>\n",
       "      <td>57.34</td>\n",
       "      <td>23.97</td>\n",
       "      <td>21.64</td>\n",
       "      <td>23.61</td>\n",
       "      <td>42.16</td>\n",
       "    </tr>\n",
       "    <tr>\n",
       "      <th>PSD</th>\n",
       "      <td>78.48</td>\n",
       "      <td>89.76</td>\n",
       "      <td>81.12</td>\n",
       "      <td>-</td>\n",
       "      <td>-</td>\n",
       "      <td>-</td>\n",
       "      <td>81.13</td>\n",
       "    </tr>\n",
       "    <tr>\n",
       "      <th>DSS</th>\n",
       "      <td>33.76</td>\n",
       "      <td>38.41</td>\n",
       "      <td>34.59</td>\n",
       "      <td>-</td>\n",
       "      <td>-</td>\n",
       "      <td>-</td>\n",
       "      <td>34.59</td>\n",
       "    </tr>\n",
       "    <tr>\n",
       "      <th>MMTC</th>\n",
       "      <td>19.40</td>\n",
       "      <td>22.73</td>\n",
       "      <td>20.17</td>\n",
       "      <td>-</td>\n",
       "      <td>-</td>\n",
       "      <td>-</td>\n",
       "      <td>20.18</td>\n",
       "    </tr>\n",
       "    <tr>\n",
       "      <th>PICUD</th>\n",
       "      <td>36.04</td>\n",
       "      <td>41.71</td>\n",
       "      <td>37.38</td>\n",
       "      <td>-</td>\n",
       "      <td>-</td>\n",
       "      <td>-</td>\n",
       "      <td>37.38</td>\n",
       "    </tr>\n",
       "    <tr>\n",
       "      <th>MTC</th>\n",
       "      <td>30.59</td>\n",
       "      <td>37.06</td>\n",
       "      <td>32.16</td>\n",
       "      <td>-</td>\n",
       "      <td>-</td>\n",
       "      <td>-</td>\n",
       "      <td>32.17</td>\n",
       "    </tr>\n",
       "    <tr>\n",
       "      <th>DRAC</th>\n",
       "      <td>0.00</td>\n",
       "      <td>0.01</td>\n",
       "      <td>0.00</td>\n",
       "      <td>-</td>\n",
       "      <td>-</td>\n",
       "      <td>-</td>\n",
       "      <td>0.0</td>\n",
       "    </tr>\n",
       "    <tr>\n",
       "      <th>MDRAC</th>\n",
       "      <td>0.00</td>\n",
       "      <td>0.00</td>\n",
       "      <td>0.00</td>\n",
       "      <td>-</td>\n",
       "      <td>-</td>\n",
       "      <td>-</td>\n",
       "      <td>0.0</td>\n",
       "    </tr>\n",
       "    <tr>\n",
       "      <th>DCIA</th>\n",
       "      <td>1.10</td>\n",
       "      <td>0.26</td>\n",
       "      <td>0.98</td>\n",
       "      <td>-</td>\n",
       "      <td>-</td>\n",
       "      <td>-</td>\n",
       "      <td>0.98</td>\n",
       "    </tr>\n",
       "    <tr>\n",
       "      <th>unsafety</th>\n",
       "      <td>0.69</td>\n",
       "      <td>0.03</td>\n",
       "      <td>0.61</td>\n",
       "      <td>-</td>\n",
       "      <td>-</td>\n",
       "      <td>-</td>\n",
       "      <td>0.61</td>\n",
       "    </tr>\n",
       "  </tbody>\n",
       "</table>\n",
       "</div>"
      ],
      "text/plain": [
       "potential_conflict_type  rear_end                    side_swipe          \\\n",
       "LC_CF                          CF       LC        전체         CF      LC   \n",
       "veh_id                   12475.00  3461.00  15936.00     1198.0   219.0   \n",
       "velocity                    14.29    11.48     14.04      11.38    6.19   \n",
       "acc                          3.23     3.34      3.26       3.18    2.87   \n",
       "TTC                       4819.45  3486.37   4628.00          -       -   \n",
       "MTTC                        62.76    37.62     58.03          -       -   \n",
       "T2                         570.77   413.15    545.50      149.6   255.8   \n",
       "TAdv                       168.33   273.06    195.88     892.77   36.21   \n",
       "TimeGap                  11399.61  2217.89  10136.00    4876.04  407.55   \n",
       "ACT                         57.82    55.83     57.34      23.97   21.64   \n",
       "PSD                         78.48    89.76     81.12          -       -   \n",
       "DSS                         33.76    38.41     34.59          -       -   \n",
       "MMTC                        19.40    22.73     20.17          -       -   \n",
       "PICUD                       36.04    41.71     37.38          -       -   \n",
       "MTC                         30.59    37.06     32.16          -       -   \n",
       "DRAC                         0.00     0.01      0.00          -       -   \n",
       "MDRAC                        0.00     0.00      0.00          -       -   \n",
       "DCIA                         1.10     0.26      0.98          -       -   \n",
       "unsafety                     0.69     0.03      0.61          -       -   \n",
       "\n",
       "potential_conflict_type                전체  \n",
       "LC_CF                        전체        전체  \n",
       "veh_id                   1417.0  265505.0  \n",
       "velocity                  11.97         -  \n",
       "acc                        3.13         -  \n",
       "TTC                           -   4627.24  \n",
       "MTTC                          -     58.02  \n",
       "T2                       176.62   1019.78  \n",
       "TAdv                      821.5    300.88  \n",
       "TimeGap                  4488.0   9800.25  \n",
       "ACT                       23.61     42.16  \n",
       "PSD                           -     81.13  \n",
       "DSS                           -     34.59  \n",
       "MMTC                          -     20.18  \n",
       "PICUD                         -     37.38  \n",
       "MTC                           -     32.17  \n",
       "DRAC                          -       0.0  \n",
       "MDRAC                         -       0.0  \n",
       "DCIA                          -      0.98  \n",
       "unsafety                      -      0.61  "
      ]
     },
     "execution_count": 66,
     "metadata": {},
     "output_type": "execute_result"
    }
   ],
   "source": [
    "total_mean_0"
   ]
  },
  {
   "cell_type": "markdown",
   "id": "dfb09e9b-2a4a-42ea-8799-4c7ca291d4c5",
   "metadata": {},
   "source": [
    "# 히트맵 또는 산점도"
   ]
  },
  {
   "cell_type": "code",
   "execution_count": 67,
   "id": "ad5b8ba9-03f4-4610-aacf-6aaaacf1dbe8",
   "metadata": {
    "execution": {
     "iopub.execute_input": "2023-11-29T06:08:52.995032Z",
     "iopub.status.busy": "2023-11-29T06:08:52.994036Z",
     "iopub.status.idle": "2023-11-29T06:08:53.009023Z",
     "shell.execute_reply": "2023-11-29T06:08:53.009023Z",
     "shell.execute_reply.started": "2023-11-29T06:08:52.995032Z"
    },
    "tags": []
   },
   "outputs": [
    {
     "data": {
      "text/plain": [
       "['DRAC', 'MDRAC', 'DCIA', 'unsafety']"
      ]
     },
     "execution_count": 67,
     "metadata": {},
     "output_type": "execute_result"
    }
   ],
   "source": [
    "SSM_list_3"
   ]
  },
  {
   "cell_type": "code",
   "execution_count": 68,
   "id": "dbf598c9-da63-43b7-b163-474a7df07609",
   "metadata": {
    "execution": {
     "iopub.execute_input": "2023-11-29T06:08:53.010989Z",
     "iopub.status.busy": "2023-11-29T06:08:53.010020Z",
     "iopub.status.idle": "2023-11-29T06:08:53.231444Z",
     "shell.execute_reply": "2023-11-29T06:08:53.230440Z",
     "shell.execute_reply.started": "2023-11-29T06:08:53.010989Z"
    },
    "tags": []
   },
   "outputs": [
    {
     "data": {
      "application/vnd.plotly.v1+json": {
       "config": {
        "plotlyServerURL": "https://plot.ly"
       },
       "data": [
        {
         "colorscale": [
          [
           0,
           "#ffffff"
          ],
          [
           1,
           "#ff0000"
          ]
         ],
         "showlegend": false,
         "textfont": {
          "size": 10
         },
         "texttemplate": "%{z}",
         "type": "heatmap",
         "x": [
          "040",
          "060",
          "080",
          "100",
          "120",
          "140",
          "160",
          "180",
          "200",
          "220",
          "240",
          "lane"
         ],
         "xaxis": "x",
         "y": [
          "U1",
          "U2",
          "U3",
          "U4",
          "U5",
          "U6"
         ],
         "yaxis": "y",
         "z": [
          [
           0,
           0,
           0,
           0,
           0,
           0,
           0,
           0,
           0,
           0,
           null,
           "U1"
          ],
          [
           0,
           0,
           0,
           0,
           0,
           0,
           0,
           0,
           0,
           0,
           null,
           "U2"
          ],
          [
           0,
           0,
           0,
           0,
           0,
           0,
           0,
           0,
           0,
           0.01,
           0.01,
           "U3"
          ],
          [
           0,
           0,
           0,
           0,
           0,
           0,
           0,
           0,
           0,
           0,
           null,
           "U4"
          ],
          [
           0,
           0,
           0,
           0,
           0,
           0,
           0,
           0,
           0,
           null,
           null,
           "U5"
          ],
          [
           0,
           null,
           null,
           null,
           null,
           null,
           null,
           null,
           null,
           null,
           null,
           "U6"
          ]
         ]
        },
        {
         "colorscale": [
          [
           0,
           "#ffffff"
          ],
          [
           1,
           "#ff0000"
          ]
         ],
         "showlegend": false,
         "textfont": {
          "size": 10
         },
         "texttemplate": "%{z}",
         "type": "heatmap",
         "x": [
          "040",
          "060",
          "080",
          "100",
          "120",
          "140",
          "160",
          "180",
          "200",
          "220",
          "240",
          "lane"
         ],
         "xaxis": "x2",
         "y": [
          "U1",
          "U2",
          "U3",
          "U4",
          "U5"
         ],
         "yaxis": "y2",
         "z": [
          [
           0,
           0,
           0,
           0,
           0,
           0,
           0,
           0,
           0,
           0,
           null,
           "U1"
          ],
          [
           0,
           0,
           0,
           0,
           0,
           0,
           0,
           0,
           0,
           0,
           null,
           "U2"
          ],
          [
           0,
           0,
           0,
           0,
           0,
           0,
           0,
           0,
           0,
           0,
           null,
           "U3"
          ],
          [
           0,
           0,
           0,
           0,
           0,
           0,
           0,
           0,
           0,
           0,
           null,
           "U4"
          ],
          [
           0,
           0,
           0,
           0,
           0,
           0,
           0,
           0,
           0,
           null,
           null,
           "U5"
          ]
         ]
        },
        {
         "colorscale": [
          [
           0,
           "#ffffff"
          ],
          [
           1,
           "#ff0000"
          ]
         ],
         "showlegend": false,
         "textfont": {
          "size": 10
         },
         "texttemplate": "%{z}",
         "type": "heatmap",
         "x": [
          "040",
          "060",
          "080",
          "100",
          "120",
          "140",
          "160",
          "180",
          "200",
          "220",
          "240",
          "lane"
         ],
         "xaxis": "x3",
         "y": [
          "U1",
          "U2",
          "U3",
          "U4",
          "U5",
          "U6"
         ],
         "yaxis": "y3",
         "z": [
          [
           null,
           -0.02,
           0,
           0,
           -0.01,
           0.03,
           -0.14,
           -0.08,
           -0.06,
           -0.09,
           null,
           "U1"
          ],
          [
           0.03,
           0.01,
           0.01,
           -0.01,
           -0.05,
           -0.02,
           -0.05,
           -0.06,
           -0.09,
           -0.09,
           null,
           "U2"
          ],
          [
           0.03,
           -0.01,
           0,
           0,
           0,
           -0.01,
           0.01,
           -0.03,
           0.28,
           -0.06,
           -0.09,
           "U3"
          ],
          [
           -0.01,
           0.01,
           0,
           0,
           -0.01,
           0,
           -0.02,
           -0.02,
           0,
           0.42,
           null,
           "U4"
          ],
          [
           0,
           0.01,
           0.01,
           -0.01,
           -0.01,
           0.02,
           -0.01,
           -0.03,
           -0.12,
           null,
           null,
           "U5"
          ],
          [
           0.01,
           null,
           null,
           null,
           null,
           null,
           null,
           null,
           null,
           null,
           null,
           "U6"
          ]
         ]
        },
        {
         "colorscale": [
          [
           0,
           "#ffffff"
          ],
          [
           1,
           "#ff0000"
          ]
         ],
         "showlegend": false,
         "textfont": {
          "size": 10
         },
         "texttemplate": "%{z}",
         "type": "heatmap",
         "x": [
          "040",
          "060",
          "080",
          "100",
          "120",
          "140",
          "160",
          "180",
          "200",
          "220",
          "240",
          "lane"
         ],
         "xaxis": "x4",
         "y": [
          "U1",
          "U2",
          "U3",
          "U4",
          "U5",
          "U6"
         ],
         "yaxis": "y4",
         "z": [
          [
           0,
           -0.01,
           -0.01,
           -0.01,
           0,
           0,
           -0.3,
           -0.01,
           -0.02,
           0,
           null,
           "U1"
          ],
          [
           0,
           -0.01,
           -0.01,
           -0.02,
           -0.01,
           0,
           0,
           -0.01,
           -0.02,
           -0.02,
           null,
           "U2"
          ],
          [
           0,
           0,
           0,
           0,
           0,
           0,
           0,
           -0.01,
           -0.01,
           -0.01,
           -0.05,
           "U3"
          ],
          [
           0,
           0,
           0,
           0,
           -0.01,
           0,
           0,
           -0.01,
           -0.01,
           -0.02,
           null,
           "U4"
          ],
          [
           0.01,
           0,
           0,
           0,
           0,
           0,
           -0.01,
           -0.01,
           0,
           null,
           null,
           "U5"
          ],
          [
           0,
           null,
           null,
           null,
           null,
           null,
           null,
           null,
           null,
           null,
           null,
           "U6"
          ]
         ]
        }
       ],
       "layout": {
        "annotations": [
         {
          "font": {
           "size": 16
          },
          "showarrow": false,
          "text": "DRAC : Rear-end",
          "x": 0.5,
          "xanchor": "center",
          "xref": "paper",
          "y": 1,
          "yanchor": "bottom",
          "yref": "paper"
         },
         {
          "font": {
           "size": 16
          },
          "showarrow": false,
          "text": "MDRAC : Rear-end",
          "x": 0.5,
          "xanchor": "center",
          "xref": "paper",
          "y": 0.71875,
          "yanchor": "bottom",
          "yref": "paper"
         },
         {
          "font": {
           "size": 16
          },
          "showarrow": false,
          "text": "DCIA : Rear-end",
          "x": 0.5,
          "xanchor": "center",
          "xref": "paper",
          "y": 0.4375,
          "yanchor": "bottom",
          "yref": "paper"
         },
         {
          "font": {
           "size": 16
          },
          "showarrow": false,
          "text": "unsafety : Rear-end",
          "x": 0.5,
          "xanchor": "center",
          "xref": "paper",
          "y": 0.15625,
          "yanchor": "bottom",
          "yref": "paper"
         }
        ],
        "height": 1200,
        "showlegend": false,
        "template": {
         "data": {
          "bar": [
           {
            "error_x": {
             "color": "rgb(36,36,36)"
            },
            "error_y": {
             "color": "rgb(36,36,36)"
            },
            "marker": {
             "line": {
              "color": "white",
              "width": 0.5
             },
             "pattern": {
              "fillmode": "overlay",
              "size": 10,
              "solidity": 0.2
             }
            },
            "type": "bar"
           }
          ],
          "barpolar": [
           {
            "marker": {
             "line": {
              "color": "white",
              "width": 0.5
             },
             "pattern": {
              "fillmode": "overlay",
              "size": 10,
              "solidity": 0.2
             }
            },
            "type": "barpolar"
           }
          ],
          "carpet": [
           {
            "aaxis": {
             "endlinecolor": "rgb(36,36,36)",
             "gridcolor": "white",
             "linecolor": "white",
             "minorgridcolor": "white",
             "startlinecolor": "rgb(36,36,36)"
            },
            "baxis": {
             "endlinecolor": "rgb(36,36,36)",
             "gridcolor": "white",
             "linecolor": "white",
             "minorgridcolor": "white",
             "startlinecolor": "rgb(36,36,36)"
            },
            "type": "carpet"
           }
          ],
          "choropleth": [
           {
            "colorbar": {
             "outlinewidth": 1,
             "tickcolor": "rgb(36,36,36)",
             "ticks": "outside"
            },
            "type": "choropleth"
           }
          ],
          "contour": [
           {
            "colorbar": {
             "outlinewidth": 1,
             "tickcolor": "rgb(36,36,36)",
             "ticks": "outside"
            },
            "colorscale": [
             [
              0,
              "#440154"
             ],
             [
              0.1111111111111111,
              "#482878"
             ],
             [
              0.2222222222222222,
              "#3e4989"
             ],
             [
              0.3333333333333333,
              "#31688e"
             ],
             [
              0.4444444444444444,
              "#26828e"
             ],
             [
              0.5555555555555556,
              "#1f9e89"
             ],
             [
              0.6666666666666666,
              "#35b779"
             ],
             [
              0.7777777777777778,
              "#6ece58"
             ],
             [
              0.8888888888888888,
              "#b5de2b"
             ],
             [
              1,
              "#fde725"
             ]
            ],
            "type": "contour"
           }
          ],
          "contourcarpet": [
           {
            "colorbar": {
             "outlinewidth": 1,
             "tickcolor": "rgb(36,36,36)",
             "ticks": "outside"
            },
            "type": "contourcarpet"
           }
          ],
          "heatmap": [
           {
            "colorbar": {
             "outlinewidth": 1,
             "tickcolor": "rgb(36,36,36)",
             "ticks": "outside"
            },
            "colorscale": [
             [
              0,
              "#440154"
             ],
             [
              0.1111111111111111,
              "#482878"
             ],
             [
              0.2222222222222222,
              "#3e4989"
             ],
             [
              0.3333333333333333,
              "#31688e"
             ],
             [
              0.4444444444444444,
              "#26828e"
             ],
             [
              0.5555555555555556,
              "#1f9e89"
             ],
             [
              0.6666666666666666,
              "#35b779"
             ],
             [
              0.7777777777777778,
              "#6ece58"
             ],
             [
              0.8888888888888888,
              "#b5de2b"
             ],
             [
              1,
              "#fde725"
             ]
            ],
            "type": "heatmap"
           }
          ],
          "heatmapgl": [
           {
            "colorbar": {
             "outlinewidth": 1,
             "tickcolor": "rgb(36,36,36)",
             "ticks": "outside"
            },
            "colorscale": [
             [
              0,
              "#440154"
             ],
             [
              0.1111111111111111,
              "#482878"
             ],
             [
              0.2222222222222222,
              "#3e4989"
             ],
             [
              0.3333333333333333,
              "#31688e"
             ],
             [
              0.4444444444444444,
              "#26828e"
             ],
             [
              0.5555555555555556,
              "#1f9e89"
             ],
             [
              0.6666666666666666,
              "#35b779"
             ],
             [
              0.7777777777777778,
              "#6ece58"
             ],
             [
              0.8888888888888888,
              "#b5de2b"
             ],
             [
              1,
              "#fde725"
             ]
            ],
            "type": "heatmapgl"
           }
          ],
          "histogram": [
           {
            "marker": {
             "line": {
              "color": "white",
              "width": 0.6
             }
            },
            "type": "histogram"
           }
          ],
          "histogram2d": [
           {
            "colorbar": {
             "outlinewidth": 1,
             "tickcolor": "rgb(36,36,36)",
             "ticks": "outside"
            },
            "colorscale": [
             [
              0,
              "#440154"
             ],
             [
              0.1111111111111111,
              "#482878"
             ],
             [
              0.2222222222222222,
              "#3e4989"
             ],
             [
              0.3333333333333333,
              "#31688e"
             ],
             [
              0.4444444444444444,
              "#26828e"
             ],
             [
              0.5555555555555556,
              "#1f9e89"
             ],
             [
              0.6666666666666666,
              "#35b779"
             ],
             [
              0.7777777777777778,
              "#6ece58"
             ],
             [
              0.8888888888888888,
              "#b5de2b"
             ],
             [
              1,
              "#fde725"
             ]
            ],
            "type": "histogram2d"
           }
          ],
          "histogram2dcontour": [
           {
            "colorbar": {
             "outlinewidth": 1,
             "tickcolor": "rgb(36,36,36)",
             "ticks": "outside"
            },
            "colorscale": [
             [
              0,
              "#440154"
             ],
             [
              0.1111111111111111,
              "#482878"
             ],
             [
              0.2222222222222222,
              "#3e4989"
             ],
             [
              0.3333333333333333,
              "#31688e"
             ],
             [
              0.4444444444444444,
              "#26828e"
             ],
             [
              0.5555555555555556,
              "#1f9e89"
             ],
             [
              0.6666666666666666,
              "#35b779"
             ],
             [
              0.7777777777777778,
              "#6ece58"
             ],
             [
              0.8888888888888888,
              "#b5de2b"
             ],
             [
              1,
              "#fde725"
             ]
            ],
            "type": "histogram2dcontour"
           }
          ],
          "mesh3d": [
           {
            "colorbar": {
             "outlinewidth": 1,
             "tickcolor": "rgb(36,36,36)",
             "ticks": "outside"
            },
            "type": "mesh3d"
           }
          ],
          "parcoords": [
           {
            "line": {
             "colorbar": {
              "outlinewidth": 1,
              "tickcolor": "rgb(36,36,36)",
              "ticks": "outside"
             }
            },
            "type": "parcoords"
           }
          ],
          "pie": [
           {
            "automargin": true,
            "type": "pie"
           }
          ],
          "scatter": [
           {
            "fillpattern": {
             "fillmode": "overlay",
             "size": 10,
             "solidity": 0.2
            },
            "type": "scatter"
           }
          ],
          "scatter3d": [
           {
            "line": {
             "colorbar": {
              "outlinewidth": 1,
              "tickcolor": "rgb(36,36,36)",
              "ticks": "outside"
             }
            },
            "marker": {
             "colorbar": {
              "outlinewidth": 1,
              "tickcolor": "rgb(36,36,36)",
              "ticks": "outside"
             }
            },
            "type": "scatter3d"
           }
          ],
          "scattercarpet": [
           {
            "marker": {
             "colorbar": {
              "outlinewidth": 1,
              "tickcolor": "rgb(36,36,36)",
              "ticks": "outside"
             }
            },
            "type": "scattercarpet"
           }
          ],
          "scattergeo": [
           {
            "marker": {
             "colorbar": {
              "outlinewidth": 1,
              "tickcolor": "rgb(36,36,36)",
              "ticks": "outside"
             }
            },
            "type": "scattergeo"
           }
          ],
          "scattergl": [
           {
            "marker": {
             "colorbar": {
              "outlinewidth": 1,
              "tickcolor": "rgb(36,36,36)",
              "ticks": "outside"
             }
            },
            "type": "scattergl"
           }
          ],
          "scattermapbox": [
           {
            "marker": {
             "colorbar": {
              "outlinewidth": 1,
              "tickcolor": "rgb(36,36,36)",
              "ticks": "outside"
             }
            },
            "type": "scattermapbox"
           }
          ],
          "scatterpolar": [
           {
            "marker": {
             "colorbar": {
              "outlinewidth": 1,
              "tickcolor": "rgb(36,36,36)",
              "ticks": "outside"
             }
            },
            "type": "scatterpolar"
           }
          ],
          "scatterpolargl": [
           {
            "marker": {
             "colorbar": {
              "outlinewidth": 1,
              "tickcolor": "rgb(36,36,36)",
              "ticks": "outside"
             }
            },
            "type": "scatterpolargl"
           }
          ],
          "scatterternary": [
           {
            "marker": {
             "colorbar": {
              "outlinewidth": 1,
              "tickcolor": "rgb(36,36,36)",
              "ticks": "outside"
             }
            },
            "type": "scatterternary"
           }
          ],
          "surface": [
           {
            "colorbar": {
             "outlinewidth": 1,
             "tickcolor": "rgb(36,36,36)",
             "ticks": "outside"
            },
            "colorscale": [
             [
              0,
              "#440154"
             ],
             [
              0.1111111111111111,
              "#482878"
             ],
             [
              0.2222222222222222,
              "#3e4989"
             ],
             [
              0.3333333333333333,
              "#31688e"
             ],
             [
              0.4444444444444444,
              "#26828e"
             ],
             [
              0.5555555555555556,
              "#1f9e89"
             ],
             [
              0.6666666666666666,
              "#35b779"
             ],
             [
              0.7777777777777778,
              "#6ece58"
             ],
             [
              0.8888888888888888,
              "#b5de2b"
             ],
             [
              1,
              "#fde725"
             ]
            ],
            "type": "surface"
           }
          ],
          "table": [
           {
            "cells": {
             "fill": {
              "color": "rgb(237,237,237)"
             },
             "line": {
              "color": "white"
             }
            },
            "header": {
             "fill": {
              "color": "rgb(217,217,217)"
             },
             "line": {
              "color": "white"
             }
            },
            "type": "table"
           }
          ]
         },
         "layout": {
          "annotationdefaults": {
           "arrowhead": 0,
           "arrowwidth": 1
          },
          "autotypenumbers": "strict",
          "coloraxis": {
           "colorbar": {
            "outlinewidth": 1,
            "tickcolor": "rgb(36,36,36)",
            "ticks": "outside"
           }
          },
          "colorscale": {
           "diverging": [
            [
             0,
             "rgb(103,0,31)"
            ],
            [
             0.1,
             "rgb(178,24,43)"
            ],
            [
             0.2,
             "rgb(214,96,77)"
            ],
            [
             0.3,
             "rgb(244,165,130)"
            ],
            [
             0.4,
             "rgb(253,219,199)"
            ],
            [
             0.5,
             "rgb(247,247,247)"
            ],
            [
             0.6,
             "rgb(209,229,240)"
            ],
            [
             0.7,
             "rgb(146,197,222)"
            ],
            [
             0.8,
             "rgb(67,147,195)"
            ],
            [
             0.9,
             "rgb(33,102,172)"
            ],
            [
             1,
             "rgb(5,48,97)"
            ]
           ],
           "sequential": [
            [
             0,
             "#440154"
            ],
            [
             0.1111111111111111,
             "#482878"
            ],
            [
             0.2222222222222222,
             "#3e4989"
            ],
            [
             0.3333333333333333,
             "#31688e"
            ],
            [
             0.4444444444444444,
             "#26828e"
            ],
            [
             0.5555555555555556,
             "#1f9e89"
            ],
            [
             0.6666666666666666,
             "#35b779"
            ],
            [
             0.7777777777777778,
             "#6ece58"
            ],
            [
             0.8888888888888888,
             "#b5de2b"
            ],
            [
             1,
             "#fde725"
            ]
           ],
           "sequentialminus": [
            [
             0,
             "#440154"
            ],
            [
             0.1111111111111111,
             "#482878"
            ],
            [
             0.2222222222222222,
             "#3e4989"
            ],
            [
             0.3333333333333333,
             "#31688e"
            ],
            [
             0.4444444444444444,
             "#26828e"
            ],
            [
             0.5555555555555556,
             "#1f9e89"
            ],
            [
             0.6666666666666666,
             "#35b779"
            ],
            [
             0.7777777777777778,
             "#6ece58"
            ],
            [
             0.8888888888888888,
             "#b5de2b"
            ],
            [
             1,
             "#fde725"
            ]
           ]
          },
          "colorway": [
           "#1F77B4",
           "#FF7F0E",
           "#2CA02C",
           "#D62728",
           "#9467BD",
           "#8C564B",
           "#E377C2",
           "#7F7F7F",
           "#BCBD22",
           "#17BECF"
          ],
          "font": {
           "color": "rgb(36,36,36)"
          },
          "geo": {
           "bgcolor": "white",
           "lakecolor": "white",
           "landcolor": "white",
           "showlakes": true,
           "showland": true,
           "subunitcolor": "white"
          },
          "hoverlabel": {
           "align": "left"
          },
          "hovermode": "closest",
          "mapbox": {
           "style": "light"
          },
          "paper_bgcolor": "white",
          "plot_bgcolor": "white",
          "polar": {
           "angularaxis": {
            "gridcolor": "rgb(232,232,232)",
            "linecolor": "rgb(36,36,36)",
            "showgrid": false,
            "showline": true,
            "ticks": "outside"
           },
           "bgcolor": "white",
           "radialaxis": {
            "gridcolor": "rgb(232,232,232)",
            "linecolor": "rgb(36,36,36)",
            "showgrid": false,
            "showline": true,
            "ticks": "outside"
           }
          },
          "scene": {
           "xaxis": {
            "backgroundcolor": "white",
            "gridcolor": "rgb(232,232,232)",
            "gridwidth": 2,
            "linecolor": "rgb(36,36,36)",
            "showbackground": true,
            "showgrid": false,
            "showline": true,
            "ticks": "outside",
            "zeroline": false,
            "zerolinecolor": "rgb(36,36,36)"
           },
           "yaxis": {
            "backgroundcolor": "white",
            "gridcolor": "rgb(232,232,232)",
            "gridwidth": 2,
            "linecolor": "rgb(36,36,36)",
            "showbackground": true,
            "showgrid": false,
            "showline": true,
            "ticks": "outside",
            "zeroline": false,
            "zerolinecolor": "rgb(36,36,36)"
           },
           "zaxis": {
            "backgroundcolor": "white",
            "gridcolor": "rgb(232,232,232)",
            "gridwidth": 2,
            "linecolor": "rgb(36,36,36)",
            "showbackground": true,
            "showgrid": false,
            "showline": true,
            "ticks": "outside",
            "zeroline": false,
            "zerolinecolor": "rgb(36,36,36)"
           }
          },
          "shapedefaults": {
           "fillcolor": "black",
           "line": {
            "width": 0
           },
           "opacity": 0.3
          },
          "ternary": {
           "aaxis": {
            "gridcolor": "rgb(232,232,232)",
            "linecolor": "rgb(36,36,36)",
            "showgrid": false,
            "showline": true,
            "ticks": "outside"
           },
           "baxis": {
            "gridcolor": "rgb(232,232,232)",
            "linecolor": "rgb(36,36,36)",
            "showgrid": false,
            "showline": true,
            "ticks": "outside"
           },
           "bgcolor": "white",
           "caxis": {
            "gridcolor": "rgb(232,232,232)",
            "linecolor": "rgb(36,36,36)",
            "showgrid": false,
            "showline": true,
            "ticks": "outside"
           }
          },
          "title": {
           "x": 0.05
          },
          "xaxis": {
           "automargin": true,
           "gridcolor": "rgb(232,232,232)",
           "linecolor": "rgb(36,36,36)",
           "showgrid": false,
           "showline": true,
           "ticks": "outside",
           "title": {
            "standoff": 15
           },
           "zeroline": false,
           "zerolinecolor": "rgb(36,36,36)"
          },
          "yaxis": {
           "automargin": true,
           "gridcolor": "rgb(232,232,232)",
           "linecolor": "rgb(36,36,36)",
           "showgrid": false,
           "showline": true,
           "ticks": "outside",
           "title": {
            "standoff": 15
           },
           "zeroline": false,
           "zerolinecolor": "rgb(36,36,36)"
          }
         }
        },
        "title": {
         "text": "Distance-based SSM"
        },
        "width": 600,
        "xaxis": {
         "anchor": "y",
         "autorange": true,
         "domain": [
          0,
          1
         ],
         "matches": "x",
         "range": [
          -0.5,
          11.5
         ],
         "type": "category"
        },
        "xaxis2": {
         "anchor": "y2",
         "autorange": true,
         "domain": [
          0,
          1
         ],
         "matches": "x",
         "range": [
          -0.5,
          11.5
         ],
         "type": "category"
        },
        "xaxis3": {
         "anchor": "y3",
         "autorange": true,
         "domain": [
          0,
          1
         ],
         "matches": "x",
         "range": [
          -0.5,
          11.5
         ],
         "type": "category"
        },
        "xaxis4": {
         "anchor": "y4",
         "autorange": true,
         "domain": [
          0,
          1
         ],
         "matches": "x",
         "range": [
          -0.5,
          11.5
         ],
         "type": "category"
        },
        "yaxis": {
         "anchor": "x",
         "autorange": true,
         "domain": [
          0.84375,
          1
         ],
         "matches": "y",
         "range": [
          5.5,
          -0.5
         ],
         "type": "category"
        },
        "yaxis2": {
         "anchor": "x2",
         "autorange": true,
         "domain": [
          0.5625,
          0.71875
         ],
         "matches": "y",
         "range": [
          5.5,
          -0.5
         ],
         "type": "category"
        },
        "yaxis3": {
         "anchor": "x3",
         "autorange": true,
         "domain": [
          0.28125,
          0.4375
         ],
         "matches": "y",
         "range": [
          5.5,
          -0.5
         ],
         "type": "category"
        },
        "yaxis4": {
         "anchor": "x4",
         "autorange": true,
         "domain": [
          0,
          0.15625
         ],
         "matches": "y",
         "range": [
          5.5,
          -0.5
         ],
         "type": "category"
        }
       }
      },
      "image/png": "[encoded data removed]",
      "text/html": [
       "<div>                            <div id=\"466430a5-1c69-41d6-995a-d2472a15c3e2\" class=\"plotly-graph-div\" style=\"height:1200px; width:600px;\"></div>            <script type=\"text/javascript\">                require([\"plotly\"], function(Plotly) {                    window.PLOTLYENV=window.PLOTLYENV || {};                                    if (document.getElementById(\"466430a5-1c69-41d6-995a-d2472a15c3e2\")) {                    Plotly.newPlot(                        \"466430a5-1c69-41d6-995a-d2472a15c3e2\",                        [{\"colorscale\":[[0.0,\"#ffffff\"],[1.0,\"#ff0000\"]],\"showlegend\":false,\"textfont\":{\"size\":10},\"texttemplate\":\"%{z}\",\"x\":[\"040\",\"060\",\"080\",\"100\",\"120\",\"140\",\"160\",\"180\",\"200\",\"220\",\"240\",\"lane\"],\"y\":[\"U1\",\"U2\",\"U3\",\"U4\",\"U5\",\"U6\"],\"z\":[[0.0,0.0,0.0,0.0,0.0,0.0,0.0,0.0,0.0,0.0,null,\"U1\"],[0.0,0.0,0.0,0.0,0.0,0.0,0.0,0.0,0.0,0.0,null,\"U2\"],[0.0,0.0,0.0,0.0,0.0,0.0,0.0,0.0,0.0,0.01,0.01,\"U3\"],[0.0,0.0,0.0,0.0,0.0,0.0,0.0,0.0,0.0,0.0,null,\"U4\"],[0.0,0.0,0.0,0.0,0.0,0.0,0.0,0.0,0.0,null,null,\"U5\"],[0.0,null,null,null,null,null,null,null,null,null,null,\"U6\"]],\"type\":\"heatmap\",\"xaxis\":\"x\",\"yaxis\":\"y\"},{\"colorscale\":[[0.0,\"#ffffff\"],[1.0,\"#ff0000\"]],\"showlegend\":false,\"textfont\":{\"size\":10},\"texttemplate\":\"%{z}\",\"x\":[\"040\",\"060\",\"080\",\"100\",\"120\",\"140\",\"160\",\"180\",\"200\",\"220\",\"240\",\"lane\"],\"y\":[\"U1\",\"U2\",\"U3\",\"U4\",\"U5\"],\"z\":[[0.0,0.0,0.0,0.0,0.0,0.0,0.0,0.0,0.0,0.0,null,\"U1\"],[0.0,0.0,0.0,0.0,0.0,0.0,0.0,0.0,0.0,0.0,null,\"U2\"],[0.0,0.0,0.0,0.0,0.0,0.0,0.0,0.0,0.0,0.0,null,\"U3\"],[0.0,0.0,0.0,0.0,0.0,0.0,0.0,0.0,0.0,0.0,null,\"U4\"],[0.0,0.0,0.0,0.0,0.0,0.0,0.0,0.0,0.0,null,null,\"U5\"]],\"type\":\"heatmap\",\"xaxis\":\"x2\",\"yaxis\":\"y2\"},{\"colorscale\":[[0.0,\"#ffffff\"],[1.0,\"#ff0000\"]],\"showlegend\":false,\"textfont\":{\"size\":10},\"texttemplate\":\"%{z}\",\"x\":[\"040\",\"060\",\"080\",\"100\",\"120\",\"140\",\"160\",\"180\",\"200\",\"220\",\"240\",\"lane\"],\"y\":[\"U1\",\"U2\",\"U3\",\"U4\",\"U5\",\"U6\"],\"z\":[[null,-0.02,0.0,0.0,-0.01,0.03,-0.14,-0.08,-0.06,-0.09,null,\"U1\"],[0.03,0.01,0.01,-0.01,-0.05,-0.02,-0.05,-0.06,-0.09,-0.09,null,\"U2\"],[0.03,-0.01,0.0,0.0,0.0,-0.01,0.01,-0.03,0.28,-0.06,-0.09,\"U3\"],[-0.01,0.01,-0.0,0.0,-0.01,0.0,-0.02,-0.02,-0.0,0.42,null,\"U4\"],[0.0,0.01,0.01,-0.01,-0.01,0.02,-0.01,-0.03,-0.12,null,null,\"U5\"],[0.01,null,null,null,null,null,null,null,null,null,null,\"U6\"]],\"type\":\"heatmap\",\"xaxis\":\"x3\",\"yaxis\":\"y3\"},{\"colorscale\":[[0.0,\"#ffffff\"],[1.0,\"#ff0000\"]],\"showlegend\":false,\"textfont\":{\"size\":10},\"texttemplate\":\"%{z}\",\"x\":[\"040\",\"060\",\"080\",\"100\",\"120\",\"140\",\"160\",\"180\",\"200\",\"220\",\"240\",\"lane\"],\"y\":[\"U1\",\"U2\",\"U3\",\"U4\",\"U5\",\"U6\"],\"z\":[[-0.0,-0.01,-0.01,-0.01,-0.0,-0.0,-0.3,-0.01,-0.02,-0.0,null,\"U1\"],[0.0,-0.01,-0.01,-0.02,-0.01,0.0,-0.0,-0.01,-0.02,-0.02,null,\"U2\"],[0.0,-0.0,-0.0,0.0,0.0,0.0,-0.0,-0.01,-0.01,-0.01,-0.05,\"U3\"],[0.0,-0.0,0.0,0.0,-0.01,-0.0,-0.0,-0.01,-0.01,-0.02,null,\"U4\"],[0.01,0.0,0.0,0.0,0.0,0.0,-0.01,-0.01,-0.0,null,null,\"U5\"],[0.0,null,null,null,null,null,null,null,null,null,null,\"U6\"]],\"type\":\"heatmap\",\"xaxis\":\"x4\",\"yaxis\":\"y4\"}],                        {\"template\":{\"data\":{\"barpolar\":[{\"marker\":{\"line\":{\"color\":\"white\",\"width\":0.5},\"pattern\":{\"fillmode\":\"overlay\",\"size\":10,\"solidity\":0.2}},\"type\":\"barpolar\"}],\"bar\":[{\"error_x\":{\"color\":\"rgb(36,36,36)\"},\"error_y\":{\"color\":\"rgb(36,36,36)\"},\"marker\":{\"line\":{\"color\":\"white\",\"width\":0.5},\"pattern\":{\"fillmode\":\"overlay\",\"size\":10,\"solidity\":0.2}},\"type\":\"bar\"}],\"carpet\":[{\"aaxis\":{\"endlinecolor\":\"rgb(36,36,36)\",\"gridcolor\":\"white\",\"linecolor\":\"white\",\"minorgridcolor\":\"white\",\"startlinecolor\":\"rgb(36,36,36)\"},\"baxis\":{\"endlinecolor\":\"rgb(36,36,36)\",\"gridcolor\":\"white\",\"linecolor\":\"white\",\"minorgridcolor\":\"white\",\"startlinecolor\":\"rgb(36,36,36)\"},\"type\":\"carpet\"}],\"choropleth\":[{\"colorbar\":{\"outlinewidth\":1,\"tickcolor\":\"rgb(36,36,36)\",\"ticks\":\"outside\"},\"type\":\"choropleth\"}],\"contourcarpet\":[{\"colorbar\":{\"outlinewidth\":1,\"tickcolor\":\"rgb(36,36,36)\",\"ticks\":\"outside\"},\"type\":\"contourcarpet\"}],\"contour\":[{\"colorbar\":{\"outlinewidth\":1,\"tickcolor\":\"rgb(36,36,36)\",\"ticks\":\"outside\"},\"colorscale\":[[0.0,\"#440154\"],[0.1111111111111111,\"#482878\"],[0.2222222222222222,\"#3e4989\"],[0.3333333333333333,\"#31688e\"],[0.4444444444444444,\"#26828e\"],[0.5555555555555556,\"#1f9e89\"],[0.6666666666666666,\"#35b779\"],[0.7777777777777778,\"#6ece58\"],[0.8888888888888888,\"#b5de2b\"],[1.0,\"#fde725\"]],\"type\":\"contour\"}],\"heatmapgl\":[{\"colorbar\":{\"outlinewidth\":1,\"tickcolor\":\"rgb(36,36,36)\",\"ticks\":\"outside\"},\"colorscale\":[[0.0,\"#440154\"],[0.1111111111111111,\"#482878\"],[0.2222222222222222,\"#3e4989\"],[0.3333333333333333,\"#31688e\"],[0.4444444444444444,\"#26828e\"],[0.5555555555555556,\"#1f9e89\"],[0.6666666666666666,\"#35b779\"],[0.7777777777777778,\"#6ece58\"],[0.8888888888888888,\"#b5de2b\"],[1.0,\"#fde725\"]],\"type\":\"heatmapgl\"}],\"heatmap\":[{\"colorbar\":{\"outlinewidth\":1,\"tickcolor\":\"rgb(36,36,36)\",\"ticks\":\"outside\"},\"colorscale\":[[0.0,\"#440154\"],[0.1111111111111111,\"#482878\"],[0.2222222222222222,\"#3e4989\"],[0.3333333333333333,\"#31688e\"],[0.4444444444444444,\"#26828e\"],[0.5555555555555556,\"#1f9e89\"],[0.6666666666666666,\"#35b779\"],[0.7777777777777778,\"#6ece58\"],[0.8888888888888888,\"#b5de2b\"],[1.0,\"#fde725\"]],\"type\":\"heatmap\"}],\"histogram2dcontour\":[{\"colorbar\":{\"outlinewidth\":1,\"tickcolor\":\"rgb(36,36,36)\",\"ticks\":\"outside\"},\"colorscale\":[[0.0,\"#440154\"],[0.1111111111111111,\"#482878\"],[0.2222222222222222,\"#3e4989\"],[0.3333333333333333,\"#31688e\"],[0.4444444444444444,\"#26828e\"],[0.5555555555555556,\"#1f9e89\"],[0.6666666666666666,\"#35b779\"],[0.7777777777777778,\"#6ece58\"],[0.8888888888888888,\"#b5de2b\"],[1.0,\"#fde725\"]],\"type\":\"histogram2dcontour\"}],\"histogram2d\":[{\"colorbar\":{\"outlinewidth\":1,\"tickcolor\":\"rgb(36,36,36)\",\"ticks\":\"outside\"},\"colorscale\":[[0.0,\"#440154\"],[0.1111111111111111,\"#482878\"],[0.2222222222222222,\"#3e4989\"],[0.3333333333333333,\"#31688e\"],[0.4444444444444444,\"#26828e\"],[0.5555555555555556,\"#1f9e89\"],[0.6666666666666666,\"#35b779\"],[0.7777777777777778,\"#6ece58\"],[0.8888888888888888,\"#b5de2b\"],[1.0,\"#fde725\"]],\"type\":\"histogram2d\"}],\"histogram\":[{\"marker\":{\"line\":{\"color\":\"white\",\"width\":0.6}},\"type\":\"histogram\"}],\"mesh3d\":[{\"colorbar\":{\"outlinewidth\":1,\"tickcolor\":\"rgb(36,36,36)\",\"ticks\":\"outside\"},\"type\":\"mesh3d\"}],\"parcoords\":[{\"line\":{\"colorbar\":{\"outlinewidth\":1,\"tickcolor\":\"rgb(36,36,36)\",\"ticks\":\"outside\"}},\"type\":\"parcoords\"}],\"pie\":[{\"automargin\":true,\"type\":\"pie\"}],\"scatter3d\":[{\"line\":{\"colorbar\":{\"outlinewidth\":1,\"tickcolor\":\"rgb(36,36,36)\",\"ticks\":\"outside\"}},\"marker\":{\"colorbar\":{\"outlinewidth\":1,\"tickcolor\":\"rgb(36,36,36)\",\"ticks\":\"outside\"}},\"type\":\"scatter3d\"}],\"scattercarpet\":[{\"marker\":{\"colorbar\":{\"outlinewidth\":1,\"tickcolor\":\"rgb(36,36,36)\",\"ticks\":\"outside\"}},\"type\":\"scattercarpet\"}],\"scattergeo\":[{\"marker\":{\"colorbar\":{\"outlinewidth\":1,\"tickcolor\":\"rgb(36,36,36)\",\"ticks\":\"outside\"}},\"type\":\"scattergeo\"}],\"scattergl\":[{\"marker\":{\"colorbar\":{\"outlinewidth\":1,\"tickcolor\":\"rgb(36,36,36)\",\"ticks\":\"outside\"}},\"type\":\"scattergl\"}],\"scattermapbox\":[{\"marker\":{\"colorbar\":{\"outlinewidth\":1,\"tickcolor\":\"rgb(36,36,36)\",\"ticks\":\"outside\"}},\"type\":\"scattermapbox\"}],\"scatterpolargl\":[{\"marker\":{\"colorbar\":{\"outlinewidth\":1,\"tickcolor\":\"rgb(36,36,36)\",\"ticks\":\"outside\"}},\"type\":\"scatterpolargl\"}],\"scatterpolar\":[{\"marker\":{\"colorbar\":{\"outlinewidth\":1,\"tickcolor\":\"rgb(36,36,36)\",\"ticks\":\"outside\"}},\"type\":\"scatterpolar\"}],\"scatter\":[{\"fillpattern\":{\"fillmode\":\"overlay\",\"size\":10,\"solidity\":0.2},\"type\":\"scatter\"}],\"scatterternary\":[{\"marker\":{\"colorbar\":{\"outlinewidth\":1,\"tickcolor\":\"rgb(36,36,36)\",\"ticks\":\"outside\"}},\"type\":\"scatterternary\"}],\"surface\":[{\"colorbar\":{\"outlinewidth\":1,\"tickcolor\":\"rgb(36,36,36)\",\"ticks\":\"outside\"},\"colorscale\":[[0.0,\"#440154\"],[0.1111111111111111,\"#482878\"],[0.2222222222222222,\"#3e4989\"],[0.3333333333333333,\"#31688e\"],[0.4444444444444444,\"#26828e\"],[0.5555555555555556,\"#1f9e89\"],[0.6666666666666666,\"#35b779\"],[0.7777777777777778,\"#6ece58\"],[0.8888888888888888,\"#b5de2b\"],[1.0,\"#fde725\"]],\"type\":\"surface\"}],\"table\":[{\"cells\":{\"fill\":{\"color\":\"rgb(237,237,237)\"},\"line\":{\"color\":\"white\"}},\"header\":{\"fill\":{\"color\":\"rgb(217,217,217)\"},\"line\":{\"color\":\"white\"}},\"type\":\"table\"}]},\"layout\":{\"annotationdefaults\":{\"arrowhead\":0,\"arrowwidth\":1},\"autotypenumbers\":\"strict\",\"coloraxis\":{\"colorbar\":{\"outlinewidth\":1,\"tickcolor\":\"rgb(36,36,36)\",\"ticks\":\"outside\"}},\"colorscale\":{\"diverging\":[[0.0,\"rgb(103,0,31)\"],[0.1,\"rgb(178,24,43)\"],[0.2,\"rgb(214,96,77)\"],[0.3,\"rgb(244,165,130)\"],[0.4,\"rgb(253,219,199)\"],[0.5,\"rgb(247,247,247)\"],[0.6,\"rgb(209,229,240)\"],[0.7,\"rgb(146,197,222)\"],[0.8,\"rgb(67,147,195)\"],[0.9,\"rgb(33,102,172)\"],[1.0,\"rgb(5,48,97)\"]],\"sequential\":[[0.0,\"#440154\"],[0.1111111111111111,\"#482878\"],[0.2222222222222222,\"#3e4989\"],[0.3333333333333333,\"#31688e\"],[0.4444444444444444,\"#26828e\"],[0.5555555555555556,\"#1f9e89\"],[0.6666666666666666,\"#35b779\"],[0.7777777777777778,\"#6ece58\"],[0.8888888888888888,\"#b5de2b\"],[1.0,\"#fde725\"]],\"sequentialminus\":[[0.0,\"#440154\"],[0.1111111111111111,\"#482878\"],[0.2222222222222222,\"#3e4989\"],[0.3333333333333333,\"#31688e\"],[0.4444444444444444,\"#26828e\"],[0.5555555555555556,\"#1f9e89\"],[0.6666666666666666,\"#35b779\"],[0.7777777777777778,\"#6ece58\"],[0.8888888888888888,\"#b5de2b\"],[1.0,\"#fde725\"]]},\"colorway\":[\"#1F77B4\",\"#FF7F0E\",\"#2CA02C\",\"#D62728\",\"#9467BD\",\"#8C564B\",\"#E377C2\",\"#7F7F7F\",\"#BCBD22\",\"#17BECF\"],\"font\":{\"color\":\"rgb(36,36,36)\"},\"geo\":{\"bgcolor\":\"white\",\"lakecolor\":\"white\",\"landcolor\":\"white\",\"showlakes\":true,\"showland\":true,\"subunitcolor\":\"white\"},\"hoverlabel\":{\"align\":\"left\"},\"hovermode\":\"closest\",\"mapbox\":{\"style\":\"light\"},\"paper_bgcolor\":\"white\",\"plot_bgcolor\":\"white\",\"polar\":{\"angularaxis\":{\"gridcolor\":\"rgb(232,232,232)\",\"linecolor\":\"rgb(36,36,36)\",\"showgrid\":false,\"showline\":true,\"ticks\":\"outside\"},\"bgcolor\":\"white\",\"radialaxis\":{\"gridcolor\":\"rgb(232,232,232)\",\"linecolor\":\"rgb(36,36,36)\",\"showgrid\":false,\"showline\":true,\"ticks\":\"outside\"}},\"scene\":{\"xaxis\":{\"backgroundcolor\":\"white\",\"gridcolor\":\"rgb(232,232,232)\",\"gridwidth\":2,\"linecolor\":\"rgb(36,36,36)\",\"showbackground\":true,\"showgrid\":false,\"showline\":true,\"ticks\":\"outside\",\"zeroline\":false,\"zerolinecolor\":\"rgb(36,36,36)\"},\"yaxis\":{\"backgroundcolor\":\"white\",\"gridcolor\":\"rgb(232,232,232)\",\"gridwidth\":2,\"linecolor\":\"rgb(36,36,36)\",\"showbackground\":true,\"showgrid\":false,\"showline\":true,\"ticks\":\"outside\",\"zeroline\":false,\"zerolinecolor\":\"rgb(36,36,36)\"},\"zaxis\":{\"backgroundcolor\":\"white\",\"gridcolor\":\"rgb(232,232,232)\",\"gridwidth\":2,\"linecolor\":\"rgb(36,36,36)\",\"showbackground\":true,\"showgrid\":false,\"showline\":true,\"ticks\":\"outside\",\"zeroline\":false,\"zerolinecolor\":\"rgb(36,36,36)\"}},\"shapedefaults\":{\"fillcolor\":\"black\",\"line\":{\"width\":0},\"opacity\":0.3},\"ternary\":{\"aaxis\":{\"gridcolor\":\"rgb(232,232,232)\",\"linecolor\":\"rgb(36,36,36)\",\"showgrid\":false,\"showline\":true,\"ticks\":\"outside\"},\"baxis\":{\"gridcolor\":\"rgb(232,232,232)\",\"linecolor\":\"rgb(36,36,36)\",\"showgrid\":false,\"showline\":true,\"ticks\":\"outside\"},\"bgcolor\":\"white\",\"caxis\":{\"gridcolor\":\"rgb(232,232,232)\",\"linecolor\":\"rgb(36,36,36)\",\"showgrid\":false,\"showline\":true,\"ticks\":\"outside\"}},\"title\":{\"x\":0.05},\"xaxis\":{\"automargin\":true,\"gridcolor\":\"rgb(232,232,232)\",\"linecolor\":\"rgb(36,36,36)\",\"showgrid\":false,\"showline\":true,\"ticks\":\"outside\",\"title\":{\"standoff\":15},\"zeroline\":false,\"zerolinecolor\":\"rgb(36,36,36)\"},\"yaxis\":{\"automargin\":true,\"gridcolor\":\"rgb(232,232,232)\",\"linecolor\":\"rgb(36,36,36)\",\"showgrid\":false,\"showline\":true,\"ticks\":\"outside\",\"title\":{\"standoff\":15},\"zeroline\":false,\"zerolinecolor\":\"rgb(36,36,36)\"}}},\"xaxis\":{\"anchor\":\"y\",\"domain\":[0.0,1.0],\"matches\":\"x\"},\"yaxis\":{\"anchor\":\"x\",\"domain\":[0.84375,1.0],\"matches\":\"y\",\"autorange\":\"reversed\"},\"xaxis2\":{\"anchor\":\"y2\",\"domain\":[0.0,1.0],\"matches\":\"x\"},\"yaxis2\":{\"anchor\":\"x2\",\"domain\":[0.5625,0.71875],\"matches\":\"y\"},\"xaxis3\":{\"anchor\":\"y3\",\"domain\":[0.0,1.0],\"matches\":\"x\"},\"yaxis3\":{\"anchor\":\"x3\",\"domain\":[0.28125,0.4375],\"matches\":\"y\"},\"xaxis4\":{\"anchor\":\"y4\",\"domain\":[0.0,1.0],\"matches\":\"x\"},\"yaxis4\":{\"anchor\":\"x4\",\"domain\":[0.0,0.15625],\"matches\":\"y\"},\"annotations\":[{\"font\":{\"size\":16},\"showarrow\":false,\"text\":\"DRAC : Rear-end\",\"x\":0.5,\"xanchor\":\"center\",\"xref\":\"paper\",\"y\":1.0,\"yanchor\":\"bottom\",\"yref\":\"paper\"},{\"font\":{\"size\":16},\"showarrow\":false,\"text\":\"MDRAC : Rear-end\",\"x\":0.5,\"xanchor\":\"center\",\"xref\":\"paper\",\"y\":0.71875,\"yanchor\":\"bottom\",\"yref\":\"paper\"},{\"font\":{\"size\":16},\"showarrow\":false,\"text\":\"DCIA : Rear-end\",\"x\":0.5,\"xanchor\":\"center\",\"xref\":\"paper\",\"y\":0.4375,\"yanchor\":\"bottom\",\"yref\":\"paper\"},{\"font\":{\"size\":16},\"showarrow\":false,\"text\":\"unsafety : Rear-end\",\"x\":0.5,\"xanchor\":\"center\",\"xref\":\"paper\",\"y\":0.15625,\"yanchor\":\"bottom\",\"yref\":\"paper\"}],\"title\":{\"text\":\"Distance-based SSM\"},\"height\":1200,\"width\":600,\"showlegend\":false},                        {\"responsive\": true}                    ).then(function(){\n",
       "                            \n",
       "var gd = document.getElementById('466430a5-1c69-41d6-995a-d2472a15c3e2');\n",
       "var x = new MutationObserver(function (mutations, observer) {{\n",
       "        var display = window.getComputedStyle(gd).display;\n",
       "        if (!display || display === 'none') {{\n",
       "            console.log([gd, 'removed!']);\n",
       "            Plotly.purge(gd);\n",
       "            observer.disconnect();\n",
       "        }}\n",
       "}});\n",
       "\n",
       "// Listen for the removal of the full notebook cells\n",
       "var notebookContainer = gd.closest('#notebook-container');\n",
       "if (notebookContainer) {{\n",
       "    x.observe(notebookContainer, {childList: true});\n",
       "}}\n",
       "\n",
       "// Listen for the clearing of the current output cell\n",
       "var outputEl = gd.closest('.output');\n",
       "if (outputEl) {{\n",
       "    x.observe(outputEl, {childList: true});\n",
       "}}\n",
       "\n",
       "                        })                };                });            </script>        </div>"
      ]
     },
     "metadata": {},
     "output_type": "display_data"
    }
   ],
   "source": [
    "sub_titles = []\n",
    "\n",
    "for SSM in ['DRAC', 'MDRAC', 'DCIA', 'unsafety']:\n",
    "    for conflict_type in ['Rear-end']:\n",
    "        sub_titles.append(f'{SSM} : {conflict_type}')\n",
    "\n",
    "fig = make_subplots(rows = 4, cols = 1, \n",
    "                    subplot_titles = sub_titles)\n",
    "\n",
    "for conflict_type, j in zip(['rear_end'], [1]): # 각 행별로\n",
    "\n",
    "    for SSM, i in zip(['DRAC', 'MDRAC', 'DCIA', 'unsafety'], [1, 2, 3, 4]):\n",
    "        \n",
    "        sec = df[df['potential_conflict_type'] == conflict_type]\n",
    "        sec = df.dropna(subset = SSM)\n",
    "        \n",
    "        if len(sec) > 0:\n",
    "\n",
    "            pv_veh = pd.pivot_table(sec,\n",
    "                       index = 'lane',\n",
    "                        columns = 'cell',\n",
    "                        values = [SSM],\n",
    "                        aggfunc = {SSM : 'mean'})\n",
    "\n",
    "            pv_veh = pv_veh[SSM]\n",
    "\n",
    "            for cell in cell_list:\n",
    "                if cell not in pv_veh.columns:\n",
    "                    pv_veh[cell] = np.NaN # 만약 셀이 없으면 추가해야 한다.\n",
    "\n",
    "                else:\n",
    "                    pass\n",
    "\n",
    "            pv_veh.reset_index(inplace = True)\n",
    "            # 컬럼을 셀 번호 이름대로 정렬해준다. 이때 절때 Heatmap의 Categoryascending을 해 주면 안된다는 것이다.\n",
    "            pv_veh2 = pv_veh[cell_list + ['lane']]\n",
    "\n",
    "            ax = go.Heatmap(df_to_plotly(pv_veh2.round(2)),\n",
    "                            colorscale = palette_TIT,\n",
    "                            texttemplate = '%{z}',\n",
    "                            textfont = {'size' : 10},\n",
    "                            showlegend = False,\n",
    "                            #zmin = 0, zmax = 5\n",
    "                            )\n",
    "\n",
    "            fig.add_trace(ax, i, j) # i행 j열에 추가\n",
    "\n",
    "        else:\n",
    "            pass\n",
    "        \n",
    "fig.update_xaxes(matches = 'x')\n",
    "fig.update_yaxes(matches = 'y')\n",
    "\n",
    "fig.update_layout(yaxis = dict(autorange = 'reversed'), \n",
    "          height = 1200, width = 600,\n",
    "          template = 'simple_white',\n",
    "                 title_text = 'Distance-based SSM')\n",
    "\n",
    "fig.update(layout_showlegend = False)\n",
    "\n",
    "fig.show()"
   ]
  },
  {
   "cell_type": "markdown",
   "id": "275d3a43-a135-41ba-87bc-730a8dd36b86",
   "metadata": {
    "tags": []
   },
   "source": [
    "# 바이올린"
   ]
  },
  {
   "cell_type": "code",
   "execution_count": 69,
   "id": "1e3d9fb6-d8fe-411a-a1c4-2c690f40df99",
   "metadata": {
    "execution": {
     "iopub.execute_input": "2023-11-29T06:08:53.232403Z",
     "iopub.status.busy": "2023-11-29T06:08:53.232403Z",
     "iopub.status.idle": "2023-11-29T06:08:58.992606Z",
     "shell.execute_reply": "2023-11-29T06:08:58.991637Z",
     "shell.execute_reply.started": "2023-11-29T06:08:53.232403Z"
    },
    "tags": []
   },
   "outputs": [
    {
     "name": "stderr",
     "output_type": "stream",
     "text": [
      "6it [00:00,  9.71it/s]\n"
     ]
    },
    {
     "data": {
      "image/png": "[encoded data removed]",
      "text/plain": [
       "<Figure size 2400x300 with 6 Axes>"
      ]
     },
     "metadata": {},
     "output_type": "display_data"
    },
    {
     "name": "stderr",
     "output_type": "stream",
     "text": [
      "5it [00:00,  9.22it/s]\n"
     ]
    },
    {
     "data": {
      "image/png": "[encoded data removed]",
      "text/plain": [
       "<Figure size 2400x300 with 5 Axes>"
      ]
     },
     "metadata": {},
     "output_type": "display_data"
    },
    {
     "name": "stderr",
     "output_type": "stream",
     "text": [
      "4it [00:00,  8.95it/s]\n"
     ]
    },
    {
     "data": {
      "image/png": "[encoded data removed]",
      "text/plain": [
       "<Figure size 2400x300 with 4 Axes>"
      ]
     },
     "metadata": {},
     "output_type": "display_data"
    }
   ],
   "source": [
    "title_list = ['Time-based SSM', 'Distance-based SSM', 'Deceleration-based SSM']\n",
    "\n",
    "for target_SSM_list, title in zip([SSM_list_1, SSM_list_2, SSM_list_3], title_list):\n",
    "    \n",
    "    target_len = 6#len(target_SSM_list)\n",
    "    \n",
    "    fig = plt.figure(figsize = (4 * target_len, 3))\n",
    "\n",
    "    for SSM, i in tqdm(zip(target_SSM_list, range(target_len))):\n",
    "\n",
    "        fig.add_subplot(1, target_len+1, i+1)\n",
    "        \n",
    "        # 임계값 불러오기\n",
    "        tdx = np.where(threshold_list == SSM)[0][0]\n",
    "        threshold = threshold_list[tdx][1]\n",
    "\n",
    "        if SSM == 'ACT':\n",
    "            upper_bound = 50\n",
    "            lower_bound = 0\n",
    "            \n",
    "            tdf = df_0[(df_0[SSM] >= lower_bound) & (df_0[SSM] <= upper_bound)].dropna(subset = SSM).copy()\n",
    "        \n",
    "        elif SSM in SSM_list_1:\n",
    "            #tdf = df_0[(df_0[SSM] <= 30) & (df_0[SSM] >= 0)].dropna(subset = SSM).copy()\n",
    "            upper_bound = 100\n",
    "            lower_bound = 0\n",
    "            \n",
    "            tdf = df_0[(df_0[SSM] >= lower_bound) & (df_0[SSM] <= upper_bound)].dropna(subset = SSM).copy()\n",
    "\n",
    "        else:\n",
    "            upper_bound = df_0[SSM].mean() + df_0[SSM].std() * 3\n",
    "            lower_bound = df_0[SSM].mean() - df_0[SSM].std() * 3\n",
    "            \n",
    "            tdf = df_0[(df_0[SSM] >= lower_bound) & (df_0[SSM] <= upper_bound)].dropna(subset = SSM).copy()\n",
    "\n",
    "\n",
    "        tdf['potential_conflict_type'] = tdf['potential_conflict_type'].map({'rear_end': 'Rear-end', 'side_swipe' : 'Side-swipe'})\n",
    "        tdf['Behavior'] = tdf['LC_CF'].map({'CF': 'Car-following', 'LC' : 'Lane change'})\n",
    "\n",
    "\n",
    "        if SSM in SSM_list_1:\n",
    "            \n",
    "            sec = pd.DataFrame({'potential_conflict_type' : ['Rear-end', 'Side-swipe']})\n",
    "            tdf = pd.concat([tdf, sec])\n",
    "            tdf = tdf.sort_values(by = 'LC_CF', ascending = False)\n",
    "\n",
    "            ax = sns.violinplot(\n",
    "                data = tdf,\n",
    "                x = 'potential_conflict_type', y = SSM,\n",
    "                hue = 'Behavior',\n",
    "                bw = 0.2,\n",
    "                linewidth = 0.9,\n",
    "                scale = 'width',\n",
    "                split = True,\n",
    "                palette = \"Pastel1\",\n",
    "                cut = 0, inner = 'quart',\n",
    "                order = ['Rear-end', 'Side-swipe']\n",
    "            )\n",
    "            \n",
    "            # 플롯에 텍스트 달기\n",
    "            \n",
    "            for l in ax.lines:\n",
    "                ax.text(l.get_data()[0][l.get_data()[0].nonzero()][0], l.get_data()[1][0], f'{l.get_data()[1][0]:.2f}')\n",
    "\n",
    "\n",
    "        elif SSM in SSM_list_2:\n",
    "            # ax = sns.histplot(\n",
    "            #     data = tdf,\n",
    "            #     y = SSM,\n",
    "            #     hue = 'Behavior', \n",
    "            #     #stat = 'density',\n",
    "            #     kde = True, bins = 50,\n",
    "            #     linewidth = 0.5, edgecolor = 'white',\n",
    "            #     palette = \"Pastel1\",\n",
    "            #     line_kws = {'linewidth' : 1.5}\n",
    "            # )\n",
    "            \n",
    "            sec = pd.DataFrame({'potential_conflict_type' : ['Rear-end', 'Side-swipe']})\n",
    "            tdf = pd.concat([tdf, sec])\n",
    "            \n",
    "            tdf = tdf.sort_values(by = 'LC_CF', ascending = False)\n",
    "            \n",
    "            ax = sns.violinplot(\n",
    "                data = tdf,\n",
    "                x = 'potential_conflict_type', y = SSM,\n",
    "                hue = 'Behavior',\n",
    "                bw = 0.2,\n",
    "                linewidth = 0.9,\n",
    "                scale = 'width',\n",
    "                split = True,\n",
    "                palette = \"Pastel1\",\n",
    "                inner = 'quart',\n",
    "                order = ['Rear-end', 'Side-swipe']\n",
    "            )\n",
    "            # 플롯에 텍스트 달기\n",
    "            \n",
    "            for l in ax.lines:\n",
    "                ax.text(l.get_data()[0][l.get_data()[0].nonzero()][0], l.get_data()[1][0], f'{l.get_data()[1][0]:.2f}')\n",
    "            \n",
    "            \n",
    "        else:\n",
    "            temp_dict = {'DRAC' : [0, 10], 'MDRAC' : [0, 5], 'DCIA' : [-10, 10], 'unsafety' : [-10, 10]}\n",
    "            \n",
    "            tdf = tdf[(tdf[SSM] >= temp_dict[SSM][0]) & (tdf[SSM] <= temp_dict[SSM][1])]\n",
    "            \n",
    "            sec = pd.DataFrame({'potential_conflict_type' : ['Rear-end', 'Side-swipe']})\n",
    "            tdf = pd.concat([tdf, sec])\n",
    "            tdf = tdf.sort_values(by = 'LC_CF', ascending = False)\n",
    "            \n",
    "            # ax = sns.histplot(\n",
    "            #     data = tdf,\n",
    "            #     y = SSM,\n",
    "            #     hue = 'Behavior', \n",
    "            #     #stat = 'density',\n",
    "            #     kde = True, bins = 50,\n",
    "            #     linewidth = 0.5, edgecolor = 'white',\n",
    "            #     palette = \"Pastel1\",\n",
    "            #     line_kws = {'linewidth' : 1.5})\n",
    "            ax = sns.violinplot(\n",
    "                data = tdf,\n",
    "                x = 'potential_conflict_type', y = SSM,\n",
    "                hue = 'Behavior',\n",
    "                bw = 0.2,\n",
    "                linewidth = 0.9,\n",
    "                scale = 'width',\n",
    "                split = True,\n",
    "                palette = \"Pastel1\",\n",
    "                inner = 'quart',\n",
    "                order = ['Rear-end', 'Side-swipe']\n",
    "            )\n",
    "            \n",
    "            # 플롯에 텍스트 달기\n",
    "            \n",
    "            for l in ax.lines:\n",
    "                ax.text(l.get_data()[0][l.get_data()[0].nonzero()][0], l.get_data()[1][0], f'{l.get_data()[1][0]:.2f}')\n",
    "                \n",
    "            #ax.set_ylim([temp_dict[SSM][0], temp_dict[SSM][1]])\n",
    "\n",
    "        # 임계값을 설정해 주기\n",
    "        #plt.axhline(y = threshold, color = 'black', linestyle = '--', linewidth = 0.5, label = f'Threshold {threshold}')\n",
    "\n",
    "        #ax.legend_.remove()\n",
    "\n",
    "        # Add title and labels\n",
    "        plt.title(f'{SSM}')\n",
    "\n",
    "        if SSM in SSM_list_1:\n",
    "            #plt.yticks(np.arange(0, 11))\n",
    "            plt.xlabel('Conflict type')\n",
    "            plt.ylabel(f'{SSM}')\n",
    "            plt.legend(fontsize = 9)\n",
    "            \n",
    "        else:\n",
    "            #ax.set_yscale('log')\n",
    "            #plt.yscale('symlog')\n",
    "            plt.xlabel('Conflict type')\n",
    "            plt.ylabel(f'{SSM}')\n",
    "            plt.legend(fontsize = 9, loc = 'upper right')\n",
    "\n",
    "\n",
    "    fig.tight_layout()\n",
    "\n",
    "    ## ----------------------------------------------------------------------\n",
    "    #이미지 저장하기\n",
    "\n",
    "    save_file = f'violin_merging_{title}.png'\n",
    "    save_folder = 'Dataset/04_graph'\n",
    "    save_path = os.path.join(working_dir, save_folder, save_file)\n",
    "\n",
    "    plt.savefig(save_path, dpi = 300)\n",
    "    \n",
    "    plt.show()"
   ]
  },
  {
   "cell_type": "code",
   "execution_count": 70,
   "id": "a44d241b-8143-4424-b320-7ecdd36d0576",
   "metadata": {
    "execution": {
     "iopub.execute_input": "2023-11-29T06:08:58.994602Z",
     "iopub.status.busy": "2023-11-29T06:08:58.993607Z",
     "iopub.status.idle": "2023-11-29T06:08:59.008566Z",
     "shell.execute_reply": "2023-11-29T06:08:59.007569Z",
     "shell.execute_reply.started": "2023-11-29T06:08:58.994602Z"
    }
   },
   "outputs": [
    {
     "data": {
      "text/plain": [
       "44.1141671340848"
      ]
     },
     "execution_count": 70,
     "metadata": {},
     "output_type": "execute_result"
    }
   ],
   "source": [
    "df['DCIA'].max()"
   ]
  },
  {
   "cell_type": "code",
   "execution_count": 71,
   "id": "20f1ef28-e19e-400b-89ef-246b9a99bd7d",
   "metadata": {
    "execution": {
     "iopub.execute_input": "2023-11-29T06:08:59.009565Z",
     "iopub.status.busy": "2023-11-29T06:08:59.009565Z",
     "iopub.status.idle": "2023-11-29T06:08:59.199061Z",
     "shell.execute_reply": "2023-11-29T06:08:59.199061Z",
     "shell.execute_reply.started": "2023-11-29T06:08:59.009565Z"
    },
    "tags": []
   },
   "outputs": [
    {
     "data": {
      "text/html": [
       "<div>\n",
       "<style scoped>\n",
       "    .dataframe tbody tr th:only-of-type {\n",
       "        vertical-align: middle;\n",
       "    }\n",
       "\n",
       "    .dataframe tbody tr th {\n",
       "        vertical-align: top;\n",
       "    }\n",
       "\n",
       "    .dataframe thead th {\n",
       "        text-align: right;\n",
       "    }\n",
       "</style>\n",
       "<table border=\"1\" class=\"dataframe\">\n",
       "  <thead>\n",
       "    <tr style=\"text-align: right;\">\n",
       "      <th></th>\n",
       "      <th>Kurtosis</th>\n",
       "      <th>Skewness</th>\n",
       "    </tr>\n",
       "  </thead>\n",
       "  <tbody>\n",
       "    <tr>\n",
       "      <th>TTC</th>\n",
       "      <td>144.05</td>\n",
       "      <td>10.63</td>\n",
       "    </tr>\n",
       "    <tr>\n",
       "      <th>MTTC</th>\n",
       "      <td>2054.97</td>\n",
       "      <td>35.49</td>\n",
       "    </tr>\n",
       "    <tr>\n",
       "      <th>T2</th>\n",
       "      <td>10021.49</td>\n",
       "      <td>95.00</td>\n",
       "    </tr>\n",
       "    <tr>\n",
       "      <th>TAdv</th>\n",
       "      <td>3606.00</td>\n",
       "      <td>50.12</td>\n",
       "    </tr>\n",
       "    <tr>\n",
       "      <th>TimeGap</th>\n",
       "      <td>15688.74</td>\n",
       "      <td>122.55</td>\n",
       "    </tr>\n",
       "    <tr>\n",
       "      <th>ACT</th>\n",
       "      <td>393.86</td>\n",
       "      <td>15.69</td>\n",
       "    </tr>\n",
       "    <tr>\n",
       "      <th>PSD</th>\n",
       "      <td>2.43</td>\n",
       "      <td>1.40</td>\n",
       "    </tr>\n",
       "    <tr>\n",
       "      <th>DSS</th>\n",
       "      <td>0.68</td>\n",
       "      <td>0.96</td>\n",
       "    </tr>\n",
       "    <tr>\n",
       "      <th>MMTC</th>\n",
       "      <td>0.66</td>\n",
       "      <td>0.96</td>\n",
       "    </tr>\n",
       "    <tr>\n",
       "      <th>PICUD</th>\n",
       "      <td>0.01</td>\n",
       "      <td>0.76</td>\n",
       "    </tr>\n",
       "    <tr>\n",
       "      <th>MTC</th>\n",
       "      <td>1.65</td>\n",
       "      <td>1.09</td>\n",
       "    </tr>\n",
       "    <tr>\n",
       "      <th>DRAC</th>\n",
       "      <td>1484.61</td>\n",
       "      <td>34.33</td>\n",
       "    </tr>\n",
       "    <tr>\n",
       "      <th>MDRAC</th>\n",
       "      <td>2769.50</td>\n",
       "      <td>45.85</td>\n",
       "    </tr>\n",
       "    <tr>\n",
       "      <th>DCIA</th>\n",
       "      <td>1174.83</td>\n",
       "      <td>13.43</td>\n",
       "    </tr>\n",
       "    <tr>\n",
       "      <th>unsafety</th>\n",
       "      <td>14851.81</td>\n",
       "      <td>-120.32</td>\n",
       "    </tr>\n",
       "  </tbody>\n",
       "</table>\n",
       "</div>"
      ],
      "text/plain": [
       "          Kurtosis  Skewness\n",
       "TTC         144.05     10.63\n",
       "MTTC       2054.97     35.49\n",
       "T2        10021.49     95.00\n",
       "TAdv       3606.00     50.12\n",
       "TimeGap   15688.74    122.55\n",
       "ACT         393.86     15.69\n",
       "PSD           2.43      1.40\n",
       "DSS           0.68      0.96\n",
       "MMTC          0.66      0.96\n",
       "PICUD         0.01      0.76\n",
       "MTC           1.65      1.09\n",
       "DRAC       1484.61     34.33\n",
       "MDRAC      2769.50     45.85\n",
       "DCIA       1174.83     13.43\n",
       "unsafety  14851.81   -120.32"
      ]
     },
     "execution_count": 71,
     "metadata": {},
     "output_type": "execute_result"
    }
   ],
   "source": [
    "kur = pd.DataFrame(df_0[SSM_list].kurt()).rename({0 : 'Kurtosis'}, axis = 1)\n",
    "kur['Skewness'] = pd.DataFrame(df_0[SSM_list].skew()).rename({0 : 'Skewness'}, axis = 1)['Skewness']\n",
    "kur = kur.round(2)\n",
    "kur"
   ]
  },
  {
   "cell_type": "markdown",
   "id": "12e60433-f657-4fe9-ac3c-426b3eff4f06",
   "metadata": {
    "tags": []
   },
   "source": [
    "# 문제차량 SSM 2-Dimensional Profile 조회"
   ]
  },
  {
   "cell_type": "code",
   "execution_count": 91,
   "id": "a3a93c3e-1558-4970-9078-1886ca8425ea",
   "metadata": {
    "execution": {
     "iopub.execute_input": "2023-11-29T06:15:15.853351Z",
     "iopub.status.busy": "2023-11-29T06:15:15.852340Z",
     "iopub.status.idle": "2023-11-29T06:15:15.870213Z",
     "shell.execute_reply": "2023-11-29T06:15:15.868855Z",
     "shell.execute_reply.started": "2023-11-29T06:15:15.853351Z"
    }
   },
   "outputs": [],
   "source": [
    "def make_int(x):\n",
    "    if pd.isna(x) == False:\n",
    "        return int(x)\n",
    "\n",
    "    else:\n",
    "        return None"
   ]
  },
  {
   "cell_type": "code",
   "execution_count": 92,
   "id": "9b982d4b-d2d0-492d-b8c6-fb7254029bb6",
   "metadata": {
    "execution": {
     "iopub.execute_input": "2023-11-29T06:15:33.055716Z",
     "iopub.status.busy": "2023-11-29T06:15:33.054719Z",
     "iopub.status.idle": "2023-11-29T06:15:33.248587Z",
     "shell.execute_reply": "2023-11-29T06:15:33.248587Z",
     "shell.execute_reply.started": "2023-11-29T06:15:33.054719Z"
    }
   },
   "outputs": [],
   "source": [
    "df['LV_ID'] = df['LV_ID'].apply(make_int)"
   ]
  },
  {
   "cell_type": "code",
   "execution_count": 105,
   "id": "a1eece9c-c99d-4ef7-a604-75a73a900c67",
   "metadata": {
    "execution": {
     "iopub.execute_input": "2023-11-29T06:46:27.522422Z",
     "iopub.status.busy": "2023-11-29T06:46:27.522422Z",
     "iopub.status.idle": "2023-11-29T06:46:27.600175Z",
     "shell.execute_reply": "2023-11-29T06:46:27.581224Z",
     "shell.execute_reply.started": "2023-11-29T06:46:27.522422Z"
    }
   },
   "outputs": [
    {
     "data": {
      "text/html": [
       "<div>\n",
       "<style scoped>\n",
       "    .dataframe tbody tr th:only-of-type {\n",
       "        vertical-align: middle;\n",
       "    }\n",
       "\n",
       "    .dataframe tbody tr th {\n",
       "        vertical-align: top;\n",
       "    }\n",
       "\n",
       "    .dataframe thead th {\n",
       "        text-align: right;\n",
       "    }\n",
       "</style>\n",
       "<table border=\"1\" class=\"dataframe\">\n",
       "  <thead>\n",
       "    <tr style=\"text-align: right;\">\n",
       "      <th></th>\n",
       "      <th>veh_id</th>\n",
       "      <th>frm</th>\n",
       "      <th>local_x</th>\n",
       "      <th>local_y</th>\n",
       "      <th>V_len</th>\n",
       "      <th>V_wid</th>\n",
       "      <th>velocity</th>\n",
       "      <th>acc</th>\n",
       "      <th>lane</th>\n",
       "      <th>Time</th>\n",
       "      <th>...</th>\n",
       "      <th>MTC</th>\n",
       "      <th>MMTC</th>\n",
       "      <th>TIT</th>\n",
       "      <th>TIT2</th>\n",
       "      <th>TGIT</th>\n",
       "      <th>TIACT</th>\n",
       "      <th>TIDSS</th>\n",
       "      <th>TIDRAC</th>\n",
       "      <th>TIMDRAC</th>\n",
       "      <th>cell</th>\n",
       "    </tr>\n",
       "  </thead>\n",
       "  <tbody>\n",
       "    <tr>\n",
       "      <th>255327</th>\n",
       "      <td>1542</td>\n",
       "      <td>25722</td>\n",
       "      <td>224.125</td>\n",
       "      <td>10.640625</td>\n",
       "      <td>7.609375</td>\n",
       "      <td>2.193359</td>\n",
       "      <td>98.0000</td>\n",
       "      <td>-3.708984</td>\n",
       "      <td>U2</td>\n",
       "      <td>857.4</td>\n",
       "      <td>...</td>\n",
       "      <td>NaN</td>\n",
       "      <td>NaN</td>\n",
       "      <td>NaN</td>\n",
       "      <td>NaN</td>\n",
       "      <td>NaN</td>\n",
       "      <td>NaN</td>\n",
       "      <td>NaN</td>\n",
       "      <td>NaN</td>\n",
       "      <td>NaN</td>\n",
       "      <td>240</td>\n",
       "    </tr>\n",
       "    <tr>\n",
       "      <th>255328</th>\n",
       "      <td>1542</td>\n",
       "      <td>25722</td>\n",
       "      <td>224.125</td>\n",
       "      <td>10.640625</td>\n",
       "      <td>7.609375</td>\n",
       "      <td>2.193359</td>\n",
       "      <td>98.0000</td>\n",
       "      <td>-3.708984</td>\n",
       "      <td>U2</td>\n",
       "      <td>857.4</td>\n",
       "      <td>...</td>\n",
       "      <td>NaN</td>\n",
       "      <td>NaN</td>\n",
       "      <td>NaN</td>\n",
       "      <td>0.000000</td>\n",
       "      <td>NaN</td>\n",
       "      <td>NaN</td>\n",
       "      <td>NaN</td>\n",
       "      <td>NaN</td>\n",
       "      <td>NaN</td>\n",
       "      <td>240</td>\n",
       "    </tr>\n",
       "    <tr>\n",
       "      <th>255329</th>\n",
       "      <td>1542</td>\n",
       "      <td>25722</td>\n",
       "      <td>224.125</td>\n",
       "      <td>10.640625</td>\n",
       "      <td>7.609375</td>\n",
       "      <td>2.193359</td>\n",
       "      <td>98.0000</td>\n",
       "      <td>-3.708984</td>\n",
       "      <td>U2</td>\n",
       "      <td>857.4</td>\n",
       "      <td>...</td>\n",
       "      <td>NaN</td>\n",
       "      <td>NaN</td>\n",
       "      <td>NaN</td>\n",
       "      <td>NaN</td>\n",
       "      <td>NaN</td>\n",
       "      <td>NaN</td>\n",
       "      <td>NaN</td>\n",
       "      <td>NaN</td>\n",
       "      <td>NaN</td>\n",
       "      <td>240</td>\n",
       "    </tr>\n",
       "    <tr>\n",
       "      <th>255330</th>\n",
       "      <td>1542</td>\n",
       "      <td>25722</td>\n",
       "      <td>224.125</td>\n",
       "      <td>10.640625</td>\n",
       "      <td>7.609375</td>\n",
       "      <td>2.193359</td>\n",
       "      <td>98.0000</td>\n",
       "      <td>-3.708984</td>\n",
       "      <td>U2</td>\n",
       "      <td>857.4</td>\n",
       "      <td>...</td>\n",
       "      <td>NaN</td>\n",
       "      <td>NaN</td>\n",
       "      <td>NaN</td>\n",
       "      <td>NaN</td>\n",
       "      <td>NaN</td>\n",
       "      <td>NaN</td>\n",
       "      <td>NaN</td>\n",
       "      <td>NaN</td>\n",
       "      <td>NaN</td>\n",
       "      <td>240</td>\n",
       "    </tr>\n",
       "    <tr>\n",
       "      <th>255331</th>\n",
       "      <td>1542</td>\n",
       "      <td>25722</td>\n",
       "      <td>224.125</td>\n",
       "      <td>10.640625</td>\n",
       "      <td>7.609375</td>\n",
       "      <td>2.193359</td>\n",
       "      <td>98.0000</td>\n",
       "      <td>-3.708984</td>\n",
       "      <td>U2</td>\n",
       "      <td>857.4</td>\n",
       "      <td>...</td>\n",
       "      <td>NaN</td>\n",
       "      <td>NaN</td>\n",
       "      <td>NaN</td>\n",
       "      <td>NaN</td>\n",
       "      <td>NaN</td>\n",
       "      <td>NaN</td>\n",
       "      <td>NaN</td>\n",
       "      <td>NaN</td>\n",
       "      <td>NaN</td>\n",
       "      <td>240</td>\n",
       "    </tr>\n",
       "    <tr>\n",
       "      <th>255332</th>\n",
       "      <td>1542</td>\n",
       "      <td>25725</td>\n",
       "      <td>226.750</td>\n",
       "      <td>10.679688</td>\n",
       "      <td>7.609375</td>\n",
       "      <td>2.193359</td>\n",
       "      <td>98.1250</td>\n",
       "      <td>0.299805</td>\n",
       "      <td>U2</td>\n",
       "      <td>857.5</td>\n",
       "      <td>...</td>\n",
       "      <td>NaN</td>\n",
       "      <td>NaN</td>\n",
       "      <td>NaN</td>\n",
       "      <td>NaN</td>\n",
       "      <td>NaN</td>\n",
       "      <td>NaN</td>\n",
       "      <td>NaN</td>\n",
       "      <td>NaN</td>\n",
       "      <td>NaN</td>\n",
       "      <td>240</td>\n",
       "    </tr>\n",
       "    <tr>\n",
       "      <th>255333</th>\n",
       "      <td>1542</td>\n",
       "      <td>25725</td>\n",
       "      <td>226.750</td>\n",
       "      <td>10.679688</td>\n",
       "      <td>7.609375</td>\n",
       "      <td>2.193359</td>\n",
       "      <td>98.1250</td>\n",
       "      <td>0.299805</td>\n",
       "      <td>U2</td>\n",
       "      <td>857.5</td>\n",
       "      <td>...</td>\n",
       "      <td>NaN</td>\n",
       "      <td>NaN</td>\n",
       "      <td>NaN</td>\n",
       "      <td>0.000000</td>\n",
       "      <td>NaN</td>\n",
       "      <td>NaN</td>\n",
       "      <td>NaN</td>\n",
       "      <td>NaN</td>\n",
       "      <td>NaN</td>\n",
       "      <td>240</td>\n",
       "    </tr>\n",
       "    <tr>\n",
       "      <th>255334</th>\n",
       "      <td>1542</td>\n",
       "      <td>25725</td>\n",
       "      <td>226.750</td>\n",
       "      <td>10.679688</td>\n",
       "      <td>7.609375</td>\n",
       "      <td>2.193359</td>\n",
       "      <td>98.1250</td>\n",
       "      <td>0.299805</td>\n",
       "      <td>U2</td>\n",
       "      <td>857.5</td>\n",
       "      <td>...</td>\n",
       "      <td>NaN</td>\n",
       "      <td>NaN</td>\n",
       "      <td>NaN</td>\n",
       "      <td>NaN</td>\n",
       "      <td>NaN</td>\n",
       "      <td>NaN</td>\n",
       "      <td>NaN</td>\n",
       "      <td>NaN</td>\n",
       "      <td>NaN</td>\n",
       "      <td>240</td>\n",
       "    </tr>\n",
       "    <tr>\n",
       "      <th>255335</th>\n",
       "      <td>1542</td>\n",
       "      <td>25725</td>\n",
       "      <td>226.750</td>\n",
       "      <td>10.679688</td>\n",
       "      <td>7.609375</td>\n",
       "      <td>2.193359</td>\n",
       "      <td>98.1250</td>\n",
       "      <td>0.299805</td>\n",
       "      <td>U2</td>\n",
       "      <td>857.5</td>\n",
       "      <td>...</td>\n",
       "      <td>NaN</td>\n",
       "      <td>NaN</td>\n",
       "      <td>NaN</td>\n",
       "      <td>NaN</td>\n",
       "      <td>NaN</td>\n",
       "      <td>NaN</td>\n",
       "      <td>NaN</td>\n",
       "      <td>NaN</td>\n",
       "      <td>NaN</td>\n",
       "      <td>240</td>\n",
       "    </tr>\n",
       "    <tr>\n",
       "      <th>255336</th>\n",
       "      <td>1542</td>\n",
       "      <td>25725</td>\n",
       "      <td>226.750</td>\n",
       "      <td>10.679688</td>\n",
       "      <td>7.609375</td>\n",
       "      <td>2.193359</td>\n",
       "      <td>98.1250</td>\n",
       "      <td>0.299805</td>\n",
       "      <td>U2</td>\n",
       "      <td>857.5</td>\n",
       "      <td>...</td>\n",
       "      <td>NaN</td>\n",
       "      <td>NaN</td>\n",
       "      <td>NaN</td>\n",
       "      <td>NaN</td>\n",
       "      <td>NaN</td>\n",
       "      <td>NaN</td>\n",
       "      <td>NaN</td>\n",
       "      <td>NaN</td>\n",
       "      <td>NaN</td>\n",
       "      <td>240</td>\n",
       "    </tr>\n",
       "    <tr>\n",
       "      <th>255337</th>\n",
       "      <td>1542</td>\n",
       "      <td>25728</td>\n",
       "      <td>229.500</td>\n",
       "      <td>10.718750</td>\n",
       "      <td>7.609375</td>\n",
       "      <td>2.193359</td>\n",
       "      <td>97.7500</td>\n",
       "      <td>-0.962402</td>\n",
       "      <td>U2</td>\n",
       "      <td>857.6</td>\n",
       "      <td>...</td>\n",
       "      <td>NaN</td>\n",
       "      <td>NaN</td>\n",
       "      <td>NaN</td>\n",
       "      <td>NaN</td>\n",
       "      <td>NaN</td>\n",
       "      <td>NaN</td>\n",
       "      <td>NaN</td>\n",
       "      <td>NaN</td>\n",
       "      <td>NaN</td>\n",
       "      <td>240</td>\n",
       "    </tr>\n",
       "    <tr>\n",
       "      <th>255338</th>\n",
       "      <td>1542</td>\n",
       "      <td>25728</td>\n",
       "      <td>229.500</td>\n",
       "      <td>10.718750</td>\n",
       "      <td>7.609375</td>\n",
       "      <td>2.193359</td>\n",
       "      <td>97.7500</td>\n",
       "      <td>-0.962402</td>\n",
       "      <td>U2</td>\n",
       "      <td>857.6</td>\n",
       "      <td>...</td>\n",
       "      <td>NaN</td>\n",
       "      <td>NaN</td>\n",
       "      <td>NaN</td>\n",
       "      <td>0.092132</td>\n",
       "      <td>NaN</td>\n",
       "      <td>NaN</td>\n",
       "      <td>NaN</td>\n",
       "      <td>NaN</td>\n",
       "      <td>NaN</td>\n",
       "      <td>240</td>\n",
       "    </tr>\n",
       "    <tr>\n",
       "      <th>255339</th>\n",
       "      <td>1542</td>\n",
       "      <td>25728</td>\n",
       "      <td>229.500</td>\n",
       "      <td>10.718750</td>\n",
       "      <td>7.609375</td>\n",
       "      <td>2.193359</td>\n",
       "      <td>97.7500</td>\n",
       "      <td>-0.962402</td>\n",
       "      <td>U2</td>\n",
       "      <td>857.6</td>\n",
       "      <td>...</td>\n",
       "      <td>NaN</td>\n",
       "      <td>NaN</td>\n",
       "      <td>NaN</td>\n",
       "      <td>NaN</td>\n",
       "      <td>NaN</td>\n",
       "      <td>NaN</td>\n",
       "      <td>NaN</td>\n",
       "      <td>NaN</td>\n",
       "      <td>NaN</td>\n",
       "      <td>240</td>\n",
       "    </tr>\n",
       "    <tr>\n",
       "      <th>255340</th>\n",
       "      <td>1542</td>\n",
       "      <td>25728</td>\n",
       "      <td>229.500</td>\n",
       "      <td>10.718750</td>\n",
       "      <td>7.609375</td>\n",
       "      <td>2.193359</td>\n",
       "      <td>97.7500</td>\n",
       "      <td>-0.962402</td>\n",
       "      <td>U2</td>\n",
       "      <td>857.6</td>\n",
       "      <td>...</td>\n",
       "      <td>NaN</td>\n",
       "      <td>NaN</td>\n",
       "      <td>NaN</td>\n",
       "      <td>NaN</td>\n",
       "      <td>NaN</td>\n",
       "      <td>NaN</td>\n",
       "      <td>NaN</td>\n",
       "      <td>NaN</td>\n",
       "      <td>NaN</td>\n",
       "      <td>240</td>\n",
       "    </tr>\n",
       "    <tr>\n",
       "      <th>255341</th>\n",
       "      <td>1542</td>\n",
       "      <td>25728</td>\n",
       "      <td>229.500</td>\n",
       "      <td>10.718750</td>\n",
       "      <td>7.609375</td>\n",
       "      <td>2.193359</td>\n",
       "      <td>97.7500</td>\n",
       "      <td>-0.962402</td>\n",
       "      <td>U2</td>\n",
       "      <td>857.6</td>\n",
       "      <td>...</td>\n",
       "      <td>NaN</td>\n",
       "      <td>NaN</td>\n",
       "      <td>NaN</td>\n",
       "      <td>NaN</td>\n",
       "      <td>NaN</td>\n",
       "      <td>NaN</td>\n",
       "      <td>NaN</td>\n",
       "      <td>NaN</td>\n",
       "      <td>NaN</td>\n",
       "      <td>240</td>\n",
       "    </tr>\n",
       "    <tr>\n",
       "      <th>255342</th>\n",
       "      <td>1542</td>\n",
       "      <td>25731</td>\n",
       "      <td>232.250</td>\n",
       "      <td>10.773438</td>\n",
       "      <td>7.609375</td>\n",
       "      <td>2.193359</td>\n",
       "      <td>97.4375</td>\n",
       "      <td>-0.939453</td>\n",
       "      <td>U2</td>\n",
       "      <td>857.7</td>\n",
       "      <td>...</td>\n",
       "      <td>NaN</td>\n",
       "      <td>NaN</td>\n",
       "      <td>NaN</td>\n",
       "      <td>NaN</td>\n",
       "      <td>NaN</td>\n",
       "      <td>NaN</td>\n",
       "      <td>NaN</td>\n",
       "      <td>NaN</td>\n",
       "      <td>NaN</td>\n",
       "      <td>240</td>\n",
       "    </tr>\n",
       "    <tr>\n",
       "      <th>255343</th>\n",
       "      <td>1542</td>\n",
       "      <td>25731</td>\n",
       "      <td>232.250</td>\n",
       "      <td>10.773438</td>\n",
       "      <td>7.609375</td>\n",
       "      <td>2.193359</td>\n",
       "      <td>97.4375</td>\n",
       "      <td>-0.939453</td>\n",
       "      <td>U2</td>\n",
       "      <td>857.7</td>\n",
       "      <td>...</td>\n",
       "      <td>NaN</td>\n",
       "      <td>NaN</td>\n",
       "      <td>NaN</td>\n",
       "      <td>NaN</td>\n",
       "      <td>NaN</td>\n",
       "      <td>NaN</td>\n",
       "      <td>NaN</td>\n",
       "      <td>NaN</td>\n",
       "      <td>NaN</td>\n",
       "      <td>240</td>\n",
       "    </tr>\n",
       "    <tr>\n",
       "      <th>255344</th>\n",
       "      <td>1542</td>\n",
       "      <td>25731</td>\n",
       "      <td>232.250</td>\n",
       "      <td>10.773438</td>\n",
       "      <td>7.609375</td>\n",
       "      <td>2.193359</td>\n",
       "      <td>97.4375</td>\n",
       "      <td>-0.939453</td>\n",
       "      <td>U2</td>\n",
       "      <td>857.7</td>\n",
       "      <td>...</td>\n",
       "      <td>NaN</td>\n",
       "      <td>NaN</td>\n",
       "      <td>NaN</td>\n",
       "      <td>NaN</td>\n",
       "      <td>NaN</td>\n",
       "      <td>NaN</td>\n",
       "      <td>NaN</td>\n",
       "      <td>NaN</td>\n",
       "      <td>NaN</td>\n",
       "      <td>240</td>\n",
       "    </tr>\n",
       "    <tr>\n",
       "      <th>255345</th>\n",
       "      <td>1542</td>\n",
       "      <td>25731</td>\n",
       "      <td>232.250</td>\n",
       "      <td>10.773438</td>\n",
       "      <td>7.609375</td>\n",
       "      <td>2.193359</td>\n",
       "      <td>97.4375</td>\n",
       "      <td>-0.939453</td>\n",
       "      <td>U2</td>\n",
       "      <td>857.7</td>\n",
       "      <td>...</td>\n",
       "      <td>NaN</td>\n",
       "      <td>NaN</td>\n",
       "      <td>NaN</td>\n",
       "      <td>NaN</td>\n",
       "      <td>NaN</td>\n",
       "      <td>NaN</td>\n",
       "      <td>NaN</td>\n",
       "      <td>NaN</td>\n",
       "      <td>NaN</td>\n",
       "      <td>240</td>\n",
       "    </tr>\n",
       "    <tr>\n",
       "      <th>255346</th>\n",
       "      <td>1542</td>\n",
       "      <td>25731</td>\n",
       "      <td>232.250</td>\n",
       "      <td>10.773438</td>\n",
       "      <td>7.609375</td>\n",
       "      <td>2.193359</td>\n",
       "      <td>97.4375</td>\n",
       "      <td>-0.939453</td>\n",
       "      <td>U2</td>\n",
       "      <td>857.7</td>\n",
       "      <td>...</td>\n",
       "      <td>NaN</td>\n",
       "      <td>NaN</td>\n",
       "      <td>NaN</td>\n",
       "      <td>NaN</td>\n",
       "      <td>NaN</td>\n",
       "      <td>NaN</td>\n",
       "      <td>NaN</td>\n",
       "      <td>NaN</td>\n",
       "      <td>NaN</td>\n",
       "      <td>240</td>\n",
       "    </tr>\n",
       "  </tbody>\n",
       "</table>\n",
       "<p>20 rows × 91 columns</p>\n",
       "</div>"
      ],
      "text/plain": [
       "        veh_id    frm  local_x    local_y     V_len     V_wid  velocity  \\\n",
       "255327    1542  25722  224.125  10.640625  7.609375  2.193359   98.0000   \n",
       "255328    1542  25722  224.125  10.640625  7.609375  2.193359   98.0000   \n",
       "255329    1542  25722  224.125  10.640625  7.609375  2.193359   98.0000   \n",
       "255330    1542  25722  224.125  10.640625  7.609375  2.193359   98.0000   \n",
       "255331    1542  25722  224.125  10.640625  7.609375  2.193359   98.0000   \n",
       "255332    1542  25725  226.750  10.679688  7.609375  2.193359   98.1250   \n",
       "255333    1542  25725  226.750  10.679688  7.609375  2.193359   98.1250   \n",
       "255334    1542  25725  226.750  10.679688  7.609375  2.193359   98.1250   \n",
       "255335    1542  25725  226.750  10.679688  7.609375  2.193359   98.1250   \n",
       "255336    1542  25725  226.750  10.679688  7.609375  2.193359   98.1250   \n",
       "255337    1542  25728  229.500  10.718750  7.609375  2.193359   97.7500   \n",
       "255338    1542  25728  229.500  10.718750  7.609375  2.193359   97.7500   \n",
       "255339    1542  25728  229.500  10.718750  7.609375  2.193359   97.7500   \n",
       "255340    1542  25728  229.500  10.718750  7.609375  2.193359   97.7500   \n",
       "255341    1542  25728  229.500  10.718750  7.609375  2.193359   97.7500   \n",
       "255342    1542  25731  232.250  10.773438  7.609375  2.193359   97.4375   \n",
       "255343    1542  25731  232.250  10.773438  7.609375  2.193359   97.4375   \n",
       "255344    1542  25731  232.250  10.773438  7.609375  2.193359   97.4375   \n",
       "255345    1542  25731  232.250  10.773438  7.609375  2.193359   97.4375   \n",
       "255346    1542  25731  232.250  10.773438  7.609375  2.193359   97.4375   \n",
       "\n",
       "             acc lane   Time  ...  MTC  MMTC  TIT      TIT2  TGIT  TIACT  \\\n",
       "255327 -3.708984   U2  857.4  ...  NaN   NaN  NaN       NaN   NaN    NaN   \n",
       "255328 -3.708984   U2  857.4  ...  NaN   NaN  NaN  0.000000   NaN    NaN   \n",
       "255329 -3.708984   U2  857.4  ...  NaN   NaN  NaN       NaN   NaN    NaN   \n",
       "255330 -3.708984   U2  857.4  ...  NaN   NaN  NaN       NaN   NaN    NaN   \n",
       "255331 -3.708984   U2  857.4  ...  NaN   NaN  NaN       NaN   NaN    NaN   \n",
       "255332  0.299805   U2  857.5  ...  NaN   NaN  NaN       NaN   NaN    NaN   \n",
       "255333  0.299805   U2  857.5  ...  NaN   NaN  NaN  0.000000   NaN    NaN   \n",
       "255334  0.299805   U2  857.5  ...  NaN   NaN  NaN       NaN   NaN    NaN   \n",
       "255335  0.299805   U2  857.5  ...  NaN   NaN  NaN       NaN   NaN    NaN   \n",
       "255336  0.299805   U2  857.5  ...  NaN   NaN  NaN       NaN   NaN    NaN   \n",
       "255337 -0.962402   U2  857.6  ...  NaN   NaN  NaN       NaN   NaN    NaN   \n",
       "255338 -0.962402   U2  857.6  ...  NaN   NaN  NaN  0.092132   NaN    NaN   \n",
       "255339 -0.962402   U2  857.6  ...  NaN   NaN  NaN       NaN   NaN    NaN   \n",
       "255340 -0.962402   U2  857.6  ...  NaN   NaN  NaN       NaN   NaN    NaN   \n",
       "255341 -0.962402   U2  857.6  ...  NaN   NaN  NaN       NaN   NaN    NaN   \n",
       "255342 -0.939453   U2  857.7  ...  NaN   NaN  NaN       NaN   NaN    NaN   \n",
       "255343 -0.939453   U2  857.7  ...  NaN   NaN  NaN       NaN   NaN    NaN   \n",
       "255344 -0.939453   U2  857.7  ...  NaN   NaN  NaN       NaN   NaN    NaN   \n",
       "255345 -0.939453   U2  857.7  ...  NaN   NaN  NaN       NaN   NaN    NaN   \n",
       "255346 -0.939453   U2  857.7  ...  NaN   NaN  NaN       NaN   NaN    NaN   \n",
       "\n",
       "        TIDSS  TIDRAC  TIMDRAC  cell  \n",
       "255327    NaN     NaN      NaN   240  \n",
       "255328    NaN     NaN      NaN   240  \n",
       "255329    NaN     NaN      NaN   240  \n",
       "255330    NaN     NaN      NaN   240  \n",
       "255331    NaN     NaN      NaN   240  \n",
       "255332    NaN     NaN      NaN   240  \n",
       "255333    NaN     NaN      NaN   240  \n",
       "255334    NaN     NaN      NaN   240  \n",
       "255335    NaN     NaN      NaN   240  \n",
       "255336    NaN     NaN      NaN   240  \n",
       "255337    NaN     NaN      NaN   240  \n",
       "255338    NaN     NaN      NaN   240  \n",
       "255339    NaN     NaN      NaN   240  \n",
       "255340    NaN     NaN      NaN   240  \n",
       "255341    NaN     NaN      NaN   240  \n",
       "255342    NaN     NaN      NaN   240  \n",
       "255343    NaN     NaN      NaN   240  \n",
       "255344    NaN     NaN      NaN   240  \n",
       "255345    NaN     NaN      NaN   240  \n",
       "255346    NaN     NaN      NaN   240  \n",
       "\n",
       "[20 rows x 91 columns]"
      ]
     },
     "execution_count": 105,
     "metadata": {},
     "output_type": "execute_result"
    }
   ],
   "source": [
    "df[(df['veh_id'] == 1542) & (df['LV_ID'] == 1544)]"
   ]
  },
  {
   "cell_type": "code",
   "execution_count": 108,
   "id": "7d99bd86-81b5-498c-a52c-f8bb8701c318",
   "metadata": {
    "execution": {
     "iopub.execute_input": "2023-11-29T06:47:52.428015Z",
     "iopub.status.busy": "2023-11-29T06:47:52.428015Z",
     "iopub.status.idle": "2023-11-29T06:47:52.468874Z",
     "shell.execute_reply": "2023-11-29T06:47:52.468874Z",
     "shell.execute_reply.started": "2023-11-29T06:47:52.428015Z"
    }
   },
   "outputs": [
    {
     "data": {
      "text/html": [
       "<div>\n",
       "<style scoped>\n",
       "    .dataframe tbody tr th:only-of-type {\n",
       "        vertical-align: middle;\n",
       "    }\n",
       "\n",
       "    .dataframe tbody tr th {\n",
       "        vertical-align: top;\n",
       "    }\n",
       "\n",
       "    .dataframe thead th {\n",
       "        text-align: right;\n",
       "    }\n",
       "</style>\n",
       "<table border=\"1\" class=\"dataframe\">\n",
       "  <thead>\n",
       "    <tr style=\"text-align: right;\">\n",
       "      <th></th>\n",
       "      <th>veh_id</th>\n",
       "      <th>frm</th>\n",
       "      <th>local_x</th>\n",
       "      <th>local_y</th>\n",
       "      <th>V_len</th>\n",
       "      <th>V_wid</th>\n",
       "      <th>velocity</th>\n",
       "      <th>acc</th>\n",
       "      <th>lane</th>\n",
       "      <th>Time</th>\n",
       "      <th>...</th>\n",
       "      <th>MTC</th>\n",
       "      <th>MMTC</th>\n",
       "      <th>TIT</th>\n",
       "      <th>TIT2</th>\n",
       "      <th>TGIT</th>\n",
       "      <th>TIACT</th>\n",
       "      <th>TIDSS</th>\n",
       "      <th>TIDRAC</th>\n",
       "      <th>TIMDRAC</th>\n",
       "      <th>cell</th>\n",
       "    </tr>\n",
       "  </thead>\n",
       "  <tbody>\n",
       "    <tr>\n",
       "      <th>255535</th>\n",
       "      <td>1544</td>\n",
       "      <td>25572</td>\n",
       "      <td>47.12500</td>\n",
       "      <td>6.910156</td>\n",
       "      <td>4.902344</td>\n",
       "      <td>2.193359</td>\n",
       "      <td>131.2500</td>\n",
       "      <td>0.254150</td>\n",
       "      <td>U2</td>\n",
       "      <td>852.4</td>\n",
       "      <td>...</td>\n",
       "      <td>NaN</td>\n",
       "      <td>NaN</td>\n",
       "      <td>NaN</td>\n",
       "      <td>NaN</td>\n",
       "      <td>NaN</td>\n",
       "      <td>NaN</td>\n",
       "      <td>NaN</td>\n",
       "      <td>NaN</td>\n",
       "      <td>NaN</td>\n",
       "      <td>060</td>\n",
       "    </tr>\n",
       "    <tr>\n",
       "      <th>255536</th>\n",
       "      <td>1544</td>\n",
       "      <td>25572</td>\n",
       "      <td>47.12500</td>\n",
       "      <td>6.910156</td>\n",
       "      <td>4.902344</td>\n",
       "      <td>2.193359</td>\n",
       "      <td>131.2500</td>\n",
       "      <td>0.254150</td>\n",
       "      <td>U2</td>\n",
       "      <td>852.4</td>\n",
       "      <td>...</td>\n",
       "      <td>NaN</td>\n",
       "      <td>NaN</td>\n",
       "      <td>NaN</td>\n",
       "      <td>NaN</td>\n",
       "      <td>NaN</td>\n",
       "      <td>NaN</td>\n",
       "      <td>NaN</td>\n",
       "      <td>NaN</td>\n",
       "      <td>NaN</td>\n",
       "      <td>060</td>\n",
       "    </tr>\n",
       "    <tr>\n",
       "      <th>255537</th>\n",
       "      <td>1544</td>\n",
       "      <td>25572</td>\n",
       "      <td>47.12500</td>\n",
       "      <td>6.910156</td>\n",
       "      <td>4.902344</td>\n",
       "      <td>2.193359</td>\n",
       "      <td>131.2500</td>\n",
       "      <td>0.254150</td>\n",
       "      <td>U2</td>\n",
       "      <td>852.4</td>\n",
       "      <td>...</td>\n",
       "      <td>NaN</td>\n",
       "      <td>NaN</td>\n",
       "      <td>NaN</td>\n",
       "      <td>NaN</td>\n",
       "      <td>NaN</td>\n",
       "      <td>NaN</td>\n",
       "      <td>NaN</td>\n",
       "      <td>NaN</td>\n",
       "      <td>NaN</td>\n",
       "      <td>060</td>\n",
       "    </tr>\n",
       "    <tr>\n",
       "      <th>255538</th>\n",
       "      <td>1544</td>\n",
       "      <td>25575</td>\n",
       "      <td>50.78125</td>\n",
       "      <td>6.964844</td>\n",
       "      <td>4.902344</td>\n",
       "      <td>2.193359</td>\n",
       "      <td>132.1250</td>\n",
       "      <td>2.285156</td>\n",
       "      <td>U2</td>\n",
       "      <td>852.5</td>\n",
       "      <td>...</td>\n",
       "      <td>NaN</td>\n",
       "      <td>NaN</td>\n",
       "      <td>NaN</td>\n",
       "      <td>0.0</td>\n",
       "      <td>NaN</td>\n",
       "      <td>NaN</td>\n",
       "      <td>NaN</td>\n",
       "      <td>NaN</td>\n",
       "      <td>NaN</td>\n",
       "      <td>060</td>\n",
       "    </tr>\n",
       "    <tr>\n",
       "      <th>255539</th>\n",
       "      <td>1544</td>\n",
       "      <td>25575</td>\n",
       "      <td>50.78125</td>\n",
       "      <td>6.964844</td>\n",
       "      <td>4.902344</td>\n",
       "      <td>2.193359</td>\n",
       "      <td>132.1250</td>\n",
       "      <td>2.285156</td>\n",
       "      <td>U2</td>\n",
       "      <td>852.5</td>\n",
       "      <td>...</td>\n",
       "      <td>NaN</td>\n",
       "      <td>NaN</td>\n",
       "      <td>NaN</td>\n",
       "      <td>NaN</td>\n",
       "      <td>NaN</td>\n",
       "      <td>NaN</td>\n",
       "      <td>NaN</td>\n",
       "      <td>NaN</td>\n",
       "      <td>NaN</td>\n",
       "      <td>060</td>\n",
       "    </tr>\n",
       "    <tr>\n",
       "      <th>...</th>\n",
       "      <td>...</td>\n",
       "      <td>...</td>\n",
       "      <td>...</td>\n",
       "      <td>...</td>\n",
       "      <td>...</td>\n",
       "      <td>...</td>\n",
       "      <td>...</td>\n",
       "      <td>...</td>\n",
       "      <td>...</td>\n",
       "      <td>...</td>\n",
       "      <td>...</td>\n",
       "      <td>...</td>\n",
       "      <td>...</td>\n",
       "      <td>...</td>\n",
       "      <td>...</td>\n",
       "      <td>...</td>\n",
       "      <td>...</td>\n",
       "      <td>...</td>\n",
       "      <td>...</td>\n",
       "      <td>...</td>\n",
       "      <td>...</td>\n",
       "    </tr>\n",
       "    <tr>\n",
       "      <th>255620</th>\n",
       "      <td>1544</td>\n",
       "      <td>25656</td>\n",
       "      <td>146.62500</td>\n",
       "      <td>8.867188</td>\n",
       "      <td>4.902344</td>\n",
       "      <td>2.193359</td>\n",
       "      <td>124.9375</td>\n",
       "      <td>0.996582</td>\n",
       "      <td>U2</td>\n",
       "      <td>855.2</td>\n",
       "      <td>...</td>\n",
       "      <td>NaN</td>\n",
       "      <td>NaN</td>\n",
       "      <td>NaN</td>\n",
       "      <td>NaN</td>\n",
       "      <td>NaN</td>\n",
       "      <td>NaN</td>\n",
       "      <td>NaN</td>\n",
       "      <td>NaN</td>\n",
       "      <td>NaN</td>\n",
       "      <td>160</td>\n",
       "    </tr>\n",
       "    <tr>\n",
       "      <th>255621</th>\n",
       "      <td>1544</td>\n",
       "      <td>25656</td>\n",
       "      <td>146.62500</td>\n",
       "      <td>8.867188</td>\n",
       "      <td>4.902344</td>\n",
       "      <td>2.193359</td>\n",
       "      <td>124.9375</td>\n",
       "      <td>0.996582</td>\n",
       "      <td>U2</td>\n",
       "      <td>855.2</td>\n",
       "      <td>...</td>\n",
       "      <td>NaN</td>\n",
       "      <td>NaN</td>\n",
       "      <td>NaN</td>\n",
       "      <td>NaN</td>\n",
       "      <td>NaN</td>\n",
       "      <td>NaN</td>\n",
       "      <td>NaN</td>\n",
       "      <td>NaN</td>\n",
       "      <td>NaN</td>\n",
       "      <td>160</td>\n",
       "    </tr>\n",
       "    <tr>\n",
       "      <th>255622</th>\n",
       "      <td>1544</td>\n",
       "      <td>25659</td>\n",
       "      <td>150.12500</td>\n",
       "      <td>9.070312</td>\n",
       "      <td>4.902344</td>\n",
       "      <td>2.193359</td>\n",
       "      <td>125.2500</td>\n",
       "      <td>0.882812</td>\n",
       "      <td>U2</td>\n",
       "      <td>855.3</td>\n",
       "      <td>...</td>\n",
       "      <td>55.322852</td>\n",
       "      <td>5.852559</td>\n",
       "      <td>0.0</td>\n",
       "      <td>0.0</td>\n",
       "      <td>0.0</td>\n",
       "      <td>0.0</td>\n",
       "      <td>0.0</td>\n",
       "      <td>0.0</td>\n",
       "      <td>0.0</td>\n",
       "      <td>160</td>\n",
       "    </tr>\n",
       "    <tr>\n",
       "      <th>255623</th>\n",
       "      <td>1544</td>\n",
       "      <td>25659</td>\n",
       "      <td>150.12500</td>\n",
       "      <td>9.070312</td>\n",
       "      <td>4.902344</td>\n",
       "      <td>2.193359</td>\n",
       "      <td>125.2500</td>\n",
       "      <td>0.882812</td>\n",
       "      <td>U2</td>\n",
       "      <td>855.3</td>\n",
       "      <td>...</td>\n",
       "      <td>NaN</td>\n",
       "      <td>NaN</td>\n",
       "      <td>NaN</td>\n",
       "      <td>NaN</td>\n",
       "      <td>NaN</td>\n",
       "      <td>NaN</td>\n",
       "      <td>NaN</td>\n",
       "      <td>NaN</td>\n",
       "      <td>NaN</td>\n",
       "      <td>160</td>\n",
       "    </tr>\n",
       "    <tr>\n",
       "      <th>255624</th>\n",
       "      <td>1544</td>\n",
       "      <td>25659</td>\n",
       "      <td>150.12500</td>\n",
       "      <td>9.070312</td>\n",
       "      <td>4.902344</td>\n",
       "      <td>2.193359</td>\n",
       "      <td>125.2500</td>\n",
       "      <td>0.882812</td>\n",
       "      <td>U2</td>\n",
       "      <td>855.3</td>\n",
       "      <td>...</td>\n",
       "      <td>NaN</td>\n",
       "      <td>NaN</td>\n",
       "      <td>NaN</td>\n",
       "      <td>NaN</td>\n",
       "      <td>NaN</td>\n",
       "      <td>NaN</td>\n",
       "      <td>NaN</td>\n",
       "      <td>NaN</td>\n",
       "      <td>NaN</td>\n",
       "      <td>160</td>\n",
       "    </tr>\n",
       "  </tbody>\n",
       "</table>\n",
       "<p>90 rows × 91 columns</p>\n",
       "</div>"
      ],
      "text/plain": [
       "        veh_id    frm    local_x   local_y     V_len     V_wid  velocity  \\\n",
       "255535    1544  25572   47.12500  6.910156  4.902344  2.193359  131.2500   \n",
       "255536    1544  25572   47.12500  6.910156  4.902344  2.193359  131.2500   \n",
       "255537    1544  25572   47.12500  6.910156  4.902344  2.193359  131.2500   \n",
       "255538    1544  25575   50.78125  6.964844  4.902344  2.193359  132.1250   \n",
       "255539    1544  25575   50.78125  6.964844  4.902344  2.193359  132.1250   \n",
       "...        ...    ...        ...       ...       ...       ...       ...   \n",
       "255620    1544  25656  146.62500  8.867188  4.902344  2.193359  124.9375   \n",
       "255621    1544  25656  146.62500  8.867188  4.902344  2.193359  124.9375   \n",
       "255622    1544  25659  150.12500  9.070312  4.902344  2.193359  125.2500   \n",
       "255623    1544  25659  150.12500  9.070312  4.902344  2.193359  125.2500   \n",
       "255624    1544  25659  150.12500  9.070312  4.902344  2.193359  125.2500   \n",
       "\n",
       "             acc lane   Time  ...        MTC      MMTC  TIT  TIT2  TGIT  \\\n",
       "255535  0.254150   U2  852.4  ...        NaN       NaN  NaN   NaN   NaN   \n",
       "255536  0.254150   U2  852.4  ...        NaN       NaN  NaN   NaN   NaN   \n",
       "255537  0.254150   U2  852.4  ...        NaN       NaN  NaN   NaN   NaN   \n",
       "255538  2.285156   U2  852.5  ...        NaN       NaN  NaN   0.0   NaN   \n",
       "255539  2.285156   U2  852.5  ...        NaN       NaN  NaN   NaN   NaN   \n",
       "...          ...  ...    ...  ...        ...       ...  ...   ...   ...   \n",
       "255620  0.996582   U2  855.2  ...        NaN       NaN  NaN   NaN   NaN   \n",
       "255621  0.996582   U2  855.2  ...        NaN       NaN  NaN   NaN   NaN   \n",
       "255622  0.882812   U2  855.3  ...  55.322852  5.852559  0.0   0.0   0.0   \n",
       "255623  0.882812   U2  855.3  ...        NaN       NaN  NaN   NaN   NaN   \n",
       "255624  0.882812   U2  855.3  ...        NaN       NaN  NaN   NaN   NaN   \n",
       "\n",
       "        TIACT  TIDSS  TIDRAC  TIMDRAC  cell  \n",
       "255535    NaN    NaN     NaN      NaN   060  \n",
       "255536    NaN    NaN     NaN      NaN   060  \n",
       "255537    NaN    NaN     NaN      NaN   060  \n",
       "255538    NaN    NaN     NaN      NaN   060  \n",
       "255539    NaN    NaN     NaN      NaN   060  \n",
       "...       ...    ...     ...      ...   ...  \n",
       "255620    NaN    NaN     NaN      NaN   160  \n",
       "255621    NaN    NaN     NaN      NaN   160  \n",
       "255622    0.0    0.0     0.0      0.0   160  \n",
       "255623    NaN    NaN     NaN      NaN   160  \n",
       "255624    NaN    NaN     NaN      NaN   160  \n",
       "\n",
       "[90 rows x 91 columns]"
      ]
     },
     "execution_count": 108,
     "metadata": {},
     "output_type": "execute_result"
    }
   ],
   "source": [
    "df[(df['veh_id'] == 1544) & (df['LV_ID'] == 1542)]"
   ]
  },
  {
   "cell_type": "code",
   "execution_count": null,
   "id": "2a7f8161-9292-4845-8cbc-6a2a759b4336",
   "metadata": {},
   "outputs": [],
   "source": []
  },
  {
   "cell_type": "code",
   "execution_count": 109,
   "id": "16c5b335-493e-4c81-ab0f-8423ad6fb2c3",
   "metadata": {
    "execution": {
     "iopub.execute_input": "2023-11-29T06:48:41.920303Z",
     "iopub.status.busy": "2023-11-29T06:48:41.919306Z",
     "iopub.status.idle": "2023-11-29T06:48:47.002175Z",
     "shell.execute_reply": "2023-11-29T06:48:47.001306Z",
     "shell.execute_reply.started": "2023-11-29T06:48:41.920303Z"
    },
    "tags": []
   },
   "outputs": [
    {
     "name": "stderr",
     "output_type": "stream",
     "text": [
      "3it [00:02,  1.14it/s]\n"
     ]
    },
    {
     "data": {
      "image/png": "[encoded data removed]",
      "text/plain": [
       "<Figure size 500x1000 with 9 Axes>"
      ]
     },
     "metadata": {},
     "output_type": "display_data"
    },
    {
     "data": {
      "image/png": "[encoded data removed]",
      "text/plain": [
       "<Figure size 500x1000 with 9 Axes>"
      ]
     },
     "metadata": {},
     "output_type": "display_data"
    },
    {
     "data": {
      "image/png": "[encoded data removed]",
      "text/plain": [
       "<Figure size 500x1000 with 9 Axes>"
      ]
     },
     "metadata": {},
     "output_type": "display_data"
    }
   ],
   "source": [
    "df = df_0\n",
    "scatter_size = 12\n",
    "\n",
    "#Vehicle_ID, LV_ID = '1631', '1629'\n",
    "#Vehicle_ID, LV_ID = '126', '125'\n",
    "Vehicle_ID, LV_ID = 1544, 1542\n",
    "#Vehicle_ID, LV_ID = '654', '652'\n",
    "\n",
    "for target_SSM_list, title in tqdm(zip([SSM_list_1, SSM_list_2, SSM_list_3], ['Time-based SSM', 'Distance-based SSM', 'Deceleration-based SSM'])):\n",
    "    \n",
    "    fig = plt.figure(figsize = (5, 10))\n",
    "    row_num = len(SSM_list_1)+3\n",
    "\n",
    "    if target_SSM_list != SSM_list_3:\n",
    "\n",
    "        gs = fig.add_gridspec(row_num, 1, height_ratios = (3, 1, 1, 1, 1, 1, 1, 1, 1), hspace = 1.2) # 5행 1열의 그리드 생성\n",
    "\n",
    "    else:\n",
    "        gs = fig.add_gridspec(row_num, 1, height_ratios = (3, 1, 1, 1, 1, 1, 1, 1, 1), hspace = 1.2) # 5행 1열의 그리드 생성\n",
    "\n",
    "    # 대상 차량 쌍을 필터링하여, 프레임별로 정렬하기\n",
    "    sec1 = df[(df['veh_id'] == Vehicle_ID) & (df['LV_ID'] == LV_ID)]\n",
    "    sec2 = df[(df['veh_id'] == LV_ID) & (df['LV_ID'] == Vehicle_ID)]\n",
    "\n",
    "    # TV, LV가 역전된 sec2 DF의 경우, 컬럼이름을 바꾸어주어야 한다.\n",
    "    col_list = ['local_x', 'local_y', 'velocity', 'acc', 'lane', 'Time', 'local_x_before',\n",
    "           'local_y_before', 'delta_local_x', 'delta_local_y', 'velocity_x',\n",
    "           'velocity_y', 'velocity_x_before', 'velocity_y_before',\n",
    "           'delta_velocity_x', 'delta_velocity_y', 'acc_x', 'acc_y', 'lane_past',\n",
    "           'Lane_record', 'Lane_record_split', 'Lane_00', 'Lane_99', 'Lane_change',\n",
    "           'Lane_leave', 'Lane_change_direction']\n",
    "\n",
    "    for col in col_list:\n",
    "        sec2.rename({col:f'LV2_{col}'}, axis = 1, inplace = True)\n",
    "        sec2.rename({f'LV_{col}' : col}, axis = 1, inplace = True)\n",
    "        sec2.rename({f'LV2_{col}':f'LV_{col}'}, axis = 1, inplace = True)\n",
    "\n",
    "    sec2.rename({'V_len' : 'LV_len', 'V_wid' : 'LV_wid', 'LV_wid' : 'V_wid', 'LV_len' : 'V_len'}, axis = 1, inplace = True)\n",
    "\n",
    "    sample = pd.concat([sec1, sec2])\n",
    "    #sample = sample.sort_values(by = ['frm']).drop_duplicates(['frm'])\n",
    "    sample = sample.reset_index(drop = True)\n",
    "\n",
    "    ## 대상차량 궤적 표시\n",
    "    V_x = np.array(sample['local_x'])\n",
    "    V_y = np.array(sample['local_y'])\n",
    "    V_time = np.array(sample['Time'])\n",
    "\n",
    "    V_vx = np.array(sample['velocity_x'])\n",
    "    V_vy = np.array(sample['velocity_y'])\n",
    "    \n",
    "    test = px.colors.sequential.Turbo[::-1]\n",
    "    gradient_list = np.array(test)\n",
    "\n",
    "    ## 선행차량 궤적 표시\n",
    "    LV_x = np.array(sample['LV_local_x'])\n",
    "    LV_y = np.array(sample['LV_local_y'])\n",
    "\n",
    "    LV_vx = np.array(sample['LV_velocity_x'])\n",
    "    LV_vy = np.array(sample['LV_velocity_y'])\n",
    "\n",
    "\n",
    "    # 차량 사이즈\n",
    "    V_len = sample[sample['veh_id'] == Vehicle_ID]['V_len'].iloc[0]\n",
    "    V_wid = sample[sample['veh_id'] == Vehicle_ID]['V_wid'].iloc[0]\n",
    "    LV_len = sample[sample['LV_ID'] == LV_ID]['LV_len'].iloc[0]\n",
    "    LV_wid = sample[sample['LV_ID'] == LV_ID]['LV_wid'].iloc[0]\n",
    "\n",
    "    # 서브플롯 생성\n",
    "    for row in range(0, row_num):\n",
    "        globals()[f'ax_{row}_0'] = fig.add_subplot(gs[row, 0]) # row행 col열에 서브플롯 생성\n",
    "        globals()[f'ax_{row}_0'].set_xlim(25, 250) # 가로축 통일\n",
    "\n",
    "    # 첫 플롯에만 백그라운드 궤적 생성하기\n",
    "\n",
    "    globals()[f'ax_0_0'].plot(V_x, V_y, c = 'blue', linewidth = 1, alpha = 0.5)\n",
    "    globals()[f'ax_0_0'].plot(LV_x, LV_y, c = 'black', linewidth = 1, alpha = 0.5)\n",
    "\n",
    "    # globals()[f'ax_0_0'].scatter(V_x, V_y, c = 'lightgray', marker = 'o', s = scatter_size/4)\n",
    "    # globals()[f'ax_0_0'].scatter(LV_x, LV_y, c = 'lightgray', marker = '^', s = scatter_size/4)\n",
    "\n",
    "    globals()[f'ax_0_0'].axis('equal')\n",
    "    globals()[f'ax_0_0'].set_xlim(25, 250) # 가로축 통일\n",
    "    globals()[f'ax_0_0'].set_ylim(0, 30)\n",
    "    globals()[f'ax_0_0'].set_ylabel('Y (m)', size = 9)\n",
    "\n",
    "\n",
    "    # 가장 위 플롯에만 1초 간격으로 연결하기, 차량의 상대적 위치 표시하기\n",
    "\n",
    "    V_time = np.array(sample['Time'])\n",
    "    V_time_label = np.array((sample['Time'] - np.nanmin(V_time)).round(2))\n",
    "\n",
    "    time_min = math.ceil(np.nanmin(V_time_label))\n",
    "    time_max = math.floor(np.nanmax(V_time_label))\n",
    "    \n",
    "    time_list = [0.1] + list(range(1, time_max+1)) #  + [np.nanmax(V_time_label)]\n",
    "\n",
    "    for i, ikk in zip(time_list, range(len(time_list))):\n",
    "\n",
    "        # t == i일때의 인덱스 반환 \n",
    "        if len(np.where(V_time_label == i)[0]) > 0:\n",
    "            idx = np.where(V_time_label == i)[0][0]\n",
    "            #print(np.where(V_time_label == i)[0], i, idx)\n",
    "            #print(i, idx)\n",
    "            gradient = gradient_list[ikk]\n",
    "            #lobals()[f'ax_0_0'].plot([V_x[idx], LV_x[idx]], [V_y[idx], LV_y[idx]], c = gradient, linewidth = 0.5)\n",
    "\n",
    "            local_x = V_x[idx]\n",
    "            LV_local_x = LV_x[idx]\n",
    "\n",
    "            local_y = V_y[idx]\n",
    "            LV_local_y = LV_y[idx]\n",
    "\n",
    "            V_velocity_x = V_vx[idx]\n",
    "            V_velocity_y = V_vy[idx]\n",
    "\n",
    "            LV_velocity_x = LV_vx[idx]\n",
    "            LV_velocity_y = LV_vy[idx]\n",
    "            \n",
    "            \n",
    "            \n",
    "            #print(local_y, LV_local_y, local_x, LV_local_x)\n",
    "            # 차량의 상대적 위치관계를 직선으로 연결하고, t = x 를 화살표로 표시하기\n",
    "\n",
    "            if round(i)%2 == 0 : # i가 짝수이면 위에 notation\n",
    "                globals()[f'ax_0_0'].annotate(f't={round(i)}', \n",
    "                            xy = (V_x[idx], V_y[idx]), \n",
    "                            xytext = (V_x[idx]+5, V_y[idx]+15), color = gradient,\n",
    "                            arrowprops = dict(facecolor = gradient, arrowstyle = '-|>', linestyle = ':', edgecolor = gradient))\n",
    "\n",
    "                globals()[f'ax_0_0'].annotate(f'', \n",
    "                            xy = (LV_x[idx], LV_y[idx]), \n",
    "                            xytext = (V_x[idx]+7, V_y[idx]+12), color = gradient,\n",
    "                            arrowprops = dict(facecolor = gradient, arrowstyle = '-|>', linestyle = ':', edgecolor = gradient))\n",
    "\n",
    "            else: #i가 홀수이면\n",
    "                globals()[f'ax_0_0'].annotate(f't={round(i)}', \n",
    "                            xy = (V_x[idx], V_y[idx]), \n",
    "                            xytext = (V_x[idx]+13, V_y[idx]-15), color = gradient,\n",
    "                            arrowprops = dict(facecolor = gradient, arrowstyle = '-|>', linestyle = ':', edgecolor = gradient))\n",
    "\n",
    "                globals()[f'ax_0_0'].annotate(f'', \n",
    "                            xy = (LV_x[idx], LV_y[idx]), \n",
    "                            xytext = (V_x[idx]+20, V_y[idx]-12), color = gradient,\n",
    "                            arrowprops = dict(facecolor = gradient, arrowstyle = '-|>', linestyle = ':', edgecolor = gradient))\n",
    "\n",
    "\n",
    "            ## 각 t = x 점에서 차량의 위치를 선으로 그리기\n",
    "\n",
    "            #print(i, idx, V_velocity_x, LV_velocity_x)\n",
    "\n",
    "            if pd.isna(V_velocity_x) == False and pd.isna(LV_velocity_x) == False:\n",
    "                \n",
    "                r1 = patches.Rectangle((local_x-1/2*V_len, local_y-1/2*V_wid), V_len, V_wid, color = gradient, alpha = 1) # TV 위치\n",
    "                r2 = patches.Rectangle((LV_local_x-1/2*LV_len, LV_local_y-1/2*V_wid), LV_len, LV_wid, color = gradient,  alpha = 1)\n",
    "                \n",
    "                rotate_angle_1 = math.atan(V_velocity_y/V_velocity_x)\n",
    "                rotate_angle_2 = math.atan(LV_velocity_y/LV_velocity_x)\n",
    "                \n",
    "                if V_velocity_y >= 0:\n",
    "                    sign_1 = 1\n",
    "                else:\n",
    "                    sign_1 = -1\n",
    "                    \n",
    "                if LV_velocity_y >= 0:\n",
    "                    sign_2 = 1\n",
    "                else:\n",
    "                    sign_2 = -1\n",
    "                \n",
    "                t1 = mpl.transforms.Affine2D().rotate_deg(sign_1 * rotate_angle_1) + globals()[f'ax_0_0'].transData\n",
    "                r1.set_transform(t1)\n",
    "                \n",
    "                t2 = mpl.transforms.Affine2D().rotate_deg(sign_2 * rotate_angle_2) + globals()[f'ax_0_0'].transData\n",
    "                r2.set_transform(t2)\n",
    "                \n",
    "                globals()[f'ax_0_0'].add_patch(r1)\n",
    "                globals()[f'ax_0_0'].add_patch(r2)\n",
    "                \n",
    "                if local_y > LV_local_y: # 만약 TV가 LV보다 위에 있으면                \n",
    "                    globals()[f'ax_0_0'].text(local_x, local_y+3, 'V1', color = 'black', size = 8)\n",
    "                    globals()[f'ax_0_0'].text(LV_local_x, LV_local_y-7, 'V2', color = 'black', size = 8)\n",
    "                    \n",
    "                else:\n",
    "                    globals()[f'ax_0_0'].text(local_x, local_y-7, 'V1', color = 'black', size = 8)\n",
    "                    globals()[f'ax_0_0'].text(LV_local_x, LV_local_y+3, 'V2', color = 'black', size = 8)\n",
    "\n",
    "            else:\n",
    "                pass\n",
    "        \n",
    "        else:\n",
    "            pass\n",
    "\n",
    "    ## -----------------------------------------------------------------------------------------------\n",
    "\n",
    "    # 두 번째 플롯에 상대거리(D), 상충유형, LC-CF 추가하기\n",
    "    D = abs(sample['D'])\n",
    "    globals()[f'ax_1_0'].set_title(f'Distance between vehicle pair', size = 9)\n",
    "    globals()[f'ax_1_0'].scatter(V_x, D, marker = 'o', color = 'gray', s = scatter_size/4)\n",
    "    globals()[f'ax_1_0'].set_ylabel('Gap distance(m)', size = 9)\n",
    "    \n",
    "    for conftype, clr in zip(['rear_end', 'side_swipe', 'angled'], ['blue', 'red', 'orange']):\n",
    "        tick = sample[(sample['potential_conflict_type'] == conftype)]\n",
    "        tick_D = tick['D']\n",
    "        tick_x = tick['local_x']\n",
    "        globals()[f'ax_1_0'].scatter(tick_x, tick_D, marker = 'o', color = clr, s = scatter_size/4, label = conftype)\n",
    "        #globals()[f'ax_1_0'].legend(loc = 'upper right')\n",
    "    \n",
    "    #globals()[f'ax_1_0'].legend(loc = 'upper right', fontsize = 8)\n",
    "    globals()[f'ax_1_0'].set_ylim(0, np.nanmax(D)+10) # 세로축 통일\n",
    "    \n",
    "    \n",
    "    \n",
    "    ##-----------------------------------------------------------------------------------------------\n",
    "    # 세번째 플롯에 두 차량의 속도와 LC-CF를 표기하기\n",
    "    \n",
    "    globals()[f'ax_2_0'].set_title(f'Velocity of vehicle pair', size = 9)\n",
    "    \n",
    "    for LC_CF, clr in zip(['CF', 'LC'], ['blue', 'skyblue']): # LC_CF에 따라서 다른 마커모양을 적용하시오\n",
    "        tick = sample[sample['LC_CF'] == LC_CF]\n",
    "        tick_V_x = tick['local_x']\n",
    "        tick_V_v = tick['velocity_x']\n",
    "    \n",
    "        globals()[f'ax_2_0'].scatter(tick_V_x, tick_V_v, marker = 'x', color = clr, s = scatter_size/2, label = 'V1')\n",
    "        \n",
    "    for LC_CF, clr in zip(['CF', 'LC'], ['gray', 'lightgray']): # LC_CF에 따라서 다른 마커모양을 적용하시오\n",
    "        tick = sample[sample['LV_LC_CF'] == LC_CF]\n",
    "        tick_LV_x = tick['LV_local_x']\n",
    "        tick_LV_v = tick['LV_velocity_x']\n",
    "    \n",
    "        globals()[f'ax_2_0'].scatter(tick_LV_x, tick_LV_v, marker = 'o', color = clr, s = scatter_size/2, label = 'V2')\n",
    "    \n",
    "    globals()[f'ax_2_0'].set_ylim(50, 130) # 가로축 통일\n",
    "    globals()[f'ax_2_0'].set_ylabel('Speed(km/h)', size = 9)\n",
    "    \n",
    "    \n",
    "    ## ------------------------------------------------------------------------------------------------\n",
    "    # 각 SSM을 그리기 : 각 행별로\n",
    "\n",
    "    ## Time-based\n",
    "\n",
    "    for SSM, row in zip(target_SSM_list, range(0, row_num)): # Time-based 면 1행에 집어넣는다\n",
    "\n",
    "        tdx = np.where(threshold_list == SSM)[0][0]\n",
    "        threshold = threshold_list[tdx][1]\n",
    "\n",
    "        V_ssm = np.array(sample[SSM])\n",
    "        \n",
    "        if len(V_ssm[np.isnan(V_ssm) == False]) > 0: # SSM 값이 최소 1개 이상 존재하면\n",
    "\n",
    "\n",
    "            # SSM 값에 따른 색상스케일 설정\n",
    "            ## 임계값이 존재하고, 값이 0 이상이며, 임계값보다 작을수록 위험할 시\n",
    "            if SSM in ['TTC', 'T2', 'MTTC', 'ACT', 'TAdv', 'TimeGap']:\n",
    "                divnorm = colors.TwoSlopeNorm(vmin = 0, vcenter = threshold, vmax = 10)\n",
    "                globals()[f'ax_{row+3}_0'].set_title(f'[{SSM}] Threshold : {threshold}', size = 9) # , The lower the value, the higher the risk\n",
    "                #globals()[f'ax_{row+3}_0'].axhspan(0, threshold, alpha = 0.1, color = 'gray')\n",
    "\n",
    "                globals()[f'ax_{row+3}_0'].scatter(V_x, V_ssm, c = V_ssm, \n",
    "                marker = 'o', edgecolor = 'gray', linewidth = 0.5,  s = scatter_size,\n",
    "                       cmap = 'RdBu', norm = divnorm,\n",
    "                       label = 'Following Vehicle')\n",
    "                \n",
    "                globals()[f'ax_{row+3}_0'].set_ylim([0, 10])\n",
    "\n",
    "\n",
    "                # 임계값 아래인 지점에는 붉은색 X표시를 하기\n",
    "                danger_V_x = np.array(sample[sample[SSM] < threshold]['local_x'])\n",
    "                danger_V_ssm = np.array(sample[sample[SSM] < threshold][SSM])\n",
    "                \n",
    "                for dvx in danger_V_x:\n",
    "                    globals()[f'ax_{row+3}_0'].axvspan(dvx-0.5, dvx+0.5, color = 'red', alpha = 0.1)\n",
    "                    \n",
    "                globals()[f'ax_{row+3}_0'].scatter(danger_V_x, danger_V_ssm, marker = 'x', c = danger_V_ssm, cmap = 'RdBu', norm = divnorm, s = 20, label = 'Danger')\n",
    "                \n",
    "                \n",
    "            elif SSM in ['PSD']:\n",
    "                divnorm = colors.TwoSlopeNorm(vmin = 0, vcenter = threshold, vmax = 2)\n",
    "                globals()[f'ax_{row+3}_0'].set_title(f'[{SSM}] Threshold : {threshold}', size = 9) # , The lower the value, the higher the risk\n",
    "                #globals()[f'ax_{row+3}_0'].axhspan(0, threshold, alpha = 0.1, color = 'gray')\n",
    "\n",
    "                globals()[f'ax_{row+3}_0'].scatter(V_x, V_ssm, c = V_ssm, \n",
    "                marker = 'o', edgecolor = 'gray', linewidth = 0.5,  s = scatter_size,\n",
    "                       cmap = 'RdBu', norm = divnorm,\n",
    "                       label = 'Following Vehicle')\n",
    "                \n",
    "                globals()[f'ax_{row+3}_0'].set_ylim([0, 2])\n",
    "\n",
    "\n",
    "                # 임계값 아래인 지점에는 붉은색 X표시를 하기\n",
    "                danger_V_x = np.array(sample[sample[SSM] < threshold]['local_x'])\n",
    "                danger_V_ssm = np.array(sample[sample[SSM] < threshold][SSM])\n",
    "                \n",
    "                for dvx in danger_V_x:\n",
    "                    globals()[f'ax_{row+3}_0'].axvspan(dvx-0.5, dvx+0.5, color = 'red', alpha = 0.1)\n",
    "                    \n",
    "                globals()[f'ax_{row+3}_0'].scatter(danger_V_x, danger_V_ssm, marker = 'x', c = danger_V_ssm, cmap = 'RdBu', norm = divnorm, s = 20, label = 'Danger')\n",
    "                \n",
    "\n",
    "            ## 임계값이 있고, 바닥이 없으며, 임계값보다 작을수록 위험할 시\n",
    "            elif SSM in ['PICUD', 'DSS', 'MTC', 'MMTC', 'unsafety']:\n",
    "                divnorm = colors.TwoSlopeNorm(vmin = np.nanmin([-1, np.nanmin(V_ssm)]), vcenter = threshold, vmax = np.nanmax([2, np.nanmax(V_ssm)]))\n",
    "                globals()[f'ax_{row+3}_0'].set_title(f'[{SSM}] Threshold : {threshold}', size = 9) # , The lower the value, the higher the risk\n",
    "                #globals()[f'ax_{row+3}_0'].axhspan(threshold, np.min([-1, np.nanmin(V_ssm)]), alpha = 0.1, color = 'gray')\n",
    "\n",
    "                globals()[f'ax_{row+3}_0'].scatter(V_x, V_ssm, c = V_ssm, \n",
    "                marker = 'o', edgecolor = 'gray', linewidth = 0.5,  s = scatter_size,\n",
    "                       cmap = 'RdBu', norm = divnorm,\n",
    "                       label = 'Following Vehicle')\n",
    "\n",
    "                    \n",
    "                # 임계값 아래인 지점에는 붉은색 X표시를 하기\n",
    "                danger_V_x = np.array(sample[sample[SSM] < threshold]['local_x'])\n",
    "                danger_V_ssm = np.array(sample[sample[SSM] < threshold][SSM])\n",
    "                \n",
    "                for dvx in danger_V_x:\n",
    "                    globals()[f'ax_{row+3}_0'].axvspan(dvx-0.5, dvx+0.5, color = 'red', alpha = 0.1)                \n",
    "\n",
    "                globals()[f'ax_{row+3}_0'].scatter(danger_V_x, danger_V_ssm, marker = 'x', c = danger_V_ssm, cmap = 'RdBu', norm = divnorm, s = 20, label = 'Danger')\n",
    "                \n",
    "\n",
    "            ## 임계값이 있고, 이보다 클수록 위험할 경우\n",
    "            elif SSM in ['DRAC', 'MDRAC', 'DCIA']:\n",
    "                divnorm = colors.TwoSlopeNorm(vmin = np.nanmin([0, np.nanmin(V_ssm)]), vcenter = threshold, vmax = threshold + 5)\n",
    "                globals()[f'ax_{row+3}_0'].set_title(f'[{SSM}] Threshold : {threshold}', size = 9) #, The higher the value, the higher the risk'\n",
    "                #globals()[f'ax_{row+3}_0'].axhspan(threshold, np.nanmax([np.nanmax(V_ssm), 5]), alpha = 0.1, color = 'gray')\n",
    "\n",
    "                globals()[f'ax_{row+3}_0'].scatter(V_x, V_ssm, c = V_ssm, \n",
    "                marker = 'o', edgecolor = 'gray', linewidth = 0.5,  s = scatter_size,\n",
    "                       cmap = 'coolwarm', norm = divnorm,\n",
    "                       label = 'Following Vehicle')\n",
    "\n",
    "                    \n",
    "                # 임계값 위인 지점에는 붉은색 X표시를 하기\n",
    "                danger_V_x = np.array(sample[sample[SSM] > threshold]['local_x'])\n",
    "                danger_V_ssm = np.array(sample[sample[SSM] > threshold][SSM])\n",
    "                \n",
    "                for dvx in danger_V_x:\n",
    "                    globals()[f'ax_{row+3}_0'].axvspan(dvx-0.5, dvx+0.5, color = 'red', alpha = 0.1)    \n",
    "                    \n",
    "                globals()[f'ax_{row+3}_0'].scatter(danger_V_x, danger_V_ssm, marker = 'x', c = danger_V_ssm, cmap = 'coolwarm', norm = divnorm, s = 20, label = 'Danger')\n",
    "\n",
    "\n",
    "            ## 그 외\n",
    "            else:\n",
    "                divnorm = colors.TwoSlopeNorm(vmin = np.nanmin([0, np.nanmin(V_ssm)]), vcenter = threshold, vmax = threshold + 5)\n",
    "\n",
    "                globals()[f'ax_{row+3}_0'].scatter(V_x, V_ssm, c = V_ssm, \n",
    "                marker = 'o', edgecolor = 'gray', linewidth = 0.5,  s = scatter_size,\n",
    "                       cmap = 'turbo', norm = divnorm,\n",
    "                       label = 'Following Vehicle')\n",
    "\n",
    "\n",
    "            # 플롯에 축 설정\n",
    "            globals()[f'ax_{row+3}_0'].set_ylabel(SSM, size = 8)\n",
    "\n",
    "            # 플롯에 임계값을 가로선으로 그려준다\n",
    "            globals()[f'ax_{row+3}_0'].axhline(y = threshold, color = 'red', linestyle = '--', linewidth = 0.5, label = f'Threshold = {threshold}')\n",
    "            #globals()[f'ax_{row+1}_0'].text(30, np.nanmean([np.nanmin([0, np.nanmin(V_ssm)]), np.nanmax(V_ssm)]), f'Threshold : {threshold}', color = 'red', size = 8)\n",
    "            \n",
    "            #globals()[f'ax_{row+1}_0'].legend([], [f'Threshold : {threshold}'],loc = 'upper right', fontsize = 8)\n",
    "            \n",
    "        else: # SSM 값이 하나도 없으면\n",
    "            globals()[f'ax_{row+3}_0'].set_title(f'[{SSM}] Threshold : {threshold}', size = 9) #, The higher the value, the higher the risk'\n",
    "            globals()[f'ax_{row+3}_0'].set_ylabel(SSM, size = 8)\n",
    "            globals()[f'ax_{row+3}_0'].text(130, 0.4, 'None', color = 'black', size = 8)\n",
    "\n",
    "\n",
    "    # 가장 아래에 X(m) 라고 거리 표시\n",
    "    globals()[f'ax_{row_num-1}_0'].set_xlabel('X (m)', size = 9)\n",
    "    \n",
    "    \n",
    "    \n",
    "    ## ----------------------------------------------------------------------\n",
    "    #이미지 저장하기\n",
    "    \n",
    "    save_file = f'merging_{Vehicle_ID}_{LV_ID}_{title}.png'\n",
    "    save_folder = 'Dataset/04_graph'\n",
    "    save_path = os.path.join(working_dir, save_folder, save_file)\n",
    "    \n",
    "    plt.savefig(save_path, dpi = 300)"
   ]
  }
 ],
 "metadata": {
  "kernelspec": {
   "display_name": "Python 3 (ipykernel)",
   "language": "python",
   "name": "python3"
  },
  "language_info": {
   "codemirror_mode": {
    "name": "ipython",
    "version": 3
   },
   "file_extension": ".py",
   "mimetype": "text/x-python",
   "name": "python",
   "nbconvert_exporter": "python",
   "pygments_lexer": "ipython3",
   "version": "3.8.18"
  }
 },
 "nbformat": 4,
 "nbformat_minor": 5
}
