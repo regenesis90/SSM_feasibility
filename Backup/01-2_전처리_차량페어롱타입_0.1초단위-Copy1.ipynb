{
 "cells": [
  {
   "cell_type": "markdown",
   "id": "86671937-3fc4-491a-8b3d-e230d658229a",
   "metadata": {},
   "source": [
    "# Longtype\n",
    "* 차량 쌍(TV, LV) 기준으로 정리하기\n",
    "* 왜냐하면, 각 쌍별로 SSM이 계산되기 때문임"
   ]
  },
  {
   "cell_type": "markdown",
   "id": "7296ec39-7aba-465c-b204-22e70c86aaf3",
   "metadata": {},
   "source": [
    "# Import"
   ]
  },
  {
   "cell_type": "code",
   "execution_count": 12,
   "id": "617b939a-52ee-4b0b-aca0-e4281b4478d0",
   "metadata": {
    "execution": {
     "iopub.execute_input": "2023-07-01T01:33:47.787921Z",
     "iopub.status.busy": "2023-07-01T01:33:47.787921Z",
     "iopub.status.idle": "2023-07-01T01:33:47.803878Z",
     "shell.execute_reply": "2023-07-01T01:33:47.802908Z",
     "shell.execute_reply.started": "2023-07-01T01:33:47.787921Z"
    },
    "tags": []
   },
   "outputs": [],
   "source": [
    "import pandas as pd\n",
    "import numpy as np\n",
    "\n",
    "from tqdm import tqdm\n",
    "import warnings\n",
    "import os\n",
    "\n",
    "from scipy import stats # Z-score를 이용한 이상값 제거\n",
    "\n",
    "import math # arctangent; math.atan 사용 목적\n",
    "import statistics"
   ]
  },
  {
   "cell_type": "markdown",
   "id": "b3d84bf7-ac0f-456a-9650-c0b846280279",
   "metadata": {},
   "source": [
    "# Load Dataset"
   ]
  },
  {
   "cell_type": "code",
   "execution_count": 13,
   "id": "025f8acc-6100-48d1-89e7-5a7d87c9512a",
   "metadata": {
    "execution": {
     "iopub.execute_input": "2023-07-01T01:33:47.804875Z",
     "iopub.status.busy": "2023-07-01T01:33:47.804875Z",
     "iopub.status.idle": "2023-07-01T01:33:47.818866Z",
     "shell.execute_reply": "2023-07-01T01:33:47.818866Z",
     "shell.execute_reply.started": "2023-07-01T01:33:47.804875Z"
    },
    "tags": []
   },
   "outputs": [],
   "source": [
    "working_dir = 'D:/OneDrive - 연세대학교 (Yonsei University)/Projects/Yonsei_TELab/011_SSM실증분석_230315-/Dataset/'"
   ]
  },
  {
   "cell_type": "code",
   "execution_count": 14,
   "id": "62b2f8e8-ebe2-478b-b9d7-26ce8addf72b",
   "metadata": {
    "execution": {
     "iopub.execute_input": "2023-07-01T01:33:47.820833Z",
     "iopub.status.busy": "2023-07-01T01:33:47.819835Z",
     "iopub.status.idle": "2023-07-01T01:33:47.834796Z",
     "shell.execute_reply": "2023-07-01T01:33:47.833827Z",
     "shell.execute_reply.started": "2023-07-01T01:33:47.820833Z"
    },
    "tags": []
   },
   "outputs": [],
   "source": [
    "data_folder = '02_processed'\n",
    "data_name = 'merging_type1_03frm_0.10sec.csv'\n",
    "data_path = os.path.join(working_dir, data_folder, data_name)"
   ]
  },
  {
   "cell_type": "code",
   "execution_count": 15,
   "id": "b14ad73e-a5d5-4511-9953-071232f04b34",
   "metadata": {
    "execution": {
     "iopub.execute_input": "2023-07-01T01:33:47.835793Z",
     "iopub.status.busy": "2023-07-01T01:33:47.834796Z",
     "iopub.status.idle": "2023-07-01T01:33:49.315988Z",
     "shell.execute_reply": "2023-07-01T01:33:49.315988Z",
     "shell.execute_reply.started": "2023-07-01T01:33:47.835793Z"
    },
    "tags": []
   },
   "outputs": [],
   "source": [
    "df = pd.read_csv(data_path, encoding = 'cp949')"
   ]
  },
  {
   "cell_type": "code",
   "execution_count": 16,
   "id": "26f65374-eb88-4a17-b912-8cc17299a1ab",
   "metadata": {
    "execution": {
     "iopub.execute_input": "2023-07-01T01:33:49.318181Z",
     "iopub.status.busy": "2023-07-01T01:33:49.317183Z",
     "iopub.status.idle": "2023-07-01T01:33:49.348450Z",
     "shell.execute_reply": "2023-07-01T01:33:49.347323Z",
     "shell.execute_reply.started": "2023-07-01T01:33:49.318181Z"
    },
    "tags": []
   },
   "outputs": [
    {
     "data": {
      "text/html": [
       "<div>\n",
       "<style scoped>\n",
       "    .dataframe tbody tr th:only-of-type {\n",
       "        vertical-align: middle;\n",
       "    }\n",
       "\n",
       "    .dataframe tbody tr th {\n",
       "        vertical-align: top;\n",
       "    }\n",
       "\n",
       "    .dataframe thead th {\n",
       "        text-align: right;\n",
       "    }\n",
       "</style>\n",
       "<table border=\"1\" class=\"dataframe\">\n",
       "  <thead>\n",
       "    <tr style=\"text-align: right;\">\n",
       "      <th></th>\n",
       "      <th>Unnamed: 0</th>\n",
       "      <th>Vehicle ID</th>\n",
       "      <th>frame</th>\n",
       "      <th>Total Frames</th>\n",
       "      <th>Global Time (Epoch Time)</th>\n",
       "      <th>local_x</th>\n",
       "      <th>local_y</th>\n",
       "      <th>V_len</th>\n",
       "      <th>V_wid</th>\n",
       "      <th>Vehicle Class</th>\n",
       "      <th>...</th>\n",
       "      <th>LVL_rel_velocity</th>\n",
       "      <th>LVL_rel_acc_x</th>\n",
       "      <th>LVL_rel_acc_y</th>\n",
       "      <th>LVL_rel_acc</th>\n",
       "      <th>LVR_rel_velocity_x</th>\n",
       "      <th>LVR_rel_velocity_y</th>\n",
       "      <th>LVR_rel_velocity</th>\n",
       "      <th>LVR_rel_acc_x</th>\n",
       "      <th>LVR_rel_acc_y</th>\n",
       "      <th>LVR_rel_acc</th>\n",
       "    </tr>\n",
       "  </thead>\n",
       "  <tbody>\n",
       "    <tr>\n",
       "      <th>0</th>\n",
       "      <td>0</td>\n",
       "      <td>1</td>\n",
       "      <td>339</td>\n",
       "      <td>39</td>\n",
       "      <td>46811300</td>\n",
       "      <td>51.067703</td>\n",
       "      <td>10.614471</td>\n",
       "      <td>5.288548</td>\n",
       "      <td>2.192813</td>\n",
       "      <td>2</td>\n",
       "      <td>...</td>\n",
       "      <td>NaN</td>\n",
       "      <td>NaN</td>\n",
       "      <td>NaN</td>\n",
       "      <td>NaN</td>\n",
       "      <td>NaN</td>\n",
       "      <td>NaN</td>\n",
       "      <td>NaN</td>\n",
       "      <td>NaN</td>\n",
       "      <td>NaN</td>\n",
       "      <td>NaN</td>\n",
       "    </tr>\n",
       "    <tr>\n",
       "      <th>1</th>\n",
       "      <td>1</td>\n",
       "      <td>1</td>\n",
       "      <td>342</td>\n",
       "      <td>42</td>\n",
       "      <td>46811400</td>\n",
       "      <td>53.541672</td>\n",
       "      <td>10.643722</td>\n",
       "      <td>5.288548</td>\n",
       "      <td>2.192813</td>\n",
       "      <td>2</td>\n",
       "      <td>...</td>\n",
       "      <td>NaN</td>\n",
       "      <td>NaN</td>\n",
       "      <td>NaN</td>\n",
       "      <td>NaN</td>\n",
       "      <td>NaN</td>\n",
       "      <td>NaN</td>\n",
       "      <td>NaN</td>\n",
       "      <td>NaN</td>\n",
       "      <td>NaN</td>\n",
       "      <td>NaN</td>\n",
       "    </tr>\n",
       "    <tr>\n",
       "      <th>2</th>\n",
       "      <td>2</td>\n",
       "      <td>1</td>\n",
       "      <td>345</td>\n",
       "      <td>45</td>\n",
       "      <td>46811500</td>\n",
       "      <td>55.993866</td>\n",
       "      <td>10.646164</td>\n",
       "      <td>5.288548</td>\n",
       "      <td>2.192813</td>\n",
       "      <td>2</td>\n",
       "      <td>...</td>\n",
       "      <td>NaN</td>\n",
       "      <td>NaN</td>\n",
       "      <td>NaN</td>\n",
       "      <td>NaN</td>\n",
       "      <td>NaN</td>\n",
       "      <td>NaN</td>\n",
       "      <td>NaN</td>\n",
       "      <td>NaN</td>\n",
       "      <td>NaN</td>\n",
       "      <td>NaN</td>\n",
       "    </tr>\n",
       "  </tbody>\n",
       "</table>\n",
       "<p>3 rows × 248 columns</p>\n",
       "</div>"
      ],
      "text/plain": [
       "   Unnamed: 0  Vehicle ID  frame  Total Frames  Global Time (Epoch Time)  \\\n",
       "0           0           1    339            39                  46811300   \n",
       "1           1           1    342            42                  46811400   \n",
       "2           2           1    345            45                  46811500   \n",
       "\n",
       "     local_x    local_y     V_len     V_wid  Vehicle Class  ...  \\\n",
       "0  51.067703  10.614471  5.288548  2.192813              2  ...   \n",
       "1  53.541672  10.643722  5.288548  2.192813              2  ...   \n",
       "2  55.993866  10.646164  5.288548  2.192813              2  ...   \n",
       "\n",
       "   LVL_rel_velocity  LVL_rel_acc_x LVL_rel_acc_y  LVL_rel_acc  \\\n",
       "0               NaN            NaN           NaN          NaN   \n",
       "1               NaN            NaN           NaN          NaN   \n",
       "2               NaN            NaN           NaN          NaN   \n",
       "\n",
       "   LVR_rel_velocity_x  LVR_rel_velocity_y  LVR_rel_velocity  LVR_rel_acc_x  \\\n",
       "0                 NaN                 NaN               NaN            NaN   \n",
       "1                 NaN                 NaN               NaN            NaN   \n",
       "2                 NaN                 NaN               NaN            NaN   \n",
       "\n",
       "   LVR_rel_acc_y LVR_rel_acc  \n",
       "0            NaN         NaN  \n",
       "1            NaN         NaN  \n",
       "2            NaN         NaN  \n",
       "\n",
       "[3 rows x 248 columns]"
      ]
     },
     "execution_count": 16,
     "metadata": {},
     "output_type": "execute_result"
    }
   ],
   "source": [
    "df.head(3)"
   ]
  },
  {
   "cell_type": "markdown",
   "id": "6662cda6-5058-49e2-ba15-65d886c0a92b",
   "metadata": {},
   "source": [
    "# Pairing\n",
    "* 차로를 막론하고, 모든 (타겟차량, 선행차량)의 페어링을 확보"
   ]
  },
  {
   "cell_type": "code",
   "execution_count": 17,
   "id": "ed6c8a09-ecb7-49b9-a720-b266fe03421a",
   "metadata": {
    "execution": {
     "iopub.execute_input": "2023-07-01T01:33:49.349577Z",
     "iopub.status.busy": "2023-07-01T01:33:49.348450Z",
     "iopub.status.idle": "2023-07-01T01:33:49.363175Z",
     "shell.execute_reply": "2023-07-01T01:33:49.363175Z",
     "shell.execute_reply.started": "2023-07-01T01:33:49.349577Z"
    },
    "tags": []
   },
   "outputs": [],
   "source": [
    "vehicle_list = list(df['Vehicle ID'].unique()) # 모든 타겟차량 리스트"
   ]
  },
  {
   "cell_type": "code",
   "execution_count": 18,
   "id": "4afd5ac3-b121-43f9-a090-7148446d216a",
   "metadata": {
    "execution": {
     "iopub.execute_input": "2023-07-01T01:33:49.365234Z",
     "iopub.status.busy": "2023-07-01T01:33:49.365234Z",
     "iopub.status.idle": "2023-07-01T01:33:49.741636Z",
     "shell.execute_reply": "2023-07-01T01:33:49.741636Z",
     "shell.execute_reply.started": "2023-07-01T01:33:49.365234Z"
    },
    "tags": []
   },
   "outputs": [],
   "source": [
    "pairs = []\n",
    "\n",
    "for veh in vehicle_list:\n",
    "    veh_df = df[df['Vehicle ID'] == veh] # 각 차량\n",
    "    \n",
    "    LV0_ID_list = list(veh_df['LV0_ID'].unique())\n",
    "    LVR_ID_list = list(veh_df['LVR_ID'].unique())\n",
    "    LVL_ID_list = list(veh_df['LVL_ID'].unique())\n",
    "    \n",
    "    for LV0_ID in LV0_ID_list:    \n",
    "        if pd.isna(LV0_ID) == False: # None 또는 np.NaN이 아니면 :: LV0이 있으면\n",
    "            pairs.append((veh, int(LV0_ID), 'LV0'))\n",
    "        else:\n",
    "            pass\n",
    "        \n",
    "    for LVR_ID in LVR_ID_list:    \n",
    "        if pd.isna(LVR_ID) == False: # None 또는 np.NaN이 아니면\n",
    "            pairs.append((veh, int(LVR_ID), 'LVR'))\n",
    "        else:\n",
    "            pass\n",
    "    \n",
    "    for LVL_ID in LVL_ID_list:    \n",
    "        if pd.isna(LVL_ID) == False: # None 또는 np.NaN이 아니면\n",
    "            pairs.append((veh, int(LVL_ID), 'LVL'))\n",
    "        else:\n",
    "            pass"
   ]
  },
  {
   "cell_type": "code",
   "execution_count": 21,
   "id": "172e12b0-2f65-4210-b5d7-5caf40f7c562",
   "metadata": {
    "execution": {
     "iopub.execute_input": "2023-07-01T01:34:44.784565Z",
     "iopub.status.busy": "2023-07-01T01:34:44.784565Z",
     "iopub.status.idle": "2023-07-01T01:34:44.801496Z",
     "shell.execute_reply": "2023-07-01T01:34:44.800499Z",
     "shell.execute_reply.started": "2023-07-01T01:34:44.784565Z"
    },
    "tags": []
   },
   "outputs": [
    {
     "data": {
      "text/plain": [
       "[(1542, 1538, 'LVR'),\n",
       " (1542, 1543, 'LVR'),\n",
       " (1542, 1539, 'LVL'),\n",
       " (1543, 1542, 'LVL'),\n",
       " (1543, 1539, 'LVL'),\n",
       " (1544, 1542, 'LV0'),\n",
       " (1544, 1543, 'LVR'),\n",
       " (1544, 1542, 'LVL'),\n",
       " (1544, 1539, 'LVL'),\n",
       " (1545, 1539, 'LV0'),\n",
       " (1545, 1544, 'LVR'),\n",
       " (1545, 1542, 'LVR'),\n",
       " (1545, 1539, 'LVL'),\n",
       " (1546, 1545, 'LV0'),\n",
       " (1546, 1539, 'LV0'),\n",
       " (1546, 1544, 'LVR'),\n",
       " (1546, 1545, 'LVR'),\n",
       " (1547, 1546, 'LVL'),\n",
       " (1550, 1545, 'LV0'),\n",
       " (1550, 1547, 'LVR')]"
      ]
     },
     "execution_count": 21,
     "metadata": {},
     "output_type": "execute_result"
    }
   ],
   "source": [
    "pairs[-100:-80]"
   ]
  },
  {
   "cell_type": "markdown",
   "id": "82b09190-eade-4e86-8d1e-c98b1701d145",
   "metadata": {},
   "source": [
    "# Longtype\n",
    "* pairs 리스트의 튜플(TV, LV)에 따라서 각 차량의 위치, 속도, 가속도 등을 df로부터 프레임별로 뽑아오기"
   ]
  },
  {
   "cell_type": "code",
   "execution_count": 22,
   "id": "8983fef4-af4e-454b-90c7-418978ad2a3b",
   "metadata": {
    "execution": {
     "iopub.execute_input": "2023-07-01T01:34:51.389756Z",
     "iopub.status.busy": "2023-07-01T01:34:51.389756Z",
     "iopub.status.idle": "2023-07-01T01:34:51.409226Z",
     "shell.execute_reply": "2023-07-01T01:34:51.409226Z",
     "shell.execute_reply.started": "2023-07-01T01:34:51.389756Z"
    },
    "tags": []
   },
   "outputs": [],
   "source": [
    "long = pd.DataFrame({\n",
    "    # 타겟 차량\n",
    "    'Vehicle ID': [], 'LV_ID': [], 'LV_type' : [], # LV_type : LV0, LVL, LVR 표시 \n",
    "    'frame' : [], 'local_x' : [], 'local_y' : [], 'V_len' : [], 'V_wid' : [],\n",
    "    'velocity' : [], 'acc' : [], 'Lane Identification' : [], 'Vehicle Movement' : [], 'Time' : [], \n",
    "    'Local X (m)_before' : [], 'Local Y(m)_before' : [], 'delta_local_x' : [], 'delta_local_y' : [],\n",
    "    'velocity_x' : [], 'velocity_y' : [], 'velocity_x_before' : [], 'velocity_y_before' : [], 'delta_velocity_x' : [], 'delta_velocity_y' : [],\n",
    "    'acc_x' : [], 'acc_y' : [], 'cell' : [],\n",
    "    'Lane Identification Past' : [], 'Lane_record' : [], 'Lane_record_split' : [], 'Lane_00' : [], 'Lane_99' : [], 'Lane_change' : [],\n",
    "    'Lane_leave' : [], 'Lane_change_direction' : [], 'LC_CF' : [],\n",
    "    \n",
    "    # 선행 차량\n",
    "    \n",
    "    'LV_local_x' : [], 'LV_local_y' : [], 'LV_len' : [], 'LV_wid' : [],\n",
    "    'LV_velocity' : [], 'LV_acc' : [], 'LV_Lane Identification' : [], 'LV_Vehicle Movement' : [], 'LV_Time' : [], \n",
    "    'LV_Local X (m)_before' : [], 'LV_Local Y(m)_before' : [], 'LV_delta_local_x' : [], 'LV_delta_local_y' : [],\n",
    "    'LV_velocity_x' : [], 'LV_velocity_y' : [], 'LV_velocity_x_before' : [], 'LV_velocity_y_before' : [], \n",
    "    'LV_delta_velocity_x' : [], 'LV_delta_velocity_y' : [],\n",
    "    'LV_acc_x' : [], 'LV_acc_y' : [], 'LV_cell' : [],\n",
    "    'LV_Lane Identification Past' : [], 'LV_Lane_record' : [], 'LV_Lane_record_split' : [], 'LV_Lane_00' : [], 'LV_Lane_99' : [], 'LV_Lane_change' : [],\n",
    "    'LV_Lane_leave' : [], 'LV_Lane_change_direction' : [],    \n",
    "    'LV_LC_CF' : []\n",
    "})"
   ]
  },
  {
   "cell_type": "code",
   "execution_count": 23,
   "id": "ed4e7998-8c6d-4cea-9aba-3c103aeeff04",
   "metadata": {
    "execution": {
     "iopub.execute_input": "2023-07-01T01:34:52.922470Z",
     "iopub.status.busy": "2023-07-01T01:34:52.922470Z",
     "iopub.status.idle": "2023-07-01T02:20:07.582731Z",
     "shell.execute_reply": "2023-07-01T02:20:07.581715Z",
     "shell.execute_reply.started": "2023-07-01T01:34:52.922470Z"
    },
    "tags": []
   },
   "outputs": [
    {
     "name": "stderr",
     "output_type": "stream",
     "text": [
      "100%|██████████████████████████████████████████████████████████████████████████████| 2188/2188 [45:14<00:00,  1.24s/it]\n"
     ]
    }
   ],
   "source": [
    "for pair in tqdm(pairs):\n",
    "    veh = pair[0]\n",
    "    LV = pair[1]\n",
    "    LV_type = pair[2]\n",
    "    \n",
    "    target_df = df[df['Vehicle ID'] == veh]\n",
    "    LV_df = df[df['Vehicle ID'] == LV]\n",
    "    \n",
    "    target_frames = list(target_df['frame'].unique()) # 타겟차량의 등장프레임\n",
    "    \n",
    "    for frm in target_frames: # 각 타겟 차량의 등장 프레임별로 레코드를 집어넣어야 한다\n",
    "        target_df_frm = target_df[target_df['frame'] == frm]\n",
    "        LV_df_frm = LV_df[LV_df['frame'] == frm]\n",
    "        \n",
    "        if len(LV_df_frm) > 0: # 해당 프레임에 선행차량이 있을 경우에만 행 추가\n",
    "\n",
    "            long_frm = pd.DataFrame({\n",
    "                # 타겟 차량정보\n",
    "                'Vehicle ID': [veh],\n",
    "                'LV_ID' : [LV],\n",
    "                'LV_type' : [LV_type], # LV_type : LV0, LVL, LVR 표시 \n",
    "                'frame' : [frm],\n",
    "                'local_x' : [target_df_frm['local_x'].iloc[0]],\n",
    "                'local_y' : [target_df_frm['local_y'].iloc[0]],\n",
    "                'V_len' : [target_df_frm['V_len'].iloc[0]], \n",
    "                'V_wid' : [target_df_frm['V_wid'].iloc[0]],\n",
    "                'velocity' : [target_df_frm['velocity'].iloc[0]], \n",
    "                'acc' : [target_df_frm['acc'].iloc[0]], \n",
    "                'Lane Identification' : [target_df_frm['Lane Identification'].iloc[0]], \n",
    "                'Vehicle Movement' : [target_df_frm['Vehicle Movement'].iloc[0]], \n",
    "                'Time' : [target_df_frm['Time'].iloc[0]], \n",
    "                'Local X (m)_before' : [target_df_frm['Local X (m)_before'].iloc[0]], \n",
    "                'Local Y(m)_before' : [target_df_frm['Local Y(m)_before'].iloc[0]], \n",
    "                'delta_local_x' : [target_df_frm['delta_local_x'].iloc[0]], \n",
    "                'delta_local_y' : [target_df_frm['delta_local_y'].iloc[0]],\n",
    "                'velocity_x' : [target_df_frm['velocity_x'].iloc[0]], \n",
    "                'velocity_y' : [target_df_frm['velocity_y'].iloc[0]], \n",
    "                'velocity_x_before' : [target_df_frm['velocity_x_before'].iloc[0]], \n",
    "                'velocity_y_before' : [target_df_frm['velocity_y_before'].iloc[0]], \n",
    "                'delta_velocity_x' : [target_df_frm['delta_velocity_x'].iloc[0]], \n",
    "                'delta_velocity_y' : [target_df_frm['delta_velocity_y'].iloc[0]],\n",
    "                'acc_x' : [target_df_frm['acc_x'].iloc[0]], \n",
    "                'acc_y' : [target_df_frm['acc_y'].iloc[0]], \n",
    "                'cell' : [target_df_frm['cell'].iloc[0]],\n",
    "                'Lane Identification Past' : [target_df_frm['Lane Identification Past'].iloc[0]], \n",
    "                'Lane_record' : [target_df_frm['Lane_record'].iloc[0]], \n",
    "                'Lane_record_split' : [target_df_frm['Lane_record_split'].iloc[0]], \n",
    "                'Lane_00' : [target_df_frm['Lane_00'].iloc[0]], \n",
    "                'Lane_99' : [target_df_frm['Lane_99'].iloc[0]], \n",
    "                'Lane_change' : [target_df_frm['Lane_change'].iloc[0]],\n",
    "                'Lane_leave' : [target_df_frm['Lane_leave'].iloc[0]], \n",
    "                'Lane_change_direction' : [target_df_frm['Lane_change_direction'].iloc[0]],\n",
    "                'LC_CF' : [target_df_frm['LC_CF'].iloc[0]],\n",
    "\n",
    "                # 선행 차량정보\n",
    "                'LV_local_x' : [LV_df_frm['local_x'].iloc[0]], \n",
    "                'LV_local_y' : [LV_df_frm['local_y'].iloc[0]], \n",
    "                'LV_len' : [LV_df_frm['V_len'].iloc[0]], \n",
    "                'LV_wid' : [LV_df_frm['V_wid'].iloc[0]],\n",
    "                'LV_velocity' : [LV_df_frm['velocity'].iloc[0]], \n",
    "                'LV_acc' : [LV_df_frm['acc'].iloc[0]], \n",
    "                'LV_Lane Identification' : [LV_df_frm['Lane Identification'].iloc[0]], \n",
    "                'LV_Vehicle Movement' : [LV_df_frm['Vehicle Movement'].iloc[0]], \n",
    "                'LV_Time' : [LV_df_frm['Time'].iloc[0]], \n",
    "                'LV_Local X (m)_before' : [LV_df_frm['Local X (m)_before'].iloc[0]], \n",
    "                'LV_Local Y(m)_before' : [LV_df_frm['Local Y(m)_before'].iloc[0]], \n",
    "                'LV_delta_local_x' : [LV_df_frm['delta_local_x'].iloc[0]], \n",
    "                'LV_delta_local_y' : [LV_df_frm['delta_local_y'].iloc[0]],\n",
    "                'LV_velocity_x' : [LV_df_frm['velocity_x'].iloc[0]], \n",
    "                'LV_velocity_y' : [LV_df_frm['velocity_y'].iloc[0]], \n",
    "                'LV_velocity_x_before' : [LV_df_frm['velocity_x_before'].iloc[0]], \n",
    "                'LV_velocity_y_before' : [LV_df_frm['velocity_y_before'].iloc[0]], \n",
    "                'LV_delta_velocity_x' : [LV_df_frm['delta_velocity_x'].iloc[0]], \n",
    "                'LV_delta_velocity_y' : [LV_df_frm['delta_velocity_y'].iloc[0]],\n",
    "                'LV_acc_x' : [LV_df_frm['acc_x'].iloc[0]], \n",
    "                'LV_acc_y' : [LV_df_frm['acc_y'].iloc[0]], \n",
    "                'LV_cell' : [LV_df_frm['cell'].iloc[0]],\n",
    "                'LV_Lane Identification Past' : [LV_df_frm['Lane Identification Past'].iloc[0]], \n",
    "                'LV_Lane_record' : [LV_df_frm['Lane_record'].iloc[0]], \n",
    "                'LV_Lane_record_split' : [LV_df_frm['Lane_record_split'].iloc[0]], \n",
    "                'LV_Lane_00' : [LV_df_frm['Lane_00'].iloc[0]], \n",
    "                'LV_Lane_99' : [LV_df_frm['Lane_99'].iloc[0]], \n",
    "                'LV_Lane_change' : [LV_df_frm['Lane_change'].iloc[0]],\n",
    "                'LV_Lane_leave' : [LV_df_frm['Lane_leave'].iloc[0]], \n",
    "                'LV_Lane_change_direction' : [LV_df_frm['Lane_change_direction'].iloc[0]],\n",
    "                'LV_LC_CF' : [LV_df_frm['LC_CF'].iloc[0]],\n",
    "            })\n",
    "\n",
    "            long = pd.concat([long, long_frm])\n",
    "            \n",
    "        else: # 해당 프레임에 선행차량이 없을 경우 패스해버림\n",
    "            pass\n",
    "\n",
    "# 모든 Iteration 돌고 난 뒤 long의 ID 열 타입 조정 : 정수화\n",
    "long['Vehicle ID'] = long['Vehicle ID'].astype('int')\n",
    "long['LV_ID'] = long['LV_ID'].astype('int')\n",
    "\n",
    "# 거리관련 변수\n",
    "long['D_x'] = long['LV_local_x'] - long['local_x']\n",
    "long['D_y'] = long['LV_local_y'] - long['local_y']\n",
    "long['D'] = (long['D_x']**2 + long['D_y']**2) ** (1/2)"
   ]
  },
  {
   "cell_type": "code",
   "execution_count": 37,
   "id": "5cca396a-1eb4-4530-a661-729879c8917a",
   "metadata": {
    "execution": {
     "iopub.execute_input": "2023-07-01T04:14:31.779932Z",
     "iopub.status.busy": "2023-07-01T04:14:31.778931Z",
     "iopub.status.idle": "2023-07-01T04:14:31.792513Z",
     "shell.execute_reply": "2023-07-01T04:14:31.791516Z",
     "shell.execute_reply.started": "2023-07-01T04:14:31.779932Z"
    },
    "tags": []
   },
   "outputs": [],
   "source": [
    "long.rename({'Lane Identification' : 'lane', 'LV_Lane Identification' : 'LV_lane'}, axis = 1, inplace = True)"
   ]
  },
  {
   "cell_type": "code",
   "execution_count": 38,
   "id": "f34c9397-f22c-40e3-92a9-5b25bb5dc476",
   "metadata": {
    "execution": {
     "iopub.execute_input": "2023-07-01T04:14:32.425790Z",
     "iopub.status.busy": "2023-07-01T04:14:32.424786Z",
     "iopub.status.idle": "2023-07-01T04:14:32.440266Z",
     "shell.execute_reply": "2023-07-01T04:14:32.437274Z",
     "shell.execute_reply.started": "2023-07-01T04:14:32.425790Z"
    },
    "tags": []
   },
   "outputs": [
    {
     "data": {
      "text/plain": [
       "Index(['Vehicle ID', 'LV_ID', 'LV_type', 'frame', 'local_x', 'local_y',\n",
       "       'V_len', 'V_wid', 'velocity', 'acc', 'lane', 'Vehicle Movement', 'Time',\n",
       "       'Local X (m)_before', 'Local Y(m)_before', 'delta_local_x',\n",
       "       'delta_local_y', 'velocity_x', 'velocity_y', 'velocity_x_before',\n",
       "       'velocity_y_before', 'delta_velocity_x', 'delta_velocity_y', 'acc_x',\n",
       "       'acc_y', 'cell', 'Lane Identification Past', 'Lane_record',\n",
       "       'Lane_record_split', 'Lane_00', 'Lane_99', 'Lane_change', 'Lane_leave',\n",
       "       'Lane_change_direction', 'LC_CF', 'LV_local_x', 'LV_local_y', 'LV_len',\n",
       "       'LV_wid', 'LV_velocity', 'LV_acc', 'LV_lane', 'LV_Vehicle Movement',\n",
       "       'LV_Time', 'LV_Local X (m)_before', 'LV_Local Y(m)_before',\n",
       "       'LV_delta_local_x', 'LV_delta_local_y', 'LV_velocity_x',\n",
       "       'LV_velocity_y', 'LV_velocity_x_before', 'LV_velocity_y_before',\n",
       "       'LV_delta_velocity_x', 'LV_delta_velocity_y', 'LV_acc_x', 'LV_acc_y',\n",
       "       'LV_cell', 'LV_Lane Identification Past', 'LV_Lane_record',\n",
       "       'LV_Lane_record_split', 'LV_Lane_00', 'LV_Lane_99', 'LV_Lane_change',\n",
       "       'LV_Lane_leave', 'LV_Lane_change_direction', 'LV_LC_CF', 'D_x', 'D_y',\n",
       "       'D'],\n",
       "      dtype='object')"
      ]
     },
     "execution_count": 38,
     "metadata": {},
     "output_type": "execute_result"
    }
   ],
   "source": [
    "long.columns"
   ]
  },
  {
   "cell_type": "markdown",
   "id": "96a0b6eb-000f-4f46-8809-0fbf66fcb344",
   "metadata": {},
   "source": [
    "# Save"
   ]
  },
  {
   "cell_type": "code",
   "execution_count": 39,
   "id": "55056f71-15b6-4cfc-8072-14e4c6a319f8",
   "metadata": {
    "execution": {
     "iopub.execute_input": "2023-07-01T04:15:00.126695Z",
     "iopub.status.busy": "2023-07-01T04:15:00.126695Z",
     "iopub.status.idle": "2023-07-01T04:15:00.140661Z",
     "shell.execute_reply": "2023-07-01T04:15:00.139691Z",
     "shell.execute_reply.started": "2023-07-01T04:15:00.126695Z"
    },
    "tags": []
   },
   "outputs": [],
   "source": [
    "save_folder = '02_processed_long'\n",
    "save_name = data_name\n",
    "save_path = os.path.join(working_dir, save_folder, save_name)"
   ]
  },
  {
   "cell_type": "code",
   "execution_count": 40,
   "id": "4d78dd01-0624-4dde-9514-a3a139af4a98",
   "metadata": {
    "execution": {
     "iopub.execute_input": "2023-07-01T04:15:01.057265Z",
     "iopub.status.busy": "2023-07-01T04:15:01.057265Z",
     "iopub.status.idle": "2023-07-01T04:15:07.176253Z",
     "shell.execute_reply": "2023-07-01T04:15:07.176253Z",
     "shell.execute_reply.started": "2023-07-01T04:15:01.057265Z"
    },
    "tags": []
   },
   "outputs": [],
   "source": [
    "long.to_csv(save_path, encoding = 'cp949')"
   ]
  }
 ],
 "metadata": {
  "kernelspec": {
   "display_name": "Python 3 (ipykernel)",
   "language": "python",
   "name": "python3"
  },
  "language_info": {
   "codemirror_mode": {
    "name": "ipython",
    "version": 3
   },
   "file_extension": ".py",
   "mimetype": "text/x-python",
   "name": "python",
   "nbconvert_exporter": "python",
   "pygments_lexer": "ipython3",
   "version": "3.8.18"
  }
 },
 "nbformat": 4,
 "nbformat_minor": 5
}
