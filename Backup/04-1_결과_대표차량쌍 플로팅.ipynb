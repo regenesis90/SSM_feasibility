{
 "cells": [
  {
   "cell_type": "markdown",
   "id": "70101cdf-7e8f-4b29-816e-76b27e91ae7b",
   "metadata": {},
   "source": [
    "# Visualization\n",
    "* 시각화\n",
    "    * matplotlib : https://matplotlib.org/stable/gallery/mplot3d/contour3d_3.html#sphx-glr-gallery-mplot3d-contour3d-3-py\n",
    "    * plotly : \n",
    "* "
   ]
  },
  {
   "cell_type": "markdown",
   "id": "67064bd5-4f0b-4466-90e1-01c706cb5469",
   "metadata": {
    "tags": []
   },
   "source": [
    "# Import"
   ]
  },
  {
   "cell_type": "code",
   "execution_count": 1,
   "id": "636e2225-cf62-4d9d-904d-4f18d6320479",
   "metadata": {
    "execution": {
     "iopub.execute_input": "2023-11-28T10:17:59.692729Z",
     "iopub.status.busy": "2023-11-28T10:17:59.691732Z",
     "iopub.status.idle": "2023-11-28T10:18:03.773913Z",
     "shell.execute_reply": "2023-11-28T10:18:03.771918Z",
     "shell.execute_reply.started": "2023-11-28T10:17:59.692729Z"
    },
    "tags": []
   },
   "outputs": [
    {
     "name": "stderr",
     "output_type": "stream",
     "text": [
      "C:\\dev\\Anaconda_3\\lib\\site-packages\\outdated\\utils.py:14: OutdatedPackageWarning: The package outdated is out of date. Your version is 0.2.1, the latest is 0.2.2.\n",
      "Set the environment variable OUTDATED_IGNORE=1 to disable these warnings.\n",
      "  return warn(\n",
      "C:\\dev\\Anaconda_3\\lib\\site-packages\\outdated\\utils.py:14: OutdatedPackageWarning: The package pingouin is out of date. Your version is 0.5.1, the latest is 0.5.3.\n",
      "Set the environment variable OUTDATED_IGNORE=1 to disable these warnings.\n",
      "  return warn(\n"
     ]
    },
    {
     "ename": "ImportError",
     "evalue": "cannot import name 'points' from 'SSM_time_based' (D:\\OneDrive\\Projects\\2023_SSM_Feasibility\\Git_SSM_Feasibility\\SSM_time_based.py)",
     "output_type": "error",
     "traceback": [
      "\u001b[1;31m---------------------------------------------------------------------------\u001b[0m",
      "\u001b[1;31mImportError\u001b[0m                               Traceback (most recent call last)",
      "Cell \u001b[1;32mIn[1], line 34\u001b[0m\n\u001b[0;32m     31\u001b[0m \u001b[38;5;28;01mfrom\u001b[39;00m \u001b[38;5;21;01mmpl_toolkits\u001b[39;00m\u001b[38;5;21;01m.\u001b[39;00m\u001b[38;5;21;01mmplot3d\u001b[39;00m\u001b[38;5;21;01m.\u001b[39;00m\u001b[38;5;21;01maxes3d\u001b[39;00m \u001b[38;5;28;01mimport\u001b[39;00m Axes3D\n\u001b[0;32m     32\u001b[0m \u001b[38;5;28;01mfrom\u001b[39;00m \u001b[38;5;21;01mmatplotlib\u001b[39;00m\u001b[38;5;21;01m.\u001b[39;00m\u001b[38;5;21;01mtext\u001b[39;00m \u001b[38;5;28;01mimport\u001b[39;00m Annotation\n\u001b[1;32m---> 34\u001b[0m \u001b[38;5;28;01mfrom\u001b[39;00m \u001b[38;5;21;01mGraph_2D\u001b[39;00m \u001b[38;5;28;01mimport\u001b[39;00m \u001b[38;5;241m*\u001b[39m\n\u001b[0;32m     36\u001b[0m \u001b[38;5;28;01mimport\u001b[39;00m \u001b[38;5;21;01mpyarrow\u001b[39;00m\u001b[38;5;21;01m.\u001b[39;00m\u001b[38;5;21;01mparquet\u001b[39;00m \u001b[38;5;28;01mas\u001b[39;00m \u001b[38;5;21;01mpq\u001b[39;00m\n",
      "File \u001b[1;32mD:\\OneDrive\\Projects\\2023_SSM_Feasibility\\Git_SSM_Feasibility\\Graph_2D.py:19\u001b[0m\n\u001b[0;32m     17\u001b[0m \u001b[38;5;28;01mfrom\u001b[39;00m \u001b[38;5;21;01mmpl_toolkits\u001b[39;00m\u001b[38;5;21;01m.\u001b[39;00m\u001b[38;5;21;01mmplot3d\u001b[39;00m\u001b[38;5;21;01m.\u001b[39;00m\u001b[38;5;21;01maxes3d\u001b[39;00m \u001b[38;5;28;01mimport\u001b[39;00m Axes3D\n\u001b[0;32m     18\u001b[0m \u001b[38;5;28;01mfrom\u001b[39;00m \u001b[38;5;21;01mmatplotlib\u001b[39;00m\u001b[38;5;21;01m.\u001b[39;00m\u001b[38;5;21;01mtext\u001b[39;00m \u001b[38;5;28;01mimport\u001b[39;00m Annotation\n\u001b[1;32m---> 19\u001b[0m \u001b[38;5;28;01mfrom\u001b[39;00m \u001b[38;5;21;01mSSM_time_based\u001b[39;00m \u001b[38;5;28;01mimport\u001b[39;00m points\n\u001b[0;32m     22\u001b[0m \u001b[38;5;28;01mdef\u001b[39;00m \u001b[38;5;21mgraph_2d\u001b[39m(df, Vehicle_ID, LV_ID, SSM, threshold):\n\u001b[0;32m     23\u001b[0m \u001b[38;5;250m    \u001b[39m\u001b[38;5;124;03m\"\"\"\u001b[39;00m\n\u001b[0;32m     24\u001b[0m \u001b[38;5;124;03m    통합함수\u001b[39;00m\n\u001b[0;32m     25\u001b[0m \u001b[38;5;124;03m    \"\"\"\u001b[39;00m\n",
      "\u001b[1;31mImportError\u001b[0m: cannot import name 'points' from 'SSM_time_based' (D:\\OneDrive\\Projects\\2023_SSM_Feasibility\\Git_SSM_Feasibility\\SSM_time_based.py)"
     ]
    }
   ],
   "source": [
    "import pandas as pd\n",
    "import numpy as np\n",
    "\n",
    "from tqdm import tqdm\n",
    "import warnings\n",
    "import csv\n",
    "import os\n",
    "\n",
    "import math # arctangent; math.atan 사용 목적\n",
    "import statistics\n",
    "import pingouin as pg\n",
    "\n",
    "from plotly.subplots import make_subplots\n",
    "import plotly.figure_factory as ff\n",
    "import plotly.express as px\n",
    "import plotly.graph_objects as go\n",
    "import plotly.io as po\n",
    "\n",
    "from scipy.interpolate import RegularGridInterpolator\n",
    "\n",
    "import matplotlib.pyplot as plt\n",
    "import seaborn as sns\n",
    "from matplotlib.collections import LineCollection\n",
    "from matplotlib.cm import ScalarMappable\n",
    "from matplotlib.colors import ListedColormap, BoundaryNorm\n",
    "import matplotlib.ticker as ticker\n",
    "import matplotlib.colors as colors\n",
    "\n",
    "from mpl_toolkits.mplot3d import axes3d\n",
    "from mpl_toolkits.mplot3d.proj3d import proj_transform\n",
    "from mpl_toolkits.mplot3d.axes3d import Axes3D\n",
    "from matplotlib.text import Annotation\n",
    "\n",
    "from Graph_2D import *\n",
    "\n",
    "import pyarrow.parquet as pq"
   ]
  },
  {
   "cell_type": "markdown",
   "id": "ebbd1bd4-b7e6-4dde-87b2-1d6732f2f131",
   "metadata": {
    "tags": []
   },
   "source": [
    "# Load Dataset"
   ]
  },
  {
   "cell_type": "code",
   "execution_count": null,
   "id": "27aa3c22-71e6-4187-8c84-8ad786cacdaa",
   "metadata": {
    "execution": {
     "iopub.status.busy": "2023-11-28T10:18:03.774912Z",
     "iopub.status.idle": "2023-11-28T10:18:03.775907Z",
     "shell.execute_reply": "2023-11-28T10:18:03.774912Z",
     "shell.execute_reply.started": "2023-11-28T10:18:03.774912Z"
    },
    "tags": []
   },
   "outputs": [],
   "source": [
    "working_dir = 'D:/OneDrive/Projects/2023_SSM_Feasibility'"
   ]
  },
  {
   "cell_type": "markdown",
   "id": "d4c16d93-6d48-447c-a9c1-903fb4cb730a",
   "metadata": {},
   "source": [
    "## Data"
   ]
  },
  {
   "cell_type": "code",
   "execution_count": null,
   "id": "b85c35bb-3f6d-441f-9ccb-2ebcaee066f0",
   "metadata": {
    "execution": {
     "iopub.status.busy": "2023-11-28T10:18:03.776905Z",
     "iopub.status.idle": "2023-11-28T10:18:03.776905Z",
     "shell.execute_reply": "2023-11-28T10:18:03.776905Z",
     "shell.execute_reply.started": "2023-11-28T10:18:03.776905Z"
    },
    "tags": []
   },
   "outputs": [],
   "source": [
    "folder_name = 'Dataset/03_SSM'\n",
    "folder_dir = os.path.join(working_dir, folder_name)\n",
    "\n",
    "file_name = 'merging_type1_03frm_0.10sec.csv'\n",
    "file_path = os.path.join(folder_dir, file_name)"
   ]
  },
  {
   "cell_type": "code",
   "execution_count": null,
   "id": "149cd9e7-0628-4044-beb0-1f473062c106",
   "metadata": {
    "execution": {
     "iopub.status.busy": "2023-11-28T10:18:03.777909Z",
     "iopub.status.idle": "2023-11-28T10:18:03.777909Z",
     "shell.execute_reply": "2023-11-28T10:18:03.777909Z",
     "shell.execute_reply.started": "2023-11-28T10:18:03.777909Z"
    },
    "tags": []
   },
   "outputs": [],
   "source": [
    "df = pq.read_pandas(file_path).to_pandas()"
   ]
  },
  {
   "cell_type": "code",
   "execution_count": null,
   "id": "c0d67fa4-ba4e-4cf8-a288-077ecf6d61a9",
   "metadata": {
    "execution": {
     "iopub.status.busy": "2023-11-28T10:18:03.778899Z",
     "iopub.status.idle": "2023-11-28T10:18:03.778899Z",
     "shell.execute_reply": "2023-11-28T10:18:03.778899Z",
     "shell.execute_reply.started": "2023-11-28T10:18:03.778899Z"
    },
    "tags": []
   },
   "outputs": [],
   "source": [
    "df.head(3)"
   ]
  },
  {
   "cell_type": "code",
   "execution_count": null,
   "id": "d777541c-3896-4454-b350-8446b8d94f86",
   "metadata": {
    "execution": {
     "iopub.status.busy": "2023-11-28T10:18:03.779897Z",
     "iopub.status.idle": "2023-11-28T10:18:03.779897Z",
     "shell.execute_reply": "2023-11-28T10:18:03.779897Z",
     "shell.execute_reply.started": "2023-11-28T10:18:03.779897Z"
    },
    "tags": []
   },
   "outputs": [],
   "source": [
    "len(df)"
   ]
  },
  {
   "cell_type": "markdown",
   "id": "8bb05606-bbfd-4a31-9e98-6586e9b03ce0",
   "metadata": {},
   "source": [
    "## Threshold"
   ]
  },
  {
   "cell_type": "code",
   "execution_count": null,
   "id": "6f7037c5-352b-4a91-96e9-5e3679abf2ef",
   "metadata": {
    "execution": {
     "iopub.status.busy": "2023-11-28T10:18:03.779897Z",
     "iopub.status.idle": "2023-11-28T10:18:03.780894Z",
     "shell.execute_reply": "2023-11-28T10:18:03.780894Z",
     "shell.execute_reply.started": "2023-11-28T10:18:03.780894Z"
    },
    "tags": []
   },
   "outputs": [],
   "source": [
    "folder_name = 'Documents'\n",
    "file_name = 'SSM_variables.xlsx'\n",
    "sheet_name = 'threshold'\n",
    "\n",
    "threshold_path = os.path.join(working_dir, folder_name, file_name)"
   ]
  },
  {
   "cell_type": "code",
   "execution_count": null,
   "id": "28a9ada0-8437-4b1e-abd5-49eb78f6991f",
   "metadata": {
    "execution": {
     "iopub.status.busy": "2023-11-28T10:18:03.780894Z",
     "iopub.status.idle": "2023-11-28T10:18:03.781892Z",
     "shell.execute_reply": "2023-11-28T10:18:03.780894Z",
     "shell.execute_reply.started": "2023-11-28T10:18:03.780894Z"
    },
    "tags": []
   },
   "outputs": [],
   "source": [
    "threshold_list = np.array(pd.read_excel(threshold_path, sheet_name = sheet_name))"
   ]
  },
  {
   "cell_type": "code",
   "execution_count": null,
   "id": "0ef755e4-2c11-4cb9-9547-e78811afda9e",
   "metadata": {
    "execution": {
     "iopub.status.busy": "2023-11-28T10:18:03.781892Z",
     "iopub.status.idle": "2023-11-28T10:18:03.782888Z",
     "shell.execute_reply": "2023-11-28T10:18:03.781892Z",
     "shell.execute_reply.started": "2023-11-28T10:18:03.781892Z"
    },
    "tags": []
   },
   "outputs": [],
   "source": [
    "threshold_list[-10:]"
   ]
  },
  {
   "cell_type": "code",
   "execution_count": null,
   "id": "8f3f3daf-1a03-46d7-b4bc-e3f8c3dd60f0",
   "metadata": {
    "execution": {
     "iopub.status.busy": "2023-11-28T10:18:03.782888Z",
     "iopub.status.idle": "2023-11-28T10:18:03.782888Z",
     "shell.execute_reply": "2023-11-28T10:18:03.782888Z",
     "shell.execute_reply.started": "2023-11-28T10:18:03.782888Z"
    },
    "tags": []
   },
   "outputs": [],
   "source": [
    "SSM_list = list(pd.read_excel(threshold_path, sheet_name = sheet_name)['SSM'])"
   ]
  },
  {
   "cell_type": "markdown",
   "id": "ae83c8b9-134f-4805-9de1-d050a12e512a",
   "metadata": {
    "tags": []
   },
   "source": [
    "# 문제차량 SSM 2-Dimensional Profile 조회"
   ]
  },
  {
   "cell_type": "code",
   "execution_count": null,
   "id": "3ac31d3a-7a27-4a18-aed7-400cd8d6e0bc",
   "metadata": {
    "execution": {
     "iopub.status.busy": "2023-11-28T10:18:03.783888Z",
     "iopub.status.idle": "2023-11-28T10:18:03.783888Z",
     "shell.execute_reply": "2023-11-28T10:18:03.783888Z",
     "shell.execute_reply.started": "2023-11-28T10:18:03.783888Z"
    },
    "tags": []
   },
   "outputs": [],
   "source": [
    "SSM = 'TTC'\n",
    "idx = np.where(threshold_list == SSM)[0][0]\n",
    "TH = threshold_list[idx][1]\n",
    "Vehicle_ID, LV_ID = 942, 943\n",
    "#Vehicle_ID, LV_ID = 1270, 1272\n",
    "#Vehicle_ID, LV_ID = 5, 4\n",
    "#Vehicle_ID, LV_ID = 1544, 1542\n",
    "#Vehicle_ID, LV_ID = 13, 12\n",
    "#Vehicle_ID, LV_ID = 539, 538\n",
    "#Vehicle_ID, LV_ID = 51, 48\n",
    "#Vehicle_ID, LV_ID = 419, 417\n",
    "\n",
    "print(SSM, TH)\n",
    "graph_2d(df, Vehicle_ID, LV_ID, SSM, TH)"
   ]
  },
  {
   "cell_type": "markdown",
   "id": "6d259d25-789d-4fb4-829d-dffe8e261f75",
   "metadata": {
    "tags": []
   },
   "source": [
    "# Save Pairing PNG\n",
    "* 각 차량 쌍별로 모든 SSM에 대하여 저장하기"
   ]
  },
  {
   "cell_type": "code",
   "execution_count": null,
   "id": "b7a49c73-e950-4604-899d-b5c8492f9dae",
   "metadata": {
    "execution": {
     "iopub.status.busy": "2023-11-28T10:18:03.784884Z",
     "iopub.status.idle": "2023-11-28T10:18:03.784884Z",
     "shell.execute_reply": "2023-11-28T10:18:03.784884Z",
     "shell.execute_reply.started": "2023-11-28T10:18:03.784884Z"
    },
    "tags": []
   },
   "outputs": [],
   "source": [
    "pair_list = [('Car-following', 5, 4), \n",
    "             ('Lanechange', 1544, 1542), \n",
    "             ('Parallel', 13, 12), \n",
    "             ('Lanechange', 539, 538), \n",
    "             ('Parallel', 51, 48), \n",
    "             ('Car-following', 419, 417),\n",
    "             ('Car-following', 37, 34)] # Situation, Vehicle_ID, LV_ID"
   ]
  },
  {
   "cell_type": "code",
   "execution_count": null,
   "id": "8d45ecd3-b2d0-4482-bd80-24afab97d34f",
   "metadata": {
    "execution": {
     "iopub.status.busy": "2023-11-28T10:18:03.785880Z",
     "iopub.status.idle": "2023-11-28T10:18:03.786879Z",
     "shell.execute_reply": "2023-11-28T10:18:03.786879Z",
     "shell.execute_reply.started": "2023-11-28T10:18:03.786879Z"
    },
    "tags": []
   },
   "outputs": [],
   "source": [
    "# result_folder = os.path.join('Result', '02_SSM_2D_plot')\n",
    "\n",
    "# for pair in pair_list:\n",
    "    \n",
    "#     situation = pair[0]\n",
    "#     Vehicle_ID = pair[1]\n",
    "#     LV_ID = pair[2]\n",
    "\n",
    "#     veh_folder = f'{situation}_{Vehicle_ID}_{LV_ID}'\n",
    "#     result_dir = os.path.join(working_dir, result_folder, veh_folder)\n",
    "\n",
    "#     os.makedirs(result_dir, exist_ok = True)\n",
    "\n",
    "#     # 플롯 저장하기\n",
    "#     for i, SSM in tqdm(zip(range(len(threshold_list)), SSM_list)):\n",
    "\n",
    "#         if i < 10:\n",
    "#             label = '0' + str(i)\n",
    "#         else:\n",
    "#             label = str(i)\n",
    "\n",
    "#         try : \n",
    "#             idx = np.where(threshold_list == SSM)[0][0]\n",
    "#             TH = threshold_list[idx][1]\n",
    "\n",
    "#             graph_2d(df, Vehicle_ID, LV_ID, SSM, TH)\n",
    "\n",
    "#             save_fig_name = f'{situation}_{Vehicle_ID}_{LV_ID}_{label}_{SSM}.png'\n",
    "#             save_fig_path = os.path.join(result_dir, save_fig_name)\n",
    "\n",
    "#             plt.savefig(save_fig_path)\n",
    "#             plt.clf()\n",
    "#             plt.close()\n",
    "\n",
    "#         except:\n",
    "#             print(f'Error : {Vehicle_ID}, {LV_ID}, {SSM}')\n",
    "#             plt.clf()\n",
    "#             plt.close()"
   ]
  },
  {
   "cell_type": "markdown",
   "id": "aa9e3c9a-c677-475b-973f-c98153e64569",
   "metadata": {
    "tags": []
   },
   "source": [
    "# 이미지 도해 만들기"
   ]
  },
  {
   "cell_type": "code",
   "execution_count": null,
   "id": "4b2db861-de30-4095-a23f-f78ae69bf71c",
   "metadata": {
    "execution": {
     "iopub.status.busy": "2023-11-28T10:18:03.788875Z",
     "iopub.status.idle": "2023-11-28T10:18:03.789871Z",
     "shell.execute_reply": "2023-11-28T10:18:03.789871Z",
     "shell.execute_reply.started": "2023-11-28T10:18:03.789871Z"
    },
    "tags": []
   },
   "outputs": [],
   "source": [
    "SSM = 'TTC'\n",
    "Vehicle_ID, LV_ID = 5, 4\n",
    "#Vehicle_ID, LV_ID = 1544, 1542\n",
    "#Vehicle_ID, LV_ID = 13, 12\n",
    "#Vehicle_ID, LV_ID = 539, 538\n",
    "#Vehicle_ID, LV_ID = 51, 48\n",
    "#Vehicle_ID, LV_ID = 419, 417\n",
    "drawing(df, Vehicle_ID, LV_ID, SSM)"
   ]
  },
  {
   "cell_type": "code",
   "execution_count": null,
   "id": "64eff397-2a21-4bae-ba05-5ec67abacbf1",
   "metadata": {
    "execution": {
     "iopub.status.busy": "2023-11-28T10:18:03.790872Z",
     "iopub.status.idle": "2023-11-28T10:18:03.791865Z",
     "shell.execute_reply": "2023-11-28T10:18:03.791865Z",
     "shell.execute_reply.started": "2023-11-28T10:18:03.791865Z"
    },
    "tags": []
   },
   "outputs": [],
   "source": [
    "# result_folder = os.path.join('Result', '03_SSM_2D_drawing')\n",
    "\n",
    "# for pair in pair_list:\n",
    "    \n",
    "#     situation = pair[0]\n",
    "#     Vehicle_ID = pair[1]\n",
    "#     LV_ID = pair[2]\n",
    "\n",
    "#     table = pd.DataFrame({'SSM' : [], 'MD_time_label' : []})\n",
    "    \n",
    "#     veh_folder = f'{situation}_{Vehicle_ID}_{LV_ID}'\n",
    "#     result_dir = os.path.join(working_dir, result_folder, veh_folder)\n",
    "#     os.makedirs(result_dir, exist_ok = True)\n",
    "\n",
    "#     # 플롯 저장하기\n",
    "#     for i, SSM in tqdm(zip(range(len(threshold_list)), SSM_list)):\n",
    "\n",
    "#         if i < 10:\n",
    "#             label = '0' + str(i)\n",
    "#         else:\n",
    "#             label = str(i)\n",
    "\n",
    "#         MD_time_label = drawing(df, Vehicle_ID, LV_ID, SSM)\n",
    "#         #print(Vehicle_ID, LV_ID)\n",
    "\n",
    "#         save_fig_name = f'{situation}_{Vehicle_ID}_{LV_ID}_{label}_{SSM}.png'\n",
    "#         save_fig_path = os.path.join(result_dir, save_fig_name)\n",
    "\n",
    "#         plt.savefig(save_fig_path)\n",
    "#         plt.clf()\n",
    "#         plt.close()\n",
    "\n",
    "#         tb = pd.DataFrame({'SSM':[SSM], 'MD_time_label' : [MD_time_label]})\n",
    "#         MD_time_label = None\n",
    "\n",
    "# #         except:\n",
    "# #             print(f'Error : {Vehicle_ID}, {LV_ID}, {SSM}')\n",
    "# #             plt.clf()\n",
    "# #             plt.close()\n",
    "\n",
    "# #             tb = pd.DataFrame({'SSM' : [SSM], 'MD_time_label' : [None]})\n",
    "# #             MD_time_label = None\n",
    "\n",
    "#         table = pd.concat([table, tb])\n",
    "\n",
    "#     save_csv_name = f'MD_time_label_{Vehicle_ID}_{LV_ID}.csv'\n",
    "#     save_csv_path = os.path.join(result_dir, save_csv_name)\n",
    "#     table.reset_index(drop = True).to_csv(save_csv_path, encoding = 'cp949')"
   ]
  },
  {
   "cell_type": "markdown",
   "id": "598c2ed7-32ed-44e3-9d3a-1c8ab1da304f",
   "metadata": {},
   "source": [
    "# D, Relative Speed에 따른 2차원 플롯"
   ]
  },
  {
   "cell_type": "code",
   "execution_count": null,
   "id": "3b560893-987c-4b8a-8eec-c440828af90d",
   "metadata": {
    "execution": {
     "iopub.status.busy": "2023-11-28T10:18:03.793093Z",
     "iopub.status.idle": "2023-11-28T10:18:03.794588Z",
     "shell.execute_reply": "2023-11-28T10:18:03.794588Z",
     "shell.execute_reply.started": "2023-11-28T10:18:03.794588Z"
    },
    "tags": []
   },
   "outputs": [],
   "source": [
    "Vehicle_ID, LV_ID = 1544, 1542\n",
    "\n",
    "SSM = 'TIDSS'\n",
    "\n",
    "idx = np.where(threshold_list == SSM)[0][0]\n",
    "TH = threshold_list[idx][1]\n",
    "spacing_2d(df, Vehicle_ID, LV_ID, SSM, TH)"
   ]
  },
  {
   "cell_type": "code",
   "execution_count": null,
   "id": "e8225d9d-aecc-4077-93be-fe035b48b939",
   "metadata": {
    "execution": {
     "iopub.status.busy": "2023-11-28T10:18:03.796732Z",
     "iopub.status.idle": "2023-11-28T10:18:03.798073Z",
     "shell.execute_reply": "2023-11-28T10:18:03.796732Z",
     "shell.execute_reply.started": "2023-11-28T10:18:03.796732Z"
    },
    "tags": []
   },
   "outputs": [],
   "source": [
    "V = np.array([[1,1], [-2,2], [4,-7]])\n",
    "origin = np.array([[0, 0, 0],[0, 0, 0]]) # origin point"
   ]
  },
  {
   "cell_type": "code",
   "execution_count": null,
   "id": "90d305a1-a651-4035-a8bf-cf45b0863727",
   "metadata": {
    "execution": {
     "iopub.status.busy": "2023-11-28T10:18:03.799072Z",
     "iopub.status.idle": "2023-11-28T10:18:03.800565Z",
     "shell.execute_reply": "2023-11-28T10:18:03.800565Z",
     "shell.execute_reply.started": "2023-11-28T10:18:03.800565Z"
    },
    "tags": []
   },
   "outputs": [],
   "source": [
    "V[:, 0].shape"
   ]
  },
  {
   "cell_type": "code",
   "execution_count": null,
   "id": "beadcba5-6766-4ef7-b428-01801472a854",
   "metadata": {
    "execution": {
     "iopub.status.busy": "2023-11-28T10:18:03.802941Z",
     "iopub.status.idle": "2023-11-28T10:18:03.803948Z",
     "shell.execute_reply": "2023-11-28T10:18:03.802941Z",
     "shell.execute_reply.started": "2023-11-28T10:18:03.802941Z"
    },
    "tags": []
   },
   "outputs": [],
   "source": [
    "df.head(3)"
   ]
  },
  {
   "cell_type": "code",
   "execution_count": null,
   "id": "d0dd69d9-ef83-451f-bc42-906291c593eb",
   "metadata": {
    "execution": {
     "iopub.status.busy": "2023-11-28T10:18:03.805053Z",
     "iopub.status.idle": "2023-11-28T10:18:03.806086Z",
     "shell.execute_reply": "2023-11-28T10:18:03.806086Z",
     "shell.execute_reply.started": "2023-11-28T10:18:03.806086Z"
    },
    "tags": []
   },
   "outputs": [],
   "source": [
    "def spacing_2d(df, Vehicle_ID, LV_ID, SSM, threshold):\n",
    "    \"\"\"\n",
    "    relative speed, D에 따른 2차원 Scatter\n",
    "    \"\"\"\n",
    "    \n",
    "    scatter_size = 24\n",
    "    \n",
    "    ## 공통\n",
    "    sample = df[(df['Vehicle ID'] == Vehicle_ID) & (df['LV_ID'] == LV_ID)]\n",
    "    \n",
    "    sample = sample.sort_values(by = ['frame']).drop_duplicates(['frame'])\n",
    "        \n",
    "    sample = sample.reset_index(drop = True)\n",
    "    sample['Time'] = (sample['Time'] - sample['Time'].min()).round(2)\n",
    "\n",
    "    fig = plt.figure(figsize = (8, 8))\n",
    "\n",
    "    gs = fig.add_gridspec(1, 1)\n",
    "\n",
    "    ax = fig.add_subplot(gs[0, 0])\n",
    "\n",
    "    ## 상대속도(x축 방향) 표시 : 벡터의 정사영을 반영해야 함\n",
    "    V_time = np.array(sample['Time'])\n",
    "    V_ssm = np.array(sample[SSM])\n",
    "    \n",
    "    \n",
    "    # 시간변수 미리 설정하기\n",
    "    ### 가장 두 차량 사이가 가까운 시점을 뽑기 :: 이 시점이 t == 0이 됨\n",
    "    nearest = sample[sample['D'] == sample['D'].min()]    \n",
    "    nearest_time = nearest['Time'].iloc[0]\n",
    "    nearest_Dx = nearest['D_x'].iloc[0]\n",
    "    nearest_Vrel = nearest['velocity_x'].iloc[0] - nearest['LV_velocity_x'].iloc[0]\n",
    "    \n",
    "    ## 가장 두 차량 사이가 가까웠던 점을 기준으로 V_time 평준화\n",
    "    \n",
    "    V_time_label = np.array((sample['Time'] - nearest_time).round(2))\n",
    "    \n",
    "    Dx = np.array(sample['D_x'].abs())\n",
    "    Vrel = np.array(sample['velocity_x'] - sample['LV_velocity_x'])\n",
    "    \n",
    "    # 백그라운드 점 그래프 그리기\n",
    "    sdw = ax.plot(Dx, Vrel, linewidth = 0.5, c = 'gray')\n",
    "    \n",
    "    # 점 그래프 그리기\n",
    "    \n",
    "    if len(sample[SSM].unique()) > 1:\n",
    "        ## 임계값 == 0이고, 임계값보다 크면 클수록 위험한 경우\n",
    "        if SSM in ['TIT', 'TIT2', 'ACTIT', 'TIDRAC', 'TIDSS', 'TERCRI', 'SSCR', 'TET', 'CI_MTTC']:\n",
    "\n",
    "            TITnorm = colors.TwoSlopeNorm(vmin = -0.5, vcenter = threshold, vmax = np.nanmax([0.5, np.nanmax(V_ssm)]))\n",
    "            \n",
    "            trj = ax.scatter(Dx, Vrel, c = V_ssm, marker = 'o', edgecolor = 'gray', linewidth = 0.5,  s = scatter_size,\n",
    "                               cmap = 'coolwarm', label = 'Leading Vehicle', norm = TITnorm)\n",
    "\n",
    "            ax.set_title(f'[{SSM}], Threshold : {threshold}, The higher the value, the higher the risk')\n",
    "                        \n",
    "\n",
    "        ## 임계값이 존재하고, 값이 0 이상이며, 임계값보다 작을수록 위험한 경우\n",
    "        elif SSM in ['TTC', 'T2', 'MTTC', 'TA', 'ACT', 'PSD', 'pPET']:\n",
    "            divnorm = colors.TwoSlopeNorm(vmin = 0, vcenter = threshold, vmax = 10)\n",
    "        \n",
    "            trj= ax.scatter(Dx, Vrel, c = V_ssm, \n",
    "                       marker = 'o', edgecolor = 'gray', linewidth = 0.5, s = scatter_size,\n",
    "                       cmap = 'RdBu', norm = divnorm,\n",
    "                       label = 'Leading Vehicle')\n",
    "\n",
    "            ax.set_title(f'[{SSM}], Threshold : {threshold}, The lower the value, the higher the risk')\n",
    "\n",
    "\n",
    "        ## 임계값이 있고, 바닥이 없으며, 임계값보다 작을수록 위험한 경우\n",
    "        elif SSM in ['PICUD', 'DSS', 'MTC', 'MMTC']:\n",
    "            divnorm = colors.TwoSlopeNorm(vmin = np.nanmin([-10, np.nanmin(V_ssm)]), vcenter = threshold, vmax = np.nanmax([10, np.nanmax(V_ssm)]))\n",
    "\n",
    "            trj = ax.scatter(Dx, Vrel, c = V_ssm, \n",
    "                       marker = 'o', edgecolor = 'gray', linewidth = 0.5,  s = scatter_size,\n",
    "                       cmap = 'RdBu', norm = divnorm,\n",
    "                       label = 'Leading Vehicle')\n",
    "\n",
    "            ax.set_title(f'[{SSM}], Threshold : {threshold}, The lower the value, the higher the risk')\n",
    "                        \n",
    "        ## 임계값이 있고, 임계값보다 클수록 위험한 경우\n",
    "        elif SSM in ['DRAC', 'MDRAC', 'DCIA', 'SSCR', 'RCRI', 'ITTC']:\n",
    "            divnorm = colors.TwoSlopeNorm(vmin = np.nanmin(V_ssm), vcenter = threshold, vmax = threshold + 5)\n",
    "\n",
    "            trj= ax.scatter(Dx, Vrel, c = V_ssm, \n",
    "                       marker = 'o', edgecolor = 'gray', linewidth = 0.5,  s = scatter_size,\n",
    "                       cmap = 'coolwarm', norm = divnorm,\n",
    "                       label = 'Leading Vehicle')\n",
    "\n",
    "        ## 그 외, 임계값과 판정기준을 알 수 없는 경우\n",
    "        else:\n",
    "            trj= ax.scatter(Dx, Vrel, c = V_ssm, \n",
    "                       marker = 'o', edgecolor = 'gray', linewidth = 0.5,  s = scatter_size,\n",
    "                       cmap = 'turbo', vmin = np.nanmin(V_ssm), vmax = np.nanmax(V_ssm),\n",
    "                       label = 'Leading Vehicle')\n",
    "    \n",
    "    \n",
    "        ### 벡터 화살표 그리기 (공통)\n",
    "#         origin = np.array([Dx, Vrel])\n",
    "\n",
    "#         Dx_gap = Dx - np.roll(Dx, 1)\n",
    "#         Vrel_gap = Vrel - np.roll(Vrel, 1)\n",
    "        \n",
    "#         print(origin.shape, Dx_gap.shape, Vrel_gap.shape)\n",
    "\n",
    "#         arrow = ax.quiver(*origin, Dx_gap, Vrel_gap, color = 'black', width = 0.003)\n",
    "    \n",
    "    \n",
    "    # 차로변경 지점을 표시\n",
    "    \n",
    "#     V_change = sample[sample['Lane_change'] == 'Change']\n",
    "#     LV_change = sample[sample['LV_Lane_change'] == 'Change']\n",
    "    \n",
    "#     if len(V_change) > 0:\n",
    "#         for i in range(len(V_change)):\n",
    "#             V_change_Vrel = (V_change['velocity_x'].iloc[i] - V_change['LV_velocity_x'].iloc[i]) * 1000/3600\n",
    "#             V_change_D = V_change['D_x'].iloc[i]\n",
    "            \n",
    "#             ax.scatter(V_change_D, V_change_Vrel, color = 'green', s = 120, marker = 'x')\n",
    "            \n",
    "#             if i == 0:\n",
    "#                 ax.annotate(f'Lane Change :\\n Following Vehicle', \n",
    "#                             xy = (V_change_D, V_change_Vrel), \n",
    "#                             xytext = (V_change_D-5, V_change_Vrel+5), color = 'green',\n",
    "#                             arrowprops = dict(facecolor = 'green', arrowstyle = '-|>', edgecolor = 'green'))\n",
    "#             else:\n",
    "#                 pass\n",
    "    \n",
    "#     else:\n",
    "#         pass\n",
    "    \n",
    "#     if len(LV_change) > 0:\n",
    "#         for i in range(len(LV_change)):\n",
    "#             LV_change_Vrel = (LV_change['velocity_x'].iloc[i] - LV_change['LV_velocity_x'].iloc[i]) * 1000/3600\n",
    "#             LV_change_D = LV_change['D_x'].iloc[i]\n",
    "            \n",
    "#             ax.scatter(LV_change_D, LV_change_Vrel, color = 'blue', s = 120, marker = 'x')\n",
    "            \n",
    "#             if i == 0:\n",
    "#                 ax.annotate(f'Lane Change :\\n Leading Vehicle', \n",
    "#                             xy = (LV_change_D, LV_change_Vrel), \n",
    "#                             xytext = (LV_change_D-5, LV_change_Vrel-5), color = 'blue',\n",
    "#                             arrowprops = dict(facecolor = 'blue', arrowstyle = '-|>', edgecolor = 'blue'))\n",
    "#             else:\n",
    "#                 pass\n",
    "#     else:\n",
    "#         pass\n",
    "    \n",
    "    \n",
    "    # Annotation\n",
    "    \n",
    "#     ### 가장 두 차량 사이가 가까운 시점을 뽑기 :: 이 시점이 t == 0이 됨\n",
    "#     nearest = sample[sample['D'] == sample['D'].min()]    \n",
    "#     nearest_time = nearest['Time'].iloc[0]\n",
    "#     nearest_V_x = nearest['local_x'].iloc[0]\n",
    "#     nearest_V_y = nearest['local_y'].iloc[0]\n",
    "#     nearest_LV_x = nearest['LV_local_x'].iloc[0]\n",
    "#     nearest_LV_y = nearest['LV_local_y'].iloc[0]\n",
    "    \n",
    "#     ## 가장 두 차량 사이가 가까웠던 점을 기준으로 V_time 평준화\n",
    "    \n",
    "#     V_time_label = np.array((sample['Time'] - nearest_time).round(2))\n",
    "\n",
    "    ## Following Vehicle Annotation\n",
    "    time_min = math.ceil(V_time_label[0])\n",
    "    time_max = math.floor(V_time_label[-1])\n",
    "    \n",
    "    ## 가장 가까운 점, t == 0일때의 점 표기\n",
    "    ax.annotate(f't=0', \n",
    "                xy = (nearest_Dx, nearest_Vrel), \n",
    "                xytext = (nearest_Dx+0.5, nearest_Vrel+0.5), color = 'red',\n",
    "                arrowprops = dict(facecolor = 'red', arrowstyle = '-|>', edgecolor = 'red'))\n",
    "\n",
    "    \n",
    "    ## t == 0을 중심으로 한 점들 표기\n",
    "    for i in range(time_min, time_max+1):\n",
    "        \n",
    "        # t == i일때의 인덱스 반환\n",
    "        idx = np.where(V_time_label == i)[0][0]\n",
    "    \n",
    "        ax.annotate(f't={i}', \n",
    "                    xy = (Dx[idx], Vrel[idx]), \n",
    "                    xytext = (Dx[idx]+0.5, Vrel[idx]+0.5), \n",
    "                    arrowprops = dict(facecolor = 'gray', arrowstyle = '-|>'))\n",
    "        \n",
    "\n",
    "\n",
    "    # 축 및 범례 설정\n",
    "\n",
    "    ax.legend()\n",
    "    \n",
    "    #ax.set_xlim(0, 250)\n",
    "    #ax.set_ylim((np.nanmin([np.nanmin(LV_y), np.nanmin(V_y)])-3, np.nanmax([np.nanmax(LV_y), np.nanmax(V_y)])+3))\n",
    "    #ax.axis('equal')\n",
    "    ax.set_xlabel('Spacing(m)')\n",
    "    ax.set_ylabel('Relative speed(m/s)')\n",
    "\n",
    "\n",
    "    # 컬러바 설정\n",
    "    \n",
    "    if len(sample[SSM].unique()) > 1:\n",
    "        fig.colorbar(trj, ax = ax) # 범례\n",
    "\n",
    "    else:\n",
    "        pass\n",
    "    \n",
    "    \n",
    "    plt.show()"
   ]
  },
  {
   "cell_type": "code",
   "execution_count": null,
   "id": "3e7cd977-0fc2-4066-9b0b-6326498b79c4",
   "metadata": {
    "execution": {
     "iopub.status.busy": "2023-11-28T10:18:03.807108Z",
     "iopub.status.idle": "2023-11-28T10:18:03.807108Z",
     "shell.execute_reply": "2023-11-28T10:18:03.807108Z",
     "shell.execute_reply.started": "2023-11-28T10:18:03.807108Z"
    },
    "tags": []
   },
   "outputs": [],
   "source": [
    "sample"
   ]
  },
  {
   "cell_type": "code",
   "execution_count": null,
   "id": "6ee7db1c-287b-4010-925b-10f3d8aee69a",
   "metadata": {
    "execution": {
     "iopub.status.busy": "2023-11-28T10:18:03.808162Z",
     "iopub.status.idle": "2023-11-28T10:18:03.808162Z",
     "shell.execute_reply": "2023-11-28T10:18:03.808162Z",
     "shell.execute_reply.started": "2023-11-28T10:18:03.808162Z"
    },
    "tags": []
   },
   "outputs": [],
   "source": [
    "SSM = 'TIT'\n",
    "\n",
    "idx = np.where(threshold_list == SSM)[0][0]\n",
    "TH = threshold_list[idx][1]\n",
    "\n",
    "df2 = df.copy()\n",
    "#df2 = df[df['Lane_change'] == 'Change']\n",
    "\n",
    "df2['D_x'] = df2['D_x'].apply(np.floor)\n",
    "df2['Vrel'] = (df2['velocity_x'] - df2['LV_velocity_x']).apply(np.floor)\n",
    "\n",
    "sample = pd.pivot_table(df2, index = ['D_x'], columns = ['Vrel'], values = SSM, aggfunc = 'mean')\n",
    "\n",
    "x = np.array(df2['D_x'].unique())\n",
    "y = np.array(df2['Vrel'].unique() * 1000/3600)\n",
    "z = np.array(sample)\n",
    "\n",
    "x = np.unique(x)\n",
    "y = np.unique(y)\n",
    "\n",
    "X, Y = np.meshgrid(x, y)\n",
    "data = z\n",
    "\n",
    "fig = plt.figure(figsize = (12, 11))\n",
    "ax = fig.add_subplot()\n",
    "\n",
    "## 임계값 == 0이고, 임계값보다 크면 클수록 위험한 경우\n",
    "if SSM in ['TIT', 'TIT2', 'ACTIT', 'TIDRAC', 'TIDSS', 'TERCRI', 'SSCR', 'TET', 'CI_MTTC']:\n",
    "    TITnorm = colors.TwoSlopeNorm(vmin = 0, \n",
    "                                  vcenter = np.nanmean(sample), \n",
    "                                  vmax = np.nanmax([0.5, np.nanmax(sample)]))\n",
    "\n",
    "    heat = ax.imshow(data, \n",
    "               #aspect = 'equal', \n",
    "               norm = TITnorm,\n",
    "               cmap = 'OrRd',\n",
    "               extent = [min(x), max(x), min(y), max(y)] ) \n",
    "    \n",
    "## 임계값이 존재하고, 값이 0 이상이며, 임계값보다 작을수록 위험한 경우\n",
    "elif SSM in ['TTC', 'T2', 'MTTC', 'TA', 'ACT', 'PSD', 'pPET']:\n",
    "    divnorm = colors.TwoSlopeNorm(vmin = 0, \n",
    "                                  vcenter = threshold, \n",
    "                                  vmax = 20)\n",
    "    \n",
    "    heat = ax.imshow(data, \n",
    "               #aspect = 'equal', \n",
    "               norm = divnorm,\n",
    "               cmap = 'RdBu',\n",
    "               extent = [min(x), max(x), min(y), max(y)]\n",
    "                    )\n",
    "    \n",
    "elif SSM in ['PICUD', 'DSS', 'MTC', 'MMTC']:\n",
    "    divnorm = colors.TwoSlopeNorm(vmin = np.nanmin([-10, np.nanmin(sample)]), vcenter = threshold, vmax = np.nanmax([10, np.nanmax(sample)]))\n",
    "    \n",
    "    heat = ax.imshow(data, \n",
    "           #aspect = 'equal', \n",
    "           norm = divnorm,\n",
    "           cmap = 'RdBu',\n",
    "           extent = [min(x), max(x), min(y), max(y)]\n",
    "                    )\n",
    "    \n",
    "## 임계값이 있고, 임계값보다 클수록 위험한 경우\n",
    "elif SSM in ['DRAC', 'MDRAC', 'DCIA', 'SSCR', 'RCRI', 'ITTC']:\n",
    "    divnorm = colors.TwoSlopeNorm(vmin = np.nanmin(sample), vcenter = threshold, vmax = threshold + 5)\n",
    "    \n",
    "    heat = ax.imshow(data, \n",
    "       #aspect = 'equal', \n",
    "       norm = divnorm,\n",
    "       cmap = 'coolwarm',\n",
    "       extent = [min(x), max(x), min(y), max(y)])\n",
    "    \n",
    "elif SSM in ['D', 'D_x']:\n",
    "    \n",
    "    TITnorm = colors.TwoSlopeNorm(vmin = 0, \n",
    "                                  vcenter = np.nanmean(sample), \n",
    "                                  vmax = np.nanmax([0.5, np.nanmax(sample)]))\n",
    "\n",
    "    heat = ax.imshow(data, \n",
    "               #aspect = 'equal', \n",
    "               norm = TITnorm,\n",
    "               cmap = 'gist_rainbow',\n",
    "               extent = [min(x), max(x), min(y), max(y)] \n",
    "                    ) \n",
    "\n",
    "else:\n",
    "    heat = ax.imshow(data, \n",
    "       #aspect = 'equal', \n",
    "       vmin = np.nanmin(sample), vmax = np.nanmax(sample),\n",
    "       cmap = 'turbo',\n",
    "       extent = [min(x), max(x), min(y), max(y)]\n",
    "                    )\n",
    "\n",
    "\n",
    "# ## 차로변경(LC) 위치 찍기\n",
    "# LC_right = df[(df['Lane_change'] == 'Change') & (df['Lane_change_direction'] == 'Right')]\n",
    "# LC_left = df[(df['Lane_change'] == 'Change') & (df['Lane_change_direction'] == 'Left')]\n",
    "\n",
    "# ax.scatter(LC_right['local_x'], LC_right['local_y'], s = 3, c = 'Black', marker = 'o', linewidth = 0.3, label = 'To Right')\n",
    "# ax.scatter(LC_left['local_x'], LC_left['local_y'], s = 3, c = 'Black', marker = 'x', linewidth = 0.3, label = 'To Left')\n",
    "\n",
    "#ax.legend(bbox_to_anchor = (1.15, 1.05), fancybox = True)\n",
    "ax.set_title(f'{SSM}', fontsize = 12)\n",
    "ax.set_xlabel('Distance(m)', fontsize = 10)\n",
    "ax.set_ylabel('Relative Speed', fontsize = 10)\n",
    "\n",
    "fig.colorbar(heat, ax = ax, shrink = 0.32)\n",
    "\n",
    "fig.show()"
   ]
  },
  {
   "cell_type": "markdown",
   "id": "54d02824-6c3d-484e-a624-f704f5510f23",
   "metadata": {},
   "source": [
    "# Cronbach Alpha : 반분 신뢰도\n",
    "* split-half reliability\n",
    "* 각 SSM간 Cronbach Alpha 값을 계산해서, 표로 구성해본다.\n",
    "* 참고 : https://www.statology.org/cronbachs-alpha-in-python/"
   ]
  },
  {
   "cell_type": "code",
   "execution_count": null,
   "id": "953eb750-7a12-4430-b0e1-0931bedceb3e",
   "metadata": {
    "execution": {
     "iopub.status.busy": "2023-11-28T10:18:03.809170Z",
     "iopub.status.idle": "2023-11-28T10:18:03.809170Z",
     "shell.execute_reply": "2023-11-28T10:18:03.809170Z",
     "shell.execute_reply.started": "2023-11-28T10:18:03.809170Z"
    },
    "tags": []
   },
   "outputs": [],
   "source": [
    "test = df[['TTC', 'DRAC']].dropna(subset = ['TTC', 'DRAC']) #> 샘플 사이즈는 20개 이상이어야 함에 유의하라"
   ]
  },
  {
   "cell_type": "code",
   "execution_count": null,
   "id": "bdc5e5ac-fbcf-4636-b126-4a9e887e2ff6",
   "metadata": {
    "execution": {
     "iopub.status.busy": "2023-11-28T10:18:03.811626Z",
     "iopub.status.idle": "2023-11-28T10:18:03.812871Z",
     "shell.execute_reply": "2023-11-28T10:18:03.812871Z",
     "shell.execute_reply.started": "2023-11-28T10:18:03.812871Z"
    },
    "tags": []
   },
   "outputs": [],
   "source": [
    "pg.cronbach_alpha(data = test, ci = 0.99) #> 크론바흐 알파 값(0.6 이상이면 내적 일관성이 있다), 뒤에 있는 []는 95% Confidence Interval for Cronbach Alpha다."
   ]
  },
  {
   "cell_type": "markdown",
   "id": "b6a6fc59-09ff-470e-8859-f3141cf4c4ee",
   "metadata": {
    "execution": {
     "iopub.execute_input": "2023-07-24T07:53:34.082530Z",
     "iopub.status.busy": "2023-07-24T07:53:34.082530Z",
     "iopub.status.idle": "2023-07-24T07:53:34.102476Z",
     "shell.execute_reply": "2023-07-24T07:53:34.101479Z",
     "shell.execute_reply.started": "2023-07-24T07:53:34.082530Z"
    },
    "tags": []
   },
   "source": [
    "# Violin Plot : with Histogram\n",
    "* 변수별 분포를 살펴보며, LC인 경우와 CF인 경우를 비교한다. \n",
    "* 비정상적 값이 나오는 경우, 임계값이 모호한 경우 쓰기 어려움을 지적\n",
    "* 박스플롯 분포 : relative Distance에 따른 SSM값 분포\n",
    "* 히트맵 : 최종 선정된 것에 대하여"
   ]
  },
  {
   "cell_type": "code",
   "execution_count": null,
   "id": "edbe6beb-a68b-4e2f-babe-fb39e2516add",
   "metadata": {},
   "outputs": [],
   "source": []
  }
 ],
 "metadata": {
  "kernelspec": {
   "display_name": "Python 3 (ipykernel)",
   "language": "python",
   "name": "python3"
  },
  "language_info": {
   "codemirror_mode": {
    "name": "ipython",
    "version": 3
   },
   "file_extension": ".py",
   "mimetype": "text/x-python",
   "name": "python",
   "nbconvert_exporter": "python",
   "pygments_lexer": "ipython3",
   "version": "3.8.18"
  }
 },
 "nbformat": 4,
 "nbformat_minor": 5
}
