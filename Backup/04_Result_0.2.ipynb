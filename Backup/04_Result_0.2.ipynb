{
 "cells": [
  {
   "cell_type": "markdown",
   "id": "e3cf5466-f09c-4e0a-b24a-b72e74ef9405",
   "metadata": {},
   "source": [
    "# Visualization\n",
    "* 대상지 주요 정보 정리(교통량, 속도, 차로변경 등)\n",
    "* 시각화\n",
    "    * 시공도\n",
    "    * SSM 평균치 히트맵\n",
    "    * 등고선"
   ]
  },
  {
   "cell_type": "markdown",
   "id": "4b665036-275b-48b3-9776-9d4a9fee0064",
   "metadata": {},
   "source": [
    "# Import"
   ]
  },
  {
   "cell_type": "code",
   "execution_count": 1,
   "id": "8fdac3a5-bb08-4b26-a727-116926d9b772",
   "metadata": {
    "execution": {
     "iopub.execute_input": "2023-04-28T06:26:48.142557Z",
     "iopub.status.busy": "2023-04-28T06:26:48.141554Z",
     "iopub.status.idle": "2023-04-28T06:26:53.115582Z",
     "shell.execute_reply": "2023-04-28T06:26:53.115582Z",
     "shell.execute_reply.started": "2023-04-28T06:26:48.142557Z"
    },
    "tags": []
   },
   "outputs": [],
   "source": [
    "import pandas as pd\n",
    "import numpy as np\n",
    "\n",
    "from tqdm import tqdm\n",
    "import warnings\n",
    "import csv\n",
    "import os\n",
    "\n",
    "import math # arctangent; math.atan 사용 목적\n",
    "import statistics\n",
    "\n",
    "from plotly.subplots import make_subplots\n",
    "import plotly.figure_factory as ff\n",
    "import plotly.express as px\n",
    "import plotly.graph_objects as go\n",
    "import plotly.io as po\n",
    "\n",
    "import matplotlib.pyplot  as plt\n",
    "import seaborn as sns"
   ]
  },
  {
   "cell_type": "markdown",
   "id": "36842447-771b-4218-b86b-b9d3768ac64f",
   "metadata": {
    "tags": []
   },
   "source": [
    "# Load Dataset"
   ]
  },
  {
   "cell_type": "code",
   "execution_count": 2,
   "id": "4d1beeb2-0475-4c62-9015-82598e7dfa9c",
   "metadata": {
    "execution": {
     "iopub.execute_input": "2023-04-28T06:26:53.117609Z",
     "iopub.status.busy": "2023-04-28T06:26:53.117609Z",
     "iopub.status.idle": "2023-04-28T06:26:53.132568Z",
     "shell.execute_reply": "2023-04-28T06:26:53.131571Z",
     "shell.execute_reply.started": "2023-04-28T06:26:53.117609Z"
    },
    "tags": []
   },
   "outputs": [],
   "source": [
    "working_dir = 'D:/OneDrive - 연세대학교 (Yonsei University)/Projects/Yonsei_TELab/011_SSM실증분석_230315-/'"
   ]
  },
  {
   "cell_type": "markdown",
   "id": "5e9bef25-66fc-4807-85ef-d763fc10e48b",
   "metadata": {},
   "source": [
    "## 공사구간의 합류 구간"
   ]
  },
  {
   "cell_type": "code",
   "execution_count": 3,
   "id": "00f74094-e890-477d-84d6-dbfdeccb82ba",
   "metadata": {
    "execution": {
     "iopub.execute_input": "2023-04-28T06:26:53.132568Z",
     "iopub.status.busy": "2023-04-28T06:26:53.132568Z",
     "iopub.status.idle": "2023-04-28T06:26:53.148525Z",
     "shell.execute_reply": "2023-04-28T06:26:53.147558Z",
     "shell.execute_reply.started": "2023-04-28T06:26:53.132568Z"
    },
    "tags": []
   },
   "outputs": [],
   "source": [
    "folder_name = 'Dataset/03_SSM'\n",
    "folder_dir = os.path.join(working_dir, folder_name)\n",
    "\n",
    "file_name = 'merging_type1_06frm_0.20sec.csv'\n",
    "file_path = os.path.join(folder_dir, file_name)"
   ]
  },
  {
   "cell_type": "code",
   "execution_count": 4,
   "id": "db973973-0d35-42f0-a304-cab6669308c6",
   "metadata": {
    "execution": {
     "iopub.execute_input": "2023-04-28T06:26:53.149526Z",
     "iopub.status.busy": "2023-04-28T06:26:53.149526Z",
     "iopub.status.idle": "2023-04-28T06:26:53.721808Z",
     "shell.execute_reply": "2023-04-28T06:26:53.721808Z",
     "shell.execute_reply.started": "2023-04-28T06:26:53.149526Z"
    },
    "tags": []
   },
   "outputs": [],
   "source": [
    "df = pd.read_csv(file_path, encoding = 'cp949')"
   ]
  },
  {
   "cell_type": "code",
   "execution_count": 5,
   "id": "78af7faa-99d8-4922-8891-68517eb33ce2",
   "metadata": {
    "execution": {
     "iopub.execute_input": "2023-04-28T06:26:53.723822Z",
     "iopub.status.busy": "2023-04-28T06:26:53.723822Z",
     "iopub.status.idle": "2023-04-28T06:26:53.754738Z",
     "shell.execute_reply": "2023-04-28T06:26:53.753770Z",
     "shell.execute_reply.started": "2023-04-28T06:26:53.723822Z"
    },
    "tags": []
   },
   "outputs": [
    {
     "data": {
      "text/html": [
       "<div>\n",
       "<style scoped>\n",
       "    .dataframe tbody tr th:only-of-type {\n",
       "        vertical-align: middle;\n",
       "    }\n",
       "\n",
       "    .dataframe tbody tr th {\n",
       "        vertical-align: top;\n",
       "    }\n",
       "\n",
       "    .dataframe thead th {\n",
       "        text-align: right;\n",
       "    }\n",
       "</style>\n",
       "<table border=\"1\" class=\"dataframe\">\n",
       "  <thead>\n",
       "    <tr style=\"text-align: right;\">\n",
       "      <th></th>\n",
       "      <th>Unnamed: 0.1</th>\n",
       "      <th>Unnamed: 0</th>\n",
       "      <th>Vehicle ID</th>\n",
       "      <th>frame</th>\n",
       "      <th>Total Frames</th>\n",
       "      <th>Global Time (Epoch Time)</th>\n",
       "      <th>local_x</th>\n",
       "      <th>local_y</th>\n",
       "      <th>V_len</th>\n",
       "      <th>V_wid</th>\n",
       "      <th>...</th>\n",
       "      <th>T2_T</th>\n",
       "      <th>ACT_T</th>\n",
       "      <th>TIT_0</th>\n",
       "      <th>MTIT_0</th>\n",
       "      <th>TIT2_0</th>\n",
       "      <th>TIT2_L</th>\n",
       "      <th>TIT2_R</th>\n",
       "      <th>ACTIT_0</th>\n",
       "      <th>ACTIT_L</th>\n",
       "      <th>ACTIT_R</th>\n",
       "    </tr>\n",
       "  </thead>\n",
       "  <tbody>\n",
       "    <tr>\n",
       "      <th>0</th>\n",
       "      <td>0</td>\n",
       "      <td>0</td>\n",
       "      <td>8</td>\n",
       "      <td>636</td>\n",
       "      <td>46</td>\n",
       "      <td>46821200</td>\n",
       "      <td>39.581772</td>\n",
       "      <td>10.564293</td>\n",
       "      <td>7.352372</td>\n",
       "      <td>3.095736</td>\n",
       "      <td>...</td>\n",
       "      <td>NaN</td>\n",
       "      <td>NaN</td>\n",
       "      <td>0.0</td>\n",
       "      <td>0.0</td>\n",
       "      <td>0.0</td>\n",
       "      <td>0.0</td>\n",
       "      <td>0.0</td>\n",
       "      <td>0.0</td>\n",
       "      <td>0.0</td>\n",
       "      <td>0.0</td>\n",
       "    </tr>\n",
       "    <tr>\n",
       "      <th>1</th>\n",
       "      <td>1</td>\n",
       "      <td>1</td>\n",
       "      <td>8</td>\n",
       "      <td>642</td>\n",
       "      <td>52</td>\n",
       "      <td>46821400</td>\n",
       "      <td>44.366989</td>\n",
       "      <td>10.657507</td>\n",
       "      <td>7.352372</td>\n",
       "      <td>3.095736</td>\n",
       "      <td>...</td>\n",
       "      <td>NaN</td>\n",
       "      <td>NaN</td>\n",
       "      <td>0.0</td>\n",
       "      <td>0.0</td>\n",
       "      <td>0.0</td>\n",
       "      <td>0.0</td>\n",
       "      <td>0.0</td>\n",
       "      <td>0.0</td>\n",
       "      <td>0.0</td>\n",
       "      <td>0.0</td>\n",
       "    </tr>\n",
       "    <tr>\n",
       "      <th>2</th>\n",
       "      <td>2</td>\n",
       "      <td>2</td>\n",
       "      <td>8</td>\n",
       "      <td>648</td>\n",
       "      <td>58</td>\n",
       "      <td>46821600</td>\n",
       "      <td>49.125137</td>\n",
       "      <td>10.723641</td>\n",
       "      <td>7.352372</td>\n",
       "      <td>3.095736</td>\n",
       "      <td>...</td>\n",
       "      <td>NaN</td>\n",
       "      <td>NaN</td>\n",
       "      <td>0.0</td>\n",
       "      <td>0.0</td>\n",
       "      <td>0.0</td>\n",
       "      <td>0.0</td>\n",
       "      <td>0.0</td>\n",
       "      <td>0.0</td>\n",
       "      <td>0.0</td>\n",
       "      <td>0.0</td>\n",
       "    </tr>\n",
       "  </tbody>\n",
       "</table>\n",
       "<p>3 rows × 324 columns</p>\n",
       "</div>"
      ],
      "text/plain": [
       "   Unnamed: 0.1  Unnamed: 0  Vehicle ID  frame  Total Frames  \\\n",
       "0             0           0           8    636            46   \n",
       "1             1           1           8    642            52   \n",
       "2             2           2           8    648            58   \n",
       "\n",
       "   Global Time (Epoch Time)    local_x    local_y     V_len     V_wid  ...  \\\n",
       "0                  46821200  39.581772  10.564293  7.352372  3.095736  ...   \n",
       "1                  46821400  44.366989  10.657507  7.352372  3.095736  ...   \n",
       "2                  46821600  49.125137  10.723641  7.352372  3.095736  ...   \n",
       "\n",
       "   T2_T  ACT_T  TIT_0 MTIT_0  TIT2_0  TIT2_L  TIT2_R  ACTIT_0  ACTIT_L  \\\n",
       "0   NaN    NaN    0.0    0.0     0.0     0.0     0.0      0.0      0.0   \n",
       "1   NaN    NaN    0.0    0.0     0.0     0.0     0.0      0.0      0.0   \n",
       "2   NaN    NaN    0.0    0.0     0.0     0.0     0.0      0.0      0.0   \n",
       "\n",
       "   ACTIT_R  \n",
       "0      0.0  \n",
       "1      0.0  \n",
       "2      0.0  \n",
       "\n",
       "[3 rows x 324 columns]"
      ]
     },
     "execution_count": 5,
     "metadata": {},
     "output_type": "execute_result"
    }
   ],
   "source": [
    "df.head(3)"
   ]
  },
  {
   "cell_type": "code",
   "execution_count": 6,
   "id": "8e39db00-7393-4b67-a4aa-68e4755b9fe0",
   "metadata": {
    "execution": {
     "iopub.execute_input": "2023-04-28T06:26:53.755737Z",
     "iopub.status.busy": "2023-04-28T06:26:53.754738Z",
     "iopub.status.idle": "2023-04-28T06:26:53.770696Z",
     "shell.execute_reply": "2023-04-28T06:26:53.769727Z",
     "shell.execute_reply.started": "2023-04-28T06:26:53.755737Z"
    },
    "tags": []
   },
   "outputs": [
    {
     "data": {
      "text/plain": [
       "9677"
      ]
     },
     "execution_count": 6,
     "metadata": {},
     "output_type": "execute_result"
    }
   ],
   "source": [
    "len(df)"
   ]
  },
  {
   "cell_type": "markdown",
   "id": "0575eb12-0e3d-4987-b9fc-1b7e08040ad2",
   "metadata": {},
   "source": [
    "# 문제차량 SSM Profile 조회\n",
    "* TTC, MTTC, T2, ACT"
   ]
  },
  {
   "cell_type": "code",
   "execution_count": 7,
   "id": "b90ce084-6440-4a8f-80e3-aef667c0e191",
   "metadata": {
    "execution": {
     "iopub.execute_input": "2023-04-28T06:26:53.773688Z",
     "iopub.status.busy": "2023-04-28T06:26:53.772693Z",
     "iopub.status.idle": "2023-04-28T06:26:53.817191Z",
     "shell.execute_reply": "2023-04-28T06:26:53.816194Z",
     "shell.execute_reply.started": "2023-04-28T06:26:53.773688Z"
    },
    "tags": []
   },
   "outputs": [
    {
     "name": "stderr",
     "output_type": "stream",
     "text": [
      "C:\\Users\\User\\AppData\\Local\\Temp\\ipykernel_13668\\3787696309.py:1: FutureWarning: The behavior of `series[i:j]` with an integer-dtype index is deprecated. In a future version, this will be treated as *label-based* indexing, consistent with e.g. `series[i]` lookups. To retain the old behavior, use `series.iloc[i:j]`. To get the future behavior, use `series.loc[i:j]`.\n",
      "  df.dropna(subset = 'ACT_0').sort_values(by = 'ACT_0')['Vehicle ID'][:30].unique()\n"
     ]
    },
    {
     "data": {
      "text/plain": [
       "array([1392,  814, 1613, 1069, 1144,  532,  679,  906,  212,  208, 1084,\n",
       "        870, 1370, 1123,  133,  965,  539,  542, 1387, 1275,  538,  999,\n",
       "       1006], dtype=int64)"
      ]
     },
     "execution_count": 7,
     "metadata": {},
     "output_type": "execute_result"
    }
   ],
   "source": [
    "df.dropna(subset = 'ACT_0').sort_values(by = 'ACT_0')['Vehicle ID'][:30].unique()"
   ]
  },
  {
   "cell_type": "code",
   "execution_count": 16,
   "id": "04215b0d-d0a8-414c-a994-9edc3579fa55",
   "metadata": {
    "execution": {
     "iopub.execute_input": "2023-04-28T06:40:05.942057Z",
     "iopub.status.busy": "2023-04-28T06:40:05.942057Z",
     "iopub.status.idle": "2023-04-28T06:40:05.977938Z",
     "shell.execute_reply": "2023-04-28T06:40:05.976937Z",
     "shell.execute_reply.started": "2023-04-28T06:40:05.942057Z"
    },
    "tags": []
   },
   "outputs": [
    {
     "data": {
      "text/plain": [
       "array([ 539, 1393,  965,  999, 1387], dtype=int64)"
      ]
     },
     "execution_count": 16,
     "metadata": {},
     "output_type": "execute_result"
    }
   ],
   "source": [
    "df.sort_values(by = 'TTC_0')[:30]['Vehicle ID'].unique()\n",
    "\n",
    "#> 1477은 25609 프레임(13:40) 무렵부터 U3으로 빠졌음\n",
    "#> 1405 : 23507 프레임(13:03 무렵부터 )U3으로 빠졌음\n",
    "#> 1013 : 17537 프레임(09:44) 즈음 U2로 빠짐\n",
    "#> 707 : 11149 프레임(06:11) 에U2로 빠짐\n",
    "#> 1605 : 26041 프레임(14:28)에 U3으로 빠짐\n",
    "#> 1397 : 23435 프레임(13:01)에 U3으로 빠짐"
   ]
  },
  {
   "cell_type": "code",
   "execution_count": 17,
   "id": "fb465eaa-f453-49ab-8539-3b018204afd0",
   "metadata": {
    "execution": {
     "iopub.execute_input": "2023-04-28T06:40:12.242732Z",
     "iopub.status.busy": "2023-04-28T06:40:12.241732Z",
     "iopub.status.idle": "2023-04-28T06:40:12.396658Z",
     "shell.execute_reply": "2023-04-28T06:40:12.395689Z",
     "shell.execute_reply.started": "2023-04-28T06:40:12.242732Z"
    },
    "tags": []
   },
   "outputs": [
    {
     "data": {
      "application/vnd.plotly.v1+json": {
       "config": {
        "plotlyServerURL": "https://plot.ly"
       },
       "data": [
        {
         "hovertemplate": "ssm=ACT<br>frame=%{x}<br>SSM=%{y}<extra></extra>",
         "legendgroup": "ACT",
         "line": {
          "color": "rgb(102,194,165)",
          "dash": "solid"
         },
         "marker": {
          "symbol": "circle"
         },
         "mode": "lines",
         "name": "ACT",
         "orientation": "v",
         "showlegend": true,
         "type": "scatter",
         "x": [
          9630,
          9636,
          9642,
          9648,
          9654,
          9660,
          9666,
          9672,
          9678,
          9684,
          9690,
          9696,
          9702,
          9708,
          9714,
          9720,
          9726,
          9732,
          9738,
          9744,
          9750,
          9756,
          9762,
          9768,
          9774,
          9780,
          9786,
          9792,
          9798,
          9804
         ],
         "xaxis": "x",
         "y": [
          3.1806365057481663,
          26.90458268824653,
          2.0934130818766814,
          1.5137968599953868,
          3.532293634788073,
          2.181939647991153,
          2.727998032914912,
          2.5497941090992304,
          16.313552637306792,
          2.4159642675887425,
          6.5213617693503085,
          1.7781127460348296,
          6.464207298895068,
          5.489026694237995,
          4.606149223147235,
          4.157544808393484,
          9.882631612267602,
          1.408475350306969,
          2.1119755346991926,
          2.107019538374711,
          1.3665459109179396,
          3.1572016898101003,
          1.4519823468618462,
          1.227249173009643,
          1.9948666067805565,
          2.0961367461640834,
          1.270282142801497,
          1.2621305014968862,
          0.8930796747915447,
          0.7449697535701008
         ],
         "yaxis": "y"
        },
        {
         "hovertemplate": "ssm=MTTC<br>frame=%{x}<br>SSM=%{y}<extra></extra>",
         "legendgroup": "MTTC",
         "line": {
          "color": "rgb(252,141,98)",
          "dash": "solid"
         },
         "marker": {
          "symbol": "circle"
         },
         "mode": "lines",
         "name": "MTTC",
         "orientation": "v",
         "showlegend": true,
         "type": "scatter",
         "x": [
          9630,
          9636,
          9642,
          9648,
          9654,
          9660,
          9666,
          9672,
          9678,
          9684,
          9690,
          9696,
          9702,
          9708,
          9714,
          9720,
          9726,
          9732,
          9738,
          9744,
          9750,
          9756,
          9762,
          9768,
          9774,
          9780,
          9786,
          9792,
          9798,
          9804
         ],
         "xaxis": "x",
         "y": [
          4.868352081286095,
          3.601161952350242,
          3.745826003467327,
          22.09285095435276,
          null,
          3.332572116298103,
          4.446747286129612,
          null,
          3.0478098441433,
          null,
          null,
          2.7373235380430527,
          null,
          2.550861375741608,
          3.1241706612734137,
          4.668241902066024,
          2.1856872946962693,
          3.114770706159317,
          null,
          1.2252561990272617,
          1.368528588153492,
          1.176254446641286,
          1.5525875435115872,
          0.9890974237533487,
          0.836022636298895,
          0.7208337686535866,
          0.4813554252173919,
          0.2863092406982064,
          0.0793821369166448,
          null
         ],
         "yaxis": "y"
        },
        {
         "hovertemplate": "ssm=T2<br>frame=%{x}<br>SSM=%{y}<extra></extra>",
         "legendgroup": "T2",
         "line": {
          "color": "rgb(141,160,203)",
          "dash": "solid"
         },
         "marker": {
          "symbol": "circle"
         },
         "mode": "lines",
         "name": "T2",
         "orientation": "v",
         "showlegend": true,
         "type": "scatter",
         "x": [
          9630,
          9636,
          9642,
          9648,
          9654,
          9660,
          9666,
          9672,
          9678,
          9684,
          9690,
          9696,
          9702,
          9708,
          9714,
          9720,
          9726,
          9732,
          9738,
          9744,
          9750,
          9756,
          9762,
          9768,
          9774,
          9780,
          9786,
          9792,
          9798,
          9804
         ],
         "xaxis": "x",
         "y": [
          null,
          null,
          null,
          null,
          null,
          null,
          null,
          null,
          null,
          null,
          null,
          null,
          null,
          null,
          null,
          null,
          null,
          null,
          null,
          6.0823821730320935,
          4.471114042681974,
          3.440509759496785,
          3.2174847236970945,
          2.6980439834449346,
          2.316736870918524,
          2.0733665874671208,
          1.7952567633565093,
          1.5413626881741134,
          1.2544350411500222,
          0.9463274894234736
         ],
         "yaxis": "y"
        },
        {
         "hovertemplate": "ssm=TTC<br>frame=%{x}<br>SSM=%{y}<extra></extra>",
         "legendgroup": "TTC",
         "line": {
          "color": "rgb(231,138,195)",
          "dash": "solid"
         },
         "marker": {
          "symbol": "circle"
         },
         "mode": "lines",
         "name": "TTC",
         "orientation": "v",
         "showlegend": true,
         "type": "scatter",
         "x": [
          9630,
          9636,
          9642,
          9648,
          9654,
          9660,
          9666,
          9672,
          9678,
          9684,
          9690,
          9696,
          9702,
          9708,
          9714,
          9720,
          9726,
          9732,
          9738,
          9744,
          9750,
          9756,
          9762,
          9768,
          9774,
          9780,
          9786,
          9792,
          9798,
          9804
         ],
         "xaxis": "x",
         "y": [
          51.25844634887768,
          21.988117361757883,
          14.836254823083848,
          14.7258269394387,
          16.262356080397357,
          11.360373853860128,
          9.905826370764853,
          11.584731117068827,
          8.610020706995508,
          10.197648649856246,
          12.001141810408695,
          8.261805383647268,
          16.26159916792938,
          9.307400557939602,
          7.455345237421108,
          6.94393383170265,
          5.068064083245471,
          4.565027630539986,
          8.930763211876018,
          3.4461163888995068,
          2.450083767292989,
          1.8048370506124345,
          1.592795171836927,
          1.233578835738953,
          0.9518249874524516,
          0.7387194935583845,
          0.5065672237750357,
          0.2921441248228486,
          0.0800351127885476,
          null
         ],
         "yaxis": "y"
        }
       ],
       "layout": {
        "height": 500,
        "legend": {
         "title": {
          "text": "ssm"
         },
         "tracegroupgap": 0
        },
        "margin": {
         "t": 60
        },
        "template": {
         "data": {
          "bar": [
           {
            "error_x": {
             "color": "#2a3f5f"
            },
            "error_y": {
             "color": "#2a3f5f"
            },
            "marker": {
             "line": {
              "color": "white",
              "width": 0.5
             },
             "pattern": {
              "fillmode": "overlay",
              "size": 10,
              "solidity": 0.2
             }
            },
            "type": "bar"
           }
          ],
          "barpolar": [
           {
            "marker": {
             "line": {
              "color": "white",
              "width": 0.5
             },
             "pattern": {
              "fillmode": "overlay",
              "size": 10,
              "solidity": 0.2
             }
            },
            "type": "barpolar"
           }
          ],
          "carpet": [
           {
            "aaxis": {
             "endlinecolor": "#2a3f5f",
             "gridcolor": "#C8D4E3",
             "linecolor": "#C8D4E3",
             "minorgridcolor": "#C8D4E3",
             "startlinecolor": "#2a3f5f"
            },
            "baxis": {
             "endlinecolor": "#2a3f5f",
             "gridcolor": "#C8D4E3",
             "linecolor": "#C8D4E3",
             "minorgridcolor": "#C8D4E3",
             "startlinecolor": "#2a3f5f"
            },
            "type": "carpet"
           }
          ],
          "choropleth": [
           {
            "colorbar": {
             "outlinewidth": 0,
             "ticks": ""
            },
            "type": "choropleth"
           }
          ],
          "contour": [
           {
            "colorbar": {
             "outlinewidth": 0,
             "ticks": ""
            },
            "colorscale": [
             [
              0,
              "#0d0887"
             ],
             [
              0.1111111111111111,
              "#46039f"
             ],
             [
              0.2222222222222222,
              "#7201a8"
             ],
             [
              0.3333333333333333,
              "#9c179e"
             ],
             [
              0.4444444444444444,
              "#bd3786"
             ],
             [
              0.5555555555555556,
              "#d8576b"
             ],
             [
              0.6666666666666666,
              "#ed7953"
             ],
             [
              0.7777777777777778,
              "#fb9f3a"
             ],
             [
              0.8888888888888888,
              "#fdca26"
             ],
             [
              1,
              "#f0f921"
             ]
            ],
            "type": "contour"
           }
          ],
          "contourcarpet": [
           {
            "colorbar": {
             "outlinewidth": 0,
             "ticks": ""
            },
            "type": "contourcarpet"
           }
          ],
          "heatmap": [
           {
            "colorbar": {
             "outlinewidth": 0,
             "ticks": ""
            },
            "colorscale": [
             [
              0,
              "#0d0887"
             ],
             [
              0.1111111111111111,
              "#46039f"
             ],
             [
              0.2222222222222222,
              "#7201a8"
             ],
             [
              0.3333333333333333,
              "#9c179e"
             ],
             [
              0.4444444444444444,
              "#bd3786"
             ],
             [
              0.5555555555555556,
              "#d8576b"
             ],
             [
              0.6666666666666666,
              "#ed7953"
             ],
             [
              0.7777777777777778,
              "#fb9f3a"
             ],
             [
              0.8888888888888888,
              "#fdca26"
             ],
             [
              1,
              "#f0f921"
             ]
            ],
            "type": "heatmap"
           }
          ],
          "heatmapgl": [
           {
            "colorbar": {
             "outlinewidth": 0,
             "ticks": ""
            },
            "colorscale": [
             [
              0,
              "#0d0887"
             ],
             [
              0.1111111111111111,
              "#46039f"
             ],
             [
              0.2222222222222222,
              "#7201a8"
             ],
             [
              0.3333333333333333,
              "#9c179e"
             ],
             [
              0.4444444444444444,
              "#bd3786"
             ],
             [
              0.5555555555555556,
              "#d8576b"
             ],
             [
              0.6666666666666666,
              "#ed7953"
             ],
             [
              0.7777777777777778,
              "#fb9f3a"
             ],
             [
              0.8888888888888888,
              "#fdca26"
             ],
             [
              1,
              "#f0f921"
             ]
            ],
            "type": "heatmapgl"
           }
          ],
          "histogram": [
           {
            "marker": {
             "pattern": {
              "fillmode": "overlay",
              "size": 10,
              "solidity": 0.2
             }
            },
            "type": "histogram"
           }
          ],
          "histogram2d": [
           {
            "colorbar": {
             "outlinewidth": 0,
             "ticks": ""
            },
            "colorscale": [
             [
              0,
              "#0d0887"
             ],
             [
              0.1111111111111111,
              "#46039f"
             ],
             [
              0.2222222222222222,
              "#7201a8"
             ],
             [
              0.3333333333333333,
              "#9c179e"
             ],
             [
              0.4444444444444444,
              "#bd3786"
             ],
             [
              0.5555555555555556,
              "#d8576b"
             ],
             [
              0.6666666666666666,
              "#ed7953"
             ],
             [
              0.7777777777777778,
              "#fb9f3a"
             ],
             [
              0.8888888888888888,
              "#fdca26"
             ],
             [
              1,
              "#f0f921"
             ]
            ],
            "type": "histogram2d"
           }
          ],
          "histogram2dcontour": [
           {
            "colorbar": {
             "outlinewidth": 0,
             "ticks": ""
            },
            "colorscale": [
             [
              0,
              "#0d0887"
             ],
             [
              0.1111111111111111,
              "#46039f"
             ],
             [
              0.2222222222222222,
              "#7201a8"
             ],
             [
              0.3333333333333333,
              "#9c179e"
             ],
             [
              0.4444444444444444,
              "#bd3786"
             ],
             [
              0.5555555555555556,
              "#d8576b"
             ],
             [
              0.6666666666666666,
              "#ed7953"
             ],
             [
              0.7777777777777778,
              "#fb9f3a"
             ],
             [
              0.8888888888888888,
              "#fdca26"
             ],
             [
              1,
              "#f0f921"
             ]
            ],
            "type": "histogram2dcontour"
           }
          ],
          "mesh3d": [
           {
            "colorbar": {
             "outlinewidth": 0,
             "ticks": ""
            },
            "type": "mesh3d"
           }
          ],
          "parcoords": [
           {
            "line": {
             "colorbar": {
              "outlinewidth": 0,
              "ticks": ""
             }
            },
            "type": "parcoords"
           }
          ],
          "pie": [
           {
            "automargin": true,
            "type": "pie"
           }
          ],
          "scatter": [
           {
            "fillpattern": {
             "fillmode": "overlay",
             "size": 10,
             "solidity": 0.2
            },
            "type": "scatter"
           }
          ],
          "scatter3d": [
           {
            "line": {
             "colorbar": {
              "outlinewidth": 0,
              "ticks": ""
             }
            },
            "marker": {
             "colorbar": {
              "outlinewidth": 0,
              "ticks": ""
             }
            },
            "type": "scatter3d"
           }
          ],
          "scattercarpet": [
           {
            "marker": {
             "colorbar": {
              "outlinewidth": 0,
              "ticks": ""
             }
            },
            "type": "scattercarpet"
           }
          ],
          "scattergeo": [
           {
            "marker": {
             "colorbar": {
              "outlinewidth": 0,
              "ticks": ""
             }
            },
            "type": "scattergeo"
           }
          ],
          "scattergl": [
           {
            "marker": {
             "colorbar": {
              "outlinewidth": 0,
              "ticks": ""
             }
            },
            "type": "scattergl"
           }
          ],
          "scattermapbox": [
           {
            "marker": {
             "colorbar": {
              "outlinewidth": 0,
              "ticks": ""
             }
            },
            "type": "scattermapbox"
           }
          ],
          "scatterpolar": [
           {
            "marker": {
             "colorbar": {
              "outlinewidth": 0,
              "ticks": ""
             }
            },
            "type": "scatterpolar"
           }
          ],
          "scatterpolargl": [
           {
            "marker": {
             "colorbar": {
              "outlinewidth": 0,
              "ticks": ""
             }
            },
            "type": "scatterpolargl"
           }
          ],
          "scatterternary": [
           {
            "marker": {
             "colorbar": {
              "outlinewidth": 0,
              "ticks": ""
             }
            },
            "type": "scatterternary"
           }
          ],
          "surface": [
           {
            "colorbar": {
             "outlinewidth": 0,
             "ticks": ""
            },
            "colorscale": [
             [
              0,
              "#0d0887"
             ],
             [
              0.1111111111111111,
              "#46039f"
             ],
             [
              0.2222222222222222,
              "#7201a8"
             ],
             [
              0.3333333333333333,
              "#9c179e"
             ],
             [
              0.4444444444444444,
              "#bd3786"
             ],
             [
              0.5555555555555556,
              "#d8576b"
             ],
             [
              0.6666666666666666,
              "#ed7953"
             ],
             [
              0.7777777777777778,
              "#fb9f3a"
             ],
             [
              0.8888888888888888,
              "#fdca26"
             ],
             [
              1,
              "#f0f921"
             ]
            ],
            "type": "surface"
           }
          ],
          "table": [
           {
            "cells": {
             "fill": {
              "color": "#EBF0F8"
             },
             "line": {
              "color": "white"
             }
            },
            "header": {
             "fill": {
              "color": "#C8D4E3"
             },
             "line": {
              "color": "white"
             }
            },
            "type": "table"
           }
          ]
         },
         "layout": {
          "annotationdefaults": {
           "arrowcolor": "#2a3f5f",
           "arrowhead": 0,
           "arrowwidth": 1
          },
          "autotypenumbers": "strict",
          "coloraxis": {
           "colorbar": {
            "outlinewidth": 0,
            "ticks": ""
           }
          },
          "colorscale": {
           "diverging": [
            [
             0,
             "#8e0152"
            ],
            [
             0.1,
             "#c51b7d"
            ],
            [
             0.2,
             "#de77ae"
            ],
            [
             0.3,
             "#f1b6da"
            ],
            [
             0.4,
             "#fde0ef"
            ],
            [
             0.5,
             "#f7f7f7"
            ],
            [
             0.6,
             "#e6f5d0"
            ],
            [
             0.7,
             "#b8e186"
            ],
            [
             0.8,
             "#7fbc41"
            ],
            [
             0.9,
             "#4d9221"
            ],
            [
             1,
             "#276419"
            ]
           ],
           "sequential": [
            [
             0,
             "#0d0887"
            ],
            [
             0.1111111111111111,
             "#46039f"
            ],
            [
             0.2222222222222222,
             "#7201a8"
            ],
            [
             0.3333333333333333,
             "#9c179e"
            ],
            [
             0.4444444444444444,
             "#bd3786"
            ],
            [
             0.5555555555555556,
             "#d8576b"
            ],
            [
             0.6666666666666666,
             "#ed7953"
            ],
            [
             0.7777777777777778,
             "#fb9f3a"
            ],
            [
             0.8888888888888888,
             "#fdca26"
            ],
            [
             1,
             "#f0f921"
            ]
           ],
           "sequentialminus": [
            [
             0,
             "#0d0887"
            ],
            [
             0.1111111111111111,
             "#46039f"
            ],
            [
             0.2222222222222222,
             "#7201a8"
            ],
            [
             0.3333333333333333,
             "#9c179e"
            ],
            [
             0.4444444444444444,
             "#bd3786"
            ],
            [
             0.5555555555555556,
             "#d8576b"
            ],
            [
             0.6666666666666666,
             "#ed7953"
            ],
            [
             0.7777777777777778,
             "#fb9f3a"
            ],
            [
             0.8888888888888888,
             "#fdca26"
            ],
            [
             1,
             "#f0f921"
            ]
           ]
          },
          "colorway": [
           "#636efa",
           "#EF553B",
           "#00cc96",
           "#ab63fa",
           "#FFA15A",
           "#19d3f3",
           "#FF6692",
           "#B6E880",
           "#FF97FF",
           "#FECB52"
          ],
          "font": {
           "color": "#2a3f5f"
          },
          "geo": {
           "bgcolor": "white",
           "lakecolor": "white",
           "landcolor": "white",
           "showlakes": true,
           "showland": true,
           "subunitcolor": "#C8D4E3"
          },
          "hoverlabel": {
           "align": "left"
          },
          "hovermode": "closest",
          "mapbox": {
           "style": "light"
          },
          "paper_bgcolor": "white",
          "plot_bgcolor": "white",
          "polar": {
           "angularaxis": {
            "gridcolor": "#EBF0F8",
            "linecolor": "#EBF0F8",
            "ticks": ""
           },
           "bgcolor": "white",
           "radialaxis": {
            "gridcolor": "#EBF0F8",
            "linecolor": "#EBF0F8",
            "ticks": ""
           }
          },
          "scene": {
           "xaxis": {
            "backgroundcolor": "white",
            "gridcolor": "#DFE8F3",
            "gridwidth": 2,
            "linecolor": "#EBF0F8",
            "showbackground": true,
            "ticks": "",
            "zerolinecolor": "#EBF0F8"
           },
           "yaxis": {
            "backgroundcolor": "white",
            "gridcolor": "#DFE8F3",
            "gridwidth": 2,
            "linecolor": "#EBF0F8",
            "showbackground": true,
            "ticks": "",
            "zerolinecolor": "#EBF0F8"
           },
           "zaxis": {
            "backgroundcolor": "white",
            "gridcolor": "#DFE8F3",
            "gridwidth": 2,
            "linecolor": "#EBF0F8",
            "showbackground": true,
            "ticks": "",
            "zerolinecolor": "#EBF0F8"
           }
          },
          "shapedefaults": {
           "line": {
            "color": "#2a3f5f"
           }
          },
          "ternary": {
           "aaxis": {
            "gridcolor": "#DFE8F3",
            "linecolor": "#A2B1C6",
            "ticks": ""
           },
           "baxis": {
            "gridcolor": "#DFE8F3",
            "linecolor": "#A2B1C6",
            "ticks": ""
           },
           "bgcolor": "white",
           "caxis": {
            "gridcolor": "#DFE8F3",
            "linecolor": "#A2B1C6",
            "ticks": ""
           }
          },
          "title": {
           "x": 0.05
          },
          "xaxis": {
           "automargin": true,
           "gridcolor": "#EBF0F8",
           "linecolor": "#EBF0F8",
           "ticks": "",
           "title": {
            "standoff": 15
           },
           "zerolinecolor": "#EBF0F8",
           "zerolinewidth": 2
          },
          "yaxis": {
           "automargin": true,
           "gridcolor": "#EBF0F8",
           "linecolor": "#EBF0F8",
           "ticks": "",
           "title": {
            "standoff": 15
           },
           "zerolinecolor": "#EBF0F8",
           "zerolinewidth": 2
          }
         }
        },
        "width": 1200,
        "xaxis": {
         "anchor": "y",
         "autorange": true,
         "domain": [
          0,
          1
         ],
         "range": [
          9630,
          9804
         ],
         "title": {
          "text": "Frame"
         },
         "type": "linear"
        },
        "yaxis": {
         "anchor": "x",
         "domain": [
          0,
          1
         ],
         "range": [
          0,
          50
         ],
         "title": {
          "text": "SSM"
         },
         "type": "linear"
        }
       }
      },
      "image/png": "[encoded data removed]",
      "text/html": [
       "<div>                            <div id=\"d0f13bbf-146d-4719-b23b-2cf46bf36b79\" class=\"plotly-graph-div\" style=\"height:500px; width:1200px;\"></div>            <script type=\"text/javascript\">                require([\"plotly\"], function(Plotly) {                    window.PLOTLYENV=window.PLOTLYENV || {};                                    if (document.getElementById(\"d0f13bbf-146d-4719-b23b-2cf46bf36b79\")) {                    Plotly.newPlot(                        \"d0f13bbf-146d-4719-b23b-2cf46bf36b79\",                        [{\"hovertemplate\":\"ssm=ACT<br>frame=%{x}<br>SSM=%{y}<extra></extra>\",\"legendgroup\":\"ACT\",\"line\":{\"color\":\"rgb(102,194,165)\",\"dash\":\"solid\"},\"marker\":{\"symbol\":\"circle\"},\"mode\":\"lines\",\"name\":\"ACT\",\"orientation\":\"v\",\"showlegend\":true,\"x\":[9630,9636,9642,9648,9654,9660,9666,9672,9678,9684,9690,9696,9702,9708,9714,9720,9726,9732,9738,9744,9750,9756,9762,9768,9774,9780,9786,9792,9798,9804],\"xaxis\":\"x\",\"y\":[3.1806365057481663,26.90458268824653,2.0934130818766814,1.5137968599953868,3.532293634788073,2.181939647991153,2.727998032914912,2.5497941090992304,16.313552637306792,2.4159642675887425,6.5213617693503085,1.7781127460348296,6.464207298895068,5.489026694237995,4.606149223147235,4.157544808393484,9.882631612267602,1.408475350306969,2.1119755346991926,2.107019538374711,1.3665459109179396,3.1572016898101003,1.4519823468618462,1.227249173009643,1.9948666067805565,2.0961367461640834,1.270282142801497,1.2621305014968862,0.8930796747915447,0.7449697535701008],\"yaxis\":\"y\",\"type\":\"scatter\"},{\"hovertemplate\":\"ssm=MTTC<br>frame=%{x}<br>SSM=%{y}<extra></extra>\",\"legendgroup\":\"MTTC\",\"line\":{\"color\":\"rgb(252,141,98)\",\"dash\":\"solid\"},\"marker\":{\"symbol\":\"circle\"},\"mode\":\"lines\",\"name\":\"MTTC\",\"orientation\":\"v\",\"showlegend\":true,\"x\":[9630,9636,9642,9648,9654,9660,9666,9672,9678,9684,9690,9696,9702,9708,9714,9720,9726,9732,9738,9744,9750,9756,9762,9768,9774,9780,9786,9792,9798,9804],\"xaxis\":\"x\",\"y\":[4.868352081286095,3.601161952350242,3.745826003467327,22.09285095435276,null,3.332572116298103,4.446747286129612,null,3.0478098441433,null,null,2.7373235380430527,null,2.550861375741608,3.1241706612734137,4.668241902066024,2.1856872946962693,3.114770706159317,null,1.2252561990272617,1.368528588153492,1.176254446641286,1.5525875435115872,0.9890974237533487,0.836022636298895,0.7208337686535866,0.4813554252173919,0.2863092406982064,0.0793821369166448,null],\"yaxis\":\"y\",\"type\":\"scatter\"},{\"hovertemplate\":\"ssm=T2<br>frame=%{x}<br>SSM=%{y}<extra></extra>\",\"legendgroup\":\"T2\",\"line\":{\"color\":\"rgb(141,160,203)\",\"dash\":\"solid\"},\"marker\":{\"symbol\":\"circle\"},\"mode\":\"lines\",\"name\":\"T2\",\"orientation\":\"v\",\"showlegend\":true,\"x\":[9630,9636,9642,9648,9654,9660,9666,9672,9678,9684,9690,9696,9702,9708,9714,9720,9726,9732,9738,9744,9750,9756,9762,9768,9774,9780,9786,9792,9798,9804],\"xaxis\":\"x\",\"y\":[null,null,null,null,null,null,null,null,null,null,null,null,null,null,null,null,null,null,null,6.0823821730320935,4.471114042681974,3.440509759496785,3.2174847236970945,2.6980439834449346,2.316736870918524,2.0733665874671208,1.7952567633565093,1.5413626881741134,1.2544350411500222,0.9463274894234736],\"yaxis\":\"y\",\"type\":\"scatter\"},{\"hovertemplate\":\"ssm=TTC<br>frame=%{x}<br>SSM=%{y}<extra></extra>\",\"legendgroup\":\"TTC\",\"line\":{\"color\":\"rgb(231,138,195)\",\"dash\":\"solid\"},\"marker\":{\"symbol\":\"circle\"},\"mode\":\"lines\",\"name\":\"TTC\",\"orientation\":\"v\",\"showlegend\":true,\"x\":[9630,9636,9642,9648,9654,9660,9666,9672,9678,9684,9690,9696,9702,9708,9714,9720,9726,9732,9738,9744,9750,9756,9762,9768,9774,9780,9786,9792,9798,9804],\"xaxis\":\"x\",\"y\":[51.25844634887768,21.988117361757883,14.836254823083848,14.7258269394387,16.262356080397357,11.360373853860128,9.905826370764853,11.584731117068827,8.610020706995508,10.197648649856246,12.001141810408695,8.261805383647268,16.26159916792938,9.307400557939602,7.455345237421108,6.94393383170265,5.068064083245471,4.565027630539986,8.930763211876018,3.4461163888995068,2.450083767292989,1.8048370506124345,1.592795171836927,1.233578835738953,0.9518249874524516,0.7387194935583845,0.5065672237750357,0.2921441248228486,0.0800351127885476,null],\"yaxis\":\"y\",\"type\":\"scatter\"}],                        {\"template\":{\"data\":{\"barpolar\":[{\"marker\":{\"line\":{\"color\":\"white\",\"width\":0.5},\"pattern\":{\"fillmode\":\"overlay\",\"size\":10,\"solidity\":0.2}},\"type\":\"barpolar\"}],\"bar\":[{\"error_x\":{\"color\":\"#2a3f5f\"},\"error_y\":{\"color\":\"#2a3f5f\"},\"marker\":{\"line\":{\"color\":\"white\",\"width\":0.5},\"pattern\":{\"fillmode\":\"overlay\",\"size\":10,\"solidity\":0.2}},\"type\":\"bar\"}],\"carpet\":[{\"aaxis\":{\"endlinecolor\":\"#2a3f5f\",\"gridcolor\":\"#C8D4E3\",\"linecolor\":\"#C8D4E3\",\"minorgridcolor\":\"#C8D4E3\",\"startlinecolor\":\"#2a3f5f\"},\"baxis\":{\"endlinecolor\":\"#2a3f5f\",\"gridcolor\":\"#C8D4E3\",\"linecolor\":\"#C8D4E3\",\"minorgridcolor\":\"#C8D4E3\",\"startlinecolor\":\"#2a3f5f\"},\"type\":\"carpet\"}],\"choropleth\":[{\"colorbar\":{\"outlinewidth\":0,\"ticks\":\"\"},\"type\":\"choropleth\"}],\"contourcarpet\":[{\"colorbar\":{\"outlinewidth\":0,\"ticks\":\"\"},\"type\":\"contourcarpet\"}],\"contour\":[{\"colorbar\":{\"outlinewidth\":0,\"ticks\":\"\"},\"colorscale\":[[0.0,\"#0d0887\"],[0.1111111111111111,\"#46039f\"],[0.2222222222222222,\"#7201a8\"],[0.3333333333333333,\"#9c179e\"],[0.4444444444444444,\"#bd3786\"],[0.5555555555555556,\"#d8576b\"],[0.6666666666666666,\"#ed7953\"],[0.7777777777777778,\"#fb9f3a\"],[0.8888888888888888,\"#fdca26\"],[1.0,\"#f0f921\"]],\"type\":\"contour\"}],\"heatmapgl\":[{\"colorbar\":{\"outlinewidth\":0,\"ticks\":\"\"},\"colorscale\":[[0.0,\"#0d0887\"],[0.1111111111111111,\"#46039f\"],[0.2222222222222222,\"#7201a8\"],[0.3333333333333333,\"#9c179e\"],[0.4444444444444444,\"#bd3786\"],[0.5555555555555556,\"#d8576b\"],[0.6666666666666666,\"#ed7953\"],[0.7777777777777778,\"#fb9f3a\"],[0.8888888888888888,\"#fdca26\"],[1.0,\"#f0f921\"]],\"type\":\"heatmapgl\"}],\"heatmap\":[{\"colorbar\":{\"outlinewidth\":0,\"ticks\":\"\"},\"colorscale\":[[0.0,\"#0d0887\"],[0.1111111111111111,\"#46039f\"],[0.2222222222222222,\"#7201a8\"],[0.3333333333333333,\"#9c179e\"],[0.4444444444444444,\"#bd3786\"],[0.5555555555555556,\"#d8576b\"],[0.6666666666666666,\"#ed7953\"],[0.7777777777777778,\"#fb9f3a\"],[0.8888888888888888,\"#fdca26\"],[1.0,\"#f0f921\"]],\"type\":\"heatmap\"}],\"histogram2dcontour\":[{\"colorbar\":{\"outlinewidth\":0,\"ticks\":\"\"},\"colorscale\":[[0.0,\"#0d0887\"],[0.1111111111111111,\"#46039f\"],[0.2222222222222222,\"#7201a8\"],[0.3333333333333333,\"#9c179e\"],[0.4444444444444444,\"#bd3786\"],[0.5555555555555556,\"#d8576b\"],[0.6666666666666666,\"#ed7953\"],[0.7777777777777778,\"#fb9f3a\"],[0.8888888888888888,\"#fdca26\"],[1.0,\"#f0f921\"]],\"type\":\"histogram2dcontour\"}],\"histogram2d\":[{\"colorbar\":{\"outlinewidth\":0,\"ticks\":\"\"},\"colorscale\":[[0.0,\"#0d0887\"],[0.1111111111111111,\"#46039f\"],[0.2222222222222222,\"#7201a8\"],[0.3333333333333333,\"#9c179e\"],[0.4444444444444444,\"#bd3786\"],[0.5555555555555556,\"#d8576b\"],[0.6666666666666666,\"#ed7953\"],[0.7777777777777778,\"#fb9f3a\"],[0.8888888888888888,\"#fdca26\"],[1.0,\"#f0f921\"]],\"type\":\"histogram2d\"}],\"histogram\":[{\"marker\":{\"pattern\":{\"fillmode\":\"overlay\",\"size\":10,\"solidity\":0.2}},\"type\":\"histogram\"}],\"mesh3d\":[{\"colorbar\":{\"outlinewidth\":0,\"ticks\":\"\"},\"type\":\"mesh3d\"}],\"parcoords\":[{\"line\":{\"colorbar\":{\"outlinewidth\":0,\"ticks\":\"\"}},\"type\":\"parcoords\"}],\"pie\":[{\"automargin\":true,\"type\":\"pie\"}],\"scatter3d\":[{\"line\":{\"colorbar\":{\"outlinewidth\":0,\"ticks\":\"\"}},\"marker\":{\"colorbar\":{\"outlinewidth\":0,\"ticks\":\"\"}},\"type\":\"scatter3d\"}],\"scattercarpet\":[{\"marker\":{\"colorbar\":{\"outlinewidth\":0,\"ticks\":\"\"}},\"type\":\"scattercarpet\"}],\"scattergeo\":[{\"marker\":{\"colorbar\":{\"outlinewidth\":0,\"ticks\":\"\"}},\"type\":\"scattergeo\"}],\"scattergl\":[{\"marker\":{\"colorbar\":{\"outlinewidth\":0,\"ticks\":\"\"}},\"type\":\"scattergl\"}],\"scattermapbox\":[{\"marker\":{\"colorbar\":{\"outlinewidth\":0,\"ticks\":\"\"}},\"type\":\"scattermapbox\"}],\"scatterpolargl\":[{\"marker\":{\"colorbar\":{\"outlinewidth\":0,\"ticks\":\"\"}},\"type\":\"scatterpolargl\"}],\"scatterpolar\":[{\"marker\":{\"colorbar\":{\"outlinewidth\":0,\"ticks\":\"\"}},\"type\":\"scatterpolar\"}],\"scatter\":[{\"fillpattern\":{\"fillmode\":\"overlay\",\"size\":10,\"solidity\":0.2},\"type\":\"scatter\"}],\"scatterternary\":[{\"marker\":{\"colorbar\":{\"outlinewidth\":0,\"ticks\":\"\"}},\"type\":\"scatterternary\"}],\"surface\":[{\"colorbar\":{\"outlinewidth\":0,\"ticks\":\"\"},\"colorscale\":[[0.0,\"#0d0887\"],[0.1111111111111111,\"#46039f\"],[0.2222222222222222,\"#7201a8\"],[0.3333333333333333,\"#9c179e\"],[0.4444444444444444,\"#bd3786\"],[0.5555555555555556,\"#d8576b\"],[0.6666666666666666,\"#ed7953\"],[0.7777777777777778,\"#fb9f3a\"],[0.8888888888888888,\"#fdca26\"],[1.0,\"#f0f921\"]],\"type\":\"surface\"}],\"table\":[{\"cells\":{\"fill\":{\"color\":\"#EBF0F8\"},\"line\":{\"color\":\"white\"}},\"header\":{\"fill\":{\"color\":\"#C8D4E3\"},\"line\":{\"color\":\"white\"}},\"type\":\"table\"}]},\"layout\":{\"annotationdefaults\":{\"arrowcolor\":\"#2a3f5f\",\"arrowhead\":0,\"arrowwidth\":1},\"autotypenumbers\":\"strict\",\"coloraxis\":{\"colorbar\":{\"outlinewidth\":0,\"ticks\":\"\"}},\"colorscale\":{\"diverging\":[[0,\"#8e0152\"],[0.1,\"#c51b7d\"],[0.2,\"#de77ae\"],[0.3,\"#f1b6da\"],[0.4,\"#fde0ef\"],[0.5,\"#f7f7f7\"],[0.6,\"#e6f5d0\"],[0.7,\"#b8e186\"],[0.8,\"#7fbc41\"],[0.9,\"#4d9221\"],[1,\"#276419\"]],\"sequential\":[[0.0,\"#0d0887\"],[0.1111111111111111,\"#46039f\"],[0.2222222222222222,\"#7201a8\"],[0.3333333333333333,\"#9c179e\"],[0.4444444444444444,\"#bd3786\"],[0.5555555555555556,\"#d8576b\"],[0.6666666666666666,\"#ed7953\"],[0.7777777777777778,\"#fb9f3a\"],[0.8888888888888888,\"#fdca26\"],[1.0,\"#f0f921\"]],\"sequentialminus\":[[0.0,\"#0d0887\"],[0.1111111111111111,\"#46039f\"],[0.2222222222222222,\"#7201a8\"],[0.3333333333333333,\"#9c179e\"],[0.4444444444444444,\"#bd3786\"],[0.5555555555555556,\"#d8576b\"],[0.6666666666666666,\"#ed7953\"],[0.7777777777777778,\"#fb9f3a\"],[0.8888888888888888,\"#fdca26\"],[1.0,\"#f0f921\"]]},\"colorway\":[\"#636efa\",\"#EF553B\",\"#00cc96\",\"#ab63fa\",\"#FFA15A\",\"#19d3f3\",\"#FF6692\",\"#B6E880\",\"#FF97FF\",\"#FECB52\"],\"font\":{\"color\":\"#2a3f5f\"},\"geo\":{\"bgcolor\":\"white\",\"lakecolor\":\"white\",\"landcolor\":\"white\",\"showlakes\":true,\"showland\":true,\"subunitcolor\":\"#C8D4E3\"},\"hoverlabel\":{\"align\":\"left\"},\"hovermode\":\"closest\",\"mapbox\":{\"style\":\"light\"},\"paper_bgcolor\":\"white\",\"plot_bgcolor\":\"white\",\"polar\":{\"angularaxis\":{\"gridcolor\":\"#EBF0F8\",\"linecolor\":\"#EBF0F8\",\"ticks\":\"\"},\"bgcolor\":\"white\",\"radialaxis\":{\"gridcolor\":\"#EBF0F8\",\"linecolor\":\"#EBF0F8\",\"ticks\":\"\"}},\"scene\":{\"xaxis\":{\"backgroundcolor\":\"white\",\"gridcolor\":\"#DFE8F3\",\"gridwidth\":2,\"linecolor\":\"#EBF0F8\",\"showbackground\":true,\"ticks\":\"\",\"zerolinecolor\":\"#EBF0F8\"},\"yaxis\":{\"backgroundcolor\":\"white\",\"gridcolor\":\"#DFE8F3\",\"gridwidth\":2,\"linecolor\":\"#EBF0F8\",\"showbackground\":true,\"ticks\":\"\",\"zerolinecolor\":\"#EBF0F8\"},\"zaxis\":{\"backgroundcolor\":\"white\",\"gridcolor\":\"#DFE8F3\",\"gridwidth\":2,\"linecolor\":\"#EBF0F8\",\"showbackground\":true,\"ticks\":\"\",\"zerolinecolor\":\"#EBF0F8\"}},\"shapedefaults\":{\"line\":{\"color\":\"#2a3f5f\"}},\"ternary\":{\"aaxis\":{\"gridcolor\":\"#DFE8F3\",\"linecolor\":\"#A2B1C6\",\"ticks\":\"\"},\"baxis\":{\"gridcolor\":\"#DFE8F3\",\"linecolor\":\"#A2B1C6\",\"ticks\":\"\"},\"bgcolor\":\"white\",\"caxis\":{\"gridcolor\":\"#DFE8F3\",\"linecolor\":\"#A2B1C6\",\"ticks\":\"\"}},\"title\":{\"x\":0.05},\"xaxis\":{\"automargin\":true,\"gridcolor\":\"#EBF0F8\",\"linecolor\":\"#EBF0F8\",\"ticks\":\"\",\"title\":{\"standoff\":15},\"zerolinecolor\":\"#EBF0F8\",\"zerolinewidth\":2},\"yaxis\":{\"automargin\":true,\"gridcolor\":\"#EBF0F8\",\"linecolor\":\"#EBF0F8\",\"ticks\":\"\",\"title\":{\"standoff\":15},\"zerolinecolor\":\"#EBF0F8\",\"zerolinewidth\":2}}},\"xaxis\":{\"anchor\":\"y\",\"domain\":[0.0,1.0],\"title\":{\"text\":\"Frame\"}},\"yaxis\":{\"anchor\":\"x\",\"domain\":[0.0,1.0],\"title\":{\"text\":\"SSM\"},\"range\":[0,50]},\"legend\":{\"title\":{\"text\":\"ssm\"},\"tracegroupgap\":0},\"margin\":{\"t\":60},\"height\":500,\"width\":1200},                        {\"responsive\": true}                    ).then(function(){\n",
       "                            \n",
       "var gd = document.getElementById('d0f13bbf-146d-4719-b23b-2cf46bf36b79');\n",
       "var x = new MutationObserver(function (mutations, observer) {{\n",
       "        var display = window.getComputedStyle(gd).display;\n",
       "        if (!display || display === 'none') {{\n",
       "            console.log([gd, 'removed!']);\n",
       "            Plotly.purge(gd);\n",
       "            observer.disconnect();\n",
       "        }}\n",
       "}});\n",
       "\n",
       "// Listen for the removal of the full notebook cells\n",
       "var notebookContainer = gd.closest('#notebook-container');\n",
       "if (notebookContainer) {{\n",
       "    x.observe(notebookContainer, {childList: true});\n",
       "}}\n",
       "\n",
       "// Listen for the clearing of the current output cell\n",
       "var outputEl = gd.closest('.output');\n",
       "if (outputEl) {{\n",
       "    x.observe(outputEl, {childList: true});\n",
       "}}\n",
       "\n",
       "                        })                };                });            </script>        </div>"
      ]
     },
     "metadata": {},
     "output_type": "display_data"
    },
    {
     "data": {
      "application/vnd.plotly.v1+json": {
       "config": {
        "plotlyServerURL": "https://plot.ly"
       },
       "data": [
        {
         "hovertemplate": "REL=Distance<br>frame=%{x}<br>rel=%{y}<extra></extra>",
         "legendgroup": "Distance",
         "line": {
          "color": "rgb(102,194,165)",
          "dash": "solid"
         },
         "marker": {
          "symbol": "circle"
         },
         "mode": "lines",
         "name": "Distance",
         "orientation": "v",
         "showlegend": true,
         "type": "scatter",
         "x": [
          9630,
          9636,
          9642,
          9648,
          9654,
          9660,
          9666,
          9672,
          9678,
          9684,
          9690,
          9696,
          9702,
          9708,
          9714,
          9720,
          9726,
          9732,
          9738,
          9744,
          9750,
          9756,
          9762,
          9768,
          9774,
          9780,
          9786,
          9792,
          9798,
          9804
         ],
         "xaxis": "x",
         "y": [
          16.079015622338154,
          15.9942830253756,
          15.873364140993198,
          15.757649406885957,
          15.65755085454202,
          15.51684522432122,
          15.36321071417724,
          15.24073789451266,
          15.07761060833343,
          14.945058569197284,
          14.842880279154029,
          14.698827432213392,
          14.643631728576976,
          14.52287209677547,
          14.375490893160148,
          14.208250206649534,
          13.978051429835272,
          13.75172903004217,
          13.642811069352586,
          13.309205854563222,
          12.894239438528558,
          12.399096537099991,
          11.886935658575936,
          11.358127804359349,
          10.793326554034437,
          10.233786052347368,
          9.636990425821375,
          9.01592018473114,
          8.460235794550952,
          7.8154670504040755
         ],
         "yaxis": "y"
        },
        {
         "hovertemplate": "REL=Acceleration<br>frame=%{x}<br>rel=%{y}<extra></extra>",
         "legendgroup": "Acceleration",
         "line": {
          "color": "rgb(252,141,98)",
          "dash": "solid"
         },
         "marker": {
          "symbol": "circle"
         },
         "mode": "lines",
         "name": "Acceleration",
         "orientation": "v",
         "showlegend": true,
         "type": "scatter",
         "x": [
          9630,
          9636,
          9642,
          9648,
          9654,
          9660,
          9666,
          9672,
          9678,
          9684,
          9690,
          9696,
          9702,
          9708,
          9714,
          9720,
          9726,
          9732,
          9738,
          9744,
          9750,
          9756,
          9762,
          9768,
          9774,
          9780,
          9786,
          9792,
          9798,
          9804
         ],
         "xaxis": "x",
         "y": [
          1.1379594536376785,
          1.182379288237279,
          1.1087093355000048,
          1.70434798035061,
          1.1748950785600067,
          1.102036190704415,
          0.9248211516291542,
          0.7159787610325938,
          1.133773777314194,
          1.523232843535532,
          0.7183849355491408,
          1.961911183641471,
          2.5816203499450507,
          1.7480312005592422,
          0.964403920822376,
          1.8201373720478,
          1.6361153813978782,
          1.836549708692977,
          4.238727330962719,
          5.767805385553437,
          3.076927404591452,
          2.720387900305373,
          1.525321007402927,
          3.103494683820401,
          1.1940048746235277,
          0.2310351177315067,
          1.6418492321916478,
          1.246985164807446,
          3.650148000595404,
          3.2674094878436764
         ],
         "yaxis": "y"
        },
        {
         "hovertemplate": "REL=Velocity<br>frame=%{x}<br>rel=%{y}<extra></extra>",
         "legendgroup": "Velocity",
         "line": {
          "color": "rgb(141,160,203)",
          "dash": "solid"
         },
         "marker": {
          "symbol": "circle"
         },
         "mode": "lines",
         "name": "Velocity",
         "orientation": "v",
         "showlegend": true,
         "type": "scatter",
         "x": [
          9630,
          9636,
          9642,
          9648,
          9654,
          9660,
          9666,
          9672,
          9678,
          9684,
          9690,
          9696,
          9702,
          9708,
          9714,
          9720,
          9726,
          9732,
          9738,
          9744,
          9750,
          9756,
          9762,
          9768,
          9774,
          9780,
          9786,
          9792,
          9798,
          9804
         ],
         "xaxis": "x",
         "y": [
          3.406423033793564,
          3.627644416896567,
          4.300109326549378,
          5.386760507083916,
          4.5508260826664815,
          4.918619701079292,
          5.583611451342233,
          5.192780350432782,
          5.6316369116317,
          4.539977686025274,
          4.460877603522215,
          5.848467189824213,
          4.313551810886578,
          4.582362550630265,
          5.222717500263255,
          4.465856823665544,
          5.355842385927536,
          6.282489966293781,
          3.235897557622756,
          6.255377166533396,
          8.233030454801922,
          10.14579155640422,
          10.050270828077942,
          11.484023718798587,
          12.173918537363727,
          12.337823245222332,
          12.71067643147402,
          13.00991793952617,
          13.937158828657434,
          15.06253930706315
         ],
         "yaxis": "y"
        }
       ],
       "layout": {
        "height": 500,
        "legend": {
         "title": {
          "text": "REL"
         },
         "tracegroupgap": 0
        },
        "margin": {
         "t": 60
        },
        "template": {
         "data": {
          "bar": [
           {
            "error_x": {
             "color": "#2a3f5f"
            },
            "error_y": {
             "color": "#2a3f5f"
            },
            "marker": {
             "line": {
              "color": "white",
              "width": 0.5
             },
             "pattern": {
              "fillmode": "overlay",
              "size": 10,
              "solidity": 0.2
             }
            },
            "type": "bar"
           }
          ],
          "barpolar": [
           {
            "marker": {
             "line": {
              "color": "white",
              "width": 0.5
             },
             "pattern": {
              "fillmode": "overlay",
              "size": 10,
              "solidity": 0.2
             }
            },
            "type": "barpolar"
           }
          ],
          "carpet": [
           {
            "aaxis": {
             "endlinecolor": "#2a3f5f",
             "gridcolor": "#C8D4E3",
             "linecolor": "#C8D4E3",
             "minorgridcolor": "#C8D4E3",
             "startlinecolor": "#2a3f5f"
            },
            "baxis": {
             "endlinecolor": "#2a3f5f",
             "gridcolor": "#C8D4E3",
             "linecolor": "#C8D4E3",
             "minorgridcolor": "#C8D4E3",
             "startlinecolor": "#2a3f5f"
            },
            "type": "carpet"
           }
          ],
          "choropleth": [
           {
            "colorbar": {
             "outlinewidth": 0,
             "ticks": ""
            },
            "type": "choropleth"
           }
          ],
          "contour": [
           {
            "colorbar": {
             "outlinewidth": 0,
             "ticks": ""
            },
            "colorscale": [
             [
              0,
              "#0d0887"
             ],
             [
              0.1111111111111111,
              "#46039f"
             ],
             [
              0.2222222222222222,
              "#7201a8"
             ],
             [
              0.3333333333333333,
              "#9c179e"
             ],
             [
              0.4444444444444444,
              "#bd3786"
             ],
             [
              0.5555555555555556,
              "#d8576b"
             ],
             [
              0.6666666666666666,
              "#ed7953"
             ],
             [
              0.7777777777777778,
              "#fb9f3a"
             ],
             [
              0.8888888888888888,
              "#fdca26"
             ],
             [
              1,
              "#f0f921"
             ]
            ],
            "type": "contour"
           }
          ],
          "contourcarpet": [
           {
            "colorbar": {
             "outlinewidth": 0,
             "ticks": ""
            },
            "type": "contourcarpet"
           }
          ],
          "heatmap": [
           {
            "colorbar": {
             "outlinewidth": 0,
             "ticks": ""
            },
            "colorscale": [
             [
              0,
              "#0d0887"
             ],
             [
              0.1111111111111111,
              "#46039f"
             ],
             [
              0.2222222222222222,
              "#7201a8"
             ],
             [
              0.3333333333333333,
              "#9c179e"
             ],
             [
              0.4444444444444444,
              "#bd3786"
             ],
             [
              0.5555555555555556,
              "#d8576b"
             ],
             [
              0.6666666666666666,
              "#ed7953"
             ],
             [
              0.7777777777777778,
              "#fb9f3a"
             ],
             [
              0.8888888888888888,
              "#fdca26"
             ],
             [
              1,
              "#f0f921"
             ]
            ],
            "type": "heatmap"
           }
          ],
          "heatmapgl": [
           {
            "colorbar": {
             "outlinewidth": 0,
             "ticks": ""
            },
            "colorscale": [
             [
              0,
              "#0d0887"
             ],
             [
              0.1111111111111111,
              "#46039f"
             ],
             [
              0.2222222222222222,
              "#7201a8"
             ],
             [
              0.3333333333333333,
              "#9c179e"
             ],
             [
              0.4444444444444444,
              "#bd3786"
             ],
             [
              0.5555555555555556,
              "#d8576b"
             ],
             [
              0.6666666666666666,
              "#ed7953"
             ],
             [
              0.7777777777777778,
              "#fb9f3a"
             ],
             [
              0.8888888888888888,
              "#fdca26"
             ],
             [
              1,
              "#f0f921"
             ]
            ],
            "type": "heatmapgl"
           }
          ],
          "histogram": [
           {
            "marker": {
             "pattern": {
              "fillmode": "overlay",
              "size": 10,
              "solidity": 0.2
             }
            },
            "type": "histogram"
           }
          ],
          "histogram2d": [
           {
            "colorbar": {
             "outlinewidth": 0,
             "ticks": ""
            },
            "colorscale": [
             [
              0,
              "#0d0887"
             ],
             [
              0.1111111111111111,
              "#46039f"
             ],
             [
              0.2222222222222222,
              "#7201a8"
             ],
             [
              0.3333333333333333,
              "#9c179e"
             ],
             [
              0.4444444444444444,
              "#bd3786"
             ],
             [
              0.5555555555555556,
              "#d8576b"
             ],
             [
              0.6666666666666666,
              "#ed7953"
             ],
             [
              0.7777777777777778,
              "#fb9f3a"
             ],
             [
              0.8888888888888888,
              "#fdca26"
             ],
             [
              1,
              "#f0f921"
             ]
            ],
            "type": "histogram2d"
           }
          ],
          "histogram2dcontour": [
           {
            "colorbar": {
             "outlinewidth": 0,
             "ticks": ""
            },
            "colorscale": [
             [
              0,
              "#0d0887"
             ],
             [
              0.1111111111111111,
              "#46039f"
             ],
             [
              0.2222222222222222,
              "#7201a8"
             ],
             [
              0.3333333333333333,
              "#9c179e"
             ],
             [
              0.4444444444444444,
              "#bd3786"
             ],
             [
              0.5555555555555556,
              "#d8576b"
             ],
             [
              0.6666666666666666,
              "#ed7953"
             ],
             [
              0.7777777777777778,
              "#fb9f3a"
             ],
             [
              0.8888888888888888,
              "#fdca26"
             ],
             [
              1,
              "#f0f921"
             ]
            ],
            "type": "histogram2dcontour"
           }
          ],
          "mesh3d": [
           {
            "colorbar": {
             "outlinewidth": 0,
             "ticks": ""
            },
            "type": "mesh3d"
           }
          ],
          "parcoords": [
           {
            "line": {
             "colorbar": {
              "outlinewidth": 0,
              "ticks": ""
             }
            },
            "type": "parcoords"
           }
          ],
          "pie": [
           {
            "automargin": true,
            "type": "pie"
           }
          ],
          "scatter": [
           {
            "fillpattern": {
             "fillmode": "overlay",
             "size": 10,
             "solidity": 0.2
            },
            "type": "scatter"
           }
          ],
          "scatter3d": [
           {
            "line": {
             "colorbar": {
              "outlinewidth": 0,
              "ticks": ""
             }
            },
            "marker": {
             "colorbar": {
              "outlinewidth": 0,
              "ticks": ""
             }
            },
            "type": "scatter3d"
           }
          ],
          "scattercarpet": [
           {
            "marker": {
             "colorbar": {
              "outlinewidth": 0,
              "ticks": ""
             }
            },
            "type": "scattercarpet"
           }
          ],
          "scattergeo": [
           {
            "marker": {
             "colorbar": {
              "outlinewidth": 0,
              "ticks": ""
             }
            },
            "type": "scattergeo"
           }
          ],
          "scattergl": [
           {
            "marker": {
             "colorbar": {
              "outlinewidth": 0,
              "ticks": ""
             }
            },
            "type": "scattergl"
           }
          ],
          "scattermapbox": [
           {
            "marker": {
             "colorbar": {
              "outlinewidth": 0,
              "ticks": ""
             }
            },
            "type": "scattermapbox"
           }
          ],
          "scatterpolar": [
           {
            "marker": {
             "colorbar": {
              "outlinewidth": 0,
              "ticks": ""
             }
            },
            "type": "scatterpolar"
           }
          ],
          "scatterpolargl": [
           {
            "marker": {
             "colorbar": {
              "outlinewidth": 0,
              "ticks": ""
             }
            },
            "type": "scatterpolargl"
           }
          ],
          "scatterternary": [
           {
            "marker": {
             "colorbar": {
              "outlinewidth": 0,
              "ticks": ""
             }
            },
            "type": "scatterternary"
           }
          ],
          "surface": [
           {
            "colorbar": {
             "outlinewidth": 0,
             "ticks": ""
            },
            "colorscale": [
             [
              0,
              "#0d0887"
             ],
             [
              0.1111111111111111,
              "#46039f"
             ],
             [
              0.2222222222222222,
              "#7201a8"
             ],
             [
              0.3333333333333333,
              "#9c179e"
             ],
             [
              0.4444444444444444,
              "#bd3786"
             ],
             [
              0.5555555555555556,
              "#d8576b"
             ],
             [
              0.6666666666666666,
              "#ed7953"
             ],
             [
              0.7777777777777778,
              "#fb9f3a"
             ],
             [
              0.8888888888888888,
              "#fdca26"
             ],
             [
              1,
              "#f0f921"
             ]
            ],
            "type": "surface"
           }
          ],
          "table": [
           {
            "cells": {
             "fill": {
              "color": "#EBF0F8"
             },
             "line": {
              "color": "white"
             }
            },
            "header": {
             "fill": {
              "color": "#C8D4E3"
             },
             "line": {
              "color": "white"
             }
            },
            "type": "table"
           }
          ]
         },
         "layout": {
          "annotationdefaults": {
           "arrowcolor": "#2a3f5f",
           "arrowhead": 0,
           "arrowwidth": 1
          },
          "autotypenumbers": "strict",
          "coloraxis": {
           "colorbar": {
            "outlinewidth": 0,
            "ticks": ""
           }
          },
          "colorscale": {
           "diverging": [
            [
             0,
             "#8e0152"
            ],
            [
             0.1,
             "#c51b7d"
            ],
            [
             0.2,
             "#de77ae"
            ],
            [
             0.3,
             "#f1b6da"
            ],
            [
             0.4,
             "#fde0ef"
            ],
            [
             0.5,
             "#f7f7f7"
            ],
            [
             0.6,
             "#e6f5d0"
            ],
            [
             0.7,
             "#b8e186"
            ],
            [
             0.8,
             "#7fbc41"
            ],
            [
             0.9,
             "#4d9221"
            ],
            [
             1,
             "#276419"
            ]
           ],
           "sequential": [
            [
             0,
             "#0d0887"
            ],
            [
             0.1111111111111111,
             "#46039f"
            ],
            [
             0.2222222222222222,
             "#7201a8"
            ],
            [
             0.3333333333333333,
             "#9c179e"
            ],
            [
             0.4444444444444444,
             "#bd3786"
            ],
            [
             0.5555555555555556,
             "#d8576b"
            ],
            [
             0.6666666666666666,
             "#ed7953"
            ],
            [
             0.7777777777777778,
             "#fb9f3a"
            ],
            [
             0.8888888888888888,
             "#fdca26"
            ],
            [
             1,
             "#f0f921"
            ]
           ],
           "sequentialminus": [
            [
             0,
             "#0d0887"
            ],
            [
             0.1111111111111111,
             "#46039f"
            ],
            [
             0.2222222222222222,
             "#7201a8"
            ],
            [
             0.3333333333333333,
             "#9c179e"
            ],
            [
             0.4444444444444444,
             "#bd3786"
            ],
            [
             0.5555555555555556,
             "#d8576b"
            ],
            [
             0.6666666666666666,
             "#ed7953"
            ],
            [
             0.7777777777777778,
             "#fb9f3a"
            ],
            [
             0.8888888888888888,
             "#fdca26"
            ],
            [
             1,
             "#f0f921"
            ]
           ]
          },
          "colorway": [
           "#636efa",
           "#EF553B",
           "#00cc96",
           "#ab63fa",
           "#FFA15A",
           "#19d3f3",
           "#FF6692",
           "#B6E880",
           "#FF97FF",
           "#FECB52"
          ],
          "font": {
           "color": "#2a3f5f"
          },
          "geo": {
           "bgcolor": "white",
           "lakecolor": "white",
           "landcolor": "white",
           "showlakes": true,
           "showland": true,
           "subunitcolor": "#C8D4E3"
          },
          "hoverlabel": {
           "align": "left"
          },
          "hovermode": "closest",
          "mapbox": {
           "style": "light"
          },
          "paper_bgcolor": "white",
          "plot_bgcolor": "white",
          "polar": {
           "angularaxis": {
            "gridcolor": "#EBF0F8",
            "linecolor": "#EBF0F8",
            "ticks": ""
           },
           "bgcolor": "white",
           "radialaxis": {
            "gridcolor": "#EBF0F8",
            "linecolor": "#EBF0F8",
            "ticks": ""
           }
          },
          "scene": {
           "xaxis": {
            "backgroundcolor": "white",
            "gridcolor": "#DFE8F3",
            "gridwidth": 2,
            "linecolor": "#EBF0F8",
            "showbackground": true,
            "ticks": "",
            "zerolinecolor": "#EBF0F8"
           },
           "yaxis": {
            "backgroundcolor": "white",
            "gridcolor": "#DFE8F3",
            "gridwidth": 2,
            "linecolor": "#EBF0F8",
            "showbackground": true,
            "ticks": "",
            "zerolinecolor": "#EBF0F8"
           },
           "zaxis": {
            "backgroundcolor": "white",
            "gridcolor": "#DFE8F3",
            "gridwidth": 2,
            "linecolor": "#EBF0F8",
            "showbackground": true,
            "ticks": "",
            "zerolinecolor": "#EBF0F8"
           }
          },
          "shapedefaults": {
           "line": {
            "color": "#2a3f5f"
           }
          },
          "ternary": {
           "aaxis": {
            "gridcolor": "#DFE8F3",
            "linecolor": "#A2B1C6",
            "ticks": ""
           },
           "baxis": {
            "gridcolor": "#DFE8F3",
            "linecolor": "#A2B1C6",
            "ticks": ""
           },
           "bgcolor": "white",
           "caxis": {
            "gridcolor": "#DFE8F3",
            "linecolor": "#A2B1C6",
            "ticks": ""
           }
          },
          "title": {
           "x": 0.05
          },
          "xaxis": {
           "automargin": true,
           "gridcolor": "#EBF0F8",
           "linecolor": "#EBF0F8",
           "ticks": "",
           "title": {
            "standoff": 15
           },
           "zerolinecolor": "#EBF0F8",
           "zerolinewidth": 2
          },
          "yaxis": {
           "automargin": true,
           "gridcolor": "#EBF0F8",
           "linecolor": "#EBF0F8",
           "ticks": "",
           "title": {
            "standoff": 15
           },
           "zerolinecolor": "#EBF0F8",
           "zerolinewidth": 2
          }
         }
        },
        "width": 1200,
        "xaxis": {
         "anchor": "y",
         "autorange": true,
         "domain": [
          0,
          1
         ],
         "range": [
          9630,
          9804
         ],
         "title": {
          "text": "Frame"
         },
         "type": "linear"
        },
        "yaxis": {
         "anchor": "x",
         "autorange": true,
         "domain": [
          0,
          1
         ],
         "range": [
          -0.6494082436355293,
          16.95945898370519
         ],
         "title": {
          "text": "rel"
         },
         "type": "linear"
        }
       }
      },
      "image/png": "[encoded data removed]",
      "text/html": [
       "<div>                            <div id=\"302646f8-3b46-40dc-9e9d-afb08cbd7c4e\" class=\"plotly-graph-div\" style=\"height:500px; width:1200px;\"></div>            <script type=\"text/javascript\">                require([\"plotly\"], function(Plotly) {                    window.PLOTLYENV=window.PLOTLYENV || {};                                    if (document.getElementById(\"302646f8-3b46-40dc-9e9d-afb08cbd7c4e\")) {                    Plotly.newPlot(                        \"302646f8-3b46-40dc-9e9d-afb08cbd7c4e\",                        [{\"hovertemplate\":\"REL=Distance<br>frame=%{x}<br>rel=%{y}<extra></extra>\",\"legendgroup\":\"Distance\",\"line\":{\"color\":\"rgb(102,194,165)\",\"dash\":\"solid\"},\"marker\":{\"symbol\":\"circle\"},\"mode\":\"lines\",\"name\":\"Distance\",\"orientation\":\"v\",\"showlegend\":true,\"x\":[9630,9636,9642,9648,9654,9660,9666,9672,9678,9684,9690,9696,9702,9708,9714,9720,9726,9732,9738,9744,9750,9756,9762,9768,9774,9780,9786,9792,9798,9804],\"xaxis\":\"x\",\"y\":[16.079015622338154,15.9942830253756,15.873364140993198,15.757649406885957,15.65755085454202,15.51684522432122,15.36321071417724,15.24073789451266,15.07761060833343,14.945058569197284,14.842880279154029,14.698827432213392,14.643631728576976,14.52287209677547,14.375490893160148,14.208250206649534,13.978051429835272,13.75172903004217,13.642811069352586,13.309205854563222,12.894239438528558,12.399096537099991,11.886935658575936,11.358127804359349,10.793326554034437,10.233786052347368,9.636990425821375,9.01592018473114,8.460235794550952,7.8154670504040755],\"yaxis\":\"y\",\"type\":\"scatter\"},{\"hovertemplate\":\"REL=Acceleration<br>frame=%{x}<br>rel=%{y}<extra></extra>\",\"legendgroup\":\"Acceleration\",\"line\":{\"color\":\"rgb(252,141,98)\",\"dash\":\"solid\"},\"marker\":{\"symbol\":\"circle\"},\"mode\":\"lines\",\"name\":\"Acceleration\",\"orientation\":\"v\",\"showlegend\":true,\"x\":[9630,9636,9642,9648,9654,9660,9666,9672,9678,9684,9690,9696,9702,9708,9714,9720,9726,9732,9738,9744,9750,9756,9762,9768,9774,9780,9786,9792,9798,9804],\"xaxis\":\"x\",\"y\":[1.1379594536376785,1.182379288237279,1.1087093355000048,1.70434798035061,1.1748950785600067,1.102036190704415,0.9248211516291542,0.7159787610325938,1.133773777314194,1.523232843535532,0.7183849355491408,1.961911183641471,2.5816203499450507,1.7480312005592422,0.964403920822376,1.8201373720478,1.6361153813978782,1.836549708692977,4.238727330962719,5.767805385553437,3.076927404591452,2.720387900305373,1.525321007402927,3.103494683820401,1.1940048746235277,0.2310351177315067,1.6418492321916478,1.246985164807446,3.650148000595404,3.2674094878436764],\"yaxis\":\"y\",\"type\":\"scatter\"},{\"hovertemplate\":\"REL=Velocity<br>frame=%{x}<br>rel=%{y}<extra></extra>\",\"legendgroup\":\"Velocity\",\"line\":{\"color\":\"rgb(141,160,203)\",\"dash\":\"solid\"},\"marker\":{\"symbol\":\"circle\"},\"mode\":\"lines\",\"name\":\"Velocity\",\"orientation\":\"v\",\"showlegend\":true,\"x\":[9630,9636,9642,9648,9654,9660,9666,9672,9678,9684,9690,9696,9702,9708,9714,9720,9726,9732,9738,9744,9750,9756,9762,9768,9774,9780,9786,9792,9798,9804],\"xaxis\":\"x\",\"y\":[3.406423033793564,3.627644416896567,4.300109326549378,5.386760507083916,4.5508260826664815,4.918619701079292,5.583611451342233,5.192780350432782,5.6316369116317,4.539977686025274,4.460877603522215,5.848467189824213,4.313551810886578,4.582362550630265,5.222717500263255,4.465856823665544,5.355842385927536,6.282489966293781,3.235897557622756,6.255377166533396,8.233030454801922,10.14579155640422,10.050270828077942,11.484023718798587,12.173918537363727,12.337823245222332,12.71067643147402,13.00991793952617,13.937158828657434,15.06253930706315],\"yaxis\":\"y\",\"type\":\"scatter\"}],                        {\"template\":{\"data\":{\"barpolar\":[{\"marker\":{\"line\":{\"color\":\"white\",\"width\":0.5},\"pattern\":{\"fillmode\":\"overlay\",\"size\":10,\"solidity\":0.2}},\"type\":\"barpolar\"}],\"bar\":[{\"error_x\":{\"color\":\"#2a3f5f\"},\"error_y\":{\"color\":\"#2a3f5f\"},\"marker\":{\"line\":{\"color\":\"white\",\"width\":0.5},\"pattern\":{\"fillmode\":\"overlay\",\"size\":10,\"solidity\":0.2}},\"type\":\"bar\"}],\"carpet\":[{\"aaxis\":{\"endlinecolor\":\"#2a3f5f\",\"gridcolor\":\"#C8D4E3\",\"linecolor\":\"#C8D4E3\",\"minorgridcolor\":\"#C8D4E3\",\"startlinecolor\":\"#2a3f5f\"},\"baxis\":{\"endlinecolor\":\"#2a3f5f\",\"gridcolor\":\"#C8D4E3\",\"linecolor\":\"#C8D4E3\",\"minorgridcolor\":\"#C8D4E3\",\"startlinecolor\":\"#2a3f5f\"},\"type\":\"carpet\"}],\"choropleth\":[{\"colorbar\":{\"outlinewidth\":0,\"ticks\":\"\"},\"type\":\"choropleth\"}],\"contourcarpet\":[{\"colorbar\":{\"outlinewidth\":0,\"ticks\":\"\"},\"type\":\"contourcarpet\"}],\"contour\":[{\"colorbar\":{\"outlinewidth\":0,\"ticks\":\"\"},\"colorscale\":[[0.0,\"#0d0887\"],[0.1111111111111111,\"#46039f\"],[0.2222222222222222,\"#7201a8\"],[0.3333333333333333,\"#9c179e\"],[0.4444444444444444,\"#bd3786\"],[0.5555555555555556,\"#d8576b\"],[0.6666666666666666,\"#ed7953\"],[0.7777777777777778,\"#fb9f3a\"],[0.8888888888888888,\"#fdca26\"],[1.0,\"#f0f921\"]],\"type\":\"contour\"}],\"heatmapgl\":[{\"colorbar\":{\"outlinewidth\":0,\"ticks\":\"\"},\"colorscale\":[[0.0,\"#0d0887\"],[0.1111111111111111,\"#46039f\"],[0.2222222222222222,\"#7201a8\"],[0.3333333333333333,\"#9c179e\"],[0.4444444444444444,\"#bd3786\"],[0.5555555555555556,\"#d8576b\"],[0.6666666666666666,\"#ed7953\"],[0.7777777777777778,\"#fb9f3a\"],[0.8888888888888888,\"#fdca26\"],[1.0,\"#f0f921\"]],\"type\":\"heatmapgl\"}],\"heatmap\":[{\"colorbar\":{\"outlinewidth\":0,\"ticks\":\"\"},\"colorscale\":[[0.0,\"#0d0887\"],[0.1111111111111111,\"#46039f\"],[0.2222222222222222,\"#7201a8\"],[0.3333333333333333,\"#9c179e\"],[0.4444444444444444,\"#bd3786\"],[0.5555555555555556,\"#d8576b\"],[0.6666666666666666,\"#ed7953\"],[0.7777777777777778,\"#fb9f3a\"],[0.8888888888888888,\"#fdca26\"],[1.0,\"#f0f921\"]],\"type\":\"heatmap\"}],\"histogram2dcontour\":[{\"colorbar\":{\"outlinewidth\":0,\"ticks\":\"\"},\"colorscale\":[[0.0,\"#0d0887\"],[0.1111111111111111,\"#46039f\"],[0.2222222222222222,\"#7201a8\"],[0.3333333333333333,\"#9c179e\"],[0.4444444444444444,\"#bd3786\"],[0.5555555555555556,\"#d8576b\"],[0.6666666666666666,\"#ed7953\"],[0.7777777777777778,\"#fb9f3a\"],[0.8888888888888888,\"#fdca26\"],[1.0,\"#f0f921\"]],\"type\":\"histogram2dcontour\"}],\"histogram2d\":[{\"colorbar\":{\"outlinewidth\":0,\"ticks\":\"\"},\"colorscale\":[[0.0,\"#0d0887\"],[0.1111111111111111,\"#46039f\"],[0.2222222222222222,\"#7201a8\"],[0.3333333333333333,\"#9c179e\"],[0.4444444444444444,\"#bd3786\"],[0.5555555555555556,\"#d8576b\"],[0.6666666666666666,\"#ed7953\"],[0.7777777777777778,\"#fb9f3a\"],[0.8888888888888888,\"#fdca26\"],[1.0,\"#f0f921\"]],\"type\":\"histogram2d\"}],\"histogram\":[{\"marker\":{\"pattern\":{\"fillmode\":\"overlay\",\"size\":10,\"solidity\":0.2}},\"type\":\"histogram\"}],\"mesh3d\":[{\"colorbar\":{\"outlinewidth\":0,\"ticks\":\"\"},\"type\":\"mesh3d\"}],\"parcoords\":[{\"line\":{\"colorbar\":{\"outlinewidth\":0,\"ticks\":\"\"}},\"type\":\"parcoords\"}],\"pie\":[{\"automargin\":true,\"type\":\"pie\"}],\"scatter3d\":[{\"line\":{\"colorbar\":{\"outlinewidth\":0,\"ticks\":\"\"}},\"marker\":{\"colorbar\":{\"outlinewidth\":0,\"ticks\":\"\"}},\"type\":\"scatter3d\"}],\"scattercarpet\":[{\"marker\":{\"colorbar\":{\"outlinewidth\":0,\"ticks\":\"\"}},\"type\":\"scattercarpet\"}],\"scattergeo\":[{\"marker\":{\"colorbar\":{\"outlinewidth\":0,\"ticks\":\"\"}},\"type\":\"scattergeo\"}],\"scattergl\":[{\"marker\":{\"colorbar\":{\"outlinewidth\":0,\"ticks\":\"\"}},\"type\":\"scattergl\"}],\"scattermapbox\":[{\"marker\":{\"colorbar\":{\"outlinewidth\":0,\"ticks\":\"\"}},\"type\":\"scattermapbox\"}],\"scatterpolargl\":[{\"marker\":{\"colorbar\":{\"outlinewidth\":0,\"ticks\":\"\"}},\"type\":\"scatterpolargl\"}],\"scatterpolar\":[{\"marker\":{\"colorbar\":{\"outlinewidth\":0,\"ticks\":\"\"}},\"type\":\"scatterpolar\"}],\"scatter\":[{\"fillpattern\":{\"fillmode\":\"overlay\",\"size\":10,\"solidity\":0.2},\"type\":\"scatter\"}],\"scatterternary\":[{\"marker\":{\"colorbar\":{\"outlinewidth\":0,\"ticks\":\"\"}},\"type\":\"scatterternary\"}],\"surface\":[{\"colorbar\":{\"outlinewidth\":0,\"ticks\":\"\"},\"colorscale\":[[0.0,\"#0d0887\"],[0.1111111111111111,\"#46039f\"],[0.2222222222222222,\"#7201a8\"],[0.3333333333333333,\"#9c179e\"],[0.4444444444444444,\"#bd3786\"],[0.5555555555555556,\"#d8576b\"],[0.6666666666666666,\"#ed7953\"],[0.7777777777777778,\"#fb9f3a\"],[0.8888888888888888,\"#fdca26\"],[1.0,\"#f0f921\"]],\"type\":\"surface\"}],\"table\":[{\"cells\":{\"fill\":{\"color\":\"#EBF0F8\"},\"line\":{\"color\":\"white\"}},\"header\":{\"fill\":{\"color\":\"#C8D4E3\"},\"line\":{\"color\":\"white\"}},\"type\":\"table\"}]},\"layout\":{\"annotationdefaults\":{\"arrowcolor\":\"#2a3f5f\",\"arrowhead\":0,\"arrowwidth\":1},\"autotypenumbers\":\"strict\",\"coloraxis\":{\"colorbar\":{\"outlinewidth\":0,\"ticks\":\"\"}},\"colorscale\":{\"diverging\":[[0,\"#8e0152\"],[0.1,\"#c51b7d\"],[0.2,\"#de77ae\"],[0.3,\"#f1b6da\"],[0.4,\"#fde0ef\"],[0.5,\"#f7f7f7\"],[0.6,\"#e6f5d0\"],[0.7,\"#b8e186\"],[0.8,\"#7fbc41\"],[0.9,\"#4d9221\"],[1,\"#276419\"]],\"sequential\":[[0.0,\"#0d0887\"],[0.1111111111111111,\"#46039f\"],[0.2222222222222222,\"#7201a8\"],[0.3333333333333333,\"#9c179e\"],[0.4444444444444444,\"#bd3786\"],[0.5555555555555556,\"#d8576b\"],[0.6666666666666666,\"#ed7953\"],[0.7777777777777778,\"#fb9f3a\"],[0.8888888888888888,\"#fdca26\"],[1.0,\"#f0f921\"]],\"sequentialminus\":[[0.0,\"#0d0887\"],[0.1111111111111111,\"#46039f\"],[0.2222222222222222,\"#7201a8\"],[0.3333333333333333,\"#9c179e\"],[0.4444444444444444,\"#bd3786\"],[0.5555555555555556,\"#d8576b\"],[0.6666666666666666,\"#ed7953\"],[0.7777777777777778,\"#fb9f3a\"],[0.8888888888888888,\"#fdca26\"],[1.0,\"#f0f921\"]]},\"colorway\":[\"#636efa\",\"#EF553B\",\"#00cc96\",\"#ab63fa\",\"#FFA15A\",\"#19d3f3\",\"#FF6692\",\"#B6E880\",\"#FF97FF\",\"#FECB52\"],\"font\":{\"color\":\"#2a3f5f\"},\"geo\":{\"bgcolor\":\"white\",\"lakecolor\":\"white\",\"landcolor\":\"white\",\"showlakes\":true,\"showland\":true,\"subunitcolor\":\"#C8D4E3\"},\"hoverlabel\":{\"align\":\"left\"},\"hovermode\":\"closest\",\"mapbox\":{\"style\":\"light\"},\"paper_bgcolor\":\"white\",\"plot_bgcolor\":\"white\",\"polar\":{\"angularaxis\":{\"gridcolor\":\"#EBF0F8\",\"linecolor\":\"#EBF0F8\",\"ticks\":\"\"},\"bgcolor\":\"white\",\"radialaxis\":{\"gridcolor\":\"#EBF0F8\",\"linecolor\":\"#EBF0F8\",\"ticks\":\"\"}},\"scene\":{\"xaxis\":{\"backgroundcolor\":\"white\",\"gridcolor\":\"#DFE8F3\",\"gridwidth\":2,\"linecolor\":\"#EBF0F8\",\"showbackground\":true,\"ticks\":\"\",\"zerolinecolor\":\"#EBF0F8\"},\"yaxis\":{\"backgroundcolor\":\"white\",\"gridcolor\":\"#DFE8F3\",\"gridwidth\":2,\"linecolor\":\"#EBF0F8\",\"showbackground\":true,\"ticks\":\"\",\"zerolinecolor\":\"#EBF0F8\"},\"zaxis\":{\"backgroundcolor\":\"white\",\"gridcolor\":\"#DFE8F3\",\"gridwidth\":2,\"linecolor\":\"#EBF0F8\",\"showbackground\":true,\"ticks\":\"\",\"zerolinecolor\":\"#EBF0F8\"}},\"shapedefaults\":{\"line\":{\"color\":\"#2a3f5f\"}},\"ternary\":{\"aaxis\":{\"gridcolor\":\"#DFE8F3\",\"linecolor\":\"#A2B1C6\",\"ticks\":\"\"},\"baxis\":{\"gridcolor\":\"#DFE8F3\",\"linecolor\":\"#A2B1C6\",\"ticks\":\"\"},\"bgcolor\":\"white\",\"caxis\":{\"gridcolor\":\"#DFE8F3\",\"linecolor\":\"#A2B1C6\",\"ticks\":\"\"}},\"title\":{\"x\":0.05},\"xaxis\":{\"automargin\":true,\"gridcolor\":\"#EBF0F8\",\"linecolor\":\"#EBF0F8\",\"ticks\":\"\",\"title\":{\"standoff\":15},\"zerolinecolor\":\"#EBF0F8\",\"zerolinewidth\":2},\"yaxis\":{\"automargin\":true,\"gridcolor\":\"#EBF0F8\",\"linecolor\":\"#EBF0F8\",\"ticks\":\"\",\"title\":{\"standoff\":15},\"zerolinecolor\":\"#EBF0F8\",\"zerolinewidth\":2}}},\"xaxis\":{\"anchor\":\"y\",\"domain\":[0.0,1.0],\"title\":{\"text\":\"Frame\"}},\"yaxis\":{\"anchor\":\"x\",\"domain\":[0.0,1.0],\"title\":{\"text\":\"rel\"}},\"legend\":{\"title\":{\"text\":\"REL\"},\"tracegroupgap\":0},\"margin\":{\"t\":60},\"height\":500,\"width\":1200},                        {\"responsive\": true}                    ).then(function(){\n",
       "                            \n",
       "var gd = document.getElementById('302646f8-3b46-40dc-9e9d-afb08cbd7c4e');\n",
       "var x = new MutationObserver(function (mutations, observer) {{\n",
       "        var display = window.getComputedStyle(gd).display;\n",
       "        if (!display || display === 'none') {{\n",
       "            console.log([gd, 'removed!']);\n",
       "            Plotly.purge(gd);\n",
       "            observer.disconnect();\n",
       "        }}\n",
       "}});\n",
       "\n",
       "// Listen for the removal of the full notebook cells\n",
       "var notebookContainer = gd.closest('#notebook-container');\n",
       "if (notebookContainer) {{\n",
       "    x.observe(notebookContainer, {childList: true});\n",
       "}}\n",
       "\n",
       "// Listen for the clearing of the current output cell\n",
       "var outputEl = gd.closest('.output');\n",
       "if (outputEl) {{\n",
       "    x.observe(outputEl, {childList: true});\n",
       "}}\n",
       "\n",
       "                        })                };                });            </script>        </div>"
      ]
     },
     "metadata": {},
     "output_type": "display_data"
    }
   ],
   "source": [
    "Vehicle_ID = 539\n",
    "\n",
    "pv = pd.pivot_table(df[df['Vehicle ID'] == Vehicle_ID],\n",
    "               index = ['Vehicle ID', 'frame'],\n",
    "               values = ['TTC_0', 'MTTC_0', 'T2_0', 'ACT_0'])\n",
    "\n",
    "pv.reset_index(inplace = True)\n",
    "pv.rename({'TTC_0' : 'SSM_TTC', 'MTTC_0' : 'SSM_MTTC', 'T2_0' : 'SSM_T2', 'ACT_0' : 'SSM_ACT'}, axis = 1, inplace = True)\n",
    "pv = pd.wide_to_long(pv, stubnames = ['SSM'], i = ['Vehicle ID', 'frame'], j = 'ssm', sep = '_', suffix = r'\\w+').reset_index()\n",
    "\n",
    "fig = px.line(pv, x = 'frame', y = 'SSM', color = 'ssm',\n",
    "              template = 'plotly_white', \n",
    "              color_discrete_sequence = px.colors.qualitative.Set2,\n",
    "              #title = f'Vehicle Trajectory : 공사구간 2개 차로 합류지점', \n",
    "              width = 1200, height = 500)\n",
    "\n",
    "#fig.update_layout(showlegend = False)\n",
    "fig.update_xaxes(title_text = 'Frame')\n",
    "fig.update_yaxes(title_text = 'SSM', range = [0, 50])\n",
    "\n",
    "fig.show()\n",
    "\n",
    "#relative = 'LV0_relative_velocity'\n",
    "\n",
    "pv2 = pd.pivot_table(df[df['Vehicle ID'] == Vehicle_ID],\n",
    "               index = ['Vehicle ID', 'frame', 'LV0_ID'],\n",
    "               values = ['LV0_D', 'LV0_rel_velocity', 'LV0_rel_acc'])\n",
    "pv2.reset_index(inplace = True)\n",
    "pv2.rename({'LV0_D' : 'rel_Distance', 'LV0_rel_velocity' : 'rel_Velocity', 'LV0_rel_acc' : 'rel_Acceleration'}, axis = 1, inplace = True)\n",
    "pv2 = pd.wide_to_long(pv2, stubnames = ['rel'], i = ['Vehicle ID', 'frame', 'LV0_ID'], j = 'REL', sep = '_', suffix = r'\\w+').reset_index()\n",
    "\n",
    "fig2 = px.line(pv2, x = 'frame', y = 'rel', color = 'REL',\n",
    "              template = 'plotly_white',\n",
    "              color_discrete_sequence = px.colors.qualitative.Set2,\n",
    "              #title = f'Vehicle Trajectory : 공사구간 2개 차로 합류지점', \n",
    "              width = 1200, height = 500)\n",
    "\n",
    "fig2.update_xaxes(title_text = 'Frame')\n",
    "#fig2.update_yaxes(title_text = relative)\n",
    "\n",
    "fig2.show()"
   ]
  },
  {
   "cell_type": "code",
   "execution_count": 10,
   "id": "c9279280-fd51-43f7-b20a-07872c60055c",
   "metadata": {
    "execution": {
     "iopub.execute_input": "2023-04-28T06:26:58.066481Z",
     "iopub.status.busy": "2023-04-28T06:26:58.066481Z",
     "iopub.status.idle": "2023-04-28T06:26:58.220187Z",
     "shell.execute_reply": "2023-04-28T06:26:58.219216Z",
     "shell.execute_reply.started": "2023-04-28T06:26:58.066481Z"
    },
    "tags": []
   },
   "outputs": [
    {
     "data": {
      "application/vnd.plotly.v1+json": {
       "config": {
        "plotlyServerURL": "https://plot.ly"
       },
       "data": [
        {
         "hovertemplate": "ssm=ACTIT<br>frame=%{x}<br>SSM=%{y}<extra></extra>",
         "legendgroup": "ACTIT",
         "line": {
          "color": "rgb(102,194,165)",
          "dash": "solid"
         },
         "marker": {
          "symbol": "circle"
         },
         "mode": "lines",
         "name": "ACTIT",
         "orientation": "v",
         "showlegend": true,
         "type": "scatter",
         "x": [
          23388,
          23394,
          23400,
          23406,
          23412,
          23418,
          23424,
          23430,
          23436,
          23442,
          23448,
          23454,
          23460,
          23466,
          23472,
          23478,
          23484,
          23490,
          23496,
          23502,
          23508,
          23514,
          23520,
          23526,
          23532,
          23538,
          23544,
          23550,
          23556,
          23562,
          23568,
          23574,
          23580,
          23586,
          23592,
          23598,
          23604,
          23610,
          23616,
          23622,
          23628,
          23634,
          23640,
          23646,
          23652,
          23658,
          23664,
          23670
         ],
         "xaxis": "x",
         "y": [
          0,
          0,
          0.403176039841586,
          0,
          0,
          0.1799057949700645,
          0,
          0,
          0,
          0,
          0.1591701687048304,
          0,
          0,
          0,
          0,
          0,
          0.0778392486531997,
          0,
          0,
          0,
          0,
          0,
          0,
          0,
          0,
          0.3466837313049022,
          0,
          0,
          0,
          0.3646951887335914,
          0.4118705840407319,
          0.1990921377483006,
          0.3807535355472884,
          0,
          0.0916721170032959,
          0,
          0.5406717162350868,
          0.5294271334744097,
          0,
          0,
          0,
          0,
          0,
          0,
          0,
          0,
          0,
          0
         ],
         "yaxis": "y"
        },
        {
         "hovertemplate": "ssm=MTIT<br>frame=%{x}<br>SSM=%{y}<extra></extra>",
         "legendgroup": "MTIT",
         "line": {
          "color": "rgb(252,141,98)",
          "dash": "solid"
         },
         "marker": {
          "symbol": "circle"
         },
         "mode": "lines",
         "name": "MTIT",
         "orientation": "v",
         "showlegend": true,
         "type": "scatter",
         "visible": "legendonly",
         "x": [
          23388,
          23394,
          23400,
          23406,
          23412,
          23418,
          23424,
          23430,
          23436,
          23442,
          23448,
          23454,
          23460,
          23466,
          23472,
          23478,
          23484,
          23490,
          23496,
          23502,
          23508,
          23514,
          23520,
          23526,
          23532,
          23538,
          23544,
          23550,
          23556,
          23562,
          23568,
          23574,
          23580,
          23586,
          23592,
          23598,
          23604,
          23610,
          23616,
          23622,
          23628,
          23634,
          23640,
          23646,
          23652,
          23658,
          23664,
          23670
         ],
         "xaxis": "x",
         "y": [
          0,
          0,
          0,
          0,
          0,
          0,
          0,
          0,
          0,
          0,
          0,
          0,
          0,
          0,
          0,
          0,
          0,
          0,
          0,
          0,
          0,
          0,
          0,
          0,
          0,
          0,
          0,
          0,
          0,
          0,
          0,
          0,
          0,
          0,
          0,
          0,
          0,
          0,
          0,
          0,
          0,
          0,
          0,
          0,
          0,
          0,
          0,
          0
         ],
         "yaxis": "y"
        },
        {
         "hovertemplate": "ssm=TIT2<br>frame=%{x}<br>SSM=%{y}<extra></extra>",
         "legendgroup": "TIT2",
         "line": {
          "color": "rgb(141,160,203)",
          "dash": "solid"
         },
         "marker": {
          "symbol": "circle"
         },
         "mode": "lines",
         "name": "TIT2",
         "orientation": "v",
         "showlegend": true,
         "type": "scatter",
         "visible": "legendonly",
         "x": [
          23388,
          23394,
          23400,
          23406,
          23412,
          23418,
          23424,
          23430,
          23436,
          23442,
          23448,
          23454,
          23460,
          23466,
          23472,
          23478,
          23484,
          23490,
          23496,
          23502,
          23508,
          23514,
          23520,
          23526,
          23532,
          23538,
          23544,
          23550,
          23556,
          23562,
          23568,
          23574,
          23580,
          23586,
          23592,
          23598,
          23604,
          23610,
          23616,
          23622,
          23628,
          23634,
          23640,
          23646,
          23652,
          23658,
          23664,
          23670
         ],
         "xaxis": "x",
         "y": [
          0,
          0,
          0,
          0,
          0,
          0,
          0,
          0,
          0,
          0,
          0,
          0,
          0,
          0,
          0,
          0,
          0,
          0,
          0,
          0,
          0,
          0,
          0,
          0,
          0,
          0,
          0,
          0,
          0,
          0,
          0,
          0,
          0,
          0,
          0,
          0,
          0,
          0,
          0,
          0,
          0,
          0,
          0,
          0,
          0,
          0,
          0,
          0
         ],
         "yaxis": "y"
        },
        {
         "hovertemplate": "ssm=TIT<br>frame=%{x}<br>SSM=%{y}<extra></extra>",
         "legendgroup": "TIT",
         "line": {
          "color": "rgb(231,138,195)",
          "dash": "solid"
         },
         "marker": {
          "symbol": "circle"
         },
         "mode": "lines",
         "name": "TIT",
         "orientation": "v",
         "showlegend": true,
         "type": "scatter",
         "visible": "legendonly",
         "x": [
          23388,
          23394,
          23400,
          23406,
          23412,
          23418,
          23424,
          23430,
          23436,
          23442,
          23448,
          23454,
          23460,
          23466,
          23472,
          23478,
          23484,
          23490,
          23496,
          23502,
          23508,
          23514,
          23520,
          23526,
          23532,
          23538,
          23544,
          23550,
          23556,
          23562,
          23568,
          23574,
          23580,
          23586,
          23592,
          23598,
          23604,
          23610,
          23616,
          23622,
          23628,
          23634,
          23640,
          23646,
          23652,
          23658,
          23664,
          23670
         ],
         "xaxis": "x",
         "y": [
          0,
          0,
          0,
          0,
          0,
          0,
          0,
          0,
          0,
          0,
          0,
          0,
          0,
          0,
          0,
          0,
          0,
          0,
          0,
          0,
          0,
          0,
          0,
          0,
          0,
          0,
          0,
          0,
          0,
          0,
          0,
          0,
          0,
          0,
          0,
          0,
          0,
          0,
          0,
          0,
          0,
          0,
          0,
          0,
          0,
          0,
          0,
          0
         ],
         "yaxis": "y"
        }
       ],
       "layout": {
        "height": 500,
        "legend": {
         "title": {
          "text": "ssm"
         },
         "tracegroupgap": 0
        },
        "margin": {
         "t": 60
        },
        "template": {
         "data": {
          "bar": [
           {
            "error_x": {
             "color": "#2a3f5f"
            },
            "error_y": {
             "color": "#2a3f5f"
            },
            "marker": {
             "line": {
              "color": "white",
              "width": 0.5
             },
             "pattern": {
              "fillmode": "overlay",
              "size": 10,
              "solidity": 0.2
             }
            },
            "type": "bar"
           }
          ],
          "barpolar": [
           {
            "marker": {
             "line": {
              "color": "white",
              "width": 0.5
             },
             "pattern": {
              "fillmode": "overlay",
              "size": 10,
              "solidity": 0.2
             }
            },
            "type": "barpolar"
           }
          ],
          "carpet": [
           {
            "aaxis": {
             "endlinecolor": "#2a3f5f",
             "gridcolor": "#C8D4E3",
             "linecolor": "#C8D4E3",
             "minorgridcolor": "#C8D4E3",
             "startlinecolor": "#2a3f5f"
            },
            "baxis": {
             "endlinecolor": "#2a3f5f",
             "gridcolor": "#C8D4E3",
             "linecolor": "#C8D4E3",
             "minorgridcolor": "#C8D4E3",
             "startlinecolor": "#2a3f5f"
            },
            "type": "carpet"
           }
          ],
          "choropleth": [
           {
            "colorbar": {
             "outlinewidth": 0,
             "ticks": ""
            },
            "type": "choropleth"
           }
          ],
          "contour": [
           {
            "colorbar": {
             "outlinewidth": 0,
             "ticks": ""
            },
            "colorscale": [
             [
              0,
              "#0d0887"
             ],
             [
              0.1111111111111111,
              "#46039f"
             ],
             [
              0.2222222222222222,
              "#7201a8"
             ],
             [
              0.3333333333333333,
              "#9c179e"
             ],
             [
              0.4444444444444444,
              "#bd3786"
             ],
             [
              0.5555555555555556,
              "#d8576b"
             ],
             [
              0.6666666666666666,
              "#ed7953"
             ],
             [
              0.7777777777777778,
              "#fb9f3a"
             ],
             [
              0.8888888888888888,
              "#fdca26"
             ],
             [
              1,
              "#f0f921"
             ]
            ],
            "type": "contour"
           }
          ],
          "contourcarpet": [
           {
            "colorbar": {
             "outlinewidth": 0,
             "ticks": ""
            },
            "type": "contourcarpet"
           }
          ],
          "heatmap": [
           {
            "colorbar": {
             "outlinewidth": 0,
             "ticks": ""
            },
            "colorscale": [
             [
              0,
              "#0d0887"
             ],
             [
              0.1111111111111111,
              "#46039f"
             ],
             [
              0.2222222222222222,
              "#7201a8"
             ],
             [
              0.3333333333333333,
              "#9c179e"
             ],
             [
              0.4444444444444444,
              "#bd3786"
             ],
             [
              0.5555555555555556,
              "#d8576b"
             ],
             [
              0.6666666666666666,
              "#ed7953"
             ],
             [
              0.7777777777777778,
              "#fb9f3a"
             ],
             [
              0.8888888888888888,
              "#fdca26"
             ],
             [
              1,
              "#f0f921"
             ]
            ],
            "type": "heatmap"
           }
          ],
          "heatmapgl": [
           {
            "colorbar": {
             "outlinewidth": 0,
             "ticks": ""
            },
            "colorscale": [
             [
              0,
              "#0d0887"
             ],
             [
              0.1111111111111111,
              "#46039f"
             ],
             [
              0.2222222222222222,
              "#7201a8"
             ],
             [
              0.3333333333333333,
              "#9c179e"
             ],
             [
              0.4444444444444444,
              "#bd3786"
             ],
             [
              0.5555555555555556,
              "#d8576b"
             ],
             [
              0.6666666666666666,
              "#ed7953"
             ],
             [
              0.7777777777777778,
              "#fb9f3a"
             ],
             [
              0.8888888888888888,
              "#fdca26"
             ],
             [
              1,
              "#f0f921"
             ]
            ],
            "type": "heatmapgl"
           }
          ],
          "histogram": [
           {
            "marker": {
             "pattern": {
              "fillmode": "overlay",
              "size": 10,
              "solidity": 0.2
             }
            },
            "type": "histogram"
           }
          ],
          "histogram2d": [
           {
            "colorbar": {
             "outlinewidth": 0,
             "ticks": ""
            },
            "colorscale": [
             [
              0,
              "#0d0887"
             ],
             [
              0.1111111111111111,
              "#46039f"
             ],
             [
              0.2222222222222222,
              "#7201a8"
             ],
             [
              0.3333333333333333,
              "#9c179e"
             ],
             [
              0.4444444444444444,
              "#bd3786"
             ],
             [
              0.5555555555555556,
              "#d8576b"
             ],
             [
              0.6666666666666666,
              "#ed7953"
             ],
             [
              0.7777777777777778,
              "#fb9f3a"
             ],
             [
              0.8888888888888888,
              "#fdca26"
             ],
             [
              1,
              "#f0f921"
             ]
            ],
            "type": "histogram2d"
           }
          ],
          "histogram2dcontour": [
           {
            "colorbar": {
             "outlinewidth": 0,
             "ticks": ""
            },
            "colorscale": [
             [
              0,
              "#0d0887"
             ],
             [
              0.1111111111111111,
              "#46039f"
             ],
             [
              0.2222222222222222,
              "#7201a8"
             ],
             [
              0.3333333333333333,
              "#9c179e"
             ],
             [
              0.4444444444444444,
              "#bd3786"
             ],
             [
              0.5555555555555556,
              "#d8576b"
             ],
             [
              0.6666666666666666,
              "#ed7953"
             ],
             [
              0.7777777777777778,
              "#fb9f3a"
             ],
             [
              0.8888888888888888,
              "#fdca26"
             ],
             [
              1,
              "#f0f921"
             ]
            ],
            "type": "histogram2dcontour"
           }
          ],
          "mesh3d": [
           {
            "colorbar": {
             "outlinewidth": 0,
             "ticks": ""
            },
            "type": "mesh3d"
           }
          ],
          "parcoords": [
           {
            "line": {
             "colorbar": {
              "outlinewidth": 0,
              "ticks": ""
             }
            },
            "type": "parcoords"
           }
          ],
          "pie": [
           {
            "automargin": true,
            "type": "pie"
           }
          ],
          "scatter": [
           {
            "fillpattern": {
             "fillmode": "overlay",
             "size": 10,
             "solidity": 0.2
            },
            "type": "scatter"
           }
          ],
          "scatter3d": [
           {
            "line": {
             "colorbar": {
              "outlinewidth": 0,
              "ticks": ""
             }
            },
            "marker": {
             "colorbar": {
              "outlinewidth": 0,
              "ticks": ""
             }
            },
            "type": "scatter3d"
           }
          ],
          "scattercarpet": [
           {
            "marker": {
             "colorbar": {
              "outlinewidth": 0,
              "ticks": ""
             }
            },
            "type": "scattercarpet"
           }
          ],
          "scattergeo": [
           {
            "marker": {
             "colorbar": {
              "outlinewidth": 0,
              "ticks": ""
             }
            },
            "type": "scattergeo"
           }
          ],
          "scattergl": [
           {
            "marker": {
             "colorbar": {
              "outlinewidth": 0,
              "ticks": ""
             }
            },
            "type": "scattergl"
           }
          ],
          "scattermapbox": [
           {
            "marker": {
             "colorbar": {
              "outlinewidth": 0,
              "ticks": ""
             }
            },
            "type": "scattermapbox"
           }
          ],
          "scatterpolar": [
           {
            "marker": {
             "colorbar": {
              "outlinewidth": 0,
              "ticks": ""
             }
            },
            "type": "scatterpolar"
           }
          ],
          "scatterpolargl": [
           {
            "marker": {
             "colorbar": {
              "outlinewidth": 0,
              "ticks": ""
             }
            },
            "type": "scatterpolargl"
           }
          ],
          "scatterternary": [
           {
            "marker": {
             "colorbar": {
              "outlinewidth": 0,
              "ticks": ""
             }
            },
            "type": "scatterternary"
           }
          ],
          "surface": [
           {
            "colorbar": {
             "outlinewidth": 0,
             "ticks": ""
            },
            "colorscale": [
             [
              0,
              "#0d0887"
             ],
             [
              0.1111111111111111,
              "#46039f"
             ],
             [
              0.2222222222222222,
              "#7201a8"
             ],
             [
              0.3333333333333333,
              "#9c179e"
             ],
             [
              0.4444444444444444,
              "#bd3786"
             ],
             [
              0.5555555555555556,
              "#d8576b"
             ],
             [
              0.6666666666666666,
              "#ed7953"
             ],
             [
              0.7777777777777778,
              "#fb9f3a"
             ],
             [
              0.8888888888888888,
              "#fdca26"
             ],
             [
              1,
              "#f0f921"
             ]
            ],
            "type": "surface"
           }
          ],
          "table": [
           {
            "cells": {
             "fill": {
              "color": "#EBF0F8"
             },
             "line": {
              "color": "white"
             }
            },
            "header": {
             "fill": {
              "color": "#C8D4E3"
             },
             "line": {
              "color": "white"
             }
            },
            "type": "table"
           }
          ]
         },
         "layout": {
          "annotationdefaults": {
           "arrowcolor": "#2a3f5f",
           "arrowhead": 0,
           "arrowwidth": 1
          },
          "autotypenumbers": "strict",
          "coloraxis": {
           "colorbar": {
            "outlinewidth": 0,
            "ticks": ""
           }
          },
          "colorscale": {
           "diverging": [
            [
             0,
             "#8e0152"
            ],
            [
             0.1,
             "#c51b7d"
            ],
            [
             0.2,
             "#de77ae"
            ],
            [
             0.3,
             "#f1b6da"
            ],
            [
             0.4,
             "#fde0ef"
            ],
            [
             0.5,
             "#f7f7f7"
            ],
            [
             0.6,
             "#e6f5d0"
            ],
            [
             0.7,
             "#b8e186"
            ],
            [
             0.8,
             "#7fbc41"
            ],
            [
             0.9,
             "#4d9221"
            ],
            [
             1,
             "#276419"
            ]
           ],
           "sequential": [
            [
             0,
             "#0d0887"
            ],
            [
             0.1111111111111111,
             "#46039f"
            ],
            [
             0.2222222222222222,
             "#7201a8"
            ],
            [
             0.3333333333333333,
             "#9c179e"
            ],
            [
             0.4444444444444444,
             "#bd3786"
            ],
            [
             0.5555555555555556,
             "#d8576b"
            ],
            [
             0.6666666666666666,
             "#ed7953"
            ],
            [
             0.7777777777777778,
             "#fb9f3a"
            ],
            [
             0.8888888888888888,
             "#fdca26"
            ],
            [
             1,
             "#f0f921"
            ]
           ],
           "sequentialminus": [
            [
             0,
             "#0d0887"
            ],
            [
             0.1111111111111111,
             "#46039f"
            ],
            [
             0.2222222222222222,
             "#7201a8"
            ],
            [
             0.3333333333333333,
             "#9c179e"
            ],
            [
             0.4444444444444444,
             "#bd3786"
            ],
            [
             0.5555555555555556,
             "#d8576b"
            ],
            [
             0.6666666666666666,
             "#ed7953"
            ],
            [
             0.7777777777777778,
             "#fb9f3a"
            ],
            [
             0.8888888888888888,
             "#fdca26"
            ],
            [
             1,
             "#f0f921"
            ]
           ]
          },
          "colorway": [
           "#636efa",
           "#EF553B",
           "#00cc96",
           "#ab63fa",
           "#FFA15A",
           "#19d3f3",
           "#FF6692",
           "#B6E880",
           "#FF97FF",
           "#FECB52"
          ],
          "font": {
           "color": "#2a3f5f"
          },
          "geo": {
           "bgcolor": "white",
           "lakecolor": "white",
           "landcolor": "white",
           "showlakes": true,
           "showland": true,
           "subunitcolor": "#C8D4E3"
          },
          "hoverlabel": {
           "align": "left"
          },
          "hovermode": "closest",
          "mapbox": {
           "style": "light"
          },
          "paper_bgcolor": "white",
          "plot_bgcolor": "white",
          "polar": {
           "angularaxis": {
            "gridcolor": "#EBF0F8",
            "linecolor": "#EBF0F8",
            "ticks": ""
           },
           "bgcolor": "white",
           "radialaxis": {
            "gridcolor": "#EBF0F8",
            "linecolor": "#EBF0F8",
            "ticks": ""
           }
          },
          "scene": {
           "xaxis": {
            "backgroundcolor": "white",
            "gridcolor": "#DFE8F3",
            "gridwidth": 2,
            "linecolor": "#EBF0F8",
            "showbackground": true,
            "ticks": "",
            "zerolinecolor": "#EBF0F8"
           },
           "yaxis": {
            "backgroundcolor": "white",
            "gridcolor": "#DFE8F3",
            "gridwidth": 2,
            "linecolor": "#EBF0F8",
            "showbackground": true,
            "ticks": "",
            "zerolinecolor": "#EBF0F8"
           },
           "zaxis": {
            "backgroundcolor": "white",
            "gridcolor": "#DFE8F3",
            "gridwidth": 2,
            "linecolor": "#EBF0F8",
            "showbackground": true,
            "ticks": "",
            "zerolinecolor": "#EBF0F8"
           }
          },
          "shapedefaults": {
           "line": {
            "color": "#2a3f5f"
           }
          },
          "ternary": {
           "aaxis": {
            "gridcolor": "#DFE8F3",
            "linecolor": "#A2B1C6",
            "ticks": ""
           },
           "baxis": {
            "gridcolor": "#DFE8F3",
            "linecolor": "#A2B1C6",
            "ticks": ""
           },
           "bgcolor": "white",
           "caxis": {
            "gridcolor": "#DFE8F3",
            "linecolor": "#A2B1C6",
            "ticks": ""
           }
          },
          "title": {
           "x": 0.05
          },
          "xaxis": {
           "automargin": true,
           "gridcolor": "#EBF0F8",
           "linecolor": "#EBF0F8",
           "ticks": "",
           "title": {
            "standoff": 15
           },
           "zerolinecolor": "#EBF0F8",
           "zerolinewidth": 2
          },
          "yaxis": {
           "automargin": true,
           "gridcolor": "#EBF0F8",
           "linecolor": "#EBF0F8",
           "ticks": "",
           "title": {
            "standoff": 15
           },
           "zerolinecolor": "#EBF0F8",
           "zerolinewidth": 2
          }
         }
        },
        "width": 1200,
        "xaxis": {
         "anchor": "y",
         "autorange": true,
         "domain": [
          0,
          1
         ],
         "range": [
          23388,
          23670
         ],
         "title": {
          "text": "Frame"
         },
         "type": "linear"
        },
        "yaxis": {
         "anchor": "x",
         "autorange": true,
         "domain": [
          0,
          1
         ],
         "range": [
          -0.030037317568615933,
          0.5707090338037027
         ],
         "title": {
          "text": "SSM"
         },
         "type": "linear"
        }
       }
      },
      "image/png": "[encoded data removed]",
      "text/html": [
       "<div>                            <div id=\"f7e85166-2b19-496c-ae1d-df0c0702a103\" class=\"plotly-graph-div\" style=\"height:500px; width:1200px;\"></div>            <script type=\"text/javascript\">                require([\"plotly\"], function(Plotly) {                    window.PLOTLYENV=window.PLOTLYENV || {};                                    if (document.getElementById(\"f7e85166-2b19-496c-ae1d-df0c0702a103\")) {                    Plotly.newPlot(                        \"f7e85166-2b19-496c-ae1d-df0c0702a103\",                        [{\"hovertemplate\":\"ssm=ACTIT<br>frame=%{x}<br>SSM=%{y}<extra></extra>\",\"legendgroup\":\"ACTIT\",\"line\":{\"color\":\"rgb(102,194,165)\",\"dash\":\"solid\"},\"marker\":{\"symbol\":\"circle\"},\"mode\":\"lines\",\"name\":\"ACTIT\",\"orientation\":\"v\",\"showlegend\":true,\"x\":[23388,23394,23400,23406,23412,23418,23424,23430,23436,23442,23448,23454,23460,23466,23472,23478,23484,23490,23496,23502,23508,23514,23520,23526,23532,23538,23544,23550,23556,23562,23568,23574,23580,23586,23592,23598,23604,23610,23616,23622,23628,23634,23640,23646,23652,23658,23664,23670],\"xaxis\":\"x\",\"y\":[0.0,0.0,0.403176039841586,0.0,0.0,0.1799057949700645,0.0,0.0,0.0,0.0,0.1591701687048304,0.0,0.0,0.0,0.0,0.0,0.0778392486531997,0.0,0.0,0.0,0.0,0.0,0.0,0.0,0.0,0.3466837313049022,0.0,0.0,0.0,0.3646951887335914,0.4118705840407319,0.1990921377483006,0.3807535355472884,0.0,0.0916721170032959,0.0,0.5406717162350868,0.5294271334744097,0.0,0.0,0.0,0.0,0.0,0.0,0.0,0.0,0.0,0.0],\"yaxis\":\"y\",\"type\":\"scatter\"},{\"hovertemplate\":\"ssm=MTIT<br>frame=%{x}<br>SSM=%{y}<extra></extra>\",\"legendgroup\":\"MTIT\",\"line\":{\"color\":\"rgb(252,141,98)\",\"dash\":\"solid\"},\"marker\":{\"symbol\":\"circle\"},\"mode\":\"lines\",\"name\":\"MTIT\",\"orientation\":\"v\",\"showlegend\":true,\"x\":[23388,23394,23400,23406,23412,23418,23424,23430,23436,23442,23448,23454,23460,23466,23472,23478,23484,23490,23496,23502,23508,23514,23520,23526,23532,23538,23544,23550,23556,23562,23568,23574,23580,23586,23592,23598,23604,23610,23616,23622,23628,23634,23640,23646,23652,23658,23664,23670],\"xaxis\":\"x\",\"y\":[0.0,0.0,0.0,0.0,0.0,0.0,0.0,0.0,0.0,0.0,0.0,0.0,0.0,0.0,0.0,0.0,0.0,0.0,0.0,0.0,0.0,0.0,0.0,0.0,0.0,0.0,0.0,0.0,0.0,0.0,0.0,0.0,0.0,0.0,0.0,0.0,0.0,0.0,0.0,0.0,0.0,0.0,0.0,0.0,0.0,0.0,0.0,0.0],\"yaxis\":\"y\",\"type\":\"scatter\"},{\"hovertemplate\":\"ssm=TIT2<br>frame=%{x}<br>SSM=%{y}<extra></extra>\",\"legendgroup\":\"TIT2\",\"line\":{\"color\":\"rgb(141,160,203)\",\"dash\":\"solid\"},\"marker\":{\"symbol\":\"circle\"},\"mode\":\"lines\",\"name\":\"TIT2\",\"orientation\":\"v\",\"showlegend\":true,\"x\":[23388,23394,23400,23406,23412,23418,23424,23430,23436,23442,23448,23454,23460,23466,23472,23478,23484,23490,23496,23502,23508,23514,23520,23526,23532,23538,23544,23550,23556,23562,23568,23574,23580,23586,23592,23598,23604,23610,23616,23622,23628,23634,23640,23646,23652,23658,23664,23670],\"xaxis\":\"x\",\"y\":[0.0,0.0,0.0,0.0,0.0,0.0,0.0,0.0,0.0,0.0,0.0,0.0,0.0,0.0,0.0,0.0,0.0,0.0,0.0,0.0,0.0,0.0,0.0,0.0,0.0,0.0,0.0,0.0,0.0,0.0,0.0,0.0,0.0,0.0,0.0,0.0,0.0,0.0,0.0,0.0,0.0,0.0,0.0,0.0,0.0,0.0,0.0,0.0],\"yaxis\":\"y\",\"type\":\"scatter\"},{\"hovertemplate\":\"ssm=TIT<br>frame=%{x}<br>SSM=%{y}<extra></extra>\",\"legendgroup\":\"TIT\",\"line\":{\"color\":\"rgb(231,138,195)\",\"dash\":\"solid\"},\"marker\":{\"symbol\":\"circle\"},\"mode\":\"lines\",\"name\":\"TIT\",\"orientation\":\"v\",\"showlegend\":true,\"x\":[23388,23394,23400,23406,23412,23418,23424,23430,23436,23442,23448,23454,23460,23466,23472,23478,23484,23490,23496,23502,23508,23514,23520,23526,23532,23538,23544,23550,23556,23562,23568,23574,23580,23586,23592,23598,23604,23610,23616,23622,23628,23634,23640,23646,23652,23658,23664,23670],\"xaxis\":\"x\",\"y\":[0.0,0.0,0.0,0.0,0.0,0.0,0.0,0.0,0.0,0.0,0.0,0.0,0.0,0.0,0.0,0.0,0.0,0.0,0.0,0.0,0.0,0.0,0.0,0.0,0.0,0.0,0.0,0.0,0.0,0.0,0.0,0.0,0.0,0.0,0.0,0.0,0.0,0.0,0.0,0.0,0.0,0.0,0.0,0.0,0.0,0.0,0.0,0.0],\"yaxis\":\"y\",\"type\":\"scatter\"}],                        {\"template\":{\"data\":{\"barpolar\":[{\"marker\":{\"line\":{\"color\":\"white\",\"width\":0.5},\"pattern\":{\"fillmode\":\"overlay\",\"size\":10,\"solidity\":0.2}},\"type\":\"barpolar\"}],\"bar\":[{\"error_x\":{\"color\":\"#2a3f5f\"},\"error_y\":{\"color\":\"#2a3f5f\"},\"marker\":{\"line\":{\"color\":\"white\",\"width\":0.5},\"pattern\":{\"fillmode\":\"overlay\",\"size\":10,\"solidity\":0.2}},\"type\":\"bar\"}],\"carpet\":[{\"aaxis\":{\"endlinecolor\":\"#2a3f5f\",\"gridcolor\":\"#C8D4E3\",\"linecolor\":\"#C8D4E3\",\"minorgridcolor\":\"#C8D4E3\",\"startlinecolor\":\"#2a3f5f\"},\"baxis\":{\"endlinecolor\":\"#2a3f5f\",\"gridcolor\":\"#C8D4E3\",\"linecolor\":\"#C8D4E3\",\"minorgridcolor\":\"#C8D4E3\",\"startlinecolor\":\"#2a3f5f\"},\"type\":\"carpet\"}],\"choropleth\":[{\"colorbar\":{\"outlinewidth\":0,\"ticks\":\"\"},\"type\":\"choropleth\"}],\"contourcarpet\":[{\"colorbar\":{\"outlinewidth\":0,\"ticks\":\"\"},\"type\":\"contourcarpet\"}],\"contour\":[{\"colorbar\":{\"outlinewidth\":0,\"ticks\":\"\"},\"colorscale\":[[0.0,\"#0d0887\"],[0.1111111111111111,\"#46039f\"],[0.2222222222222222,\"#7201a8\"],[0.3333333333333333,\"#9c179e\"],[0.4444444444444444,\"#bd3786\"],[0.5555555555555556,\"#d8576b\"],[0.6666666666666666,\"#ed7953\"],[0.7777777777777778,\"#fb9f3a\"],[0.8888888888888888,\"#fdca26\"],[1.0,\"#f0f921\"]],\"type\":\"contour\"}],\"heatmapgl\":[{\"colorbar\":{\"outlinewidth\":0,\"ticks\":\"\"},\"colorscale\":[[0.0,\"#0d0887\"],[0.1111111111111111,\"#46039f\"],[0.2222222222222222,\"#7201a8\"],[0.3333333333333333,\"#9c179e\"],[0.4444444444444444,\"#bd3786\"],[0.5555555555555556,\"#d8576b\"],[0.6666666666666666,\"#ed7953\"],[0.7777777777777778,\"#fb9f3a\"],[0.8888888888888888,\"#fdca26\"],[1.0,\"#f0f921\"]],\"type\":\"heatmapgl\"}],\"heatmap\":[{\"colorbar\":{\"outlinewidth\":0,\"ticks\":\"\"},\"colorscale\":[[0.0,\"#0d0887\"],[0.1111111111111111,\"#46039f\"],[0.2222222222222222,\"#7201a8\"],[0.3333333333333333,\"#9c179e\"],[0.4444444444444444,\"#bd3786\"],[0.5555555555555556,\"#d8576b\"],[0.6666666666666666,\"#ed7953\"],[0.7777777777777778,\"#fb9f3a\"],[0.8888888888888888,\"#fdca26\"],[1.0,\"#f0f921\"]],\"type\":\"heatmap\"}],\"histogram2dcontour\":[{\"colorbar\":{\"outlinewidth\":0,\"ticks\":\"\"},\"colorscale\":[[0.0,\"#0d0887\"],[0.1111111111111111,\"#46039f\"],[0.2222222222222222,\"#7201a8\"],[0.3333333333333333,\"#9c179e\"],[0.4444444444444444,\"#bd3786\"],[0.5555555555555556,\"#d8576b\"],[0.6666666666666666,\"#ed7953\"],[0.7777777777777778,\"#fb9f3a\"],[0.8888888888888888,\"#fdca26\"],[1.0,\"#f0f921\"]],\"type\":\"histogram2dcontour\"}],\"histogram2d\":[{\"colorbar\":{\"outlinewidth\":0,\"ticks\":\"\"},\"colorscale\":[[0.0,\"#0d0887\"],[0.1111111111111111,\"#46039f\"],[0.2222222222222222,\"#7201a8\"],[0.3333333333333333,\"#9c179e\"],[0.4444444444444444,\"#bd3786\"],[0.5555555555555556,\"#d8576b\"],[0.6666666666666666,\"#ed7953\"],[0.7777777777777778,\"#fb9f3a\"],[0.8888888888888888,\"#fdca26\"],[1.0,\"#f0f921\"]],\"type\":\"histogram2d\"}],\"histogram\":[{\"marker\":{\"pattern\":{\"fillmode\":\"overlay\",\"size\":10,\"solidity\":0.2}},\"type\":\"histogram\"}],\"mesh3d\":[{\"colorbar\":{\"outlinewidth\":0,\"ticks\":\"\"},\"type\":\"mesh3d\"}],\"parcoords\":[{\"line\":{\"colorbar\":{\"outlinewidth\":0,\"ticks\":\"\"}},\"type\":\"parcoords\"}],\"pie\":[{\"automargin\":true,\"type\":\"pie\"}],\"scatter3d\":[{\"line\":{\"colorbar\":{\"outlinewidth\":0,\"ticks\":\"\"}},\"marker\":{\"colorbar\":{\"outlinewidth\":0,\"ticks\":\"\"}},\"type\":\"scatter3d\"}],\"scattercarpet\":[{\"marker\":{\"colorbar\":{\"outlinewidth\":0,\"ticks\":\"\"}},\"type\":\"scattercarpet\"}],\"scattergeo\":[{\"marker\":{\"colorbar\":{\"outlinewidth\":0,\"ticks\":\"\"}},\"type\":\"scattergeo\"}],\"scattergl\":[{\"marker\":{\"colorbar\":{\"outlinewidth\":0,\"ticks\":\"\"}},\"type\":\"scattergl\"}],\"scattermapbox\":[{\"marker\":{\"colorbar\":{\"outlinewidth\":0,\"ticks\":\"\"}},\"type\":\"scattermapbox\"}],\"scatterpolargl\":[{\"marker\":{\"colorbar\":{\"outlinewidth\":0,\"ticks\":\"\"}},\"type\":\"scatterpolargl\"}],\"scatterpolar\":[{\"marker\":{\"colorbar\":{\"outlinewidth\":0,\"ticks\":\"\"}},\"type\":\"scatterpolar\"}],\"scatter\":[{\"fillpattern\":{\"fillmode\":\"overlay\",\"size\":10,\"solidity\":0.2},\"type\":\"scatter\"}],\"scatterternary\":[{\"marker\":{\"colorbar\":{\"outlinewidth\":0,\"ticks\":\"\"}},\"type\":\"scatterternary\"}],\"surface\":[{\"colorbar\":{\"outlinewidth\":0,\"ticks\":\"\"},\"colorscale\":[[0.0,\"#0d0887\"],[0.1111111111111111,\"#46039f\"],[0.2222222222222222,\"#7201a8\"],[0.3333333333333333,\"#9c179e\"],[0.4444444444444444,\"#bd3786\"],[0.5555555555555556,\"#d8576b\"],[0.6666666666666666,\"#ed7953\"],[0.7777777777777778,\"#fb9f3a\"],[0.8888888888888888,\"#fdca26\"],[1.0,\"#f0f921\"]],\"type\":\"surface\"}],\"table\":[{\"cells\":{\"fill\":{\"color\":\"#EBF0F8\"},\"line\":{\"color\":\"white\"}},\"header\":{\"fill\":{\"color\":\"#C8D4E3\"},\"line\":{\"color\":\"white\"}},\"type\":\"table\"}]},\"layout\":{\"annotationdefaults\":{\"arrowcolor\":\"#2a3f5f\",\"arrowhead\":0,\"arrowwidth\":1},\"autotypenumbers\":\"strict\",\"coloraxis\":{\"colorbar\":{\"outlinewidth\":0,\"ticks\":\"\"}},\"colorscale\":{\"diverging\":[[0,\"#8e0152\"],[0.1,\"#c51b7d\"],[0.2,\"#de77ae\"],[0.3,\"#f1b6da\"],[0.4,\"#fde0ef\"],[0.5,\"#f7f7f7\"],[0.6,\"#e6f5d0\"],[0.7,\"#b8e186\"],[0.8,\"#7fbc41\"],[0.9,\"#4d9221\"],[1,\"#276419\"]],\"sequential\":[[0.0,\"#0d0887\"],[0.1111111111111111,\"#46039f\"],[0.2222222222222222,\"#7201a8\"],[0.3333333333333333,\"#9c179e\"],[0.4444444444444444,\"#bd3786\"],[0.5555555555555556,\"#d8576b\"],[0.6666666666666666,\"#ed7953\"],[0.7777777777777778,\"#fb9f3a\"],[0.8888888888888888,\"#fdca26\"],[1.0,\"#f0f921\"]],\"sequentialminus\":[[0.0,\"#0d0887\"],[0.1111111111111111,\"#46039f\"],[0.2222222222222222,\"#7201a8\"],[0.3333333333333333,\"#9c179e\"],[0.4444444444444444,\"#bd3786\"],[0.5555555555555556,\"#d8576b\"],[0.6666666666666666,\"#ed7953\"],[0.7777777777777778,\"#fb9f3a\"],[0.8888888888888888,\"#fdca26\"],[1.0,\"#f0f921\"]]},\"colorway\":[\"#636efa\",\"#EF553B\",\"#00cc96\",\"#ab63fa\",\"#FFA15A\",\"#19d3f3\",\"#FF6692\",\"#B6E880\",\"#FF97FF\",\"#FECB52\"],\"font\":{\"color\":\"#2a3f5f\"},\"geo\":{\"bgcolor\":\"white\",\"lakecolor\":\"white\",\"landcolor\":\"white\",\"showlakes\":true,\"showland\":true,\"subunitcolor\":\"#C8D4E3\"},\"hoverlabel\":{\"align\":\"left\"},\"hovermode\":\"closest\",\"mapbox\":{\"style\":\"light\"},\"paper_bgcolor\":\"white\",\"plot_bgcolor\":\"white\",\"polar\":{\"angularaxis\":{\"gridcolor\":\"#EBF0F8\",\"linecolor\":\"#EBF0F8\",\"ticks\":\"\"},\"bgcolor\":\"white\",\"radialaxis\":{\"gridcolor\":\"#EBF0F8\",\"linecolor\":\"#EBF0F8\",\"ticks\":\"\"}},\"scene\":{\"xaxis\":{\"backgroundcolor\":\"white\",\"gridcolor\":\"#DFE8F3\",\"gridwidth\":2,\"linecolor\":\"#EBF0F8\",\"showbackground\":true,\"ticks\":\"\",\"zerolinecolor\":\"#EBF0F8\"},\"yaxis\":{\"backgroundcolor\":\"white\",\"gridcolor\":\"#DFE8F3\",\"gridwidth\":2,\"linecolor\":\"#EBF0F8\",\"showbackground\":true,\"ticks\":\"\",\"zerolinecolor\":\"#EBF0F8\"},\"zaxis\":{\"backgroundcolor\":\"white\",\"gridcolor\":\"#DFE8F3\",\"gridwidth\":2,\"linecolor\":\"#EBF0F8\",\"showbackground\":true,\"ticks\":\"\",\"zerolinecolor\":\"#EBF0F8\"}},\"shapedefaults\":{\"line\":{\"color\":\"#2a3f5f\"}},\"ternary\":{\"aaxis\":{\"gridcolor\":\"#DFE8F3\",\"linecolor\":\"#A2B1C6\",\"ticks\":\"\"},\"baxis\":{\"gridcolor\":\"#DFE8F3\",\"linecolor\":\"#A2B1C6\",\"ticks\":\"\"},\"bgcolor\":\"white\",\"caxis\":{\"gridcolor\":\"#DFE8F3\",\"linecolor\":\"#A2B1C6\",\"ticks\":\"\"}},\"title\":{\"x\":0.05},\"xaxis\":{\"automargin\":true,\"gridcolor\":\"#EBF0F8\",\"linecolor\":\"#EBF0F8\",\"ticks\":\"\",\"title\":{\"standoff\":15},\"zerolinecolor\":\"#EBF0F8\",\"zerolinewidth\":2},\"yaxis\":{\"automargin\":true,\"gridcolor\":\"#EBF0F8\",\"linecolor\":\"#EBF0F8\",\"ticks\":\"\",\"title\":{\"standoff\":15},\"zerolinecolor\":\"#EBF0F8\",\"zerolinewidth\":2}}},\"xaxis\":{\"anchor\":\"y\",\"domain\":[0.0,1.0],\"title\":{\"text\":\"Frame\"}},\"yaxis\":{\"anchor\":\"x\",\"domain\":[0.0,1.0],\"title\":{\"text\":\"SSM\"}},\"legend\":{\"title\":{\"text\":\"ssm\"},\"tracegroupgap\":0},\"margin\":{\"t\":60},\"height\":500,\"width\":1200},                        {\"responsive\": true}                    ).then(function(){\n",
       "                            \n",
       "var gd = document.getElementById('f7e85166-2b19-496c-ae1d-df0c0702a103');\n",
       "var x = new MutationObserver(function (mutations, observer) {{\n",
       "        var display = window.getComputedStyle(gd).display;\n",
       "        if (!display || display === 'none') {{\n",
       "            console.log([gd, 'removed!']);\n",
       "            Plotly.purge(gd);\n",
       "            observer.disconnect();\n",
       "        }}\n",
       "}});\n",
       "\n",
       "// Listen for the removal of the full notebook cells\n",
       "var notebookContainer = gd.closest('#notebook-container');\n",
       "if (notebookContainer) {{\n",
       "    x.observe(notebookContainer, {childList: true});\n",
       "}}\n",
       "\n",
       "// Listen for the clearing of the current output cell\n",
       "var outputEl = gd.closest('.output');\n",
       "if (outputEl) {{\n",
       "    x.observe(outputEl, {childList: true});\n",
       "}}\n",
       "\n",
       "                        })                };                });            </script>        </div>"
      ]
     },
     "metadata": {},
     "output_type": "display_data"
    },
    {
     "data": {
      "application/vnd.plotly.v1+json": {
       "config": {
        "plotlyServerURL": "https://plot.ly"
       },
       "data": [
        {
         "hovertemplate": "REL=Distance<br>frame=%{x}<br>rel=%{y}<extra></extra>",
         "legendgroup": "Distance",
         "line": {
          "color": "rgb(102,194,165)",
          "dash": "solid"
         },
         "marker": {
          "symbol": "circle"
         },
         "mode": "lines",
         "name": "Distance",
         "orientation": "v",
         "showlegend": true,
         "type": "scatter",
         "visible": "legendonly",
         "x": [
          23388,
          23394,
          23400,
          23406,
          23412,
          23418,
          23424,
          23430,
          23436,
          23442,
          23448,
          23454,
          23460,
          23466,
          23472,
          23478,
          23484,
          23490,
          23496,
          23502,
          23508,
          23514,
          23520,
          23526,
          23532,
          23538,
          23544,
          23550,
          23556,
          23562,
          23568,
          23574,
          23580,
          23586,
          23592,
          23598,
          23604,
          23610
         ],
         "xaxis": "x",
         "y": [
          39.72710687559295,
          40.24808387325898,
          88.97531268121338,
          89.51469347965931,
          90.04119316216243,
          90.57427793737445,
          91.1142819211839,
          91.61286321541478,
          92.21072957505328,
          92.74698284994264,
          93.29673984687516,
          93.8747919602704,
          94.43944915436558,
          95.01936491699834,
          95.60792936229682,
          96.15193502296528,
          96.744846977866,
          45.43093248397264,
          45.71327266954527,
          46.00648646039427,
          46.31335969228788,
          46.55445792451626,
          46.87871810981432,
          47.12511354820275,
          47.39701879409592,
          47.62994806354575,
          47.81306340368403,
          47.99046197689989,
          48.15302030505639,
          48.22750615366796,
          48.23673168384114,
          48.19513202589098,
          48.16957350881191,
          48.19390359549581,
          48.18349454717442,
          48.14123652141115,
          48.09602666945021,
          48.09465598686217
         ],
         "yaxis": "y"
        },
        {
         "hovertemplate": "REL=Acceleration<br>frame=%{x}<br>rel=%{y}<extra></extra>",
         "legendgroup": "Acceleration",
         "line": {
          "color": "rgb(252,141,98)",
          "dash": "solid"
         },
         "marker": {
          "symbol": "circle"
         },
         "mode": "lines",
         "name": "Acceleration",
         "orientation": "v",
         "showlegend": true,
         "type": "scatter",
         "x": [
          23388,
          23394,
          23400,
          23406,
          23412,
          23418,
          23424,
          23430,
          23436,
          23442,
          23448,
          23454,
          23460,
          23466,
          23472,
          23478,
          23484,
          23490,
          23496,
          23502,
          23508,
          23514,
          23520,
          23526,
          23532,
          23538,
          23544,
          23550,
          23556,
          23562,
          23568,
          23574,
          23580,
          23586,
          23592,
          23598,
          23604,
          23610
         ],
         "xaxis": "x",
         "y": [
          null,
          null,
          3.654557486892307,
          1.834891730116217,
          0.7936668460380585,
          1.250638949197651,
          0.3244901048179132,
          1.3676438939382085,
          2.473629933924001,
          1.568644337079547,
          1.2682048644147847,
          1.3172670972986311,
          1.0726005398681482,
          1.452312607963625,
          0.5844226985883821,
          1.3402846584315438,
          2.0308704397691764,
          0.681513202367117,
          0.3147601477707287,
          0.4032849178938674,
          0.335448304511105,
          1.654858384046478,
          2.075606497508794,
          2.1804059278039216,
          0.6637948369983246,
          2.309478692530362,
          1.3009825988446049,
          0.5413344997553208,
          0.5239381893415048,
          3.086661716664871,
          3.2265760336029823,
          1.796927803572542,
          2.42819839245586,
          1.462342300899663,
          1.3379685536756885,
          0.8660416596492506,
          8.838048479620545,
          7.496703276274152
         ],
         "yaxis": "y"
        },
        {
         "hovertemplate": "REL=Velocity<br>frame=%{x}<br>rel=%{y}<extra></extra>",
         "legendgroup": "Velocity",
         "line": {
          "color": "rgb(141,160,203)",
          "dash": "solid"
         },
         "marker": {
          "symbol": "circle"
         },
         "mode": "lines",
         "name": "Velocity",
         "orientation": "v",
         "showlegend": true,
         "type": "scatter",
         "x": [
          23388,
          23394,
          23400,
          23406,
          23412,
          23418,
          23424,
          23430,
          23436,
          23442,
          23448,
          23454,
          23460,
          23466,
          23472,
          23478,
          23484,
          23490,
          23496,
          23502,
          23508,
          23514,
          23520,
          23526,
          23532,
          23538,
          23544,
          23550,
          23556,
          23562,
          23568,
          23574,
          23580,
          23586,
          23592,
          23598,
          23604,
          23610
         ],
         "xaxis": "x",
         "y": [
          null,
          9.406270736287611,
          9.048826006029886,
          10.131574425015565,
          9.766425478237302,
          10.126746756238113,
          10.303810620412024,
          9.838152889750738,
          11.445463935160172,
          10.341592363440936,
          10.900083099631324,
          11.056260647109095,
          11.09297801269919,
          10.981040496130728,
          11.24857025093964,
          10.312392995095356,
          10.867146678092924,
          5.72119209041261,
          5.769235580200642,
          5.836749286766091,
          6.037983909427897,
          4.9531414730589445,
          6.260536882603748,
          4.69954037071428,
          5.091917525940565,
          4.194066464472811,
          3.300196865064765,
          3.200136493651585,
          2.926579208609042,
          2.011469127145569,
          0.5316566744959934,
          0.8535795397595027,
          2.1842547517440343,
          1.6387314521238363,
          2.315515343558681,
          2.212110501574347,
          8.483976640612116,
          3.102540106896257
         ],
         "yaxis": "y"
        }
       ],
       "layout": {
        "height": 500,
        "legend": {
         "title": {
          "text": "REL"
         },
         "tracegroupgap": 0
        },
        "margin": {
         "t": 60
        },
        "template": {
         "data": {
          "bar": [
           {
            "error_x": {
             "color": "#2a3f5f"
            },
            "error_y": {
             "color": "#2a3f5f"
            },
            "marker": {
             "line": {
              "color": "white",
              "width": 0.5
             },
             "pattern": {
              "fillmode": "overlay",
              "size": 10,
              "solidity": 0.2
             }
            },
            "type": "bar"
           }
          ],
          "barpolar": [
           {
            "marker": {
             "line": {
              "color": "white",
              "width": 0.5
             },
             "pattern": {
              "fillmode": "overlay",
              "size": 10,
              "solidity": 0.2
             }
            },
            "type": "barpolar"
           }
          ],
          "carpet": [
           {
            "aaxis": {
             "endlinecolor": "#2a3f5f",
             "gridcolor": "#C8D4E3",
             "linecolor": "#C8D4E3",
             "minorgridcolor": "#C8D4E3",
             "startlinecolor": "#2a3f5f"
            },
            "baxis": {
             "endlinecolor": "#2a3f5f",
             "gridcolor": "#C8D4E3",
             "linecolor": "#C8D4E3",
             "minorgridcolor": "#C8D4E3",
             "startlinecolor": "#2a3f5f"
            },
            "type": "carpet"
           }
          ],
          "choropleth": [
           {
            "colorbar": {
             "outlinewidth": 0,
             "ticks": ""
            },
            "type": "choropleth"
           }
          ],
          "contour": [
           {
            "colorbar": {
             "outlinewidth": 0,
             "ticks": ""
            },
            "colorscale": [
             [
              0,
              "#0d0887"
             ],
             [
              0.1111111111111111,
              "#46039f"
             ],
             [
              0.2222222222222222,
              "#7201a8"
             ],
             [
              0.3333333333333333,
              "#9c179e"
             ],
             [
              0.4444444444444444,
              "#bd3786"
             ],
             [
              0.5555555555555556,
              "#d8576b"
             ],
             [
              0.6666666666666666,
              "#ed7953"
             ],
             [
              0.7777777777777778,
              "#fb9f3a"
             ],
             [
              0.8888888888888888,
              "#fdca26"
             ],
             [
              1,
              "#f0f921"
             ]
            ],
            "type": "contour"
           }
          ],
          "contourcarpet": [
           {
            "colorbar": {
             "outlinewidth": 0,
             "ticks": ""
            },
            "type": "contourcarpet"
           }
          ],
          "heatmap": [
           {
            "colorbar": {
             "outlinewidth": 0,
             "ticks": ""
            },
            "colorscale": [
             [
              0,
              "#0d0887"
             ],
             [
              0.1111111111111111,
              "#46039f"
             ],
             [
              0.2222222222222222,
              "#7201a8"
             ],
             [
              0.3333333333333333,
              "#9c179e"
             ],
             [
              0.4444444444444444,
              "#bd3786"
             ],
             [
              0.5555555555555556,
              "#d8576b"
             ],
             [
              0.6666666666666666,
              "#ed7953"
             ],
             [
              0.7777777777777778,
              "#fb9f3a"
             ],
             [
              0.8888888888888888,
              "#fdca26"
             ],
             [
              1,
              "#f0f921"
             ]
            ],
            "type": "heatmap"
           }
          ],
          "heatmapgl": [
           {
            "colorbar": {
             "outlinewidth": 0,
             "ticks": ""
            },
            "colorscale": [
             [
              0,
              "#0d0887"
             ],
             [
              0.1111111111111111,
              "#46039f"
             ],
             [
              0.2222222222222222,
              "#7201a8"
             ],
             [
              0.3333333333333333,
              "#9c179e"
             ],
             [
              0.4444444444444444,
              "#bd3786"
             ],
             [
              0.5555555555555556,
              "#d8576b"
             ],
             [
              0.6666666666666666,
              "#ed7953"
             ],
             [
              0.7777777777777778,
              "#fb9f3a"
             ],
             [
              0.8888888888888888,
              "#fdca26"
             ],
             [
              1,
              "#f0f921"
             ]
            ],
            "type": "heatmapgl"
           }
          ],
          "histogram": [
           {
            "marker": {
             "pattern": {
              "fillmode": "overlay",
              "size": 10,
              "solidity": 0.2
             }
            },
            "type": "histogram"
           }
          ],
          "histogram2d": [
           {
            "colorbar": {
             "outlinewidth": 0,
             "ticks": ""
            },
            "colorscale": [
             [
              0,
              "#0d0887"
             ],
             [
              0.1111111111111111,
              "#46039f"
             ],
             [
              0.2222222222222222,
              "#7201a8"
             ],
             [
              0.3333333333333333,
              "#9c179e"
             ],
             [
              0.4444444444444444,
              "#bd3786"
             ],
             [
              0.5555555555555556,
              "#d8576b"
             ],
             [
              0.6666666666666666,
              "#ed7953"
             ],
             [
              0.7777777777777778,
              "#fb9f3a"
             ],
             [
              0.8888888888888888,
              "#fdca26"
             ],
             [
              1,
              "#f0f921"
             ]
            ],
            "type": "histogram2d"
           }
          ],
          "histogram2dcontour": [
           {
            "colorbar": {
             "outlinewidth": 0,
             "ticks": ""
            },
            "colorscale": [
             [
              0,
              "#0d0887"
             ],
             [
              0.1111111111111111,
              "#46039f"
             ],
             [
              0.2222222222222222,
              "#7201a8"
             ],
             [
              0.3333333333333333,
              "#9c179e"
             ],
             [
              0.4444444444444444,
              "#bd3786"
             ],
             [
              0.5555555555555556,
              "#d8576b"
             ],
             [
              0.6666666666666666,
              "#ed7953"
             ],
             [
              0.7777777777777778,
              "#fb9f3a"
             ],
             [
              0.8888888888888888,
              "#fdca26"
             ],
             [
              1,
              "#f0f921"
             ]
            ],
            "type": "histogram2dcontour"
           }
          ],
          "mesh3d": [
           {
            "colorbar": {
             "outlinewidth": 0,
             "ticks": ""
            },
            "type": "mesh3d"
           }
          ],
          "parcoords": [
           {
            "line": {
             "colorbar": {
              "outlinewidth": 0,
              "ticks": ""
             }
            },
            "type": "parcoords"
           }
          ],
          "pie": [
           {
            "automargin": true,
            "type": "pie"
           }
          ],
          "scatter": [
           {
            "fillpattern": {
             "fillmode": "overlay",
             "size": 10,
             "solidity": 0.2
            },
            "type": "scatter"
           }
          ],
          "scatter3d": [
           {
            "line": {
             "colorbar": {
              "outlinewidth": 0,
              "ticks": ""
             }
            },
            "marker": {
             "colorbar": {
              "outlinewidth": 0,
              "ticks": ""
             }
            },
            "type": "scatter3d"
           }
          ],
          "scattercarpet": [
           {
            "marker": {
             "colorbar": {
              "outlinewidth": 0,
              "ticks": ""
             }
            },
            "type": "scattercarpet"
           }
          ],
          "scattergeo": [
           {
            "marker": {
             "colorbar": {
              "outlinewidth": 0,
              "ticks": ""
             }
            },
            "type": "scattergeo"
           }
          ],
          "scattergl": [
           {
            "marker": {
             "colorbar": {
              "outlinewidth": 0,
              "ticks": ""
             }
            },
            "type": "scattergl"
           }
          ],
          "scattermapbox": [
           {
            "marker": {
             "colorbar": {
              "outlinewidth": 0,
              "ticks": ""
             }
            },
            "type": "scattermapbox"
           }
          ],
          "scatterpolar": [
           {
            "marker": {
             "colorbar": {
              "outlinewidth": 0,
              "ticks": ""
             }
            },
            "type": "scatterpolar"
           }
          ],
          "scatterpolargl": [
           {
            "marker": {
             "colorbar": {
              "outlinewidth": 0,
              "ticks": ""
             }
            },
            "type": "scatterpolargl"
           }
          ],
          "scatterternary": [
           {
            "marker": {
             "colorbar": {
              "outlinewidth": 0,
              "ticks": ""
             }
            },
            "type": "scatterternary"
           }
          ],
          "surface": [
           {
            "colorbar": {
             "outlinewidth": 0,
             "ticks": ""
            },
            "colorscale": [
             [
              0,
              "#0d0887"
             ],
             [
              0.1111111111111111,
              "#46039f"
             ],
             [
              0.2222222222222222,
              "#7201a8"
             ],
             [
              0.3333333333333333,
              "#9c179e"
             ],
             [
              0.4444444444444444,
              "#bd3786"
             ],
             [
              0.5555555555555556,
              "#d8576b"
             ],
             [
              0.6666666666666666,
              "#ed7953"
             ],
             [
              0.7777777777777778,
              "#fb9f3a"
             ],
             [
              0.8888888888888888,
              "#fdca26"
             ],
             [
              1,
              "#f0f921"
             ]
            ],
            "type": "surface"
           }
          ],
          "table": [
           {
            "cells": {
             "fill": {
              "color": "#EBF0F8"
             },
             "line": {
              "color": "white"
             }
            },
            "header": {
             "fill": {
              "color": "#C8D4E3"
             },
             "line": {
              "color": "white"
             }
            },
            "type": "table"
           }
          ]
         },
         "layout": {
          "annotationdefaults": {
           "arrowcolor": "#2a3f5f",
           "arrowhead": 0,
           "arrowwidth": 1
          },
          "autotypenumbers": "strict",
          "coloraxis": {
           "colorbar": {
            "outlinewidth": 0,
            "ticks": ""
           }
          },
          "colorscale": {
           "diverging": [
            [
             0,
             "#8e0152"
            ],
            [
             0.1,
             "#c51b7d"
            ],
            [
             0.2,
             "#de77ae"
            ],
            [
             0.3,
             "#f1b6da"
            ],
            [
             0.4,
             "#fde0ef"
            ],
            [
             0.5,
             "#f7f7f7"
            ],
            [
             0.6,
             "#e6f5d0"
            ],
            [
             0.7,
             "#b8e186"
            ],
            [
             0.8,
             "#7fbc41"
            ],
            [
             0.9,
             "#4d9221"
            ],
            [
             1,
             "#276419"
            ]
           ],
           "sequential": [
            [
             0,
             "#0d0887"
            ],
            [
             0.1111111111111111,
             "#46039f"
            ],
            [
             0.2222222222222222,
             "#7201a8"
            ],
            [
             0.3333333333333333,
             "#9c179e"
            ],
            [
             0.4444444444444444,
             "#bd3786"
            ],
            [
             0.5555555555555556,
             "#d8576b"
            ],
            [
             0.6666666666666666,
             "#ed7953"
            ],
            [
             0.7777777777777778,
             "#fb9f3a"
            ],
            [
             0.8888888888888888,
             "#fdca26"
            ],
            [
             1,
             "#f0f921"
            ]
           ],
           "sequentialminus": [
            [
             0,
             "#0d0887"
            ],
            [
             0.1111111111111111,
             "#46039f"
            ],
            [
             0.2222222222222222,
             "#7201a8"
            ],
            [
             0.3333333333333333,
             "#9c179e"
            ],
            [
             0.4444444444444444,
             "#bd3786"
            ],
            [
             0.5555555555555556,
             "#d8576b"
            ],
            [
             0.6666666666666666,
             "#ed7953"
            ],
            [
             0.7777777777777778,
             "#fb9f3a"
            ],
            [
             0.8888888888888888,
             "#fdca26"
            ],
            [
             1,
             "#f0f921"
            ]
           ]
          },
          "colorway": [
           "#636efa",
           "#EF553B",
           "#00cc96",
           "#ab63fa",
           "#FFA15A",
           "#19d3f3",
           "#FF6692",
           "#B6E880",
           "#FF97FF",
           "#FECB52"
          ],
          "font": {
           "color": "#2a3f5f"
          },
          "geo": {
           "bgcolor": "white",
           "lakecolor": "white",
           "landcolor": "white",
           "showlakes": true,
           "showland": true,
           "subunitcolor": "#C8D4E3"
          },
          "hoverlabel": {
           "align": "left"
          },
          "hovermode": "closest",
          "mapbox": {
           "style": "light"
          },
          "paper_bgcolor": "white",
          "plot_bgcolor": "white",
          "polar": {
           "angularaxis": {
            "gridcolor": "#EBF0F8",
            "linecolor": "#EBF0F8",
            "ticks": ""
           },
           "bgcolor": "white",
           "radialaxis": {
            "gridcolor": "#EBF0F8",
            "linecolor": "#EBF0F8",
            "ticks": ""
           }
          },
          "scene": {
           "xaxis": {
            "backgroundcolor": "white",
            "gridcolor": "#DFE8F3",
            "gridwidth": 2,
            "linecolor": "#EBF0F8",
            "showbackground": true,
            "ticks": "",
            "zerolinecolor": "#EBF0F8"
           },
           "yaxis": {
            "backgroundcolor": "white",
            "gridcolor": "#DFE8F3",
            "gridwidth": 2,
            "linecolor": "#EBF0F8",
            "showbackground": true,
            "ticks": "",
            "zerolinecolor": "#EBF0F8"
           },
           "zaxis": {
            "backgroundcolor": "white",
            "gridcolor": "#DFE8F3",
            "gridwidth": 2,
            "linecolor": "#EBF0F8",
            "showbackground": true,
            "ticks": "",
            "zerolinecolor": "#EBF0F8"
           }
          },
          "shapedefaults": {
           "line": {
            "color": "#2a3f5f"
           }
          },
          "ternary": {
           "aaxis": {
            "gridcolor": "#DFE8F3",
            "linecolor": "#A2B1C6",
            "ticks": ""
           },
           "baxis": {
            "gridcolor": "#DFE8F3",
            "linecolor": "#A2B1C6",
            "ticks": ""
           },
           "bgcolor": "white",
           "caxis": {
            "gridcolor": "#DFE8F3",
            "linecolor": "#A2B1C6",
            "ticks": ""
           }
          },
          "title": {
           "x": 0.05
          },
          "xaxis": {
           "automargin": true,
           "gridcolor": "#EBF0F8",
           "linecolor": "#EBF0F8",
           "ticks": "",
           "title": {
            "standoff": 15
           },
           "zerolinecolor": "#EBF0F8",
           "zerolinewidth": 2
          },
          "yaxis": {
           "automargin": true,
           "gridcolor": "#EBF0F8",
           "linecolor": "#EBF0F8",
           "ticks": "",
           "title": {
            "standoff": 15
           },
           "zerolinecolor": "#EBF0F8",
           "zerolinewidth": 2
          }
         }
        },
        "width": 1200,
        "xaxis": {
         "anchor": "y",
         "autorange": true,
         "domain": [
          0,
          1
         ],
         "range": [
          23388,
          23610
         ],
         "title": {
          "text": "Frame"
         },
         "type": "linear"
        },
        "yaxis": {
         "anchor": "x",
         "autorange": true,
         "domain": [
          0,
          1
         ],
         "range": [
          -0.3036122848620181,
          12.063836367792918
         ],
         "title": {
          "text": "rel"
         },
         "type": "linear"
        }
       }
      },
      "image/png": "[encoded data removed]",
      "text/html": [
       "<div>                            <div id=\"493360a7-ce14-4466-ad7d-05692b26cc9e\" class=\"plotly-graph-div\" style=\"height:500px; width:1200px;\"></div>            <script type=\"text/javascript\">                require([\"plotly\"], function(Plotly) {                    window.PLOTLYENV=window.PLOTLYENV || {};                                    if (document.getElementById(\"493360a7-ce14-4466-ad7d-05692b26cc9e\")) {                    Plotly.newPlot(                        \"493360a7-ce14-4466-ad7d-05692b26cc9e\",                        [{\"hovertemplate\":\"REL=Distance<br>frame=%{x}<br>rel=%{y}<extra></extra>\",\"legendgroup\":\"Distance\",\"line\":{\"color\":\"rgb(102,194,165)\",\"dash\":\"solid\"},\"marker\":{\"symbol\":\"circle\"},\"mode\":\"lines\",\"name\":\"Distance\",\"orientation\":\"v\",\"showlegend\":true,\"x\":[23388,23394,23400,23406,23412,23418,23424,23430,23436,23442,23448,23454,23460,23466,23472,23478,23484,23490,23496,23502,23508,23514,23520,23526,23532,23538,23544,23550,23556,23562,23568,23574,23580,23586,23592,23598,23604,23610],\"xaxis\":\"x\",\"y\":[39.72710687559295,40.24808387325898,88.97531268121338,89.51469347965931,90.04119316216243,90.57427793737445,91.1142819211839,91.61286321541478,92.21072957505328,92.74698284994264,93.29673984687516,93.8747919602704,94.43944915436558,95.01936491699834,95.60792936229682,96.15193502296528,96.744846977866,45.43093248397264,45.71327266954527,46.00648646039427,46.31335969228788,46.55445792451626,46.87871810981432,47.12511354820275,47.39701879409592,47.62994806354575,47.81306340368403,47.99046197689989,48.15302030505639,48.22750615366796,48.23673168384114,48.19513202589098,48.16957350881191,48.19390359549581,48.18349454717442,48.14123652141115,48.09602666945021,48.09465598686217],\"yaxis\":\"y\",\"type\":\"scatter\"},{\"hovertemplate\":\"REL=Acceleration<br>frame=%{x}<br>rel=%{y}<extra></extra>\",\"legendgroup\":\"Acceleration\",\"line\":{\"color\":\"rgb(252,141,98)\",\"dash\":\"solid\"},\"marker\":{\"symbol\":\"circle\"},\"mode\":\"lines\",\"name\":\"Acceleration\",\"orientation\":\"v\",\"showlegend\":true,\"x\":[23388,23394,23400,23406,23412,23418,23424,23430,23436,23442,23448,23454,23460,23466,23472,23478,23484,23490,23496,23502,23508,23514,23520,23526,23532,23538,23544,23550,23556,23562,23568,23574,23580,23586,23592,23598,23604,23610],\"xaxis\":\"x\",\"y\":[null,null,3.654557486892307,1.834891730116217,0.7936668460380585,1.250638949197651,0.3244901048179132,1.3676438939382085,2.473629933924001,1.568644337079547,1.2682048644147847,1.3172670972986311,1.0726005398681482,1.452312607963625,0.5844226985883821,1.3402846584315438,2.0308704397691764,0.681513202367117,0.3147601477707287,0.4032849178938674,0.335448304511105,1.654858384046478,2.075606497508794,2.1804059278039216,0.6637948369983246,2.309478692530362,1.3009825988446049,0.5413344997553208,0.5239381893415048,3.086661716664871,3.2265760336029823,1.796927803572542,2.42819839245586,1.462342300899663,1.3379685536756885,0.8660416596492506,8.838048479620545,7.496703276274152],\"yaxis\":\"y\",\"type\":\"scatter\"},{\"hovertemplate\":\"REL=Velocity<br>frame=%{x}<br>rel=%{y}<extra></extra>\",\"legendgroup\":\"Velocity\",\"line\":{\"color\":\"rgb(141,160,203)\",\"dash\":\"solid\"},\"marker\":{\"symbol\":\"circle\"},\"mode\":\"lines\",\"name\":\"Velocity\",\"orientation\":\"v\",\"showlegend\":true,\"x\":[23388,23394,23400,23406,23412,23418,23424,23430,23436,23442,23448,23454,23460,23466,23472,23478,23484,23490,23496,23502,23508,23514,23520,23526,23532,23538,23544,23550,23556,23562,23568,23574,23580,23586,23592,23598,23604,23610],\"xaxis\":\"x\",\"y\":[null,9.406270736287611,9.048826006029886,10.131574425015565,9.766425478237302,10.126746756238113,10.303810620412024,9.838152889750738,11.445463935160172,10.341592363440936,10.900083099631324,11.056260647109095,11.09297801269919,10.981040496130728,11.24857025093964,10.312392995095356,10.867146678092924,5.72119209041261,5.769235580200642,5.836749286766091,6.037983909427897,4.9531414730589445,6.260536882603748,4.69954037071428,5.091917525940565,4.194066464472811,3.300196865064765,3.200136493651585,2.926579208609042,2.011469127145569,0.5316566744959934,0.8535795397595027,2.1842547517440343,1.6387314521238363,2.315515343558681,2.212110501574347,8.483976640612116,3.102540106896257],\"yaxis\":\"y\",\"type\":\"scatter\"}],                        {\"template\":{\"data\":{\"barpolar\":[{\"marker\":{\"line\":{\"color\":\"white\",\"width\":0.5},\"pattern\":{\"fillmode\":\"overlay\",\"size\":10,\"solidity\":0.2}},\"type\":\"barpolar\"}],\"bar\":[{\"error_x\":{\"color\":\"#2a3f5f\"},\"error_y\":{\"color\":\"#2a3f5f\"},\"marker\":{\"line\":{\"color\":\"white\",\"width\":0.5},\"pattern\":{\"fillmode\":\"overlay\",\"size\":10,\"solidity\":0.2}},\"type\":\"bar\"}],\"carpet\":[{\"aaxis\":{\"endlinecolor\":\"#2a3f5f\",\"gridcolor\":\"#C8D4E3\",\"linecolor\":\"#C8D4E3\",\"minorgridcolor\":\"#C8D4E3\",\"startlinecolor\":\"#2a3f5f\"},\"baxis\":{\"endlinecolor\":\"#2a3f5f\",\"gridcolor\":\"#C8D4E3\",\"linecolor\":\"#C8D4E3\",\"minorgridcolor\":\"#C8D4E3\",\"startlinecolor\":\"#2a3f5f\"},\"type\":\"carpet\"}],\"choropleth\":[{\"colorbar\":{\"outlinewidth\":0,\"ticks\":\"\"},\"type\":\"choropleth\"}],\"contourcarpet\":[{\"colorbar\":{\"outlinewidth\":0,\"ticks\":\"\"},\"type\":\"contourcarpet\"}],\"contour\":[{\"colorbar\":{\"outlinewidth\":0,\"ticks\":\"\"},\"colorscale\":[[0.0,\"#0d0887\"],[0.1111111111111111,\"#46039f\"],[0.2222222222222222,\"#7201a8\"],[0.3333333333333333,\"#9c179e\"],[0.4444444444444444,\"#bd3786\"],[0.5555555555555556,\"#d8576b\"],[0.6666666666666666,\"#ed7953\"],[0.7777777777777778,\"#fb9f3a\"],[0.8888888888888888,\"#fdca26\"],[1.0,\"#f0f921\"]],\"type\":\"contour\"}],\"heatmapgl\":[{\"colorbar\":{\"outlinewidth\":0,\"ticks\":\"\"},\"colorscale\":[[0.0,\"#0d0887\"],[0.1111111111111111,\"#46039f\"],[0.2222222222222222,\"#7201a8\"],[0.3333333333333333,\"#9c179e\"],[0.4444444444444444,\"#bd3786\"],[0.5555555555555556,\"#d8576b\"],[0.6666666666666666,\"#ed7953\"],[0.7777777777777778,\"#fb9f3a\"],[0.8888888888888888,\"#fdca26\"],[1.0,\"#f0f921\"]],\"type\":\"heatmapgl\"}],\"heatmap\":[{\"colorbar\":{\"outlinewidth\":0,\"ticks\":\"\"},\"colorscale\":[[0.0,\"#0d0887\"],[0.1111111111111111,\"#46039f\"],[0.2222222222222222,\"#7201a8\"],[0.3333333333333333,\"#9c179e\"],[0.4444444444444444,\"#bd3786\"],[0.5555555555555556,\"#d8576b\"],[0.6666666666666666,\"#ed7953\"],[0.7777777777777778,\"#fb9f3a\"],[0.8888888888888888,\"#fdca26\"],[1.0,\"#f0f921\"]],\"type\":\"heatmap\"}],\"histogram2dcontour\":[{\"colorbar\":{\"outlinewidth\":0,\"ticks\":\"\"},\"colorscale\":[[0.0,\"#0d0887\"],[0.1111111111111111,\"#46039f\"],[0.2222222222222222,\"#7201a8\"],[0.3333333333333333,\"#9c179e\"],[0.4444444444444444,\"#bd3786\"],[0.5555555555555556,\"#d8576b\"],[0.6666666666666666,\"#ed7953\"],[0.7777777777777778,\"#fb9f3a\"],[0.8888888888888888,\"#fdca26\"],[1.0,\"#f0f921\"]],\"type\":\"histogram2dcontour\"}],\"histogram2d\":[{\"colorbar\":{\"outlinewidth\":0,\"ticks\":\"\"},\"colorscale\":[[0.0,\"#0d0887\"],[0.1111111111111111,\"#46039f\"],[0.2222222222222222,\"#7201a8\"],[0.3333333333333333,\"#9c179e\"],[0.4444444444444444,\"#bd3786\"],[0.5555555555555556,\"#d8576b\"],[0.6666666666666666,\"#ed7953\"],[0.7777777777777778,\"#fb9f3a\"],[0.8888888888888888,\"#fdca26\"],[1.0,\"#f0f921\"]],\"type\":\"histogram2d\"}],\"histogram\":[{\"marker\":{\"pattern\":{\"fillmode\":\"overlay\",\"size\":10,\"solidity\":0.2}},\"type\":\"histogram\"}],\"mesh3d\":[{\"colorbar\":{\"outlinewidth\":0,\"ticks\":\"\"},\"type\":\"mesh3d\"}],\"parcoords\":[{\"line\":{\"colorbar\":{\"outlinewidth\":0,\"ticks\":\"\"}},\"type\":\"parcoords\"}],\"pie\":[{\"automargin\":true,\"type\":\"pie\"}],\"scatter3d\":[{\"line\":{\"colorbar\":{\"outlinewidth\":0,\"ticks\":\"\"}},\"marker\":{\"colorbar\":{\"outlinewidth\":0,\"ticks\":\"\"}},\"type\":\"scatter3d\"}],\"scattercarpet\":[{\"marker\":{\"colorbar\":{\"outlinewidth\":0,\"ticks\":\"\"}},\"type\":\"scattercarpet\"}],\"scattergeo\":[{\"marker\":{\"colorbar\":{\"outlinewidth\":0,\"ticks\":\"\"}},\"type\":\"scattergeo\"}],\"scattergl\":[{\"marker\":{\"colorbar\":{\"outlinewidth\":0,\"ticks\":\"\"}},\"type\":\"scattergl\"}],\"scattermapbox\":[{\"marker\":{\"colorbar\":{\"outlinewidth\":0,\"ticks\":\"\"}},\"type\":\"scattermapbox\"}],\"scatterpolargl\":[{\"marker\":{\"colorbar\":{\"outlinewidth\":0,\"ticks\":\"\"}},\"type\":\"scatterpolargl\"}],\"scatterpolar\":[{\"marker\":{\"colorbar\":{\"outlinewidth\":0,\"ticks\":\"\"}},\"type\":\"scatterpolar\"}],\"scatter\":[{\"fillpattern\":{\"fillmode\":\"overlay\",\"size\":10,\"solidity\":0.2},\"type\":\"scatter\"}],\"scatterternary\":[{\"marker\":{\"colorbar\":{\"outlinewidth\":0,\"ticks\":\"\"}},\"type\":\"scatterternary\"}],\"surface\":[{\"colorbar\":{\"outlinewidth\":0,\"ticks\":\"\"},\"colorscale\":[[0.0,\"#0d0887\"],[0.1111111111111111,\"#46039f\"],[0.2222222222222222,\"#7201a8\"],[0.3333333333333333,\"#9c179e\"],[0.4444444444444444,\"#bd3786\"],[0.5555555555555556,\"#d8576b\"],[0.6666666666666666,\"#ed7953\"],[0.7777777777777778,\"#fb9f3a\"],[0.8888888888888888,\"#fdca26\"],[1.0,\"#f0f921\"]],\"type\":\"surface\"}],\"table\":[{\"cells\":{\"fill\":{\"color\":\"#EBF0F8\"},\"line\":{\"color\":\"white\"}},\"header\":{\"fill\":{\"color\":\"#C8D4E3\"},\"line\":{\"color\":\"white\"}},\"type\":\"table\"}]},\"layout\":{\"annotationdefaults\":{\"arrowcolor\":\"#2a3f5f\",\"arrowhead\":0,\"arrowwidth\":1},\"autotypenumbers\":\"strict\",\"coloraxis\":{\"colorbar\":{\"outlinewidth\":0,\"ticks\":\"\"}},\"colorscale\":{\"diverging\":[[0,\"#8e0152\"],[0.1,\"#c51b7d\"],[0.2,\"#de77ae\"],[0.3,\"#f1b6da\"],[0.4,\"#fde0ef\"],[0.5,\"#f7f7f7\"],[0.6,\"#e6f5d0\"],[0.7,\"#b8e186\"],[0.8,\"#7fbc41\"],[0.9,\"#4d9221\"],[1,\"#276419\"]],\"sequential\":[[0.0,\"#0d0887\"],[0.1111111111111111,\"#46039f\"],[0.2222222222222222,\"#7201a8\"],[0.3333333333333333,\"#9c179e\"],[0.4444444444444444,\"#bd3786\"],[0.5555555555555556,\"#d8576b\"],[0.6666666666666666,\"#ed7953\"],[0.7777777777777778,\"#fb9f3a\"],[0.8888888888888888,\"#fdca26\"],[1.0,\"#f0f921\"]],\"sequentialminus\":[[0.0,\"#0d0887\"],[0.1111111111111111,\"#46039f\"],[0.2222222222222222,\"#7201a8\"],[0.3333333333333333,\"#9c179e\"],[0.4444444444444444,\"#bd3786\"],[0.5555555555555556,\"#d8576b\"],[0.6666666666666666,\"#ed7953\"],[0.7777777777777778,\"#fb9f3a\"],[0.8888888888888888,\"#fdca26\"],[1.0,\"#f0f921\"]]},\"colorway\":[\"#636efa\",\"#EF553B\",\"#00cc96\",\"#ab63fa\",\"#FFA15A\",\"#19d3f3\",\"#FF6692\",\"#B6E880\",\"#FF97FF\",\"#FECB52\"],\"font\":{\"color\":\"#2a3f5f\"},\"geo\":{\"bgcolor\":\"white\",\"lakecolor\":\"white\",\"landcolor\":\"white\",\"showlakes\":true,\"showland\":true,\"subunitcolor\":\"#C8D4E3\"},\"hoverlabel\":{\"align\":\"left\"},\"hovermode\":\"closest\",\"mapbox\":{\"style\":\"light\"},\"paper_bgcolor\":\"white\",\"plot_bgcolor\":\"white\",\"polar\":{\"angularaxis\":{\"gridcolor\":\"#EBF0F8\",\"linecolor\":\"#EBF0F8\",\"ticks\":\"\"},\"bgcolor\":\"white\",\"radialaxis\":{\"gridcolor\":\"#EBF0F8\",\"linecolor\":\"#EBF0F8\",\"ticks\":\"\"}},\"scene\":{\"xaxis\":{\"backgroundcolor\":\"white\",\"gridcolor\":\"#DFE8F3\",\"gridwidth\":2,\"linecolor\":\"#EBF0F8\",\"showbackground\":true,\"ticks\":\"\",\"zerolinecolor\":\"#EBF0F8\"},\"yaxis\":{\"backgroundcolor\":\"white\",\"gridcolor\":\"#DFE8F3\",\"gridwidth\":2,\"linecolor\":\"#EBF0F8\",\"showbackground\":true,\"ticks\":\"\",\"zerolinecolor\":\"#EBF0F8\"},\"zaxis\":{\"backgroundcolor\":\"white\",\"gridcolor\":\"#DFE8F3\",\"gridwidth\":2,\"linecolor\":\"#EBF0F8\",\"showbackground\":true,\"ticks\":\"\",\"zerolinecolor\":\"#EBF0F8\"}},\"shapedefaults\":{\"line\":{\"color\":\"#2a3f5f\"}},\"ternary\":{\"aaxis\":{\"gridcolor\":\"#DFE8F3\",\"linecolor\":\"#A2B1C6\",\"ticks\":\"\"},\"baxis\":{\"gridcolor\":\"#DFE8F3\",\"linecolor\":\"#A2B1C6\",\"ticks\":\"\"},\"bgcolor\":\"white\",\"caxis\":{\"gridcolor\":\"#DFE8F3\",\"linecolor\":\"#A2B1C6\",\"ticks\":\"\"}},\"title\":{\"x\":0.05},\"xaxis\":{\"automargin\":true,\"gridcolor\":\"#EBF0F8\",\"linecolor\":\"#EBF0F8\",\"ticks\":\"\",\"title\":{\"standoff\":15},\"zerolinecolor\":\"#EBF0F8\",\"zerolinewidth\":2},\"yaxis\":{\"automargin\":true,\"gridcolor\":\"#EBF0F8\",\"linecolor\":\"#EBF0F8\",\"ticks\":\"\",\"title\":{\"standoff\":15},\"zerolinecolor\":\"#EBF0F8\",\"zerolinewidth\":2}}},\"xaxis\":{\"anchor\":\"y\",\"domain\":[0.0,1.0],\"title\":{\"text\":\"Frame\"}},\"yaxis\":{\"anchor\":\"x\",\"domain\":[0.0,1.0],\"title\":{\"text\":\"rel\"}},\"legend\":{\"title\":{\"text\":\"REL\"},\"tracegroupgap\":0},\"margin\":{\"t\":60},\"height\":500,\"width\":1200},                        {\"responsive\": true}                    ).then(function(){\n",
       "                            \n",
       "var gd = document.getElementById('493360a7-ce14-4466-ad7d-05692b26cc9e');\n",
       "var x = new MutationObserver(function (mutations, observer) {{\n",
       "        var display = window.getComputedStyle(gd).display;\n",
       "        if (!display || display === 'none') {{\n",
       "            console.log([gd, 'removed!']);\n",
       "            Plotly.purge(gd);\n",
       "            observer.disconnect();\n",
       "        }}\n",
       "}});\n",
       "\n",
       "// Listen for the removal of the full notebook cells\n",
       "var notebookContainer = gd.closest('#notebook-container');\n",
       "if (notebookContainer) {{\n",
       "    x.observe(notebookContainer, {childList: true});\n",
       "}}\n",
       "\n",
       "// Listen for the clearing of the current output cell\n",
       "var outputEl = gd.closest('.output');\n",
       "if (outputEl) {{\n",
       "    x.observe(outputEl, {childList: true});\n",
       "}}\n",
       "\n",
       "                        })                };                });            </script>        </div>"
      ]
     },
     "metadata": {},
     "output_type": "display_data"
    }
   ],
   "source": [
    "Vehicle_ID = 1392\n",
    "\n",
    "pv = pd.pivot_table(df[df['Vehicle ID'] == Vehicle_ID],\n",
    "               index = ['Vehicle ID', 'frame'],\n",
    "               values = ['TIT_0', 'MTIT_0', 'TIT2_0', 'ACTIT_0'])\n",
    "\n",
    "pv.reset_index(inplace = True)\n",
    "pv.rename({'TIT_0' : 'SSM_TIT', 'MTIT_0' : 'SSM_MTIT', 'TIT2_0' : 'SSM_TIT2', 'ACTIT_0' : 'SSM_ACTIT'}, axis = 1, inplace = True)\n",
    "pv = pd.wide_to_long(pv, stubnames = ['SSM'], i = ['Vehicle ID', 'frame'], j = 'ssm', sep = '_', suffix = r'\\w+').reset_index()\n",
    "\n",
    "fig = px.line(pv, x = 'frame', y = 'SSM', color = 'ssm',\n",
    "              template = 'plotly_white', \n",
    "              color_discrete_sequence = px.colors.qualitative.Set2,\n",
    "              #title = f'Vehicle Trajectory : 공사구간 2개 차로 합류지점', \n",
    "              width = 1200, height = 500)\n",
    "\n",
    "#fig.update_layout(showlegend = False)\n",
    "fig.update_xaxes(title_text = 'Frame')\n",
    "fig.update_yaxes(title_text = 'SSM')#, range = [0, 50])\n",
    "\n",
    "fig.show()\n",
    "\n",
    "#relative = 'LV0_relative_velocity'\n",
    "\n",
    "pv2 = pd.pivot_table(df[df['Vehicle ID'] == Vehicle_ID],\n",
    "               index = ['Vehicle ID', 'frame', 'LV0_ID'],\n",
    "               values = ['LV0_D', 'LV0_rel_velocity', 'LV0_rel_acc'])\n",
    "pv2.reset_index(inplace = True)\n",
    "pv2.rename({'LV0_D' : 'rel_Distance', 'LV0_rel_velocity' : 'rel_Velocity', 'LV0_rel_acc' : 'rel_Acceleration'}, axis = 1, inplace = True)\n",
    "pv2 = pd.wide_to_long(pv2, stubnames = ['rel'], i = ['Vehicle ID', 'frame', 'LV0_ID'], j = 'REL', sep = '_', suffix = r'\\w+').reset_index()\n",
    "\n",
    "fig2 = px.line(pv2, x = 'frame', y = 'rel', color = 'REL',\n",
    "              template = 'plotly_white',\n",
    "              color_discrete_sequence = px.colors.qualitative.Set2,\n",
    "              #title = f'Vehicle Trajectory : 공사구간 2개 차로 합류지점', \n",
    "              width = 1200, height = 500)\n",
    "\n",
    "fig2.update_xaxes(title_text = 'Frame')\n",
    "#fig2.update_yaxes(title_text = relative)\n",
    "\n",
    "fig2.show()"
   ]
  },
  {
   "cell_type": "code",
   "execution_count": 11,
   "id": "6c85d630-9889-4f98-ad13-765b145814fd",
   "metadata": {
    "execution": {
     "iopub.execute_input": "2023-04-28T06:26:58.220187Z",
     "iopub.status.busy": "2023-04-28T06:26:58.220187Z",
     "iopub.status.idle": "2023-04-28T06:26:58.268059Z",
     "shell.execute_reply": "2023-04-28T06:26:58.267061Z",
     "shell.execute_reply.started": "2023-04-28T06:26:58.220187Z"
    },
    "tags": []
   },
   "outputs": [
    {
     "data": {
      "text/plain": [
       "array([ 897,  927,   15, 1393, 1118,  207,  538,  968,  998, 1274,  539,\n",
       "        262,  298,  852,  847,  529], dtype=int64)"
      ]
     },
     "execution_count": 11,
     "metadata": {},
     "output_type": "execute_result"
    }
   ],
   "source": [
    "df.sort_values(by = 'ACT_L')[:30]['Vehicle ID'].unique()"
   ]
  },
  {
   "cell_type": "code",
   "execution_count": 12,
   "id": "60182a78-44d5-41cf-b6ee-7ea0e783c729",
   "metadata": {
    "execution": {
     "iopub.execute_input": "2023-04-28T06:26:58.269055Z",
     "iopub.status.busy": "2023-04-28T06:26:58.269055Z",
     "iopub.status.idle": "2023-04-28T06:26:58.297979Z",
     "shell.execute_reply": "2023-04-28T06:26:58.296982Z",
     "shell.execute_reply.started": "2023-04-28T06:26:58.269055Z"
    },
    "tags": []
   },
   "outputs": [
    {
     "data": {
      "text/html": [
       "<div>\n",
       "<style scoped>\n",
       "    .dataframe tbody tr th:only-of-type {\n",
       "        vertical-align: middle;\n",
       "    }\n",
       "\n",
       "    .dataframe tbody tr th {\n",
       "        vertical-align: top;\n",
       "    }\n",
       "\n",
       "    .dataframe thead th {\n",
       "        text-align: right;\n",
       "    }\n",
       "</style>\n",
       "<table border=\"1\" class=\"dataframe\">\n",
       "  <thead>\n",
       "    <tr style=\"text-align: right;\">\n",
       "      <th></th>\n",
       "      <th>Unnamed: 0.1</th>\n",
       "      <th>Unnamed: 0</th>\n",
       "      <th>Vehicle ID</th>\n",
       "      <th>frame</th>\n",
       "      <th>Total Frames</th>\n",
       "      <th>Global Time (Epoch Time)</th>\n",
       "      <th>local_x</th>\n",
       "      <th>local_y</th>\n",
       "      <th>V_len</th>\n",
       "      <th>V_wid</th>\n",
       "      <th>...</th>\n",
       "      <th>T2_T</th>\n",
       "      <th>ACT_T</th>\n",
       "      <th>TIT_0</th>\n",
       "      <th>MTIT_0</th>\n",
       "      <th>TIT2_0</th>\n",
       "      <th>TIT2_L</th>\n",
       "      <th>TIT2_R</th>\n",
       "      <th>ACTIT_0</th>\n",
       "      <th>ACTIT_L</th>\n",
       "      <th>ACTIT_R</th>\n",
       "    </tr>\n",
       "  </thead>\n",
       "  <tbody>\n",
       "    <tr>\n",
       "      <th>0</th>\n",
       "      <td>0</td>\n",
       "      <td>0</td>\n",
       "      <td>8</td>\n",
       "      <td>636</td>\n",
       "      <td>46</td>\n",
       "      <td>46821200</td>\n",
       "      <td>39.581772</td>\n",
       "      <td>10.564293</td>\n",
       "      <td>7.352372</td>\n",
       "      <td>3.095736</td>\n",
       "      <td>...</td>\n",
       "      <td>NaN</td>\n",
       "      <td>NaN</td>\n",
       "      <td>0.0</td>\n",
       "      <td>0.000000</td>\n",
       "      <td>0.0</td>\n",
       "      <td>0.0</td>\n",
       "      <td>0.0</td>\n",
       "      <td>0.000000</td>\n",
       "      <td>0.0</td>\n",
       "      <td>0.0</td>\n",
       "    </tr>\n",
       "    <tr>\n",
       "      <th>1</th>\n",
       "      <td>1</td>\n",
       "      <td>1</td>\n",
       "      <td>8</td>\n",
       "      <td>642</td>\n",
       "      <td>52</td>\n",
       "      <td>46821400</td>\n",
       "      <td>44.366989</td>\n",
       "      <td>10.657507</td>\n",
       "      <td>7.352372</td>\n",
       "      <td>3.095736</td>\n",
       "      <td>...</td>\n",
       "      <td>NaN</td>\n",
       "      <td>NaN</td>\n",
       "      <td>0.0</td>\n",
       "      <td>0.000000</td>\n",
       "      <td>0.0</td>\n",
       "      <td>0.0</td>\n",
       "      <td>0.0</td>\n",
       "      <td>0.000000</td>\n",
       "      <td>0.0</td>\n",
       "      <td>0.0</td>\n",
       "    </tr>\n",
       "    <tr>\n",
       "      <th>2</th>\n",
       "      <td>2</td>\n",
       "      <td>2</td>\n",
       "      <td>8</td>\n",
       "      <td>648</td>\n",
       "      <td>58</td>\n",
       "      <td>46821600</td>\n",
       "      <td>49.125137</td>\n",
       "      <td>10.723641</td>\n",
       "      <td>7.352372</td>\n",
       "      <td>3.095736</td>\n",
       "      <td>...</td>\n",
       "      <td>NaN</td>\n",
       "      <td>NaN</td>\n",
       "      <td>0.0</td>\n",
       "      <td>0.000000</td>\n",
       "      <td>0.0</td>\n",
       "      <td>0.0</td>\n",
       "      <td>0.0</td>\n",
       "      <td>0.000000</td>\n",
       "      <td>0.0</td>\n",
       "      <td>0.0</td>\n",
       "    </tr>\n",
       "    <tr>\n",
       "      <th>3</th>\n",
       "      <td>3</td>\n",
       "      <td>3</td>\n",
       "      <td>8</td>\n",
       "      <td>654</td>\n",
       "      <td>64</td>\n",
       "      <td>46821800</td>\n",
       "      <td>53.936234</td>\n",
       "      <td>10.796314</td>\n",
       "      <td>7.352372</td>\n",
       "      <td>3.095736</td>\n",
       "      <td>...</td>\n",
       "      <td>NaN</td>\n",
       "      <td>NaN</td>\n",
       "      <td>0.0</td>\n",
       "      <td>0.000000</td>\n",
       "      <td>0.0</td>\n",
       "      <td>0.0</td>\n",
       "      <td>0.0</td>\n",
       "      <td>0.000000</td>\n",
       "      <td>0.0</td>\n",
       "      <td>0.0</td>\n",
       "    </tr>\n",
       "    <tr>\n",
       "      <th>4</th>\n",
       "      <td>4</td>\n",
       "      <td>4</td>\n",
       "      <td>8</td>\n",
       "      <td>660</td>\n",
       "      <td>70</td>\n",
       "      <td>46822000</td>\n",
       "      <td>58.742111</td>\n",
       "      <td>10.859347</td>\n",
       "      <td>7.352372</td>\n",
       "      <td>3.095736</td>\n",
       "      <td>...</td>\n",
       "      <td>NaN</td>\n",
       "      <td>NaN</td>\n",
       "      <td>0.0</td>\n",
       "      <td>0.000000</td>\n",
       "      <td>0.0</td>\n",
       "      <td>0.0</td>\n",
       "      <td>0.0</td>\n",
       "      <td>0.000000</td>\n",
       "      <td>0.0</td>\n",
       "      <td>0.0</td>\n",
       "    </tr>\n",
       "    <tr>\n",
       "      <th>...</th>\n",
       "      <td>...</td>\n",
       "      <td>...</td>\n",
       "      <td>...</td>\n",
       "      <td>...</td>\n",
       "      <td>...</td>\n",
       "      <td>...</td>\n",
       "      <td>...</td>\n",
       "      <td>...</td>\n",
       "      <td>...</td>\n",
       "      <td>...</td>\n",
       "      <td>...</td>\n",
       "      <td>...</td>\n",
       "      <td>...</td>\n",
       "      <td>...</td>\n",
       "      <td>...</td>\n",
       "      <td>...</td>\n",
       "      <td>...</td>\n",
       "      <td>...</td>\n",
       "      <td>...</td>\n",
       "      <td>...</td>\n",
       "      <td>...</td>\n",
       "    </tr>\n",
       "    <tr>\n",
       "      <th>9672</th>\n",
       "      <td>9672</td>\n",
       "      <td>9672</td>\n",
       "      <td>1615</td>\n",
       "      <td>26856</td>\n",
       "      <td>271</td>\n",
       "      <td>47695200</td>\n",
       "      <td>210.929836</td>\n",
       "      <td>14.637943</td>\n",
       "      <td>5.804504</td>\n",
       "      <td>2.192813</td>\n",
       "      <td>...</td>\n",
       "      <td>NaN</td>\n",
       "      <td>NaN</td>\n",
       "      <td>0.0</td>\n",
       "      <td>0.192573</td>\n",
       "      <td>0.0</td>\n",
       "      <td>0.0</td>\n",
       "      <td>0.0</td>\n",
       "      <td>0.176066</td>\n",
       "      <td>0.0</td>\n",
       "      <td>0.0</td>\n",
       "    </tr>\n",
       "    <tr>\n",
       "      <th>9673</th>\n",
       "      <td>9673</td>\n",
       "      <td>9673</td>\n",
       "      <td>1615</td>\n",
       "      <td>26862</td>\n",
       "      <td>277</td>\n",
       "      <td>47695400</td>\n",
       "      <td>215.940111</td>\n",
       "      <td>14.743855</td>\n",
       "      <td>5.804504</td>\n",
       "      <td>2.192813</td>\n",
       "      <td>...</td>\n",
       "      <td>NaN</td>\n",
       "      <td>NaN</td>\n",
       "      <td>0.0</td>\n",
       "      <td>0.000000</td>\n",
       "      <td>0.0</td>\n",
       "      <td>0.0</td>\n",
       "      <td>0.0</td>\n",
       "      <td>0.000000</td>\n",
       "      <td>0.0</td>\n",
       "      <td>0.0</td>\n",
       "    </tr>\n",
       "    <tr>\n",
       "      <th>9674</th>\n",
       "      <td>9674</td>\n",
       "      <td>9674</td>\n",
       "      <td>1615</td>\n",
       "      <td>26868</td>\n",
       "      <td>283</td>\n",
       "      <td>47695600</td>\n",
       "      <td>221.050823</td>\n",
       "      <td>14.736782</td>\n",
       "      <td>5.804504</td>\n",
       "      <td>2.192813</td>\n",
       "      <td>...</td>\n",
       "      <td>NaN</td>\n",
       "      <td>NaN</td>\n",
       "      <td>0.0</td>\n",
       "      <td>0.000000</td>\n",
       "      <td>0.0</td>\n",
       "      <td>0.0</td>\n",
       "      <td>0.0</td>\n",
       "      <td>0.000000</td>\n",
       "      <td>0.0</td>\n",
       "      <td>0.0</td>\n",
       "    </tr>\n",
       "    <tr>\n",
       "      <th>9675</th>\n",
       "      <td>9675</td>\n",
       "      <td>9675</td>\n",
       "      <td>1615</td>\n",
       "      <td>26874</td>\n",
       "      <td>289</td>\n",
       "      <td>47695800</td>\n",
       "      <td>226.076717</td>\n",
       "      <td>14.734020</td>\n",
       "      <td>5.804504</td>\n",
       "      <td>2.192813</td>\n",
       "      <td>...</td>\n",
       "      <td>NaN</td>\n",
       "      <td>NaN</td>\n",
       "      <td>0.0</td>\n",
       "      <td>0.000000</td>\n",
       "      <td>0.0</td>\n",
       "      <td>0.0</td>\n",
       "      <td>0.0</td>\n",
       "      <td>0.000000</td>\n",
       "      <td>0.0</td>\n",
       "      <td>0.0</td>\n",
       "    </tr>\n",
       "    <tr>\n",
       "      <th>9676</th>\n",
       "      <td>9676</td>\n",
       "      <td>9676</td>\n",
       "      <td>1615</td>\n",
       "      <td>26880</td>\n",
       "      <td>295</td>\n",
       "      <td>47696000</td>\n",
       "      <td>231.125699</td>\n",
       "      <td>14.775095</td>\n",
       "      <td>5.804504</td>\n",
       "      <td>2.192813</td>\n",
       "      <td>...</td>\n",
       "      <td>NaN</td>\n",
       "      <td>NaN</td>\n",
       "      <td>0.0</td>\n",
       "      <td>0.000000</td>\n",
       "      <td>0.0</td>\n",
       "      <td>0.0</td>\n",
       "      <td>0.0</td>\n",
       "      <td>0.000000</td>\n",
       "      <td>0.0</td>\n",
       "      <td>0.0</td>\n",
       "    </tr>\n",
       "  </tbody>\n",
       "</table>\n",
       "<p>9677 rows × 324 columns</p>\n",
       "</div>"
      ],
      "text/plain": [
       "      Unnamed: 0.1  Unnamed: 0  Vehicle ID  frame  Total Frames  \\\n",
       "0                0           0           8    636            46   \n",
       "1                1           1           8    642            52   \n",
       "2                2           2           8    648            58   \n",
       "3                3           3           8    654            64   \n",
       "4                4           4           8    660            70   \n",
       "...            ...         ...         ...    ...           ...   \n",
       "9672          9672        9672        1615  26856           271   \n",
       "9673          9673        9673        1615  26862           277   \n",
       "9674          9674        9674        1615  26868           283   \n",
       "9675          9675        9675        1615  26874           289   \n",
       "9676          9676        9676        1615  26880           295   \n",
       "\n",
       "      Global Time (Epoch Time)     local_x    local_y     V_len     V_wid  \\\n",
       "0                     46821200   39.581772  10.564293  7.352372  3.095736   \n",
       "1                     46821400   44.366989  10.657507  7.352372  3.095736   \n",
       "2                     46821600   49.125137  10.723641  7.352372  3.095736   \n",
       "3                     46821800   53.936234  10.796314  7.352372  3.095736   \n",
       "4                     46822000   58.742111  10.859347  7.352372  3.095736   \n",
       "...                        ...         ...        ...       ...       ...   \n",
       "9672                  47695200  210.929836  14.637943  5.804504  2.192813   \n",
       "9673                  47695400  215.940111  14.743855  5.804504  2.192813   \n",
       "9674                  47695600  221.050823  14.736782  5.804504  2.192813   \n",
       "9675                  47695800  226.076717  14.734020  5.804504  2.192813   \n",
       "9676                  47696000  231.125699  14.775095  5.804504  2.192813   \n",
       "\n",
       "      ...  T2_T  ACT_T  TIT_0    MTIT_0  TIT2_0  TIT2_L  TIT2_R   ACTIT_0  \\\n",
       "0     ...   NaN    NaN    0.0  0.000000     0.0     0.0     0.0  0.000000   \n",
       "1     ...   NaN    NaN    0.0  0.000000     0.0     0.0     0.0  0.000000   \n",
       "2     ...   NaN    NaN    0.0  0.000000     0.0     0.0     0.0  0.000000   \n",
       "3     ...   NaN    NaN    0.0  0.000000     0.0     0.0     0.0  0.000000   \n",
       "4     ...   NaN    NaN    0.0  0.000000     0.0     0.0     0.0  0.000000   \n",
       "...   ...   ...    ...    ...       ...     ...     ...     ...       ...   \n",
       "9672  ...   NaN    NaN    0.0  0.192573     0.0     0.0     0.0  0.176066   \n",
       "9673  ...   NaN    NaN    0.0  0.000000     0.0     0.0     0.0  0.000000   \n",
       "9674  ...   NaN    NaN    0.0  0.000000     0.0     0.0     0.0  0.000000   \n",
       "9675  ...   NaN    NaN    0.0  0.000000     0.0     0.0     0.0  0.000000   \n",
       "9676  ...   NaN    NaN    0.0  0.000000     0.0     0.0     0.0  0.000000   \n",
       "\n",
       "      ACTIT_L  ACTIT_R  \n",
       "0         0.0      0.0  \n",
       "1         0.0      0.0  \n",
       "2         0.0      0.0  \n",
       "3         0.0      0.0  \n",
       "4         0.0      0.0  \n",
       "...       ...      ...  \n",
       "9672      0.0      0.0  \n",
       "9673      0.0      0.0  \n",
       "9674      0.0      0.0  \n",
       "9675      0.0      0.0  \n",
       "9676      0.0      0.0  \n",
       "\n",
       "[9677 rows x 324 columns]"
      ]
     },
     "execution_count": 12,
     "metadata": {},
     "output_type": "execute_result"
    }
   ],
   "source": [
    "df"
   ]
  },
  {
   "cell_type": "code",
   "execution_count": 13,
   "id": "1e8f721a-2126-4172-803d-489b248fe44c",
   "metadata": {
    "execution": {
     "iopub.execute_input": "2023-04-28T06:26:58.298998Z",
     "iopub.status.busy": "2023-04-28T06:26:58.297979Z",
     "iopub.status.idle": "2023-04-28T06:26:59.109736Z",
     "shell.execute_reply": "2023-04-28T06:26:59.108767Z",
     "shell.execute_reply.started": "2023-04-28T06:26:58.298998Z"
    },
    "tags": []
   },
   "outputs": [
    {
     "data": {
      "application/vnd.plotly.v1+json": {
       "config": {
        "plotlyServerURL": "https://plot.ly"
       },
       "data": [
        {
         "hovertemplate": "ssm=ACT<br>frame=%{x}<br>SSM=%{y}<extra></extra>",
         "legendgroup": "ACT",
         "line": {
          "color": "rgb(102,194,165)",
          "dash": "solid"
         },
         "marker": {
          "symbol": "circle"
         },
         "mode": "lines",
         "name": "ACT",
         "orientation": "v",
         "showlegend": true,
         "type": "scatter",
         "x": [
          17136,
          17178,
          17184,
          17190,
          17196,
          17202,
          17208,
          17214,
          17220,
          17226,
          17232,
          17238,
          17244,
          17250,
          17256,
          17262,
          17268,
          17274
         ],
         "xaxis": "x",
         "y": [
          3.5562505496938965,
          4.480890569943044,
          1.533940949231599,
          1.4071618009713251,
          2.3398196869854133,
          11.907514356984596,
          3.0652432847385143,
          3.304792982242427,
          4.294251501196458,
          8.274036994756097,
          2.1698708194288034,
          42.007427804824005,
          2.806721182100412,
          3.7995626485090126,
          2.781926684205346,
          12.350074425630366,
          2.06889275077098,
          62.0425359800304
         ],
         "yaxis": "y"
        }
       ],
       "layout": {
        "height": 500,
        "legend": {
         "title": {
          "text": "ssm"
         },
         "tracegroupgap": 0
        },
        "margin": {
         "t": 60
        },
        "template": {
         "data": {
          "bar": [
           {
            "error_x": {
             "color": "#2a3f5f"
            },
            "error_y": {
             "color": "#2a3f5f"
            },
            "marker": {
             "line": {
              "color": "white",
              "width": 0.5
             },
             "pattern": {
              "fillmode": "overlay",
              "size": 10,
              "solidity": 0.2
             }
            },
            "type": "bar"
           }
          ],
          "barpolar": [
           {
            "marker": {
             "line": {
              "color": "white",
              "width": 0.5
             },
             "pattern": {
              "fillmode": "overlay",
              "size": 10,
              "solidity": 0.2
             }
            },
            "type": "barpolar"
           }
          ],
          "carpet": [
           {
            "aaxis": {
             "endlinecolor": "#2a3f5f",
             "gridcolor": "#C8D4E3",
             "linecolor": "#C8D4E3",
             "minorgridcolor": "#C8D4E3",
             "startlinecolor": "#2a3f5f"
            },
            "baxis": {
             "endlinecolor": "#2a3f5f",
             "gridcolor": "#C8D4E3",
             "linecolor": "#C8D4E3",
             "minorgridcolor": "#C8D4E3",
             "startlinecolor": "#2a3f5f"
            },
            "type": "carpet"
           }
          ],
          "choropleth": [
           {
            "colorbar": {
             "outlinewidth": 0,
             "ticks": ""
            },
            "type": "choropleth"
           }
          ],
          "contour": [
           {
            "colorbar": {
             "outlinewidth": 0,
             "ticks": ""
            },
            "colorscale": [
             [
              0,
              "#0d0887"
             ],
             [
              0.1111111111111111,
              "#46039f"
             ],
             [
              0.2222222222222222,
              "#7201a8"
             ],
             [
              0.3333333333333333,
              "#9c179e"
             ],
             [
              0.4444444444444444,
              "#bd3786"
             ],
             [
              0.5555555555555556,
              "#d8576b"
             ],
             [
              0.6666666666666666,
              "#ed7953"
             ],
             [
              0.7777777777777778,
              "#fb9f3a"
             ],
             [
              0.8888888888888888,
              "#fdca26"
             ],
             [
              1,
              "#f0f921"
             ]
            ],
            "type": "contour"
           }
          ],
          "contourcarpet": [
           {
            "colorbar": {
             "outlinewidth": 0,
             "ticks": ""
            },
            "type": "contourcarpet"
           }
          ],
          "heatmap": [
           {
            "colorbar": {
             "outlinewidth": 0,
             "ticks": ""
            },
            "colorscale": [
             [
              0,
              "#0d0887"
             ],
             [
              0.1111111111111111,
              "#46039f"
             ],
             [
              0.2222222222222222,
              "#7201a8"
             ],
             [
              0.3333333333333333,
              "#9c179e"
             ],
             [
              0.4444444444444444,
              "#bd3786"
             ],
             [
              0.5555555555555556,
              "#d8576b"
             ],
             [
              0.6666666666666666,
              "#ed7953"
             ],
             [
              0.7777777777777778,
              "#fb9f3a"
             ],
             [
              0.8888888888888888,
              "#fdca26"
             ],
             [
              1,
              "#f0f921"
             ]
            ],
            "type": "heatmap"
           }
          ],
          "heatmapgl": [
           {
            "colorbar": {
             "outlinewidth": 0,
             "ticks": ""
            },
            "colorscale": [
             [
              0,
              "#0d0887"
             ],
             [
              0.1111111111111111,
              "#46039f"
             ],
             [
              0.2222222222222222,
              "#7201a8"
             ],
             [
              0.3333333333333333,
              "#9c179e"
             ],
             [
              0.4444444444444444,
              "#bd3786"
             ],
             [
              0.5555555555555556,
              "#d8576b"
             ],
             [
              0.6666666666666666,
              "#ed7953"
             ],
             [
              0.7777777777777778,
              "#fb9f3a"
             ],
             [
              0.8888888888888888,
              "#fdca26"
             ],
             [
              1,
              "#f0f921"
             ]
            ],
            "type": "heatmapgl"
           }
          ],
          "histogram": [
           {
            "marker": {
             "pattern": {
              "fillmode": "overlay",
              "size": 10,
              "solidity": 0.2
             }
            },
            "type": "histogram"
           }
          ],
          "histogram2d": [
           {
            "colorbar": {
             "outlinewidth": 0,
             "ticks": ""
            },
            "colorscale": [
             [
              0,
              "#0d0887"
             ],
             [
              0.1111111111111111,
              "#46039f"
             ],
             [
              0.2222222222222222,
              "#7201a8"
             ],
             [
              0.3333333333333333,
              "#9c179e"
             ],
             [
              0.4444444444444444,
              "#bd3786"
             ],
             [
              0.5555555555555556,
              "#d8576b"
             ],
             [
              0.6666666666666666,
              "#ed7953"
             ],
             [
              0.7777777777777778,
              "#fb9f3a"
             ],
             [
              0.8888888888888888,
              "#fdca26"
             ],
             [
              1,
              "#f0f921"
             ]
            ],
            "type": "histogram2d"
           }
          ],
          "histogram2dcontour": [
           {
            "colorbar": {
             "outlinewidth": 0,
             "ticks": ""
            },
            "colorscale": [
             [
              0,
              "#0d0887"
             ],
             [
              0.1111111111111111,
              "#46039f"
             ],
             [
              0.2222222222222222,
              "#7201a8"
             ],
             [
              0.3333333333333333,
              "#9c179e"
             ],
             [
              0.4444444444444444,
              "#bd3786"
             ],
             [
              0.5555555555555556,
              "#d8576b"
             ],
             [
              0.6666666666666666,
              "#ed7953"
             ],
             [
              0.7777777777777778,
              "#fb9f3a"
             ],
             [
              0.8888888888888888,
              "#fdca26"
             ],
             [
              1,
              "#f0f921"
             ]
            ],
            "type": "histogram2dcontour"
           }
          ],
          "mesh3d": [
           {
            "colorbar": {
             "outlinewidth": 0,
             "ticks": ""
            },
            "type": "mesh3d"
           }
          ],
          "parcoords": [
           {
            "line": {
             "colorbar": {
              "outlinewidth": 0,
              "ticks": ""
             }
            },
            "type": "parcoords"
           }
          ],
          "pie": [
           {
            "automargin": true,
            "type": "pie"
           }
          ],
          "scatter": [
           {
            "fillpattern": {
             "fillmode": "overlay",
             "size": 10,
             "solidity": 0.2
            },
            "type": "scatter"
           }
          ],
          "scatter3d": [
           {
            "line": {
             "colorbar": {
              "outlinewidth": 0,
              "ticks": ""
             }
            },
            "marker": {
             "colorbar": {
              "outlinewidth": 0,
              "ticks": ""
             }
            },
            "type": "scatter3d"
           }
          ],
          "scattercarpet": [
           {
            "marker": {
             "colorbar": {
              "outlinewidth": 0,
              "ticks": ""
             }
            },
            "type": "scattercarpet"
           }
          ],
          "scattergeo": [
           {
            "marker": {
             "colorbar": {
              "outlinewidth": 0,
              "ticks": ""
             }
            },
            "type": "scattergeo"
           }
          ],
          "scattergl": [
           {
            "marker": {
             "colorbar": {
              "outlinewidth": 0,
              "ticks": ""
             }
            },
            "type": "scattergl"
           }
          ],
          "scattermapbox": [
           {
            "marker": {
             "colorbar": {
              "outlinewidth": 0,
              "ticks": ""
             }
            },
            "type": "scattermapbox"
           }
          ],
          "scatterpolar": [
           {
            "marker": {
             "colorbar": {
              "outlinewidth": 0,
              "ticks": ""
             }
            },
            "type": "scatterpolar"
           }
          ],
          "scatterpolargl": [
           {
            "marker": {
             "colorbar": {
              "outlinewidth": 0,
              "ticks": ""
             }
            },
            "type": "scatterpolargl"
           }
          ],
          "scatterternary": [
           {
            "marker": {
             "colorbar": {
              "outlinewidth": 0,
              "ticks": ""
             }
            },
            "type": "scatterternary"
           }
          ],
          "surface": [
           {
            "colorbar": {
             "outlinewidth": 0,
             "ticks": ""
            },
            "colorscale": [
             [
              0,
              "#0d0887"
             ],
             [
              0.1111111111111111,
              "#46039f"
             ],
             [
              0.2222222222222222,
              "#7201a8"
             ],
             [
              0.3333333333333333,
              "#9c179e"
             ],
             [
              0.4444444444444444,
              "#bd3786"
             ],
             [
              0.5555555555555556,
              "#d8576b"
             ],
             [
              0.6666666666666666,
              "#ed7953"
             ],
             [
              0.7777777777777778,
              "#fb9f3a"
             ],
             [
              0.8888888888888888,
              "#fdca26"
             ],
             [
              1,
              "#f0f921"
             ]
            ],
            "type": "surface"
           }
          ],
          "table": [
           {
            "cells": {
             "fill": {
              "color": "#EBF0F8"
             },
             "line": {
              "color": "white"
             }
            },
            "header": {
             "fill": {
              "color": "#C8D4E3"
             },
             "line": {
              "color": "white"
             }
            },
            "type": "table"
           }
          ]
         },
         "layout": {
          "annotationdefaults": {
           "arrowcolor": "#2a3f5f",
           "arrowhead": 0,
           "arrowwidth": 1
          },
          "autotypenumbers": "strict",
          "coloraxis": {
           "colorbar": {
            "outlinewidth": 0,
            "ticks": ""
           }
          },
          "colorscale": {
           "diverging": [
            [
             0,
             "#8e0152"
            ],
            [
             0.1,
             "#c51b7d"
            ],
            [
             0.2,
             "#de77ae"
            ],
            [
             0.3,
             "#f1b6da"
            ],
            [
             0.4,
             "#fde0ef"
            ],
            [
             0.5,
             "#f7f7f7"
            ],
            [
             0.6,
             "#e6f5d0"
            ],
            [
             0.7,
             "#b8e186"
            ],
            [
             0.8,
             "#7fbc41"
            ],
            [
             0.9,
             "#4d9221"
            ],
            [
             1,
             "#276419"
            ]
           ],
           "sequential": [
            [
             0,
             "#0d0887"
            ],
            [
             0.1111111111111111,
             "#46039f"
            ],
            [
             0.2222222222222222,
             "#7201a8"
            ],
            [
             0.3333333333333333,
             "#9c179e"
            ],
            [
             0.4444444444444444,
             "#bd3786"
            ],
            [
             0.5555555555555556,
             "#d8576b"
            ],
            [
             0.6666666666666666,
             "#ed7953"
            ],
            [
             0.7777777777777778,
             "#fb9f3a"
            ],
            [
             0.8888888888888888,
             "#fdca26"
            ],
            [
             1,
             "#f0f921"
            ]
           ],
           "sequentialminus": [
            [
             0,
             "#0d0887"
            ],
            [
             0.1111111111111111,
             "#46039f"
            ],
            [
             0.2222222222222222,
             "#7201a8"
            ],
            [
             0.3333333333333333,
             "#9c179e"
            ],
            [
             0.4444444444444444,
             "#bd3786"
            ],
            [
             0.5555555555555556,
             "#d8576b"
            ],
            [
             0.6666666666666666,
             "#ed7953"
            ],
            [
             0.7777777777777778,
             "#fb9f3a"
            ],
            [
             0.8888888888888888,
             "#fdca26"
            ],
            [
             1,
             "#f0f921"
            ]
           ]
          },
          "colorway": [
           "#636efa",
           "#EF553B",
           "#00cc96",
           "#ab63fa",
           "#FFA15A",
           "#19d3f3",
           "#FF6692",
           "#B6E880",
           "#FF97FF",
           "#FECB52"
          ],
          "font": {
           "color": "#2a3f5f"
          },
          "geo": {
           "bgcolor": "white",
           "lakecolor": "white",
           "landcolor": "white",
           "showlakes": true,
           "showland": true,
           "subunitcolor": "#C8D4E3"
          },
          "hoverlabel": {
           "align": "left"
          },
          "hovermode": "closest",
          "mapbox": {
           "style": "light"
          },
          "paper_bgcolor": "white",
          "plot_bgcolor": "white",
          "polar": {
           "angularaxis": {
            "gridcolor": "#EBF0F8",
            "linecolor": "#EBF0F8",
            "ticks": ""
           },
           "bgcolor": "white",
           "radialaxis": {
            "gridcolor": "#EBF0F8",
            "linecolor": "#EBF0F8",
            "ticks": ""
           }
          },
          "scene": {
           "xaxis": {
            "backgroundcolor": "white",
            "gridcolor": "#DFE8F3",
            "gridwidth": 2,
            "linecolor": "#EBF0F8",
            "showbackground": true,
            "ticks": "",
            "zerolinecolor": "#EBF0F8"
           },
           "yaxis": {
            "backgroundcolor": "white",
            "gridcolor": "#DFE8F3",
            "gridwidth": 2,
            "linecolor": "#EBF0F8",
            "showbackground": true,
            "ticks": "",
            "zerolinecolor": "#EBF0F8"
           },
           "zaxis": {
            "backgroundcolor": "white",
            "gridcolor": "#DFE8F3",
            "gridwidth": 2,
            "linecolor": "#EBF0F8",
            "showbackground": true,
            "ticks": "",
            "zerolinecolor": "#EBF0F8"
           }
          },
          "shapedefaults": {
           "line": {
            "color": "#2a3f5f"
           }
          },
          "ternary": {
           "aaxis": {
            "gridcolor": "#DFE8F3",
            "linecolor": "#A2B1C6",
            "ticks": ""
           },
           "baxis": {
            "gridcolor": "#DFE8F3",
            "linecolor": "#A2B1C6",
            "ticks": ""
           },
           "bgcolor": "white",
           "caxis": {
            "gridcolor": "#DFE8F3",
            "linecolor": "#A2B1C6",
            "ticks": ""
           }
          },
          "title": {
           "x": 0.05
          },
          "xaxis": {
           "automargin": true,
           "gridcolor": "#EBF0F8",
           "linecolor": "#EBF0F8",
           "ticks": "",
           "title": {
            "standoff": 15
           },
           "zerolinecolor": "#EBF0F8",
           "zerolinewidth": 2
          },
          "yaxis": {
           "automargin": true,
           "gridcolor": "#EBF0F8",
           "linecolor": "#EBF0F8",
           "ticks": "",
           "title": {
            "standoff": 15
           },
           "zerolinecolor": "#EBF0F8",
           "zerolinewidth": 2
          }
         }
        },
        "width": 1200,
        "xaxis": {
         "anchor": "y",
         "autorange": true,
         "domain": [
          0,
          1
         ],
         "range": [
          17136,
          17274
         ],
         "title": {
          "text": "Frame"
         },
         "type": "linear"
        },
        "yaxis": {
         "anchor": "x",
         "domain": [
          0,
          1
         ],
         "range": [
          0,
          10
         ],
         "title": {
          "text": "SSM"
         },
         "type": "linear"
        }
       }
      },
      "image/png": "[encoded data removed]",
      "text/html": [
       "<div>                            <div id=\"2f5adda4-13a7-4c82-ae10-ad8431d3ffeb\" class=\"plotly-graph-div\" style=\"height:500px; width:1200px;\"></div>            <script type=\"text/javascript\">                require([\"plotly\"], function(Plotly) {                    window.PLOTLYENV=window.PLOTLYENV || {};                                    if (document.getElementById(\"2f5adda4-13a7-4c82-ae10-ad8431d3ffeb\")) {                    Plotly.newPlot(                        \"2f5adda4-13a7-4c82-ae10-ad8431d3ffeb\",                        [{\"hovertemplate\":\"ssm=ACT<br>frame=%{x}<br>SSM=%{y}<extra></extra>\",\"legendgroup\":\"ACT\",\"line\":{\"color\":\"rgb(102,194,165)\",\"dash\":\"solid\"},\"marker\":{\"symbol\":\"circle\"},\"mode\":\"lines\",\"name\":\"ACT\",\"orientation\":\"v\",\"showlegend\":true,\"x\":[17136,17178,17184,17190,17196,17202,17208,17214,17220,17226,17232,17238,17244,17250,17256,17262,17268,17274],\"xaxis\":\"x\",\"y\":[3.5562505496938965,4.480890569943044,1.533940949231599,1.4071618009713251,2.3398196869854133,11.907514356984596,3.0652432847385143,3.304792982242427,4.294251501196458,8.274036994756097,2.1698708194288034,42.007427804824005,2.806721182100412,3.7995626485090126,2.781926684205346,12.350074425630366,2.06889275077098,62.0425359800304],\"yaxis\":\"y\",\"type\":\"scatter\"}],                        {\"template\":{\"data\":{\"barpolar\":[{\"marker\":{\"line\":{\"color\":\"white\",\"width\":0.5},\"pattern\":{\"fillmode\":\"overlay\",\"size\":10,\"solidity\":0.2}},\"type\":\"barpolar\"}],\"bar\":[{\"error_x\":{\"color\":\"#2a3f5f\"},\"error_y\":{\"color\":\"#2a3f5f\"},\"marker\":{\"line\":{\"color\":\"white\",\"width\":0.5},\"pattern\":{\"fillmode\":\"overlay\",\"size\":10,\"solidity\":0.2}},\"type\":\"bar\"}],\"carpet\":[{\"aaxis\":{\"endlinecolor\":\"#2a3f5f\",\"gridcolor\":\"#C8D4E3\",\"linecolor\":\"#C8D4E3\",\"minorgridcolor\":\"#C8D4E3\",\"startlinecolor\":\"#2a3f5f\"},\"baxis\":{\"endlinecolor\":\"#2a3f5f\",\"gridcolor\":\"#C8D4E3\",\"linecolor\":\"#C8D4E3\",\"minorgridcolor\":\"#C8D4E3\",\"startlinecolor\":\"#2a3f5f\"},\"type\":\"carpet\"}],\"choropleth\":[{\"colorbar\":{\"outlinewidth\":0,\"ticks\":\"\"},\"type\":\"choropleth\"}],\"contourcarpet\":[{\"colorbar\":{\"outlinewidth\":0,\"ticks\":\"\"},\"type\":\"contourcarpet\"}],\"contour\":[{\"colorbar\":{\"outlinewidth\":0,\"ticks\":\"\"},\"colorscale\":[[0.0,\"#0d0887\"],[0.1111111111111111,\"#46039f\"],[0.2222222222222222,\"#7201a8\"],[0.3333333333333333,\"#9c179e\"],[0.4444444444444444,\"#bd3786\"],[0.5555555555555556,\"#d8576b\"],[0.6666666666666666,\"#ed7953\"],[0.7777777777777778,\"#fb9f3a\"],[0.8888888888888888,\"#fdca26\"],[1.0,\"#f0f921\"]],\"type\":\"contour\"}],\"heatmapgl\":[{\"colorbar\":{\"outlinewidth\":0,\"ticks\":\"\"},\"colorscale\":[[0.0,\"#0d0887\"],[0.1111111111111111,\"#46039f\"],[0.2222222222222222,\"#7201a8\"],[0.3333333333333333,\"#9c179e\"],[0.4444444444444444,\"#bd3786\"],[0.5555555555555556,\"#d8576b\"],[0.6666666666666666,\"#ed7953\"],[0.7777777777777778,\"#fb9f3a\"],[0.8888888888888888,\"#fdca26\"],[1.0,\"#f0f921\"]],\"type\":\"heatmapgl\"}],\"heatmap\":[{\"colorbar\":{\"outlinewidth\":0,\"ticks\":\"\"},\"colorscale\":[[0.0,\"#0d0887\"],[0.1111111111111111,\"#46039f\"],[0.2222222222222222,\"#7201a8\"],[0.3333333333333333,\"#9c179e\"],[0.4444444444444444,\"#bd3786\"],[0.5555555555555556,\"#d8576b\"],[0.6666666666666666,\"#ed7953\"],[0.7777777777777778,\"#fb9f3a\"],[0.8888888888888888,\"#fdca26\"],[1.0,\"#f0f921\"]],\"type\":\"heatmap\"}],\"histogram2dcontour\":[{\"colorbar\":{\"outlinewidth\":0,\"ticks\":\"\"},\"colorscale\":[[0.0,\"#0d0887\"],[0.1111111111111111,\"#46039f\"],[0.2222222222222222,\"#7201a8\"],[0.3333333333333333,\"#9c179e\"],[0.4444444444444444,\"#bd3786\"],[0.5555555555555556,\"#d8576b\"],[0.6666666666666666,\"#ed7953\"],[0.7777777777777778,\"#fb9f3a\"],[0.8888888888888888,\"#fdca26\"],[1.0,\"#f0f921\"]],\"type\":\"histogram2dcontour\"}],\"histogram2d\":[{\"colorbar\":{\"outlinewidth\":0,\"ticks\":\"\"},\"colorscale\":[[0.0,\"#0d0887\"],[0.1111111111111111,\"#46039f\"],[0.2222222222222222,\"#7201a8\"],[0.3333333333333333,\"#9c179e\"],[0.4444444444444444,\"#bd3786\"],[0.5555555555555556,\"#d8576b\"],[0.6666666666666666,\"#ed7953\"],[0.7777777777777778,\"#fb9f3a\"],[0.8888888888888888,\"#fdca26\"],[1.0,\"#f0f921\"]],\"type\":\"histogram2d\"}],\"histogram\":[{\"marker\":{\"pattern\":{\"fillmode\":\"overlay\",\"size\":10,\"solidity\":0.2}},\"type\":\"histogram\"}],\"mesh3d\":[{\"colorbar\":{\"outlinewidth\":0,\"ticks\":\"\"},\"type\":\"mesh3d\"}],\"parcoords\":[{\"line\":{\"colorbar\":{\"outlinewidth\":0,\"ticks\":\"\"}},\"type\":\"parcoords\"}],\"pie\":[{\"automargin\":true,\"type\":\"pie\"}],\"scatter3d\":[{\"line\":{\"colorbar\":{\"outlinewidth\":0,\"ticks\":\"\"}},\"marker\":{\"colorbar\":{\"outlinewidth\":0,\"ticks\":\"\"}},\"type\":\"scatter3d\"}],\"scattercarpet\":[{\"marker\":{\"colorbar\":{\"outlinewidth\":0,\"ticks\":\"\"}},\"type\":\"scattercarpet\"}],\"scattergeo\":[{\"marker\":{\"colorbar\":{\"outlinewidth\":0,\"ticks\":\"\"}},\"type\":\"scattergeo\"}],\"scattergl\":[{\"marker\":{\"colorbar\":{\"outlinewidth\":0,\"ticks\":\"\"}},\"type\":\"scattergl\"}],\"scattermapbox\":[{\"marker\":{\"colorbar\":{\"outlinewidth\":0,\"ticks\":\"\"}},\"type\":\"scattermapbox\"}],\"scatterpolargl\":[{\"marker\":{\"colorbar\":{\"outlinewidth\":0,\"ticks\":\"\"}},\"type\":\"scatterpolargl\"}],\"scatterpolar\":[{\"marker\":{\"colorbar\":{\"outlinewidth\":0,\"ticks\":\"\"}},\"type\":\"scatterpolar\"}],\"scatter\":[{\"fillpattern\":{\"fillmode\":\"overlay\",\"size\":10,\"solidity\":0.2},\"type\":\"scatter\"}],\"scatterternary\":[{\"marker\":{\"colorbar\":{\"outlinewidth\":0,\"ticks\":\"\"}},\"type\":\"scatterternary\"}],\"surface\":[{\"colorbar\":{\"outlinewidth\":0,\"ticks\":\"\"},\"colorscale\":[[0.0,\"#0d0887\"],[0.1111111111111111,\"#46039f\"],[0.2222222222222222,\"#7201a8\"],[0.3333333333333333,\"#9c179e\"],[0.4444444444444444,\"#bd3786\"],[0.5555555555555556,\"#d8576b\"],[0.6666666666666666,\"#ed7953\"],[0.7777777777777778,\"#fb9f3a\"],[0.8888888888888888,\"#fdca26\"],[1.0,\"#f0f921\"]],\"type\":\"surface\"}],\"table\":[{\"cells\":{\"fill\":{\"color\":\"#EBF0F8\"},\"line\":{\"color\":\"white\"}},\"header\":{\"fill\":{\"color\":\"#C8D4E3\"},\"line\":{\"color\":\"white\"}},\"type\":\"table\"}]},\"layout\":{\"annotationdefaults\":{\"arrowcolor\":\"#2a3f5f\",\"arrowhead\":0,\"arrowwidth\":1},\"autotypenumbers\":\"strict\",\"coloraxis\":{\"colorbar\":{\"outlinewidth\":0,\"ticks\":\"\"}},\"colorscale\":{\"diverging\":[[0,\"#8e0152\"],[0.1,\"#c51b7d\"],[0.2,\"#de77ae\"],[0.3,\"#f1b6da\"],[0.4,\"#fde0ef\"],[0.5,\"#f7f7f7\"],[0.6,\"#e6f5d0\"],[0.7,\"#b8e186\"],[0.8,\"#7fbc41\"],[0.9,\"#4d9221\"],[1,\"#276419\"]],\"sequential\":[[0.0,\"#0d0887\"],[0.1111111111111111,\"#46039f\"],[0.2222222222222222,\"#7201a8\"],[0.3333333333333333,\"#9c179e\"],[0.4444444444444444,\"#bd3786\"],[0.5555555555555556,\"#d8576b\"],[0.6666666666666666,\"#ed7953\"],[0.7777777777777778,\"#fb9f3a\"],[0.8888888888888888,\"#fdca26\"],[1.0,\"#f0f921\"]],\"sequentialminus\":[[0.0,\"#0d0887\"],[0.1111111111111111,\"#46039f\"],[0.2222222222222222,\"#7201a8\"],[0.3333333333333333,\"#9c179e\"],[0.4444444444444444,\"#bd3786\"],[0.5555555555555556,\"#d8576b\"],[0.6666666666666666,\"#ed7953\"],[0.7777777777777778,\"#fb9f3a\"],[0.8888888888888888,\"#fdca26\"],[1.0,\"#f0f921\"]]},\"colorway\":[\"#636efa\",\"#EF553B\",\"#00cc96\",\"#ab63fa\",\"#FFA15A\",\"#19d3f3\",\"#FF6692\",\"#B6E880\",\"#FF97FF\",\"#FECB52\"],\"font\":{\"color\":\"#2a3f5f\"},\"geo\":{\"bgcolor\":\"white\",\"lakecolor\":\"white\",\"landcolor\":\"white\",\"showlakes\":true,\"showland\":true,\"subunitcolor\":\"#C8D4E3\"},\"hoverlabel\":{\"align\":\"left\"},\"hovermode\":\"closest\",\"mapbox\":{\"style\":\"light\"},\"paper_bgcolor\":\"white\",\"plot_bgcolor\":\"white\",\"polar\":{\"angularaxis\":{\"gridcolor\":\"#EBF0F8\",\"linecolor\":\"#EBF0F8\",\"ticks\":\"\"},\"bgcolor\":\"white\",\"radialaxis\":{\"gridcolor\":\"#EBF0F8\",\"linecolor\":\"#EBF0F8\",\"ticks\":\"\"}},\"scene\":{\"xaxis\":{\"backgroundcolor\":\"white\",\"gridcolor\":\"#DFE8F3\",\"gridwidth\":2,\"linecolor\":\"#EBF0F8\",\"showbackground\":true,\"ticks\":\"\",\"zerolinecolor\":\"#EBF0F8\"},\"yaxis\":{\"backgroundcolor\":\"white\",\"gridcolor\":\"#DFE8F3\",\"gridwidth\":2,\"linecolor\":\"#EBF0F8\",\"showbackground\":true,\"ticks\":\"\",\"zerolinecolor\":\"#EBF0F8\"},\"zaxis\":{\"backgroundcolor\":\"white\",\"gridcolor\":\"#DFE8F3\",\"gridwidth\":2,\"linecolor\":\"#EBF0F8\",\"showbackground\":true,\"ticks\":\"\",\"zerolinecolor\":\"#EBF0F8\"}},\"shapedefaults\":{\"line\":{\"color\":\"#2a3f5f\"}},\"ternary\":{\"aaxis\":{\"gridcolor\":\"#DFE8F3\",\"linecolor\":\"#A2B1C6\",\"ticks\":\"\"},\"baxis\":{\"gridcolor\":\"#DFE8F3\",\"linecolor\":\"#A2B1C6\",\"ticks\":\"\"},\"bgcolor\":\"white\",\"caxis\":{\"gridcolor\":\"#DFE8F3\",\"linecolor\":\"#A2B1C6\",\"ticks\":\"\"}},\"title\":{\"x\":0.05},\"xaxis\":{\"automargin\":true,\"gridcolor\":\"#EBF0F8\",\"linecolor\":\"#EBF0F8\",\"ticks\":\"\",\"title\":{\"standoff\":15},\"zerolinecolor\":\"#EBF0F8\",\"zerolinewidth\":2},\"yaxis\":{\"automargin\":true,\"gridcolor\":\"#EBF0F8\",\"linecolor\":\"#EBF0F8\",\"ticks\":\"\",\"title\":{\"standoff\":15},\"zerolinecolor\":\"#EBF0F8\",\"zerolinewidth\":2}}},\"xaxis\":{\"anchor\":\"y\",\"domain\":[0.0,1.0],\"title\":{\"text\":\"Frame\"}},\"yaxis\":{\"anchor\":\"x\",\"domain\":[0.0,1.0],\"title\":{\"text\":\"SSM\"},\"range\":[0,10]},\"legend\":{\"title\":{\"text\":\"ssm\"},\"tracegroupgap\":0},\"margin\":{\"t\":60},\"height\":500,\"width\":1200},                        {\"responsive\": true}                    ).then(function(){\n",
       "                            \n",
       "var gd = document.getElementById('2f5adda4-13a7-4c82-ae10-ad8431d3ffeb');\n",
       "var x = new MutationObserver(function (mutations, observer) {{\n",
       "        var display = window.getComputedStyle(gd).display;\n",
       "        if (!display || display === 'none') {{\n",
       "            console.log([gd, 'removed!']);\n",
       "            Plotly.purge(gd);\n",
       "            observer.disconnect();\n",
       "        }}\n",
       "}});\n",
       "\n",
       "// Listen for the removal of the full notebook cells\n",
       "var notebookContainer = gd.closest('#notebook-container');\n",
       "if (notebookContainer) {{\n",
       "    x.observe(notebookContainer, {childList: true});\n",
       "}}\n",
       "\n",
       "// Listen for the clearing of the current output cell\n",
       "var outputEl = gd.closest('.output');\n",
       "if (outputEl) {{\n",
       "    x.observe(outputEl, {childList: true});\n",
       "}}\n",
       "\n",
       "                        })                };                });            </script>        </div>"
      ]
     },
     "metadata": {},
     "output_type": "display_data"
    },
    {
     "ename": "KeyError",
     "evalue": "'LVL_relative_velocity'",
     "output_type": "error",
     "traceback": [
      "\u001b[1;31m---------------------------------------------------------------------------\u001b[0m",
      "\u001b[1;31mKeyError\u001b[0m                                  Traceback (most recent call last)",
      "\u001b[1;32m~\\AppData\\Local\\Temp\\ipykernel_13668\\3963891846.py\u001b[0m in \u001b[0;36m<module>\u001b[1;34m\u001b[0m\n\u001b[0;32m     22\u001b[0m \u001b[1;33m\u001b[0m\u001b[0m\n\u001b[0;32m     23\u001b[0m \u001b[1;33m\u001b[0m\u001b[0m\n\u001b[1;32m---> 24\u001b[1;33m pv2 = pd.pivot_table(df[df['Vehicle ID'] == Vehicle_ID],\n\u001b[0m\u001b[0;32m     25\u001b[0m                \u001b[0mindex\u001b[0m \u001b[1;33m=\u001b[0m \u001b[1;33m[\u001b[0m\u001b[1;34m'Vehicle ID'\u001b[0m\u001b[1;33m,\u001b[0m \u001b[1;34m'frame'\u001b[0m\u001b[1;33m,\u001b[0m \u001b[1;34m'LVL_ID'\u001b[0m\u001b[1;33m]\u001b[0m\u001b[1;33m,\u001b[0m\u001b[1;33m\u001b[0m\u001b[1;33m\u001b[0m\u001b[0m\n\u001b[0;32m     26\u001b[0m                values = ['LVL_D', 'LVL_relative_velocity', 'LVL_relative_acc'])\n",
      "\u001b[1;32mC:\\dev\\Anaconda_3\\lib\\site-packages\\pandas\\core\\reshape\\pivot.py\u001b[0m in \u001b[0;36mpivot_table\u001b[1;34m(data, values, index, columns, aggfunc, fill_value, margins, dropna, margins_name, observed, sort)\u001b[0m\n\u001b[0;32m     95\u001b[0m         \u001b[1;32mreturn\u001b[0m \u001b[0mtable\u001b[0m\u001b[1;33m.\u001b[0m\u001b[0m__finalize__\u001b[0m\u001b[1;33m(\u001b[0m\u001b[0mdata\u001b[0m\u001b[1;33m,\u001b[0m \u001b[0mmethod\u001b[0m\u001b[1;33m=\u001b[0m\u001b[1;34m\"pivot_table\"\u001b[0m\u001b[1;33m)\u001b[0m\u001b[1;33m\u001b[0m\u001b[1;33m\u001b[0m\u001b[0m\n\u001b[0;32m     96\u001b[0m \u001b[1;33m\u001b[0m\u001b[0m\n\u001b[1;32m---> 97\u001b[1;33m     table = __internal_pivot_table(\n\u001b[0m\u001b[0;32m     98\u001b[0m         \u001b[0mdata\u001b[0m\u001b[1;33m,\u001b[0m\u001b[1;33m\u001b[0m\u001b[1;33m\u001b[0m\u001b[0m\n\u001b[0;32m     99\u001b[0m         \u001b[0mvalues\u001b[0m\u001b[1;33m,\u001b[0m\u001b[1;33m\u001b[0m\u001b[1;33m\u001b[0m\u001b[0m\n",
      "\u001b[1;32mC:\\dev\\Anaconda_3\\lib\\site-packages\\pandas\\core\\reshape\\pivot.py\u001b[0m in \u001b[0;36m__internal_pivot_table\u001b[1;34m(data, values, index, columns, aggfunc, fill_value, margins, dropna, margins_name, observed, sort)\u001b[0m\n\u001b[0;32m    141\u001b[0m         \u001b[1;32mfor\u001b[0m \u001b[0mi\u001b[0m \u001b[1;32min\u001b[0m \u001b[0mvalues\u001b[0m\u001b[1;33m:\u001b[0m\u001b[1;33m\u001b[0m\u001b[1;33m\u001b[0m\u001b[0m\n\u001b[0;32m    142\u001b[0m             \u001b[1;32mif\u001b[0m \u001b[0mi\u001b[0m \u001b[1;32mnot\u001b[0m \u001b[1;32min\u001b[0m \u001b[0mdata\u001b[0m\u001b[1;33m:\u001b[0m\u001b[1;33m\u001b[0m\u001b[1;33m\u001b[0m\u001b[0m\n\u001b[1;32m--> 143\u001b[1;33m                 \u001b[1;32mraise\u001b[0m \u001b[0mKeyError\u001b[0m\u001b[1;33m(\u001b[0m\u001b[0mi\u001b[0m\u001b[1;33m)\u001b[0m\u001b[1;33m\u001b[0m\u001b[1;33m\u001b[0m\u001b[0m\n\u001b[0m\u001b[0;32m    144\u001b[0m \u001b[1;33m\u001b[0m\u001b[0m\n\u001b[0;32m    145\u001b[0m         \u001b[0mto_filter\u001b[0m \u001b[1;33m=\u001b[0m \u001b[1;33m[\u001b[0m\u001b[1;33m]\u001b[0m\u001b[1;33m\u001b[0m\u001b[1;33m\u001b[0m\u001b[0m\n",
      "\u001b[1;31mKeyError\u001b[0m: 'LVL_relative_velocity'"
     ]
    }
   ],
   "source": [
    "Vehicle_ID = 983\n",
    "\n",
    "pv = pd.pivot_table(df[df['Vehicle ID'] == Vehicle_ID],\n",
    "               index = ['Vehicle ID', 'frame'],\n",
    "               values = ['T2_L', 'ACT_L'])\n",
    "\n",
    "pv.reset_index(inplace = True)\n",
    "pv.rename({'T2_L' : 'SSM_T2', 'ACT_L' : 'SSM_ACT'}, axis = 1, inplace = True)\n",
    "pv = pd.wide_to_long(pv, stubnames = ['SSM'], i = ['Vehicle ID', 'frame'], j = 'ssm', sep = '_', suffix = r'\\w+').reset_index()\n",
    "\n",
    "fig = px.line(pv, x = 'frame', y = 'SSM', color = 'ssm',\n",
    "              template = 'plotly_white', \n",
    "              color_discrete_sequence = px.colors.qualitative.Set2,\n",
    "              #title = f'Vehicle Trajectory : 공사구간 2개 차로 합류지점', \n",
    "              width = 1200, height = 500)\n",
    "\n",
    "#fig.update_layout(showlegend = False)\n",
    "fig.update_xaxes(title_text = 'Frame')\n",
    "fig.update_yaxes(title_text = 'SSM', range = [0, 10])\n",
    "\n",
    "fig.show()\n",
    "\n",
    "\n",
    "pv2 = pd.pivot_table(df[df['Vehicle ID'] == Vehicle_ID],\n",
    "               index = ['Vehicle ID', 'frame', 'LVL_ID'],\n",
    "               values = ['LVL_D', 'LVL_relative_velocity', 'LVL_relative_acc'])\n",
    "pv2.reset_index(inplace = True)\n",
    "pv2.rename({'LVL_D' : 'rel_Distance', 'LVL_relative_velocity' : 'rel_Velocity', 'LVL_relative_acc' : 'rel_Acceleration'}, axis = 1, inplace = True)\n",
    "pv2 = pd.wide_to_long(pv2, stubnames = ['rel'], i = ['Vehicle ID', 'frame', 'LVL_ID'], j = 'REL', sep = '_', suffix = r'\\w+').reset_index()\n",
    "\n",
    "fig2 = px.line(pv2, x = 'frame', y = 'rel', color = 'REL',\n",
    "              template = 'plotly_white',\n",
    "              color_discrete_sequence = px.colors.qualitative.Set2,\n",
    "              #title = f'Vehicle Trajectory : 공사구간 2개 차로 합류지점', \n",
    "              width = 1200, height = 500)\n",
    "\n",
    "fig2.update_xaxes(title_text = 'Frame')\n",
    "#fig2.update_yaxes()\n",
    "\n",
    "fig2.show()"
   ]
  },
  {
   "cell_type": "code",
   "execution_count": null,
   "id": "04ab821d-2374-4b96-8f24-ac7a86dacdd1",
   "metadata": {
    "execution": {
     "iopub.status.busy": "2023-04-28T06:26:59.109736Z",
     "iopub.status.idle": "2023-04-28T06:26:59.110733Z",
     "shell.execute_reply": "2023-04-28T06:26:59.109736Z",
     "shell.execute_reply.started": "2023-04-28T06:26:59.109736Z"
    },
    "tags": []
   },
   "outputs": [],
   "source": [
    "df.sort_values(by = 'ACT_R')[:30]['Vehicle ID'].unique()"
   ]
  },
  {
   "cell_type": "code",
   "execution_count": null,
   "id": "e27e7fd8-cba4-4e0f-a147-654907f8b8ea",
   "metadata": {
    "execution": {
     "iopub.status.busy": "2023-04-28T06:26:59.110733Z",
     "iopub.status.idle": "2023-04-28T06:26:59.110733Z",
     "shell.execute_reply": "2023-04-28T06:26:59.110733Z",
     "shell.execute_reply.started": "2023-04-28T06:26:59.110733Z"
    },
    "tags": []
   },
   "outputs": [],
   "source": [
    "Vehicle_ID = 749\n",
    "\n",
    "pv = pd.pivot_table(df[df['Vehicle ID'] == Vehicle_ID],\n",
    "               index = ['Vehicle ID', 'frame'],\n",
    "               values = ['T2_R', 'ACT_R'])\n",
    "\n",
    "pv.reset_index(inplace = True)\n",
    "pv.rename({'T2_R' : 'SSM_T2', 'ACT_R' : 'SSM_ACT'}, axis = 1, inplace = True)\n",
    "pv = pd.wide_to_long(pv, stubnames = ['SSM'], i = ['Vehicle ID', 'frame'], j = 'ssm', sep = '_', suffix = r'\\w+').reset_index()\n",
    "\n",
    "fig = px.line(pv, x = 'frame', y = 'SSM', color = 'ssm',\n",
    "              template = 'plotly_white', \n",
    "              color_discrete_sequence = px.colors.qualitative.Set2,\n",
    "              #title = f'Vehicle Trajectory : 공사구간 2개 차로 합류지점', \n",
    "              width = 1200, height = 500)\n",
    "\n",
    "#fig.update_layout(showlegend = False)\n",
    "fig.update_xaxes(title_text = 'Frame')\n",
    "fig.update_yaxes(title_text = 'SSM')#, range = [0, 50])\n",
    "\n",
    "fig.show()\n",
    "\n",
    "\n",
    "pv2 = pd.pivot_table(df[df['Vehicle ID'] == Vehicle_ID],\n",
    "               index = ['Vehicle ID', 'frame', 'LVR_ID'],\n",
    "               values = ['LVR_D', 'LVR_relative_velocity', 'LVR_relative_acc'])\n",
    "pv2.reset_index(inplace = True)\n",
    "pv2.rename({'LVR_D' : 'rel_Distance', 'LVR_relative_velocity' : 'rel_Velocity', 'LVR_relative_acc' : 'rel_Acceleration'}, axis = 1, inplace = True)\n",
    "pv2 = pd.wide_to_long(pv2, stubnames = ['rel'], i = ['Vehicle ID', 'frame', 'LVR_ID'], j = 'REL', sep = '_', suffix = r'\\w+').reset_index()\n",
    "\n",
    "fig2 = px.line(pv2, x = 'frame', y = 'rel', color = 'REL',\n",
    "              template = 'plotly_white',\n",
    "              color_discrete_sequence = px.colors.qualitative.Set2,\n",
    "              #title = f'Vehicle Trajectory : 공사구간 2개 차로 합류지점', \n",
    "              width = 1200, height = 500)\n",
    "\n",
    "fig2.update_xaxes(title_text = 'Frame')\n",
    "fig2.update_yaxes(title_text = relative)\n",
    "\n",
    "fig2.show()"
   ]
  },
  {
   "cell_type": "markdown",
   "id": "d33e19d6-8e5c-43fb-8f1e-d61ad0cd2124",
   "metadata": {
    "tags": []
   },
   "source": [
    "# Basic Information"
   ]
  },
  {
   "cell_type": "markdown",
   "id": "0f0131a9-5efe-486e-9a82-1ad0396dd3a3",
   "metadata": {},
   "source": [
    "## 기초통계량"
   ]
  },
  {
   "cell_type": "code",
   "execution_count": null,
   "id": "2a7e3f75-bd40-468e-bc03-421ada64de78",
   "metadata": {
    "execution": {
     "iopub.status.busy": "2023-04-28T06:26:59.112233Z",
     "iopub.status.idle": "2023-04-28T06:26:59.112233Z",
     "shell.execute_reply": "2023-04-28T06:26:59.112233Z",
     "shell.execute_reply.started": "2023-04-28T06:26:59.112233Z"
    },
    "tags": []
   },
   "outputs": [],
   "source": [
    "var_list = ['velocity', 'acc']\n",
    "SSM_list = ['TTC_0', 'MTTC_0', 'T2_0', 'ACT_0', 'T2_L', 'ACT_L', 'T2_R',  'ACT_R']"
   ]
  },
  {
   "cell_type": "code",
   "execution_count": null,
   "id": "6b035732-b35a-4f37-8018-56802253537c",
   "metadata": {
    "execution": {
     "iopub.status.busy": "2023-04-28T06:26:59.112233Z",
     "iopub.status.idle": "2023-04-28T06:26:59.113232Z",
     "shell.execute_reply": "2023-04-28T06:26:59.113232Z",
     "shell.execute_reply.started": "2023-04-28T06:26:59.113232Z"
    },
    "tags": []
   },
   "outputs": [],
   "source": [
    "df[var_list+SSM_list].describe().round(4)"
   ]
  },
  {
   "cell_type": "markdown",
   "id": "b74b10a8-9f91-4a76-b759-b110621e03c4",
   "metadata": {},
   "source": [
    "## 필요함수 정의"
   ]
  },
  {
   "cell_type": "code",
   "execution_count": 12,
   "id": "e8a61b95-ce46-40ba-9831-4c4f780ed0da",
   "metadata": {
    "execution": {
     "iopub.execute_input": "2023-04-08T01:28:55.431378Z",
     "iopub.status.busy": "2023-04-08T01:28:55.431378Z",
     "iopub.status.idle": "2023-04-08T01:28:55.447335Z",
     "shell.execute_reply": "2023-04-08T01:28:55.446363Z",
     "shell.execute_reply.started": "2023-04-08T01:28:55.431378Z"
    },
    "tags": []
   },
   "outputs": [],
   "source": [
    "# 조화평균 함수\n",
    "harmonic = lambda x: statistics.harmonic_mean(list(x)) \n",
    "harmonic .__name__ = 'harmonic'"
   ]
  },
  {
   "cell_type": "code",
   "execution_count": 13,
   "id": "a08992f8-520c-4d98-bf3b-99f144c3f922",
   "metadata": {
    "execution": {
     "iopub.execute_input": "2023-04-08T01:28:55.448335Z",
     "iopub.status.busy": "2023-04-08T01:28:55.447335Z",
     "iopub.status.idle": "2023-04-08T01:28:55.462295Z",
     "shell.execute_reply": "2023-04-08T01:28:55.462295Z",
     "shell.execute_reply.started": "2023-04-08T01:28:55.448335Z"
    },
    "tags": []
   },
   "outputs": [],
   "source": [
    "# 고유값 개수 산정 함수(유니크)\n",
    "unq = lambda x: len(x.unique())\n",
    "unq .__name__ = 'unq'"
   ]
  },
  {
   "cell_type": "markdown",
   "id": "9f8d8500-8e6d-47fc-9f82-f0c90b79ebe2",
   "metadata": {},
   "source": [
    "## 기초 정보 저장\n",
    "* 각 대상지별 전체 차량대수, 밀도, 공간평균속도(SMS), 교통류율 구하여 저장하기\n",
    "* `harmonic` 함수 사용 : `harmonic(target1_1_A['Vehicle Velocity(km/h)'])` <- 이런 식으로 쓸 수 있다"
   ]
  },
  {
   "cell_type": "code",
   "execution_count": null,
   "id": "f95f047f-f80c-4df4-9fdc-1c8f67d9dbab",
   "metadata": {
    "tags": []
   },
   "outputs": [],
   "source": [
    "folder_name = 'Result/01_Basic'\n",
    "result_dir = os.path.join(working_dir, folder_name)\n",
    "\n",
    "os.makedirs(result_dir, exist_ok = True) # 해당 경로가 없을 시 폴더 생성, 존재할 경우 건너뛰기"
   ]
  },
  {
   "cell_type": "code",
   "execution_count": null,
   "id": "8c4d56cf-fca0-4e66-8d78-c2a5dea8d3ac",
   "metadata": {
    "tags": []
   },
   "outputs": [],
   "source": [
    "frame_rate = 30\n",
    "num = file_name[:-4]\n",
    "    \n",
    "if len(df) > 0:\n",
    "\n",
    "    tmsec = (df['frame'].max() - df['frame'].min())/30 # 해당 파일 총관측시간(초)\n",
    "\n",
    "    CF_df = df[df['LC_CF'] == 'CF'] # Car following 차량만 필터링함\n",
    "    LC_df = df[df['LC_CF'] == 'LC'] # Lane change 차량만 필터링함\n",
    "\n",
    "    ############################### 전체 차량 대상 통계 ############################################################################\n",
    "\n",
    "    ###############   총 교통량, 교통류율, 밀도 등 #####################\n",
    "    total_veh = len(df['Vehicle ID'].unique()) # 총 차량대수\n",
    "    total_SMS = harmonic(df['velocity']) # 전체 차량의 공간평균속도(SMS)\n",
    "    lane_count = len(df['Lane Identification'].unique()) # 차로 개수\n",
    "    total_flowrate = total_veh/tmsec * 3600 # tmsec은 초 단위이므로, 시(h, 3600s) 단위로 변경해야 하기 때문임\n",
    "\n",
    "    ###############  차로별 교통량, 교통류율, SMS 등 #####################\n",
    "\n",
    "    pv_veh_lane = pd.pivot_table(df,\n",
    "                             index = ['Lane_record'],\n",
    "                             values = ['Vehicle ID', 'velocity', 'acc'],\n",
    "                             aggfunc = {'Vehicle ID': unq, 'velocity': harmonic, 'acc' : 'mean'})\n",
    "\n",
    "    pv_veh_lane.reset_index(inplace = True)\n",
    "    pv_veh_lane['교통류율(vph)'] = pv_veh_lane['Vehicle ID'] * 3600/tmsec\n",
    "\n",
    "    all_total_df = pd.concat([pd.DataFrame(['All Info']), pv_veh_lane], axis = 1)\n",
    "\n",
    "\n",
    "    ########################### Car Following 차량\n",
    "\n",
    "    if len(CF_df) > 0:\n",
    "\n",
    "        CF_total_veh = len(CF_df['Vehicle ID'].unique()) # 총 차량대수\n",
    "        CF_total_SMS = harmonic(CF_df['velocity']) #차량의 공간평균속도(SMS)\n",
    "        CF_lane_count = len(CF_df['Lane Identification'].unique()) # 차로 개수\n",
    "        CF_total_flowrate = CF_total_veh/tmsec * 3600 # tmsec은 초 단위이므로, 시(h, 3600s) 단위로 변경해야 하기 때문임\n",
    "\n",
    "        CF_pv_veh_lane = pd.pivot_table(CF_df,\n",
    "                             index = ['Lane_record'],\n",
    "                             values = ['Vehicle ID', 'velocity', 'acc'],\n",
    "                             aggfunc = {'Vehicle ID': unq, 'velocity': harmonic, 'acc' : 'mean'})\n",
    "\n",
    "        CF_pv_veh_lane.reset_index(inplace = True)\n",
    "        CF_pv_veh_lane['교통류율(vph)'] = CF_pv_veh_lane['Vehicle ID'] * 3600/tmsec\n",
    "\n",
    "\n",
    "    else:\n",
    "        CF_total_veh = None\n",
    "        CF_total_SMS = None\n",
    "        CF_distance = None\n",
    "        CF_lane_count = 0\n",
    "        CF_total_pv = None\n",
    "        CF_veh_by_frame = 0\n",
    "        CF_density = 0\n",
    "        CF_total_flowrate = 0\n",
    "        CF_pv_veh_lane = None\n",
    "        CF_pivot_df = None\n",
    "\n",
    "    CF_total_df = pd.concat([pd.DataFrame(['CF Info']), CF_pv_veh_lane], axis = 1)\n",
    "\n",
    "\n",
    "    ########################### Lane Change 차량\n",
    "\n",
    "    if len(LC_df) > 0:\n",
    "\n",
    "        LC_total_veh = len(LC_df['Vehicle ID'].unique()) # 총 차량대수\n",
    "        LC_total_SMS = harmonic(LC_df['velocity']) #차량의 공간평균속도(SMS)\n",
    "        LC_lane_count = len(LC_df['Lane Identification'].unique()) # Lanechange 발생 차로 개수\n",
    "        LC_total_flowrate = LC_total_veh/tmsec * 3600 # tmsec은 초 단위이므로, 시(h, 3600s) 단위로 변경해야 하기 때문임\n",
    "\n",
    "        LC_pv_veh_lane = pd.pivot_table(LC_df,\n",
    "                                 index = ['Lane_record'],\n",
    "                                 values = ['Vehicle ID', 'velocity', 'acc'],\n",
    "                                 aggfunc = {'Vehicle ID': unq, 'velocity': harmonic, 'acc' : 'mean'})\n",
    "\n",
    "        LC_pv_veh_lane.reset_index(inplace = True)\n",
    "        LC_pv_veh_lane['교통류율(vph)'] = LC_pv_veh_lane['Vehicle ID'] * 3600/tmsec\n",
    "\n",
    "    else:\n",
    "        LC_total_veh = None\n",
    "        LC_total_SMS = None\n",
    "        LC_distance = None\n",
    "        LC_lane_count = 0\n",
    "        LC_total_pv = None\n",
    "        LC_veh_by_frame = 0\n",
    "        LC_density = 0\n",
    "        LC_total_flowrate = 0\n",
    "        LC_pv_veh_lane = None\n",
    "        LC_pivot_df = None\n",
    "\n",
    "    LC_total_df = pd.concat([pd.DataFrame(['LC Info']), LC_pv_veh_lane], axis = 0)\n",
    "\n",
    "    ############### 전부 저장 ######################################################################################\n",
    "\n",
    "    total_df = pd.DataFrame(data = {\n",
    "        '항목': ['전체', 'Lanechange(LC)', 'Car Following(CF)'],\n",
    "        '총 차로수(개)' : [lane_count, lane_count, lane_count],\n",
    "        '총관측시간(s)': [tmsec, tmsec, tmsec],\n",
    "        '교통량(veh)': [total_veh, LC_total_veh, CF_total_veh],\n",
    "        '공간평균속도(km/h)': [round(total_SMS, 2), round(CF_total_SMS, 2), round(CF_total_SMS, 2)],\n",
    "        '교통류율(vph)': [round(total_flowrate, 2), '', ''],\n",
    "    })    \n",
    "    \n",
    "    # 파일 저장하기\n",
    "    \n",
    "    total_df.to_csv('temp1.csv', encoding = 'cp949') # 임시 파일 생성\n",
    "    all_total_df.to_csv('temp2.csv', encoding = 'cp949')\n",
    "    CF_total_df.to_csv('temp3.csv', encoding = 'cp949')\n",
    "    LC_total_df.to_csv('temp4.csv', encoding = 'cp949')\n",
    "    \n",
    "    save_file = f'info_{num}.csv'\n",
    "    save_path = os.path.join(result_dir, save_file)\n",
    "\n",
    "    file_list = ['temp1.csv', 'temp2.csv', 'temp3.csv', 'temp4.csv']\n",
    "    name_list = ['전체 교통정보', '전체 차량 정보', 'Car-following 차량 정보', 'Lane-change 차량 정보']\n",
    "\n",
    "    with open(save_path, 'w') as f: #2-1.병합할할 파일을 열고\n",
    "\n",
    "        for file, name in zip(file_list, name_list):\n",
    "            f.write(name)\n",
    "            f.write('\\n')\n",
    "            if os.path.isfile(file): # 파일이 있으면\n",
    "                with open(file ,'r') as f2:  # 파일을 엽니다.\n",
    "                    while True:\n",
    "                        line = f2.readline() # 대상 파일의 row 1줄을 읽어서 \n",
    "                        if not line: #row가 없으면 해당 csv 파일 읽기 끝\n",
    "                            f.write('\\n')\n",
    "                            break\n",
    "\n",
    "                        f.write(line) #3.읽은 row 1줄을 merge할 파일에 쓴다.\n",
    "                #print(file.split('\\\\')[-1] + ' Write complete!')\n",
    "\n",
    "            else:\n",
    "                pass\n",
    "\n",
    "    for file in file_list: # 임시 파일은 삭제해 주도록 한다.\n",
    "        if os.path.isfile(file):\n",
    "            os.remove(file)    \n",
    "\n",
    "    print('>>> All file merge complete <<<')"
   ]
  },
  {
   "cell_type": "markdown",
   "id": "acad4a07-2066-4967-9363-781de2cd2002",
   "metadata": {
    "tags": []
   },
   "source": [
    "# 시공도"
   ]
  },
  {
   "cell_type": "code",
   "execution_count": null,
   "id": "6e1cf07d-9093-4731-99ba-50455eed02de",
   "metadata": {
    "tags": []
   },
   "outputs": [],
   "source": [
    "df['Time'] = df['frame']/30\n",
    "fig = px.line(df, x = 'Time', y = 'local_x', color = 'Vehicle ID',\n",
    "              template = 'plotly_white', \n",
    "              color_discrete_sequence = px.colors.qualitative.Set2,\n",
    "              #title = f'Vehicle Trajectory : 공사구간 2개 차로 합류지점', \n",
    "              width = 1200, height = 500)\n",
    "\n",
    "fig.update_layout(showlegend = False)\n",
    "fig.update_xaxes(title_text = 'Time(s)')\n",
    "fig.update_yaxes(title_text = 'Distance(m)')\n",
    "\n",
    "fig.show()"
   ]
  },
  {
   "cell_type": "markdown",
   "id": "95e475b6-3ffa-49cd-929c-a3d5aef3f265",
   "metadata": {},
   "source": [
    "## 히스토그램"
   ]
  },
  {
   "cell_type": "code",
   "execution_count": null,
   "id": "d25a7661-1ea5-4dd1-a0d8-52572636bc3f",
   "metadata": {
    "tags": []
   },
   "outputs": [],
   "source": [
    "fig = px.histogram(df[df['TTC_0'] <= 100], x = 'TTC_0')\n",
    "fig.show()"
   ]
  },
  {
   "cell_type": "code",
   "execution_count": null,
   "id": "0aa87f12-109f-484f-8e28-6ee01906288a",
   "metadata": {
    "tags": []
   },
   "outputs": [],
   "source": [
    "fig = px.histogram(df[df['MTTC_0'] <= 20], x = 'MTTC_0')\n",
    "fig.show()"
   ]
  },
  {
   "cell_type": "code",
   "execution_count": null,
   "id": "d4e5ce91-a65c-44e0-b5c7-bf42711a109b",
   "metadata": {
    "tags": []
   },
   "outputs": [],
   "source": [
    "fig = px.histogram(df[df['T2_0'] <= 100], x = 'T2_0')\n",
    "fig.show()"
   ]
  },
  {
   "cell_type": "code",
   "execution_count": null,
   "id": "8605e35b-2894-4275-9ac8-e7dd0cf99210",
   "metadata": {
    "tags": []
   },
   "outputs": [],
   "source": [
    "fig = px.histogram(df[df['T2_L'] <= 20], x = 'T2_L')\n",
    "fig.show()"
   ]
  },
  {
   "cell_type": "code",
   "execution_count": null,
   "id": "69b21895-5a63-448d-935f-769ad0054f82",
   "metadata": {
    "tags": []
   },
   "outputs": [],
   "source": [
    "fig = px.histogram(df[df['T2_R'] <= 20], x = 'T2_R')\n",
    "fig.show()"
   ]
  },
  {
   "cell_type": "code",
   "execution_count": null,
   "id": "a2418b57-b17c-4797-a265-95fe1c4bc36f",
   "metadata": {
    "tags": []
   },
   "outputs": [],
   "source": [
    "from plotly.colors import n_colors\n",
    "np.random.seed(1)\n",
    "\n",
    "# 12 sets of normal distributed random data, with increasing mean and standard deviation\n",
    "data = (np.linspace(1, 2, 12)[:, np.newaxis] * np.random.randn(12, 200) +\n",
    "            (np.arange(12) + 2 * np.random.random(12))[:, np.newaxis])\n",
    "\n",
    "colors = n_colors('rgb(5, 200, 200)', 'rgb(200, 10, 10)', 12, colortype='rgb')\n",
    "\n",
    "fig = go.Figure()\n",
    "for data_line, color in zip(data, colors):\n",
    "    fig.add_trace(go.Violin(x=data_line, line_color=color))\n",
    "\n",
    "fig.update_traces(orientation='h', side='positive', width=3, points=False)\n",
    "fig.update_layout(xaxis_showgrid=False, xaxis_zeroline=False)\n",
    "fig.show()"
   ]
  },
  {
   "cell_type": "markdown",
   "id": "056b2737-f084-4443-a320-fa15a75ba9b6",
   "metadata": {},
   "source": [
    "# Heatmap"
   ]
  },
  {
   "cell_type": "code",
   "execution_count": null,
   "id": "1783c94c-054a-40ab-8a99-1bc2e53c9281",
   "metadata": {
    "tags": []
   },
   "outputs": [],
   "source": [
    "palette_ryb = ['#00b0f0', '#ffff00', '#ff5050'] # 엇갈림구간 프로젝트의 그 삼색팔레트 : 파랑-노랑-빨강\n",
    "palette_TIT = ['#ffffff', '#ff0000'] # 환색~빨강\n",
    "#palette_bluewhite = ['#ffffff', '#0054ff'] # \n",
    "palette_TTC = ['#ff0000', '#ffffff'] # 빨강~흰색\n",
    "#palette_whiteblue = ['#0054ff', '#ffffff']\n",
    "\n",
    "\n",
    "def make_cell(x):\n",
    "    \"\"\"x 좌표를 바탕으로 소속 셀 영역 알려줌\"\"\"\n",
    "    \n",
    "    c = int(x//20)\n",
    "    \n",
    "    if c < 10:\n",
    "        c1 = 'C0' + str(c)\n",
    "    else:\n",
    "        c1 = 'C' + str(c)\n",
    "        \n",
    "    return c1\n",
    "\n",
    "\n",
    "def df_to_plotly(pv):\n",
    "    return {'z': pv.values.tolist(),\n",
    "            'y': pv['Lane Identification'].tolist(),\n",
    "            'x': pv.columns.tolist()}"
   ]
  },
  {
   "cell_type": "markdown",
   "id": "d4a08132-2233-46c8-a63e-eae54b9a908b",
   "metadata": {
    "tags": []
   },
   "source": [
    "## TTC"
   ]
  },
  {
   "cell_type": "code",
   "execution_count": null,
   "id": "5b18df12-83a1-4c26-b54e-a313dad9a88c",
   "metadata": {
    "tags": []
   },
   "outputs": [],
   "source": [
    "num = file_name[:-4]\n",
    "\n",
    "SSM = 'TTC_0'\n",
    "\n",
    "df['num'] = num\n",
    "delta_local_x = df['delta_local_x'].mean()\n",
    "df['cell'] = df.apply(lambda x: make_cell(x.local_x), axis = 1)\n",
    "\n",
    "df = df.replace({'Lane Identification' : {'U1' : 'U01', 'U2' : 'U02', 'U3' : 'U03', 'U4' : 'U04', 'U5' : 'U05', 'U51' : 'U055', 'U6' : 'U06', 'U7' : 'U07', 'U8' : 'U08', 'U9' : 'U09'}})\n",
    "\n",
    "cell_list = df['cell'].unique()\n",
    "cell_list.sort()\n",
    "cell_list = list(cell_list)\n",
    "\n",
    "df2 = df.dropna(subset = SSM)\n",
    "\n",
    "if len(df) > 0:\n",
    "\n",
    "    pv = pd.pivot_table(df2, # 셀별 속도표준편차\n",
    "               index = 'Lane Identification',\n",
    "                columns = 'cell',\n",
    "                values = [SSM],\n",
    "                aggfunc = {SSM : 'mean'})\n",
    "    \n",
    "    pv2 = pv[SSM]\n",
    "\n",
    "    for cell in cell_list:\n",
    "        if cell not in pv2.columns:\n",
    "            pv2[cell] = None # 만약 셀이 없으면 추가해야 한다.\n",
    "\n",
    "        else:\n",
    "            pass\n",
    "        \n",
    "    pv2.reset_index(inplace = True)\n",
    "    pv2 = pv2.round(3)\n",
    "    pv2 = pv2.replace(0, np.NaN) # 0을 Nan으로 교체한다.\n",
    "    \n",
    "    pv2 = pv2[cell_list + ['Lane Identification']]\n",
    "    \n",
    "    fig = go.Figure(data = go.Heatmap(df_to_plotly(pv2),\n",
    "                            colorscale = palette_TTC,\n",
    "                            texttemplate = '%{z}',\n",
    "                            textfont = {'size' : 18}\n",
    "                            #zmin = 0, zmax = 10\n",
    "                            ))\n",
    "    \n",
    "    fig.update_layout(yaxis = dict(autorange = 'reversed'), \n",
    "                      template = 'plotly_white',\n",
    "                      title = f'공사구간 : 작업활동구역 직전(완충구간) 평균 {SSM}')\n",
    "\n",
    "    fig.show()"
   ]
  },
  {
   "cell_type": "code",
   "execution_count": null,
   "id": "f52a041c-6e4f-485f-b9e6-76216495d328",
   "metadata": {
    "tags": []
   },
   "outputs": [],
   "source": [
    "pv2"
   ]
  },
  {
   "cell_type": "markdown",
   "id": "ab844360-6c26-4c68-96ec-e77db2f38a7c",
   "metadata": {},
   "source": [
    "## TIT_sum"
   ]
  },
  {
   "cell_type": "code",
   "execution_count": null,
   "id": "66f0b327-451d-41c3-8da9-1be07a883762",
   "metadata": {
    "tags": []
   },
   "outputs": [],
   "source": [
    "SSM = 'TIT_0'\n",
    "\n",
    "df['num'] = num\n",
    "\n",
    "delta_local_x = df['delta_local_x'].mean()\n",
    "df['cell'] = df.apply(lambda x: make_cell(x.local_x), axis = 1)\n",
    "\n",
    "df = df.replace({'Lane Identification' : {'U1' : 'U01', 'U2' : 'U02', 'U3' : 'U03', 'U4' : 'U04', 'U5' : 'U05', 'U51' : 'U055', 'U6' : 'U06', 'U7' : 'U07', 'U8' : 'U08', 'U9' : 'U09'}})\n",
    "\n",
    "\n",
    "cell_list = df['cell'].unique()\n",
    "cell_list.sort()\n",
    "cell_list = list(cell_list)\n",
    "\n",
    "df2 = df.dropna(subset = SSM) # SSM 기준 결측값을 제거한다\n",
    "\n",
    "if len(df) > 0:\n",
    "\n",
    "    pv = pd.pivot_table(df2,\n",
    "               index = 'Lane Identification',\n",
    "                columns = 'cell',\n",
    "                values = [SSM],\n",
    "                aggfunc = {SSM : 'sum'})\n",
    "    \n",
    "    pv2 = pv[SSM]\n",
    "\n",
    "    for cell in cell_list:\n",
    "        if cell not in pv2.columns:\n",
    "            pv2[cell] = np.NaN # 만약 셀이 없으면 추가해야 한다.\n",
    "\n",
    "        else:\n",
    "            pass\n",
    "\n",
    "    pv2.reset_index(inplace = True)\n",
    "    pv2 = pv2.round(3)\n",
    "    pv2 = pv2.replace(0, np.NaN) # 0을 Nan으로 교체한다.\n",
    "    # 컬럼을 셀 번호 이름대로 정렬해준다. 이때 절때 Heatmap의 Categoryascending을 해 주면 안된다는 것이다.\n",
    "    pv2 = pv2[cell_list + ['Lane Identification']]\n",
    "\n",
    "\n",
    "    fig = go.Figure(data = go.Heatmap(df_to_plotly(pv2),\n",
    "                            colorscale = palette_TIT,\n",
    "                            texttemplate = '%{z}',\n",
    "                            textfont = {'size' : 18}\n",
    "                            #zmin = 0, zmax = 10\n",
    "                            ))\n",
    "    \n",
    "    fig.update_layout(yaxis = dict(autorange = 'reversed'), \n",
    "                      template = 'plotly_white',\n",
    "                      title = f'공사구간 : 작업활동구역 직전(완충구간) 합 {SSM}')\n",
    "    \n",
    "    fig.show()"
   ]
  },
  {
   "cell_type": "markdown",
   "id": "70c215c6-3983-43c8-8249-980bd1bf4a42",
   "metadata": {},
   "source": [
    "## TIT_mean"
   ]
  },
  {
   "cell_type": "code",
   "execution_count": null,
   "id": "a2c9cb45-aeb1-46c7-bb0d-4f438b69ef32",
   "metadata": {
    "tags": []
   },
   "outputs": [],
   "source": [
    "SSM = 'ACTIT_min'\n",
    "\n",
    "df['num'] = num\n",
    "\n",
    "delta_local_x = df['delta_local_x'].mean()\n",
    "df['cell'] = df.apply(lambda x: make_cell(x.local_x), axis = 1)\n",
    "\n",
    "df = df.replace({'Lane Identification' : {'U1' : 'U01', 'U2' : 'U02', 'U3' : 'U03', 'U4' : 'U04', 'U5' : 'U05', 'U51' : 'U055', 'U6' : 'U06', 'U7' : 'U07', 'U8' : 'U08', 'U9' : 'U09'}})\n",
    "\n",
    "\n",
    "cell_list = df['cell'].unique()\n",
    "cell_list.sort()\n",
    "cell_list = list(cell_list)\n",
    "\n",
    "df2 = df.dropna(subset = SSM) # SSM 기준 결측값을 제거한다\n",
    "\n",
    "if len(df) > 0:\n",
    "\n",
    "    pv = pd.pivot_table(df2,\n",
    "               index = 'Lane Identification',\n",
    "                columns = 'cell',\n",
    "                values = [SSM],\n",
    "                aggfunc = {SSM : 'sum'})\n",
    "    \n",
    "    pv2 = pv[SSM]\n",
    "\n",
    "    for cell in cell_list:\n",
    "        if cell not in pv2.columns:\n",
    "            pv2[cell] = np.NaN # 만약 셀이 없으면 추가해야 한다.\n",
    "\n",
    "        else:\n",
    "            pass\n",
    "\n",
    "    pv2.reset_index(inplace = True)\n",
    "    pv2 = pv2.round(3)\n",
    "    pv2 = pv2.replace(0, np.NaN) # 0을 Nan으로 교체한다.\n",
    "    # 컬럼을 셀 번호 이름대로 정렬해준다. 이때 절때 Heatmap의 Categoryascending을 해 주면 안된다는 것이다.\n",
    "    pv2 = pv2[cell_list + ['Lane Identification']]\n",
    "    \n",
    "    \n",
    "    pv_veh = pd.pivot_table(df,\n",
    "           index = 'Lane Identification',\n",
    "            columns = 'cell',\n",
    "            values = ['Vehicle ID'],\n",
    "            aggfunc = {'Vehicle ID' : lambda x: len(x.unique())})\n",
    "\n",
    "    for cell in cell_list:\n",
    "        if cell not in pv_veh['Vehicle ID'].columns:\n",
    "            pv_veh['Vehicle ID'][cell] = None # 만약 셀이 없으면 추가해야 한다.\n",
    "\n",
    "        else:\n",
    "            pass\n",
    "\n",
    "    pv_veh = pv_veh['Vehicle ID'].reset_index()\n",
    "    pv_veh = pv_veh[cell_list + ['Lane Identification']]\n",
    "\n",
    "    pv3 = pv2[cell_list]/pv_veh[cell_list]\n",
    "    pv3['Lane Identification'] = ['U01', 'U02']\n",
    "    pv3 = pv3.round(3)\n",
    "    \n",
    "\n",
    "    fig = go.Figure(data = go.Heatmap(df_to_plotly(pv3),\n",
    "                            colorscale = palette_TIT,\n",
    "                            texttemplate = '%{z}',\n",
    "                            textfont = {'size' : 18},\n",
    "                            zmin = 0, zmax = 1\n",
    "                            ))\n",
    "    \n",
    "    fig.update_layout(yaxis = dict(autorange = 'reversed'), \n",
    "                      template = 'plotly_white',\n",
    "                      title = f'공사구간 : 작업활동구역 직전(완충구간) {SSM}')\n",
    "    \n",
    "    fig.show()"
   ]
  },
  {
   "cell_type": "code",
   "execution_count": null,
   "id": "7106721e-09dc-474d-aec4-1010e96b6de2",
   "metadata": {
    "tags": []
   },
   "outputs": [],
   "source": []
  },
  {
   "cell_type": "code",
   "execution_count": null,
   "id": "7fef76e6-5559-43bc-b148-ef4338a3bc2d",
   "metadata": {
    "tags": []
   },
   "outputs": [],
   "source": [
    "pv2"
   ]
  },
  {
   "cell_type": "code",
   "execution_count": null,
   "id": "68cb419a-8368-445c-9c10-d43cc1313b13",
   "metadata": {
    "tags": []
   },
   "outputs": [],
   "source": [
    "pv_veh"
   ]
  },
  {
   "cell_type": "markdown",
   "id": "119f8bee-8fe3-4cfc-9210-ff3d9f51298c",
   "metadata": {
    "jp-MarkdownHeadingCollapsed": true,
    "tags": []
   },
   "source": [
    "# TTC profile"
   ]
  },
  {
   "cell_type": "markdown",
   "id": "74f8daa1-46f5-4832-831a-f99b8f7125ae",
   "metadata": {},
   "source": [
    "# Coutour"
   ]
  },
  {
   "cell_type": "markdown",
   "id": "82ac59ea-c1af-4ac8-9745-c1cc2fc42885",
   "metadata": {},
   "source": [
    "# Violin"
   ]
  },
  {
   "cell_type": "code",
   "execution_count": null,
   "id": "8fd2a862-2022-42d0-9677-3a7e511292c0",
   "metadata": {
    "tags": []
   },
   "outputs": [],
   "source": [
    "df2 = df[df[SSM] <= 50]\n",
    "df2['num'] = num\n",
    "\n",
    "fig = go.Figure()\n",
    "\n",
    "fig.add_trace(go.Violin(x = df2['num'][(df2['LC_CF'] == 'CF')],\n",
    "                        y = df2[SSM][(df2['LC_CF'] == 'CF')],\n",
    "                        legendgroup = 'CF', scalegroup = 'CF', #name = num,\n",
    "                        side = 'negative',\n",
    "                        line_color = 'blue',\n",
    "                        points = False))\n",
    "\n",
    "fig.add_trace(go.Violin(x = df2['num'][(df2['LC_CF'] == 'LC')],\n",
    "                        y = df2[SSM][(df2['LC_CF'] == 'LC')],\n",
    "                        legendgroup = 'LC', scalegroup = 'LC', #name = num,\n",
    "                        side = 'positive',\n",
    "                        line_color = 'orange',\n",
    "                        points = False))\n",
    "\n",
    "fig.update_traces(meanline_visible = True) #box_visible = True\n",
    "fig.update_layout(violingap = 0, violinmode = 'overlay', showlegend = False)\n",
    "\n",
    "fig.update_layout(width = 500, height = 400,\n",
    "                  #minreducedwidth = (150 * len(df_list)), minreducedheight = 1000,\n",
    "                  #margin = dict(b = 300, t = 0, l = 0, r = 0),\n",
    "                  #plot_bgcolor = 'white',\n",
    "                  #paper_bgcolor = 'rgba(0, 0, 0, 0)',\n",
    "                  xaxis = dict(range = [-1, 1])\n",
    "                 )\n",
    "\n",
    "#fig.update_xaxes(tickangle = 90) # x축 범례 글자 90도 회전하라는 의미\n",
    "#fig.update_yaxes(range = [-0.4, 10]) # y축 범위\n",
    "fig.add_hline(y = 0, line_width = 3, line_color = 'red')\n",
    "\n",
    "fig.show()"
   ]
  }
 ],
 "metadata": {
  "kernelspec": {
   "display_name": "Python 3 (ipykernel)",
   "language": "python",
   "name": "python3"
  },
  "language_info": {
   "codemirror_mode": {
    "name": "ipython",
    "version": 3
   },
   "file_extension": ".py",
   "mimetype": "text/x-python",
   "name": "python",
   "nbconvert_exporter": "python",
   "pygments_lexer": "ipython3",
   "version": "3.8.16"
  },
  "toc-autonumbering": false,
  "toc-showmarkdowntxt": false
 },
 "nbformat": 4,
 "nbformat_minor": 5
}
